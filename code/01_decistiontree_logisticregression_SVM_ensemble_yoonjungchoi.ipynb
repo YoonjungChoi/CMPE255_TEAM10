{
 "cells": [
  {
   "cell_type": "markdown",
   "metadata": {
    "id": "G7l21GNwqGzR"
   },
   "source": [
    "# Data Split"
   ]
  },
  {
   "cell_type": "code",
   "execution_count": null,
   "metadata": {
    "id": "VO-P8ypzIQqf"
   },
   "outputs": [],
   "source": [
    "from sklearn.model_selection import train_test_split\n",
    "\n",
    "cv_train_X, cv_test_X, cv_train_Y, cv_test_y = train_test_split(cv_df, df['target'], test_size=0.30, random_state=17)\n",
    "tfidf_train_X, tfidf_test_X, tfidf_train_Y, tfidf_test_y = train_test_split(tfidf_df, df['target'], test_size=0.30, random_state=17)\n",
    "w2v_train_X, w2v_test_X, w2v_train_Y, w2v_test_y = train_test_split(w2v_df, df['target'], test_size=0.30, random_state=17)\n",
    "pca_w2v_train_X, pca_w2v_test_X, pca_w2v_train_Y, pca_w2v_test_y = train_test_split(pca_trans_w2v_df, df['target'], test_size=0.30, random_state=17)"
   ]
  },
  {
   "cell_type": "markdown",
   "metadata": {
    "id": "vUuzb2ZAqNij"
   },
   "source": [
    "# Model - SVM"
   ]
  },
  {
   "cell_type": "code",
   "execution_count": null,
   "metadata": {
    "id": "uCaehTpsJCPc"
   },
   "outputs": [],
   "source": [
    "import matplotlib.pyplot as plt\n",
    "from sklearn import svm\n",
    "from sklearn.metrics import accuracy_score\n",
    "from sklearn.model_selection import cross_val_score\n",
    "from sklearn.metrics import confusion_matrix\n",
    "import scikitplot as skplt\n",
    "from sklearn.metrics import precision_score, recall_score, f1_score, accuracy_score\n",
    "\n",
    "\n",
    " \n",
    "def model_SVM(train_X, test_X, train_y, test_y) :\n",
    "  SVM = svm.SVC()\n",
    "  SVM.fit(train_X, train_y)\n",
    "  pred_y = SVM.predict(test_X)\n",
    "\n",
    "  #Accuracy\n",
    "  print('accuracy_score: %.3f' % accuracy_score(test_y, pred_y))\n",
    "  print('Recall: %.3f' % recall_score(test_y, pred_y))\n",
    "  print('Precision: %.3f' % precision_score(test_y, pred_y))\n",
    "  print('F1 Score: %.3f' % f1_score(test_y, pred_y))"
   ]
  },
  {
   "cell_type": "markdown",
   "metadata": {
    "id": "L8tszhS_quLo"
   },
   "source": [
    "**Training three datasets on Basic SVM and Prediction/Accuracy**"
   ]
  },
  {
   "cell_type": "code",
   "execution_count": null,
   "metadata": {
    "colab": {
     "base_uri": "https://localhost:8080/"
    },
    "id": "moyZr_SFJ3r2",
    "outputId": "26e1afa9-3a0b-422a-a629-5a121bce37b6"
   },
   "outputs": [
    {
     "name": "stdout",
     "output_type": "stream",
     "text": [
      "accuracy_score: 0.799\n",
      "Recall: 0.639\n",
      "Precision: 0.864\n",
      "F1 Score: 0.735\n",
      "accuracy_score: 0.761\n",
      "Recall: 0.493\n",
      "Precision: 0.923\n",
      "F1 Score: 0.643\n",
      "accuracy_score: 0.624\n",
      "Recall: 0.163\n",
      "Precision: 0.857\n",
      "F1 Score: 0.274\n",
      "accuracy_score: 0.709\n",
      "Recall: 0.434\n",
      "Precision: 0.809\n",
      "F1 Score: 0.565\n"
     ]
    }
   ],
   "source": [
    "model_SVM(cv_train_X, cv_test_X, cv_train_Y, cv_test_y)\n",
    "#model_SVM(svd_cv_train_X, svd_cv_test_X, svd_cv_train_Y, svd_cv_test_y)\n",
    "\n",
    "model_SVM(tfidf_train_X, tfidf_test_X, tfidf_train_Y, tfidf_test_y)\n",
    "#model_SVM(svd_tfidf_train_X, svd_tfidf_test_X, svd_tfidf_train_Y, svd_tfidf_test_y)\n",
    "\n",
    "model_SVM(w2v_train_X, w2v_test_X, w2v_train_Y, w2v_test_y)\n",
    "model_SVM(pca_w2v_train_X, pca_w2v_test_X, pca_w2v_train_Y, pca_w2v_test_y)"
   ]
  },
  {
   "cell_type": "code",
   "execution_count": null,
   "metadata": {
    "colab": {
     "base_uri": "https://localhost:8080/",
     "height": 335
    },
    "id": "PSTXYx7hHktG",
    "outputId": "4d7055a3-d91c-4139-8015-b062a7db10ab"
   },
   "outputs": [
    {
     "data": {
      "image/png": "[encoded data removed]",
      "text/plain": [
       "<Figure size 720x360 with 1 Axes>"
      ]
     },
     "metadata": {
      "needs_background": "light"
     },
     "output_type": "display_data"
    }
   ],
   "source": [
    "#visualization\n",
    "\n",
    "data = {'CV':0.799, 'TD-IDF':0.761, 'W2V':0.624,'PCA_W2V':0.709}\n",
    "datatype = list(data.keys())\n",
    "acc = list(data.values())\n",
    "  \n",
    "fig = plt.figure(figsize = (10, 5))\n",
    " \n",
    "# creating the bar plot\n",
    "plt.bar(datatype, acc, width = 0.5)\n",
    " \n",
    "plt.xlabel(\"Feature Type\")\n",
    "plt.ylabel(\"Accuracy on SVM\")\n",
    "plt.show()"
   ]
  },
  {
   "cell_type": "code",
   "execution_count": null,
   "metadata": {
    "id": "GZ462PuNj2v0"
   },
   "outputs": [],
   "source": [
    "sns.lineplot(data=data)"
   ]
  },
  {
   "cell_type": "markdown",
   "metadata": {
    "id": "Ve0IQYrBuo5T"
   },
   "source": [
    "**SVM with CounterVector has higher accuracy**"
   ]
  },
  {
   "cell_type": "code",
   "execution_count": null,
   "metadata": {
    "colab": {
     "base_uri": "https://localhost:8080/",
     "height": 429
    },
    "id": "uXsXofYsuu3s",
    "outputId": "9d278cd7-66b4-4dba-ce5c-1d09ed9272a4"
   },
   "outputs": [
    {
     "name": "stdout",
     "output_type": "stream",
     "text": [
      "accuracy_score: 0.800\n",
      "Recall: 0.668\n",
      "Precision: 0.839\n",
      "F1 Score: 0.744\n"
     ]
    },
    {
     "data": {
      "image/png": "[encoded data removed]",
      "text/plain": [
       "<Figure size 360x360 with 1 Axes>"
      ]
     },
     "metadata": {},
     "output_type": "display_data"
    }
   ],
   "source": [
    "from sklearn.metrics import precision_score, recall_score, f1_score, accuracy_score\n",
    "\n",
    "def testModel(train_x, test_x, train_y, test_y, _c, _gam, _kn):\n",
    "  SVM = svm.SVC(kernel=_kn, C=_c)\n",
    "  SVM.fit(train_x, train_y)\n",
    "  pred_y = SVM.predict(test_x)\n",
    "  #Accuracy\n",
    "  print('accuracy_score: %.3f' % accuracy_score(test_y, pred_y))\n",
    "  print('Recall: %.3f' % recall_score(test_y, pred_y))\n",
    "  print('Precision: %.3f' % precision_score(test_y, pred_y))\n",
    "  print('F1 Score: %.3f' % f1_score(test_y, pred_y))\n",
    "\n",
    "\n",
    "  conf_matrix = confusion_matrix(y_true=test_y, y_pred=pred_y)\n",
    "  #\n",
    "  # Print the confusion matrix using Matplotlib\n",
    "  #\n",
    "  fig, ax = plt.subplots(figsize=(5, 5))\n",
    "  ax.matshow(conf_matrix, cmap=plt.cm.Oranges, alpha=0.3)\n",
    "  for i in range(conf_matrix.shape[0]):\n",
    "      for j in range(conf_matrix.shape[1]):\n",
    "          ax.text(x=j, y=i,s=conf_matrix[i, j], va='center', ha='center', size='xx-large')\n",
    "  \n",
    "  plt.xlabel('Predictions', fontsize=18)\n",
    "  plt.ylabel('Actuals', fontsize=18)\n",
    "  plt.title('Confusion Matrix', fontsize=18)\n",
    "  plt.show()\n",
    "\n",
    "\n",
    "'''\n",
    "To find best tuning option\n",
    "\n",
    "group_c = [5, 1, 0.1, 0.05, 0.01, 0.001]\n",
    "group_gam = [5, 1, 0.1, 0.05, 0.01, 0.001]\n",
    "\n",
    "for c in group_c:\n",
    "  print(\"C value:\", c)\n",
    "  for gam in group_gam:\n",
    "    print(\"gam value:\", gam)\n",
    "    testModel(cv_train_X, cv_test_X, cv_train_Y, cv_test_y, c, gam, 'rbf')\n",
    "'''\n",
    "#testModel(cv_train_X, cv_test_X, cv_train_Y, cv_test_y, c, gam, 'linear')\n",
    "#testModel(cv_train_X, cv_test_X, cv_train_Y, cv_test_y, c, gam, 'rbf')\n",
    "#testModel(cv_train_X, cv_test_X, cv_train_Y, cv_test_y, 1, 'auto', 'poly')\n",
    "\n",
    "testModel(cv_train_X, cv_test_X, cv_train_Y, cv_test_y, 1, 'auto', 'sigmoid')"
   ]
  },
  {
   "cell_type": "markdown",
   "metadata": {
    "id": "XH3_NJne6fB7"
   },
   "source": [
    "# *LogisticRegression*"
   ]
  },
  {
   "cell_type": "code",
   "execution_count": null,
   "metadata": {
    "id": "73oxB7Ym7AKS"
   },
   "outputs": [],
   "source": [
    "from sklearn.linear_model import LogisticRegression\n",
    "\n",
    "def model_Logistic(train_X, test_X, train_y, test_y) :\n",
    "  logisticRegr = LogisticRegression()\n",
    "  logisticRegr.fit(train_X, train_y)\n",
    "  pred_y = logisticRegr.predict(test_X)\n",
    "\n",
    "  #Accuracy\n",
    "  print('accuracy_score: %.3f' % accuracy_score(test_y, pred_y))\n",
    "  print('Recall: %.3f' % recall_score(test_y, pred_y))\n",
    "  print('Precision: %.3f' % precision_score(test_y, pred_y))\n",
    "  print('F1 Score: %.3f' % f1_score(test_y, pred_y))\n"
   ]
  },
  {
   "cell_type": "code",
   "execution_count": null,
   "metadata": {
    "colab": {
     "base_uri": "https://localhost:8080/"
    },
    "id": "5uXcHIN778al",
    "outputId": "11751c15-6ba8-43b8-a21f-ce3cc7c4fa4f"
   },
   "outputs": [
    {
     "name": "stdout",
     "output_type": "stream",
     "text": [
      "accuracy_score: 0.797\n",
      "Recall: 0.693\n",
      "Precision: 0.813\n",
      "F1 Score: 0.749\n",
      "accuracy_score: 0.776\n",
      "Recall: 0.539\n",
      "Precision: 0.908\n",
      "F1 Score: 0.677\n",
      "accuracy_score: 0.669\n",
      "Recall: 0.314\n",
      "Precision: 0.806\n",
      "F1 Score: 0.452\n",
      "accuracy_score: 0.751\n",
      "Recall: 0.603\n",
      "Precision: 0.776\n",
      "F1 Score: 0.678\n"
     ]
    },
    {
     "name": "stderr",
     "output_type": "stream",
     "text": [
      "/usr/local/lib/python3.7/dist-packages/sklearn/linear_model/_logistic.py:818: ConvergenceWarning: lbfgs failed to converge (status=1):\n",
      "STOP: TOTAL NO. of ITERATIONS REACHED LIMIT.\n",
      "\n",
      "Increase the number of iterations (max_iter) or scale the data as shown in:\n",
      "    https://scikit-learn.org/stable/modules/preprocessing.html\n",
      "Please also refer to the documentation for alternative solver options:\n",
      "    https://scikit-learn.org/stable/modules/linear_model.html#logistic-regression\n",
      "  extra_warning_msg=_LOGISTIC_SOLVER_CONVERGENCE_MSG,\n"
     ]
    }
   ],
   "source": [
    "model_Logistic(cv_train_X, cv_test_X, cv_train_Y, cv_test_y)\n",
    "model_Logistic(tfidf_train_X, tfidf_test_X, tfidf_train_Y, tfidf_test_y)\n",
    "model_Logistic(w2v_train_X, w2v_test_X, w2v_train_Y, w2v_test_y)\n",
    "model_Logistic(pca_w2v_train_X, pca_w2v_test_X, pca_w2v_train_Y, pca_w2v_test_y)"
   ]
  },
  {
   "cell_type": "markdown",
   "metadata": {
    "id": "s_FS9InpHfBU"
   },
   "source": [
    "**LogitricRegression with CountVector has better accuracy**"
   ]
  },
  {
   "cell_type": "code",
   "execution_count": null,
   "metadata": {
    "colab": {
     "base_uri": "https://localhost:8080/"
    },
    "id": "2xZQFYiwOt_I",
    "outputId": "2ce82cee-bd8b-4fb2-86d8-8941931a7c6c"
   },
   "outputs": [
    {
     "name": "stdout",
     "output_type": "stream",
     "text": [
      "\n",
      " C=10.00000\n",
      "Sparsity with L1 penalty:                53.47%\n",
      "Sparsity with L2 penalty:                20.19%\n",
      "Sparsity with Ela penalty:               38.10%\n",
      "Score with L1 penalty:                   0.782\n",
      "Score with L2 penalty:                   0.784\n",
      "Score with Ela penalty:                  0.783\n",
      "\n",
      " C=5.00000\n",
      "Sparsity with L1 penalty:                68.21%\n",
      "Sparsity with L2 penalty:                20.19%\n",
      "Sparsity with Ela penalty:               49.63%\n",
      "Score with L1 penalty:                   0.783\n",
      "Score with L2 penalty:                   0.787\n",
      "Score with Ela penalty:                  0.788\n",
      "\n",
      " C=1.00000\n",
      "Sparsity with L1 penalty:                93.60%\n",
      "Sparsity with L2 penalty:                20.19%\n",
      "Sparsity with Ela penalty:               81.05%\n",
      "Score with L1 penalty:                   0.783\n",
      "Score with L2 penalty:                   0.793\n",
      "Score with Ela penalty:                  0.789\n",
      "\n",
      " C=0.10000\n",
      "Sparsity with L1 penalty:                99.52%\n",
      "Sparsity with L2 penalty:                20.19%\n",
      "Sparsity with Ela penalty:               98.39%\n",
      "Score with L1 penalty:                   0.718\n",
      "Score with L2 penalty:                   0.797\n",
      "Score with Ela penalty:                  0.755\n",
      "\n",
      " C=0.00100\n",
      "Sparsity with L1 penalty:                100.00%\n",
      "Sparsity with L2 penalty:                20.19%\n",
      "Sparsity with Ela penalty:               100.00%\n",
      "Score with L1 penalty:                   0.565\n",
      "Score with L2 penalty:                   0.565\n",
      "Score with Ela penalty:                  0.565\n"
     ]
    }
   ],
   "source": [
    "#cv_train_X, cv_test_X, cv_train_Y, cv_test_y\n",
    "\n",
    "'''\n",
    "To find best tuning option\n",
    "\n",
    "'''\n",
    "group_c = [10, 5, 1, 0.1, 0.001]\n",
    "\n",
    "for c in group_c:\n",
    "    logistic_lasso = LogisticRegression(C=c, penalty='l1', tol=0.001, solver='saga', random_state=42,  max_iter=10000) #lasso\n",
    "    logistic_ridge = LogisticRegression(C=c, penalty='l2', tol=0.001, solver='saga', random_state=42, max_iter=10000)  #Ridge \n",
    "    l_ela = LogisticRegression(C=c, penalty='elasticnet', solver='saga', l1_ratio=0.5, tol=0.001, max_iter=10000)\n",
    "    \n",
    "    logistic_lasso.fit(cv_train_X, cv_train_Y.values.ravel())\n",
    "    logistic_ridge.fit(cv_train_X, cv_train_Y.values.ravel())\n",
    "    l_ela.fit(cv_train_X, cv_train_Y.values.ravel())\n",
    "    \n",
    "    coef_l1_LR = logistic_lasso.coef_.ravel()\n",
    "    coef_l2_LR = logistic_ridge.coef_.ravel()\n",
    "    coef_ela_LR = l_ela.coef_.ravel()\n",
    "    \n",
    "    # coef_l1_LR contains zeros due to the L1 sparsity inducing norm\n",
    "    sparsity_l1_LR = np.mean(coef_l1_LR == 0) * 100\n",
    "    sparsity_l2_LR = np.mean(coef_l2_LR == 0) * 100 \n",
    "    sparsity_l_ela = np.mean(coef_ela_LR == 0) * 100 \n",
    "\n",
    "    print(\"\\n C=%.5f\" % c)\n",
    "    print(\"{:<40} {:.2f}%\".format(\"Sparsity with L1 penalty:\", sparsity_l1_LR))\n",
    "    print(\"{:<40} {:.2f}%\".format(\"Sparsity with L2 penalty:\", sparsity_l2_LR))\n",
    "    print(\"{:<40} {:.2f}%\".format(\"Sparsity with Ela penalty:\", sparsity_l_ela))\n",
    "    print(\"{:<40} {:.3f}\".format(\"Score with L1 penalty:\", logistic_lasso.score(cv_test_X, cv_test_y.values.ravel())))  #lasso score\n",
    "    print(\"{:<40} {:.3f}\".format(\"Score with L2 penalty:\",logistic_ridge.score(cv_test_X, cv_test_y.values.ravel())))   #ridge score\n",
    "    print(\"{:<40} {:.3f}\".format(\"Score with Ela penalty:\",l_ela.score(cv_test_X, cv_test_y.values.ravel())))   #elastic score"
   ]
  },
  {
   "cell_type": "code",
   "execution_count": null,
   "metadata": {
    "colab": {
     "base_uri": "https://localhost:8080/"
    },
    "id": "qwITlyyJpPk2",
    "outputId": "28e0b530-ed4f-45f1-9e0e-e3a79b362de8"
   },
   "outputs": [
    {
     "name": "stdout",
     "output_type": "stream",
     "text": [
      "Score with L2 penalty:                   0.798\n",
      "Score with L2 penalty:                   0.799\n",
      "Score with L2 penalty:                   0.800\n",
      "Score with L2 penalty:                   0.799\n"
     ]
    }
   ],
   "source": [
    "\n",
    "logistic_ridge = LogisticRegression(C=0.1, penalty='l2', tol=0.001, solver='liblinear', random_state=42, max_iter=10000)  #Ridge \n",
    "logistic_ridge.fit(cv_train_X, cv_train_Y.values.ravel())\n",
    "print(\"{:<40} {:.3f}\".format(\"Score with L2 penalty:\",logistic_ridge.score(cv_test_X, cv_test_y.values.ravel())))   #ridge score\n",
    "\n",
    "logistic_ridge = LogisticRegression(C=0.18, penalty='l2', tol=0.001, solver='saga', random_state=42, max_iter=10000)  #Ridge \n",
    "logistic_ridge.fit(cv_train_X, cv_train_Y.values.ravel())\n",
    "print(\"{:<40} {:.3f}\".format(\"Score with L2 penalty:\",logistic_ridge.score(cv_test_X, cv_test_y.values.ravel())))   #ridge score\n",
    "\n",
    "\n",
    "logistic_ridge = LogisticRegression(C=0.15, penalty='l2', tol=0.001, solver='saga', random_state=42, max_iter=1000)  #Ridge \n",
    "logistic_ridge.fit(cv_train_X, cv_train_Y.values.ravel())\n",
    "print(\"{:<40} {:.3f}\".format(\"Score with L2 penalty:\",logistic_ridge.score(cv_test_X, cv_test_y.values.ravel())))   #ridge score\n",
    "\n",
    "\n",
    "logistic_ridge = LogisticRegression(C=0.15, penalty='l2', tol=0.001, solver='liblinear', random_state=42, max_iter=10000)  #Ridge \n",
    "logistic_ridge.fit(cv_train_X, cv_train_Y.values.ravel())\n",
    "print(\"{:<40} {:.3f}\".format(\"Score with L2 penalty:\",logistic_ridge.score(cv_test_X, cv_test_y.values.ravel())))   #ridge score\n"
   ]
  },
  {
   "cell_type": "code",
   "execution_count": null,
   "metadata": {
    "colab": {
     "base_uri": "https://localhost:8080/",
     "height": 429
    },
    "id": "3rTnusMlO8y-",
    "outputId": "c41b5f0e-4f1b-41f8-e40c-82d590c5a42d"
   },
   "outputs": [
    {
     "name": "stdout",
     "output_type": "stream",
     "text": [
      "accuracy_score: 0.800\n",
      "Recall: 0.672\n",
      "Precision: 0.837\n",
      "F1 Score: 0.746\n"
     ]
    },
    {
     "data": {
      "image/png": "[encoded data removed]",
      "text/plain": [
       "<Figure size 360x360 with 1 Axes>"
      ]
     },
     "metadata": {},
     "output_type": "display_data"
    }
   ],
   "source": [
    "''' BEST OPTION'''\n",
    "#cv_train_X, cv_test_X, cv_train_Y, cv_test_y\n",
    "\n",
    "logisticRegr = LogisticRegression(C=0.15, penalty='l2', tol=0.001, solver='saga', random_state=42, max_iter=1000)\n",
    "logisticRegr.fit(cv_train_X, cv_train_Y)\n",
    "pred_y = logisticRegr.predict(cv_test_X)\n",
    "\n",
    "#Accuracy\n",
    "print('accuracy_score: %.3f' % accuracy_score(cv_test_y, pred_y))\n",
    "print('Recall: %.3f' % recall_score(cv_test_y, pred_y))\n",
    "print('Precision: %.3f' % precision_score(cv_test_y, pred_y))\n",
    "print('F1 Score: %.3f' % f1_score(cv_test_y, pred_y))\n",
    "\n",
    "\n",
    "conf_matrix = confusion_matrix(y_true=cv_test_y, y_pred=pred_y)\n",
    "#\n",
    "# Print the confusion matrix using Matplotlib\n",
    "#\n",
    "fig, ax = plt.subplots(figsize=(5, 5))\n",
    "ax.matshow(conf_matrix, cmap=plt.cm.Oranges, alpha=0.3)\n",
    "for i in range(conf_matrix.shape[0]):\n",
    "    for j in range(conf_matrix.shape[1]):\n",
    "        ax.text(x=j, y=i,s=conf_matrix[i, j], va='center', ha='center', size='xx-large')\n",
    "\n",
    "plt.xlabel('Predictions', fontsize=18)\n",
    "plt.ylabel('Actuals', fontsize=18)\n",
    "plt.title('Confusion Matrix', fontsize=18)\n",
    "plt.show()\n"
   ]
  },
  {
   "cell_type": "markdown",
   "metadata": {
    "id": "o5IcasT28y_X"
   },
   "source": [
    "# DecisionTree"
   ]
  },
  {
   "cell_type": "code",
   "execution_count": null,
   "metadata": {
    "id": "5SJ2skzR82Px"
   },
   "outputs": [],
   "source": [
    "from sklearn.tree import DecisionTreeClassifier\n",
    "from sklearn import tree\n",
    "\n",
    "def model_DT (train_X, test_X, train_y, test_y) :\n",
    "  clf = DecisionTreeClassifier()\n",
    "  clf.fit(train_X, train_y)\n",
    "  pred_y = clf.predict(test_X)\n",
    "  #Accuracy\n",
    "  print('accuracy_score: %.3f' % accuracy_score(test_y, pred_y))\n",
    "  print('Recall: %.3f' % recall_score(test_y, pred_y))\n",
    "  print('Precision: %.3f' % precision_score(test_y, pred_y))\n",
    "  print('F1 Score: %.3f' % f1_score(test_y, pred_y))\n"
   ]
  },
  {
   "cell_type": "code",
   "execution_count": null,
   "metadata": {
    "colab": {
     "base_uri": "https://localhost:8080/"
    },
    "id": "PNx8RCIl9u_M",
    "outputId": "ab3dcc1b-b0c3-4ef2-e769-b7f222fa8859"
   },
   "outputs": [
    {
     "name": "stdout",
     "output_type": "stream",
     "text": [
      "accuracy_score: 0.749\n",
      "Recall: 0.671\n",
      "Precision: 0.731\n",
      "F1 Score: 0.700\n",
      "accuracy_score: 0.752\n",
      "Recall: 0.684\n",
      "Precision: 0.730\n",
      "F1 Score: 0.706\n",
      "accuracy_score: 0.665\n",
      "Recall: 0.616\n",
      "Precision: 0.614\n",
      "F1 Score: 0.615\n",
      "accuracy_score: 0.683\n",
      "Recall: 0.621\n",
      "Precision: 0.640\n",
      "F1 Score: 0.630\n"
     ]
    }
   ],
   "source": [
    "model_DT(cv_train_X, cv_test_X, cv_train_Y, cv_test_y)\n",
    "model_DT(tfidf_train_X, tfidf_test_X, tfidf_train_Y, tfidf_test_y)\n",
    "model_DT(w2v_train_X, w2v_test_X, w2v_train_Y, w2v_test_y)\n",
    "model_DT(pca_w2v_train_X, pca_w2v_test_X, pca_w2v_train_Y, pca_w2v_test_y)"
   ]
  },
  {
   "cell_type": "markdown",
   "metadata": {
    "id": "7RP3FFgz9-Mv"
   },
   "source": [
    "**Decision Tree with Td-Idf is higher accuracy.**"
   ]
  },
  {
   "cell_type": "code",
   "execution_count": null,
   "metadata": {
    "colab": {
     "base_uri": "https://localhost:8080/"
    },
    "id": "kseLMuXe93u7",
    "outputId": "8cb1f735-0a88-4d72-e584-dcace7ca861a"
   },
   "outputs": [
    {
     "name": "stdout",
     "output_type": "stream",
     "text": [
      "\n",
      "gini accuracy_score: 0.737\n",
      "gini accuracy_score: 0.740\n",
      "gini accuracy_score: 0.731\n",
      "gini accuracy_score: 0.736\n",
      "gini accuracy_score: 0.731\n",
      "gini accuracy_score: 0.743\n",
      "gini accuracy_score: 0.735\n"
     ]
    }
   ],
   "source": [
    "'''def test_dt(x_train, x_test, y_train, y_test) :\n",
    "    print()\n",
    "    for c_depth in [2, 4, 6, 8, 10, 12, 20, 30, None] : \n",
    "        print(\"model selection depth = {0}\".format(c_depth))\n",
    "        clf_gini = DecisionTreeClassifier(criterion='gini', max_depth=c_depth)\n",
    "        clf_gini.fit(x_train, y_train)\n",
    "        y_pred = clf_gini.predict(x_test)\n",
    "        print('gini accuracy_score: %.3f' % accuracy_score(y_test, y_pred))\n",
    "\n",
    "        clf_gini = DecisionTreeClassifier(criterion='entropy', max_depth=c_depth)\n",
    "        clf_gini.fit(x_train, y_train)\n",
    "        y_pred = clf_gini.predict(x_test)\n",
    "        print('entropy accuracy_score: %.3f' % accuracy_score(y_test, y_pred))'''\n",
    "\n",
    "def test_dt(x_train, x_test, y_train, y_test) :\n",
    "    print()\n",
    "    for min_sp in [2, 4, 6, 8, 10, 12, 20] : \n",
    "    clf_gini = DecisionTreeClassifier(criterion='gini', min_samples_split=min_sp)\n",
    "    clf_gini.fit(x_train, y_train)\n",
    "    y_pred = clf_gini.predict(x_test)\n",
    "    print('gini accuracy_score: %.3f' % accuracy_score(y_test, y_pred))\n",
    "\n",
    "test_dt(tfidf_train_X, tfidf_test_X, tfidf_train_Y, tfidf_test_y)"
   ]
  },
  {
   "cell_type": "code",
   "execution_count": null,
   "metadata": {
    "colab": {
     "base_uri": "https://localhost:8080/",
     "height": 429
    },
    "id": "9pSYv8ot_E19",
    "outputId": "473fd872-e599-4778-c359-91ff63489010"
   },
   "outputs": [
    {
     "name": "stdout",
     "output_type": "stream",
     "text": [
      "accuracy_score: 0.756\n",
      "Recall: 0.675\n",
      "Precision: 0.741\n",
      "F1 Score: 0.706\n"
     ]
    },
    {
     "data": {
      "image/png": "[encoded data removed]",
      "text/plain": [
       "<Figure size 360x360 with 1 Axes>"
      ]
     },
     "metadata": {},
     "output_type": "display_data"
    }
   ],
   "source": [
    "#test_dt(tfidf_train_X, tfidf_test_X, tfidf_train_Y, tfidf_test_y)\n",
    "'''\n",
    "def __init__(*, criterion='gini', splitter='best', max_depth=None, min_samples_split=2, \n",
    "min_samples_leaf=1, min_weight_fraction_leaf=0.0, max_features=None, random_state=None, \n",
    "max_leaf_nodes=None, min_impurity_decrease=0.0, class_weight=None, ccp_alpha=0.0)\n",
    "'''\n",
    "\n",
    "\n",
    "clf = DecisionTreeClassifier(min_samples_split=8)\n",
    "clf.fit(tfidf_train_X, tfidf_train_Y)\n",
    "pred_y = clf.predict(tfidf_test_X)\n",
    "\n",
    "#Accuracy\n",
    "print('accuracy_score: %.3f' % accuracy_score(tfidf_test_y, pred_y))\n",
    "print('Recall: %.3f' % recall_score(tfidf_test_y, pred_y))\n",
    "print('Precision: %.3f' % precision_score(tfidf_test_y, pred_y))\n",
    "print('F1 Score: %.3f' % f1_score(tfidf_test_y, pred_y))\n",
    "\n",
    "\n",
    "conf_matrix = confusion_matrix(y_true=tfidf_test_y, y_pred=pred_y)\n",
    "#\n",
    "# Print the confusion matrix using Matplotlib\n",
    "#\n",
    "fig, ax = plt.subplots(figsize=(5, 5))\n",
    "ax.matshow(conf_matrix, cmap=plt.cm.Oranges, alpha=0.3)\n",
    "for i in range(conf_matrix.shape[0]):\n",
    "    for j in range(conf_matrix.shape[1]):\n",
    "        ax.text(x=j, y=i,s=conf_matrix[i, j], va='center', ha='center', size='xx-large')\n",
    "\n",
    "plt.xlabel('Predictions', fontsize=18)\n",
    "plt.ylabel('Actuals', fontsize=18)\n",
    "plt.title('Confusion Matrix', fontsize=18)\n",
    "plt.show()\n"
   ]
  },
  {
   "cell_type": "markdown",
   "metadata": {
    "id": "6diDRbfBCzUw"
   },
   "source": [
    "# Ensemble Method (SVM, LogisticRegr, DecistionTree)"
   ]
  },
  {
   "cell_type": "markdown",
   "metadata": {
    "id": "UBKqtF6VJyWt"
   },
   "source": [
    "**CountVector**"
   ]
  },
  {
   "cell_type": "code",
   "execution_count": null,
   "metadata": {
    "colab": {
     "base_uri": "https://localhost:8080/",
     "height": 429
    },
    "id": "PUT2dqsyMVPd",
    "outputId": "e97e90c5-1206-41b5-f05f-841e6c7494a7"
   },
   "outputs": [
    {
     "name": "stdout",
     "output_type": "stream",
     "text": [
      "Hard Voting Score 0.805\n",
      "Recall: 0.679\n",
      "Precision: 0.843\n",
      "F1 Score: 0.752\n"
     ]
    },
    {
     "data": {
      "image/png": "[encoded data removed]",
      "text/plain": [
       "<Figure size 360x360 with 1 Axes>"
      ]
     },
     "metadata": {},
     "output_type": "display_data"
    }
   ],
   "source": [
    "from sklearn.ensemble import VotingClassifier\n",
    "'''\n",
    "cv_train_X, cv_test_X, cv_train_Y, cv_test_y = train_test_split(cv_df, df['target'], test_size=0.30, random_state=17)\n",
    "'''\n",
    "\n",
    "ensembleModels = []\n",
    "ensembleModels.append(('LR',  LogisticRegression(C=0.15, penalty='l2', tol=0.001, solver='saga', random_state=42, max_iter=1000)))\n",
    "ensembleModels.append(('SVM', svm.SVC(kernel='sigmoid',probability = True)))\n",
    "ensembleModels.append(('DT', DecisionTreeClassifier(min_samples_split=8)))\n",
    "  \n",
    "# Voting Classifier with hard voting\n",
    "vot_hard = VotingClassifier(estimators = ensembleModels, voting ='hard')\n",
    "vot_hard.fit(cv_train_X, cv_train_Y)\n",
    "pred_y = vot_hard.predict(cv_test_X)\n",
    "  \n",
    "# using accuracy_score metric to predict accuracy\n",
    "score = accuracy_score(cv_test_y, pred_y)\n",
    "print(\"Hard Voting Score %.3f\" % score)\n",
    "print('Recall: %.3f' % recall_score(cv_test_y, pred_y))\n",
    "print('Precision: %.3f' % precision_score(cv_test_y, pred_y))\n",
    "print('F1 Score: %.3f' % f1_score(cv_test_y, pred_y))\n",
    "\n",
    "conf_matrix = confusion_matrix(y_true=cv_test_y, y_pred=pred_y)\n",
    "#\n",
    "# Print the confusion matrix using Matplotlib\n",
    "#\n",
    "fig, ax = plt.subplots(figsize=(5, 5))\n",
    "ax.matshow(conf_matrix, cmap=plt.cm.Oranges, alpha=0.3)\n",
    "for i in range(conf_matrix.shape[0]):\n",
    "    for j in range(conf_matrix.shape[1]):\n",
    "        ax.text(x=j, y=i,s=conf_matrix[i, j], va='center', ha='center', size='xx-large')\n",
    "\n",
    "plt.xlabel('Predictions', fontsize=18)\n",
    "plt.ylabel('Actuals', fontsize=18)\n",
    "plt.title('Confusion Matrix', fontsize=18)\n",
    "plt.show()"
   ]
  },
  {
   "cell_type": "markdown",
   "metadata": {
    "id": "r8AxWIHAYcI-"
   },
   "source": [
    "**TF-IDF**"
   ]
  },
  {
   "cell_type": "code",
   "execution_count": null,
   "metadata": {
    "colab": {
     "base_uri": "https://localhost:8080/",
     "height": 429
    },
    "id": "M9oLJMuhVLvh",
    "outputId": "b1442595-e056-4a29-8235-ac3fc60448e0"
   },
   "outputs": [
    {
     "name": "stdout",
     "output_type": "stream",
     "text": [
      "Hard Voting Score 0.785\n",
      "Recall: 0.570\n",
      "Precision: 0.897\n",
      "F1 Score: 0.697\n"
     ]
    },
    {
     "data": {
      "image/png": "[encoded data removed]",
      "text/plain": [
       "<Figure size 360x360 with 1 Axes>"
      ]
     },
     "metadata": {},
     "output_type": "display_data"
    }
   ],
   "source": [
    "\n",
    "'''\n",
    "tfidf_train_X, tfidf_test_X, tfidf_train_Y, tfidf_test_y = train_test_split(tfidf_df, df['target'], test_size=0.30, random_state=17)\n",
    "'''\n",
    "\n",
    "ensembleModels = []\n",
    "ensembleModels.append(('LR',  LogisticRegression(C=0.15, penalty='l2', tol=0.001, solver='saga', random_state=42, max_iter=1000)))\n",
    "ensembleModels.append(('SVM', svm.SVC(kernel='sigmoid',probability = True)))\n",
    "ensembleModels.append(('DT', DecisionTreeClassifier(min_samples_split=8)))\n",
    "  \n",
    "  \n",
    "# Voting Classifier with hard voting\n",
    "vot_hard = VotingClassifier(estimators = ensembleModels, voting ='hard')\n",
    "vot_hard.fit(tfidf_train_X, tfidf_train_Y)\n",
    "pred_y = vot_hard.predict(tfidf_test_X)\n",
    "  \n",
    "# using accuracy_score metric to predict accuracy\n",
    "score = accuracy_score(tfidf_test_y, pred_y)\n",
    "print(\"Hard Voting Score %.3f\" % score)\n",
    "print('Recall: %.3f' % recall_score(tfidf_test_y, pred_y))\n",
    "print('Precision: %.3f' % precision_score(tfidf_test_y, pred_y))\n",
    "print('F1 Score: %.3f' % f1_score(tfidf_test_y, pred_y))\n",
    "\n",
    "conf_matrix = confusion_matrix(y_true=tfidf_test_y, y_pred=pred_y)\n",
    "#\n",
    "# Print the confusion matrix using Matplotlib\n",
    "#\n",
    "fig, ax = plt.subplots(figsize=(5, 5))\n",
    "ax.matshow(conf_matrix, cmap=plt.cm.Oranges, alpha=0.3)\n",
    "for i in range(conf_matrix.shape[0]):\n",
    "    for j in range(conf_matrix.shape[1]):\n",
    "        ax.text(x=j, y=i,s=conf_matrix[i, j], va='center', ha='center', size='xx-large')\n",
    "\n",
    "plt.xlabel('Predictions', fontsize=18)\n",
    "plt.ylabel('Actuals', fontsize=18)\n",
    "plt.title('Confusion Matrix', fontsize=18)\n",
    "plt.show()"
   ]
  },
  {
   "cell_type": "code",
   "execution_count": null,
   "metadata": {
    "colab": {
     "base_uri": "https://localhost:8080/",
     "height": 429
    },
    "id": "waCuyCMZYgLk",
    "outputId": "e1a279cd-ed37-4edb-fc0e-993828923461"
   },
   "outputs": [
    {
     "name": "stdout",
     "output_type": "stream",
     "text": [
      "Hard Voting Score 0.626\n",
      "Recall: 0.194\n",
      "Precision: 0.785\n",
      "F1 Score: 0.311\n"
     ]
    },
    {
     "data": {
      "image/png": "[encoded data removed]",
      "text/plain": [
       "<Figure size 360x360 with 1 Axes>"
      ]
     },
     "metadata": {},
     "output_type": "display_data"
    }
   ],
   "source": [
    "\n",
    "'''\n",
    "w2v_train_X, w2v_test_X, w2v_train_Y, w2v_test_y = train_test_split(w2v_df, df['target'], test_size=0.30, random_state=17)\n",
    "'''\n",
    "\n",
    "ensembleModels = []\n",
    "ensembleModels.append(('LR',  LogisticRegression(C=0.15, penalty='l2', tol=0.001, solver='saga', random_state=42, max_iter=1000)))\n",
    "ensembleModels.append(('SVM', svm.SVC(kernel='sigmoid',probability = True)))\n",
    "ensembleModels.append(('DT', DecisionTreeClassifier(min_samples_split=8)))\n",
    "  \n",
    "# Voting Classifier with hard voting\n",
    "vot_hard = VotingClassifier(estimators = ensembleModels, voting ='hard')\n",
    "vot_hard.fit(w2v_train_X, w2v_train_Y)\n",
    "pred_y = vot_hard.predict(w2v_test_X)\n",
    "  \n",
    "# using accuracy_score metric to predict accuracy\n",
    "score = accuracy_score(w2v_test_y, pred_y)\n",
    "print(\"Hard Voting Score %.3f\" % score)\n",
    "print('Recall: %.3f' % recall_score(w2v_test_y, pred_y))\n",
    "print('Precision: %.3f' % precision_score(w2v_test_y, pred_y))\n",
    "print('F1 Score: %.3f' % f1_score(w2v_test_y, pred_y))\n",
    "\n",
    "conf_matrix = confusion_matrix(y_true=w2v_test_y, y_pred=pred_y)\n",
    "#\n",
    "# Print the confusion matrix using Matplotlib\n",
    "#\n",
    "fig, ax = plt.subplots(figsize=(5, 5))\n",
    "ax.matshow(conf_matrix, cmap=plt.cm.Oranges, alpha=0.3)\n",
    "for i in range(conf_matrix.shape[0]):\n",
    "    for j in range(conf_matrix.shape[1]):\n",
    "        ax.text(x=j, y=i,s=conf_matrix[i, j], va='center', ha='center', size='xx-large')\n",
    "\n",
    "plt.xlabel('Predictions', fontsize=18)\n",
    "plt.ylabel('Actuals', fontsize=18)\n",
    "plt.title('Confusion Matrix', fontsize=18)\n",
    "plt.show()"
   ]
  }
 ],
 "metadata": {
  "colab": {
   "collapsed_sections": [
    "HcFXtJbcwb0y",
    "3re5F1Xh7ROT",
    "Q2AwUyC_3zOx",
    "x9r55LFx7J4_",
    "1i4lWhyTPBX5",
    "FzIQGnq-8sfU",
    "G7l21GNwqGzR",
    "vUuzb2ZAqNij",
    "o5IcasT28y_X",
    "6diDRbfBCzUw"
   ],
   "name": "NLP.ipynb",
   "provenance": []
  },
  "kernelspec": {
   "display_name": "Python 3 (ipykernel)",
   "language": "python",
   "name": "python3"
  },
  "language_info": {
   "codemirror_mode": {
    "name": "ipython",
    "version": 3
   },
   "file_extension": ".py",
   "mimetype": "text/x-python",
   "name": "python",
   "nbconvert_exporter": "python",
   "pygments_lexer": "ipython3",
   "version": "3.8.12"
  }
 },
 "nbformat": 4,
 "nbformat_minor": 4
}
