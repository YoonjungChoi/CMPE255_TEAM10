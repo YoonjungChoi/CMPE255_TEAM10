{
 "cells": [
  {
   "cell_type": "markdown",
   "metadata": {
    "id": "HcFXtJbcwb0y",
    "jp-MarkdownHeadingCollapsed": true,
    "tags": []
   },
   "source": [
    "# Pre Loading Libraries"
   ]
  },
  {
   "cell_type": "code",
   "execution_count": 323,
   "metadata": {
    "colab": {
     "base_uri": "https://localhost:8080/"
    },
    "id": "EUEX1WmL2u2j",
    "outputId": "4b4f7c54-04c9-4fd4-d453-c6a051965974"
   },
   "outputs": [
    {
     "name": "stdout",
     "output_type": "stream",
     "text": [
      "[nltk_data] Downloading package punkt to /root/nltk_data...\n",
      "[nltk_data]   Package punkt is already up-to-date!\n",
      "[nltk_data] Downloading package stopwords to /root/nltk_data...\n",
      "[nltk_data]   Package stopwords is already up-to-date!\n",
      "[nltk_data] Downloading package wordnet to /root/nltk_data...\n",
      "[nltk_data]   Package wordnet is already up-to-date!\n",
      "[nltk_data] Downloading package averaged_perceptron_tagger to\n",
      "[nltk_data]     /root/nltk_data...\n",
      "[nltk_data]   Package averaged_perceptron_tagger is already up-to-\n",
      "[nltk_data]       date!\n"
     ]
    },
    {
     "data": {
      "text/plain": [
       "True"
      ]
     },
     "execution_count": 323,
     "metadata": {},
     "output_type": "execute_result"
    }
   ],
   "source": [
    "from keras.preprocessing.text import Tokenizer\n",
    "import pandas as pd\n",
    "import matplotlib.pyplot as plt\n",
    "from sklearn.feature_extraction.text import CountVectorizer\n",
    "from sklearn.feature_extraction.text import TfidfVectorizer\n",
    "from sklearn.model_selection import train_test_split\n",
    "\n",
    "from collections import Counter\n",
    "from pathlib import Path\n",
    "import os\n",
    "import numpy as np\n",
    "import re\n",
    "import string\n",
    "import nltk\n",
    "nltk.download('punkt')\n",
    "from nltk.tokenize import word_tokenize\n",
    "from nltk.corpus import stopwords\n",
    "nltk.download('stopwords')\n",
    "from nltk.stem.porter import PorterStemmer\n",
    "from nltk.stem import WordNetLemmatizer\n",
    "nltk.download('wordnet')\n",
    "from nltk.corpus import wordnet\n",
    "import unicodedata\n",
    "import html\n",
    "stop_words = stopwords.words('english')\n",
    "nltk.download('averaged_perceptron_tagger')"
   ]
  },
  {
   "cell_type": "markdown",
   "metadata": {
    "id": "3re5F1Xh7ROT",
    "tags": []
   },
   "source": [
    "# Data Loading & Exploration"
   ]
  },
  {
   "cell_type": "code",
   "execution_count": 324,
   "metadata": {
    "colab": {
     "base_uri": "https://localhost:8080/",
     "height": 0
    },
    "id": "-tlb7wKv2w7J",
    "outputId": "2d9995a2-68d7-4684-b434-fe3cf10432a8"
   },
   "outputs": [
    {
     "data": {
      "text/html": [
       "\n",
       "  <div id=\"df-243208fa-8e6b-4224-95d4-b3656b69a75b\">\n",
       "    <div class=\"colab-df-container\">\n",
       "      <div>\n",
       "<style scoped>\n",
       "    .dataframe tbody tr th:only-of-type {\n",
       "        vertical-align: middle;\n",
       "    }\n",
       "\n",
       "    .dataframe tbody tr th {\n",
       "        vertical-align: top;\n",
       "    }\n",
       "\n",
       "    .dataframe thead th {\n",
       "        text-align: right;\n",
       "    }\n",
       "</style>\n",
       "<table border=\"1\" class=\"dataframe\">\n",
       "  <thead>\n",
       "    <tr style=\"text-align: right;\">\n",
       "      <th></th>\n",
       "      <th>id</th>\n",
       "      <th>keyword</th>\n",
       "      <th>location</th>\n",
       "      <th>text</th>\n",
       "      <th>target</th>\n",
       "    </tr>\n",
       "  </thead>\n",
       "  <tbody>\n",
       "    <tr>\n",
       "      <th>0</th>\n",
       "      <td>1</td>\n",
       "      <td>NaN</td>\n",
       "      <td>NaN</td>\n",
       "      <td>Our Deeds are the Reason of this #earthquake M...</td>\n",
       "      <td>1</td>\n",
       "    </tr>\n",
       "    <tr>\n",
       "      <th>1</th>\n",
       "      <td>4</td>\n",
       "      <td>NaN</td>\n",
       "      <td>NaN</td>\n",
       "      <td>Forest fire near La Ronge Sask. Canada</td>\n",
       "      <td>1</td>\n",
       "    </tr>\n",
       "    <tr>\n",
       "      <th>2</th>\n",
       "      <td>5</td>\n",
       "      <td>NaN</td>\n",
       "      <td>NaN</td>\n",
       "      <td>All residents asked to 'shelter in place' are ...</td>\n",
       "      <td>1</td>\n",
       "    </tr>\n",
       "    <tr>\n",
       "      <th>3</th>\n",
       "      <td>6</td>\n",
       "      <td>NaN</td>\n",
       "      <td>NaN</td>\n",
       "      <td>13,000 people receive #wildfires evacuation or...</td>\n",
       "      <td>1</td>\n",
       "    </tr>\n",
       "    <tr>\n",
       "      <th>4</th>\n",
       "      <td>7</td>\n",
       "      <td>NaN</td>\n",
       "      <td>NaN</td>\n",
       "      <td>Just got sent this photo from Ruby #Alaska as ...</td>\n",
       "      <td>1</td>\n",
       "    </tr>\n",
       "    <tr>\n",
       "      <th>...</th>\n",
       "      <td>...</td>\n",
       "      <td>...</td>\n",
       "      <td>...</td>\n",
       "      <td>...</td>\n",
       "      <td>...</td>\n",
       "    </tr>\n",
       "    <tr>\n",
       "      <th>95</th>\n",
       "      <td>137</td>\n",
       "      <td>accident</td>\n",
       "      <td>Charlotte</td>\n",
       "      <td>9 Mile backup on I-77 South...accident blockin...</td>\n",
       "      <td>1</td>\n",
       "    </tr>\n",
       "    <tr>\n",
       "      <th>96</th>\n",
       "      <td>138</td>\n",
       "      <td>accident</td>\n",
       "      <td>Baton Rouge, LA</td>\n",
       "      <td>Has an accident changed your life? We will hel...</td>\n",
       "      <td>0</td>\n",
       "    </tr>\n",
       "    <tr>\n",
       "      <th>97</th>\n",
       "      <td>139</td>\n",
       "      <td>accident</td>\n",
       "      <td>Hagerstown, MD</td>\n",
       "      <td>#BREAKING: there was a deadly motorcycle car a...</td>\n",
       "      <td>1</td>\n",
       "    </tr>\n",
       "    <tr>\n",
       "      <th>98</th>\n",
       "      <td>141</td>\n",
       "      <td>accident</td>\n",
       "      <td>Gloucestershire , UK</td>\n",
       "      <td>@flowri were you marinading it or was it an ac...</td>\n",
       "      <td>0</td>\n",
       "    </tr>\n",
       "    <tr>\n",
       "      <th>99</th>\n",
       "      <td>143</td>\n",
       "      <td>accident</td>\n",
       "      <td>NaN</td>\n",
       "      <td>only had a car for not even a week and got in ...</td>\n",
       "      <td>1</td>\n",
       "    </tr>\n",
       "  </tbody>\n",
       "</table>\n",
       "<p>100 rows × 5 columns</p>\n",
       "</div>\n",
       "      <button class=\"colab-df-convert\" onclick=\"convertToInteractive('df-243208fa-8e6b-4224-95d4-b3656b69a75b')\"\n",
       "              title=\"Convert this dataframe to an interactive table.\"\n",
       "              style=\"display:none;\">\n",
       "        \n",
       "  <svg xmlns=\"http://www.w3.org/2000/svg\" height=\"24px\"viewBox=\"0 0 24 24\"\n",
       "       width=\"24px\">\n",
       "    <path d=\"M0 0h24v24H0V0z\" fill=\"none\"/>\n",
       "    <path d=\"M18.56 5.44l.94 2.06.94-2.06 2.06-.94-2.06-.94-.94-2.06-.94 2.06-2.06.94zm-11 1L8.5 8.5l.94-2.06 2.06-.94-2.06-.94L8.5 2.5l-.94 2.06-2.06.94zm10 10l.94 2.06.94-2.06 2.06-.94-2.06-.94-.94-2.06-.94 2.06-2.06.94z\"/><path d=\"M17.41 7.96l-1.37-1.37c-.4-.4-.92-.59-1.43-.59-.52 0-1.04.2-1.43.59L10.3 9.45l-7.72 7.72c-.78.78-.78 2.05 0 2.83L4 21.41c.39.39.9.59 1.41.59.51 0 1.02-.2 1.41-.59l7.78-7.78 2.81-2.81c.8-.78.8-2.07 0-2.86zM5.41 20L4 18.59l7.72-7.72 1.47 1.35L5.41 20z\"/>\n",
       "  </svg>\n",
       "      </button>\n",
       "      \n",
       "  <style>\n",
       "    .colab-df-container {\n",
       "      display:flex;\n",
       "      flex-wrap:wrap;\n",
       "      gap: 12px;\n",
       "    }\n",
       "\n",
       "    .colab-df-convert {\n",
       "      background-color: #E8F0FE;\n",
       "      border: none;\n",
       "      border-radius: 50%;\n",
       "      cursor: pointer;\n",
       "      display: none;\n",
       "      fill: #1967D2;\n",
       "      height: 32px;\n",
       "      padding: 0 0 0 0;\n",
       "      width: 32px;\n",
       "    }\n",
       "\n",
       "    .colab-df-convert:hover {\n",
       "      background-color: #E2EBFA;\n",
       "      box-shadow: 0px 1px 2px rgba(60, 64, 67, 0.3), 0px 1px 3px 1px rgba(60, 64, 67, 0.15);\n",
       "      fill: #174EA6;\n",
       "    }\n",
       "\n",
       "    [theme=dark] .colab-df-convert {\n",
       "      background-color: #3B4455;\n",
       "      fill: #D2E3FC;\n",
       "    }\n",
       "\n",
       "    [theme=dark] .colab-df-convert:hover {\n",
       "      background-color: #434B5C;\n",
       "      box-shadow: 0px 1px 3px 1px rgba(0, 0, 0, 0.15);\n",
       "      filter: drop-shadow(0px 1px 2px rgba(0, 0, 0, 0.3));\n",
       "      fill: #FFFFFF;\n",
       "    }\n",
       "  </style>\n",
       "\n",
       "      <script>\n",
       "        const buttonEl =\n",
       "          document.querySelector('#df-243208fa-8e6b-4224-95d4-b3656b69a75b button.colab-df-convert');\n",
       "        buttonEl.style.display =\n",
       "          google.colab.kernel.accessAllowed ? 'block' : 'none';\n",
       "\n",
       "        async function convertToInteractive(key) {\n",
       "          const element = document.querySelector('#df-243208fa-8e6b-4224-95d4-b3656b69a75b');\n",
       "          const dataTable =\n",
       "            await google.colab.kernel.invokeFunction('convertToInteractive',\n",
       "                                                     [key], {});\n",
       "          if (!dataTable) return;\n",
       "\n",
       "          const docLinkHtml = 'Like what you see? Visit the ' +\n",
       "            '<a target=\"_blank\" href=https://colab.research.google.com/notebooks/data_table.ipynb>data table notebook</a>'\n",
       "            + ' to learn more about interactive tables.';\n",
       "          element.innerHTML = '';\n",
       "          dataTable['output_type'] = 'display_data';\n",
       "          await google.colab.output.renderOutput(dataTable, element);\n",
       "          const docLink = document.createElement('div');\n",
       "          docLink.innerHTML = docLinkHtml;\n",
       "          element.appendChild(docLink);\n",
       "        }\n",
       "      </script>\n",
       "    </div>\n",
       "  </div>\n",
       "  "
      ],
      "text/plain": [
       "     id   keyword              location  \\\n",
       "0     1       NaN                   NaN   \n",
       "1     4       NaN                   NaN   \n",
       "2     5       NaN                   NaN   \n",
       "3     6       NaN                   NaN   \n",
       "4     7       NaN                   NaN   \n",
       "..  ...       ...                   ...   \n",
       "95  137  accident             Charlotte   \n",
       "96  138  accident       Baton Rouge, LA   \n",
       "97  139  accident        Hagerstown, MD   \n",
       "98  141  accident  Gloucestershire , UK   \n",
       "99  143  accident                   NaN   \n",
       "\n",
       "                                                 text  target  \n",
       "0   Our Deeds are the Reason of this #earthquake M...       1  \n",
       "1              Forest fire near La Ronge Sask. Canada       1  \n",
       "2   All residents asked to 'shelter in place' are ...       1  \n",
       "3   13,000 people receive #wildfires evacuation or...       1  \n",
       "4   Just got sent this photo from Ruby #Alaska as ...       1  \n",
       "..                                                ...     ...  \n",
       "95  9 Mile backup on I-77 South...accident blockin...       1  \n",
       "96  Has an accident changed your life? We will hel...       0  \n",
       "97  #BREAKING: there was a deadly motorcycle car a...       1  \n",
       "98  @flowri were you marinading it or was it an ac...       0  \n",
       "99  only had a car for not even a week and got in ...       1  \n",
       "\n",
       "[100 rows x 5 columns]"
      ]
     },
     "metadata": {},
     "output_type": "display_data"
    },
    {
     "name": "stdout",
     "output_type": "stream",
     "text": [
      "<class 'pandas.core.frame.DataFrame'>\n",
      "RangeIndex: 7613 entries, 0 to 7612\n",
      "Data columns (total 5 columns):\n",
      " #   Column    Non-Null Count  Dtype \n",
      "---  ------    --------------  ----- \n",
      " 0   id        7613 non-null   int64 \n",
      " 1   keyword   7552 non-null   object\n",
      " 2   location  5080 non-null   object\n",
      " 3   text      7613 non-null   object\n",
      " 4   target    7613 non-null   int64 \n",
      "dtypes: int64(2), object(3)\n",
      "memory usage: 297.5+ KB\n"
     ]
    },
    {
     "data": {
      "text/plain": [
       "None"
      ]
     },
     "metadata": {},
     "output_type": "display_data"
    }
   ],
   "source": [
    "df = pd.read_csv('train.csv')\n",
    "display(df.head(100))\n",
    "display(df.info())"
   ]
  },
  {
   "cell_type": "code",
   "execution_count": 325,
   "metadata": {
    "colab": {
     "base_uri": "https://localhost:8080/",
     "height": 0
    },
    "id": "ya9e_tjM3KsA",
    "outputId": "21edd847-264a-4f6a-835d-acbeba6f247b"
   },
   "outputs": [
    {
     "data": {
      "text/plain": [
       "<matplotlib.axes._subplots.AxesSubplot at 0x7f3b4cca4890>"
      ]
     },
     "execution_count": 325,
     "metadata": {},
     "output_type": "execute_result"
    },
    {
     "data": {
      "image/png": "[encoded data removed]",
      "text/plain": [
       "<Figure size 432x288 with 1 Axes>"
      ]
     },
     "metadata": {
      "needs_background": "light"
     },
     "output_type": "display_data"
    }
   ],
   "source": [
    "import seaborn as sns\n",
    "\n",
    "df_dis = df[df['target']==1]\n",
    "df_dis['keyword'].value_counts()[:15].plot(kind='barh')"
   ]
  },
  {
   "cell_type": "code",
   "execution_count": 326,
   "metadata": {
    "colab": {
     "base_uri": "https://localhost:8080/",
     "height": 0
    },
    "id": "NnLuRxm-sa1j",
    "outputId": "387d4d3e-4633-44a5-c706-d6a6c30d4359"
   },
   "outputs": [
    {
     "data": {
      "text/plain": [
       "<matplotlib.axes._subplots.AxesSubplot at 0x7f3b42a4e290>"
      ]
     },
     "execution_count": 326,
     "metadata": {},
     "output_type": "execute_result"
    },
    {
     "data": {
      "image/png": "[encoded data removed]",
      "text/plain": [
       "<Figure size 432x288 with 1 Axes>"
      ]
     },
     "metadata": {
      "needs_background": "light"
     },
     "output_type": "display_data"
    }
   ],
   "source": [
    "df_non_dis = df[df['target']==0]\n",
    "df_non_dis['keyword'].value_counts()[:15].plot(kind='barh')"
   ]
  },
  {
   "cell_type": "code",
   "execution_count": 327,
   "metadata": {
    "colab": {
     "base_uri": "https://localhost:8080/"
    },
    "id": "qQFqO7-Xs3ji",
    "outputId": "c170b9c8-c583-44c9-f571-67ecb27bdd4a"
   },
   "outputs": [
    {
     "data": {
      "text/plain": [
       "15          NaN\n",
       "16          NaN\n",
       "17          NaN\n",
       "18          NaN\n",
       "19          NaN\n",
       "         ...   \n",
       "7581    wrecked\n",
       "7582    wrecked\n",
       "7584        NaN\n",
       "7587        NaN\n",
       "7593        NaN\n",
       "Name: keyword, Length: 4342, dtype: object"
      ]
     },
     "execution_count": 327,
     "metadata": {},
     "output_type": "execute_result"
    }
   ],
   "source": [
    "df_dis['keyword']\n",
    "df_non_dis['keyword']"
   ]
  },
  {
   "cell_type": "code",
   "execution_count": 328,
   "metadata": {
    "colab": {
     "base_uri": "https://localhost:8080/"
    },
    "id": "lvlcEg3HR27Q",
    "outputId": "12358fb9-3e8f-49a7-8ff0-cdb0a6f08a41"
   },
   "outputs": [
    {
     "data": {
      "text/plain": [
       "array([nan, 'ablaze', 'accident', 'aftershock', 'airplane%20accident',\n",
       "       'ambulance', 'annihilated', 'annihilation', 'apocalypse',\n",
       "       'armageddon', 'army', 'arson', 'arsonist', 'attack', 'attacked',\n",
       "       'avalanche', 'battle', 'bioterror', 'bioterrorism', 'blaze',\n",
       "       'blazing', 'bleeding', 'blew%20up', 'blight', 'blizzard', 'blood',\n",
       "       'bloody', 'blown%20up', 'body%20bag', 'body%20bagging',\n",
       "       'body%20bags', 'bomb', 'bombed', 'bombing', 'bridge%20collapse',\n",
       "       'buildings%20burning', 'buildings%20on%20fire', 'burned',\n",
       "       'burning', 'burning%20buildings', 'bush%20fires', 'casualties',\n",
       "       'casualty', 'catastrophe', 'catastrophic', 'chemical%20emergency',\n",
       "       'cliff%20fall', 'collapse', 'collapsed', 'collide', 'collided',\n",
       "       'collision', 'crash', 'crashed', 'crush', 'crushed', 'curfew',\n",
       "       'cyclone', 'damage', 'danger', 'dead', 'death', 'deaths', 'debris',\n",
       "       'deluge', 'deluged', 'demolish', 'demolished', 'demolition',\n",
       "       'derail', 'derailed', 'derailment', 'desolate', 'desolation',\n",
       "       'destroy', 'destroyed', 'destruction', 'detonate', 'detonation',\n",
       "       'devastated', 'devastation', 'disaster', 'displaced', 'drought',\n",
       "       'drown', 'drowned', 'drowning', 'dust%20storm', 'earthquake',\n",
       "       'electrocute', 'electrocuted', 'emergency', 'emergency%20plan',\n",
       "       'emergency%20services', 'engulfed', 'epicentre', 'evacuate',\n",
       "       'evacuated', 'evacuation', 'explode', 'exploded', 'explosion',\n",
       "       'eyewitness', 'famine', 'fatal', 'fatalities', 'fatality', 'fear',\n",
       "       'fire', 'fire%20truck', 'first%20responders', 'flames',\n",
       "       'flattened', 'flood', 'flooding', 'floods', 'forest%20fire',\n",
       "       'forest%20fires', 'hail', 'hailstorm', 'harm', 'hazard',\n",
       "       'hazardous', 'heat%20wave', 'hellfire', 'hijack', 'hijacker',\n",
       "       'hijacking', 'hostage', 'hostages', 'hurricane', 'injured',\n",
       "       'injuries', 'injury', 'inundated', 'inundation', 'landslide',\n",
       "       'lava', 'lightning', 'loud%20bang', 'mass%20murder',\n",
       "       'mass%20murderer', 'massacre', 'mayhem', 'meltdown', 'military',\n",
       "       'mudslide', 'natural%20disaster', 'nuclear%20disaster',\n",
       "       'nuclear%20reactor', 'obliterate', 'obliterated', 'obliteration',\n",
       "       'oil%20spill', 'outbreak', 'pandemonium', 'panic', 'panicking',\n",
       "       'police', 'quarantine', 'quarantined', 'radiation%20emergency',\n",
       "       'rainstorm', 'razed', 'refugees', 'rescue', 'rescued', 'rescuers',\n",
       "       'riot', 'rioting', 'rubble', 'ruin', 'sandstorm', 'screamed',\n",
       "       'screaming', 'screams', 'seismic', 'sinkhole', 'sinking', 'siren',\n",
       "       'sirens', 'smoke', 'snowstorm', 'storm', 'stretcher',\n",
       "       'structural%20failure', 'suicide%20bomb', 'suicide%20bomber',\n",
       "       'suicide%20bombing', 'sunk', 'survive', 'survived', 'survivors',\n",
       "       'terrorism', 'terrorist', 'threat', 'thunder', 'thunderstorm',\n",
       "       'tornado', 'tragedy', 'trapped', 'trauma', 'traumatised',\n",
       "       'trouble', 'tsunami', 'twister', 'typhoon', 'upheaval',\n",
       "       'violent%20storm', 'volcano', 'war%20zone', 'weapon', 'weapons',\n",
       "       'whirlwind', 'wild%20fires', 'wildfire', 'windstorm', 'wounded',\n",
       "       'wounds', 'wreck', 'wreckage', 'wrecked'], dtype=object)"
      ]
     },
     "execution_count": 328,
     "metadata": {},
     "output_type": "execute_result"
    }
   ],
   "source": [
    "df['keyword'].unique()"
   ]
  },
  {
   "cell_type": "code",
   "execution_count": 329,
   "metadata": {
    "colab": {
     "base_uri": "https://localhost:8080/",
     "height": 0
    },
    "id": "TbyJ4sHMivxB",
    "outputId": "48c01ec7-8ce1-46e0-d6e5-f1efbefc2b2a"
   },
   "outputs": [
    {
     "data": {
      "image/png": "[encoded data removed]",
      "text/plain": [
       "<Figure size 432x288 with 1 Axes>"
      ]
     },
     "metadata": {},
     "output_type": "display_data"
    }
   ],
   "source": [
    "import seaborn as sns\n",
    "\n",
    "#define data\n",
    "data = [4342, 3271]\n",
    "labels = ['0', '1']\n",
    "\n",
    "#define Seaborn color palette to use\n",
    "colors = sns.color_palette('pastel')[0:5]\n",
    "\n",
    "#create pie chart\n",
    "plt.pie(data, labels = labels, colors = colors, autopct='%.0f%%')\n",
    "plt.show()\n"
   ]
  },
  {
   "cell_type": "code",
   "execution_count": 330,
   "metadata": {
    "colab": {
     "base_uri": "https://localhost:8080/",
     "height": 0
    },
    "id": "4uE0YncHNuYZ",
    "outputId": "0c9b1e7f-4e9a-4e39-efac-7418d0f3e28d"
   },
   "outputs": [
    {
     "data": {
      "text/plain": [
       "<matplotlib.axes._subplots.AxesSubplot at 0x7f3b4ad76a90>"
      ]
     },
     "execution_count": 330,
     "metadata": {},
     "output_type": "execute_result"
    },
    {
     "data": {
      "image/png": "[encoded data removed]",
      "text/plain": [
       "<Figure size 432x288 with 1 Axes>"
      ]
     },
     "metadata": {
      "needs_background": "light"
     },
     "output_type": "display_data"
    }
   ],
   "source": [
    "missing_cols = ['keyword', 'location']\n",
    "sns.barplot(x=df[missing_cols].isnull().sum().index, y=df[missing_cols].isnull().sum().values)\n"
   ]
  },
  {
   "cell_type": "code",
   "execution_count": 331,
   "metadata": {
    "colab": {
     "base_uri": "https://localhost:8080/",
     "height": 0
    },
    "id": "SbInbogwPQ_A",
    "outputId": "4a3b7129-0f42-480e-bf71-5bbd894f5d4c"
   },
   "outputs": [
    {
     "data": {
      "text/html": [
       "\n",
       "  <div id=\"df-6405fb18-e515-4bb4-93ac-ff479d8aa00f\">\n",
       "    <div class=\"colab-df-container\">\n",
       "      <div>\n",
       "<style scoped>\n",
       "    .dataframe tbody tr th:only-of-type {\n",
       "        vertical-align: middle;\n",
       "    }\n",
       "\n",
       "    .dataframe tbody tr th {\n",
       "        vertical-align: top;\n",
       "    }\n",
       "\n",
       "    .dataframe thead th {\n",
       "        text-align: right;\n",
       "    }\n",
       "</style>\n",
       "<table border=\"1\" class=\"dataframe\">\n",
       "  <thead>\n",
       "    <tr style=\"text-align: right;\">\n",
       "      <th></th>\n",
       "      <th>id</th>\n",
       "      <th>keyword</th>\n",
       "      <th>location</th>\n",
       "      <th>text</th>\n",
       "      <th>target</th>\n",
       "    </tr>\n",
       "  </thead>\n",
       "  <tbody>\n",
       "    <tr>\n",
       "      <th>0</th>\n",
       "      <td>1</td>\n",
       "      <td>NaN</td>\n",
       "      <td>NaN</td>\n",
       "      <td>Our Deeds are the Reason of this #earthquake M...</td>\n",
       "      <td>1</td>\n",
       "    </tr>\n",
       "    <tr>\n",
       "      <th>1</th>\n",
       "      <td>4</td>\n",
       "      <td>NaN</td>\n",
       "      <td>NaN</td>\n",
       "      <td>Forest fire near La Ronge Sask. Canada</td>\n",
       "      <td>1</td>\n",
       "    </tr>\n",
       "    <tr>\n",
       "      <th>2</th>\n",
       "      <td>5</td>\n",
       "      <td>NaN</td>\n",
       "      <td>NaN</td>\n",
       "      <td>All residents asked to 'shelter in place' are ...</td>\n",
       "      <td>1</td>\n",
       "    </tr>\n",
       "    <tr>\n",
       "      <th>3</th>\n",
       "      <td>6</td>\n",
       "      <td>NaN</td>\n",
       "      <td>NaN</td>\n",
       "      <td>13,000 people receive #wildfires evacuation or...</td>\n",
       "      <td>1</td>\n",
       "    </tr>\n",
       "    <tr>\n",
       "      <th>4</th>\n",
       "      <td>7</td>\n",
       "      <td>NaN</td>\n",
       "      <td>NaN</td>\n",
       "      <td>Just got sent this photo from Ruby #Alaska as ...</td>\n",
       "      <td>1</td>\n",
       "    </tr>\n",
       "  </tbody>\n",
       "</table>\n",
       "</div>\n",
       "      <button class=\"colab-df-convert\" onclick=\"convertToInteractive('df-6405fb18-e515-4bb4-93ac-ff479d8aa00f')\"\n",
       "              title=\"Convert this dataframe to an interactive table.\"\n",
       "              style=\"display:none;\">\n",
       "        \n",
       "  <svg xmlns=\"http://www.w3.org/2000/svg\" height=\"24px\"viewBox=\"0 0 24 24\"\n",
       "       width=\"24px\">\n",
       "    <path d=\"M0 0h24v24H0V0z\" fill=\"none\"/>\n",
       "    <path d=\"M18.56 5.44l.94 2.06.94-2.06 2.06-.94-2.06-.94-.94-2.06-.94 2.06-2.06.94zm-11 1L8.5 8.5l.94-2.06 2.06-.94-2.06-.94L8.5 2.5l-.94 2.06-2.06.94zm10 10l.94 2.06.94-2.06 2.06-.94-2.06-.94-.94-2.06-.94 2.06-2.06.94z\"/><path d=\"M17.41 7.96l-1.37-1.37c-.4-.4-.92-.59-1.43-.59-.52 0-1.04.2-1.43.59L10.3 9.45l-7.72 7.72c-.78.78-.78 2.05 0 2.83L4 21.41c.39.39.9.59 1.41.59.51 0 1.02-.2 1.41-.59l7.78-7.78 2.81-2.81c.8-.78.8-2.07 0-2.86zM5.41 20L4 18.59l7.72-7.72 1.47 1.35L5.41 20z\"/>\n",
       "  </svg>\n",
       "      </button>\n",
       "      \n",
       "  <style>\n",
       "    .colab-df-container {\n",
       "      display:flex;\n",
       "      flex-wrap:wrap;\n",
       "      gap: 12px;\n",
       "    }\n",
       "\n",
       "    .colab-df-convert {\n",
       "      background-color: #E8F0FE;\n",
       "      border: none;\n",
       "      border-radius: 50%;\n",
       "      cursor: pointer;\n",
       "      display: none;\n",
       "      fill: #1967D2;\n",
       "      height: 32px;\n",
       "      padding: 0 0 0 0;\n",
       "      width: 32px;\n",
       "    }\n",
       "\n",
       "    .colab-df-convert:hover {\n",
       "      background-color: #E2EBFA;\n",
       "      box-shadow: 0px 1px 2px rgba(60, 64, 67, 0.3), 0px 1px 3px 1px rgba(60, 64, 67, 0.15);\n",
       "      fill: #174EA6;\n",
       "    }\n",
       "\n",
       "    [theme=dark] .colab-df-convert {\n",
       "      background-color: #3B4455;\n",
       "      fill: #D2E3FC;\n",
       "    }\n",
       "\n",
       "    [theme=dark] .colab-df-convert:hover {\n",
       "      background-color: #434B5C;\n",
       "      box-shadow: 0px 1px 3px 1px rgba(0, 0, 0, 0.15);\n",
       "      filter: drop-shadow(0px 1px 2px rgba(0, 0, 0, 0.3));\n",
       "      fill: #FFFFFF;\n",
       "    }\n",
       "  </style>\n",
       "\n",
       "      <script>\n",
       "        const buttonEl =\n",
       "          document.querySelector('#df-6405fb18-e515-4bb4-93ac-ff479d8aa00f button.colab-df-convert');\n",
       "        buttonEl.style.display =\n",
       "          google.colab.kernel.accessAllowed ? 'block' : 'none';\n",
       "\n",
       "        async function convertToInteractive(key) {\n",
       "          const element = document.querySelector('#df-6405fb18-e515-4bb4-93ac-ff479d8aa00f');\n",
       "          const dataTable =\n",
       "            await google.colab.kernel.invokeFunction('convertToInteractive',\n",
       "                                                     [key], {});\n",
       "          if (!dataTable) return;\n",
       "\n",
       "          const docLinkHtml = 'Like what you see? Visit the ' +\n",
       "            '<a target=\"_blank\" href=https://colab.research.google.com/notebooks/data_table.ipynb>data table notebook</a>'\n",
       "            + ' to learn more about interactive tables.';\n",
       "          element.innerHTML = '';\n",
       "          dataTable['output_type'] = 'display_data';\n",
       "          await google.colab.output.renderOutput(dataTable, element);\n",
       "          const docLink = document.createElement('div');\n",
       "          docLink.innerHTML = docLinkHtml;\n",
       "          element.appendChild(docLink);\n",
       "        }\n",
       "      </script>\n",
       "    </div>\n",
       "  </div>\n",
       "  "
      ],
      "text/plain": [
       "   id keyword location                                               text  \\\n",
       "0   1     NaN      NaN  Our Deeds are the Reason of this #earthquake M...   \n",
       "1   4     NaN      NaN             Forest fire near La Ronge Sask. Canada   \n",
       "2   5     NaN      NaN  All residents asked to 'shelter in place' are ...   \n",
       "3   6     NaN      NaN  13,000 people receive #wildfires evacuation or...   \n",
       "4   7     NaN      NaN  Just got sent this photo from Ruby #Alaska as ...   \n",
       "\n",
       "   target  \n",
       "0       1  \n",
       "1       1  \n",
       "2       1  \n",
       "3       1  \n",
       "4       1  "
      ]
     },
     "metadata": {},
     "output_type": "display_data"
    }
   ],
   "source": [
    "display(df.head())"
   ]
  },
  {
   "cell_type": "code",
   "execution_count": 332,
   "metadata": {
    "colab": {
     "base_uri": "https://localhost:8080/",
     "height": 0
    },
    "id": "eHGHHFMN3mxk",
    "outputId": "2c33e001-d32a-4a80-cbe2-565d008dafd7"
   },
   "outputs": [
    {
     "data": {
      "text/html": [
       "\n",
       "  <div id=\"df-722bf0d3-184b-4141-a572-fab11ced8551\">\n",
       "    <div class=\"colab-df-container\">\n",
       "      <div>\n",
       "<style scoped>\n",
       "    .dataframe tbody tr th:only-of-type {\n",
       "        vertical-align: middle;\n",
       "    }\n",
       "\n",
       "    .dataframe tbody tr th {\n",
       "        vertical-align: top;\n",
       "    }\n",
       "\n",
       "    .dataframe thead th {\n",
       "        text-align: right;\n",
       "    }\n",
       "</style>\n",
       "<table border=\"1\" class=\"dataframe\">\n",
       "  <thead>\n",
       "    <tr style=\"text-align: right;\">\n",
       "      <th></th>\n",
       "      <th>text</th>\n",
       "      <th>target</th>\n",
       "    </tr>\n",
       "  </thead>\n",
       "  <tbody>\n",
       "    <tr>\n",
       "      <th>0</th>\n",
       "      <td>Our Deeds are the Reason of this #earthquake M...</td>\n",
       "      <td>1</td>\n",
       "    </tr>\n",
       "    <tr>\n",
       "      <th>1</th>\n",
       "      <td>Forest fire near La Ronge Sask. Canada</td>\n",
       "      <td>1</td>\n",
       "    </tr>\n",
       "    <tr>\n",
       "      <th>2</th>\n",
       "      <td>All residents asked to 'shelter in place' are ...</td>\n",
       "      <td>1</td>\n",
       "    </tr>\n",
       "    <tr>\n",
       "      <th>3</th>\n",
       "      <td>13,000 people receive #wildfires evacuation or...</td>\n",
       "      <td>1</td>\n",
       "    </tr>\n",
       "    <tr>\n",
       "      <th>4</th>\n",
       "      <td>Just got sent this photo from Ruby #Alaska as ...</td>\n",
       "      <td>1</td>\n",
       "    </tr>\n",
       "  </tbody>\n",
       "</table>\n",
       "</div>\n",
       "      <button class=\"colab-df-convert\" onclick=\"convertToInteractive('df-722bf0d3-184b-4141-a572-fab11ced8551')\"\n",
       "              title=\"Convert this dataframe to an interactive table.\"\n",
       "              style=\"display:none;\">\n",
       "        \n",
       "  <svg xmlns=\"http://www.w3.org/2000/svg\" height=\"24px\"viewBox=\"0 0 24 24\"\n",
       "       width=\"24px\">\n",
       "    <path d=\"M0 0h24v24H0V0z\" fill=\"none\"/>\n",
       "    <path d=\"M18.56 5.44l.94 2.06.94-2.06 2.06-.94-2.06-.94-.94-2.06-.94 2.06-2.06.94zm-11 1L8.5 8.5l.94-2.06 2.06-.94-2.06-.94L8.5 2.5l-.94 2.06-2.06.94zm10 10l.94 2.06.94-2.06 2.06-.94-2.06-.94-.94-2.06-.94 2.06-2.06.94z\"/><path d=\"M17.41 7.96l-1.37-1.37c-.4-.4-.92-.59-1.43-.59-.52 0-1.04.2-1.43.59L10.3 9.45l-7.72 7.72c-.78.78-.78 2.05 0 2.83L4 21.41c.39.39.9.59 1.41.59.51 0 1.02-.2 1.41-.59l7.78-7.78 2.81-2.81c.8-.78.8-2.07 0-2.86zM5.41 20L4 18.59l7.72-7.72 1.47 1.35L5.41 20z\"/>\n",
       "  </svg>\n",
       "      </button>\n",
       "      \n",
       "  <style>\n",
       "    .colab-df-container {\n",
       "      display:flex;\n",
       "      flex-wrap:wrap;\n",
       "      gap: 12px;\n",
       "    }\n",
       "\n",
       "    .colab-df-convert {\n",
       "      background-color: #E8F0FE;\n",
       "      border: none;\n",
       "      border-radius: 50%;\n",
       "      cursor: pointer;\n",
       "      display: none;\n",
       "      fill: #1967D2;\n",
       "      height: 32px;\n",
       "      padding: 0 0 0 0;\n",
       "      width: 32px;\n",
       "    }\n",
       "\n",
       "    .colab-df-convert:hover {\n",
       "      background-color: #E2EBFA;\n",
       "      box-shadow: 0px 1px 2px rgba(60, 64, 67, 0.3), 0px 1px 3px 1px rgba(60, 64, 67, 0.15);\n",
       "      fill: #174EA6;\n",
       "    }\n",
       "\n",
       "    [theme=dark] .colab-df-convert {\n",
       "      background-color: #3B4455;\n",
       "      fill: #D2E3FC;\n",
       "    }\n",
       "\n",
       "    [theme=dark] .colab-df-convert:hover {\n",
       "      background-color: #434B5C;\n",
       "      box-shadow: 0px 1px 3px 1px rgba(0, 0, 0, 0.15);\n",
       "      filter: drop-shadow(0px 1px 2px rgba(0, 0, 0, 0.3));\n",
       "      fill: #FFFFFF;\n",
       "    }\n",
       "  </style>\n",
       "\n",
       "      <script>\n",
       "        const buttonEl =\n",
       "          document.querySelector('#df-722bf0d3-184b-4141-a572-fab11ced8551 button.colab-df-convert');\n",
       "        buttonEl.style.display =\n",
       "          google.colab.kernel.accessAllowed ? 'block' : 'none';\n",
       "\n",
       "        async function convertToInteractive(key) {\n",
       "          const element = document.querySelector('#df-722bf0d3-184b-4141-a572-fab11ced8551');\n",
       "          const dataTable =\n",
       "            await google.colab.kernel.invokeFunction('convertToInteractive',\n",
       "                                                     [key], {});\n",
       "          if (!dataTable) return;\n",
       "\n",
       "          const docLinkHtml = 'Like what you see? Visit the ' +\n",
       "            '<a target=\"_blank\" href=https://colab.research.google.com/notebooks/data_table.ipynb>data table notebook</a>'\n",
       "            + ' to learn more about interactive tables.';\n",
       "          element.innerHTML = '';\n",
       "          dataTable['output_type'] = 'display_data';\n",
       "          await google.colab.output.renderOutput(dataTable, element);\n",
       "          const docLink = document.createElement('div');\n",
       "          docLink.innerHTML = docLinkHtml;\n",
       "          element.appendChild(docLink);\n",
       "        }\n",
       "      </script>\n",
       "    </div>\n",
       "  </div>\n",
       "  "
      ],
      "text/plain": [
       "                                                text  target\n",
       "0  Our Deeds are the Reason of this #earthquake M...       1\n",
       "1             Forest fire near La Ronge Sask. Canada       1\n",
       "2  All residents asked to 'shelter in place' are ...       1\n",
       "3  13,000 people receive #wildfires evacuation or...       1\n",
       "4  Just got sent this photo from Ruby #Alaska as ...       1"
      ]
     },
     "execution_count": 332,
     "metadata": {},
     "output_type": "execute_result"
    }
   ],
   "source": [
    "df = df.drop(['id', 'keyword','location'], axis = 1)\n",
    "df.head()\n"
   ]
  },
  {
   "cell_type": "markdown",
   "metadata": {
    "id": "Q2AwUyC_3zOx",
    "tags": []
   },
   "source": [
    "# Data Cleaning"
   ]
  },
  {
   "cell_type": "markdown",
   "metadata": {
    "id": "ipSgpvDO4Is_"
   },
   "source": [
    "**Make Characters to Lower Case**"
   ]
  },
  {
   "cell_type": "code",
   "execution_count": 333,
   "metadata": {
    "colab": {
     "base_uri": "https://localhost:8080/",
     "height": 0
    },
    "id": "P3V9XoGJ4GNW",
    "outputId": "e01ec96d-0471-4789-dc12-8c64580e54d4"
   },
   "outputs": [
    {
     "data": {
      "text/html": [
       "\n",
       "  <div id=\"df-f51bcc7f-369c-412e-8889-e3e2b1665f1e\">\n",
       "    <div class=\"colab-df-container\">\n",
       "      <div>\n",
       "<style scoped>\n",
       "    .dataframe tbody tr th:only-of-type {\n",
       "        vertical-align: middle;\n",
       "    }\n",
       "\n",
       "    .dataframe tbody tr th {\n",
       "        vertical-align: top;\n",
       "    }\n",
       "\n",
       "    .dataframe thead th {\n",
       "        text-align: right;\n",
       "    }\n",
       "</style>\n",
       "<table border=\"1\" class=\"dataframe\">\n",
       "  <thead>\n",
       "    <tr style=\"text-align: right;\">\n",
       "      <th></th>\n",
       "      <th>text</th>\n",
       "      <th>target</th>\n",
       "      <th>CleanText</th>\n",
       "    </tr>\n",
       "  </thead>\n",
       "  <tbody>\n",
       "    <tr>\n",
       "      <th>0</th>\n",
       "      <td>Our Deeds are the Reason of this #earthquake M...</td>\n",
       "      <td>1</td>\n",
       "      <td>our deeds are the reason of this #earthquake m...</td>\n",
       "    </tr>\n",
       "    <tr>\n",
       "      <th>1</th>\n",
       "      <td>Forest fire near La Ronge Sask. Canada</td>\n",
       "      <td>1</td>\n",
       "      <td>forest fire near la ronge sask. canada</td>\n",
       "    </tr>\n",
       "    <tr>\n",
       "      <th>2</th>\n",
       "      <td>All residents asked to 'shelter in place' are ...</td>\n",
       "      <td>1</td>\n",
       "      <td>all residents asked to 'shelter in place' are ...</td>\n",
       "    </tr>\n",
       "    <tr>\n",
       "      <th>3</th>\n",
       "      <td>13,000 people receive #wildfires evacuation or...</td>\n",
       "      <td>1</td>\n",
       "      <td>13,000 people receive #wildfires evacuation or...</td>\n",
       "    </tr>\n",
       "    <tr>\n",
       "      <th>4</th>\n",
       "      <td>Just got sent this photo from Ruby #Alaska as ...</td>\n",
       "      <td>1</td>\n",
       "      <td>just got sent this photo from ruby #alaska as ...</td>\n",
       "    </tr>\n",
       "  </tbody>\n",
       "</table>\n",
       "</div>\n",
       "      <button class=\"colab-df-convert\" onclick=\"convertToInteractive('df-f51bcc7f-369c-412e-8889-e3e2b1665f1e')\"\n",
       "              title=\"Convert this dataframe to an interactive table.\"\n",
       "              style=\"display:none;\">\n",
       "        \n",
       "  <svg xmlns=\"http://www.w3.org/2000/svg\" height=\"24px\"viewBox=\"0 0 24 24\"\n",
       "       width=\"24px\">\n",
       "    <path d=\"M0 0h24v24H0V0z\" fill=\"none\"/>\n",
       "    <path d=\"M18.56 5.44l.94 2.06.94-2.06 2.06-.94-2.06-.94-.94-2.06-.94 2.06-2.06.94zm-11 1L8.5 8.5l.94-2.06 2.06-.94-2.06-.94L8.5 2.5l-.94 2.06-2.06.94zm10 10l.94 2.06.94-2.06 2.06-.94-2.06-.94-.94-2.06-.94 2.06-2.06.94z\"/><path d=\"M17.41 7.96l-1.37-1.37c-.4-.4-.92-.59-1.43-.59-.52 0-1.04.2-1.43.59L10.3 9.45l-7.72 7.72c-.78.78-.78 2.05 0 2.83L4 21.41c.39.39.9.59 1.41.59.51 0 1.02-.2 1.41-.59l7.78-7.78 2.81-2.81c.8-.78.8-2.07 0-2.86zM5.41 20L4 18.59l7.72-7.72 1.47 1.35L5.41 20z\"/>\n",
       "  </svg>\n",
       "      </button>\n",
       "      \n",
       "  <style>\n",
       "    .colab-df-container {\n",
       "      display:flex;\n",
       "      flex-wrap:wrap;\n",
       "      gap: 12px;\n",
       "    }\n",
       "\n",
       "    .colab-df-convert {\n",
       "      background-color: #E8F0FE;\n",
       "      border: none;\n",
       "      border-radius: 50%;\n",
       "      cursor: pointer;\n",
       "      display: none;\n",
       "      fill: #1967D2;\n",
       "      height: 32px;\n",
       "      padding: 0 0 0 0;\n",
       "      width: 32px;\n",
       "    }\n",
       "\n",
       "    .colab-df-convert:hover {\n",
       "      background-color: #E2EBFA;\n",
       "      box-shadow: 0px 1px 2px rgba(60, 64, 67, 0.3), 0px 1px 3px 1px rgba(60, 64, 67, 0.15);\n",
       "      fill: #174EA6;\n",
       "    }\n",
       "\n",
       "    [theme=dark] .colab-df-convert {\n",
       "      background-color: #3B4455;\n",
       "      fill: #D2E3FC;\n",
       "    }\n",
       "\n",
       "    [theme=dark] .colab-df-convert:hover {\n",
       "      background-color: #434B5C;\n",
       "      box-shadow: 0px 1px 3px 1px rgba(0, 0, 0, 0.15);\n",
       "      filter: drop-shadow(0px 1px 2px rgba(0, 0, 0, 0.3));\n",
       "      fill: #FFFFFF;\n",
       "    }\n",
       "  </style>\n",
       "\n",
       "      <script>\n",
       "        const buttonEl =\n",
       "          document.querySelector('#df-f51bcc7f-369c-412e-8889-e3e2b1665f1e button.colab-df-convert');\n",
       "        buttonEl.style.display =\n",
       "          google.colab.kernel.accessAllowed ? 'block' : 'none';\n",
       "\n",
       "        async function convertToInteractive(key) {\n",
       "          const element = document.querySelector('#df-f51bcc7f-369c-412e-8889-e3e2b1665f1e');\n",
       "          const dataTable =\n",
       "            await google.colab.kernel.invokeFunction('convertToInteractive',\n",
       "                                                     [key], {});\n",
       "          if (!dataTable) return;\n",
       "\n",
       "          const docLinkHtml = 'Like what you see? Visit the ' +\n",
       "            '<a target=\"_blank\" href=https://colab.research.google.com/notebooks/data_table.ipynb>data table notebook</a>'\n",
       "            + ' to learn more about interactive tables.';\n",
       "          element.innerHTML = '';\n",
       "          dataTable['output_type'] = 'display_data';\n",
       "          await google.colab.output.renderOutput(dataTable, element);\n",
       "          const docLink = document.createElement('div');\n",
       "          docLink.innerHTML = docLinkHtml;\n",
       "          element.appendChild(docLink);\n",
       "        }\n",
       "      </script>\n",
       "    </div>\n",
       "  </div>\n",
       "  "
      ],
      "text/plain": [
       "                                                text  target  \\\n",
       "0  Our Deeds are the Reason of this #earthquake M...       1   \n",
       "1             Forest fire near La Ronge Sask. Canada       1   \n",
       "2  All residents asked to 'shelter in place' are ...       1   \n",
       "3  13,000 people receive #wildfires evacuation or...       1   \n",
       "4  Just got sent this photo from Ruby #Alaska as ...       1   \n",
       "\n",
       "                                           CleanText  \n",
       "0  our deeds are the reason of this #earthquake m...  \n",
       "1             forest fire near la ronge sask. canada  \n",
       "2  all residents asked to 'shelter in place' are ...  \n",
       "3  13,000 people receive #wildfires evacuation or...  \n",
       "4  just got sent this photo from ruby #alaska as ...  "
      ]
     },
     "execution_count": 333,
     "metadata": {},
     "output_type": "execute_result"
    }
   ],
   "source": [
    "df[\"CleanText\"] = df[\"text\"].apply(lambda x: x.lower())\n",
    "df.head()"
   ]
  },
  {
   "cell_type": "markdown",
   "metadata": {
    "id": "oFbmNJeU4Rzc"
   },
   "source": [
    "**Remove unnecessary text: URL,HTML,Emojis, punctuation**"
   ]
  },
  {
   "cell_type": "code",
   "execution_count": 334,
   "metadata": {
    "id": "rmHbzccq4bAt"
   },
   "outputs": [],
   "source": [
    "#remove URL\n",
    "\n",
    "df[\"CleanText\"] = df[\"CleanText\"].apply(lambda x: re.sub(r\"https?://\\S+|www\\.\\S+\", \"\",x))\n"
   ]
  },
  {
   "cell_type": "code",
   "execution_count": 335,
   "metadata": {
    "id": "ezxrxqJDCT--"
   },
   "outputs": [],
   "source": [
    "#remove numbers\n",
    "'''\n",
    "I decided not to remove number because experimentally based on the SVM, it does not yield better accurcay.\n",
    "'''\n",
    "#df[\"CleanText\"] = df[\"CleanText\"].apply(lambda x: re.sub(r'[0-9]', \"\",x))\n"
   ]
  },
  {
   "cell_type": "code",
   "execution_count": 336,
   "metadata": {
    "id": "-tXa4NXR4e1q"
   },
   "outputs": [],
   "source": [
    "def removeHTML(text):\n",
    "    html = re.compile(r\"<.*?>|&([a-z0-9]+|#[0-9]{1,6}|#x[0-9a-f]{1,6});\")\n",
    "    return re.sub(html, \"\", text)\n",
    "\n",
    "df[\"CleanText\"] = df[\"CleanText\"].apply(lambda x: removeHTML(x))\n"
   ]
  },
  {
   "cell_type": "code",
   "execution_count": 337,
   "metadata": {
    "id": "rb7sr-sd4hws"
   },
   "outputs": [],
   "source": [
    "def removeEmojis(text):\n",
    "    emoji_pattern = re.compile(\"[\"\n",
    "                       u\"\\U0001F600-\\U0001F64F\"  # emoticons\n",
    "                       u\"\\U0001F300-\\U0001F5FF\"  # symbols & pictographs\n",
    "                       u\"\\U0001F680-\\U0001F6FF\"  # transport & map symbols\n",
    "                       u\"\\U0001F1E0-\\U0001F1FF\"  # flags (iOS)\n",
    "                       u\"\\U00002702-\\U000027B0\"\n",
    "                       u\"\\U000024C2-\\U0001F251\"\n",
    "                       u\"\\U0001f926-\\U0001f937\"\n",
    "                       u\"\\u200d\"\n",
    "                       u\"\\u2640-\\u2642\" \n",
    "                       \"]+\", flags=re.UNICODE)\n",
    "    return emoji_pattern.sub(r'', text)\n",
    "\n",
    "df[\"CleanText\"] = df[\"CleanText\"].apply(lambda x: removeEmojis(x))\n"
   ]
  },
  {
   "cell_type": "code",
   "execution_count": 338,
   "metadata": {
    "id": "QTOoR6S75XT1"
   },
   "outputs": [],
   "source": [
    "def RemovePunctuation(text):\n",
    "    return text.translate(str.maketrans('', '', string.punctuation))"
   ]
  },
  {
   "cell_type": "code",
   "execution_count": 339,
   "metadata": {
    "id": "PFYXFHnR4rNO"
   },
   "outputs": [],
   "source": [
    "df[\"CleanText\"] = df[\"CleanText\"].apply(lambda x: RemovePunctuation(x))\n"
   ]
  },
  {
   "cell_type": "code",
   "execution_count": 340,
   "metadata": {
    "id": "r3s0kbbF627n"
   },
   "outputs": [],
   "source": [
    "def RemoveASCII(text):\n",
    "  return re.sub(r'[^\\x00-\\x7f]', \"\", text)\n",
    "\n",
    "df[\"CleanText\"] = df[\"CleanText\"].apply(lambda x: RemoveASCII(x))"
   ]
  },
  {
   "cell_type": "code",
   "execution_count": 341,
   "metadata": {
    "colab": {
     "base_uri": "https://localhost:8080/",
     "height": 0
    },
    "id": "12I4TFv27H2V",
    "outputId": "695e2d65-fe20-4c73-813f-c7911aba5ea4"
   },
   "outputs": [
    {
     "data": {
      "text/html": [
       "\n",
       "  <div id=\"df-6b555b76-c8fa-448b-ad69-e4e4a3b55d94\">\n",
       "    <div class=\"colab-df-container\">\n",
       "      <div>\n",
       "<style scoped>\n",
       "    .dataframe tbody tr th:only-of-type {\n",
       "        vertical-align: middle;\n",
       "    }\n",
       "\n",
       "    .dataframe tbody tr th {\n",
       "        vertical-align: top;\n",
       "    }\n",
       "\n",
       "    .dataframe thead th {\n",
       "        text-align: right;\n",
       "    }\n",
       "</style>\n",
       "<table border=\"1\" class=\"dataframe\">\n",
       "  <thead>\n",
       "    <tr style=\"text-align: right;\">\n",
       "      <th></th>\n",
       "      <th>text</th>\n",
       "      <th>target</th>\n",
       "      <th>CleanText</th>\n",
       "    </tr>\n",
       "  </thead>\n",
       "  <tbody>\n",
       "    <tr>\n",
       "      <th>0</th>\n",
       "      <td>Our Deeds are the Reason of this #earthquake M...</td>\n",
       "      <td>1</td>\n",
       "      <td>our deeds are the reason of this earthquake ma...</td>\n",
       "    </tr>\n",
       "    <tr>\n",
       "      <th>1</th>\n",
       "      <td>Forest fire near La Ronge Sask. Canada</td>\n",
       "      <td>1</td>\n",
       "      <td>forest fire near la ronge sask canada</td>\n",
       "    </tr>\n",
       "    <tr>\n",
       "      <th>2</th>\n",
       "      <td>All residents asked to 'shelter in place' are ...</td>\n",
       "      <td>1</td>\n",
       "      <td>all residents asked to shelter in place are be...</td>\n",
       "    </tr>\n",
       "    <tr>\n",
       "      <th>3</th>\n",
       "      <td>13,000 people receive #wildfires evacuation or...</td>\n",
       "      <td>1</td>\n",
       "      <td>13000 people receive wildfires evacuation orde...</td>\n",
       "    </tr>\n",
       "    <tr>\n",
       "      <th>4</th>\n",
       "      <td>Just got sent this photo from Ruby #Alaska as ...</td>\n",
       "      <td>1</td>\n",
       "      <td>just got sent this photo from ruby alaska as s...</td>\n",
       "    </tr>\n",
       "  </tbody>\n",
       "</table>\n",
       "</div>\n",
       "      <button class=\"colab-df-convert\" onclick=\"convertToInteractive('df-6b555b76-c8fa-448b-ad69-e4e4a3b55d94')\"\n",
       "              title=\"Convert this dataframe to an interactive table.\"\n",
       "              style=\"display:none;\">\n",
       "        \n",
       "  <svg xmlns=\"http://www.w3.org/2000/svg\" height=\"24px\"viewBox=\"0 0 24 24\"\n",
       "       width=\"24px\">\n",
       "    <path d=\"M0 0h24v24H0V0z\" fill=\"none\"/>\n",
       "    <path d=\"M18.56 5.44l.94 2.06.94-2.06 2.06-.94-2.06-.94-.94-2.06-.94 2.06-2.06.94zm-11 1L8.5 8.5l.94-2.06 2.06-.94-2.06-.94L8.5 2.5l-.94 2.06-2.06.94zm10 10l.94 2.06.94-2.06 2.06-.94-2.06-.94-.94-2.06-.94 2.06-2.06.94z\"/><path d=\"M17.41 7.96l-1.37-1.37c-.4-.4-.92-.59-1.43-.59-.52 0-1.04.2-1.43.59L10.3 9.45l-7.72 7.72c-.78.78-.78 2.05 0 2.83L4 21.41c.39.39.9.59 1.41.59.51 0 1.02-.2 1.41-.59l7.78-7.78 2.81-2.81c.8-.78.8-2.07 0-2.86zM5.41 20L4 18.59l7.72-7.72 1.47 1.35L5.41 20z\"/>\n",
       "  </svg>\n",
       "      </button>\n",
       "      \n",
       "  <style>\n",
       "    .colab-df-container {\n",
       "      display:flex;\n",
       "      flex-wrap:wrap;\n",
       "      gap: 12px;\n",
       "    }\n",
       "\n",
       "    .colab-df-convert {\n",
       "      background-color: #E8F0FE;\n",
       "      border: none;\n",
       "      border-radius: 50%;\n",
       "      cursor: pointer;\n",
       "      display: none;\n",
       "      fill: #1967D2;\n",
       "      height: 32px;\n",
       "      padding: 0 0 0 0;\n",
       "      width: 32px;\n",
       "    }\n",
       "\n",
       "    .colab-df-convert:hover {\n",
       "      background-color: #E2EBFA;\n",
       "      box-shadow: 0px 1px 2px rgba(60, 64, 67, 0.3), 0px 1px 3px 1px rgba(60, 64, 67, 0.15);\n",
       "      fill: #174EA6;\n",
       "    }\n",
       "\n",
       "    [theme=dark] .colab-df-convert {\n",
       "      background-color: #3B4455;\n",
       "      fill: #D2E3FC;\n",
       "    }\n",
       "\n",
       "    [theme=dark] .colab-df-convert:hover {\n",
       "      background-color: #434B5C;\n",
       "      box-shadow: 0px 1px 3px 1px rgba(0, 0, 0, 0.15);\n",
       "      filter: drop-shadow(0px 1px 2px rgba(0, 0, 0, 0.3));\n",
       "      fill: #FFFFFF;\n",
       "    }\n",
       "  </style>\n",
       "\n",
       "      <script>\n",
       "        const buttonEl =\n",
       "          document.querySelector('#df-6b555b76-c8fa-448b-ad69-e4e4a3b55d94 button.colab-df-convert');\n",
       "        buttonEl.style.display =\n",
       "          google.colab.kernel.accessAllowed ? 'block' : 'none';\n",
       "\n",
       "        async function convertToInteractive(key) {\n",
       "          const element = document.querySelector('#df-6b555b76-c8fa-448b-ad69-e4e4a3b55d94');\n",
       "          const dataTable =\n",
       "            await google.colab.kernel.invokeFunction('convertToInteractive',\n",
       "                                                     [key], {});\n",
       "          if (!dataTable) return;\n",
       "\n",
       "          const docLinkHtml = 'Like what you see? Visit the ' +\n",
       "            '<a target=\"_blank\" href=https://colab.research.google.com/notebooks/data_table.ipynb>data table notebook</a>'\n",
       "            + ' to learn more about interactive tables.';\n",
       "          element.innerHTML = '';\n",
       "          dataTable['output_type'] = 'display_data';\n",
       "          await google.colab.output.renderOutput(dataTable, element);\n",
       "          const docLink = document.createElement('div');\n",
       "          docLink.innerHTML = docLinkHtml;\n",
       "          element.appendChild(docLink);\n",
       "        }\n",
       "      </script>\n",
       "    </div>\n",
       "  </div>\n",
       "  "
      ],
      "text/plain": [
       "                                                text  target  \\\n",
       "0  Our Deeds are the Reason of this #earthquake M...       1   \n",
       "1             Forest fire near La Ronge Sask. Canada       1   \n",
       "2  All residents asked to 'shelter in place' are ...       1   \n",
       "3  13,000 people receive #wildfires evacuation or...       1   \n",
       "4  Just got sent this photo from Ruby #Alaska as ...       1   \n",
       "\n",
       "                                           CleanText  \n",
       "0  our deeds are the reason of this earthquake ma...  \n",
       "1              forest fire near la ronge sask canada  \n",
       "2  all residents asked to shelter in place are be...  \n",
       "3  13000 people receive wildfires evacuation orde...  \n",
       "4  just got sent this photo from ruby alaska as s...  "
      ]
     },
     "execution_count": 341,
     "metadata": {},
     "output_type": "execute_result"
    }
   ],
   "source": [
    "df.head()\n"
   ]
  },
  {
   "cell_type": "markdown",
   "metadata": {
    "id": "x9r55LFx7J4_"
   },
   "source": [
    "#Data Preprocessing Part1 ([NLTK](https://www.nltk.org/index.html)) "
   ]
  },
  {
   "cell_type": "markdown",
   "metadata": {
    "id": "g0kK0r8D7f1z"
   },
   "source": [
    "**Tokenizer**"
   ]
  },
  {
   "cell_type": "code",
   "execution_count": 342,
   "metadata": {
    "id": "k6adNuzq7L9z"
   },
   "outputs": [],
   "source": [
    "df['TokenizedText'] = df['CleanText'].apply(nltk.word_tokenize)"
   ]
  },
  {
   "cell_type": "code",
   "execution_count": 343,
   "metadata": {
    "colab": {
     "base_uri": "https://localhost:8080/",
     "height": 0
    },
    "id": "BO0x5BGQitQA",
    "outputId": "615dc912-55a2-452d-d5d5-6bb273290c98"
   },
   "outputs": [
    {
     "data": {
      "text/html": [
       "\n",
       "  <div id=\"df-fc82ca5b-6122-4ffe-a61f-f4ef3d1c5d55\">\n",
       "    <div class=\"colab-df-container\">\n",
       "      <div>\n",
       "<style scoped>\n",
       "    .dataframe tbody tr th:only-of-type {\n",
       "        vertical-align: middle;\n",
       "    }\n",
       "\n",
       "    .dataframe tbody tr th {\n",
       "        vertical-align: top;\n",
       "    }\n",
       "\n",
       "    .dataframe thead th {\n",
       "        text-align: right;\n",
       "    }\n",
       "</style>\n",
       "<table border=\"1\" class=\"dataframe\">\n",
       "  <thead>\n",
       "    <tr style=\"text-align: right;\">\n",
       "      <th></th>\n",
       "      <th>text</th>\n",
       "      <th>target</th>\n",
       "      <th>CleanText</th>\n",
       "      <th>TokenizedText</th>\n",
       "    </tr>\n",
       "  </thead>\n",
       "  <tbody>\n",
       "    <tr>\n",
       "      <th>0</th>\n",
       "      <td>Our Deeds are the Reason of this #earthquake M...</td>\n",
       "      <td>1</td>\n",
       "      <td>our deeds are the reason of this earthquake ma...</td>\n",
       "      <td>[our, deeds, are, the, reason, of, this, earth...</td>\n",
       "    </tr>\n",
       "    <tr>\n",
       "      <th>1</th>\n",
       "      <td>Forest fire near La Ronge Sask. Canada</td>\n",
       "      <td>1</td>\n",
       "      <td>forest fire near la ronge sask canada</td>\n",
       "      <td>[forest, fire, near, la, ronge, sask, canada]</td>\n",
       "    </tr>\n",
       "    <tr>\n",
       "      <th>2</th>\n",
       "      <td>All residents asked to 'shelter in place' are ...</td>\n",
       "      <td>1</td>\n",
       "      <td>all residents asked to shelter in place are be...</td>\n",
       "      <td>[all, residents, asked, to, shelter, in, place...</td>\n",
       "    </tr>\n",
       "    <tr>\n",
       "      <th>3</th>\n",
       "      <td>13,000 people receive #wildfires evacuation or...</td>\n",
       "      <td>1</td>\n",
       "      <td>13000 people receive wildfires evacuation orde...</td>\n",
       "      <td>[13000, people, receive, wildfires, evacuation...</td>\n",
       "    </tr>\n",
       "    <tr>\n",
       "      <th>4</th>\n",
       "      <td>Just got sent this photo from Ruby #Alaska as ...</td>\n",
       "      <td>1</td>\n",
       "      <td>just got sent this photo from ruby alaska as s...</td>\n",
       "      <td>[just, got, sent, this, photo, from, ruby, ala...</td>\n",
       "    </tr>\n",
       "  </tbody>\n",
       "</table>\n",
       "</div>\n",
       "      <button class=\"colab-df-convert\" onclick=\"convertToInteractive('df-fc82ca5b-6122-4ffe-a61f-f4ef3d1c5d55')\"\n",
       "              title=\"Convert this dataframe to an interactive table.\"\n",
       "              style=\"display:none;\">\n",
       "        \n",
       "  <svg xmlns=\"http://www.w3.org/2000/svg\" height=\"24px\"viewBox=\"0 0 24 24\"\n",
       "       width=\"24px\">\n",
       "    <path d=\"M0 0h24v24H0V0z\" fill=\"none\"/>\n",
       "    <path d=\"M18.56 5.44l.94 2.06.94-2.06 2.06-.94-2.06-.94-.94-2.06-.94 2.06-2.06.94zm-11 1L8.5 8.5l.94-2.06 2.06-.94-2.06-.94L8.5 2.5l-.94 2.06-2.06.94zm10 10l.94 2.06.94-2.06 2.06-.94-2.06-.94-.94-2.06-.94 2.06-2.06.94z\"/><path d=\"M17.41 7.96l-1.37-1.37c-.4-.4-.92-.59-1.43-.59-.52 0-1.04.2-1.43.59L10.3 9.45l-7.72 7.72c-.78.78-.78 2.05 0 2.83L4 21.41c.39.39.9.59 1.41.59.51 0 1.02-.2 1.41-.59l7.78-7.78 2.81-2.81c.8-.78.8-2.07 0-2.86zM5.41 20L4 18.59l7.72-7.72 1.47 1.35L5.41 20z\"/>\n",
       "  </svg>\n",
       "      </button>\n",
       "      \n",
       "  <style>\n",
       "    .colab-df-container {\n",
       "      display:flex;\n",
       "      flex-wrap:wrap;\n",
       "      gap: 12px;\n",
       "    }\n",
       "\n",
       "    .colab-df-convert {\n",
       "      background-color: #E8F0FE;\n",
       "      border: none;\n",
       "      border-radius: 50%;\n",
       "      cursor: pointer;\n",
       "      display: none;\n",
       "      fill: #1967D2;\n",
       "      height: 32px;\n",
       "      padding: 0 0 0 0;\n",
       "      width: 32px;\n",
       "    }\n",
       "\n",
       "    .colab-df-convert:hover {\n",
       "      background-color: #E2EBFA;\n",
       "      box-shadow: 0px 1px 2px rgba(60, 64, 67, 0.3), 0px 1px 3px 1px rgba(60, 64, 67, 0.15);\n",
       "      fill: #174EA6;\n",
       "    }\n",
       "\n",
       "    [theme=dark] .colab-df-convert {\n",
       "      background-color: #3B4455;\n",
       "      fill: #D2E3FC;\n",
       "    }\n",
       "\n",
       "    [theme=dark] .colab-df-convert:hover {\n",
       "      background-color: #434B5C;\n",
       "      box-shadow: 0px 1px 3px 1px rgba(0, 0, 0, 0.15);\n",
       "      filter: drop-shadow(0px 1px 2px rgba(0, 0, 0, 0.3));\n",
       "      fill: #FFFFFF;\n",
       "    }\n",
       "  </style>\n",
       "\n",
       "      <script>\n",
       "        const buttonEl =\n",
       "          document.querySelector('#df-fc82ca5b-6122-4ffe-a61f-f4ef3d1c5d55 button.colab-df-convert');\n",
       "        buttonEl.style.display =\n",
       "          google.colab.kernel.accessAllowed ? 'block' : 'none';\n",
       "\n",
       "        async function convertToInteractive(key) {\n",
       "          const element = document.querySelector('#df-fc82ca5b-6122-4ffe-a61f-f4ef3d1c5d55');\n",
       "          const dataTable =\n",
       "            await google.colab.kernel.invokeFunction('convertToInteractive',\n",
       "                                                     [key], {});\n",
       "          if (!dataTable) return;\n",
       "\n",
       "          const docLinkHtml = 'Like what you see? Visit the ' +\n",
       "            '<a target=\"_blank\" href=https://colab.research.google.com/notebooks/data_table.ipynb>data table notebook</a>'\n",
       "            + ' to learn more about interactive tables.';\n",
       "          element.innerHTML = '';\n",
       "          dataTable['output_type'] = 'display_data';\n",
       "          await google.colab.output.renderOutput(dataTable, element);\n",
       "          const docLink = document.createElement('div');\n",
       "          docLink.innerHTML = docLinkHtml;\n",
       "          element.appendChild(docLink);\n",
       "        }\n",
       "      </script>\n",
       "    </div>\n",
       "  </div>\n",
       "  "
      ],
      "text/plain": [
       "                                                text  target  \\\n",
       "0  Our Deeds are the Reason of this #earthquake M...       1   \n",
       "1             Forest fire near La Ronge Sask. Canada       1   \n",
       "2  All residents asked to 'shelter in place' are ...       1   \n",
       "3  13,000 people receive #wildfires evacuation or...       1   \n",
       "4  Just got sent this photo from Ruby #Alaska as ...       1   \n",
       "\n",
       "                                           CleanText  \\\n",
       "0  our deeds are the reason of this earthquake ma...   \n",
       "1              forest fire near la ronge sask canada   \n",
       "2  all residents asked to shelter in place are be...   \n",
       "3  13000 people receive wildfires evacuation orde...   \n",
       "4  just got sent this photo from ruby alaska as s...   \n",
       "\n",
       "                                       TokenizedText  \n",
       "0  [our, deeds, are, the, reason, of, this, earth...  \n",
       "1      [forest, fire, near, la, ronge, sask, canada]  \n",
       "2  [all, residents, asked, to, shelter, in, place...  \n",
       "3  [13000, people, receive, wildfires, evacuation...  \n",
       "4  [just, got, sent, this, photo, from, ruby, ala...  "
      ]
     },
     "metadata": {},
     "output_type": "display_data"
    }
   ],
   "source": [
    "display(df.head())"
   ]
  },
  {
   "cell_type": "markdown",
   "metadata": {
    "id": "a-KdADJG7tpi"
   },
   "source": [
    "**Remove Stopwords**"
   ]
  },
  {
   "cell_type": "code",
   "execution_count": 344,
   "metadata": {
    "colab": {
     "base_uri": "https://localhost:8080/",
     "height": 0
    },
    "id": "aq8jzigo7v8E",
    "outputId": "a3ec3ead-58cb-4761-b64d-84611b8a919b"
   },
   "outputs": [
    {
     "data": {
      "text/html": [
       "\n",
       "  <div id=\"df-6f206d65-f65a-4628-8612-423da7975077\">\n",
       "    <div class=\"colab-df-container\">\n",
       "      <div>\n",
       "<style scoped>\n",
       "    .dataframe tbody tr th:only-of-type {\n",
       "        vertical-align: middle;\n",
       "    }\n",
       "\n",
       "    .dataframe tbody tr th {\n",
       "        vertical-align: top;\n",
       "    }\n",
       "\n",
       "    .dataframe thead th {\n",
       "        text-align: right;\n",
       "    }\n",
       "</style>\n",
       "<table border=\"1\" class=\"dataframe\">\n",
       "  <thead>\n",
       "    <tr style=\"text-align: right;\">\n",
       "      <th></th>\n",
       "      <th>text</th>\n",
       "      <th>target</th>\n",
       "      <th>CleanText</th>\n",
       "      <th>TokenizedText</th>\n",
       "      <th>RemoveStopWords</th>\n",
       "    </tr>\n",
       "  </thead>\n",
       "  <tbody>\n",
       "    <tr>\n",
       "      <th>0</th>\n",
       "      <td>Our Deeds are the Reason of this #earthquake M...</td>\n",
       "      <td>1</td>\n",
       "      <td>our deeds are the reason of this earthquake ma...</td>\n",
       "      <td>[our, deeds, are, the, reason, of, this, earth...</td>\n",
       "      <td>[deeds, reason, earthquake, may, allah, forgiv...</td>\n",
       "    </tr>\n",
       "    <tr>\n",
       "      <th>1</th>\n",
       "      <td>Forest fire near La Ronge Sask. Canada</td>\n",
       "      <td>1</td>\n",
       "      <td>forest fire near la ronge sask canada</td>\n",
       "      <td>[forest, fire, near, la, ronge, sask, canada]</td>\n",
       "      <td>[forest, fire, near, la, ronge, sask, canada]</td>\n",
       "    </tr>\n",
       "    <tr>\n",
       "      <th>2</th>\n",
       "      <td>All residents asked to 'shelter in place' are ...</td>\n",
       "      <td>1</td>\n",
       "      <td>all residents asked to shelter in place are be...</td>\n",
       "      <td>[all, residents, asked, to, shelter, in, place...</td>\n",
       "      <td>[residents, asked, shelter, place, notified, o...</td>\n",
       "    </tr>\n",
       "    <tr>\n",
       "      <th>3</th>\n",
       "      <td>13,000 people receive #wildfires evacuation or...</td>\n",
       "      <td>1</td>\n",
       "      <td>13000 people receive wildfires evacuation orde...</td>\n",
       "      <td>[13000, people, receive, wildfires, evacuation...</td>\n",
       "      <td>[13000, people, receive, wildfires, evacuation...</td>\n",
       "    </tr>\n",
       "    <tr>\n",
       "      <th>4</th>\n",
       "      <td>Just got sent this photo from Ruby #Alaska as ...</td>\n",
       "      <td>1</td>\n",
       "      <td>just got sent this photo from ruby alaska as s...</td>\n",
       "      <td>[just, got, sent, this, photo, from, ruby, ala...</td>\n",
       "      <td>[got, sent, photo, ruby, alaska, smoke, wildfi...</td>\n",
       "    </tr>\n",
       "  </tbody>\n",
       "</table>\n",
       "</div>\n",
       "      <button class=\"colab-df-convert\" onclick=\"convertToInteractive('df-6f206d65-f65a-4628-8612-423da7975077')\"\n",
       "              title=\"Convert this dataframe to an interactive table.\"\n",
       "              style=\"display:none;\">\n",
       "        \n",
       "  <svg xmlns=\"http://www.w3.org/2000/svg\" height=\"24px\"viewBox=\"0 0 24 24\"\n",
       "       width=\"24px\">\n",
       "    <path d=\"M0 0h24v24H0V0z\" fill=\"none\"/>\n",
       "    <path d=\"M18.56 5.44l.94 2.06.94-2.06 2.06-.94-2.06-.94-.94-2.06-.94 2.06-2.06.94zm-11 1L8.5 8.5l.94-2.06 2.06-.94-2.06-.94L8.5 2.5l-.94 2.06-2.06.94zm10 10l.94 2.06.94-2.06 2.06-.94-2.06-.94-.94-2.06-.94 2.06-2.06.94z\"/><path d=\"M17.41 7.96l-1.37-1.37c-.4-.4-.92-.59-1.43-.59-.52 0-1.04.2-1.43.59L10.3 9.45l-7.72 7.72c-.78.78-.78 2.05 0 2.83L4 21.41c.39.39.9.59 1.41.59.51 0 1.02-.2 1.41-.59l7.78-7.78 2.81-2.81c.8-.78.8-2.07 0-2.86zM5.41 20L4 18.59l7.72-7.72 1.47 1.35L5.41 20z\"/>\n",
       "  </svg>\n",
       "      </button>\n",
       "      \n",
       "  <style>\n",
       "    .colab-df-container {\n",
       "      display:flex;\n",
       "      flex-wrap:wrap;\n",
       "      gap: 12px;\n",
       "    }\n",
       "\n",
       "    .colab-df-convert {\n",
       "      background-color: #E8F0FE;\n",
       "      border: none;\n",
       "      border-radius: 50%;\n",
       "      cursor: pointer;\n",
       "      display: none;\n",
       "      fill: #1967D2;\n",
       "      height: 32px;\n",
       "      padding: 0 0 0 0;\n",
       "      width: 32px;\n",
       "    }\n",
       "\n",
       "    .colab-df-convert:hover {\n",
       "      background-color: #E2EBFA;\n",
       "      box-shadow: 0px 1px 2px rgba(60, 64, 67, 0.3), 0px 1px 3px 1px rgba(60, 64, 67, 0.15);\n",
       "      fill: #174EA6;\n",
       "    }\n",
       "\n",
       "    [theme=dark] .colab-df-convert {\n",
       "      background-color: #3B4455;\n",
       "      fill: #D2E3FC;\n",
       "    }\n",
       "\n",
       "    [theme=dark] .colab-df-convert:hover {\n",
       "      background-color: #434B5C;\n",
       "      box-shadow: 0px 1px 3px 1px rgba(0, 0, 0, 0.15);\n",
       "      filter: drop-shadow(0px 1px 2px rgba(0, 0, 0, 0.3));\n",
       "      fill: #FFFFFF;\n",
       "    }\n",
       "  </style>\n",
       "\n",
       "      <script>\n",
       "        const buttonEl =\n",
       "          document.querySelector('#df-6f206d65-f65a-4628-8612-423da7975077 button.colab-df-convert');\n",
       "        buttonEl.style.display =\n",
       "          google.colab.kernel.accessAllowed ? 'block' : 'none';\n",
       "\n",
       "        async function convertToInteractive(key) {\n",
       "          const element = document.querySelector('#df-6f206d65-f65a-4628-8612-423da7975077');\n",
       "          const dataTable =\n",
       "            await google.colab.kernel.invokeFunction('convertToInteractive',\n",
       "                                                     [key], {});\n",
       "          if (!dataTable) return;\n",
       "\n",
       "          const docLinkHtml = 'Like what you see? Visit the ' +\n",
       "            '<a target=\"_blank\" href=https://colab.research.google.com/notebooks/data_table.ipynb>data table notebook</a>'\n",
       "            + ' to learn more about interactive tables.';\n",
       "          element.innerHTML = '';\n",
       "          dataTable['output_type'] = 'display_data';\n",
       "          await google.colab.output.renderOutput(dataTable, element);\n",
       "          const docLink = document.createElement('div');\n",
       "          docLink.innerHTML = docLinkHtml;\n",
       "          element.appendChild(docLink);\n",
       "        }\n",
       "      </script>\n",
       "    </div>\n",
       "  </div>\n",
       "  "
      ],
      "text/plain": [
       "                                                text  target  \\\n",
       "0  Our Deeds are the Reason of this #earthquake M...       1   \n",
       "1             Forest fire near La Ronge Sask. Canada       1   \n",
       "2  All residents asked to 'shelter in place' are ...       1   \n",
       "3  13,000 people receive #wildfires evacuation or...       1   \n",
       "4  Just got sent this photo from Ruby #Alaska as ...       1   \n",
       "\n",
       "                                           CleanText  \\\n",
       "0  our deeds are the reason of this earthquake ma...   \n",
       "1              forest fire near la ronge sask canada   \n",
       "2  all residents asked to shelter in place are be...   \n",
       "3  13000 people receive wildfires evacuation orde...   \n",
       "4  just got sent this photo from ruby alaska as s...   \n",
       "\n",
       "                                       TokenizedText  \\\n",
       "0  [our, deeds, are, the, reason, of, this, earth...   \n",
       "1      [forest, fire, near, la, ronge, sask, canada]   \n",
       "2  [all, residents, asked, to, shelter, in, place...   \n",
       "3  [13000, people, receive, wildfires, evacuation...   \n",
       "4  [just, got, sent, this, photo, from, ruby, ala...   \n",
       "\n",
       "                                     RemoveStopWords  \n",
       "0  [deeds, reason, earthquake, may, allah, forgiv...  \n",
       "1      [forest, fire, near, la, ronge, sask, canada]  \n",
       "2  [residents, asked, shelter, place, notified, o...  \n",
       "3  [13000, people, receive, wildfires, evacuation...  \n",
       "4  [got, sent, photo, ruby, alaska, smoke, wildfi...  "
      ]
     },
     "execution_count": 344,
     "metadata": {},
     "output_type": "execute_result"
    }
   ],
   "source": [
    "stop = set(stopwords.words('english'))\n",
    "df['RemoveStopWords'] = df['TokenizedText'].apply(lambda x: [word for word in x if word not in stop])\n",
    "df.head()\n"
   ]
  },
  {
   "cell_type": "markdown",
   "metadata": {
    "id": "ZRl6Qflk7_T3"
   },
   "source": [
    "**PorterStemmer**\n",
    "\n",
    "What is PorterStemmer in NLP?\n",
    "Stemming is the process of reducing a word to its word stem that affixes to suffixes and prefixes or to the roots of words known as a lemma. Stemming is important in natural language understanding (NLU) and natural language processing (NLP)."
   ]
  },
  {
   "cell_type": "code",
   "execution_count": 345,
   "metadata": {
    "colab": {
     "base_uri": "https://localhost:8080/",
     "height": 0
    },
    "id": "Z2zd2DeU7956",
    "outputId": "1cf3ceef-5e7e-4acc-92f1-ccc751fdc08a"
   },
   "outputs": [
    {
     "data": {
      "text/html": [
       "\n",
       "  <div id=\"df-fe03d48b-239d-47dd-8802-b430470abc77\">\n",
       "    <div class=\"colab-df-container\">\n",
       "      <div>\n",
       "<style scoped>\n",
       "    .dataframe tbody tr th:only-of-type {\n",
       "        vertical-align: middle;\n",
       "    }\n",
       "\n",
       "    .dataframe tbody tr th {\n",
       "        vertical-align: top;\n",
       "    }\n",
       "\n",
       "    .dataframe thead th {\n",
       "        text-align: right;\n",
       "    }\n",
       "</style>\n",
       "<table border=\"1\" class=\"dataframe\">\n",
       "  <thead>\n",
       "    <tr style=\"text-align: right;\">\n",
       "      <th></th>\n",
       "      <th>text</th>\n",
       "      <th>target</th>\n",
       "      <th>CleanText</th>\n",
       "      <th>TokenizedText</th>\n",
       "      <th>RemoveStopWords</th>\n",
       "      <th>PorterStemmer</th>\n",
       "    </tr>\n",
       "  </thead>\n",
       "  <tbody>\n",
       "    <tr>\n",
       "      <th>0</th>\n",
       "      <td>Our Deeds are the Reason of this #earthquake M...</td>\n",
       "      <td>1</td>\n",
       "      <td>our deeds are the reason of this earthquake ma...</td>\n",
       "      <td>[our, deeds, are, the, reason, of, this, earth...</td>\n",
       "      <td>[deeds, reason, earthquake, may, allah, forgiv...</td>\n",
       "      <td>[deed, reason, earthquak, may, allah, forgiv, us]</td>\n",
       "    </tr>\n",
       "    <tr>\n",
       "      <th>1</th>\n",
       "      <td>Forest fire near La Ronge Sask. Canada</td>\n",
       "      <td>1</td>\n",
       "      <td>forest fire near la ronge sask canada</td>\n",
       "      <td>[forest, fire, near, la, ronge, sask, canada]</td>\n",
       "      <td>[forest, fire, near, la, ronge, sask, canada]</td>\n",
       "      <td>[forest, fire, near, la, rong, sask, canada]</td>\n",
       "    </tr>\n",
       "    <tr>\n",
       "      <th>2</th>\n",
       "      <td>All residents asked to 'shelter in place' are ...</td>\n",
       "      <td>1</td>\n",
       "      <td>all residents asked to shelter in place are be...</td>\n",
       "      <td>[all, residents, asked, to, shelter, in, place...</td>\n",
       "      <td>[residents, asked, shelter, place, notified, o...</td>\n",
       "      <td>[resid, ask, shelter, place, notifi, offic, ev...</td>\n",
       "    </tr>\n",
       "    <tr>\n",
       "      <th>3</th>\n",
       "      <td>13,000 people receive #wildfires evacuation or...</td>\n",
       "      <td>1</td>\n",
       "      <td>13000 people receive wildfires evacuation orde...</td>\n",
       "      <td>[13000, people, receive, wildfires, evacuation...</td>\n",
       "      <td>[13000, people, receive, wildfires, evacuation...</td>\n",
       "      <td>[13000, peopl, receiv, wildfir, evacu, order, ...</td>\n",
       "    </tr>\n",
       "    <tr>\n",
       "      <th>4</th>\n",
       "      <td>Just got sent this photo from Ruby #Alaska as ...</td>\n",
       "      <td>1</td>\n",
       "      <td>just got sent this photo from ruby alaska as s...</td>\n",
       "      <td>[just, got, sent, this, photo, from, ruby, ala...</td>\n",
       "      <td>[got, sent, photo, ruby, alaska, smoke, wildfi...</td>\n",
       "      <td>[got, sent, photo, rubi, alaska, smoke, wildfi...</td>\n",
       "    </tr>\n",
       "  </tbody>\n",
       "</table>\n",
       "</div>\n",
       "      <button class=\"colab-df-convert\" onclick=\"convertToInteractive('df-fe03d48b-239d-47dd-8802-b430470abc77')\"\n",
       "              title=\"Convert this dataframe to an interactive table.\"\n",
       "              style=\"display:none;\">\n",
       "        \n",
       "  <svg xmlns=\"http://www.w3.org/2000/svg\" height=\"24px\"viewBox=\"0 0 24 24\"\n",
       "       width=\"24px\">\n",
       "    <path d=\"M0 0h24v24H0V0z\" fill=\"none\"/>\n",
       "    <path d=\"M18.56 5.44l.94 2.06.94-2.06 2.06-.94-2.06-.94-.94-2.06-.94 2.06-2.06.94zm-11 1L8.5 8.5l.94-2.06 2.06-.94-2.06-.94L8.5 2.5l-.94 2.06-2.06.94zm10 10l.94 2.06.94-2.06 2.06-.94-2.06-.94-.94-2.06-.94 2.06-2.06.94z\"/><path d=\"M17.41 7.96l-1.37-1.37c-.4-.4-.92-.59-1.43-.59-.52 0-1.04.2-1.43.59L10.3 9.45l-7.72 7.72c-.78.78-.78 2.05 0 2.83L4 21.41c.39.39.9.59 1.41.59.51 0 1.02-.2 1.41-.59l7.78-7.78 2.81-2.81c.8-.78.8-2.07 0-2.86zM5.41 20L4 18.59l7.72-7.72 1.47 1.35L5.41 20z\"/>\n",
       "  </svg>\n",
       "      </button>\n",
       "      \n",
       "  <style>\n",
       "    .colab-df-container {\n",
       "      display:flex;\n",
       "      flex-wrap:wrap;\n",
       "      gap: 12px;\n",
       "    }\n",
       "\n",
       "    .colab-df-convert {\n",
       "      background-color: #E8F0FE;\n",
       "      border: none;\n",
       "      border-radius: 50%;\n",
       "      cursor: pointer;\n",
       "      display: none;\n",
       "      fill: #1967D2;\n",
       "      height: 32px;\n",
       "      padding: 0 0 0 0;\n",
       "      width: 32px;\n",
       "    }\n",
       "\n",
       "    .colab-df-convert:hover {\n",
       "      background-color: #E2EBFA;\n",
       "      box-shadow: 0px 1px 2px rgba(60, 64, 67, 0.3), 0px 1px 3px 1px rgba(60, 64, 67, 0.15);\n",
       "      fill: #174EA6;\n",
       "    }\n",
       "\n",
       "    [theme=dark] .colab-df-convert {\n",
       "      background-color: #3B4455;\n",
       "      fill: #D2E3FC;\n",
       "    }\n",
       "\n",
       "    [theme=dark] .colab-df-convert:hover {\n",
       "      background-color: #434B5C;\n",
       "      box-shadow: 0px 1px 3px 1px rgba(0, 0, 0, 0.15);\n",
       "      filter: drop-shadow(0px 1px 2px rgba(0, 0, 0, 0.3));\n",
       "      fill: #FFFFFF;\n",
       "    }\n",
       "  </style>\n",
       "\n",
       "      <script>\n",
       "        const buttonEl =\n",
       "          document.querySelector('#df-fe03d48b-239d-47dd-8802-b430470abc77 button.colab-df-convert');\n",
       "        buttonEl.style.display =\n",
       "          google.colab.kernel.accessAllowed ? 'block' : 'none';\n",
       "\n",
       "        async function convertToInteractive(key) {\n",
       "          const element = document.querySelector('#df-fe03d48b-239d-47dd-8802-b430470abc77');\n",
       "          const dataTable =\n",
       "            await google.colab.kernel.invokeFunction('convertToInteractive',\n",
       "                                                     [key], {});\n",
       "          if (!dataTable) return;\n",
       "\n",
       "          const docLinkHtml = 'Like what you see? Visit the ' +\n",
       "            '<a target=\"_blank\" href=https://colab.research.google.com/notebooks/data_table.ipynb>data table notebook</a>'\n",
       "            + ' to learn more about interactive tables.';\n",
       "          element.innerHTML = '';\n",
       "          dataTable['output_type'] = 'display_data';\n",
       "          await google.colab.output.renderOutput(dataTable, element);\n",
       "          const docLink = document.createElement('div');\n",
       "          docLink.innerHTML = docLinkHtml;\n",
       "          element.appendChild(docLink);\n",
       "        }\n",
       "      </script>\n",
       "    </div>\n",
       "  </div>\n",
       "  "
      ],
      "text/plain": [
       "                                                text  target  \\\n",
       "0  Our Deeds are the Reason of this #earthquake M...       1   \n",
       "1             Forest fire near La Ronge Sask. Canada       1   \n",
       "2  All residents asked to 'shelter in place' are ...       1   \n",
       "3  13,000 people receive #wildfires evacuation or...       1   \n",
       "4  Just got sent this photo from Ruby #Alaska as ...       1   \n",
       "\n",
       "                                           CleanText  \\\n",
       "0  our deeds are the reason of this earthquake ma...   \n",
       "1              forest fire near la ronge sask canada   \n",
       "2  all residents asked to shelter in place are be...   \n",
       "3  13000 people receive wildfires evacuation orde...   \n",
       "4  just got sent this photo from ruby alaska as s...   \n",
       "\n",
       "                                       TokenizedText  \\\n",
       "0  [our, deeds, are, the, reason, of, this, earth...   \n",
       "1      [forest, fire, near, la, ronge, sask, canada]   \n",
       "2  [all, residents, asked, to, shelter, in, place...   \n",
       "3  [13000, people, receive, wildfires, evacuation...   \n",
       "4  [just, got, sent, this, photo, from, ruby, ala...   \n",
       "\n",
       "                                     RemoveStopWords  \\\n",
       "0  [deeds, reason, earthquake, may, allah, forgiv...   \n",
       "1      [forest, fire, near, la, ronge, sask, canada]   \n",
       "2  [residents, asked, shelter, place, notified, o...   \n",
       "3  [13000, people, receive, wildfires, evacuation...   \n",
       "4  [got, sent, photo, ruby, alaska, smoke, wildfi...   \n",
       "\n",
       "                                       PorterStemmer  \n",
       "0  [deed, reason, earthquak, may, allah, forgiv, us]  \n",
       "1       [forest, fire, near, la, rong, sask, canada]  \n",
       "2  [resid, ask, shelter, place, notifi, offic, ev...  \n",
       "3  [13000, peopl, receiv, wildfir, evacu, order, ...  \n",
       "4  [got, sent, photo, rubi, alaska, smoke, wildfi...  "
      ]
     },
     "execution_count": 345,
     "metadata": {},
     "output_type": "execute_result"
    }
   ],
   "source": [
    "def doPorterStemmer(text):\n",
    "    stemmer = nltk.PorterStemmer()\n",
    "    stems = [stemmer.stem(i) for i in text]\n",
    "    return stems\n",
    "\n",
    "df['PorterStemmer'] = df['RemoveStopWords'].apply(lambda x: doPorterStemmer(x))\n",
    "df.head()"
   ]
  },
  {
   "cell_type": "markdown",
   "metadata": {
    "id": "RP1JDYhq8dSB"
   },
   "source": [
    "**WordNetLemmatizer**"
   ]
  },
  {
   "cell_type": "code",
   "execution_count": 346,
   "metadata": {
    "colab": {
     "base_uri": "https://localhost:8080/",
     "height": 0
    },
    "id": "GrIqpX6e8Ta_",
    "outputId": "7f495eff-9807-4bdc-f8e5-6748968a859b"
   },
   "outputs": [
    {
     "data": {
      "text/html": [
       "\n",
       "  <div id=\"df-d70b7080-8ce0-4791-b0fa-4ac7fdcb9060\">\n",
       "    <div class=\"colab-df-container\">\n",
       "      <div>\n",
       "<style scoped>\n",
       "    .dataframe tbody tr th:only-of-type {\n",
       "        vertical-align: middle;\n",
       "    }\n",
       "\n",
       "    .dataframe tbody tr th {\n",
       "        vertical-align: top;\n",
       "    }\n",
       "\n",
       "    .dataframe thead th {\n",
       "        text-align: right;\n",
       "    }\n",
       "</style>\n",
       "<table border=\"1\" class=\"dataframe\">\n",
       "  <thead>\n",
       "    <tr style=\"text-align: right;\">\n",
       "      <th></th>\n",
       "      <th>text</th>\n",
       "      <th>target</th>\n",
       "      <th>CleanText</th>\n",
       "      <th>TokenizedText</th>\n",
       "      <th>RemoveStopWords</th>\n",
       "      <th>PorterStemmer</th>\n",
       "      <th>LemmatizedText</th>\n",
       "    </tr>\n",
       "  </thead>\n",
       "  <tbody>\n",
       "    <tr>\n",
       "      <th>0</th>\n",
       "      <td>Our Deeds are the Reason of this #earthquake M...</td>\n",
       "      <td>1</td>\n",
       "      <td>our deeds are the reason of this earthquake ma...</td>\n",
       "      <td>[our, deeds, are, the, reason, of, this, earth...</td>\n",
       "      <td>[deeds, reason, earthquake, may, allah, forgiv...</td>\n",
       "      <td>[deed, reason, earthquak, may, allah, forgiv, us]</td>\n",
       "      <td>[deed, reason, earthquake, may, allah, forgive...</td>\n",
       "    </tr>\n",
       "    <tr>\n",
       "      <th>1</th>\n",
       "      <td>Forest fire near La Ronge Sask. Canada</td>\n",
       "      <td>1</td>\n",
       "      <td>forest fire near la ronge sask canada</td>\n",
       "      <td>[forest, fire, near, la, ronge, sask, canada]</td>\n",
       "      <td>[forest, fire, near, la, ronge, sask, canada]</td>\n",
       "      <td>[forest, fire, near, la, rong, sask, canada]</td>\n",
       "      <td>[forest, fire, near, la, ronge, sask, canada]</td>\n",
       "    </tr>\n",
       "    <tr>\n",
       "      <th>2</th>\n",
       "      <td>All residents asked to 'shelter in place' are ...</td>\n",
       "      <td>1</td>\n",
       "      <td>all residents asked to shelter in place are be...</td>\n",
       "      <td>[all, residents, asked, to, shelter, in, place...</td>\n",
       "      <td>[residents, asked, shelter, place, notified, o...</td>\n",
       "      <td>[resid, ask, shelter, place, notifi, offic, ev...</td>\n",
       "      <td>[resident, asked, shelter, place, notified, of...</td>\n",
       "    </tr>\n",
       "    <tr>\n",
       "      <th>3</th>\n",
       "      <td>13,000 people receive #wildfires evacuation or...</td>\n",
       "      <td>1</td>\n",
       "      <td>13000 people receive wildfires evacuation orde...</td>\n",
       "      <td>[13000, people, receive, wildfires, evacuation...</td>\n",
       "      <td>[13000, people, receive, wildfires, evacuation...</td>\n",
       "      <td>[13000, peopl, receiv, wildfir, evacu, order, ...</td>\n",
       "      <td>[13000, people, receive, wildfire, evacuation,...</td>\n",
       "    </tr>\n",
       "    <tr>\n",
       "      <th>4</th>\n",
       "      <td>Just got sent this photo from Ruby #Alaska as ...</td>\n",
       "      <td>1</td>\n",
       "      <td>just got sent this photo from ruby alaska as s...</td>\n",
       "      <td>[just, got, sent, this, photo, from, ruby, ala...</td>\n",
       "      <td>[got, sent, photo, ruby, alaska, smoke, wildfi...</td>\n",
       "      <td>[got, sent, photo, rubi, alaska, smoke, wildfi...</td>\n",
       "      <td>[got, sent, photo, ruby, alaska, smoke, wildfi...</td>\n",
       "    </tr>\n",
       "  </tbody>\n",
       "</table>\n",
       "</div>\n",
       "      <button class=\"colab-df-convert\" onclick=\"convertToInteractive('df-d70b7080-8ce0-4791-b0fa-4ac7fdcb9060')\"\n",
       "              title=\"Convert this dataframe to an interactive table.\"\n",
       "              style=\"display:none;\">\n",
       "        \n",
       "  <svg xmlns=\"http://www.w3.org/2000/svg\" height=\"24px\"viewBox=\"0 0 24 24\"\n",
       "       width=\"24px\">\n",
       "    <path d=\"M0 0h24v24H0V0z\" fill=\"none\"/>\n",
       "    <path d=\"M18.56 5.44l.94 2.06.94-2.06 2.06-.94-2.06-.94-.94-2.06-.94 2.06-2.06.94zm-11 1L8.5 8.5l.94-2.06 2.06-.94-2.06-.94L8.5 2.5l-.94 2.06-2.06.94zm10 10l.94 2.06.94-2.06 2.06-.94-2.06-.94-.94-2.06-.94 2.06-2.06.94z\"/><path d=\"M17.41 7.96l-1.37-1.37c-.4-.4-.92-.59-1.43-.59-.52 0-1.04.2-1.43.59L10.3 9.45l-7.72 7.72c-.78.78-.78 2.05 0 2.83L4 21.41c.39.39.9.59 1.41.59.51 0 1.02-.2 1.41-.59l7.78-7.78 2.81-2.81c.8-.78.8-2.07 0-2.86zM5.41 20L4 18.59l7.72-7.72 1.47 1.35L5.41 20z\"/>\n",
       "  </svg>\n",
       "      </button>\n",
       "      \n",
       "  <style>\n",
       "    .colab-df-container {\n",
       "      display:flex;\n",
       "      flex-wrap:wrap;\n",
       "      gap: 12px;\n",
       "    }\n",
       "\n",
       "    .colab-df-convert {\n",
       "      background-color: #E8F0FE;\n",
       "      border: none;\n",
       "      border-radius: 50%;\n",
       "      cursor: pointer;\n",
       "      display: none;\n",
       "      fill: #1967D2;\n",
       "      height: 32px;\n",
       "      padding: 0 0 0 0;\n",
       "      width: 32px;\n",
       "    }\n",
       "\n",
       "    .colab-df-convert:hover {\n",
       "      background-color: #E2EBFA;\n",
       "      box-shadow: 0px 1px 2px rgba(60, 64, 67, 0.3), 0px 1px 3px 1px rgba(60, 64, 67, 0.15);\n",
       "      fill: #174EA6;\n",
       "    }\n",
       "\n",
       "    [theme=dark] .colab-df-convert {\n",
       "      background-color: #3B4455;\n",
       "      fill: #D2E3FC;\n",
       "    }\n",
       "\n",
       "    [theme=dark] .colab-df-convert:hover {\n",
       "      background-color: #434B5C;\n",
       "      box-shadow: 0px 1px 3px 1px rgba(0, 0, 0, 0.15);\n",
       "      filter: drop-shadow(0px 1px 2px rgba(0, 0, 0, 0.3));\n",
       "      fill: #FFFFFF;\n",
       "    }\n",
       "  </style>\n",
       "\n",
       "      <script>\n",
       "        const buttonEl =\n",
       "          document.querySelector('#df-d70b7080-8ce0-4791-b0fa-4ac7fdcb9060 button.colab-df-convert');\n",
       "        buttonEl.style.display =\n",
       "          google.colab.kernel.accessAllowed ? 'block' : 'none';\n",
       "\n",
       "        async function convertToInteractive(key) {\n",
       "          const element = document.querySelector('#df-d70b7080-8ce0-4791-b0fa-4ac7fdcb9060');\n",
       "          const dataTable =\n",
       "            await google.colab.kernel.invokeFunction('convertToInteractive',\n",
       "                                                     [key], {});\n",
       "          if (!dataTable) return;\n",
       "\n",
       "          const docLinkHtml = 'Like what you see? Visit the ' +\n",
       "            '<a target=\"_blank\" href=https://colab.research.google.com/notebooks/data_table.ipynb>data table notebook</a>'\n",
       "            + ' to learn more about interactive tables.';\n",
       "          element.innerHTML = '';\n",
       "          dataTable['output_type'] = 'display_data';\n",
       "          await google.colab.output.renderOutput(dataTable, element);\n",
       "          const docLink = document.createElement('div');\n",
       "          docLink.innerHTML = docLinkHtml;\n",
       "          element.appendChild(docLink);\n",
       "        }\n",
       "      </script>\n",
       "    </div>\n",
       "  </div>\n",
       "  "
      ],
      "text/plain": [
       "                                                text  target  \\\n",
       "0  Our Deeds are the Reason of this #earthquake M...       1   \n",
       "1             Forest fire near La Ronge Sask. Canada       1   \n",
       "2  All residents asked to 'shelter in place' are ...       1   \n",
       "3  13,000 people receive #wildfires evacuation or...       1   \n",
       "4  Just got sent this photo from Ruby #Alaska as ...       1   \n",
       "\n",
       "                                           CleanText  \\\n",
       "0  our deeds are the reason of this earthquake ma...   \n",
       "1              forest fire near la ronge sask canada   \n",
       "2  all residents asked to shelter in place are be...   \n",
       "3  13000 people receive wildfires evacuation orde...   \n",
       "4  just got sent this photo from ruby alaska as s...   \n",
       "\n",
       "                                       TokenizedText  \\\n",
       "0  [our, deeds, are, the, reason, of, this, earth...   \n",
       "1      [forest, fire, near, la, ronge, sask, canada]   \n",
       "2  [all, residents, asked, to, shelter, in, place...   \n",
       "3  [13000, people, receive, wildfires, evacuation...   \n",
       "4  [just, got, sent, this, photo, from, ruby, ala...   \n",
       "\n",
       "                                     RemoveStopWords  \\\n",
       "0  [deeds, reason, earthquake, may, allah, forgiv...   \n",
       "1      [forest, fire, near, la, ronge, sask, canada]   \n",
       "2  [residents, asked, shelter, place, notified, o...   \n",
       "3  [13000, people, receive, wildfires, evacuation...   \n",
       "4  [got, sent, photo, ruby, alaska, smoke, wildfi...   \n",
       "\n",
       "                                       PorterStemmer  \\\n",
       "0  [deed, reason, earthquak, may, allah, forgiv, us]   \n",
       "1       [forest, fire, near, la, rong, sask, canada]   \n",
       "2  [resid, ask, shelter, place, notifi, offic, ev...   \n",
       "3  [13000, peopl, receiv, wildfir, evacu, order, ...   \n",
       "4  [got, sent, photo, rubi, alaska, smoke, wildfi...   \n",
       "\n",
       "                                      LemmatizedText  \n",
       "0  [deed, reason, earthquake, may, allah, forgive...  \n",
       "1      [forest, fire, near, la, ronge, sask, canada]  \n",
       "2  [resident, asked, shelter, place, notified, of...  \n",
       "3  [13000, people, receive, wildfire, evacuation,...  \n",
       "4  [got, sent, photo, ruby, alaska, smoke, wildfi...  "
      ]
     },
     "execution_count": 346,
     "metadata": {},
     "output_type": "execute_result"
    }
   ],
   "source": [
    "def doLemmatizeWord(text):\n",
    "    lemmatizer = WordNetLemmatizer()\n",
    "    lemma = [lemmatizer.lemmatize(word) for word in text]\n",
    "    return lemma\n",
    "\n",
    "df['LemmatizedText'] = df['RemoveStopWords'].apply(lambda x: doLemmatizeWord(x))\n",
    "df.head()\n"
   ]
  },
  {
   "cell_type": "markdown",
   "metadata": {},
   "source": [
    "**We decided to use Lemmatizer because some research told Lemmatizer have better performance.**"
   ]
  },
  {
   "cell_type": "code",
   "execution_count": 347,
   "metadata": {
    "colab": {
     "base_uri": "https://localhost:8080/",
     "height": 0
    },
    "id": "rVLNaeSN88VB",
    "outputId": "c05f4b8f-9e7e-4c40-aaf6-586c8d61b234"
   },
   "outputs": [
    {
     "data": {
      "text/html": [
       "\n",
       "  <div id=\"df-89eb3df3-9deb-41e3-998b-0a4c955d00a7\">\n",
       "    <div class=\"colab-df-container\">\n",
       "      <div>\n",
       "<style scoped>\n",
       "    .dataframe tbody tr th:only-of-type {\n",
       "        vertical-align: middle;\n",
       "    }\n",
       "\n",
       "    .dataframe tbody tr th {\n",
       "        vertical-align: top;\n",
       "    }\n",
       "\n",
       "    .dataframe thead th {\n",
       "        text-align: right;\n",
       "    }\n",
       "</style>\n",
       "<table border=\"1\" class=\"dataframe\">\n",
       "  <thead>\n",
       "    <tr style=\"text-align: right;\">\n",
       "      <th></th>\n",
       "      <th>text</th>\n",
       "      <th>target</th>\n",
       "      <th>CleanText</th>\n",
       "      <th>TokenizedText</th>\n",
       "      <th>RemoveStopWords</th>\n",
       "      <th>PorterStemmer</th>\n",
       "      <th>LemmatizedText</th>\n",
       "      <th>FINAL</th>\n",
       "    </tr>\n",
       "  </thead>\n",
       "  <tbody>\n",
       "    <tr>\n",
       "      <th>0</th>\n",
       "      <td>Our Deeds are the Reason of this #earthquake M...</td>\n",
       "      <td>1</td>\n",
       "      <td>our deeds are the reason of this earthquake ma...</td>\n",
       "      <td>[our, deeds, are, the, reason, of, this, earth...</td>\n",
       "      <td>[deeds, reason, earthquake, may, allah, forgiv...</td>\n",
       "      <td>[deed, reason, earthquak, may, allah, forgiv, us]</td>\n",
       "      <td>[deed, reason, earthquake, may, allah, forgive...</td>\n",
       "      <td>deed reason earthquake may allah forgive u</td>\n",
       "    </tr>\n",
       "    <tr>\n",
       "      <th>1</th>\n",
       "      <td>Forest fire near La Ronge Sask. Canada</td>\n",
       "      <td>1</td>\n",
       "      <td>forest fire near la ronge sask canada</td>\n",
       "      <td>[forest, fire, near, la, ronge, sask, canada]</td>\n",
       "      <td>[forest, fire, near, la, ronge, sask, canada]</td>\n",
       "      <td>[forest, fire, near, la, rong, sask, canada]</td>\n",
       "      <td>[forest, fire, near, la, ronge, sask, canada]</td>\n",
       "      <td>forest fire near la ronge sask canada</td>\n",
       "    </tr>\n",
       "    <tr>\n",
       "      <th>2</th>\n",
       "      <td>All residents asked to 'shelter in place' are ...</td>\n",
       "      <td>1</td>\n",
       "      <td>all residents asked to shelter in place are be...</td>\n",
       "      <td>[all, residents, asked, to, shelter, in, place...</td>\n",
       "      <td>[residents, asked, shelter, place, notified, o...</td>\n",
       "      <td>[resid, ask, shelter, place, notifi, offic, ev...</td>\n",
       "      <td>[resident, asked, shelter, place, notified, of...</td>\n",
       "      <td>resident asked shelter place notified officer ...</td>\n",
       "    </tr>\n",
       "    <tr>\n",
       "      <th>3</th>\n",
       "      <td>13,000 people receive #wildfires evacuation or...</td>\n",
       "      <td>1</td>\n",
       "      <td>13000 people receive wildfires evacuation orde...</td>\n",
       "      <td>[13000, people, receive, wildfires, evacuation...</td>\n",
       "      <td>[13000, people, receive, wildfires, evacuation...</td>\n",
       "      <td>[13000, peopl, receiv, wildfir, evacu, order, ...</td>\n",
       "      <td>[13000, people, receive, wildfire, evacuation,...</td>\n",
       "      <td>13000 people receive wildfire evacuation order...</td>\n",
       "    </tr>\n",
       "    <tr>\n",
       "      <th>4</th>\n",
       "      <td>Just got sent this photo from Ruby #Alaska as ...</td>\n",
       "      <td>1</td>\n",
       "      <td>just got sent this photo from ruby alaska as s...</td>\n",
       "      <td>[just, got, sent, this, photo, from, ruby, ala...</td>\n",
       "      <td>[got, sent, photo, ruby, alaska, smoke, wildfi...</td>\n",
       "      <td>[got, sent, photo, rubi, alaska, smoke, wildfi...</td>\n",
       "      <td>[got, sent, photo, ruby, alaska, smoke, wildfi...</td>\n",
       "      <td>got sent photo ruby alaska smoke wildfire pour...</td>\n",
       "    </tr>\n",
       "  </tbody>\n",
       "</table>\n",
       "</div>\n",
       "      <button class=\"colab-df-convert\" onclick=\"convertToInteractive('df-89eb3df3-9deb-41e3-998b-0a4c955d00a7')\"\n",
       "              title=\"Convert this dataframe to an interactive table.\"\n",
       "              style=\"display:none;\">\n",
       "        \n",
       "  <svg xmlns=\"http://www.w3.org/2000/svg\" height=\"24px\"viewBox=\"0 0 24 24\"\n",
       "       width=\"24px\">\n",
       "    <path d=\"M0 0h24v24H0V0z\" fill=\"none\"/>\n",
       "    <path d=\"M18.56 5.44l.94 2.06.94-2.06 2.06-.94-2.06-.94-.94-2.06-.94 2.06-2.06.94zm-11 1L8.5 8.5l.94-2.06 2.06-.94-2.06-.94L8.5 2.5l-.94 2.06-2.06.94zm10 10l.94 2.06.94-2.06 2.06-.94-2.06-.94-.94-2.06-.94 2.06-2.06.94z\"/><path d=\"M17.41 7.96l-1.37-1.37c-.4-.4-.92-.59-1.43-.59-.52 0-1.04.2-1.43.59L10.3 9.45l-7.72 7.72c-.78.78-.78 2.05 0 2.83L4 21.41c.39.39.9.59 1.41.59.51 0 1.02-.2 1.41-.59l7.78-7.78 2.81-2.81c.8-.78.8-2.07 0-2.86zM5.41 20L4 18.59l7.72-7.72 1.47 1.35L5.41 20z\"/>\n",
       "  </svg>\n",
       "      </button>\n",
       "      \n",
       "  <style>\n",
       "    .colab-df-container {\n",
       "      display:flex;\n",
       "      flex-wrap:wrap;\n",
       "      gap: 12px;\n",
       "    }\n",
       "\n",
       "    .colab-df-convert {\n",
       "      background-color: #E8F0FE;\n",
       "      border: none;\n",
       "      border-radius: 50%;\n",
       "      cursor: pointer;\n",
       "      display: none;\n",
       "      fill: #1967D2;\n",
       "      height: 32px;\n",
       "      padding: 0 0 0 0;\n",
       "      width: 32px;\n",
       "    }\n",
       "\n",
       "    .colab-df-convert:hover {\n",
       "      background-color: #E2EBFA;\n",
       "      box-shadow: 0px 1px 2px rgba(60, 64, 67, 0.3), 0px 1px 3px 1px rgba(60, 64, 67, 0.15);\n",
       "      fill: #174EA6;\n",
       "    }\n",
       "\n",
       "    [theme=dark] .colab-df-convert {\n",
       "      background-color: #3B4455;\n",
       "      fill: #D2E3FC;\n",
       "    }\n",
       "\n",
       "    [theme=dark] .colab-df-convert:hover {\n",
       "      background-color: #434B5C;\n",
       "      box-shadow: 0px 1px 3px 1px rgba(0, 0, 0, 0.15);\n",
       "      filter: drop-shadow(0px 1px 2px rgba(0, 0, 0, 0.3));\n",
       "      fill: #FFFFFF;\n",
       "    }\n",
       "  </style>\n",
       "\n",
       "      <script>\n",
       "        const buttonEl =\n",
       "          document.querySelector('#df-89eb3df3-9deb-41e3-998b-0a4c955d00a7 button.colab-df-convert');\n",
       "        buttonEl.style.display =\n",
       "          google.colab.kernel.accessAllowed ? 'block' : 'none';\n",
       "\n",
       "        async function convertToInteractive(key) {\n",
       "          const element = document.querySelector('#df-89eb3df3-9deb-41e3-998b-0a4c955d00a7');\n",
       "          const dataTable =\n",
       "            await google.colab.kernel.invokeFunction('convertToInteractive',\n",
       "                                                     [key], {});\n",
       "          if (!dataTable) return;\n",
       "\n",
       "          const docLinkHtml = 'Like what you see? Visit the ' +\n",
       "            '<a target=\"_blank\" href=https://colab.research.google.com/notebooks/data_table.ipynb>data table notebook</a>'\n",
       "            + ' to learn more about interactive tables.';\n",
       "          element.innerHTML = '';\n",
       "          dataTable['output_type'] = 'display_data';\n",
       "          await google.colab.output.renderOutput(dataTable, element);\n",
       "          const docLink = document.createElement('div');\n",
       "          docLink.innerHTML = docLinkHtml;\n",
       "          element.appendChild(docLink);\n",
       "        }\n",
       "      </script>\n",
       "    </div>\n",
       "  </div>\n",
       "  "
      ],
      "text/plain": [
       "                                                text  target  \\\n",
       "0  Our Deeds are the Reason of this #earthquake M...       1   \n",
       "1             Forest fire near La Ronge Sask. Canada       1   \n",
       "2  All residents asked to 'shelter in place' are ...       1   \n",
       "3  13,000 people receive #wildfires evacuation or...       1   \n",
       "4  Just got sent this photo from Ruby #Alaska as ...       1   \n",
       "\n",
       "                                           CleanText  \\\n",
       "0  our deeds are the reason of this earthquake ma...   \n",
       "1              forest fire near la ronge sask canada   \n",
       "2  all residents asked to shelter in place are be...   \n",
       "3  13000 people receive wildfires evacuation orde...   \n",
       "4  just got sent this photo from ruby alaska as s...   \n",
       "\n",
       "                                       TokenizedText  \\\n",
       "0  [our, deeds, are, the, reason, of, this, earth...   \n",
       "1      [forest, fire, near, la, ronge, sask, canada]   \n",
       "2  [all, residents, asked, to, shelter, in, place...   \n",
       "3  [13000, people, receive, wildfires, evacuation...   \n",
       "4  [just, got, sent, this, photo, from, ruby, ala...   \n",
       "\n",
       "                                     RemoveStopWords  \\\n",
       "0  [deeds, reason, earthquake, may, allah, forgiv...   \n",
       "1      [forest, fire, near, la, ronge, sask, canada]   \n",
       "2  [residents, asked, shelter, place, notified, o...   \n",
       "3  [13000, people, receive, wildfires, evacuation...   \n",
       "4  [got, sent, photo, ruby, alaska, smoke, wildfi...   \n",
       "\n",
       "                                       PorterStemmer  \\\n",
       "0  [deed, reason, earthquak, may, allah, forgiv, us]   \n",
       "1       [forest, fire, near, la, rong, sask, canada]   \n",
       "2  [resid, ask, shelter, place, notifi, offic, ev...   \n",
       "3  [13000, peopl, receiv, wildfir, evacu, order, ...   \n",
       "4  [got, sent, photo, rubi, alaska, smoke, wildfi...   \n",
       "\n",
       "                                      LemmatizedText  \\\n",
       "0  [deed, reason, earthquake, may, allah, forgive...   \n",
       "1      [forest, fire, near, la, ronge, sask, canada]   \n",
       "2  [resident, asked, shelter, place, notified, of...   \n",
       "3  [13000, people, receive, wildfire, evacuation,...   \n",
       "4  [got, sent, photo, ruby, alaska, smoke, wildfi...   \n",
       "\n",
       "                                               FINAL  \n",
       "0        deed reason earthquake may allah forgive u   \n",
       "1             forest fire near la ronge sask canada   \n",
       "2  resident asked shelter place notified officer ...  \n",
       "3  13000 people receive wildfire evacuation order...  \n",
       "4  got sent photo ruby alaska smoke wildfire pour...  "
      ]
     },
     "execution_count": 347,
     "metadata": {},
     "output_type": "execute_result"
    }
   ],
   "source": [
    "df['FINAL']=df['LemmatizedText'].apply(lambda x: ''.join(i+' ' for i in x))\n",
    "df.head()"
   ]
  },
  {
   "cell_type": "code",
   "execution_count": 348,
   "metadata": {
    "id": "Ia1WZFWmjCaX"
   },
   "outputs": [],
   "source": [
    "#checking for the dataset.\n",
    "df.to_csv(\"normalized_dataset.csv\")"
   ]
  },
  {
   "cell_type": "markdown",
   "metadata": {
    "id": "1i4lWhyTPBX5",
    "tags": []
   },
   "source": [
    "# Visualization with Seaborn barplot and WordCloud based on (Target-1 Target-0)"
   ]
  },
  {
   "cell_type": "code",
   "execution_count": 349,
   "metadata": {
    "colab": {
     "base_uri": "https://localhost:8080/",
     "height": 0
    },
    "id": "u3fOkdosApsH",
    "outputId": "daa15b79-a102-456d-a7f5-0a821a32cc63"
   },
   "outputs": [
    {
     "name": "stderr",
     "output_type": "stream",
     "text": [
      "/usr/local/lib/python3.7/dist-packages/ipykernel_launcher.py:8: SettingWithCopyWarning: \n",
      "A value is trying to be set on a copy of a slice from a DataFrame\n",
      "\n",
      "See the caveats in the documentation: https://pandas.pydata.org/pandas-docs/stable/user_guide/indexing.html#returning-a-view-versus-a-copy\n",
      "  \n"
     ]
    },
    {
     "data": {
      "text/plain": [
       "<matplotlib.axes._subplots.AxesSubplot at 0x7f3b29046110>"
      ]
     },
     "execution_count": 349,
     "metadata": {},
     "output_type": "execute_result"
    },
    {
     "data": {
      "image/png": "[encoded data removed]",
      "text/plain": [
       "<Figure size 432x288 with 1 Axes>"
      ]
     },
     "metadata": {
      "needs_background": "light"
     },
     "output_type": "display_data"
    }
   ],
   "source": [
    "df['LemmatizedText']\n",
    "\n",
    "\n",
    "df['numWords']= 0\n",
    "\n",
    "for ind in df.index:\n",
    "     #print(len(df['LemmatizedText'][ind]))\n",
    "     df['numWords'][ind] = len(df['LemmatizedText'][ind])\n",
    "\n",
    "sns.histplot(data=df, x=\"numWords\", hue='target', kde=True)"
   ]
  },
  {
   "cell_type": "code",
   "execution_count": 350,
   "metadata": {
    "colab": {
     "base_uri": "https://localhost:8080/"
    },
    "id": "1yf0IKHvN6_m",
    "outputId": "c4078f67-0584-441e-c5bd-66ee7bdb1862"
   },
   "outputs": [
    {
     "name": "stdout",
     "output_type": "stream",
     "text": [
      "Collecting git+https://****@github.com/kavgan/word_cloud.git\n",
      "  Cloning https://****@github.com/kavgan/word_cloud.git to /tmp/pip-req-build-wy5rtvoy\n",
      "  Running command git clone -q 'https://****@github.com/kavgan/word_cloud.git' /tmp/pip-req-build-wy5rtvoy\n",
      "Requirement already satisfied: scikit-learn>=0.19.1 in /usr/local/lib/python3.7/dist-packages (from word-cloud==0.0.0) (1.0.2)\n",
      "Requirement already satisfied: pandas>=0.20.3 in /usr/local/lib/python3.7/dist-packages (from word-cloud==0.0.0) (1.3.5)\n",
      "Requirement already satisfied: pytz>=2017.3 in /usr/local/lib/python3.7/dist-packages (from pandas>=0.20.3->word-cloud==0.0.0) (2022.1)\n",
      "Requirement already satisfied: numpy>=1.17.3 in /usr/local/lib/python3.7/dist-packages (from pandas>=0.20.3->word-cloud==0.0.0) (1.21.6)\n",
      "Requirement already satisfied: python-dateutil>=2.7.3 in /usr/local/lib/python3.7/dist-packages (from pandas>=0.20.3->word-cloud==0.0.0) (2.8.2)\n",
      "Requirement already satisfied: six>=1.5 in /usr/local/lib/python3.7/dist-packages (from python-dateutil>=2.7.3->pandas>=0.20.3->word-cloud==0.0.0) (1.15.0)\n",
      "Requirement already satisfied: scipy>=1.1.0 in /usr/local/lib/python3.7/dist-packages (from scikit-learn>=0.19.1->word-cloud==0.0.0) (1.4.1)\n",
      "Requirement already satisfied: joblib>=0.11 in /usr/local/lib/python3.7/dist-packages (from scikit-learn>=0.19.1->word-cloud==0.0.0) (1.1.0)\n",
      "Requirement already satisfied: threadpoolctl>=2.0.0 in /usr/local/lib/python3.7/dist-packages (from scikit-learn>=0.19.1->word-cloud==0.0.0) (3.1.0)\n"
     ]
    }
   ],
   "source": [
    "!pip install git+https://git@github.com/kavgan/word_cloud.git"
   ]
  },
  {
   "cell_type": "code",
   "execution_count": 351,
   "metadata": {
    "id": "lGC8APi6PC_y"
   },
   "outputs": [],
   "source": [
    "df_disaster = df[df['target']==1]\n",
    "df_nodisater = df[df['target']==0]\n"
   ]
  },
  {
   "cell_type": "code",
   "execution_count": 352,
   "metadata": {
    "id": "H6JzxvQAPgS7"
   },
   "outputs": [],
   "source": [
    "ENGLISH_STOP_WORDS = frozenset([\n",
    "    \"a\", \"about\", \"above\", \"across\", \"after\", \"afterwards\", \"again\", \"against\",\n",
    "    \"all\", \"almost\", \"alone\", \"along\", \"already\", \"also\", \"although\", \"always\",\n",
    "    \"am\", \"among\", \"amongst\", \"amoungst\", \"amount\", \"an\", \"and\", \"another\",\n",
    "    \"any\", \"anyhow\", \"anyone\", \"anything\", \"anyway\", \"anywhere\", \"are\",\n",
    "    \"around\", \"as\", \"at\", \"back\", \"be\", \"became\", \"because\", \"become\",\n",
    "    \"becomes\", \"becoming\", \"been\", \"before\", \"beforehand\", \"behind\", \"being\",\n",
    "    \"below\", \"beside\", \"besides\", \"between\", \"beyond\", \"bill\", \"both\",\n",
    "    \"bottom\", \"but\", \"by\", \"call\", \"can\", \"cannot\", \"cant\", \"co\", \"con\",\n",
    "    \"could\", \"couldnt\", \"cry\", \"de\", \"describe\", \"detail\", \"do\", \"done\",\n",
    "    \"down\", \"due\", \"during\", \"each\", \"eg\", \"eight\", \"either\", \"eleven\", \"else\",\n",
    "    \"elsewhere\", \"empty\", \"enough\", \"etc\", \"even\", \"ever\", \"every\", \"everyone\",\n",
    "    \"everything\", \"everywhere\", \"except\", \"few\", \"fifteen\", \"fifty\", \"fill\",\n",
    "    \"find\", \"fire\", \"first\", \"five\", \"for\", \"former\", \"formerly\", \"forty\",\n",
    "    \"found\", \"four\", \"from\", \"front\", \"full\", \"further\", \"get\", \"give\", \"go\",\n",
    "    \"had\", \"has\", \"hasnt\", \"have\", \"he\", \"hence\", \"her\", \"here\", \"hereafter\",\n",
    "    \"hereby\", \"herein\", \"hereupon\", \"hers\", \"herself\", \"him\", \"himself\", \"his\",\n",
    "    \"how\", \"however\", \"hundred\", \"i\", \"ie\", \"if\", \"in\", \"inc\", \"indeed\",\n",
    "    \"interest\", \"into\", \"is\", \"it\", \"its\", \"itself\", \"keep\", \"last\", \"latter\",\n",
    "    \"latterly\", \"least\", \"less\", \"ltd\", \"made\", \"many\", \"may\", \"me\",\n",
    "    \"meanwhile\", \"might\", \"mill\", \"mine\", \"more\", \"moreover\", \"most\", \"mostly\",\n",
    "    \"move\", \"much\", \"must\", \"my\", \"myself\", \"name\", \"namely\", \"neither\",\n",
    "    \"never\", \"nevertheless\", \"next\", \"nine\", \"no\", \"nobody\", \"none\", \"noone\",\n",
    "    \"nor\", \"not\", \"nothing\", \"now\", \"nowhere\", \"of\", \"off\", \"often\", \"on\",\n",
    "    \"once\", \"one\", \"only\", \"onto\", \"or\", \"other\", \"others\", \"otherwise\", \"our\",\n",
    "    \"ours\", \"ourselves\", \"out\", \"over\", \"own\", \"part\", \"per\", \"perhaps\",\n",
    "    \"please\", \"put\", \"rather\", \"re\", \"same\", \"see\", \"seem\", \"seemed\",\n",
    "    \"seeming\", \"seems\", \"serious\", \"several\", \"she\", \"should\", \"show\", \"side\",\n",
    "    \"since\", \"sincere\", \"six\", \"sixty\", \"so\", \"some\", \"somehow\", \"someone\",\n",
    "    \"something\", \"sometime\", \"sometimes\", \"somewhere\", \"still\", \"such\",\n",
    "    \"system\", \"take\", \"ten\", \"than\", \"that\", \"the\", \"their\", \"them\",\n",
    "    \"themselves\", \"then\", \"thence\", \"there\", \"thereafter\", \"thereby\",\n",
    "    \"therefore\", \"therein\", \"thereupon\", \"these\", \"they\", \"thick\", \"thin\",\n",
    "    \"third\", \"this\", \"those\", \"though\", \"three\", \"through\", \"throughout\",\n",
    "    \"thru\", \"thus\", \"to\", \"together\", \"too\", \"top\", \"toward\", \"towards\",\n",
    "    \"twelve\", \"twenty\", \"two\", \"un\", \"under\", \"until\", \"up\", \"upon\", \"us\",\n",
    "    \"very\", \"via\", \"was\", \"we\", \"well\", \"were\", \"what\", \"whatever\", \"when\",\n",
    "    \"whence\", \"whenever\", \"where\", \"whereafter\", \"whereas\", \"whereby\",\n",
    "    \"wherein\", \"whereupon\", \"wherever\", \"whether\", \"which\", \"while\", \"whither\",\n",
    "    \"who\", \"whoever\", \"whole\", \"whom\", \"whose\", \"why\", \"will\", \"with\",\n",
    "    \"within\", \"without\", \"would\", \"yet\", \"said\",\"you\", \"your\", \"yours\", \"yourself\",\n",
    "    \"yourselves\"])"
   ]
  },
  {
   "cell_type": "code",
   "execution_count": 353,
   "metadata": {
    "colab": {
     "base_uri": "https://localhost:8080/",
     "height": 0
    },
    "id": "DSC-_cCbMVhi",
    "outputId": "b61e2ae1-c4c1-4764-9100-dce3b0b6f298"
   },
   "outputs": [
    {
     "name": "stderr",
     "output_type": "stream",
     "text": [
      "/usr/local/lib/python3.7/dist-packages/sklearn/utils/deprecation.py:87: FutureWarning: Function get_feature_names is deprecated; get_feature_names is deprecated in 1.0 and will be removed in 1.2. Please use get_feature_names_out instead.\n",
      "  warnings.warn(msg, category=FutureWarning)\n"
     ]
    },
    {
     "data": {
      "text/html": [
       "<div align='center' style='width:100%'><div align='center' style='text-align:justify; border-radius: 25px;background: #fff7f7;overflow: auto; width:500px !important; padding:20px; '; text-align: center; word-wrap: break-word;> <span style='color:#5F6A6A;font-size:1.6999999999999997em;white-space: normal;font-family:verdana;display: inline-block;line-height:30px'>today&nbsp;</span> <span style='color:#6C22E6;font-size:1.8499999999999996em;white-space: normal;font-family:verdana;display: inline-block;line-height:30px'>atomic&nbsp;</span> <span style='color:#6C22E6;font-size:1.8499999999999996em;white-space: normal;font-family:verdana;display: inline-block;line-height:30px'>life&nbsp;</span> <span style='color:#CE22E6;font-size:1.9999999999999996em;white-space: normal;font-family:verdana;display: inline-block;line-height:30px'>legionnaire&nbsp;</span> <span style='color:#848484;font-size:2.4499999999999993em;white-space: normal;font-family:verdana;display: inline-block;line-height:30px'>hiroshima&nbsp;</span> <span style='color:#5F6A6A;font-size:1.6999999999999997em;white-space: normal;font-family:verdana;display: inline-block;line-height:30px'>fatal&nbsp;</span> <span style='color:#CE22E6;font-size:1.9999999999999996em;white-space: normal;font-family:verdana;display: inline-block;line-height:30px'>pm&nbsp;</span> <span style='color:#5F6A6A;font-size:1.6999999999999997em;white-space: normal;font-family:verdana;display: inline-block;line-height:30px'>dont&nbsp;</span> <span style='color:#CE22E6;font-size:1.9999999999999996em;white-space: normal;font-family:verdana;display: inline-block;line-height:30px'>death&nbsp;</span> <span style='color:#ACB02E;font-size:2.1499999999999995em;white-space: normal;font-family:verdana;display: inline-block;line-height:30px'>video&nbsp;</span> <span style='color:#5F6A6A;font-size:1.6999999999999997em;white-space: normal;font-family:verdana;display: inline-block;line-height:30px'>forest&nbsp;</span> <span style='color:#04B404;font-size:2.599999999999999em;white-space: normal;font-family:verdana;display: inline-block;line-height:30px'>bomb&nbsp;</span> <span style='color:#6C22E6;font-size:1.8499999999999996em;white-space: normal;font-family:verdana;display: inline-block;line-height:30px'>new&nbsp;</span> <span style='color:#b82c2c;font-size:3.4999999999999987em;white-space: normal;font-family:verdana;display: inline-block;line-height:30px'>news&nbsp;</span> <span style='color:#04B404;font-size:2.599999999999999em;white-space: normal;font-family:verdana;display: inline-block;line-height:30px'>storm&nbsp;</span> <span style='color:#6C22E6;font-size:1.8499999999999996em;white-space: normal;font-family:verdana;display: inline-block;line-height:30px'>time&nbsp;</span> <span style='color:#6C22E6;font-size:1.8499999999999996em;white-space: normal;font-family:verdana;display: inline-block;line-height:30px'>collapse&nbsp;</span> <span style='color:#5F6A6A;font-size:1.6999999999999997em;white-space: normal;font-family:verdana;display: inline-block;line-height:30px'>obama&nbsp;</span> <span style='color:#0489B1;font-size:3.049999999999999em;white-space: normal;font-family:verdana;display: inline-block;line-height:30px'>california&nbsp;</span> <span style='color:#04B404;font-size:2.599999999999999em;white-space: normal;font-family:verdana;display: inline-block;line-height:30px'>crash&nbsp;</span> <span style='color:#B18904;font-size:2.2999999999999994em;white-space: normal;font-family:verdana;display: inline-block;line-height:30px'>emergency&nbsp;</span> <span style='color:#ACB02E;font-size:2.1499999999999995em;white-space: normal;font-family:verdana;display: inline-block;line-height:30px'>mh370&nbsp;</span> <span style='color:#CE22E6;font-size:1.9999999999999996em;white-space: normal;font-family:verdana;display: inline-block;line-height:30px'>say&nbsp;</span> <span style='color:#6C22E6;font-size:1.8499999999999996em;white-space: normal;font-family:verdana;display: inline-block;line-height:30px'>bomber&nbsp;</span> <span style='color:#04B404;font-size:2.599999999999999em;white-space: normal;font-family:verdana;display: inline-block;line-height:30px'>killed&nbsp;</span> <span style='color:#ACB02E;font-size:2.1499999999999995em;white-space: normal;font-family:verdana;display: inline-block;line-height:30px'>bombing&nbsp;</span> <span style='color:#CE22E6;font-size:1.9999999999999996em;white-space: normal;font-family:verdana;display: inline-block;line-height:30px'>dead&nbsp;</span> <span style='color:#848484;font-size:2.4499999999999993em;white-space: normal;font-family:verdana;display: inline-block;line-height:30px'>year&nbsp;</span> <span style='color:#04B404;font-size:2.599999999999999em;white-space: normal;font-family:verdana;display: inline-block;line-height:30px'>like&nbsp;</span> <span style='color:#5F6A6A;font-size:1.6999999999999997em;white-space: normal;font-family:verdana;display: inline-block;line-height:30px'>kill&nbsp;</span> <span style='color:#5882FA;font-size:2.749999999999999em;white-space: normal;font-family:verdana;display: inline-block;line-height:30px'>home&nbsp;</span> <span style='color:#FA5858;font-size:3.199999999999999em;white-space: normal;font-family:verdana;display: inline-block;line-height:30px'>disaster&nbsp;</span> <span style='color:#5882FA;font-size:2.749999999999999em;white-space: normal;font-family:verdana;display: inline-block;line-height:30px'>train&nbsp;</span> <span style='color:#0489B1;font-size:3.049999999999999em;white-space: normal;font-family:verdana;display: inline-block;line-height:30px'>suicide&nbsp;</span> <span style='color:#5F6A6A;font-size:1.6999999999999997em;white-space: normal;font-family:verdana;display: inline-block;line-height:30px'>japan&nbsp;</span> <span style='color:#B18904;font-size:2.2999999999999994em;white-space: normal;font-family:verdana;display: inline-block;line-height:30px'>wildfire&nbsp;</span> <span style='color:#FF0080;font-size:2.899999999999999em;white-space: normal;font-family:verdana;display: inline-block;line-height:30px'>police&nbsp;</span> <span style='color:#6C22E6;font-size:1.8499999999999996em;white-space: normal;font-family:verdana;display: inline-block;line-height:30px'>im&nbsp;</span> <span style='color:#ACB02E;font-size:2.1499999999999995em;white-space: normal;font-family:verdana;display: inline-block;line-height:30px'>accident&nbsp;</span> <span style='color:#5F6A6A;font-size:1.6999999999999997em;white-space: normal;font-family:verdana;display: inline-block;line-height:30px'>watch&nbsp;</span> <span style='color:#B18904;font-size:2.2999999999999994em;white-space: normal;font-family:verdana;display: inline-block;line-height:30px'>attack&nbsp;</span> <span style='color:#04B404;font-size:2.599999999999999em;white-space: normal;font-family:verdana;display: inline-block;line-height:30px'>building&nbsp;</span> <span style='color:#ACB02E;font-size:2.1499999999999995em;white-space: normal;font-family:verdana;display: inline-block;line-height:30px'>nuclear&nbsp;</span> <span style='color:#6C22E6;font-size:1.8499999999999996em;white-space: normal;font-family:verdana;display: inline-block;line-height:30px'>war&nbsp;</span> <span style='color:#CE22E6;font-size:1.9999999999999996em;white-space: normal;font-family:verdana;display: inline-block;line-height:30px'>burning&nbsp;</span> <span style='color:#FF0080;font-size:2.899999999999999em;white-space: normal;font-family:verdana;display: inline-block;line-height:30px'>people&nbsp;</span> <span style='color:#B18904;font-size:2.2999999999999994em;white-space: normal;font-family:verdana;display: inline-block;line-height:30px'>flood&nbsp;</span> <span style='color:#CE22E6;font-size:1.9999999999999996em;white-space: normal;font-family:verdana;display: inline-block;line-height:30px'>northern&nbsp;</span> <span style='color:#ACB02E;font-size:2.1499999999999995em;white-space: normal;font-family:verdana;display: inline-block;line-height:30px'>car&nbsp;</span> <span style='color:#FF0080;font-size:2.899999999999999em;white-space: normal;font-family:verdana;display: inline-block;line-height:30px'>family&nbsp;</span></div></div>"
      ],
      "text/plain": [
       "<IPython.core.display.HTML object>"
      ]
     },
     "execution_count": 353,
     "metadata": {},
     "output_type": "execute_result"
    }
   ],
   "source": [
    "from word_cloud.word_cloud_generator import WordCloud\n",
    "from IPython.core.display import HTML\n",
    "\n",
    "texts= df_disaster['FINAL']\n",
    "wc=WordCloud(use_tfidf=False,stopwords=ENGLISH_STOP_WORDS)\n",
    "\n",
    "embed_code=wc.get_embed_code(text=texts,random_color=False,topn=50)\n",
    "HTML(embed_code)"
   ]
  },
  {
   "cell_type": "code",
   "execution_count": 354,
   "metadata": {
    "colab": {
     "base_uri": "https://localhost:8080/",
     "height": 0
    },
    "id": "qjyEC0toOzCr",
    "outputId": "67672df7-f5ce-424f-b1b4-39c3f8d9302d"
   },
   "outputs": [
    {
     "name": "stderr",
     "output_type": "stream",
     "text": [
      "/usr/local/lib/python3.7/dist-packages/sklearn/utils/deprecation.py:87: FutureWarning: Function get_feature_names is deprecated; get_feature_names is deprecated in 1.0 and will be removed in 1.2. Please use get_feature_names_out instead.\n",
      "  warnings.warn(msg, category=FutureWarning)\n"
     ]
    },
    {
     "data": {
      "text/html": [
       "<div align='center' style='width:100%'><div align='center' style='text-align:justify; border-radius: 25px;background: #fff7f7;overflow: auto; width:500px !important; padding:20px; '; text-align: center; word-wrap: break-word;> <span style='color:#2ECC71;font-size:1.5499999999999998em;white-space: normal;font-family:verdana;display: inline-block;line-height:30px'>emergency&nbsp;</span> <span style='color:#2ECC71;font-size:1.5499999999999998em;white-space: normal;font-family:verdana;display: inline-block;line-height:30px'>let&nbsp;</span> <span style='color:#223AE6;font-size:1.4em;white-space: normal;font-family:verdana;display: inline-block;line-height:30px'>youtube&nbsp;</span> <span style='color:#FF5733;font-size:1.25em;white-space: normal;font-family:verdana;display: inline-block;line-height:30px'>come&nbsp;</span> <span style='color:#223AE6;font-size:1.4em;white-space: normal;font-family:verdana;display: inline-block;line-height:30px'>life&nbsp;</span> <span style='color:#5F6A6A;font-size:1.6999999999999997em;white-space: normal;font-family:verdana;display: inline-block;line-height:30px'>know&nbsp;</span> <span style='color:#3498DB;font-size:1.1em;white-space: normal;font-family:verdana;display: inline-block;line-height:30px'>wreck&nbsp;</span> <span style='color:#3498DB;font-size:1.1em;white-space: normal;font-family:verdana;display: inline-block;line-height:30px'>right&nbsp;</span> <span style='color:#b82c2c;font-size:3.4999999999999987em;white-space: normal;font-family:verdana;display: inline-block;line-height:30px'>like&nbsp;</span> <span style='color:#FF5733;font-size:1.25em;white-space: normal;font-family:verdana;display: inline-block;line-height:30px'>feel&nbsp;</span> <span style='color:#2ECC71;font-size:1.5499999999999998em;white-space: normal;font-family:verdana;display: inline-block;line-height:30px'>want&nbsp;</span> <span style='color:#223AE6;font-size:1.4em;white-space: normal;font-family:verdana;display: inline-block;line-height:30px'>going&nbsp;</span> <span style='color:#223AE6;font-size:1.4em;white-space: normal;font-family:verdana;display: inline-block;line-height:30px'>think&nbsp;</span> <span style='color:#223AE6;font-size:1.4em;white-space: normal;font-family:verdana;display: inline-block;line-height:30px'>good&nbsp;</span> <span style='color:#3498DB;font-size:1.1em;white-space: normal;font-family:verdana;display: inline-block;line-height:30px'>read&nbsp;</span> <span style='color:#5F6A6A;font-size:1.6999999999999997em;white-space: normal;font-family:verdana;display: inline-block;line-height:30px'>day&nbsp;</span> <span style='color:#FF5733;font-size:1.25em;white-space: normal;font-family:verdana;display: inline-block;line-height:30px'>way&nbsp;</span> <span style='color:#FF5733;font-size:1.25em;white-space: normal;font-family:verdana;display: inline-block;line-height:30px'>really&nbsp;</span> <span style='color:#5F6A6A;font-size:1.6999999999999997em;white-space: normal;font-family:verdana;display: inline-block;line-height:30px'>love&nbsp;</span> <span style='color:#FF5733;font-size:1.25em;white-space: normal;font-family:verdana;display: inline-block;line-height:30px'>youre&nbsp;</span> <span style='color:#6C22E6;font-size:1.8499999999999996em;white-space: normal;font-family:verdana;display: inline-block;line-height:30px'>video&nbsp;</span> <span style='color:#FF5733;font-size:1.25em;white-space: normal;font-family:verdana;display: inline-block;line-height:30px'>na&nbsp;</span> <span style='color:#FF5733;font-size:1.25em;white-space: normal;font-family:verdana;display: inline-block;line-height:30px'>injury&nbsp;</span> <span style='color:#FF5733;font-size:1.25em;white-space: normal;font-family:verdana;display: inline-block;line-height:30px'>lol&nbsp;</span> <span style='color:#223AE6;font-size:1.4em;white-space: normal;font-family:verdana;display: inline-block;line-height:30px'>look&nbsp;</span> <span style='color:#FF5733;font-size:1.25em;white-space: normal;font-family:verdana;display: inline-block;line-height:30px'>woman&nbsp;</span> <span style='color:#223AE6;font-size:1.4em;white-space: normal;font-family:verdana;display: inline-block;line-height:30px'>man&nbsp;</span> <span style='color:#5F6A6A;font-size:1.6999999999999997em;white-space: normal;font-family:verdana;display: inline-block;line-height:30px'>got&nbsp;</span> <span style='color:#FF5733;font-size:1.25em;white-space: normal;font-family:verdana;display: inline-block;line-height:30px'>thing&nbsp;</span> <span style='color:#04B404;font-size:2.599999999999999em;white-space: normal;font-family:verdana;display: inline-block;line-height:30px'>new&nbsp;</span> <span style='color:#3498DB;font-size:1.1em;white-space: normal;font-family:verdana;display: inline-block;line-height:30px'>god&nbsp;</span> <span style='color:#3498DB;font-size:1.1em;white-space: normal;font-family:verdana;display: inline-block;line-height:30px'>great&nbsp;</span> <span style='color:#848484;font-size:2.4499999999999993em;white-space: normal;font-family:verdana;display: inline-block;line-height:30px'>dont&nbsp;</span> <span style='color:#FF5733;font-size:1.25em;white-space: normal;font-family:verdana;display: inline-block;line-height:30px'>best&nbsp;</span> <span style='color:#FF5733;font-size:1.25em;white-space: normal;font-family:verdana;display: inline-block;line-height:30px'>burning&nbsp;</span> <span style='color:#2ECC71;font-size:1.5499999999999998em;white-space: normal;font-family:verdana;display: inline-block;line-height:30px'>bag&nbsp;</span> <span style='color:#223AE6;font-size:1.4em;white-space: normal;font-family:verdana;display: inline-block;line-height:30px'>year&nbsp;</span> <span style='color:#CE22E6;font-size:1.9999999999999996em;white-space: normal;font-family:verdana;display: inline-block;line-height:30px'>body&nbsp;</span> <span style='color:#5F6A6A;font-size:1.6999999999999997em;white-space: normal;font-family:verdana;display: inline-block;line-height:30px'>people&nbsp;</span> <span style='color:#223AE6;font-size:1.4em;white-space: normal;font-family:verdana;display: inline-block;line-height:30px'>say&nbsp;</span> <span style='color:#223AE6;font-size:1.4em;white-space: normal;font-family:verdana;display: inline-block;line-height:30px'>need&nbsp;</span> <span style='color:#FF5733;font-size:1.25em;white-space: normal;font-family:verdana;display: inline-block;line-height:30px'>rt&nbsp;</span> <span style='color:#6C22E6;font-size:1.8499999999999996em;white-space: normal;font-family:verdana;display: inline-block;line-height:30px'>time&nbsp;</span> <span style='color:#223AE6;font-size:1.4em;white-space: normal;font-family:verdana;display: inline-block;line-height:30px'>world&nbsp;</span> <span style='color:#223AE6;font-size:1.4em;white-space: normal;font-family:verdana;display: inline-block;line-height:30px'>make&nbsp;</span> <span style='color:#3498DB;font-size:1.1em;white-space: normal;font-family:verdana;display: inline-block;line-height:30px'>weapon&nbsp;</span> <span style='color:#FF5733;font-size:1.25em;white-space: normal;font-family:verdana;display: inline-block;line-height:30px'>work&nbsp;</span> <span style='color:#b82c2c;font-size:3.4999999999999987em;white-space: normal;font-family:verdana;display: inline-block;line-height:30px'>im&nbsp;</span> <span style='color:#FF5733;font-size:1.25em;white-space: normal;font-family:verdana;display: inline-block;line-height:30px'>news&nbsp;</span> <span style='color:#3498DB;font-size:1.1em;white-space: normal;font-family:verdana;display: inline-block;line-height:30px'>help&nbsp;</span></div></div>"
      ],
      "text/plain": [
       "<IPython.core.display.HTML object>"
      ]
     },
     "execution_count": 354,
     "metadata": {},
     "output_type": "execute_result"
    }
   ],
   "source": [
    "texts= df_nodisater['FINAL']\n",
    "wc=WordCloud(use_tfidf=False,stopwords=ENGLISH_STOP_WORDS)\n",
    "\n",
    "embed_code=wc.get_embed_code(text=texts,random_color=False,topn=50)\n",
    "HTML(embed_code)"
   ]
  },
  {
   "cell_type": "markdown",
   "metadata": {
    "id": "FzIQGnq-8sfU"
   },
   "source": [
    "# Data PreProcessing Part2(Word Embedding) to transform text to numerical feature set\n",
    "\n",
    "\n",
    "**We will make three different numerical datasets**"
   ]
  },
  {
   "cell_type": "markdown",
   "metadata": {
    "id": "2YOdDRL48v_Q"
   },
   "source": [
    "**Bag Of Words using CounterVector**"
   ]
  },
  {
   "cell_type": "code",
   "execution_count": 355,
   "metadata": {
    "colab": {
     "base_uri": "https://localhost:8080/"
    },
    "id": "289Z6q4q8it3",
    "outputId": "edfdba5e-5604-4c88-9fe0-25272cac8c5a"
   },
   "outputs": [
    {
     "name": "stdout",
     "output_type": "stream",
     "text": [
      "(7613, 16270)\n"
     ]
    }
   ],
   "source": [
    "from sklearn.feature_extraction.text import CountVectorizer\n",
    "\n",
    "vectorizer = CountVectorizer()\n",
    "cv_df = vectorizer.fit_transform(df['FINAL'])\n",
    "\n",
    "vectorizer.get_feature_names_out()\n",
    "print(cv_df.shape)"
   ]
  },
  {
   "cell_type": "markdown",
   "metadata": {
    "id": "yb8panVbHxLO"
   },
   "source": [
    "**Visualization**\n"
   ]
  },
  {
   "cell_type": "code",
   "execution_count": 356,
   "metadata": {
    "colab": {
     "base_uri": "https://localhost:8080/",
     "height": 0
    },
    "id": "muePaeaAH_ed",
    "outputId": "71c3368d-557c-48a5-fa02-b3f3837b07ee"
   },
   "outputs": [
    {
     "data": {
      "application/vnd.google.colaboratory.intrinsic+json": {
       "type": "string"
      },
      "text/plain": [
       "\"\\ndis_countvectorizer = CountVectorizer()\\ncv_disaster = dis_countvectorizer.fit_transform(df_disaster['FINAL'])\\n\\nnodis_countvectorizer = CountVectorizer()\\ncv_nodisaster = nodis_countvectorizer.fit_transform(df_nodisater['FINAL'])\\n\\nsorted_cv_dis = dict(sorted(dis_countvectorizer.vocabulary_.items(), key=lambda item: item[1],reverse=True))\\nsorted_cv_nodis = dict(sorted(nodis_countvectorizer.vocabulary_.items(), key=lambda item: item[1],reverse=True))\\n\""
      ]
     },
     "execution_count": 356,
     "metadata": {},
     "output_type": "execute_result"
    }
   ],
   "source": [
    "#cv_arr = cv_df.toarray()\n",
    "#cv_arr_df = pd.DataFrame(data=cv_arr,columns = vectorizer.get_feature_names())\n",
    "#desc = cv_arr_df.describe()\n",
    " \n",
    "#dict(sorted(vectorizer.vocabulary_.items(), key=lambda item: item[1],reverse=True))\n",
    "'''\n",
    "dis_countvectorizer = CountVectorizer()\n",
    "cv_disaster = dis_countvectorizer.fit_transform(df_disaster['FINAL'])\n",
    "\n",
    "nodis_countvectorizer = CountVectorizer()\n",
    "cv_nodisaster = nodis_countvectorizer.fit_transform(df_nodisater['FINAL'])\n",
    "\n",
    "sorted_cv_dis = dict(sorted(dis_countvectorizer.vocabulary_.items(), key=lambda item: item[1],reverse=True))\n",
    "sorted_cv_nodis = dict(sorted(nodis_countvectorizer.vocabulary_.items(), key=lambda item: item[1],reverse=True))\n",
    "'''\n",
    "#print(sorted_cv_dis)\n",
    "#print(sorted_cv_nodis)\n",
    "\n",
    "#print(dis_countvectorizer.vocabulary_.keys())"
   ]
  },
  {
   "cell_type": "code",
   "execution_count": 357,
   "metadata": {
    "colab": {
     "base_uri": "https://localhost:8080/",
     "height": 0
    },
    "id": "E1NHmQZwgtST",
    "outputId": "690cdb10-3fa5-4634-e4e1-b566dfd7ca7e"
   },
   "outputs": [
    {
     "data": {
      "image/png": "[encoded data removed]",
      "text/plain": [
       "<Figure size 432x288 with 1 Axes>"
      ]
     },
     "metadata": {
      "needs_background": "light"
     },
     "output_type": "display_data"
    }
   ],
   "source": [
    "cv_key_list = list(vectorizer.vocabulary_.keys())\n",
    "cv_values_list = list(vectorizer.vocabulary_.values())\n",
    "#print(cv_key_list)\n",
    "#print(cv_values_list)\n",
    "\n",
    "import matplotlib.pyplot as plt\n",
    "fig = plt.figure()\n",
    "\n",
    "ax = fig.add_axes([0,0,1,1])\n",
    "ax.bar(cv_key_list[:10], cv_values_list[:10])\n",
    "plt.xticks(rotation=50)\n",
    "plt.show()"
   ]
  },
  {
   "cell_type": "markdown",
   "metadata": {
    "id": "8oBudl-79ZKP"
   },
   "source": [
    "**TF-IDF**\n"
   ]
  },
  {
   "cell_type": "code",
   "execution_count": 358,
   "metadata": {
    "colab": {
     "base_uri": "https://localhost:8080/"
    },
    "id": "-7YlewNX9b2f",
    "outputId": "22d9ab11-e71c-4df6-ee25-0dd12689515b"
   },
   "outputs": [
    {
     "name": "stdout",
     "output_type": "stream",
     "text": [
      "(7613, 63245)\n"
     ]
    }
   ],
   "source": [
    "from sklearn.feature_extraction.text import TfidfVectorizer\n",
    "\n",
    "tfvectorizer = TfidfVectorizer(ngram_range = (1,2))\n",
    "tfidf_df = tfvectorizer.fit_transform(df['FINAL'])\n",
    "print(tfidf_df.shape)"
   ]
  },
  {
   "cell_type": "markdown",
   "metadata": {
    "id": "Qd9PF-i3QIsl"
   },
   "source": [
    " **visualization**"
   ]
  },
  {
   "cell_type": "code",
   "execution_count": 359,
   "metadata": {
    "colab": {
     "base_uri": "https://localhost:8080/",
     "height": 0
    },
    "id": "us-qDORlLXL1",
    "outputId": "a5a59933-a59c-4d6c-bb35-8091b9b9f265"
   },
   "outputs": [
    {
     "data": {
      "application/vnd.google.colaboratory.intrinsic+json": {
       "type": "string"
      },
      "text/plain": [
       "\"dis_tdidfvectorizer = CountVectorizer()\\ntdidf_disaster = dis_tdidfvectorizer.fit_transform(df_disaster['FINAL'])\\n\\nnodis_tdidfvectorizer = CountVectorizer()\\ntdidf_nodisaster = nodis_tdidfvectorizer.fit_transform(df_nodisater['FINAL'])\\n\\n#print(dis_tdidfvectorizer.vocabulary_)\\n#print(nodis_tdidfvectorizer.vocabulary_)\\n\\nsorted_tdidf_dis = dict(sorted(dis_tdidfvectorizer.vocabulary_.items(), key=lambda item: item[1],reverse=True))\\nsorted_tdidf_nodis = dict(sorted(nodis_tdidfvectorizer.vocabulary_.items(), key=lambda item: item[1],reverse=True))\\n\\n#print(sorted_tdidf_dis)\\n#print(sorted_tdidf_nodis)\""
      ]
     },
     "execution_count": 359,
     "metadata": {},
     "output_type": "execute_result"
    }
   ],
   "source": [
    "'''dis_tdidfvectorizer = CountVectorizer()\n",
    "tdidf_disaster = dis_tdidfvectorizer.fit_transform(df_disaster['FINAL'])\n",
    "\n",
    "nodis_tdidfvectorizer = CountVectorizer()\n",
    "tdidf_nodisaster = nodis_tdidfvectorizer.fit_transform(df_nodisater['FINAL'])\n",
    "\n",
    "#print(dis_tdidfvectorizer.vocabulary_)\n",
    "#print(nodis_tdidfvectorizer.vocabulary_)\n",
    "\n",
    "sorted_tdidf_dis = dict(sorted(dis_tdidfvectorizer.vocabulary_.items(), key=lambda item: item[1],reverse=True))\n",
    "sorted_tdidf_nodis = dict(sorted(nodis_tdidfvectorizer.vocabulary_.items(), key=lambda item: item[1],reverse=True))\n",
    "\n",
    "#print(sorted_tdidf_dis)\n",
    "#print(sorted_tdidf_nodis)'''"
   ]
  },
  {
   "cell_type": "code",
   "execution_count": 360,
   "metadata": {
    "colab": {
     "base_uri": "https://localhost:8080/",
     "height": 0
    },
    "id": "agAVGWLXhdRd",
    "outputId": "8faa2dea-e9af-43c7-f5a5-6181a1a61c2e"
   },
   "outputs": [
    {
     "data": {
      "image/png": "[encoded data removed]",
      "text/plain": [
       "<Figure size 432x288 with 1 Axes>"
      ]
     },
     "metadata": {
      "needs_background": "light"
     },
     "output_type": "display_data"
    }
   ],
   "source": [
    "tfidf_key_list = list(tfvectorizer.vocabulary_.keys())\n",
    "tfidf_values_list = list(tfvectorizer.vocabulary_.values())\n",
    "#print(tfidf_key_list)\n",
    "#print(tfidf_values_list)\n",
    "\n",
    "import matplotlib.pyplot as plt\n",
    "fig = plt.figure()\n",
    "ax = fig.add_axes([0,0,1,1])\n",
    "ax.bar(tfidf_key_list[:10], tfidf_values_list[:10])\n",
    "plt.xticks(rotation=50)\n",
    "plt.show()"
   ]
  },
  {
   "cell_type": "markdown",
   "metadata": {
    "id": "Krke0Kuw_6Lr"
   },
   "source": [
    "**Word2Vec**"
   ]
  },
  {
   "cell_type": "code",
   "execution_count": 361,
   "metadata": {
    "id": "pyfYrtaFAEjT"
   },
   "outputs": [],
   "source": [
    "from gensim.models import Word2Vec, KeyedVectors\n",
    "import nltk\n",
    "import multiprocessing"
   ]
  },
  {
   "cell_type": "code",
   "execution_count": 362,
   "metadata": {
    "id": "siWaOiq69p5H"
   },
   "outputs": [],
   "source": [
    "sentences = df['FINAL'].values\n",
    "sentences = [nltk.word_tokenize(sent) for sent in sentences]\n"
   ]
  },
  {
   "cell_type": "code",
   "execution_count": null,
   "metadata": {},
   "outputs": [],
   "source": [
    "#print(sentences)\n",
    "#print(list(df['LemmatizedText']))"
   ]
  },
  {
   "cell_type": "code",
   "execution_count": 365,
   "metadata": {
    "id": "DsDb-u8OzEVt"
   },
   "outputs": [],
   "source": [
    "#w2v_size = 100\n",
    "w2v_size = 300"
   ]
  },
  {
   "cell_type": "code",
   "execution_count": 366,
   "metadata": {
    "id": "nhqey600_46h"
   },
   "outputs": [],
   "source": [
    "cores = multiprocessing.cpu_count() # Count the number of cores in a computer\n",
    "\n",
    "\n",
    "w2v_model = Word2Vec(min_count=1,\n",
    "                     window=2,\n",
    "                     size=w2v_size,\n",
    "                     sample=6e-5, \n",
    "                     alpha=0.03, \n",
    "                     min_alpha=0.0007, \n",
    "                     negative=20,\n",
    "                     workers=cores-1)\n"
   ]
  },
  {
   "cell_type": "code",
   "execution_count": 367,
   "metadata": {
    "colab": {
     "base_uri": "https://localhost:8080/"
    },
    "id": "UGGzzN4yCvO5",
    "outputId": "742d35d8-ccdd-4534-889d-31cffd8d8ded"
   },
   "outputs": [
    {
     "data": {
      "text/plain": [
       "(1441465, 2133030)"
      ]
     },
     "execution_count": 367,
     "metadata": {},
     "output_type": "execute_result"
    }
   ],
   "source": [
    "w2v_model.build_vocab(sentences, progress_per=10000)\n",
    "w2v_model.train(sentences, total_examples=w2v_model.corpus_count, epochs=30, report_delay=1)"
   ]
  },
  {
   "cell_type": "code",
   "execution_count": 368,
   "metadata": {
    "colab": {
     "base_uri": "https://localhost:8080/"
    },
    "id": "kbSnTc2zDAI6",
    "outputId": "da6ebff9-368b-4b9b-901b-f01ede0567e9"
   },
   "outputs": [
    {
     "data": {
      "text/plain": [
       "0.97697204"
      ]
     },
     "execution_count": 368,
     "metadata": {},
     "output_type": "execute_result"
    }
   ],
   "source": [
    "w2v_model.wv.similarity(\"fire\", 'wildfire')"
   ]
  },
  {
   "cell_type": "code",
   "execution_count": 369,
   "metadata": {
    "colab": {
     "base_uri": "https://localhost:8080/"
    },
    "id": "bYp81WmwZBha",
    "outputId": "10aefed7-b920-40b2-a97f-c6dea82cee18"
   },
   "outputs": [
    {
     "data": {
      "text/plain": [
       "[('declares', 0.9978721141815186),\n",
       " ('sign', 0.997292697429657),\n",
       " ('marians', 0.9948339462280273),\n",
       " ('obama', 0.9941208362579346),\n",
       " ('declaration', 0.9940019845962524),\n",
       " ('saipan', 0.9926038384437561),\n",
       " ('typhoondevastated', 0.9880362153053284),\n",
       " ('northern', 0.987818717956543),\n",
       " ('abcnews', 0.8936284780502319),\n",
       " ('losdelsonido', 0.8934692144393921)]"
      ]
     },
     "execution_count": 369,
     "metadata": {},
     "output_type": "execute_result"
    }
   ],
   "source": [
    "w2v_model.wv.most_similar(positive=[\"disaster\"])\n"
   ]
  },
  {
   "cell_type": "code",
   "execution_count": 370,
   "metadata": {
    "colab": {
     "base_uri": "https://localhost:8080/"
    },
    "id": "R7qMP0RSDKiE",
    "outputId": "36e880e7-c503-4c82-8119-2b289689e49d"
   },
   "outputs": [
    {
     "data": {
      "text/plain": [
       "[('faan', 0.9996422529220581),\n",
       " ('order', 0.9995662569999695),\n",
       " ('ultimatum', 0.9993208646774292),\n",
       " ('noted', 0.9992741346359253),\n",
       " ('town', 0.9992557168006897),\n",
       " ('lifted', 0.9992402195930481),\n",
       " ('floated', 0.9992305040359497),\n",
       " ('innocent', 0.9992022514343262),\n",
       " ('disappeared', 0.99919593334198),\n",
       " ('todayng', 0.9991891384124756)]"
      ]
     },
     "execution_count": 370,
     "metadata": {},
     "output_type": "execute_result"
    }
   ],
   "source": [
    "w2v_model.wv.most_similar(positive=[\"evacuation\"])\n"
   ]
  },
  {
   "cell_type": "code",
   "execution_count": 371,
   "metadata": {
    "colab": {
     "base_uri": "https://localhost:8080/"
    },
    "id": "tylUTA25DQIN",
    "outputId": "de84181a-77ca-4fef-9841-2581ac879676"
   },
   "outputs": [
    {
     "data": {
      "text/plain": [
       "[('sure', 0.9997982978820801),\n",
       " ('seeing', 0.9997974634170532),\n",
       " ('w', 0.9997957944869995),\n",
       " ('offer', 0.9997949600219727),\n",
       " ('wee', 0.9997939467430115),\n",
       " ('shower', 0.9997938871383667),\n",
       " ('hate', 0.9997929334640503),\n",
       " ('changed', 0.9997914433479309),\n",
       " ('welcome', 0.9997908473014832),\n",
       " ('bare', 0.9997907876968384)]"
      ]
     },
     "execution_count": 371,
     "metadata": {},
     "output_type": "execute_result"
    }
   ],
   "source": [
    "w2v_model.wv.most_similar(positive=[\"injury\"])\n"
   ]
  },
  {
   "cell_type": "code",
   "execution_count": 372,
   "metadata": {
    "id": "kpi2iHyWEXSJ"
   },
   "outputs": [],
   "source": [
    "words = list(w2v_model.wv.vocab)\n",
    "#words"
   ]
  },
  {
   "cell_type": "code",
   "execution_count": 373,
   "metadata": {
    "colab": {
     "base_uri": "https://localhost:8080/"
    },
    "id": "GTixVYdgGW8n",
    "outputId": "928fcf43-fd29-432c-8b35-286510a935ae"
   },
   "outputs": [
    {
     "name": "stderr",
     "output_type": "stream",
     "text": [
      "/usr/local/lib/python3.7/dist-packages/ipykernel_launcher.py:6: DeprecationWarning: Call to deprecated `__getitem__` (Method will be removed in 4.0.0, use self.wv.__getitem__() instead).\n",
      "  \n"
     ]
    }
   ],
   "source": [
    "w2v_df = []\n",
    "for sent in sentences:\n",
    "    vw = np.zeros(w2v_size) \n",
    "    #one sentence has many words\n",
    "    for word in sent:\n",
    "        vw += w2v_model[word]\n",
    "    #average\n",
    "    vw = vw/len(sent)\n",
    "    w2v_df.append(np.array(vw))"
   ]
  },
  {
   "cell_type": "code",
   "execution_count": 374,
   "metadata": {
    "colab": {
     "base_uri": "https://localhost:8080/"
    },
    "id": "2-l6wg3Or4gA",
    "outputId": "af17bfaa-4319-4c3c-905a-95112b8bfb35"
   },
   "outputs": [
    {
     "name": "stdout",
     "output_type": "stream",
     "text": [
      "7613\n",
      "300\n"
     ]
    }
   ],
   "source": [
    "print(len(w2v_df))\n",
    "print(len(w2v_df[0]))\n",
    "\n",
    "#print(w2v_model['earthquake'])"
   ]
  },
  {
   "cell_type": "markdown",
   "metadata": {
    "id": "YS0a6zBxXs1f",
    "jp-MarkdownHeadingCollapsed": true,
    "tags": []
   },
   "source": [
    "## Word2Vec with Visualization"
   ]
  },
  {
   "cell_type": "code",
   "execution_count": 377,
   "metadata": {
    "id": "DqYtP57CXxqW"
   },
   "outputs": [],
   "source": [
    "from sklearn.decomposition import PCA\n",
    "from sklearn.manifold import TSNE\n",
    "\n",
    "def word2vec_scatterplot(model, word, list_names):\n",
    "\n",
    "    arrays = np.empty((0, w2v_size), dtype='f')\n",
    "    word_labels = [word]\n",
    "    color_list  = ['red']\n",
    "\n",
    "    # adds the vector of the query word\n",
    "    arrays = np.append(arrays, model.wv.__getitem__([word]), axis=0)\n",
    "    \n",
    "    # gets list of most similar words\n",
    "    close_words = model.wv.most_similar([word])\n",
    "    \n",
    "    # adds the vector for each of the closest words to the array\n",
    "    for wrd_score in close_words:\n",
    "        wrd_vector = model.wv.__getitem__([wrd_score[0]])\n",
    "        word_labels.append(wrd_score[0])\n",
    "        color_list.append('pink')\n",
    "        arrays = np.append(arrays, wrd_vector, axis=0)\n",
    "    \n",
    "    # adds the vector for each of the words from list_names to the array\n",
    "    for wrd in list_names:\n",
    "        wrd_vector = model.wv.__getitem__([wrd])\n",
    "        word_labels.append(wrd)\n",
    "        color_list.append('skyblue')\n",
    "        arrays = np.append(arrays, wrd_vector, axis=0)\n",
    "        \n",
    "    # Reduces the dimensionality with PCA\n",
    "    reduc = PCA(n_components=21).fit_transform(arrays)\n",
    "    \n",
    "    # Finds t-SNE coordinates for 2 dimensions\n",
    "    np.set_printoptions(suppress=True)\n",
    "    \n",
    "    Y = TSNE(n_components=2, random_state=0, perplexity=15).fit_transform(reduc)\n",
    "    \n",
    "    # Sets everything up to plot\n",
    "    df = pd.DataFrame({'x': [x for x in Y[:, 0]],\n",
    "                       'y': [y for y in Y[:, 1]],\n",
    "                       'words': word_labels,\n",
    "                       'color': color_list})\n",
    "    \n",
    "    fig, _ = plt.subplots()\n",
    "    fig.set_size_inches(9, 9)\n",
    "    \n",
    "    # Basic plot\n",
    "    p1 = sns.regplot(data=df,\n",
    "                     x=\"x\",\n",
    "                     y=\"y\",\n",
    "                     fit_reg=False,\n",
    "                     marker=\"o\",\n",
    "                     scatter_kws={'s': 40,\n",
    "                                  'facecolors': df['color']\n",
    "                                 }\n",
    "                    )\n",
    "    \n",
    "    # Adds annotations one by one with a loop\n",
    "    for line in range(0, df.shape[0]):\n",
    "         p1.text(df[\"x\"][line],\n",
    "                 df['y'][line],\n",
    "                 '  ' + df[\"words\"][line].title(),\n",
    "                 horizontalalignment='left',\n",
    "                 verticalalignment='bottom', size='medium',\n",
    "                 color=df['color'][line],\n",
    "                 weight='normal'\n",
    "                ).set_size(15)\n",
    "\n",
    "    \n",
    "    plt.xlim(Y[:, 0].min()-50, Y[:, 0].max()+50)\n",
    "    plt.ylim(Y[:, 1].min()-50, Y[:, 1].max()+50)\n",
    "            \n",
    "    plt.title('t-SNE visualization for {}'.format(word.title()))\n"
   ]
  },
  {
   "cell_type": "code",
   "execution_count": 376,
   "metadata": {
    "colab": {
     "base_uri": "https://localhost:8080/",
     "height": 0
    },
    "id": "MnXazpf4YT4y",
    "outputId": "2bd4602c-9d88-41a5-bf68-82e7fe482005"
   },
   "outputs": [
    {
     "name": "stderr",
     "output_type": "stream",
     "text": [
      "/usr/local/lib/python3.7/dist-packages/sklearn/manifold/_t_sne.py:783: FutureWarning: The default initialization in TSNE will change from 'random' to 'pca' in 1.2.\n",
      "  FutureWarning,\n",
      "/usr/local/lib/python3.7/dist-packages/sklearn/manifold/_t_sne.py:793: FutureWarning: The default learning rate in TSNE will change from 200.0 to 'auto' in 1.2.\n",
      "  FutureWarning,\n"
     ]
    },
    {
     "data": {
      "image/png": "[encoded data removed]",
      "text/plain": [
       "<Figure size 648x648 with 1 Axes>"
      ]
     },
     "metadata": {
      "needs_background": "light"
     },
     "output_type": "display_data"
    }
   ],
   "source": [
    "word2vec_scatterplot(w2v_model, 'wildfire', [i[0] for i in w2v_model.wv.most_similar(negative=[\"wildfire\"])])"
   ]
  },
  {
   "cell_type": "markdown",
   "metadata": {
    "id": "1RQQmU5gsNu9",
    "jp-MarkdownHeadingCollapsed": true,
    "tags": []
   },
   "source": [
    "# Reduce Dimension PCA "
   ]
  },
  {
   "cell_type": "code",
   "execution_count": 312,
   "metadata": {
    "colab": {
     "base_uri": "https://localhost:8080/",
     "height": 0
    },
    "id": "sbgabLUWz1hn",
    "outputId": "6d64ce39-c7b9-4318-aa2f-92450ab148f8"
   },
   "outputs": [
    {
     "name": "stdout",
     "output_type": "stream",
     "text": [
      "(7613, 50)\n"
     ]
    },
    {
     "data": {
      "text/html": [
       "\n",
       "  <div id=\"df-5f3524a8-ed30-4e15-afd5-80d0be49ce10\">\n",
       "    <div class=\"colab-df-container\">\n",
       "      <div>\n",
       "<style scoped>\n",
       "    .dataframe tbody tr th:only-of-type {\n",
       "        vertical-align: middle;\n",
       "    }\n",
       "\n",
       "    .dataframe tbody tr th {\n",
       "        vertical-align: top;\n",
       "    }\n",
       "\n",
       "    .dataframe thead th {\n",
       "        text-align: right;\n",
       "    }\n",
       "</style>\n",
       "<table border=\"1\" class=\"dataframe\">\n",
       "  <thead>\n",
       "    <tr style=\"text-align: right;\">\n",
       "      <th></th>\n",
       "      <th>com1</th>\n",
       "      <th>com2</th>\n",
       "    </tr>\n",
       "  </thead>\n",
       "  <tbody>\n",
       "    <tr>\n",
       "      <th>0</th>\n",
       "      <td>0.086897</td>\n",
       "      <td>-0.920850</td>\n",
       "    </tr>\n",
       "    <tr>\n",
       "      <th>1</th>\n",
       "      <td>0.237427</td>\n",
       "      <td>0.323826</td>\n",
       "    </tr>\n",
       "    <tr>\n",
       "      <th>2</th>\n",
       "      <td>-0.505460</td>\n",
       "      <td>-0.320311</td>\n",
       "    </tr>\n",
       "    <tr>\n",
       "      <th>3</th>\n",
       "      <td>-2.179619</td>\n",
       "      <td>3.138569</td>\n",
       "    </tr>\n",
       "    <tr>\n",
       "      <th>4</th>\n",
       "      <td>-1.488344</td>\n",
       "      <td>0.826640</td>\n",
       "    </tr>\n",
       "  </tbody>\n",
       "</table>\n",
       "</div>\n",
       "      <button class=\"colab-df-convert\" onclick=\"convertToInteractive('df-5f3524a8-ed30-4e15-afd5-80d0be49ce10')\"\n",
       "              title=\"Convert this dataframe to an interactive table.\"\n",
       "              style=\"display:none;\">\n",
       "        \n",
       "  <svg xmlns=\"http://www.w3.org/2000/svg\" height=\"24px\"viewBox=\"0 0 24 24\"\n",
       "       width=\"24px\">\n",
       "    <path d=\"M0 0h24v24H0V0z\" fill=\"none\"/>\n",
       "    <path d=\"M18.56 5.44l.94 2.06.94-2.06 2.06-.94-2.06-.94-.94-2.06-.94 2.06-2.06.94zm-11 1L8.5 8.5l.94-2.06 2.06-.94-2.06-.94L8.5 2.5l-.94 2.06-2.06.94zm10 10l.94 2.06.94-2.06 2.06-.94-2.06-.94-.94-2.06-.94 2.06-2.06.94z\"/><path d=\"M17.41 7.96l-1.37-1.37c-.4-.4-.92-.59-1.43-.59-.52 0-1.04.2-1.43.59L10.3 9.45l-7.72 7.72c-.78.78-.78 2.05 0 2.83L4 21.41c.39.39.9.59 1.41.59.51 0 1.02-.2 1.41-.59l7.78-7.78 2.81-2.81c.8-.78.8-2.07 0-2.86zM5.41 20L4 18.59l7.72-7.72 1.47 1.35L5.41 20z\"/>\n",
       "  </svg>\n",
       "      </button>\n",
       "      \n",
       "  <style>\n",
       "    .colab-df-container {\n",
       "      display:flex;\n",
       "      flex-wrap:wrap;\n",
       "      gap: 12px;\n",
       "    }\n",
       "\n",
       "    .colab-df-convert {\n",
       "      background-color: #E8F0FE;\n",
       "      border: none;\n",
       "      border-radius: 50%;\n",
       "      cursor: pointer;\n",
       "      display: none;\n",
       "      fill: #1967D2;\n",
       "      height: 32px;\n",
       "      padding: 0 0 0 0;\n",
       "      width: 32px;\n",
       "    }\n",
       "\n",
       "    .colab-df-convert:hover {\n",
       "      background-color: #E2EBFA;\n",
       "      box-shadow: 0px 1px 2px rgba(60, 64, 67, 0.3), 0px 1px 3px 1px rgba(60, 64, 67, 0.15);\n",
       "      fill: #174EA6;\n",
       "    }\n",
       "\n",
       "    [theme=dark] .colab-df-convert {\n",
       "      background-color: #3B4455;\n",
       "      fill: #D2E3FC;\n",
       "    }\n",
       "\n",
       "    [theme=dark] .colab-df-convert:hover {\n",
       "      background-color: #434B5C;\n",
       "      box-shadow: 0px 1px 3px 1px rgba(0, 0, 0, 0.15);\n",
       "      filter: drop-shadow(0px 1px 2px rgba(0, 0, 0, 0.3));\n",
       "      fill: #FFFFFF;\n",
       "    }\n",
       "  </style>\n",
       "\n",
       "      <script>\n",
       "        const buttonEl =\n",
       "          document.querySelector('#df-5f3524a8-ed30-4e15-afd5-80d0be49ce10 button.colab-df-convert');\n",
       "        buttonEl.style.display =\n",
       "          google.colab.kernel.accessAllowed ? 'block' : 'none';\n",
       "\n",
       "        async function convertToInteractive(key) {\n",
       "          const element = document.querySelector('#df-5f3524a8-ed30-4e15-afd5-80d0be49ce10');\n",
       "          const dataTable =\n",
       "            await google.colab.kernel.invokeFunction('convertToInteractive',\n",
       "                                                     [key], {});\n",
       "          if (!dataTable) return;\n",
       "\n",
       "          const docLinkHtml = 'Like what you see? Visit the ' +\n",
       "            '<a target=\"_blank\" href=https://colab.research.google.com/notebooks/data_table.ipynb>data table notebook</a>'\n",
       "            + ' to learn more about interactive tables.';\n",
       "          element.innerHTML = '';\n",
       "          dataTable['output_type'] = 'display_data';\n",
       "          await google.colab.output.renderOutput(dataTable, element);\n",
       "          const docLink = document.createElement('div');\n",
       "          docLink.innerHTML = docLinkHtml;\n",
       "          element.appendChild(docLink);\n",
       "        }\n",
       "      </script>\n",
       "    </div>\n",
       "  </div>\n",
       "  "
      ],
      "text/plain": [
       "       com1      com2\n",
       "0  0.086897 -0.920850\n",
       "1  0.237427  0.323826\n",
       "2 -0.505460 -0.320311\n",
       "3 -2.179619  3.138569\n",
       "4 -1.488344  0.826640"
      ]
     },
     "metadata": {},
     "output_type": "display_data"
    },
    {
     "data": {
      "text/html": [
       "\n",
       "  <div id=\"df-6ea5d8b6-eb99-471a-aea2-d305c0809da7\">\n",
       "    <div class=\"colab-df-container\">\n",
       "      <div>\n",
       "<style scoped>\n",
       "    .dataframe tbody tr th:only-of-type {\n",
       "        vertical-align: middle;\n",
       "    }\n",
       "\n",
       "    .dataframe tbody tr th {\n",
       "        vertical-align: top;\n",
       "    }\n",
       "\n",
       "    .dataframe thead th {\n",
       "        text-align: right;\n",
       "    }\n",
       "</style>\n",
       "<table border=\"1\" class=\"dataframe\">\n",
       "  <thead>\n",
       "    <tr style=\"text-align: right;\">\n",
       "      <th></th>\n",
       "      <th>com1</th>\n",
       "      <th>com2</th>\n",
       "      <th>target</th>\n",
       "    </tr>\n",
       "  </thead>\n",
       "  <tbody>\n",
       "    <tr>\n",
       "      <th>0</th>\n",
       "      <td>0.086897</td>\n",
       "      <td>-0.920850</td>\n",
       "      <td>1</td>\n",
       "    </tr>\n",
       "    <tr>\n",
       "      <th>1</th>\n",
       "      <td>0.237427</td>\n",
       "      <td>0.323826</td>\n",
       "      <td>1</td>\n",
       "    </tr>\n",
       "    <tr>\n",
       "      <th>2</th>\n",
       "      <td>-0.505460</td>\n",
       "      <td>-0.320311</td>\n",
       "      <td>1</td>\n",
       "    </tr>\n",
       "    <tr>\n",
       "      <th>3</th>\n",
       "      <td>-2.179619</td>\n",
       "      <td>3.138569</td>\n",
       "      <td>1</td>\n",
       "    </tr>\n",
       "    <tr>\n",
       "      <th>4</th>\n",
       "      <td>-1.488344</td>\n",
       "      <td>0.826640</td>\n",
       "      <td>1</td>\n",
       "    </tr>\n",
       "  </tbody>\n",
       "</table>\n",
       "</div>\n",
       "      <button class=\"colab-df-convert\" onclick=\"convertToInteractive('df-6ea5d8b6-eb99-471a-aea2-d305c0809da7')\"\n",
       "              title=\"Convert this dataframe to an interactive table.\"\n",
       "              style=\"display:none;\">\n",
       "        \n",
       "  <svg xmlns=\"http://www.w3.org/2000/svg\" height=\"24px\"viewBox=\"0 0 24 24\"\n",
       "       width=\"24px\">\n",
       "    <path d=\"M0 0h24v24H0V0z\" fill=\"none\"/>\n",
       "    <path d=\"M18.56 5.44l.94 2.06.94-2.06 2.06-.94-2.06-.94-.94-2.06-.94 2.06-2.06.94zm-11 1L8.5 8.5l.94-2.06 2.06-.94-2.06-.94L8.5 2.5l-.94 2.06-2.06.94zm10 10l.94 2.06.94-2.06 2.06-.94-2.06-.94-.94-2.06-.94 2.06-2.06.94z\"/><path d=\"M17.41 7.96l-1.37-1.37c-.4-.4-.92-.59-1.43-.59-.52 0-1.04.2-1.43.59L10.3 9.45l-7.72 7.72c-.78.78-.78 2.05 0 2.83L4 21.41c.39.39.9.59 1.41.59.51 0 1.02-.2 1.41-.59l7.78-7.78 2.81-2.81c.8-.78.8-2.07 0-2.86zM5.41 20L4 18.59l7.72-7.72 1.47 1.35L5.41 20z\"/>\n",
       "  </svg>\n",
       "      </button>\n",
       "      \n",
       "  <style>\n",
       "    .colab-df-container {\n",
       "      display:flex;\n",
       "      flex-wrap:wrap;\n",
       "      gap: 12px;\n",
       "    }\n",
       "\n",
       "    .colab-df-convert {\n",
       "      background-color: #E8F0FE;\n",
       "      border: none;\n",
       "      border-radius: 50%;\n",
       "      cursor: pointer;\n",
       "      display: none;\n",
       "      fill: #1967D2;\n",
       "      height: 32px;\n",
       "      padding: 0 0 0 0;\n",
       "      width: 32px;\n",
       "    }\n",
       "\n",
       "    .colab-df-convert:hover {\n",
       "      background-color: #E2EBFA;\n",
       "      box-shadow: 0px 1px 2px rgba(60, 64, 67, 0.3), 0px 1px 3px 1px rgba(60, 64, 67, 0.15);\n",
       "      fill: #174EA6;\n",
       "    }\n",
       "\n",
       "    [theme=dark] .colab-df-convert {\n",
       "      background-color: #3B4455;\n",
       "      fill: #D2E3FC;\n",
       "    }\n",
       "\n",
       "    [theme=dark] .colab-df-convert:hover {\n",
       "      background-color: #434B5C;\n",
       "      box-shadow: 0px 1px 3px 1px rgba(0, 0, 0, 0.15);\n",
       "      filter: drop-shadow(0px 1px 2px rgba(0, 0, 0, 0.3));\n",
       "      fill: #FFFFFF;\n",
       "    }\n",
       "  </style>\n",
       "\n",
       "      <script>\n",
       "        const buttonEl =\n",
       "          document.querySelector('#df-6ea5d8b6-eb99-471a-aea2-d305c0809da7 button.colab-df-convert');\n",
       "        buttonEl.style.display =\n",
       "          google.colab.kernel.accessAllowed ? 'block' : 'none';\n",
       "\n",
       "        async function convertToInteractive(key) {\n",
       "          const element = document.querySelector('#df-6ea5d8b6-eb99-471a-aea2-d305c0809da7');\n",
       "          const dataTable =\n",
       "            await google.colab.kernel.invokeFunction('convertToInteractive',\n",
       "                                                     [key], {});\n",
       "          if (!dataTable) return;\n",
       "\n",
       "          const docLinkHtml = 'Like what you see? Visit the ' +\n",
       "            '<a target=\"_blank\" href=https://colab.research.google.com/notebooks/data_table.ipynb>data table notebook</a>'\n",
       "            + ' to learn more about interactive tables.';\n",
       "          element.innerHTML = '';\n",
       "          dataTable['output_type'] = 'display_data';\n",
       "          await google.colab.output.renderOutput(dataTable, element);\n",
       "          const docLink = document.createElement('div');\n",
       "          docLink.innerHTML = docLinkHtml;\n",
       "          element.appendChild(docLink);\n",
       "        }\n",
       "      </script>\n",
       "    </div>\n",
       "  </div>\n",
       "  "
      ],
      "text/plain": [
       "       com1      com2  target\n",
       "0  0.086897 -0.920850       1\n",
       "1  0.237427  0.323826       1\n",
       "2 -0.505460 -0.320311       1\n",
       "3 -2.179619  3.138569       1\n",
       "4 -1.488344  0.826640       1"
      ]
     },
     "metadata": {},
     "output_type": "display_data"
    }
   ],
   "source": [
    "from sklearn.decomposition import PCA\n",
    "from sklearn.preprocessing import StandardScaler\n",
    "\n",
    "trans_w2v_df = StandardScaler().fit_transform(w2v_df)\n",
    "\n",
    "#reduce dimention half\n",
    "pca = PCA(n_components=100)\n",
    "pca_trans_w2v_df = pca.fit_transform(trans_w2v_df)\n",
    "\n",
    "print(pca_trans_w2v_df.shape) \n",
    "\n",
    "df_pca_visual = pd.DataFrame({'com1': pca_trans_w2v_df[:,1], 'com2': pca_trans_w2v_df[:,2]})\n",
    "display(df_pca_visual.head())\n",
    "\n",
    "df_pca_visual['target'] = df['target']\n",
    "display(df_pca_visual.head())\n",
    "\n",
    "#sns.scatterplot(data=df_pca_visual, x=\"com1\", y=\"com2\", hue=\"target\")"
   ]
  },
  {
   "cell_type": "code",
   "execution_count": 259,
   "metadata": {
    "colab": {
     "base_uri": "https://localhost:8080/",
     "height": 0
    },
    "id": "MzNFyvE-nvBW",
    "outputId": "355378f7-a728-4dd2-af32-32cd0a484855"
   },
   "outputs": [
    {
     "data": {
      "application/vnd.google.colaboratory.intrinsic+json": {
       "type": "string"
      },
      "text/plain": [
       "'\\nfrom sklearn.discriminant_analysis import LinearDiscriminantAnalysis\\n\\ntrans_w2v_df = StandardScaler().fit_transform(w2v_df)\\n\\n# apply Linear Discriminant Analysis\\nlda = LinearDiscriminantAnalysis(n_components=1)\\nlda_w2v_df = lda.fit_transform(trans_w2v_df, df[\\'target\\'])\\nprint(lda_w2v_df.shape) \\n\\n\\nlda_w2v_df_visual = pd.DataFrame({\\'lda_com\\': lda_w2v_df[:,0]})\\ndisplay(lda_w2v_df_visual.head())\\n\\nlda_w2v_df_visual[\\'target\\'] = df[\\'target\\']\\ndisplay(lda_w2v_df_visual.head())\\n\\n\\nimport seaborn as sns\\nsns.set_theme(style=\"whitegrid\")\\nax = sns.stripplot(x=\"lda_com\" ,y=\"target\" , data=lda_w2v_df_visual)'"
      ]
     },
     "execution_count": 259,
     "metadata": {},
     "output_type": "execute_result"
    }
   ],
   "source": [
    "'''\n",
    "from sklearn.discriminant_analysis import LinearDiscriminantAnalysis\n",
    "\n",
    "trans_w2v_df = StandardScaler().fit_transform(w2v_df)\n",
    "\n",
    "# apply Linear Discriminant Analysis\n",
    "lda = LinearDiscriminantAnalysis(n_components=1)\n",
    "lda_w2v_df = lda.fit_transform(trans_w2v_df, df['target'])\n",
    "print(lda_w2v_df.shape) \n",
    "\n",
    "\n",
    "lda_w2v_df_visual = pd.DataFrame({'lda_com': lda_w2v_df[:,0]})\n",
    "display(lda_w2v_df_visual.head())\n",
    "\n",
    "lda_w2v_df_visual['target'] = df['target']\n",
    "display(lda_w2v_df_visual.head())\n",
    "\n",
    "\n",
    "import seaborn as sns\n",
    "sns.set_theme(style=\"whitegrid\")\n",
    "ax = sns.stripplot(x=\"lda_com\" ,y=\"target\" , data=lda_w2v_df_visual)'''\n",
    "  "
   ]
  },
  {
   "cell_type": "code",
   "execution_count": 260,
   "metadata": {
    "colab": {
     "base_uri": "https://localhost:8080/",
     "height": 0
    },
    "id": "riiysqjAZyf8",
    "outputId": "d6e02a19-e919-4dae-bcf3-abcdbc52dfcc"
   },
   "outputs": [
    {
     "name": "stdout",
     "output_type": "stream",
     "text": [
      "(7613, 2)\n"
     ]
    },
    {
     "data": {
      "text/html": [
       "\n",
       "  <div id=\"df-9240bf58-f034-429e-8c79-134a54fa9e59\">\n",
       "    <div class=\"colab-df-container\">\n",
       "      <div>\n",
       "<style scoped>\n",
       "    .dataframe tbody tr th:only-of-type {\n",
       "        vertical-align: middle;\n",
       "    }\n",
       "\n",
       "    .dataframe tbody tr th {\n",
       "        vertical-align: top;\n",
       "    }\n",
       "\n",
       "    .dataframe thead th {\n",
       "        text-align: right;\n",
       "    }\n",
       "</style>\n",
       "<table border=\"1\" class=\"dataframe\">\n",
       "  <thead>\n",
       "    <tr style=\"text-align: right;\">\n",
       "      <th></th>\n",
       "      <th>com1</th>\n",
       "      <th>com2</th>\n",
       "    </tr>\n",
       "  </thead>\n",
       "  <tbody>\n",
       "    <tr>\n",
       "      <th>0</th>\n",
       "      <td>-1.183732</td>\n",
       "      <td>0.086897</td>\n",
       "    </tr>\n",
       "    <tr>\n",
       "      <th>1</th>\n",
       "      <td>1.562483</td>\n",
       "      <td>0.237427</td>\n",
       "    </tr>\n",
       "    <tr>\n",
       "      <th>2</th>\n",
       "      <td>0.201041</td>\n",
       "      <td>-0.505460</td>\n",
       "    </tr>\n",
       "    <tr>\n",
       "      <th>3</th>\n",
       "      <td>0.663771</td>\n",
       "      <td>-2.179619</td>\n",
       "    </tr>\n",
       "    <tr>\n",
       "      <th>4</th>\n",
       "      <td>-0.218311</td>\n",
       "      <td>-1.488344</td>\n",
       "    </tr>\n",
       "  </tbody>\n",
       "</table>\n",
       "</div>\n",
       "      <button class=\"colab-df-convert\" onclick=\"convertToInteractive('df-9240bf58-f034-429e-8c79-134a54fa9e59')\"\n",
       "              title=\"Convert this dataframe to an interactive table.\"\n",
       "              style=\"display:none;\">\n",
       "        \n",
       "  <svg xmlns=\"http://www.w3.org/2000/svg\" height=\"24px\"viewBox=\"0 0 24 24\"\n",
       "       width=\"24px\">\n",
       "    <path d=\"M0 0h24v24H0V0z\" fill=\"none\"/>\n",
       "    <path d=\"M18.56 5.44l.94 2.06.94-2.06 2.06-.94-2.06-.94-.94-2.06-.94 2.06-2.06.94zm-11 1L8.5 8.5l.94-2.06 2.06-.94-2.06-.94L8.5 2.5l-.94 2.06-2.06.94zm10 10l.94 2.06.94-2.06 2.06-.94-2.06-.94-.94-2.06-.94 2.06-2.06.94z\"/><path d=\"M17.41 7.96l-1.37-1.37c-.4-.4-.92-.59-1.43-.59-.52 0-1.04.2-1.43.59L10.3 9.45l-7.72 7.72c-.78.78-.78 2.05 0 2.83L4 21.41c.39.39.9.59 1.41.59.51 0 1.02-.2 1.41-.59l7.78-7.78 2.81-2.81c.8-.78.8-2.07 0-2.86zM5.41 20L4 18.59l7.72-7.72 1.47 1.35L5.41 20z\"/>\n",
       "  </svg>\n",
       "      </button>\n",
       "      \n",
       "  <style>\n",
       "    .colab-df-container {\n",
       "      display:flex;\n",
       "      flex-wrap:wrap;\n",
       "      gap: 12px;\n",
       "    }\n",
       "\n",
       "    .colab-df-convert {\n",
       "      background-color: #E8F0FE;\n",
       "      border: none;\n",
       "      border-radius: 50%;\n",
       "      cursor: pointer;\n",
       "      display: none;\n",
       "      fill: #1967D2;\n",
       "      height: 32px;\n",
       "      padding: 0 0 0 0;\n",
       "      width: 32px;\n",
       "    }\n",
       "\n",
       "    .colab-df-convert:hover {\n",
       "      background-color: #E2EBFA;\n",
       "      box-shadow: 0px 1px 2px rgba(60, 64, 67, 0.3), 0px 1px 3px 1px rgba(60, 64, 67, 0.15);\n",
       "      fill: #174EA6;\n",
       "    }\n",
       "\n",
       "    [theme=dark] .colab-df-convert {\n",
       "      background-color: #3B4455;\n",
       "      fill: #D2E3FC;\n",
       "    }\n",
       "\n",
       "    [theme=dark] .colab-df-convert:hover {\n",
       "      background-color: #434B5C;\n",
       "      box-shadow: 0px 1px 3px 1px rgba(0, 0, 0, 0.15);\n",
       "      filter: drop-shadow(0px 1px 2px rgba(0, 0, 0, 0.3));\n",
       "      fill: #FFFFFF;\n",
       "    }\n",
       "  </style>\n",
       "\n",
       "      <script>\n",
       "        const buttonEl =\n",
       "          document.querySelector('#df-9240bf58-f034-429e-8c79-134a54fa9e59 button.colab-df-convert');\n",
       "        buttonEl.style.display =\n",
       "          google.colab.kernel.accessAllowed ? 'block' : 'none';\n",
       "\n",
       "        async function convertToInteractive(key) {\n",
       "          const element = document.querySelector('#df-9240bf58-f034-429e-8c79-134a54fa9e59');\n",
       "          const dataTable =\n",
       "            await google.colab.kernel.invokeFunction('convertToInteractive',\n",
       "                                                     [key], {});\n",
       "          if (!dataTable) return;\n",
       "\n",
       "          const docLinkHtml = 'Like what you see? Visit the ' +\n",
       "            '<a target=\"_blank\" href=https://colab.research.google.com/notebooks/data_table.ipynb>data table notebook</a>'\n",
       "            + ' to learn more about interactive tables.';\n",
       "          element.innerHTML = '';\n",
       "          dataTable['output_type'] = 'display_data';\n",
       "          await google.colab.output.renderOutput(dataTable, element);\n",
       "          const docLink = document.createElement('div');\n",
       "          docLink.innerHTML = docLinkHtml;\n",
       "          element.appendChild(docLink);\n",
       "        }\n",
       "      </script>\n",
       "    </div>\n",
       "  </div>\n",
       "  "
      ],
      "text/plain": [
       "       com1      com2\n",
       "0 -1.183732  0.086897\n",
       "1  1.562483  0.237427\n",
       "2  0.201041 -0.505460\n",
       "3  0.663771 -2.179619\n",
       "4 -0.218311 -1.488344"
      ]
     },
     "metadata": {},
     "output_type": "display_data"
    },
    {
     "data": {
      "text/html": [
       "\n",
       "  <div id=\"df-0c3cd018-748f-4c6b-82c0-805f68faa204\">\n",
       "    <div class=\"colab-df-container\">\n",
       "      <div>\n",
       "<style scoped>\n",
       "    .dataframe tbody tr th:only-of-type {\n",
       "        vertical-align: middle;\n",
       "    }\n",
       "\n",
       "    .dataframe tbody tr th {\n",
       "        vertical-align: top;\n",
       "    }\n",
       "\n",
       "    .dataframe thead th {\n",
       "        text-align: right;\n",
       "    }\n",
       "</style>\n",
       "<table border=\"1\" class=\"dataframe\">\n",
       "  <thead>\n",
       "    <tr style=\"text-align: right;\">\n",
       "      <th></th>\n",
       "      <th>com1</th>\n",
       "      <th>com2</th>\n",
       "      <th>target</th>\n",
       "    </tr>\n",
       "  </thead>\n",
       "  <tbody>\n",
       "    <tr>\n",
       "      <th>0</th>\n",
       "      <td>-1.183732</td>\n",
       "      <td>0.086897</td>\n",
       "      <td>1</td>\n",
       "    </tr>\n",
       "    <tr>\n",
       "      <th>1</th>\n",
       "      <td>1.562483</td>\n",
       "      <td>0.237427</td>\n",
       "      <td>1</td>\n",
       "    </tr>\n",
       "    <tr>\n",
       "      <th>2</th>\n",
       "      <td>0.201041</td>\n",
       "      <td>-0.505460</td>\n",
       "      <td>1</td>\n",
       "    </tr>\n",
       "    <tr>\n",
       "      <th>3</th>\n",
       "      <td>0.663771</td>\n",
       "      <td>-2.179619</td>\n",
       "      <td>1</td>\n",
       "    </tr>\n",
       "    <tr>\n",
       "      <th>4</th>\n",
       "      <td>-0.218311</td>\n",
       "      <td>-1.488344</td>\n",
       "      <td>1</td>\n",
       "    </tr>\n",
       "  </tbody>\n",
       "</table>\n",
       "</div>\n",
       "      <button class=\"colab-df-convert\" onclick=\"convertToInteractive('df-0c3cd018-748f-4c6b-82c0-805f68faa204')\"\n",
       "              title=\"Convert this dataframe to an interactive table.\"\n",
       "              style=\"display:none;\">\n",
       "        \n",
       "  <svg xmlns=\"http://www.w3.org/2000/svg\" height=\"24px\"viewBox=\"0 0 24 24\"\n",
       "       width=\"24px\">\n",
       "    <path d=\"M0 0h24v24H0V0z\" fill=\"none\"/>\n",
       "    <path d=\"M18.56 5.44l.94 2.06.94-2.06 2.06-.94-2.06-.94-.94-2.06-.94 2.06-2.06.94zm-11 1L8.5 8.5l.94-2.06 2.06-.94-2.06-.94L8.5 2.5l-.94 2.06-2.06.94zm10 10l.94 2.06.94-2.06 2.06-.94-2.06-.94-.94-2.06-.94 2.06-2.06.94z\"/><path d=\"M17.41 7.96l-1.37-1.37c-.4-.4-.92-.59-1.43-.59-.52 0-1.04.2-1.43.59L10.3 9.45l-7.72 7.72c-.78.78-.78 2.05 0 2.83L4 21.41c.39.39.9.59 1.41.59.51 0 1.02-.2 1.41-.59l7.78-7.78 2.81-2.81c.8-.78.8-2.07 0-2.86zM5.41 20L4 18.59l7.72-7.72 1.47 1.35L5.41 20z\"/>\n",
       "  </svg>\n",
       "      </button>\n",
       "      \n",
       "  <style>\n",
       "    .colab-df-container {\n",
       "      display:flex;\n",
       "      flex-wrap:wrap;\n",
       "      gap: 12px;\n",
       "    }\n",
       "\n",
       "    .colab-df-convert {\n",
       "      background-color: #E8F0FE;\n",
       "      border: none;\n",
       "      border-radius: 50%;\n",
       "      cursor: pointer;\n",
       "      display: none;\n",
       "      fill: #1967D2;\n",
       "      height: 32px;\n",
       "      padding: 0 0 0 0;\n",
       "      width: 32px;\n",
       "    }\n",
       "\n",
       "    .colab-df-convert:hover {\n",
       "      background-color: #E2EBFA;\n",
       "      box-shadow: 0px 1px 2px rgba(60, 64, 67, 0.3), 0px 1px 3px 1px rgba(60, 64, 67, 0.15);\n",
       "      fill: #174EA6;\n",
       "    }\n",
       "\n",
       "    [theme=dark] .colab-df-convert {\n",
       "      background-color: #3B4455;\n",
       "      fill: #D2E3FC;\n",
       "    }\n",
       "\n",
       "    [theme=dark] .colab-df-convert:hover {\n",
       "      background-color: #434B5C;\n",
       "      box-shadow: 0px 1px 3px 1px rgba(0, 0, 0, 0.15);\n",
       "      filter: drop-shadow(0px 1px 2px rgba(0, 0, 0, 0.3));\n",
       "      fill: #FFFFFF;\n",
       "    }\n",
       "  </style>\n",
       "\n",
       "      <script>\n",
       "        const buttonEl =\n",
       "          document.querySelector('#df-0c3cd018-748f-4c6b-82c0-805f68faa204 button.colab-df-convert');\n",
       "        buttonEl.style.display =\n",
       "          google.colab.kernel.accessAllowed ? 'block' : 'none';\n",
       "\n",
       "        async function convertToInteractive(key) {\n",
       "          const element = document.querySelector('#df-0c3cd018-748f-4c6b-82c0-805f68faa204');\n",
       "          const dataTable =\n",
       "            await google.colab.kernel.invokeFunction('convertToInteractive',\n",
       "                                                     [key], {});\n",
       "          if (!dataTable) return;\n",
       "\n",
       "          const docLinkHtml = 'Like what you see? Visit the ' +\n",
       "            '<a target=\"_blank\" href=https://colab.research.google.com/notebooks/data_table.ipynb>data table notebook</a>'\n",
       "            + ' to learn more about interactive tables.';\n",
       "          element.innerHTML = '';\n",
       "          dataTable['output_type'] = 'display_data';\n",
       "          await google.colab.output.renderOutput(dataTable, element);\n",
       "          const docLink = document.createElement('div');\n",
       "          docLink.innerHTML = docLinkHtml;\n",
       "          element.appendChild(docLink);\n",
       "        }\n",
       "      </script>\n",
       "    </div>\n",
       "  </div>\n",
       "  "
      ],
      "text/plain": [
       "       com1      com2  target\n",
       "0 -1.183732  0.086897       1\n",
       "1  1.562483  0.237427       1\n",
       "2  0.201041 -0.505460       1\n",
       "3  0.663771 -2.179619       1\n",
       "4 -0.218311 -1.488344       1"
      ]
     },
     "metadata": {},
     "output_type": "display_data"
    },
    {
     "data": {
      "text/plain": [
       "<matplotlib.axes._subplots.AxesSubplot at 0x7f3b22178c10>"
      ]
     },
     "execution_count": 260,
     "metadata": {},
     "output_type": "execute_result"
    },
    {
     "data": {
      "image/png": "[encoded data removed]",
      "text/plain": [
       "<Figure size 432x288 with 1 Axes>"
      ]
     },
     "metadata": {
      "needs_background": "light"
     },
     "output_type": "display_data"
    }
   ],
   "source": [
    "# This is for visualization code\n",
    "from sklearn.decomposition import PCA\n",
    "\n",
    "pca_visual = PCA(n_components=2)\n",
    "df_visual = pca_visual.fit_transform(trans_w2v_df)\n",
    "print(df_visual.shape) \n",
    "\n",
    "df_pca_visual = pd.DataFrame(df_visual, columns=['com1', 'com2'])\n",
    "display(df_pca_visual.head())\n",
    "\n",
    "df_pca_visual['target'] = df['target']\n",
    "display(df_pca_visual.head())\n",
    "\n",
    "sns.scatterplot(data=df_pca_visual, x=\"com1\", y=\"com2\", hue=\"target\")\n"
   ]
  },
  {
   "cell_type": "markdown",
   "metadata": {
    "id": "G7l21GNwqGzR",
    "jp-MarkdownHeadingCollapsed": true,
    "tags": []
   },
   "source": [
    "# Data Split"
   ]
  },
  {
   "cell_type": "code",
   "execution_count": 261,
   "metadata": {
    "id": "VO-P8ypzIQqf"
   },
   "outputs": [],
   "source": [
    "from sklearn.model_selection import train_test_split\n",
    "\n",
    "cv_train_X, cv_test_X, cv_train_Y, cv_test_y = train_test_split(cv_df, df['target'], test_size=0.30, random_state=17)\n",
    "tfidf_train_X, tfidf_test_X, tfidf_train_Y, tfidf_test_y = train_test_split(tfidf_df, df['target'], test_size=0.30, random_state=17)\n",
    "w2v_train_X, w2v_test_X, w2v_train_Y, w2v_test_y = train_test_split(w2v_df, df['target'], test_size=0.30, random_state=17)\n",
    "pca_w2v_train_X, pca_w2v_test_X, pca_w2v_train_Y, pca_w2v_test_y = train_test_split(pca_trans_w2v_df, df['target'], test_size=0.30, random_state=17)"
   ]
  },
  {
   "cell_type": "markdown",
   "metadata": {
    "id": "vUuzb2ZAqNij",
    "tags": []
   },
   "source": [
    "# Model - SVM Best cv 0.800"
   ]
  },
  {
   "cell_type": "code",
   "execution_count": 262,
   "metadata": {
    "id": "uCaehTpsJCPc"
   },
   "outputs": [],
   "source": [
    "import matplotlib.pyplot as plt\n",
    "from sklearn import svm\n",
    "from sklearn.metrics import accuracy_score\n",
    "from sklearn.model_selection import cross_val_score\n",
    "from sklearn.metrics import confusion_matrix\n",
    "from sklearn.metrics import precision_score, recall_score, f1_score, accuracy_score\n",
    "\n",
    "\n",
    " \n",
    "def model_SVM(train_X, test_X, train_y, test_y) :\n",
    "  svm_clf = svm.SVC()\n",
    "  svm_clf= svm_clf.fit(train_X, train_y)\n",
    "  pred_y = svm_clf.predict(test_X)\n",
    "\n",
    "  #Accuracy\n",
    "  print('accuracy_score: %.3f' % accuracy_score(test_y, pred_y))\n",
    "  print('Recall: %.3f' % recall_score(test_y, pred_y))\n",
    "  print('Precision: %.3f' % precision_score(test_y, pred_y))\n",
    "  print('F1 Score: %.3f' % f1_score(test_y, pred_y))"
   ]
  },
  {
   "cell_type": "markdown",
   "metadata": {
    "id": "L8tszhS_quLo"
   },
   "source": [
    "**Training three datasets on Basic SVM and Prediction/Accuracy**"
   ]
  },
  {
   "cell_type": "code",
   "execution_count": 263,
   "metadata": {
    "colab": {
     "base_uri": "https://localhost:8080/"
    },
    "id": "moyZr_SFJ3r2",
    "outputId": "0143b431-95b8-4aae-ae43-c1e0739317d3"
   },
   "outputs": [
    {
     "name": "stdout",
     "output_type": "stream",
     "text": [
      "accuracy_score: 0.799\n",
      "Recall: 0.639\n",
      "Precision: 0.864\n",
      "F1 Score: 0.735\n",
      "accuracy_score: 0.761\n",
      "Recall: 0.493\n",
      "Precision: 0.923\n",
      "F1 Score: 0.643\n",
      "accuracy_score: 0.649\n",
      "Recall: 0.229\n",
      "Precision: 0.864\n",
      "F1 Score: 0.362\n",
      "accuracy_score: 0.716\n",
      "Recall: 0.466\n",
      "Precision: 0.797\n",
      "F1 Score: 0.588\n"
     ]
    }
   ],
   "source": [
    "model_SVM(cv_train_X, cv_test_X, cv_train_Y, cv_test_y)\n",
    "#model_SVM(svd_cv_train_X, svd_cv_test_X, svd_cv_train_Y, svd_cv_test_y)\n",
    "\n",
    "model_SVM(tfidf_train_X, tfidf_test_X, tfidf_train_Y, tfidf_test_y)\n",
    "#model_SVM(svd_tfidf_train_X, svd_tfidf_test_X, svd_tfidf_train_Y, svd_tfidf_test_y)\n",
    "\n",
    "model_SVM(w2v_train_X, w2v_test_X, w2v_train_Y, w2v_test_y)\n",
    "model_SVM(pca_w2v_train_X, pca_w2v_test_X, pca_w2v_train_Y, pca_w2v_test_y)"
   ]
  },
  {
   "cell_type": "code",
   "execution_count": 264,
   "metadata": {
    "colab": {
     "base_uri": "https://localhost:8080/",
     "height": 0
    },
    "id": "PSTXYx7hHktG",
    "outputId": "0e40ed8b-0b1e-4f17-b72c-d8e4e73da7ab"
   },
   "outputs": [
    {
     "data": {
      "image/png": "[encoded data removed]",
      "text/plain": [
       "<Figure size 720x360 with 1 Axes>"
      ]
     },
     "metadata": {
      "needs_background": "light"
     },
     "output_type": "display_data"
    }
   ],
   "source": [
    "#visualization\n",
    "\n",
    "data = {'CV':0.799, 'TD-IDF':0.761, 'W2V':0.624,'PCA_W2V':0.709}\n",
    "datatype = list(data.keys())\n",
    "acc = list(data.values())\n",
    "  \n",
    "fig = plt.figure(figsize = (10, 5))\n",
    " \n",
    "# creating the bar plot\n",
    "plt.bar(datatype, acc, width = 0.5)\n",
    " \n",
    "plt.xlabel(\"Feature Type\")\n",
    "plt.ylabel(\"Accuracy on SVM\")\n",
    "plt.show()"
   ]
  },
  {
   "cell_type": "code",
   "execution_count": 265,
   "metadata": {
    "colab": {
     "base_uri": "https://localhost:8080/",
     "height": 0
    },
    "id": "GZ462PuNj2v0",
    "outputId": "326d48a8-7630-4aa5-c7f6-f2bbc811ab4d"
   },
   "outputs": [
    {
     "data": {
      "text/plain": [
       "<matplotlib.axes._subplots.AxesSubplot at 0x7f3b4d0fa790>"
      ]
     },
     "execution_count": 265,
     "metadata": {},
     "output_type": "execute_result"
    },
    {
     "data": {
      "image/png": "[encoded data removed]",
      "text/plain": [
       "<Figure size 432x288 with 1 Axes>"
      ]
     },
     "metadata": {
      "needs_background": "light"
     },
     "output_type": "display_data"
    }
   ],
   "source": [
    "sns.lineplot(data=data)"
   ]
  },
  {
   "cell_type": "markdown",
   "metadata": {
    "id": "Ve0IQYrBuo5T"
   },
   "source": [
    "**SVM with CounterVector has higher accuracy**"
   ]
  },
  {
   "cell_type": "code",
   "execution_count": 266,
   "metadata": {
    "colab": {
     "base_uri": "https://localhost:8080/",
     "height": 0
    },
    "id": "uXsXofYsuu3s",
    "outputId": "80c39372-c9e3-4380-80fe-4039de1c4967"
   },
   "outputs": [
    {
     "name": "stdout",
     "output_type": "stream",
     "text": [
      "accuracy_score: 0.800\n",
      "Recall: 0.668\n",
      "Precision: 0.839\n",
      "F1 Score: 0.744\n"
     ]
    },
    {
     "data": {
      "image/png": "[encoded data removed]",
      "text/plain": [
       "<Figure size 360x360 with 1 Axes>"
      ]
     },
     "metadata": {
      "needs_background": "light"
     },
     "output_type": "display_data"
    }
   ],
   "source": [
    "from sklearn.metrics import precision_score, recall_score, f1_score, accuracy_score\n",
    "\n",
    "def testModel(train_x, test_x, train_y, test_y, _c, _gam, _kn):\n",
    "  SVM = svm.SVC(kernel=_kn, C=_c)\n",
    "  SVM.fit(train_x, train_y)\n",
    "  pred_y = SVM.predict(test_x)\n",
    "  #Accuracy\n",
    "  print('accuracy_score: %.3f' % accuracy_score(test_y, pred_y))\n",
    "  print('Recall: %.3f' % recall_score(test_y, pred_y))\n",
    "  print('Precision: %.3f' % precision_score(test_y, pred_y))\n",
    "  print('F1 Score: %.3f' % f1_score(test_y, pred_y))\n",
    "\n",
    "\n",
    "  conf_matrix = confusion_matrix(y_true=test_y, y_pred=pred_y)\n",
    "  #\n",
    "  # Print the confusion matrix using Matplotlib\n",
    "  #\n",
    "  fig, ax = plt.subplots(figsize=(5, 5))\n",
    "  ax.matshow(conf_matrix, cmap=plt.cm.Oranges, alpha=0.3)\n",
    "  for i in range(conf_matrix.shape[0]):\n",
    "      for j in range(conf_matrix.shape[1]):\n",
    "          ax.text(x=j, y=i,s=conf_matrix[i, j], va='center', ha='center', size='xx-large')\n",
    "  \n",
    "  plt.xlabel('Predictions', fontsize=18)\n",
    "  plt.ylabel('Actuals', fontsize=18)\n",
    "  plt.title('Confusion Matrix', fontsize=18)\n",
    "  plt.show()\n",
    "\n",
    "\n",
    "'''\n",
    "To find best tuning option\n",
    "\n",
    "group_c = [5, 1, 0.1, 0.05, 0.01, 0.001]\n",
    "group_gam = [5, 1, 0.1, 0.05, 0.01, 0.001]\n",
    "\n",
    "for c in group_c:\n",
    "  print(\"C value:\", c)\n",
    "  for gam in group_gam:\n",
    "    print(\"gam value:\", gam)\n",
    "    testModel(cv_train_X, cv_test_X, cv_train_Y, cv_test_y, c, gam, 'rbf')\n",
    "'''\n",
    "#testModel(cv_train_X, cv_test_X, cv_train_Y, cv_test_y, c, gam, 'linear')\n",
    "#testModel(cv_train_X, cv_test_X, cv_train_Y, cv_test_y, c, gam, 'rbf')\n",
    "#testModel(cv_train_X, cv_test_X, cv_train_Y, cv_test_y, 1, 'auto', 'poly')\n",
    "\n",
    "testModel(cv_train_X, cv_test_X, cv_train_Y, cv_test_y, 1, 'auto', 'sigmoid')"
   ]
  },
  {
   "cell_type": "markdown",
   "metadata": {
    "id": "XH3_NJne6fB7",
    "tags": []
   },
   "source": [
    "# *LogisticRegression* best CV 0.800"
   ]
  },
  {
   "cell_type": "code",
   "execution_count": 267,
   "metadata": {
    "id": "73oxB7Ym7AKS"
   },
   "outputs": [],
   "source": [
    "from sklearn.linear_model import LogisticRegression\n",
    "\n",
    "def model_Logistic(train_X, test_X, train_y, test_y) :\n",
    "  logisticRegr = LogisticRegression()\n",
    "  logisticRegr.fit(train_X, train_y)\n",
    "  pred_y = logisticRegr.predict(test_X)\n",
    "\n",
    "  #Accuracy\n",
    "  print('accuracy_score: %.3f' % accuracy_score(test_y, pred_y))\n",
    "  print('Recall: %.3f' % recall_score(test_y, pred_y))\n",
    "  print('Precision: %.3f' % precision_score(test_y, pred_y))\n",
    "  print('F1 Score: %.3f' % f1_score(test_y, pred_y))\n"
   ]
  },
  {
   "cell_type": "code",
   "execution_count": 268,
   "metadata": {
    "colab": {
     "base_uri": "https://localhost:8080/"
    },
    "id": "5uXcHIN778al",
    "outputId": "03fb3f80-99db-411a-e0de-65b2bee997a2"
   },
   "outputs": [
    {
     "name": "stdout",
     "output_type": "stream",
     "text": [
      "accuracy_score: 0.797\n",
      "Recall: 0.693\n",
      "Precision: 0.813\n",
      "F1 Score: 0.749\n",
      "accuracy_score: 0.776\n",
      "Recall: 0.539\n",
      "Precision: 0.908\n",
      "F1 Score: 0.677\n",
      "accuracy_score: 0.685\n",
      "Recall: 0.372\n",
      "Precision: 0.796\n",
      "F1 Score: 0.507\n",
      "accuracy_score: 0.753\n",
      "Recall: 0.585\n",
      "Precision: 0.794\n",
      "F1 Score: 0.673\n"
     ]
    },
    {
     "name": "stderr",
     "output_type": "stream",
     "text": [
      "/usr/local/lib/python3.7/dist-packages/sklearn/linear_model/_logistic.py:818: ConvergenceWarning: lbfgs failed to converge (status=1):\n",
      "STOP: TOTAL NO. of ITERATIONS REACHED LIMIT.\n",
      "\n",
      "Increase the number of iterations (max_iter) or scale the data as shown in:\n",
      "    https://scikit-learn.org/stable/modules/preprocessing.html\n",
      "Please also refer to the documentation for alternative solver options:\n",
      "    https://scikit-learn.org/stable/modules/linear_model.html#logistic-regression\n",
      "  extra_warning_msg=_LOGISTIC_SOLVER_CONVERGENCE_MSG,\n"
     ]
    }
   ],
   "source": [
    "model_Logistic(cv_train_X, cv_test_X, cv_train_Y, cv_test_y)\n",
    "model_Logistic(tfidf_train_X, tfidf_test_X, tfidf_train_Y, tfidf_test_y)\n",
    "model_Logistic(w2v_train_X, w2v_test_X, w2v_train_Y, w2v_test_y)\n",
    "model_Logistic(pca_w2v_train_X, pca_w2v_test_X, pca_w2v_train_Y, pca_w2v_test_y)"
   ]
  },
  {
   "cell_type": "markdown",
   "metadata": {
    "id": "s_FS9InpHfBU"
   },
   "source": [
    "**LogitricRegression with CountVector has better accuracy**"
   ]
  },
  {
   "cell_type": "code",
   "execution_count": null,
   "metadata": {
    "colab": {
     "base_uri": "https://localhost:8080/"
    },
    "id": "2xZQFYiwOt_I",
    "outputId": "2ce82cee-bd8b-4fb2-86d8-8941931a7c6c"
   },
   "outputs": [
    {
     "name": "stdout",
     "output_type": "stream",
     "text": [
      "\n",
      " C=10.00000\n",
      "Sparsity with L1 penalty:                53.47%\n",
      "Sparsity with L2 penalty:                20.19%\n",
      "Sparsity with Ela penalty:               38.10%\n",
      "Score with L1 penalty:                   0.782\n",
      "Score with L2 penalty:                   0.784\n",
      "Score with Ela penalty:                  0.783\n",
      "\n",
      " C=5.00000\n",
      "Sparsity with L1 penalty:                68.21%\n",
      "Sparsity with L2 penalty:                20.19%\n",
      "Sparsity with Ela penalty:               49.63%\n",
      "Score with L1 penalty:                   0.783\n",
      "Score with L2 penalty:                   0.787\n",
      "Score with Ela penalty:                  0.788\n",
      "\n",
      " C=1.00000\n",
      "Sparsity with L1 penalty:                93.60%\n",
      "Sparsity with L2 penalty:                20.19%\n",
      "Sparsity with Ela penalty:               81.05%\n",
      "Score with L1 penalty:                   0.783\n",
      "Score with L2 penalty:                   0.793\n",
      "Score with Ela penalty:                  0.789\n",
      "\n",
      " C=0.10000\n",
      "Sparsity with L1 penalty:                99.52%\n",
      "Sparsity with L2 penalty:                20.19%\n",
      "Sparsity with Ela penalty:               98.39%\n",
      "Score with L1 penalty:                   0.718\n",
      "Score with L2 penalty:                   0.797\n",
      "Score with Ela penalty:                  0.755\n",
      "\n",
      " C=0.00100\n",
      "Sparsity with L1 penalty:                100.00%\n",
      "Sparsity with L2 penalty:                20.19%\n",
      "Sparsity with Ela penalty:               100.00%\n",
      "Score with L1 penalty:                   0.565\n",
      "Score with L2 penalty:                   0.565\n",
      "Score with Ela penalty:                  0.565\n"
     ]
    }
   ],
   "source": [
    "#cv_train_X, cv_test_X, cv_train_Y, cv_test_y\n",
    "\n",
    "'''\n",
    "To find best tuning option\n",
    "\n",
    "'''\n",
    "group_c = [10, 5, 1, 0.1, 0.001]\n",
    "\n",
    "for c in group_c:\n",
    "    logistic_lasso = LogisticRegression(C=c, penalty='l1', tol=0.001, solver='saga', random_state=42,  max_iter=10000) #lasso\n",
    "    logistic_ridge = LogisticRegression(C=c, penalty='l2', tol=0.001, solver='saga', random_state=42, max_iter=10000)  #Ridge \n",
    "    l_ela = LogisticRegression(C=c, penalty='elasticnet', solver='saga', l1_ratio=0.5, tol=0.001, max_iter=10000)\n",
    "    \n",
    "    logistic_lasso.fit(cv_train_X, cv_train_Y.values.ravel())\n",
    "    logistic_ridge.fit(cv_train_X, cv_train_Y.values.ravel())\n",
    "    l_ela.fit(cv_train_X, cv_train_Y.values.ravel())\n",
    "    \n",
    "    coef_l1_LR = logistic_lasso.coef_.ravel()\n",
    "    coef_l2_LR = logistic_ridge.coef_.ravel()\n",
    "    coef_ela_LR = l_ela.coef_.ravel()\n",
    "    \n",
    "    # coef_l1_LR contains zeros due to the L1 sparsity inducing norm\n",
    "    sparsity_l1_LR = np.mean(coef_l1_LR == 0) * 100\n",
    "    sparsity_l2_LR = np.mean(coef_l2_LR == 0) * 100 \n",
    "    sparsity_l_ela = np.mean(coef_ela_LR == 0) * 100 \n",
    "\n",
    "    print(\"\\n C=%.5f\" % c)\n",
    "    print(\"{:<40} {:.2f}%\".format(\"Sparsity with L1 penalty:\", sparsity_l1_LR))\n",
    "    print(\"{:<40} {:.2f}%\".format(\"Sparsity with L2 penalty:\", sparsity_l2_LR))\n",
    "    print(\"{:<40} {:.2f}%\".format(\"Sparsity with Ela penalty:\", sparsity_l_ela))\n",
    "    print(\"{:<40} {:.3f}\".format(\"Score with L1 penalty:\", logistic_lasso.score(cv_test_X, cv_test_y.values.ravel())))  #lasso score\n",
    "    print(\"{:<40} {:.3f}\".format(\"Score with L2 penalty:\",logistic_ridge.score(cv_test_X, cv_test_y.values.ravel())))   #ridge score\n",
    "    print(\"{:<40} {:.3f}\".format(\"Score with Ela penalty:\",l_ela.score(cv_test_X, cv_test_y.values.ravel())))   #elastic score"
   ]
  },
  {
   "cell_type": "code",
   "execution_count": null,
   "metadata": {
    "colab": {
     "base_uri": "https://localhost:8080/"
    },
    "id": "qwITlyyJpPk2",
    "outputId": "28e0b530-ed4f-45f1-9e0e-e3a79b362de8"
   },
   "outputs": [
    {
     "name": "stdout",
     "output_type": "stream",
     "text": [
      "Score with L2 penalty:                   0.798\n",
      "Score with L2 penalty:                   0.799\n",
      "Score with L2 penalty:                   0.800\n",
      "Score with L2 penalty:                   0.799\n"
     ]
    }
   ],
   "source": [
    "\n",
    "logistic_ridge = LogisticRegression(C=0.1, penalty='l2', tol=0.001, solver='liblinear', random_state=42, max_iter=10000)  #Ridge \n",
    "logistic_ridge.fit(cv_train_X, cv_train_Y.values.ravel())\n",
    "print(\"{:<40} {:.3f}\".format(\"Score with L2 penalty:\",logistic_ridge.score(cv_test_X, cv_test_y.values.ravel())))   #ridge score\n",
    "\n",
    "logistic_ridge = LogisticRegression(C=0.18, penalty='l2', tol=0.001, solver='saga', random_state=42, max_iter=10000)  #Ridge \n",
    "logistic_ridge.fit(cv_train_X, cv_train_Y.values.ravel())\n",
    "print(\"{:<40} {:.3f}\".format(\"Score with L2 penalty:\",logistic_ridge.score(cv_test_X, cv_test_y.values.ravel())))   #ridge score\n",
    "\n",
    "\n",
    "logistic_ridge = LogisticRegression(C=0.15, penalty='l2', tol=0.001, solver='saga', random_state=42, max_iter=1000)  #Ridge \n",
    "logistic_ridge.fit(cv_train_X, cv_train_Y.values.ravel())\n",
    "print(\"{:<40} {:.3f}\".format(\"Score with L2 penalty:\",logistic_ridge.score(cv_test_X, cv_test_y.values.ravel())))   #ridge score\n",
    "\n",
    "\n",
    "logistic_ridge = LogisticRegression(C=0.15, penalty='l2', tol=0.001, solver='liblinear', random_state=42, max_iter=10000)  #Ridge \n",
    "logistic_ridge.fit(cv_train_X, cv_train_Y.values.ravel())\n",
    "print(\"{:<40} {:.3f}\".format(\"Score with L2 penalty:\",logistic_ridge.score(cv_test_X, cv_test_y.values.ravel())))   #ridge score\n"
   ]
  },
  {
   "cell_type": "code",
   "execution_count": null,
   "metadata": {
    "colab": {
     "base_uri": "https://localhost:8080/",
     "height": 429
    },
    "id": "3rTnusMlO8y-",
    "outputId": "c41b5f0e-4f1b-41f8-e40c-82d590c5a42d"
   },
   "outputs": [
    {
     "name": "stdout",
     "output_type": "stream",
     "text": [
      "accuracy_score: 0.800\n",
      "Recall: 0.672\n",
      "Precision: 0.837\n",
      "F1 Score: 0.746\n"
     ]
    },
    {
     "data": {
      "image/png": "[encoded data removed]",
      "text/plain": [
       "<Figure size 360x360 with 1 Axes>"
      ]
     },
     "metadata": {},
     "output_type": "display_data"
    }
   ],
   "source": [
    "''' BEST OPTION'''\n",
    "#cv_train_X, cv_test_X, cv_train_Y, cv_test_y\n",
    "\n",
    "logisticRegr = LogisticRegression(C=0.15, penalty='l2', tol=0.001, solver='saga', random_state=42, max_iter=1000)\n",
    "logisticRegr.fit(cv_train_X, cv_train_Y)\n",
    "pred_y = logisticRegr.predict(cv_test_X)\n",
    "\n",
    "#Accuracy\n",
    "print('accuracy_score: %.3f' % accuracy_score(cv_test_y, pred_y))\n",
    "print('Recall: %.3f' % recall_score(cv_test_y, pred_y))\n",
    "print('Precision: %.3f' % precision_score(cv_test_y, pred_y))\n",
    "print('F1 Score: %.3f' % f1_score(cv_test_y, pred_y))\n",
    "\n",
    "\n",
    "conf_matrix = confusion_matrix(y_true=cv_test_y, y_pred=pred_y)\n",
    "#\n",
    "# Print the confusion matrix using Matplotlib\n",
    "#\n",
    "fig, ax = plt.subplots(figsize=(5, 5))\n",
    "ax.matshow(conf_matrix, cmap=plt.cm.Oranges, alpha=0.3)\n",
    "for i in range(conf_matrix.shape[0]):\n",
    "    for j in range(conf_matrix.shape[1]):\n",
    "        ax.text(x=j, y=i,s=conf_matrix[i, j], va='center', ha='center', size='xx-large')\n",
    "\n",
    "plt.xlabel('Predictions', fontsize=18)\n",
    "plt.ylabel('Actuals', fontsize=18)\n",
    "plt.title('Confusion Matrix', fontsize=18)\n",
    "plt.show()\n"
   ]
  },
  {
   "cell_type": "markdown",
   "metadata": {
    "id": "o5IcasT28y_X",
    "tags": []
   },
   "source": [
    "# DecisionTree best Tf-Idf 0.756"
   ]
  },
  {
   "cell_type": "code",
   "execution_count": 198,
   "metadata": {
    "id": "5SJ2skzR82Px"
   },
   "outputs": [],
   "source": [
    "from sklearn.tree import DecisionTreeClassifier\n",
    "from sklearn import tree\n",
    "\n",
    "def model_DT (train_X, test_X, train_y, test_y) :\n",
    "  clf = DecisionTreeClassifier()\n",
    "  clf.fit(train_X, train_y)\n",
    "  pred_y = clf.predict(test_X)\n",
    "  #Accuracy\n",
    "  print('accuracy_score: %.3f' % accuracy_score(test_y, pred_y))\n",
    "  print('Recall: %.3f' % recall_score(test_y, pred_y))\n",
    "  print('Precision: %.3f' % precision_score(test_y, pred_y))\n",
    "  print('F1 Score: %.3f' % f1_score(test_y, pred_y))\n"
   ]
  },
  {
   "cell_type": "code",
   "execution_count": null,
   "metadata": {
    "colab": {
     "base_uri": "https://localhost:8080/"
    },
    "id": "PNx8RCIl9u_M",
    "outputId": "ab3dcc1b-b0c3-4ef2-e769-b7f222fa8859"
   },
   "outputs": [
    {
     "name": "stdout",
     "output_type": "stream",
     "text": [
      "accuracy_score: 0.749\n",
      "Recall: 0.671\n",
      "Precision: 0.731\n",
      "F1 Score: 0.700\n",
      "accuracy_score: 0.752\n",
      "Recall: 0.684\n",
      "Precision: 0.730\n",
      "F1 Score: 0.706\n",
      "accuracy_score: 0.665\n",
      "Recall: 0.616\n",
      "Precision: 0.614\n",
      "F1 Score: 0.615\n",
      "accuracy_score: 0.683\n",
      "Recall: 0.621\n",
      "Precision: 0.640\n",
      "F1 Score: 0.630\n"
     ]
    }
   ],
   "source": [
    "model_DT(cv_train_X, cv_test_X, cv_train_Y, cv_test_y)\n",
    "model_DT(tfidf_train_X, tfidf_test_X, tfidf_train_Y, tfidf_test_y)\n",
    "model_DT(w2v_train_X, w2v_test_X, w2v_train_Y, w2v_test_y)\n",
    "model_DT(pca_w2v_train_X, pca_w2v_test_X, pca_w2v_train_Y, pca_w2v_test_y)"
   ]
  },
  {
   "cell_type": "markdown",
   "metadata": {
    "id": "7RP3FFgz9-Mv"
   },
   "source": [
    "**Decision Tree with Td-Idf is higher accuracy.**"
   ]
  },
  {
   "cell_type": "code",
   "execution_count": null,
   "metadata": {
    "colab": {
     "base_uri": "https://localhost:8080/"
    },
    "id": "kseLMuXe93u7",
    "outputId": "8cb1f735-0a88-4d72-e584-dcace7ca861a"
   },
   "outputs": [
    {
     "name": "stdout",
     "output_type": "stream",
     "text": [
      "\n",
      "gini accuracy_score: 0.737\n",
      "gini accuracy_score: 0.740\n",
      "gini accuracy_score: 0.731\n",
      "gini accuracy_score: 0.736\n",
      "gini accuracy_score: 0.731\n",
      "gini accuracy_score: 0.743\n",
      "gini accuracy_score: 0.735\n"
     ]
    }
   ],
   "source": [
    "'''def test_dt(x_train, x_test, y_train, y_test) :\n",
    "    print()\n",
    "    for c_depth in [2, 4, 6, 8, 10, 12, 20, 30, None] : \n",
    "        print(\"model selection depth = {0}\".format(c_depth))\n",
    "        clf_gini = DecisionTreeClassifier(criterion='gini', max_depth=c_depth)\n",
    "        clf_gini.fit(x_train, y_train)\n",
    "        y_pred = clf_gini.predict(x_test)\n",
    "        print('gini accuracy_score: %.3f' % accuracy_score(y_test, y_pred))\n",
    "\n",
    "        clf_gini = DecisionTreeClassifier(criterion='entropy', max_depth=c_depth)\n",
    "        clf_gini.fit(x_train, y_train)\n",
    "        y_pred = clf_gini.predict(x_test)\n",
    "        print('entropy accuracy_score: %.3f' % accuracy_score(y_test, y_pred))'''\n",
    "\n",
    "def test_dt(x_train, x_test, y_train, y_test) :\n",
    "    print()\n",
    "    for min_sp in [2, 4, 6, 8, 10, 12, 20] : \n",
    "    clf_gini = DecisionTreeClassifier(criterion='gini', min_samples_split=min_sp)\n",
    "    clf_gini.fit(x_train, y_train)\n",
    "    y_pred = clf_gini.predict(x_test)\n",
    "    print('gini accuracy_score: %.3f' % accuracy_score(y_test, y_pred))\n",
    "\n",
    "test_dt(tfidf_train_X, tfidf_test_X, tfidf_train_Y, tfidf_test_y)"
   ]
  },
  {
   "cell_type": "code",
   "execution_count": null,
   "metadata": {
    "colab": {
     "base_uri": "https://localhost:8080/",
     "height": 429
    },
    "id": "9pSYv8ot_E19",
    "outputId": "473fd872-e599-4778-c359-91ff63489010"
   },
   "outputs": [
    {
     "name": "stdout",
     "output_type": "stream",
     "text": [
      "accuracy_score: 0.756\n",
      "Recall: 0.675\n",
      "Precision: 0.741\n",
      "F1 Score: 0.706\n"
     ]
    },
    {
     "data": {
      "image/png": "[encoded data removed]",
      "text/plain": [
       "<Figure size 360x360 with 1 Axes>"
      ]
     },
     "metadata": {},
     "output_type": "display_data"
    }
   ],
   "source": [
    "#test_dt(tfidf_train_X, tfidf_test_X, tfidf_train_Y, tfidf_test_y)\n",
    "'''\n",
    "def __init__(*, criterion='gini', splitter='best', max_depth=None, min_samples_split=2, \n",
    "min_samples_leaf=1, min_weight_fraction_leaf=0.0, max_features=None, random_state=None, \n",
    "max_leaf_nodes=None, min_impurity_decrease=0.0, class_weight=None, ccp_alpha=0.0)\n",
    "'''\n",
    "\n",
    "\n",
    "clf = DecisionTreeClassifier(min_samples_split=8)\n",
    "clf.fit(tfidf_train_X, tfidf_train_Y)\n",
    "pred_y = clf.predict(tfidf_test_X)\n",
    "\n",
    "#Accuracy\n",
    "print('accuracy_score: %.3f' % accuracy_score(tfidf_test_y, pred_y))\n",
    "print('Recall: %.3f' % recall_score(tfidf_test_y, pred_y))\n",
    "print('Precision: %.3f' % precision_score(tfidf_test_y, pred_y))\n",
    "print('F1 Score: %.3f' % f1_score(tfidf_test_y, pred_y))\n",
    "\n",
    "\n",
    "conf_matrix = confusion_matrix(y_true=tfidf_test_y, y_pred=pred_y)\n",
    "#\n",
    "# Print the confusion matrix using Matplotlib\n",
    "#\n",
    "fig, ax = plt.subplots(figsize=(5, 5))\n",
    "ax.matshow(conf_matrix, cmap=plt.cm.Oranges, alpha=0.3)\n",
    "for i in range(conf_matrix.shape[0]):\n",
    "    for j in range(conf_matrix.shape[1]):\n",
    "        ax.text(x=j, y=i,s=conf_matrix[i, j], va='center', ha='center', size='xx-large')\n",
    "\n",
    "plt.xlabel('Predictions', fontsize=18)\n",
    "plt.ylabel('Actuals', fontsize=18)\n",
    "plt.title('Confusion Matrix', fontsize=18)\n",
    "plt.show()\n"
   ]
  },
  {
   "cell_type": "markdown",
   "metadata": {
    "id": "3xH7Lp6hwd2B",
    "jp-MarkdownHeadingCollapsed": true,
    "tags": []
   },
   "source": [
    "# RandomForestClassifier CV 0.799"
   ]
  },
  {
   "cell_type": "code",
   "execution_count": 197,
   "metadata": {
    "colab": {
     "base_uri": "https://localhost:8080/"
    },
    "id": "SAWT23xZwaGn",
    "outputId": "50916c2c-3ced-48da-cb63-e068bb107222"
   },
   "outputs": [
    {
     "name": "stdout",
     "output_type": "stream",
     "text": [
      "accuracy_score: 0.785\n",
      "Recall: 0.643\n",
      "Precision: 0.826\n",
      "F1 Score: 0.723\n",
      "accuracy_score: 0.768\n",
      "Recall: 0.549\n",
      "Precision: 0.869\n",
      "F1 Score: 0.673\n",
      "accuracy_score: 0.736\n",
      "Recall: 0.580\n",
      "Precision: 0.756\n",
      "F1 Score: 0.657\n",
      "accuracy_score: 0.754\n",
      "Recall: 0.606\n",
      "Precision: 0.780\n",
      "F1 Score: 0.682\n"
     ]
    }
   ],
   "source": [
    "from sklearn.ensemble import RandomForestClassifier\n",
    "import matplotlib.pyplot as plt\n",
    "from sklearn import svm\n",
    "from sklearn.metrics import accuracy_score\n",
    "from sklearn.model_selection import cross_val_score\n",
    "from sklearn.metrics import confusion_matrix\n",
    "from sklearn.metrics import precision_score, recall_score, f1_score, accuracy_score\n",
    " \n",
    "def model_randomForestClf(train_X, test_X, train_y, test_y) :\n",
    "  rf_clf = RandomForestClassifier(random_state=42)\n",
    "  rf_clf = rf_clf.fit(train_X, train_y)\n",
    "  pred_y = rf_clf.predict(test_X)\n",
    "\n",
    "  #Accuracy\n",
    "  print('accuracy_score: %.3f' % accuracy_score(test_y, pred_y))\n",
    "  print('Recall: %.3f' % recall_score(test_y, pred_y))\n",
    "  print('Precision: %.3f' % precision_score(test_y, pred_y))\n",
    "  print('F1 Score: %.3f' % f1_score(test_y, pred_y))\n",
    "'''\n",
    "cv_train_X, cv_test_X, cv_train_Y, cv_test_y = train_test_split(cv_df, df['target'], test_size=0.30, random_state=17)\n",
    "tfidf_train_X, tfidf_test_X, tfidf_train_Y, tfidf_test_y = train_test_split(tfidf_df, df['target'], test_size=0.30, random_state=17)\n",
    "w2v_train_X, w2v_test_X, w2v_train_Y, w2v_test_y = train_test_split(w2v_df, df['target'], test_size=0.30, random_state=17)\n",
    "pca_w2v_train_X, pca_w2v_test_X, pca_w2v_train_Y, pca_w2v_test_y = train_test_split(pca_trans_w2v_df, df['target'], test_size=0.30, random_state=17)\n",
    "'''\n",
    "\n",
    "model_randomForestClf(cv_train_X, cv_test_X, cv_train_Y, cv_test_y)\n",
    "model_randomForestClf(tfidf_train_X, tfidf_test_X, tfidf_train_Y, tfidf_test_y)\n",
    "model_randomForestClf(w2v_train_X, w2v_test_X, w2v_train_Y, w2v_test_y)\n",
    "model_randomForestClf(pca_w2v_train_X, pca_w2v_test_X, pca_w2v_train_Y, pca_w2v_test_y)\n"
   ]
  },
  {
   "cell_type": "code",
   "execution_count": null,
   "metadata": {
    "colab": {
     "base_uri": "https://localhost:8080/"
    },
    "id": "Hp5Vk_7T5OUj",
    "outputId": "84195594-047c-4443-802a-05e13469d4a3"
   },
   "outputs": [
    {
     "name": "stdout",
     "output_type": "stream",
     "text": [
      "accuracy_score: 0.799\n",
      "Recall: 0.704\n",
      "Precision: 0.809\n",
      "F1 Score: 0.753\n"
     ]
    }
   ],
   "source": [
    "'''\n",
    "cv_train_X, cv_test_X, cv_train_Y, cv_test_y\n",
    "'''\n",
    "rf_clf = RandomForestClassifier(n_estimators=250, random_state=42,\n",
    "                                class_weight=\"balanced\", min_samples_split=12)\n",
    "rf_clf = rf_clf.fit(cv_train_X, cv_train_Y)\n",
    "pred_y = rf_clf.predict(cv_test_X)\n",
    "\n",
    "#Accuracy\n",
    "print('accuracy_score: %.3f' % accuracy_score(cv_test_y, pred_y))\n",
    "print('Recall: %.3f' % recall_score(cv_test_y, pred_y))\n",
    "print('Precision: %.3f' % precision_score(cv_test_y, pred_y))\n",
    "print('F1 Score: %.3f' % f1_score(cv_test_y, pred_y))"
   ]
  },
  {
   "cell_type": "markdown",
   "metadata": {
    "id": "0vMso-MLx1g_",
    "jp-MarkdownHeadingCollapsed": true,
    "tags": []
   },
   "source": [
    "# Xgboost best with pca_w2v - 0.786"
   ]
  },
  {
   "cell_type": "code",
   "execution_count": 378,
   "metadata": {
    "colab": {
     "base_uri": "https://localhost:8080/"
    },
    "id": "Mmb13dh3x01W",
    "outputId": "1805ea8d-305e-4717-fbff-d24c0e377e9b"
   },
   "outputs": [
    {
     "name": "stdout",
     "output_type": "stream",
     "text": [
      "accuracy_score: 0.713\n",
      "Recall: 0.402\n",
      "Precision: 0.868\n",
      "F1 Score: 0.550\n",
      "\n",
      "accuracy_score: 0.729\n",
      "Recall: 0.446\n",
      "Precision: 0.865\n",
      "F1 Score: 0.588\n",
      "\n",
      "accuracy_score: 0.732\n",
      "Recall: 0.571\n",
      "Precision: 0.752\n",
      "F1 Score: 0.650\n",
      "\n",
      "accuracy_score: 0.750\n",
      "Recall: 0.599\n",
      "Precision: 0.776\n",
      "F1 Score: 0.676\n",
      "\n"
     ]
    }
   ],
   "source": [
    "from xgboost import XGBClassifier\n",
    "\n",
    "\n",
    "def model_Xgboost(train_X, test_X, train_y, test_y) :\n",
    "  xgb_clf = XGBClassifier()\n",
    "  xgb_clf.fit(train_X, train_y)\n",
    "  pred_y = xgb_clf.predict(test_X)\n",
    "\n",
    "  #Accuracy\n",
    "  print('accuracy_score: %.3f' % accuracy_score(test_y, pred_y))\n",
    "  print('Recall: %.3f' % recall_score(test_y, pred_y))\n",
    "  print('Precision: %.3f' % precision_score(test_y, pred_y))\n",
    "  print('F1 Score: %.3f' % f1_score(test_y, pred_y))\n",
    "  print()\n",
    "\n",
    "model_Xgboost(cv_train_X, cv_test_X, cv_train_Y, cv_test_y)\n",
    "model_Xgboost(tfidf_train_X, tfidf_test_X, tfidf_train_Y, tfidf_test_y)\n",
    "model_Xgboost(np.array(w2v_train_X), w2v_test_X, w2v_train_Y, w2v_test_y)\n",
    "model_Xgboost(pca_w2v_train_X, pca_w2v_test_X, pca_w2v_train_Y, pca_w2v_test_y)\n"
   ]
  },
  {
   "cell_type": "code",
   "execution_count": 392,
   "metadata": {
    "colab": {
     "base_uri": "https://localhost:8080/"
    },
    "id": "XeoNkeY30E9D",
    "outputId": "21a4e87d-9611-461b-ae8c-1352893ec8ce"
   },
   "outputs": [
    {
     "name": "stdout",
     "output_type": "stream",
     "text": [
      "XGBClassifier(colsample_bytree=0.8, gamma=0.1, max_depth=10, n_estimators=145,\n",
      "              nthread=4, seed=27, subsample=0.8)\n",
      "accuracy_score: 0.771\n",
      "Recall: 0.632\n",
      "Precision: 0.801\n",
      "F1 Score: 0.706\n",
      "\n"
     ]
    }
   ],
   "source": [
    "'''\n",
    "pca_w2v_train_X, pca_w2v_test_X, pca_w2v_train_Y, pca_w2v_test_y\n",
    "'''\n",
    "xgb_clf = XGBClassifier(learning_rate =0.1,\n",
    "     n_estimators=145,\n",
    "     max_depth=10,\n",
    "     min_child_weight=1,\n",
    "     gamma=0.1,\n",
    "     subsample=0.8,\n",
    "     colsample_bytree=0.8,\n",
    "     objective= 'binary:logistic',\n",
    "     nthread=4,\n",
    "     scale_pos_weight=1,\n",
    "     seed=27)\n",
    "print(xgb_clf)\n",
    "\n",
    "xgb_clf = xgb_clf.fit(pca_w2v_train_X, pca_w2v_train_Y)\n",
    "pred_y = xgb_clf.predict(pca_w2v_test_X)\n",
    "\n",
    "#Accuracy\n",
    "print('accuracy_score: %.3f' % accuracy_score(pca_w2v_test_y, pred_y))\n",
    "print('Recall: %.3f' % recall_score(pca_w2v_test_y, pred_y))\n",
    "print('Precision: %.3f' % precision_score(pca_w2v_test_y, pred_y))\n",
    "print('F1 Score: %.3f' % f1_score(pca_w2v_test_y, pred_y))\n",
    "print()"
   ]
  },
  {
   "cell_type": "markdown",
   "metadata": {
    "id": "XK0ry7WW_dOE",
    "jp-MarkdownHeadingCollapsed": true,
    "tags": []
   },
   "source": [
    "# LSTM [GLOVE](https://www.kaggle.com/datasets/danielwillgeorge/glove6b100dtxt) - 0.817\n"
   ]
  },
  {
   "cell_type": "code",
   "execution_count": 228,
   "metadata": {
    "id": "DkOEIjgvIXOC"
   },
   "outputs": [],
   "source": [
    "from keras.preprocessing.text import Tokenizer\n",
    "from keras.preprocessing.sequence import pad_sequences\n",
    "from keras.layers import Dense,Dropout,LSTM,SimpleRNN,Embedding,Bidirectional,LSTM,GlobalMaxPool1D\n",
    "from keras.models import Sequential\n",
    "from keras.initializers import Constant\n",
    "from keras.layers import (LSTM, \n",
    "                          Embedding, \n",
    "                          BatchNormalization,\n",
    "                          Dense, \n",
    "                          TimeDistributed, \n",
    "                          Dropout, \n",
    "                          Bidirectional,\n",
    "                          Flatten, \n",
    "                          GlobalMaxPool1D)\n",
    "from keras.callbacks import ModelCheckpoint, ReduceLROnPlateau\n",
    "from sklearn.metrics import (\n",
    "    precision_score, \n",
    "    recall_score, \n",
    "    f1_score, \n",
    "    classification_report,\n",
    "    accuracy_score\n",
    ")"
   ]
  },
  {
   "cell_type": "code",
   "execution_count": 229,
   "metadata": {
    "id": "C8QZbGQ__lap"
   },
   "outputs": [],
   "source": [
    "tweets = df['FINAL'].values"
   ]
  },
  {
   "cell_type": "code",
   "execution_count": 230,
   "metadata": {
    "id": "7Pa76KOCHsth"
   },
   "outputs": [],
   "source": [
    "#This Tokenizer is by Keras\n",
    "word_tokenizer = Tokenizer()\n",
    "word_tokenizer.fit_on_texts(tweets)\n",
    "vocab_length = len(word_tokenizer.word_index) + 1\n",
    "\n",
    "#None values is embedding by 0\n",
    "def embedding_by_using_keras(corpus): \n",
    "    return word_tokenizer.texts_to_sequences(corpus)"
   ]
  },
  {
   "cell_type": "code",
   "execution_count": 231,
   "metadata": {
    "id": "Zj-Se_4VBmyb"
   },
   "outputs": [],
   "source": [
    "longest_tweet = max(tweets, key=lambda sentence: len(word_tokenize(sentence)))\n",
    "length_long_sentence = len(word_tokenize(longest_tweet))\n",
    "\n",
    "#create values\n",
    "padded_sentences = pad_sequences(embedding_by_using_keras(tweets), length_long_sentence, padding='post')"
   ]
  },
  {
   "cell_type": "code",
   "execution_count": 232,
   "metadata": {
    "id": "WXf4X03iJmMA"
   },
   "outputs": [],
   "source": [
    "pad_X_train, pad_X_test, pad_y_train, pad_y_test = train_test_split(padded_sentences, df['target'], test_size=0.30, random_state=17)"
   ]
  },
  {
   "cell_type": "markdown",
   "metadata": {
    "id": "PJnrlW2Wby68"
   },
   "source": [
    "## GLOVE"
   ]
  },
  {
   "cell_type": "code",
   "execution_count": 233,
   "metadata": {
    "id": "4bxvlHOFIIJp"
   },
   "outputs": [],
   "source": [
    "#create embedding dictionary from glove txt file of Stanford.\n",
    "embeddings_dictionary = dict()\n",
    "embedding_dim = 100\n",
    "\n",
    "glove_file = open('glove.6B.100d.txt',encoding=\"utf8\")\n",
    "\n",
    "for line in glove_file:\n",
    "    records = line.split()\n",
    "    word = records[0]\n",
    "    vector_dimensions = np.asarray(records[1:], dtype='float32')\n",
    "    embeddings_dictionary [word] = vector_dimensions\n",
    "glove_file.close()"
   ]
  },
  {
   "cell_type": "code",
   "execution_count": 234,
   "metadata": {
    "colab": {
     "base_uri": "https://localhost:8080/"
    },
    "id": "dRjHvyXFJZHB",
    "outputId": "3f5aaba4-5917-4671-efa6-4a2ba4664a7b"
   },
   "outputs": [
    {
     "data": {
      "text/plain": [
       "(100,)"
      ]
     },
     "execution_count": 234,
     "metadata": {},
     "output_type": "execute_result"
    }
   ],
   "source": [
    "embeddings_dictionary['disaster'].shape"
   ]
  },
  {
   "cell_type": "code",
   "execution_count": 235,
   "metadata": {
    "id": "2NQ4sFZBJcCq"
   },
   "outputs": [],
   "source": [
    "#Create embedding vector matrix with vocaburay made by this tweets data set\n",
    "embedding_matrix = np.zeros((vocab_length, embedding_dim))\n",
    "\n",
    "for word, index in word_tokenizer.word_index.items():\n",
    "    embedding_vector = embeddings_dictionary.get(word)\n",
    "    if embedding_vector is not None:\n",
    "        embedding_matrix[index] = embedding_vector"
   ]
  },
  {
   "cell_type": "code",
   "execution_count": 236,
   "metadata": {
    "colab": {
     "base_uri": "https://localhost:8080/"
    },
    "id": "wrmDSrTfJjDx",
    "outputId": "169e0d29-7645-4e0d-af9d-c4bd217c367d"
   },
   "outputs": [
    {
     "name": "stdout",
     "output_type": "stream",
     "text": [
      "(16303, 100)\n"
     ]
    }
   ],
   "source": [
    "print(embedding_matrix.shape)"
   ]
  },
  {
   "cell_type": "code",
   "execution_count": 237,
   "metadata": {
    "id": "hExBCn0_NbLC"
   },
   "outputs": [],
   "source": [
    "def BLSTM():\n",
    "    model = Sequential()\n",
    "    model.add(Embedding(input_dim=embedding_matrix.shape[0], \n",
    "                        output_dim=embedding_matrix.shape[1], \n",
    "                        weights = [embedding_matrix], \n",
    "                        input_length=length_long_sentence))\n",
    "    model.add(Bidirectional(LSTM(length_long_sentence, return_sequences = True, recurrent_dropout=0.2)))\n",
    "    model.add(GlobalMaxPool1D())\n",
    "    model.add(BatchNormalization())\n",
    "    model.add(Dropout(0.5))\n",
    "    model.add(Dense(length_long_sentence, activation = \"relu\"))\n",
    "    model.add(Dropout(0.5))\n",
    "    model.add(Dense(length_long_sentence, activation = \"relu\"))\n",
    "    model.add(Dropout(0.5))\n",
    "    model.add(Dense(1, activation = 'sigmoid'))\n",
    "    model.compile(optimizer='rmsprop', loss='binary_crossentropy', metrics=['accuracy'])\n",
    "    return model"
   ]
  },
  {
   "cell_type": "code",
   "execution_count": 238,
   "metadata": {
    "colab": {
     "base_uri": "https://localhost:8080/"
    },
    "id": "ig4dMQHYNeEX",
    "outputId": "ce91f350-dedc-4751-8be8-92d13520112d"
   },
   "outputs": [
    {
     "name": "stdout",
     "output_type": "stream",
     "text": [
      "Epoch 1/7\n",
      "167/167 [==============================] - ETA: 0s - loss: 0.7593 - accuracy: 0.5620\n",
      "Epoch 1: val_loss improved from inf to 0.65569, saving model to model.h5\n",
      "167/167 [==============================] - 17s 68ms/step - loss: 0.7593 - accuracy: 0.5620 - val_loss: 0.6557 - val_accuracy: 0.7224 - lr: 0.0010\n",
      "Epoch 2/7\n",
      "167/167 [==============================] - ETA: 0s - loss: 0.6096 - accuracy: 0.6669\n",
      "Epoch 2: val_loss improved from 0.65569 to 0.54091, saving model to model.h5\n",
      "167/167 [==============================] - 11s 65ms/step - loss: 0.6096 - accuracy: 0.6669 - val_loss: 0.5409 - val_accuracy: 0.7877 - lr: 0.0010\n",
      "Epoch 3/7\n",
      "167/167 [==============================] - ETA: 0s - loss: 0.5522 - accuracy: 0.7422\n",
      "Epoch 3: val_loss improved from 0.54091 to 0.45584, saving model to model.h5\n",
      "167/167 [==============================] - 11s 66ms/step - loss: 0.5522 - accuracy: 0.7422 - val_loss: 0.4558 - val_accuracy: 0.7973 - lr: 0.0010\n",
      "Epoch 4/7\n",
      "167/167 [==============================] - ETA: 0s - loss: 0.5016 - accuracy: 0.7840\n",
      "Epoch 4: val_loss improved from 0.45584 to 0.43534, saving model to model.h5\n",
      "167/167 [==============================] - 11s 65ms/step - loss: 0.5016 - accuracy: 0.7840 - val_loss: 0.4353 - val_accuracy: 0.7973 - lr: 0.0010\n",
      "Epoch 5/7\n",
      "167/167 [==============================] - ETA: 0s - loss: 0.4575 - accuracy: 0.8095\n",
      "Epoch 5: val_loss improved from 0.43534 to 0.42350, saving model to model.h5\n",
      "167/167 [==============================] - 11s 64ms/step - loss: 0.4575 - accuracy: 0.8095 - val_loss: 0.4235 - val_accuracy: 0.8056 - lr: 0.0010\n",
      "Epoch 6/7\n",
      "167/167 [==============================] - ETA: 0s - loss: 0.4572 - accuracy: 0.8133\n",
      "Epoch 6: val_loss improved from 0.42350 to 0.41915, saving model to model.h5\n",
      "167/167 [==============================] - 11s 65ms/step - loss: 0.4572 - accuracy: 0.8133 - val_loss: 0.4191 - val_accuracy: 0.8087 - lr: 0.0010\n",
      "Epoch 7/7\n",
      "167/167 [==============================] - ETA: 0s - loss: 0.4116 - accuracy: 0.8349\n",
      "Epoch 7: val_loss did not improve from 0.41915\n",
      "167/167 [==============================] - 12s 72ms/step - loss: 0.4116 - accuracy: 0.8349 - val_loss: 0.4236 - val_accuracy: 0.8179 - lr: 0.0010\n"
     ]
    }
   ],
   "source": [
    "model_LSTM = BLSTM()\n",
    "checkpoint = ModelCheckpoint(\n",
    "    'model.h5', \n",
    "    monitor = 'val_loss', \n",
    "    verbose = 1, \n",
    "    save_best_only = True\n",
    ")\n",
    "reduce_lr = ReduceLROnPlateau(\n",
    "    monitor = 'val_loss', \n",
    "    factor = 0.2, \n",
    "    verbose = 1, \n",
    "    patience = 5,                        \n",
    "    min_lr = 0.001\n",
    ")\n",
    "history = model_LSTM.fit(\n",
    "    pad_X_train, \n",
    "    pad_y_train, \n",
    "    epochs = 7,\n",
    "    batch_size = 32,\n",
    "    validation_data = [pad_X_test, pad_y_test],\n",
    "    verbose = 1,\n",
    "    callbacks = [reduce_lr, checkpoint]\n",
    ")"
   ]
  },
  {
   "cell_type": "code",
   "execution_count": 239,
   "metadata": {
    "colab": {
     "base_uri": "https://localhost:8080/"
    },
    "id": "SfM-1WPNN2oO",
    "outputId": "11d5958b-9278-45e9-b506-649dfffa926d"
   },
   "outputs": [
    {
     "name": "stdout",
     "output_type": "stream",
     "text": [
      "72/72 [==============================] - 1s 11ms/step - loss: 0.4236 - accuracy: 0.8179\n",
      "Loss: 0.42356109619140625\n",
      "Accuracy: 0.817863404750824\n"
     ]
    }
   ],
   "source": [
    "loss, accuracy = model_LSTM.evaluate(pad_X_test, pad_y_test)\n",
    "print('Loss:', loss)\n",
    "print('Accuracy:', accuracy)"
   ]
  },
  {
   "cell_type": "code",
   "execution_count": 240,
   "metadata": {
    "id": "FZZZAh31P_FF"
   },
   "outputs": [],
   "source": [
    "lstm_glv_pred_y = (model_LSTM.predict(pad_X_test) > 0.5).astype(\"int32\")\n",
    "lstm_glv_pred_y_prob = model_LSTM.predict(pad_X_test)"
   ]
  },
  {
   "cell_type": "markdown",
   "metadata": {
    "id": "UjSlaTfcR4a0",
    "tags": []
   },
   "source": [
    "# LSTM with Word2Vec - 0.781"
   ]
  },
  {
   "cell_type": "code",
   "execution_count": 242,
   "metadata": {
    "colab": {
     "base_uri": "https://localhost:8080/",
     "height": 0
    },
    "id": "idquR6i-SZoY",
    "outputId": "05b34911-f914-413b-f226-901e7bef41aa"
   },
   "outputs": [
    {
     "data": {
      "application/vnd.google.colaboratory.intrinsic+json": {
       "type": "string"
      },
      "text/plain": [
       "'\\nw2v_model = Word2Vec(min_count=1,\\n                     window=2,\\n                     size=100,\\n                     sample=6e-5, \\n                     alpha=0.03, \\n                     min_alpha=0.0007, \\n                     negative=20,\\n                     workers=cores-1)\\nw2v_model.build_vocab(sentences, progress_per=10000)\\nw2v_model.train(sentences, total_examples=w2v_model.corpus_count, epochs=30, report_delay=1)\\n'"
      ]
     },
     "execution_count": 242,
     "metadata": {},
     "output_type": "execute_result"
    }
   ],
   "source": [
    "'''\n",
    "w2v_model = Word2Vec(min_count=1,\n",
    "                     window=2,\n",
    "                     size=100,\n",
    "                     sample=6e-5, \n",
    "                     alpha=0.03, \n",
    "                     min_alpha=0.0007, \n",
    "                     negative=20,\n",
    "                     workers=cores-1)\n",
    "w2v_model.build_vocab(sentences, progress_per=10000)\n",
    "w2v_model.train(sentences, total_examples=w2v_model.corpus_count, epochs=30, report_delay=1)\n",
    "'''"
   ]
  },
  {
   "cell_type": "code",
   "execution_count": 243,
   "metadata": {
    "colab": {
     "base_uri": "https://localhost:8080/"
    },
    "id": "7w33rqFASZva",
    "outputId": "e26f437c-7d6d-45bd-beb6-2ddec30b734e"
   },
   "outputs": [
    {
     "name": "stdout",
     "output_type": "stream",
     "text": [
      "The total number of words are :  16302\n",
      "The no of key-value pairs :  16302\n"
     ]
    }
   ],
   "source": [
    "# total numberof extracted words.\n",
    "w2v_vocab=w2v_model.wv.vocab\n",
    "print(\"The total number of words are : \",len(w2v_vocab))\n",
    "\n",
    "w2v_vocab=list(w2v_vocab.keys())\n",
    "\n",
    "w2v_dictionary={}\n",
    "for word in w2v_vocab:\n",
    "  w2v_dictionary[word]=w2v_model.wv.get_vector(word)\n",
    "print(\"The no of key-value pairs : \",len(w2v_dictionary)) # should come equal to vocab size\n"
   ]
  },
  {
   "cell_type": "code",
   "execution_count": 244,
   "metadata": {
    "id": "5C2HWWiMTsFH"
   },
   "outputs": [],
   "source": [
    "# now creating the embedding matrix\n",
    "embedding_matrix_by_word2vec =np.zeros(shape=(vocab_length, 100))\n",
    "\n",
    "for word, index in word_tokenizer.word_index.items():\n",
    "  embedding_vector = w2v_dictionary.get(word)\n",
    "  if embedding_vector is not None:\n",
    "    embedding_matrix_by_word2vec[index]=embedding_vector\n",
    "  # if word is not found then embed_vector corressponding to that vector will stay zero."
   ]
  },
  {
   "cell_type": "code",
   "execution_count": 245,
   "metadata": {
    "id": "1XMsFVoqYAUD"
   },
   "outputs": [],
   "source": [
    "def BLSTM_W2V():\n",
    "    model = Sequential()\n",
    "    model.add(Embedding(input_dim=embedding_matrix_by_word2vec.shape[0], \n",
    "                        output_dim=embedding_matrix_by_word2vec.shape[1], \n",
    "                        weights = [embedding_matrix_by_word2vec], \n",
    "                        input_length=length_long_sentence))\n",
    "    model.add(Bidirectional(LSTM(length_long_sentence, return_sequences = True, recurrent_dropout=0.2)))\n",
    "    model.add(GlobalMaxPool1D())\n",
    "    model.add(BatchNormalization())\n",
    "    model.add(Dropout(0.5))\n",
    "    model.add(Dense(length_long_sentence, activation = \"relu\"))\n",
    "    model.add(Dropout(0.5))\n",
    "    model.add(Dense(length_long_sentence, activation = \"relu\"))\n",
    "    model.add(Dropout(0.5))\n",
    "    model.add(Dense(1, activation = 'sigmoid'))\n",
    "    model.compile(optimizer='rmsprop', loss='binary_crossentropy', metrics=['accuracy'])\n",
    "    return model"
   ]
  },
  {
   "cell_type": "code",
   "execution_count": 246,
   "metadata": {
    "colab": {
     "base_uri": "https://localhost:8080/"
    },
    "id": "ozQvp_1iYKch",
    "outputId": "84d33512-65dc-4c0a-ba1b-1cc4e3759b70"
   },
   "outputs": [
    {
     "name": "stdout",
     "output_type": "stream",
     "text": [
      "Epoch 1/7\n",
      "167/167 [==============================] - ETA: 0s - loss: 0.7343 - accuracy: 0.5491\n",
      "Epoch 1: val_loss improved from inf to 0.68190, saving model to model.h5\n",
      "167/167 [==============================] - 25s 108ms/step - loss: 0.7343 - accuracy: 0.5491 - val_loss: 0.6819 - val_accuracy: 0.5827 - lr: 0.0010\n",
      "Epoch 2/7\n",
      "167/167 [==============================] - ETA: 0s - loss: 0.6659 - accuracy: 0.6179\n",
      "Epoch 2: val_loss improved from 0.68190 to 0.64636, saving model to model.h5\n",
      "167/167 [==============================] - 21s 123ms/step - loss: 0.6659 - accuracy: 0.6179 - val_loss: 0.6464 - val_accuracy: 0.6865 - lr: 0.0010\n",
      "Epoch 3/7\n",
      "167/167 [==============================] - ETA: 0s - loss: 0.5797 - accuracy: 0.7153\n",
      "Epoch 3: val_loss improved from 0.64636 to 0.51295, saving model to model.h5\n",
      "167/167 [==============================] - 17s 104ms/step - loss: 0.5797 - accuracy: 0.7153 - val_loss: 0.5129 - val_accuracy: 0.7561 - lr: 0.0010\n",
      "Epoch 4/7\n",
      "167/167 [==============================] - ETA: 0s - loss: 0.4831 - accuracy: 0.7970\n",
      "Epoch 4: val_loss improved from 0.51295 to 0.46248, saving model to model.h5\n",
      "167/167 [==============================] - 11s 65ms/step - loss: 0.4831 - accuracy: 0.7970 - val_loss: 0.4625 - val_accuracy: 0.7846 - lr: 0.0010\n",
      "Epoch 5/7\n",
      "167/167 [==============================] - ETA: 0s - loss: 0.4106 - accuracy: 0.8382\n",
      "Epoch 5: val_loss did not improve from 0.46248\n",
      "167/167 [==============================] - 11s 63ms/step - loss: 0.4106 - accuracy: 0.8382 - val_loss: 0.4695 - val_accuracy: 0.7894 - lr: 0.0010\n",
      "Epoch 6/7\n",
      "167/167 [==============================] - ETA: 0s - loss: 0.3671 - accuracy: 0.8664\n",
      "Epoch 6: val_loss did not improve from 0.46248\n",
      "167/167 [==============================] - 15s 88ms/step - loss: 0.3671 - accuracy: 0.8664 - val_loss: 0.5476 - val_accuracy: 0.7601 - lr: 0.0010\n",
      "Epoch 7/7\n",
      "167/167 [==============================] - ETA: 0s - loss: 0.3108 - accuracy: 0.8904\n",
      "Epoch 7: val_loss did not improve from 0.46248\n",
      "167/167 [==============================] - 18s 109ms/step - loss: 0.3108 - accuracy: 0.8904 - val_loss: 0.5047 - val_accuracy: 0.7811 - lr: 0.0010\n"
     ]
    }
   ],
   "source": [
    "model_LSTM_W2V = BLSTM_W2V()\n",
    "checkpoint = ModelCheckpoint(\n",
    "    'model.h5', \n",
    "    monitor = 'val_loss', \n",
    "    verbose = 1, \n",
    "    save_best_only = True\n",
    ")\n",
    "reduce_lr = ReduceLROnPlateau(\n",
    "    monitor = 'val_loss', \n",
    "    factor = 0.2, \n",
    "    verbose = 1, \n",
    "    patience = 5,                        \n",
    "    min_lr = 0.001\n",
    ")\n",
    "history = model_LSTM_W2V.fit(\n",
    "    pad_X_train, \n",
    "    pad_y_train, \n",
    "    epochs = 7,\n",
    "    batch_size = 32,\n",
    "    validation_data = [pad_X_test, pad_y_test],\n",
    "    verbose = 1,\n",
    "    callbacks = [reduce_lr, checkpoint]\n",
    ")"
   ]
  },
  {
   "cell_type": "code",
   "execution_count": 247,
   "metadata": {
    "colab": {
     "base_uri": "https://localhost:8080/"
    },
    "id": "R0YpzlGIY2XD",
    "outputId": "97fb3c99-6fa4-4f6e-ae8e-ead5e266f144"
   },
   "outputs": [
    {
     "name": "stdout",
     "output_type": "stream",
     "text": [
      "72/72 [==============================] - 2s 24ms/step - loss: 0.5047 - accuracy: 0.7811\n",
      "Loss: 0.5047365427017212\n",
      "Accuracy: 0.7810857892036438\n"
     ]
    }
   ],
   "source": [
    "loss, accuracy = model_LSTM_W2V.evaluate(pad_X_test, pad_y_test)\n",
    "print('Loss:', loss)\n",
    "print('Accuracy:', accuracy)"
   ]
  },
  {
   "cell_type": "code",
   "execution_count": 248,
   "metadata": {
    "id": "VXmc2SPFbCHz"
   },
   "outputs": [],
   "source": [
    "lstm_w2v_pred_y = (model_LSTM_W2V.predict(pad_X_test) > 0.5).astype(\"int32\")\n",
    "lstm_w2v_pred_y_prob = model_LSTM_W2V.predict(pad_X_test)"
   ]
  },
  {
   "cell_type": "markdown",
   "metadata": {
    "id": "aYx5bVre2VqW",
    "tags": []
   },
   "source": [
    "# Custom Ensemble\n",
    "# (SVM+CV, LogisticR+CV, DT+tfidf, RandomF+cv, Xgboost+pca + LSTM+Glove) 0.81"
   ]
  },
  {
   "cell_type": "code",
   "execution_count": 202,
   "metadata": {
    "id": "GPNlptWt2VWP"
   },
   "outputs": [],
   "source": [
    "'''\n",
    "cv_train_X, cv_test_X, cv_train_Y, cv_test_y = train_test_split(cv_df, df['target'], test_size=0.30, random_state=17)\n",
    "tfidf_train_X, tfidf_test_X, tfidf_train_Y, tfidf_test_y = train_test_split(tfidf_df, df['target'], test_size=0.30, random_state=17)\n",
    "w2v_train_X, w2v_test_X, w2v_train_Y, w2v_test_y = train_test_split(w2v_df, df['target'], test_size=0.30, random_state=17)\n",
    "pca_w2v_train_X, pca_w2v_test_X, pca_w2v_train_Y, pca_w2v_test_y = train_test_split(pca_trans_w2v_df, df['target'], test_size=0.30, random_state=17)\n",
    "'''\n",
    "from sklearn import svm\n",
    "from sklearn.linear_model import LogisticRegression\n",
    "from sklearn.tree import DecisionTreeClassifier\n",
    "\n",
    "cus_en_lr = LogisticRegression(C=0.15, penalty='l2', tol=0.001, solver='saga', random_state=42, max_iter=1000)\n",
    "cus_en_svm = svm.SVC(kernel='sigmoid', probability=True)\n",
    "cus_en_dt = DecisionTreeClassifier(min_samples_split=8)\n",
    "cus_en_rd = RandomForestClassifier(n_estimators=250, random_state=42,\n",
    "                                class_weight=\"balanced\", min_samples_split=12)\n",
    "cus_xgb_clf = XGBClassifier(learning_rate =0.1,\n",
    "     n_estimators=145,\n",
    "     max_depth=10,\n",
    "     min_child_weight=1,\n",
    "     gamma=0.1,\n",
    "     subsample=0.8,\n",
    "     colsample_bytree=0.8,\n",
    "     objective= 'binary:logistic',\n",
    "     nthread=4,\n",
    "     scale_pos_weight=1,\n",
    "     seed=27)\n",
    "\n",
    "cus_en_lr.fit(cv_train_X, cv_train_Y)\n",
    "cus_en_svm.fit(cv_train_X, cv_train_Y)\n",
    "cus_en_dt.fit(tfidf_train_X, tfidf_train_Y)\n",
    "cus_en_rd.fit(cv_train_X, cv_train_Y)\n",
    "cus_xgb_clf.fit(pca_w2v_train_X, pca_w2v_train_Y)\n",
    "\n",
    "lr_pred_y = cus_en_lr.predict(cv_test_X)\n",
    "svm_pred_y = cus_en_svm.predict(cv_test_X)\n",
    "dt_pred_y = cus_en_dt.predict(tfidf_test_X)\n",
    "rd_pred_y = cus_en_rd.predict(cv_test_X)\n",
    "xgb_pred_y = cus_xgb_clf.predict(pca_w2v_test_X)\n",
    "\n",
    "\n",
    "lr_pred_y_prob = cus_en_lr.predict_proba(cv_test_X)\n",
    "svm_pred_y_prob = cus_en_svm.predict_proba(cv_test_X)\n",
    "dt_pred_y_prob = cus_en_dt.predict_proba(tfidf_test_X)\n",
    "rd_pred_y_prob = cus_en_rd.predict_proba(cv_test_X)\n",
    "xgb_pred_y_prob = cus_xgb_clf.predict_proba(pca_w2v_test_X)\n"
   ]
  },
  {
   "cell_type": "code",
   "execution_count": null,
   "metadata": {
    "colab": {
     "base_uri": "https://localhost:8080/"
    },
    "id": "-D87bgs-52ew",
    "outputId": "9d3bbe99-ef8a-421d-bc66-545432e73238"
   },
   "outputs": [
    {
     "name": "stdout",
     "output_type": "stream",
     "text": [
      "[1 0 0 ... 1 0 0]\n",
      "[[0.31345312 0.68654688]\n",
      " [0.85636613 0.14363387]\n",
      " [0.78340883 0.21659117]\n",
      " ...\n",
      " [0.42238079 0.57761921]\n",
      " [0.74439378 0.25560622]\n",
      " [0.79686883 0.20313117]]\n"
     ]
    }
   ],
   "source": [
    "lr_pred_y = cus_en_lr.predict(cv_test_X)\n",
    "print(lr_pred_y)\n",
    "prob = cus_en_lr.predict_proba(cv_test_X)\n",
    "print(prob)"
   ]
  },
  {
   "cell_type": "code",
   "execution_count": 304,
   "metadata": {
    "id": "wQgbUGMM3MCb"
   },
   "outputs": [],
   "source": [
    "combined_pred_y = []\n",
    "\n",
    "for idx in range(cv_test_y.shape[0]):\n",
    "  # 6 models 4,5,6\n",
    "  if (lr_pred_y[idx]+svm_pred_y[idx]+rd_pred_y[idx]+dt_pred_y[idx]+xgb_pred_y[idx]+lstm_glv_pred_y[idx]>3):\n",
    "  #if (lr_pred_y[idx]+svm_pred_y[idx]+rd_pred_y[idx]+dt_pred_y[idx]+xgb_pred_y[idx]>=3):\n",
    "    combined_pred_y.append(1);\n",
    "  else :\n",
    "    combined_pred_y.append(0);\n",
    "    '''\n",
    "\n",
    "  max_neg = max([lr_pred_y_prob[idx][0],svm_pred_y_prob[idx][0],dt_pred_y_prob[idx][0]])\n",
    "  max_pos = max([lr_pred_y_prob[idx][1],svm_pred_y_prob[idx][1],dt_pred_y_prob[idx][1]])\n",
    "  if (max_pos>max_neg) :\n",
    "    combined_pred_y.append(1);\n",
    "  else :\n",
    "    combined_pred_y.append(0);\n",
    "'''"
   ]
  },
  {
   "cell_type": "code",
   "execution_count": 297,
   "metadata": {
    "id": "QrK5df4ARaDd"
   },
   "outputs": [],
   "source": [
    "combined_pred_y_prob = []\n",
    "for idx in range(cv_test_y.shape[0]):\n",
    "    max_neg = max([lr_pred_y_prob[idx][0],svm_pred_y_prob[idx][0],\n",
    "                     rd_pred_y_prob[idx][0],xgb_pred_y_prob[idx][0], dt_pred_y_prob[idx][0],\n",
    "                     lstm_glv_pred_y_prob[idx] ])\n",
    "    max_pos = max([lr_pred_y_prob[idx][1],svm_pred_y_prob[idx][1],\n",
    "                     rd_pred_y_prob[idx][1],xgb_pred_y_prob[idx][1], dt_pred_y_prob[idx][1],\n",
    "                     lstm_glv_pred_y_prob[idx] ])\n",
    "    if (max_neg<max_pos):\n",
    "        combined_pred_y_prob.append(1);\n",
    "    else :\n",
    "        combined_pred_y_prob.append(0);\n"
   ]
  },
  {
   "cell_type": "code",
   "execution_count": 305,
   "metadata": {
    "id": "-fIMdqBj4v63"
   },
   "outputs": [],
   "source": [
    "lr_pred_y.shape\n",
    "combined_pred_y = np.asarray(combined_pred_y)\n",
    "combined_pred_y_prob = np.asarray(combined_pred_y_prob)"
   ]
  },
  {
   "cell_type": "code",
   "execution_count": 306,
   "metadata": {
    "colab": {
     "base_uri": "https://localhost:8080/"
    },
    "id": "sMxTenZ-31bR",
    "outputId": "6650b126-fe45-4896-a4ba-3fe915e64825"
   },
   "outputs": [
    {
     "name": "stdout",
     "output_type": "stream",
     "text": [
      "accuracy_score: 0.815\n",
      "Recall: 0.674\n",
      "Precision: 0.871\n",
      "F1 Score: 0.760\n"
     ]
    }
   ],
   "source": [
    "from sklearn.metrics import precision_score, recall_score, f1_score, accuracy_score\n",
    "\n",
    "#Accuracy\n",
    "print('accuracy_score: %.3f' % accuracy_score(cv_test_y, combined_pred_y))\n",
    "print('Recall: %.3f' % recall_score(cv_test_y, combined_pred_y))\n",
    "print('Precision: %.3f' % precision_score(cv_test_y, combined_pred_y))\n",
    "print('F1 Score: %.3f' % f1_score(cv_test_y, combined_pred_y))\n",
    "\n"
   ]
  },
  {
   "cell_type": "code",
   "execution_count": 299,
   "metadata": {
    "colab": {
     "base_uri": "https://localhost:8080/"
    },
    "id": "TPNiiy5RRzPs",
    "outputId": "3bcd33f9-b91b-46d8-d82e-76446f5c4205"
   },
   "outputs": [
    {
     "name": "stdout",
     "output_type": "stream",
     "text": [
      "\n",
      " probability: \n",
      "\n",
      "accuracy_score: 0.764\n",
      "Recall: 0.675\n",
      "Precision: 0.756\n",
      "F1 Score: 0.713\n"
     ]
    }
   ],
   "source": [
    "print(\"\\n probability: \\n\")\n",
    "\n",
    "#Accuracy\n",
    "print('accuracy_score: %.3f' % accuracy_score(cv_test_y, combined_pred_y_prob))\n",
    "print('Recall: %.3f' % recall_score(cv_test_y, combined_pred_y_prob))\n",
    "print('Precision: %.3f' % precision_score(cv_test_y, combined_pred_y_prob))\n",
    "print('F1 Score: %.3f' % f1_score(cv_test_y, combined_pred_y_prob))\n",
    "\n"
   ]
  },
  {
   "cell_type": "code",
   "execution_count": null,
   "metadata": {
    "colab": {
     "base_uri": "https://localhost:8080/",
     "height": 358
    },
    "id": "yygXbJJd5PcN",
    "outputId": "1c39e950-46aa-4aa5-9beb-f62ff2a3c3c1"
   },
   "outputs": [
    {
     "data": {
      "image/png": "[encoded data removed]",
      "text/plain": [
       "<Figure size 360x360 with 1 Axes>"
      ]
     },
     "metadata": {
      "needs_background": "light"
     },
     "output_type": "display_data"
    }
   ],
   "source": [
    "from sklearn.metrics import confusion_matrix\n",
    "\n",
    "conf_matrix = confusion_matrix(y_true=cv_test_y, y_pred=combined_pred_y)\n",
    "#\n",
    "# Print the confusion matrix using Matplotlib\n",
    "#\n",
    "fig, ax = plt.subplots(figsize=(5, 5))\n",
    "ax.matshow(conf_matrix, cmap=plt.cm.Oranges, alpha=0.3)\n",
    "for i in range(conf_matrix.shape[0]):\n",
    "    for j in range(conf_matrix.shape[1]):\n",
    "        ax.text(x=j, y=i,s=conf_matrix[i, j], va='center', ha='center', size='xx-large')\n",
    "\n",
    "plt.xlabel('Predictions', fontsize=18)\n",
    "plt.ylabel('Actuals', fontsize=18)\n",
    "plt.title('Confusion Matrix', fontsize=18)\n",
    "plt.show()"
   ]
  },
  {
   "cell_type": "markdown",
   "metadata": {
    "id": "RCaayiDi4mR1"
   },
   "source": [
    "# ROC Curve"
   ]
  },
  {
   "cell_type": "code",
   "execution_count": 391,
   "metadata": {
    "colab": {
     "base_uri": "https://localhost:8080/",
     "height": 401
    },
    "id": "HIoatUwP4ptQ",
    "outputId": "2e73284b-b93e-4b84-c9dc-209f1dd5ff4e"
   },
   "outputs": [
    {
     "name": "stdout",
     "output_type": "stream",
     "text": [
      "No Skill: ROC AUC=0.500\n",
      "Logistic: ROC AUC=0.859\n",
      "SVM: ROC AUC=0.854\n",
      "DecisionTree: ROC AUC=0.763\n",
      "RandomTree: ROC AUC=0.852\n",
      "XGBoost: ROC AUC=0.823\n",
      "LSTM GLOVE: ROC AUC=0.883\n"
     ]
    },
    {
     "data": {
      "image/png": "[encoded data removed]",
      "text/plain": [
       "<Figure size 432x288 with 1 Axes>"
      ]
     },
     "metadata": {
      "needs_background": "light"
     },
     "output_type": "display_data"
    }
   ],
   "source": [
    "from sklearn.metrics import roc_curve\n",
    "from sklearn.metrics import roc_auc_score\n",
    "from matplotlib import pyplot\n",
    "\n",
    "\n",
    "ns_probs = [0 for _ in range(len(cv_test_y))]\n",
    "'''\n",
    "lr_pred_y_prob = cus_en_lr.predict_proba(cv_test_X)\n",
    "svm_pred_y_prob = cus_en_svm.predict_proba(cv_test_X)\n",
    "dt_pred_y_prob = cus_en_dt.predict_proba(tfidf_test_X)\n",
    "rd_pred_y_prob = cus_en_rd.predict_proba(cv_test_X)\n",
    "xgb_pred_y_prob = cus_xgb_clf.predict_proba(pca_w2v_test_X)\n",
    "lstm_glv_pred_y_prob\n",
    "'''\n",
    "lr_probs = lr_pred_y_prob[:, 1]\n",
    "svm_probs = svm_pred_y_prob[:, 1]\n",
    "dt_probs = dt_pred_y_prob[:, 1]\n",
    "rd_probs = rd_pred_y_prob[:, 1]\n",
    "xgb_probs = xgb_pred_y_prob[:, 1]\n",
    "\n",
    "# calculate scores\n",
    "ns_auc = roc_auc_score(cv_test_y, ns_probs)\n",
    "\n",
    "lr_auc = roc_auc_score(cv_test_y, lr_probs)\n",
    "svm_auc = roc_auc_score(cv_test_y, svm_probs)\n",
    "dt_auc = roc_auc_score(cv_test_y, dt_probs)\n",
    "rd_auc = roc_auc_score(cv_test_y, rd_probs)\n",
    "xgb_auc = roc_auc_score(cv_test_y, xgb_probs)\n",
    "lstm_glv_auc = roc_auc_score(cv_test_y, lstm_glv_pred_y_prob)\n",
    "\n",
    "# summarize scores\n",
    "print('No Skill: ROC AUC=%.3f' % (ns_auc))\n",
    "print('Logistic: ROC AUC=%.3f' % (lr_auc))\n",
    "print('SVM: ROC AUC=%.3f' % (svm_auc))\n",
    "print('DecisionTree: ROC AUC=%.3f' % (dt_auc))\n",
    "print('RandomTree: ROC AUC=%.3f' % (rd_auc))\n",
    "print('XGBoost: ROC AUC=%.3f' % (xgb_auc))\n",
    "print('LSTM GLOVE: ROC AUC=%.3f' % (lstm_glv_auc))\n",
    "\n",
    "# calculate roc curves\n",
    "ns_fpr, ns_tpr, _ = roc_curve(cv_test_y, ns_probs)\n",
    "\n",
    "lr_fpr, lr_tpr, _ = roc_curve(cv_test_y, lr_probs)\n",
    "svm_fpr, svm_tpr, _ = roc_curve(cv_test_y, svm_probs)\n",
    "dt_fpr, dt_tpr, _ = roc_curve(tfidf_test_y, dt_probs)\n",
    "rd_fpr, rd_tpr, _ = roc_curve(cv_test_y, rd_probs)\n",
    "xgb_fpr, xgb_tpr, _ = roc_curve(pca_w2v_test_y, xgb_probs)\n",
    "lstm_glv_fpr, lstm_glv_tpr, _ = roc_curve(pad_y_test, lstm_glv_pred_y_prob)\n",
    "\n",
    "# plot the roc curve for the model\n",
    "pyplot.plot(ns_fpr, ns_tpr, linestyle='--', label='No Skill')\n",
    "pyplot.plot(lr_fpr, lr_tpr, marker='.', label='Logistic')\n",
    "\n",
    "pyplot.plot(svm_fpr, svm_tpr, marker='.', label='SVM')\n",
    "pyplot.plot(dt_fpr, dt_tpr, marker='.', label='DecisionTree')\n",
    "pyplot.plot(rd_fpr, rd_tpr, marker='.', label='RandomTree')\n",
    "pyplot.plot(xgb_fpr, xgb_tpr, marker='.', label='XGBoost')\n",
    "pyplot.plot(lstm_glv_fpr, lstm_glv_tpr, marker='.', label='LSTM Glove')\n",
    "\n",
    "# axis labels\n",
    "pyplot.xlabel('False Positive Rate')\n",
    "pyplot.ylabel('True Positive Rate')\n",
    "# show the legend\n",
    "pyplot.legend()\n",
    "# show the plot\n",
    "pyplot.show()"
   ]
  }
 ],
 "metadata": {
  "colab": {
   "collapsed_sections": [
    "HcFXtJbcwb0y",
    "3re5F1Xh7ROT",
    "Q2AwUyC_3zOx",
    "x9r55LFx7J4_",
    "1i4lWhyTPBX5",
    "FzIQGnq-8sfU",
    "1RQQmU5gsNu9",
    "G7l21GNwqGzR",
    "o5IcasT28y_X",
    "6diDRbfBCzUw",
    "aYx5bVre2VqW"
   ],
   "name": "NLP.ipynb",
   "provenance": []
  },
  "kernelspec": {
   "display_name": "Python 3 (ipykernel)",
   "language": "python",
   "name": "python3"
  },
  "language_info": {
   "codemirror_mode": {
    "name": "ipython",
    "version": 3
   },
   "file_extension": ".py",
   "mimetype": "text/x-python",
   "name": "python",
   "nbconvert_exporter": "python",
   "pygments_lexer": "ipython3",
   "version": "3.8.12"
  }
 },
 "nbformat": 4,
 "nbformat_minor": 4
}
