{
  "nbformat": 4,
  "nbformat_minor": 0,
  "metadata": {
    "colab": {
      "name": "Final_Team10_Code.ipynb",
      "provenance": [],
      "collapsed_sections": []
    },
    "kernelspec": {
      "name": "python3",
      "display_name": "Python 3"
    },
    "language_info": {
      "name": "python"
    },
    "accelerator": "GPU"
  },
  "cells": [
    {
      "cell_type": "markdown",
      "source": [
        "# Pre Loading Libraries"
      ],
      "metadata": {
        "id": "HcFXtJbcwb0y"
      }
    },
    {
      "cell_type": "code",
      "source": [
        "from keras.preprocessing.text import Tokenizer\n",
        "import pandas as pd\n",
        "import matplotlib.pyplot as plt\n",
        "from sklearn.feature_extraction.text import CountVectorizer\n",
        "from sklearn.feature_extraction.text import TfidfVectorizer\n",
        "from sklearn.model_selection import train_test_split\n",
        "\n",
        "from collections import Counter\n",
        "from pathlib import Path\n",
        "import os\n",
        "import numpy as np\n",
        "import re\n",
        "import string\n",
        "import nltk\n",
        "nltk.download('punkt')\n",
        "from nltk.tokenize import word_tokenize\n",
        "from nltk.corpus import stopwords\n",
        "nltk.download('stopwords')\n",
        "from nltk.stem.porter import PorterStemmer\n",
        "from nltk.stem import WordNetLemmatizer\n",
        "nltk.download('wordnet')\n",
        "from nltk.corpus import wordnet\n",
        "import unicodedata\n",
        "import html\n",
        "stop_words = stopwords.words('english')\n",
        "nltk.download('averaged_perceptron_tagger')"
      ],
      "metadata": {
        "colab": {
          "base_uri": "https://localhost:8080/"
        },
        "id": "EUEX1WmL2u2j",
        "outputId": "2b4abe35-8a65-4da9-93d0-a89decec1f62"
      },
      "execution_count": 1,
      "outputs": [
        {
          "output_type": "stream",
          "name": "stdout",
          "text": [
            "[nltk_data] Downloading package punkt to /root/nltk_data...\n",
            "[nltk_data]   Package punkt is already up-to-date!\n",
            "[nltk_data] Downloading package stopwords to /root/nltk_data...\n",
            "[nltk_data]   Package stopwords is already up-to-date!\n",
            "[nltk_data] Downloading package wordnet to /root/nltk_data...\n",
            "[nltk_data]   Package wordnet is already up-to-date!\n",
            "[nltk_data] Downloading package averaged_perceptron_tagger to\n",
            "[nltk_data]     /root/nltk_data...\n",
            "[nltk_data]   Package averaged_perceptron_tagger is already up-to-\n",
            "[nltk_data]       date!\n"
          ]
        },
        {
          "output_type": "execute_result",
          "data": {
            "text/plain": [
              "True"
            ]
          },
          "metadata": {},
          "execution_count": 1
        }
      ]
    },
    {
      "cell_type": "markdown",
      "source": [
        "# Data Loading & Exploration"
      ],
      "metadata": {
        "id": "3re5F1Xh7ROT"
      }
    },
    {
      "cell_type": "code",
      "source": [
        "#read data and figure out what it has.\n",
        "df = pd.read_csv('/content/train.csv')\n",
        "display(df.head(100))\n",
        "display(df.info())"
      ],
      "metadata": {
        "colab": {
          "base_uri": "https://localhost:8080/",
          "height": 625
        },
        "id": "-tlb7wKv2w7J",
        "outputId": "d1fe8d0a-f2f0-4614-a6cc-0f9b51287463"
      },
      "execution_count": 2,
      "outputs": [
        {
          "output_type": "display_data",
          "data": {
            "text/plain": [
              "     id   keyword              location  \\\n",
              "0     1       NaN                   NaN   \n",
              "1     4       NaN                   NaN   \n",
              "2     5       NaN                   NaN   \n",
              "3     6       NaN                   NaN   \n",
              "4     7       NaN                   NaN   \n",
              "..  ...       ...                   ...   \n",
              "95  137  accident             Charlotte   \n",
              "96  138  accident       Baton Rouge, LA   \n",
              "97  139  accident        Hagerstown, MD   \n",
              "98  141  accident  Gloucestershire , UK   \n",
              "99  143  accident                   NaN   \n",
              "\n",
              "                                                 text  target  \n",
              "0   Our Deeds are the Reason of this #earthquake M...       1  \n",
              "1              Forest fire near La Ronge Sask. Canada       1  \n",
              "2   All residents asked to 'shelter in place' are ...       1  \n",
              "3   13,000 people receive #wildfires evacuation or...       1  \n",
              "4   Just got sent this photo from Ruby #Alaska as ...       1  \n",
              "..                                                ...     ...  \n",
              "95  9 Mile backup on I-77 South...accident blockin...       1  \n",
              "96  Has an accident changed your life? We will hel...       0  \n",
              "97  #BREAKING: there was a deadly motorcycle car a...       1  \n",
              "98  @flowri were you marinading it or was it an ac...       0  \n",
              "99  only had a car for not even a week and got in ...       1  \n",
              "\n",
              "[100 rows x 5 columns]"
            ],
            "text/html": [
              "\n",
              "  <div id=\"df-6cce49fa-44d1-4cc7-823a-ecce4fd50be4\">\n",
              "    <div class=\"colab-df-container\">\n",
              "      <div>\n",
              "<style scoped>\n",
              "    .dataframe tbody tr th:only-of-type {\n",
              "        vertical-align: middle;\n",
              "    }\n",
              "\n",
              "    .dataframe tbody tr th {\n",
              "        vertical-align: top;\n",
              "    }\n",
              "\n",
              "    .dataframe thead th {\n",
              "        text-align: right;\n",
              "    }\n",
              "</style>\n",
              "<table border=\"1\" class=\"dataframe\">\n",
              "  <thead>\n",
              "    <tr style=\"text-align: right;\">\n",
              "      <th></th>\n",
              "      <th>id</th>\n",
              "      <th>keyword</th>\n",
              "      <th>location</th>\n",
              "      <th>text</th>\n",
              "      <th>target</th>\n",
              "    </tr>\n",
              "  </thead>\n",
              "  <tbody>\n",
              "    <tr>\n",
              "      <th>0</th>\n",
              "      <td>1</td>\n",
              "      <td>NaN</td>\n",
              "      <td>NaN</td>\n",
              "      <td>Our Deeds are the Reason of this #earthquake M...</td>\n",
              "      <td>1</td>\n",
              "    </tr>\n",
              "    <tr>\n",
              "      <th>1</th>\n",
              "      <td>4</td>\n",
              "      <td>NaN</td>\n",
              "      <td>NaN</td>\n",
              "      <td>Forest fire near La Ronge Sask. Canada</td>\n",
              "      <td>1</td>\n",
              "    </tr>\n",
              "    <tr>\n",
              "      <th>2</th>\n",
              "      <td>5</td>\n",
              "      <td>NaN</td>\n",
              "      <td>NaN</td>\n",
              "      <td>All residents asked to 'shelter in place' are ...</td>\n",
              "      <td>1</td>\n",
              "    </tr>\n",
              "    <tr>\n",
              "      <th>3</th>\n",
              "      <td>6</td>\n",
              "      <td>NaN</td>\n",
              "      <td>NaN</td>\n",
              "      <td>13,000 people receive #wildfires evacuation or...</td>\n",
              "      <td>1</td>\n",
              "    </tr>\n",
              "    <tr>\n",
              "      <th>4</th>\n",
              "      <td>7</td>\n",
              "      <td>NaN</td>\n",
              "      <td>NaN</td>\n",
              "      <td>Just got sent this photo from Ruby #Alaska as ...</td>\n",
              "      <td>1</td>\n",
              "    </tr>\n",
              "    <tr>\n",
              "      <th>...</th>\n",
              "      <td>...</td>\n",
              "      <td>...</td>\n",
              "      <td>...</td>\n",
              "      <td>...</td>\n",
              "      <td>...</td>\n",
              "    </tr>\n",
              "    <tr>\n",
              "      <th>95</th>\n",
              "      <td>137</td>\n",
              "      <td>accident</td>\n",
              "      <td>Charlotte</td>\n",
              "      <td>9 Mile backup on I-77 South...accident blockin...</td>\n",
              "      <td>1</td>\n",
              "    </tr>\n",
              "    <tr>\n",
              "      <th>96</th>\n",
              "      <td>138</td>\n",
              "      <td>accident</td>\n",
              "      <td>Baton Rouge, LA</td>\n",
              "      <td>Has an accident changed your life? We will hel...</td>\n",
              "      <td>0</td>\n",
              "    </tr>\n",
              "    <tr>\n",
              "      <th>97</th>\n",
              "      <td>139</td>\n",
              "      <td>accident</td>\n",
              "      <td>Hagerstown, MD</td>\n",
              "      <td>#BREAKING: there was a deadly motorcycle car a...</td>\n",
              "      <td>1</td>\n",
              "    </tr>\n",
              "    <tr>\n",
              "      <th>98</th>\n",
              "      <td>141</td>\n",
              "      <td>accident</td>\n",
              "      <td>Gloucestershire , UK</td>\n",
              "      <td>@flowri were you marinading it or was it an ac...</td>\n",
              "      <td>0</td>\n",
              "    </tr>\n",
              "    <tr>\n",
              "      <th>99</th>\n",
              "      <td>143</td>\n",
              "      <td>accident</td>\n",
              "      <td>NaN</td>\n",
              "      <td>only had a car for not even a week and got in ...</td>\n",
              "      <td>1</td>\n",
              "    </tr>\n",
              "  </tbody>\n",
              "</table>\n",
              "<p>100 rows × 5 columns</p>\n",
              "</div>\n",
              "      <button class=\"colab-df-convert\" onclick=\"convertToInteractive('df-6cce49fa-44d1-4cc7-823a-ecce4fd50be4')\"\n",
              "              title=\"Convert this dataframe to an interactive table.\"\n",
              "              style=\"display:none;\">\n",
              "        \n",
              "  <svg xmlns=\"http://www.w3.org/2000/svg\" height=\"24px\"viewBox=\"0 0 24 24\"\n",
              "       width=\"24px\">\n",
              "    <path d=\"M0 0h24v24H0V0z\" fill=\"none\"/>\n",
              "    <path d=\"M18.56 5.44l.94 2.06.94-2.06 2.06-.94-2.06-.94-.94-2.06-.94 2.06-2.06.94zm-11 1L8.5 8.5l.94-2.06 2.06-.94-2.06-.94L8.5 2.5l-.94 2.06-2.06.94zm10 10l.94 2.06.94-2.06 2.06-.94-2.06-.94-.94-2.06-.94 2.06-2.06.94z\"/><path d=\"M17.41 7.96l-1.37-1.37c-.4-.4-.92-.59-1.43-.59-.52 0-1.04.2-1.43.59L10.3 9.45l-7.72 7.72c-.78.78-.78 2.05 0 2.83L4 21.41c.39.39.9.59 1.41.59.51 0 1.02-.2 1.41-.59l7.78-7.78 2.81-2.81c.8-.78.8-2.07 0-2.86zM5.41 20L4 18.59l7.72-7.72 1.47 1.35L5.41 20z\"/>\n",
              "  </svg>\n",
              "      </button>\n",
              "      \n",
              "  <style>\n",
              "    .colab-df-container {\n",
              "      display:flex;\n",
              "      flex-wrap:wrap;\n",
              "      gap: 12px;\n",
              "    }\n",
              "\n",
              "    .colab-df-convert {\n",
              "      background-color: #E8F0FE;\n",
              "      border: none;\n",
              "      border-radius: 50%;\n",
              "      cursor: pointer;\n",
              "      display: none;\n",
              "      fill: #1967D2;\n",
              "      height: 32px;\n",
              "      padding: 0 0 0 0;\n",
              "      width: 32px;\n",
              "    }\n",
              "\n",
              "    .colab-df-convert:hover {\n",
              "      background-color: #E2EBFA;\n",
              "      box-shadow: 0px 1px 2px rgba(60, 64, 67, 0.3), 0px 1px 3px 1px rgba(60, 64, 67, 0.15);\n",
              "      fill: #174EA6;\n",
              "    }\n",
              "\n",
              "    [theme=dark] .colab-df-convert {\n",
              "      background-color: #3B4455;\n",
              "      fill: #D2E3FC;\n",
              "    }\n",
              "\n",
              "    [theme=dark] .colab-df-convert:hover {\n",
              "      background-color: #434B5C;\n",
              "      box-shadow: 0px 1px 3px 1px rgba(0, 0, 0, 0.15);\n",
              "      filter: drop-shadow(0px 1px 2px rgba(0, 0, 0, 0.3));\n",
              "      fill: #FFFFFF;\n",
              "    }\n",
              "  </style>\n",
              "\n",
              "      <script>\n",
              "        const buttonEl =\n",
              "          document.querySelector('#df-6cce49fa-44d1-4cc7-823a-ecce4fd50be4 button.colab-df-convert');\n",
              "        buttonEl.style.display =\n",
              "          google.colab.kernel.accessAllowed ? 'block' : 'none';\n",
              "\n",
              "        async function convertToInteractive(key) {\n",
              "          const element = document.querySelector('#df-6cce49fa-44d1-4cc7-823a-ecce4fd50be4');\n",
              "          const dataTable =\n",
              "            await google.colab.kernel.invokeFunction('convertToInteractive',\n",
              "                                                     [key], {});\n",
              "          if (!dataTable) return;\n",
              "\n",
              "          const docLinkHtml = 'Like what you see? Visit the ' +\n",
              "            '<a target=\"_blank\" href=https://colab.research.google.com/notebooks/data_table.ipynb>data table notebook</a>'\n",
              "            + ' to learn more about interactive tables.';\n",
              "          element.innerHTML = '';\n",
              "          dataTable['output_type'] = 'display_data';\n",
              "          await google.colab.output.renderOutput(dataTable, element);\n",
              "          const docLink = document.createElement('div');\n",
              "          docLink.innerHTML = docLinkHtml;\n",
              "          element.appendChild(docLink);\n",
              "        }\n",
              "      </script>\n",
              "    </div>\n",
              "  </div>\n",
              "  "
            ]
          },
          "metadata": {}
        },
        {
          "output_type": "stream",
          "name": "stdout",
          "text": [
            "<class 'pandas.core.frame.DataFrame'>\n",
            "RangeIndex: 7613 entries, 0 to 7612\n",
            "Data columns (total 5 columns):\n",
            " #   Column    Non-Null Count  Dtype \n",
            "---  ------    --------------  ----- \n",
            " 0   id        7613 non-null   int64 \n",
            " 1   keyword   7552 non-null   object\n",
            " 2   location  5080 non-null   object\n",
            " 3   text      7613 non-null   object\n",
            " 4   target    7613 non-null   int64 \n",
            "dtypes: int64(2), object(3)\n",
            "memory usage: 297.5+ KB\n"
          ]
        },
        {
          "output_type": "display_data",
          "data": {
            "text/plain": [
              "None"
            ]
          },
          "metadata": {}
        }
      ]
    },
    {
      "cell_type": "code",
      "source": [
        "import seaborn as sns\n",
        "\n",
        "df_dis = df[df['target']==1]\n",
        "df_dis['keyword'].value_counts()[:10].plot(kind='barh')"
      ],
      "metadata": {
        "id": "ya9e_tjM3KsA",
        "colab": {
          "base_uri": "https://localhost:8080/",
          "height": 281
        },
        "outputId": "b0567dc9-afb3-4196-a7c8-f6751ae41bc5"
      },
      "execution_count": 3,
      "outputs": [
        {
          "output_type": "execute_result",
          "data": {
            "text/plain": [
              "<matplotlib.axes._subplots.AxesSubplot at 0x7f4889c4dbd0>"
            ]
          },
          "metadata": {},
          "execution_count": 3
        },
        {
          "output_type": "display_data",
          "data": {
            "text/plain": [
              "<Figure size 432x288 with 1 Axes>"
            ],
            "image/png": "[encoded data removed]"
          },
          "metadata": {
            "needs_background": "light"
          }
        }
      ]
    },
    {
      "cell_type": "code",
      "source": [
        "df_non_dis = df[df['target']==0]\n",
        "df_non_dis['keyword'].value_counts()[:10].plot(kind='barh')"
      ],
      "metadata": {
        "colab": {
          "base_uri": "https://localhost:8080/",
          "height": 281
        },
        "id": "NnLuRxm-sa1j",
        "outputId": "37cb72bd-996c-452b-af08-20b3b7d00af7"
      },
      "execution_count": 4,
      "outputs": [
        {
          "output_type": "execute_result",
          "data": {
            "text/plain": [
              "<matplotlib.axes._subplots.AxesSubplot at 0x7f4889b623d0>"
            ]
          },
          "metadata": {},
          "execution_count": 4
        },
        {
          "output_type": "display_data",
          "data": {
            "text/plain": [
              "<Figure size 432x288 with 1 Axes>"
            ],
            "image/png": "[encoded data removed]"
          },
          "metadata": {
            "needs_background": "light"
          }
        }
      ]
    },
    {
      "cell_type": "code",
      "source": [
        "print(len(df_dis['keyword'].unique()))\n",
        "print(len(df_non_dis['keyword'].unique()))"
      ],
      "metadata": {
        "id": "qQFqO7-Xs3ji",
        "colab": {
          "base_uri": "https://localhost:8080/"
        },
        "outputId": "ad5560e6-f577-49e1-911a-91006bf5519b"
      },
      "execution_count": 5,
      "outputs": [
        {
          "output_type": "stream",
          "name": "stdout",
          "text": [
            "221\n",
            "219\n"
          ]
        }
      ]
    },
    {
      "cell_type": "code",
      "source": [
        "def intersection(lst1, lst2):\n",
        "    lst3 = [value for value in lst1 if value in lst2]\n",
        "    return lst3\n",
        "\n",
        "ret = intersection(df_dis['keyword'].unique(), df_non_dis['keyword'].unique())\n",
        "print(len(ret))\n",
        "print(ret)"
      ],
      "metadata": {
        "colab": {
          "base_uri": "https://localhost:8080/"
        },
        "id": "GAxJ1-oQ9JXA",
        "outputId": "e4556088-0c67-41cf-9179-9088798fe243"
      },
      "execution_count": 6,
      "outputs": [
        {
          "output_type": "stream",
          "name": "stdout",
          "text": [
            "217\n",
            "['ablaze', 'accident', 'airplane%20accident', 'ambulance', 'annihilated', 'annihilation', 'apocalypse', 'armageddon', 'army', 'arson', 'arsonist', 'attack', 'attacked', 'avalanche', 'battle', 'bioterror', 'bioterrorism', 'blaze', 'blazing', 'bleeding', 'blew%20up', 'blight', 'blizzard', 'blood', 'bloody', 'blown%20up', 'body%20bag', 'body%20bagging', 'body%20bags', 'bomb', 'bombed', 'bombing', 'bridge%20collapse', 'buildings%20burning', 'buildings%20on%20fire', 'burned', 'burning', 'burning%20buildings', 'bush%20fires', 'casualties', 'casualty', 'catastrophe', 'catastrophic', 'chemical%20emergency', 'cliff%20fall', 'collapse', 'collapsed', 'collide', 'collided', 'collision', 'crash', 'crashed', 'crush', 'crushed', 'curfew', 'cyclone', 'damage', 'danger', 'dead', 'death', 'deaths', 'deluge', 'deluged', 'demolish', 'demolished', 'demolition', 'derail', 'derailed', 'desolate', 'desolation', 'destroy', 'destroyed', 'destruction', 'detonate', 'detonation', 'devastated', 'devastation', 'disaster', 'displaced', 'drought', 'drown', 'drowned', 'drowning', 'dust%20storm', 'earthquake', 'electrocute', 'electrocuted', 'emergency', 'emergency%20plan', 'emergency%20services', 'engulfed', 'epicentre', 'evacuate', 'evacuated', 'evacuation', 'explode', 'exploded', 'explosion', 'eyewitness', 'famine', 'fatal', 'fatalities', 'fatality', 'fear', 'fire', 'fire%20truck', 'first%20responders', 'flames', 'flattened', 'flood', 'flooding', 'floods', 'forest%20fire', 'forest%20fires', 'hail', 'hailstorm', 'harm', 'hazard', 'hazardous', 'heat%20wave', 'hellfire', 'hijack', 'hijacker', 'hijacking', 'hostage', 'hostages', 'hurricane', 'injured', 'injuries', 'injury', 'inundated', 'inundation', 'landslide', 'lava', 'lightning', 'loud%20bang', 'mass%20murder', 'mass%20murderer', 'massacre', 'mayhem', 'meltdown', 'military', 'mudslide', 'natural%20disaster', 'nuclear%20disaster', 'nuclear%20reactor', 'obliterate', 'obliterated', 'obliteration', 'oil%20spill', 'outbreak', 'pandemonium', 'panic', 'panicking', 'police', 'quarantine', 'quarantined', 'radiation%20emergency', 'rainstorm', 'razed', 'refugees', 'rescue', 'rescued', 'rescuers', 'riot', 'rioting', 'rubble', 'ruin', 'sandstorm', 'screamed', 'screaming', 'screams', 'seismic', 'sinkhole', 'sinking', 'siren', 'sirens', 'smoke', 'snowstorm', 'storm', 'stretcher', 'structural%20failure', 'suicide%20bomb', 'suicide%20bomber', 'suicide%20bombing', 'sunk', 'survive', 'survived', 'survivors', 'terrorism', 'terrorist', 'threat', 'thunder', 'thunderstorm', 'tornado', 'tragedy', 'trapped', 'trauma', 'traumatised', 'trouble', 'tsunami', 'twister', 'typhoon', 'upheaval', 'violent%20storm', 'volcano', 'war%20zone', 'weapon', 'weapons', 'whirlwind', 'wild%20fires', 'wildfire', 'windstorm', 'wounded', 'wounds', 'wreck', 'wrecked']\n"
          ]
        }
      ]
    },
    {
      "cell_type": "code",
      "source": [
        "setDisaster = set(df_dis['keyword'].unique())\n",
        "setNonDisaster = set(df_non_dis['keyword'].unique())\n",
        "print(len(setDisaster))\n",
        "print(len(setNonDisaster))\n",
        "print(setDisaster - setNonDisaster)\n",
        "print(setNonDisaster-setDisaster)"
      ],
      "metadata": {
        "colab": {
          "base_uri": "https://localhost:8080/"
        },
        "id": "jRNg-9tB-jRP",
        "outputId": "187869ca-ee8f-4a4f-87ff-999053a376dc"
      },
      "execution_count": 7,
      "outputs": [
        {
          "output_type": "stream",
          "name": "stdout",
          "text": [
            "221\n",
            "219\n",
            "{'wreckage', 'debris', 'derailment'}\n",
            "{'aftershock'}\n"
          ]
        }
      ]
    },
    {
      "cell_type": "code",
      "source": [
        "import pandas as pd\n",
        "import numpy as np\n",
        "import matplotlib.pyplot as plt\n",
        "from matplotlib_venn import venn3, venn3_circles\n",
        "from matplotlib_venn import venn2, venn2_circles\n",
        "\n",
        "venn2([set(df_dis['keyword']), set(df_non_dis['keyword'])])\n",
        "plt.show()\n"
      ],
      "metadata": {
        "colab": {
          "base_uri": "https://localhost:8080/",
          "height": 252
        },
        "id": "nx3DzknJ-7-c",
        "outputId": "6eea1d36-2979-40b7-ea9e-627ccaa3a366"
      },
      "execution_count": 8,
      "outputs": [
        {
          "output_type": "display_data",
          "data": {
            "text/plain": [
              "<Figure size 432x288 with 1 Axes>"
            ],
            "image/png": "[encoded data removed]"
          },
          "metadata": {}
        }
      ]
    },
    {
      "cell_type": "code",
      "source": [
        "plotdata = pd.DataFrame({\n",
        "    \"UniqueWords\":[221, 219],\n",
        "    \"SameWords\":[218,218]},\n",
        "\n",
        "    index=[\"disaster\", \"non-disaster\"])\n",
        "\n",
        "plotdata.plot(kind=\"bar\",figsize=(10,7))\n",
        "plt.title(\"the number of unique words of 'keyword' feature\")"
      ],
      "metadata": {
        "colab": {
          "base_uri": "https://localhost:8080/",
          "height": 512
        },
        "id": "l5i1VAk8AtTm",
        "outputId": "ff93b1f9-21f6-4b1e-ef3f-2b098584523c"
      },
      "execution_count": 9,
      "outputs": [
        {
          "output_type": "execute_result",
          "data": {
            "text/plain": [
              "Text(0.5, 1.0, \"the number of unique words of 'keyword' feature\")"
            ]
          },
          "metadata": {},
          "execution_count": 9
        },
        {
          "output_type": "display_data",
          "data": {
            "text/plain": [
              "<Figure size 720x504 with 1 Axes>"
            ],
            "image/png": "[encoded data removed]"
          },
          "metadata": {
            "needs_background": "light"
          }
        }
      ]
    },
    {
      "cell_type": "code",
      "source": [
        "import seaborn as sns\n",
        "\n",
        "#define data\n",
        "data = [4342, 3271]\n",
        "labels = ['0', '1']\n",
        "\n",
        "#define Seaborn color palette to use\n",
        "colors = sns.color_palette('pastel')[0:5]\n",
        "\n",
        "#create pie chart\n",
        "plt.pie(data, labels = labels, colors = colors, autopct='%.0f%%')\n",
        "plt.show()\n"
      ],
      "metadata": {
        "id": "TbyJ4sHMivxB",
        "colab": {
          "base_uri": "https://localhost:8080/",
          "height": 247
        },
        "outputId": "a55eca27-9bcb-4f5c-f705-e8050ddd09ff"
      },
      "execution_count": 10,
      "outputs": [
        {
          "output_type": "display_data",
          "data": {
            "text/plain": [
              "<Figure size 432x288 with 1 Axes>"
            ],
            "image/png": "[encoded data removed]"
          },
          "metadata": {}
        }
      ]
    },
    {
      "cell_type": "code",
      "source": [
        "missing_cols = ['keyword', 'location']\n",
        "sns.barplot(x=df[missing_cols].isnull().sum().index, y=df[missing_cols].isnull().sum().values)"
      ],
      "metadata": {
        "colab": {
          "base_uri": "https://localhost:8080/",
          "height": 281
        },
        "id": "4uE0YncHNuYZ",
        "outputId": "6fb25378-02ff-4e06-ec1e-1da992a8dde7"
      },
      "execution_count": 11,
      "outputs": [
        {
          "output_type": "execute_result",
          "data": {
            "text/plain": [
              "<matplotlib.axes._subplots.AxesSubplot at 0x7f488951bed0>"
            ]
          },
          "metadata": {},
          "execution_count": 11
        },
        {
          "output_type": "display_data",
          "data": {
            "text/plain": [
              "<Figure size 432x288 with 1 Axes>"
            ],
            "image/png": "[encoded data removed]"
          },
          "metadata": {
            "needs_background": "light"
          }
        }
      ]
    },
    {
      "cell_type": "code",
      "source": [
        "display(df.head())"
      ],
      "metadata": {
        "colab": {
          "base_uri": "https://localhost:8080/",
          "height": 201
        },
        "id": "SbInbogwPQ_A",
        "outputId": "2899a4e7-855f-4c1a-de93-fe790cac925b"
      },
      "execution_count": 12,
      "outputs": [
        {
          "output_type": "display_data",
          "data": {
            "text/plain": [
              "   id keyword location                                               text  \\\n",
              "0   1     NaN      NaN  Our Deeds are the Reason of this #earthquake M...   \n",
              "1   4     NaN      NaN             Forest fire near La Ronge Sask. Canada   \n",
              "2   5     NaN      NaN  All residents asked to 'shelter in place' are ...   \n",
              "3   6     NaN      NaN  13,000 people receive #wildfires evacuation or...   \n",
              "4   7     NaN      NaN  Just got sent this photo from Ruby #Alaska as ...   \n",
              "\n",
              "   target  \n",
              "0       1  \n",
              "1       1  \n",
              "2       1  \n",
              "3       1  \n",
              "4       1  "
            ],
            "text/html": [
              "\n",
              "  <div id=\"df-fb23bf53-bbe8-46a3-a818-bca9bba76ceb\">\n",
              "    <div class=\"colab-df-container\">\n",
              "      <div>\n",
              "<style scoped>\n",
              "    .dataframe tbody tr th:only-of-type {\n",
              "        vertical-align: middle;\n",
              "    }\n",
              "\n",
              "    .dataframe tbody tr th {\n",
              "        vertical-align: top;\n",
              "    }\n",
              "\n",
              "    .dataframe thead th {\n",
              "        text-align: right;\n",
              "    }\n",
              "</style>\n",
              "<table border=\"1\" class=\"dataframe\">\n",
              "  <thead>\n",
              "    <tr style=\"text-align: right;\">\n",
              "      <th></th>\n",
              "      <th>id</th>\n",
              "      <th>keyword</th>\n",
              "      <th>location</th>\n",
              "      <th>text</th>\n",
              "      <th>target</th>\n",
              "    </tr>\n",
              "  </thead>\n",
              "  <tbody>\n",
              "    <tr>\n",
              "      <th>0</th>\n",
              "      <td>1</td>\n",
              "      <td>NaN</td>\n",
              "      <td>NaN</td>\n",
              "      <td>Our Deeds are the Reason of this #earthquake M...</td>\n",
              "      <td>1</td>\n",
              "    </tr>\n",
              "    <tr>\n",
              "      <th>1</th>\n",
              "      <td>4</td>\n",
              "      <td>NaN</td>\n",
              "      <td>NaN</td>\n",
              "      <td>Forest fire near La Ronge Sask. Canada</td>\n",
              "      <td>1</td>\n",
              "    </tr>\n",
              "    <tr>\n",
              "      <th>2</th>\n",
              "      <td>5</td>\n",
              "      <td>NaN</td>\n",
              "      <td>NaN</td>\n",
              "      <td>All residents asked to 'shelter in place' are ...</td>\n",
              "      <td>1</td>\n",
              "    </tr>\n",
              "    <tr>\n",
              "      <th>3</th>\n",
              "      <td>6</td>\n",
              "      <td>NaN</td>\n",
              "      <td>NaN</td>\n",
              "      <td>13,000 people receive #wildfires evacuation or...</td>\n",
              "      <td>1</td>\n",
              "    </tr>\n",
              "    <tr>\n",
              "      <th>4</th>\n",
              "      <td>7</td>\n",
              "      <td>NaN</td>\n",
              "      <td>NaN</td>\n",
              "      <td>Just got sent this photo from Ruby #Alaska as ...</td>\n",
              "      <td>1</td>\n",
              "    </tr>\n",
              "  </tbody>\n",
              "</table>\n",
              "</div>\n",
              "      <button class=\"colab-df-convert\" onclick=\"convertToInteractive('df-fb23bf53-bbe8-46a3-a818-bca9bba76ceb')\"\n",
              "              title=\"Convert this dataframe to an interactive table.\"\n",
              "              style=\"display:none;\">\n",
              "        \n",
              "  <svg xmlns=\"http://www.w3.org/2000/svg\" height=\"24px\"viewBox=\"0 0 24 24\"\n",
              "       width=\"24px\">\n",
              "    <path d=\"M0 0h24v24H0V0z\" fill=\"none\"/>\n",
              "    <path d=\"M18.56 5.44l.94 2.06.94-2.06 2.06-.94-2.06-.94-.94-2.06-.94 2.06-2.06.94zm-11 1L8.5 8.5l.94-2.06 2.06-.94-2.06-.94L8.5 2.5l-.94 2.06-2.06.94zm10 10l.94 2.06.94-2.06 2.06-.94-2.06-.94-.94-2.06-.94 2.06-2.06.94z\"/><path d=\"M17.41 7.96l-1.37-1.37c-.4-.4-.92-.59-1.43-.59-.52 0-1.04.2-1.43.59L10.3 9.45l-7.72 7.72c-.78.78-.78 2.05 0 2.83L4 21.41c.39.39.9.59 1.41.59.51 0 1.02-.2 1.41-.59l7.78-7.78 2.81-2.81c.8-.78.8-2.07 0-2.86zM5.41 20L4 18.59l7.72-7.72 1.47 1.35L5.41 20z\"/>\n",
              "  </svg>\n",
              "      </button>\n",
              "      \n",
              "  <style>\n",
              "    .colab-df-container {\n",
              "      display:flex;\n",
              "      flex-wrap:wrap;\n",
              "      gap: 12px;\n",
              "    }\n",
              "\n",
              "    .colab-df-convert {\n",
              "      background-color: #E8F0FE;\n",
              "      border: none;\n",
              "      border-radius: 50%;\n",
              "      cursor: pointer;\n",
              "      display: none;\n",
              "      fill: #1967D2;\n",
              "      height: 32px;\n",
              "      padding: 0 0 0 0;\n",
              "      width: 32px;\n",
              "    }\n",
              "\n",
              "    .colab-df-convert:hover {\n",
              "      background-color: #E2EBFA;\n",
              "      box-shadow: 0px 1px 2px rgba(60, 64, 67, 0.3), 0px 1px 3px 1px rgba(60, 64, 67, 0.15);\n",
              "      fill: #174EA6;\n",
              "    }\n",
              "\n",
              "    [theme=dark] .colab-df-convert {\n",
              "      background-color: #3B4455;\n",
              "      fill: #D2E3FC;\n",
              "    }\n",
              "\n",
              "    [theme=dark] .colab-df-convert:hover {\n",
              "      background-color: #434B5C;\n",
              "      box-shadow: 0px 1px 3px 1px rgba(0, 0, 0, 0.15);\n",
              "      filter: drop-shadow(0px 1px 2px rgba(0, 0, 0, 0.3));\n",
              "      fill: #FFFFFF;\n",
              "    }\n",
              "  </style>\n",
              "\n",
              "      <script>\n",
              "        const buttonEl =\n",
              "          document.querySelector('#df-fb23bf53-bbe8-46a3-a818-bca9bba76ceb button.colab-df-convert');\n",
              "        buttonEl.style.display =\n",
              "          google.colab.kernel.accessAllowed ? 'block' : 'none';\n",
              "\n",
              "        async function convertToInteractive(key) {\n",
              "          const element = document.querySelector('#df-fb23bf53-bbe8-46a3-a818-bca9bba76ceb');\n",
              "          const dataTable =\n",
              "            await google.colab.kernel.invokeFunction('convertToInteractive',\n",
              "                                                     [key], {});\n",
              "          if (!dataTable) return;\n",
              "\n",
              "          const docLinkHtml = 'Like what you see? Visit the ' +\n",
              "            '<a target=\"_blank\" href=https://colab.research.google.com/notebooks/data_table.ipynb>data table notebook</a>'\n",
              "            + ' to learn more about interactive tables.';\n",
              "          element.innerHTML = '';\n",
              "          dataTable['output_type'] = 'display_data';\n",
              "          await google.colab.output.renderOutput(dataTable, element);\n",
              "          const docLink = document.createElement('div');\n",
              "          docLink.innerHTML = docLinkHtml;\n",
              "          element.appendChild(docLink);\n",
              "        }\n",
              "      </script>\n",
              "    </div>\n",
              "  </div>\n",
              "  "
            ]
          },
          "metadata": {}
        }
      ]
    },
    {
      "cell_type": "code",
      "source": [
        ""
      ],
      "metadata": {
        "id": "Unt1pyaMM51B"
      },
      "execution_count": 12,
      "outputs": []
    },
    {
      "cell_type": "code",
      "source": [
        "df = df.drop(['id', 'keyword','location'], axis = 1)\n",
        "df.head()"
      ],
      "metadata": {
        "id": "eHGHHFMN3mxk",
        "colab": {
          "base_uri": "https://localhost:8080/",
          "height": 201
        },
        "outputId": "e9ac2f08-d257-419f-9b54-3b1c86010f5b"
      },
      "execution_count": 13,
      "outputs": [
        {
          "output_type": "execute_result",
          "data": {
            "text/plain": [
              "                                                text  target\n",
              "0  Our Deeds are the Reason of this #earthquake M...       1\n",
              "1             Forest fire near La Ronge Sask. Canada       1\n",
              "2  All residents asked to 'shelter in place' are ...       1\n",
              "3  13,000 people receive #wildfires evacuation or...       1\n",
              "4  Just got sent this photo from Ruby #Alaska as ...       1"
            ],
            "text/html": [
              "\n",
              "  <div id=\"df-7d752f2b-d9e0-4a74-aaca-1f8fd2cc9f51\">\n",
              "    <div class=\"colab-df-container\">\n",
              "      <div>\n",
              "<style scoped>\n",
              "    .dataframe tbody tr th:only-of-type {\n",
              "        vertical-align: middle;\n",
              "    }\n",
              "\n",
              "    .dataframe tbody tr th {\n",
              "        vertical-align: top;\n",
              "    }\n",
              "\n",
              "    .dataframe thead th {\n",
              "        text-align: right;\n",
              "    }\n",
              "</style>\n",
              "<table border=\"1\" class=\"dataframe\">\n",
              "  <thead>\n",
              "    <tr style=\"text-align: right;\">\n",
              "      <th></th>\n",
              "      <th>text</th>\n",
              "      <th>target</th>\n",
              "    </tr>\n",
              "  </thead>\n",
              "  <tbody>\n",
              "    <tr>\n",
              "      <th>0</th>\n",
              "      <td>Our Deeds are the Reason of this #earthquake M...</td>\n",
              "      <td>1</td>\n",
              "    </tr>\n",
              "    <tr>\n",
              "      <th>1</th>\n",
              "      <td>Forest fire near La Ronge Sask. Canada</td>\n",
              "      <td>1</td>\n",
              "    </tr>\n",
              "    <tr>\n",
              "      <th>2</th>\n",
              "      <td>All residents asked to 'shelter in place' are ...</td>\n",
              "      <td>1</td>\n",
              "    </tr>\n",
              "    <tr>\n",
              "      <th>3</th>\n",
              "      <td>13,000 people receive #wildfires evacuation or...</td>\n",
              "      <td>1</td>\n",
              "    </tr>\n",
              "    <tr>\n",
              "      <th>4</th>\n",
              "      <td>Just got sent this photo from Ruby #Alaska as ...</td>\n",
              "      <td>1</td>\n",
              "    </tr>\n",
              "  </tbody>\n",
              "</table>\n",
              "</div>\n",
              "      <button class=\"colab-df-convert\" onclick=\"convertToInteractive('df-7d752f2b-d9e0-4a74-aaca-1f8fd2cc9f51')\"\n",
              "              title=\"Convert this dataframe to an interactive table.\"\n",
              "              style=\"display:none;\">\n",
              "        \n",
              "  <svg xmlns=\"http://www.w3.org/2000/svg\" height=\"24px\"viewBox=\"0 0 24 24\"\n",
              "       width=\"24px\">\n",
              "    <path d=\"M0 0h24v24H0V0z\" fill=\"none\"/>\n",
              "    <path d=\"M18.56 5.44l.94 2.06.94-2.06 2.06-.94-2.06-.94-.94-2.06-.94 2.06-2.06.94zm-11 1L8.5 8.5l.94-2.06 2.06-.94-2.06-.94L8.5 2.5l-.94 2.06-2.06.94zm10 10l.94 2.06.94-2.06 2.06-.94-2.06-.94-.94-2.06-.94 2.06-2.06.94z\"/><path d=\"M17.41 7.96l-1.37-1.37c-.4-.4-.92-.59-1.43-.59-.52 0-1.04.2-1.43.59L10.3 9.45l-7.72 7.72c-.78.78-.78 2.05 0 2.83L4 21.41c.39.39.9.59 1.41.59.51 0 1.02-.2 1.41-.59l7.78-7.78 2.81-2.81c.8-.78.8-2.07 0-2.86zM5.41 20L4 18.59l7.72-7.72 1.47 1.35L5.41 20z\"/>\n",
              "  </svg>\n",
              "      </button>\n",
              "      \n",
              "  <style>\n",
              "    .colab-df-container {\n",
              "      display:flex;\n",
              "      flex-wrap:wrap;\n",
              "      gap: 12px;\n",
              "    }\n",
              "\n",
              "    .colab-df-convert {\n",
              "      background-color: #E8F0FE;\n",
              "      border: none;\n",
              "      border-radius: 50%;\n",
              "      cursor: pointer;\n",
              "      display: none;\n",
              "      fill: #1967D2;\n",
              "      height: 32px;\n",
              "      padding: 0 0 0 0;\n",
              "      width: 32px;\n",
              "    }\n",
              "\n",
              "    .colab-df-convert:hover {\n",
              "      background-color: #E2EBFA;\n",
              "      box-shadow: 0px 1px 2px rgba(60, 64, 67, 0.3), 0px 1px 3px 1px rgba(60, 64, 67, 0.15);\n",
              "      fill: #174EA6;\n",
              "    }\n",
              "\n",
              "    [theme=dark] .colab-df-convert {\n",
              "      background-color: #3B4455;\n",
              "      fill: #D2E3FC;\n",
              "    }\n",
              "\n",
              "    [theme=dark] .colab-df-convert:hover {\n",
              "      background-color: #434B5C;\n",
              "      box-shadow: 0px 1px 3px 1px rgba(0, 0, 0, 0.15);\n",
              "      filter: drop-shadow(0px 1px 2px rgba(0, 0, 0, 0.3));\n",
              "      fill: #FFFFFF;\n",
              "    }\n",
              "  </style>\n",
              "\n",
              "      <script>\n",
              "        const buttonEl =\n",
              "          document.querySelector('#df-7d752f2b-d9e0-4a74-aaca-1f8fd2cc9f51 button.colab-df-convert');\n",
              "        buttonEl.style.display =\n",
              "          google.colab.kernel.accessAllowed ? 'block' : 'none';\n",
              "\n",
              "        async function convertToInteractive(key) {\n",
              "          const element = document.querySelector('#df-7d752f2b-d9e0-4a74-aaca-1f8fd2cc9f51');\n",
              "          const dataTable =\n",
              "            await google.colab.kernel.invokeFunction('convertToInteractive',\n",
              "                                                     [key], {});\n",
              "          if (!dataTable) return;\n",
              "\n",
              "          const docLinkHtml = 'Like what you see? Visit the ' +\n",
              "            '<a target=\"_blank\" href=https://colab.research.google.com/notebooks/data_table.ipynb>data table notebook</a>'\n",
              "            + ' to learn more about interactive tables.';\n",
              "          element.innerHTML = '';\n",
              "          dataTable['output_type'] = 'display_data';\n",
              "          await google.colab.output.renderOutput(dataTable, element);\n",
              "          const docLink = document.createElement('div');\n",
              "          docLink.innerHTML = docLinkHtml;\n",
              "          element.appendChild(docLink);\n",
              "        }\n",
              "      </script>\n",
              "    </div>\n",
              "  </div>\n",
              "  "
            ]
          },
          "metadata": {},
          "execution_count": 13
        }
      ]
    },
    {
      "cell_type": "markdown",
      "source": [
        "# Data Cleaning"
      ],
      "metadata": {
        "id": "Q2AwUyC_3zOx"
      }
    },
    {
      "cell_type": "markdown",
      "source": [
        "**Make Characters to Lower Case**"
      ],
      "metadata": {
        "id": "ipSgpvDO4Is_"
      }
    },
    {
      "cell_type": "code",
      "source": [
        "df[\"CleanText\"] = df[\"text\"].apply(lambda x: x.lower())\n",
        "df.head()"
      ],
      "metadata": {
        "id": "P3V9XoGJ4GNW",
        "colab": {
          "base_uri": "https://localhost:8080/",
          "height": 244
        },
        "outputId": "b8a31b6d-d55e-495e-a16e-cb62c95712f7"
      },
      "execution_count": 14,
      "outputs": [
        {
          "output_type": "execute_result",
          "data": {
            "text/plain": [
              "                                                text  target  \\\n",
              "0  Our Deeds are the Reason of this #earthquake M...       1   \n",
              "1             Forest fire near La Ronge Sask. Canada       1   \n",
              "2  All residents asked to 'shelter in place' are ...       1   \n",
              "3  13,000 people receive #wildfires evacuation or...       1   \n",
              "4  Just got sent this photo from Ruby #Alaska as ...       1   \n",
              "\n",
              "                                           CleanText  \n",
              "0  our deeds are the reason of this #earthquake m...  \n",
              "1             forest fire near la ronge sask. canada  \n",
              "2  all residents asked to 'shelter in place' are ...  \n",
              "3  13,000 people receive #wildfires evacuation or...  \n",
              "4  just got sent this photo from ruby #alaska as ...  "
            ],
            "text/html": [
              "\n",
              "  <div id=\"df-f5325317-045b-4568-924c-01bb34b374ca\">\n",
              "    <div class=\"colab-df-container\">\n",
              "      <div>\n",
              "<style scoped>\n",
              "    .dataframe tbody tr th:only-of-type {\n",
              "        vertical-align: middle;\n",
              "    }\n",
              "\n",
              "    .dataframe tbody tr th {\n",
              "        vertical-align: top;\n",
              "    }\n",
              "\n",
              "    .dataframe thead th {\n",
              "        text-align: right;\n",
              "    }\n",
              "</style>\n",
              "<table border=\"1\" class=\"dataframe\">\n",
              "  <thead>\n",
              "    <tr style=\"text-align: right;\">\n",
              "      <th></th>\n",
              "      <th>text</th>\n",
              "      <th>target</th>\n",
              "      <th>CleanText</th>\n",
              "    </tr>\n",
              "  </thead>\n",
              "  <tbody>\n",
              "    <tr>\n",
              "      <th>0</th>\n",
              "      <td>Our Deeds are the Reason of this #earthquake M...</td>\n",
              "      <td>1</td>\n",
              "      <td>our deeds are the reason of this #earthquake m...</td>\n",
              "    </tr>\n",
              "    <tr>\n",
              "      <th>1</th>\n",
              "      <td>Forest fire near La Ronge Sask. Canada</td>\n",
              "      <td>1</td>\n",
              "      <td>forest fire near la ronge sask. canada</td>\n",
              "    </tr>\n",
              "    <tr>\n",
              "      <th>2</th>\n",
              "      <td>All residents asked to 'shelter in place' are ...</td>\n",
              "      <td>1</td>\n",
              "      <td>all residents asked to 'shelter in place' are ...</td>\n",
              "    </tr>\n",
              "    <tr>\n",
              "      <th>3</th>\n",
              "      <td>13,000 people receive #wildfires evacuation or...</td>\n",
              "      <td>1</td>\n",
              "      <td>13,000 people receive #wildfires evacuation or...</td>\n",
              "    </tr>\n",
              "    <tr>\n",
              "      <th>4</th>\n",
              "      <td>Just got sent this photo from Ruby #Alaska as ...</td>\n",
              "      <td>1</td>\n",
              "      <td>just got sent this photo from ruby #alaska as ...</td>\n",
              "    </tr>\n",
              "  </tbody>\n",
              "</table>\n",
              "</div>\n",
              "      <button class=\"colab-df-convert\" onclick=\"convertToInteractive('df-f5325317-045b-4568-924c-01bb34b374ca')\"\n",
              "              title=\"Convert this dataframe to an interactive table.\"\n",
              "              style=\"display:none;\">\n",
              "        \n",
              "  <svg xmlns=\"http://www.w3.org/2000/svg\" height=\"24px\"viewBox=\"0 0 24 24\"\n",
              "       width=\"24px\">\n",
              "    <path d=\"M0 0h24v24H0V0z\" fill=\"none\"/>\n",
              "    <path d=\"M18.56 5.44l.94 2.06.94-2.06 2.06-.94-2.06-.94-.94-2.06-.94 2.06-2.06.94zm-11 1L8.5 8.5l.94-2.06 2.06-.94-2.06-.94L8.5 2.5l-.94 2.06-2.06.94zm10 10l.94 2.06.94-2.06 2.06-.94-2.06-.94-.94-2.06-.94 2.06-2.06.94z\"/><path d=\"M17.41 7.96l-1.37-1.37c-.4-.4-.92-.59-1.43-.59-.52 0-1.04.2-1.43.59L10.3 9.45l-7.72 7.72c-.78.78-.78 2.05 0 2.83L4 21.41c.39.39.9.59 1.41.59.51 0 1.02-.2 1.41-.59l7.78-7.78 2.81-2.81c.8-.78.8-2.07 0-2.86zM5.41 20L4 18.59l7.72-7.72 1.47 1.35L5.41 20z\"/>\n",
              "  </svg>\n",
              "      </button>\n",
              "      \n",
              "  <style>\n",
              "    .colab-df-container {\n",
              "      display:flex;\n",
              "      flex-wrap:wrap;\n",
              "      gap: 12px;\n",
              "    }\n",
              "\n",
              "    .colab-df-convert {\n",
              "      background-color: #E8F0FE;\n",
              "      border: none;\n",
              "      border-radius: 50%;\n",
              "      cursor: pointer;\n",
              "      display: none;\n",
              "      fill: #1967D2;\n",
              "      height: 32px;\n",
              "      padding: 0 0 0 0;\n",
              "      width: 32px;\n",
              "    }\n",
              "\n",
              "    .colab-df-convert:hover {\n",
              "      background-color: #E2EBFA;\n",
              "      box-shadow: 0px 1px 2px rgba(60, 64, 67, 0.3), 0px 1px 3px 1px rgba(60, 64, 67, 0.15);\n",
              "      fill: #174EA6;\n",
              "    }\n",
              "\n",
              "    [theme=dark] .colab-df-convert {\n",
              "      background-color: #3B4455;\n",
              "      fill: #D2E3FC;\n",
              "    }\n",
              "\n",
              "    [theme=dark] .colab-df-convert:hover {\n",
              "      background-color: #434B5C;\n",
              "      box-shadow: 0px 1px 3px 1px rgba(0, 0, 0, 0.15);\n",
              "      filter: drop-shadow(0px 1px 2px rgba(0, 0, 0, 0.3));\n",
              "      fill: #FFFFFF;\n",
              "    }\n",
              "  </style>\n",
              "\n",
              "      <script>\n",
              "        const buttonEl =\n",
              "          document.querySelector('#df-f5325317-045b-4568-924c-01bb34b374ca button.colab-df-convert');\n",
              "        buttonEl.style.display =\n",
              "          google.colab.kernel.accessAllowed ? 'block' : 'none';\n",
              "\n",
              "        async function convertToInteractive(key) {\n",
              "          const element = document.querySelector('#df-f5325317-045b-4568-924c-01bb34b374ca');\n",
              "          const dataTable =\n",
              "            await google.colab.kernel.invokeFunction('convertToInteractive',\n",
              "                                                     [key], {});\n",
              "          if (!dataTable) return;\n",
              "\n",
              "          const docLinkHtml = 'Like what you see? Visit the ' +\n",
              "            '<a target=\"_blank\" href=https://colab.research.google.com/notebooks/data_table.ipynb>data table notebook</a>'\n",
              "            + ' to learn more about interactive tables.';\n",
              "          element.innerHTML = '';\n",
              "          dataTable['output_type'] = 'display_data';\n",
              "          await google.colab.output.renderOutput(dataTable, element);\n",
              "          const docLink = document.createElement('div');\n",
              "          docLink.innerHTML = docLinkHtml;\n",
              "          element.appendChild(docLink);\n",
              "        }\n",
              "      </script>\n",
              "    </div>\n",
              "  </div>\n",
              "  "
            ]
          },
          "metadata": {},
          "execution_count": 14
        }
      ]
    },
    {
      "cell_type": "markdown",
      "source": [
        "**Remove unnecessary text: URL,HTML,Emojis, punctuation**"
      ],
      "metadata": {
        "id": "oFbmNJeU4Rzc"
      }
    },
    {
      "cell_type": "code",
      "source": [
        "#remove URL\n",
        "df[\"CleanText\"] = df[\"CleanText\"].apply(lambda x: re.sub(r\"https?://\\S+|www\\.\\S+\", \"\",x))"
      ],
      "metadata": {
        "id": "rmHbzccq4bAt"
      },
      "execution_count": 15,
      "outputs": []
    },
    {
      "cell_type": "code",
      "source": [
        "#remove numbers\n",
        "#number affect accuracy, So I decided to keep numbers.\n",
        "#df[\"CleanText\"] = df[\"CleanText\"].apply(lambda x: re.sub(r'[0-9]', \"\",x))"
      ],
      "metadata": {
        "id": "ezxrxqJDCT--"
      },
      "execution_count": 16,
      "outputs": []
    },
    {
      "cell_type": "code",
      "source": [
        "#remove html\n",
        "def removeHTML(text):\n",
        "    html = re.compile(r\"<.*?>|&([a-z0-9]+|#[0-9]{1,6}|#x[0-9a-f]{1,6});\")\n",
        "    return re.sub(html, \"\", text)\n",
        "\n",
        "df[\"CleanText\"] = df[\"CleanText\"].apply(lambda x: removeHTML(x))"
      ],
      "metadata": {
        "id": "-tXa4NXR4e1q"
      },
      "execution_count": 17,
      "outputs": []
    },
    {
      "cell_type": "code",
      "source": [
        "#remove emojis\n",
        "def removeEmojis(text):\n",
        "    emoji_pattern = re.compile(\"[\"\n",
        "                       u\"\\U0001F600-\\U0001F64F\"  # emoticons\n",
        "                       u\"\\U0001F300-\\U0001F5FF\"  # symbols & pictographs\n",
        "                       u\"\\U0001F680-\\U0001F6FF\"  # transport & map symbols\n",
        "                       u\"\\U0001F1E0-\\U0001F1FF\"  # flags (iOS)\n",
        "                       u\"\\U00002702-\\U000027B0\"\n",
        "                       u\"\\U000024C2-\\U0001F251\"\n",
        "                       u\"\\U0001f926-\\U0001f937\"\n",
        "                       u\"\\u200d\"\n",
        "                       u\"\\u2640-\\u2642\" \n",
        "                       \"]+\", flags=re.UNICODE)\n",
        "    return emoji_pattern.sub(r'', text)\n",
        "\n",
        "df[\"CleanText\"] = df[\"CleanText\"].apply(lambda x: removeEmojis(x))"
      ],
      "metadata": {
        "id": "rb7sr-sd4hws"
      },
      "execution_count": 18,
      "outputs": []
    },
    {
      "cell_type": "code",
      "source": [
        "#remove '.'\n",
        "def RemovePunctuation(text):\n",
        "    return text.translate(str.maketrans('', '', string.punctuation))\n",
        "\n",
        "df[\"CleanText\"] = df[\"CleanText\"].apply(lambda x: RemovePunctuation(x))"
      ],
      "metadata": {
        "id": "QTOoR6S75XT1"
      },
      "execution_count": 19,
      "outputs": []
    },
    {
      "cell_type": "code",
      "source": [
        "#remove ascii code\n",
        "\n",
        "def RemoveASCII(text):\n",
        "  return re.sub(r'[^\\x00-\\x7f]', \"\", text)\n",
        "\n",
        "df[\"CleanText\"] = df[\"CleanText\"].apply(lambda x: RemoveASCII(x))"
      ],
      "metadata": {
        "id": "r3s0kbbF627n"
      },
      "execution_count": 20,
      "outputs": []
    },
    {
      "cell_type": "code",
      "source": [
        "df.head()"
      ],
      "metadata": {
        "id": "12I4TFv27H2V",
        "colab": {
          "base_uri": "https://localhost:8080/",
          "height": 244
        },
        "outputId": "46003504-30a7-4737-f555-41319e2dd48a"
      },
      "execution_count": 21,
      "outputs": [
        {
          "output_type": "execute_result",
          "data": {
            "text/plain": [
              "                                                text  target  \\\n",
              "0  Our Deeds are the Reason of this #earthquake M...       1   \n",
              "1             Forest fire near La Ronge Sask. Canada       1   \n",
              "2  All residents asked to 'shelter in place' are ...       1   \n",
              "3  13,000 people receive #wildfires evacuation or...       1   \n",
              "4  Just got sent this photo from Ruby #Alaska as ...       1   \n",
              "\n",
              "                                           CleanText  \n",
              "0  our deeds are the reason of this earthquake ma...  \n",
              "1              forest fire near la ronge sask canada  \n",
              "2  all residents asked to shelter in place are be...  \n",
              "3  13000 people receive wildfires evacuation orde...  \n",
              "4  just got sent this photo from ruby alaska as s...  "
            ],
            "text/html": [
              "\n",
              "  <div id=\"df-4b75ab18-e2dc-4017-81bd-4099efd1d977\">\n",
              "    <div class=\"colab-df-container\">\n",
              "      <div>\n",
              "<style scoped>\n",
              "    .dataframe tbody tr th:only-of-type {\n",
              "        vertical-align: middle;\n",
              "    }\n",
              "\n",
              "    .dataframe tbody tr th {\n",
              "        vertical-align: top;\n",
              "    }\n",
              "\n",
              "    .dataframe thead th {\n",
              "        text-align: right;\n",
              "    }\n",
              "</style>\n",
              "<table border=\"1\" class=\"dataframe\">\n",
              "  <thead>\n",
              "    <tr style=\"text-align: right;\">\n",
              "      <th></th>\n",
              "      <th>text</th>\n",
              "      <th>target</th>\n",
              "      <th>CleanText</th>\n",
              "    </tr>\n",
              "  </thead>\n",
              "  <tbody>\n",
              "    <tr>\n",
              "      <th>0</th>\n",
              "      <td>Our Deeds are the Reason of this #earthquake M...</td>\n",
              "      <td>1</td>\n",
              "      <td>our deeds are the reason of this earthquake ma...</td>\n",
              "    </tr>\n",
              "    <tr>\n",
              "      <th>1</th>\n",
              "      <td>Forest fire near La Ronge Sask. Canada</td>\n",
              "      <td>1</td>\n",
              "      <td>forest fire near la ronge sask canada</td>\n",
              "    </tr>\n",
              "    <tr>\n",
              "      <th>2</th>\n",
              "      <td>All residents asked to 'shelter in place' are ...</td>\n",
              "      <td>1</td>\n",
              "      <td>all residents asked to shelter in place are be...</td>\n",
              "    </tr>\n",
              "    <tr>\n",
              "      <th>3</th>\n",
              "      <td>13,000 people receive #wildfires evacuation or...</td>\n",
              "      <td>1</td>\n",
              "      <td>13000 people receive wildfires evacuation orde...</td>\n",
              "    </tr>\n",
              "    <tr>\n",
              "      <th>4</th>\n",
              "      <td>Just got sent this photo from Ruby #Alaska as ...</td>\n",
              "      <td>1</td>\n",
              "      <td>just got sent this photo from ruby alaska as s...</td>\n",
              "    </tr>\n",
              "  </tbody>\n",
              "</table>\n",
              "</div>\n",
              "      <button class=\"colab-df-convert\" onclick=\"convertToInteractive('df-4b75ab18-e2dc-4017-81bd-4099efd1d977')\"\n",
              "              title=\"Convert this dataframe to an interactive table.\"\n",
              "              style=\"display:none;\">\n",
              "        \n",
              "  <svg xmlns=\"http://www.w3.org/2000/svg\" height=\"24px\"viewBox=\"0 0 24 24\"\n",
              "       width=\"24px\">\n",
              "    <path d=\"M0 0h24v24H0V0z\" fill=\"none\"/>\n",
              "    <path d=\"M18.56 5.44l.94 2.06.94-2.06 2.06-.94-2.06-.94-.94-2.06-.94 2.06-2.06.94zm-11 1L8.5 8.5l.94-2.06 2.06-.94-2.06-.94L8.5 2.5l-.94 2.06-2.06.94zm10 10l.94 2.06.94-2.06 2.06-.94-2.06-.94-.94-2.06-.94 2.06-2.06.94z\"/><path d=\"M17.41 7.96l-1.37-1.37c-.4-.4-.92-.59-1.43-.59-.52 0-1.04.2-1.43.59L10.3 9.45l-7.72 7.72c-.78.78-.78 2.05 0 2.83L4 21.41c.39.39.9.59 1.41.59.51 0 1.02-.2 1.41-.59l7.78-7.78 2.81-2.81c.8-.78.8-2.07 0-2.86zM5.41 20L4 18.59l7.72-7.72 1.47 1.35L5.41 20z\"/>\n",
              "  </svg>\n",
              "      </button>\n",
              "      \n",
              "  <style>\n",
              "    .colab-df-container {\n",
              "      display:flex;\n",
              "      flex-wrap:wrap;\n",
              "      gap: 12px;\n",
              "    }\n",
              "\n",
              "    .colab-df-convert {\n",
              "      background-color: #E8F0FE;\n",
              "      border: none;\n",
              "      border-radius: 50%;\n",
              "      cursor: pointer;\n",
              "      display: none;\n",
              "      fill: #1967D2;\n",
              "      height: 32px;\n",
              "      padding: 0 0 0 0;\n",
              "      width: 32px;\n",
              "    }\n",
              "\n",
              "    .colab-df-convert:hover {\n",
              "      background-color: #E2EBFA;\n",
              "      box-shadow: 0px 1px 2px rgba(60, 64, 67, 0.3), 0px 1px 3px 1px rgba(60, 64, 67, 0.15);\n",
              "      fill: #174EA6;\n",
              "    }\n",
              "\n",
              "    [theme=dark] .colab-df-convert {\n",
              "      background-color: #3B4455;\n",
              "      fill: #D2E3FC;\n",
              "    }\n",
              "\n",
              "    [theme=dark] .colab-df-convert:hover {\n",
              "      background-color: #434B5C;\n",
              "      box-shadow: 0px 1px 3px 1px rgba(0, 0, 0, 0.15);\n",
              "      filter: drop-shadow(0px 1px 2px rgba(0, 0, 0, 0.3));\n",
              "      fill: #FFFFFF;\n",
              "    }\n",
              "  </style>\n",
              "\n",
              "      <script>\n",
              "        const buttonEl =\n",
              "          document.querySelector('#df-4b75ab18-e2dc-4017-81bd-4099efd1d977 button.colab-df-convert');\n",
              "        buttonEl.style.display =\n",
              "          google.colab.kernel.accessAllowed ? 'block' : 'none';\n",
              "\n",
              "        async function convertToInteractive(key) {\n",
              "          const element = document.querySelector('#df-4b75ab18-e2dc-4017-81bd-4099efd1d977');\n",
              "          const dataTable =\n",
              "            await google.colab.kernel.invokeFunction('convertToInteractive',\n",
              "                                                     [key], {});\n",
              "          if (!dataTable) return;\n",
              "\n",
              "          const docLinkHtml = 'Like what you see? Visit the ' +\n",
              "            '<a target=\"_blank\" href=https://colab.research.google.com/notebooks/data_table.ipynb>data table notebook</a>'\n",
              "            + ' to learn more about interactive tables.';\n",
              "          element.innerHTML = '';\n",
              "          dataTable['output_type'] = 'display_data';\n",
              "          await google.colab.output.renderOutput(dataTable, element);\n",
              "          const docLink = document.createElement('div');\n",
              "          docLink.innerHTML = docLinkHtml;\n",
              "          element.appendChild(docLink);\n",
              "        }\n",
              "      </script>\n",
              "    </div>\n",
              "  </div>\n",
              "  "
            ]
          },
          "metadata": {},
          "execution_count": 21
        }
      ]
    },
    {
      "cell_type": "markdown",
      "source": [
        "#Data normalization ([NLTK](https://www.nltk.org/index.html)) "
      ],
      "metadata": {
        "id": "x9r55LFx7J4_"
      }
    },
    {
      "cell_type": "markdown",
      "source": [
        "**Tokenizer**"
      ],
      "metadata": {
        "id": "g0kK0r8D7f1z"
      }
    },
    {
      "cell_type": "code",
      "source": [
        "df['TokenizedText'] = df['CleanText'].apply(nltk.word_tokenize)"
      ],
      "metadata": {
        "id": "k6adNuzq7L9z"
      },
      "execution_count": 22,
      "outputs": []
    },
    {
      "cell_type": "code",
      "source": [
        "display(df.head())"
      ],
      "metadata": {
        "id": "BO0x5BGQitQA",
        "colab": {
          "base_uri": "https://localhost:8080/",
          "height": 327
        },
        "outputId": "1ab5cfab-3565-42f9-8491-35881cf279b3"
      },
      "execution_count": 23,
      "outputs": [
        {
          "output_type": "display_data",
          "data": {
            "text/plain": [
              "                                                text  target  \\\n",
              "0  Our Deeds are the Reason of this #earthquake M...       1   \n",
              "1             Forest fire near La Ronge Sask. Canada       1   \n",
              "2  All residents asked to 'shelter in place' are ...       1   \n",
              "3  13,000 people receive #wildfires evacuation or...       1   \n",
              "4  Just got sent this photo from Ruby #Alaska as ...       1   \n",
              "\n",
              "                                           CleanText  \\\n",
              "0  our deeds are the reason of this earthquake ma...   \n",
              "1              forest fire near la ronge sask canada   \n",
              "2  all residents asked to shelter in place are be...   \n",
              "3  13000 people receive wildfires evacuation orde...   \n",
              "4  just got sent this photo from ruby alaska as s...   \n",
              "\n",
              "                                       TokenizedText  \n",
              "0  [our, deeds, are, the, reason, of, this, earth...  \n",
              "1      [forest, fire, near, la, ronge, sask, canada]  \n",
              "2  [all, residents, asked, to, shelter, in, place...  \n",
              "3  [13000, people, receive, wildfires, evacuation...  \n",
              "4  [just, got, sent, this, photo, from, ruby, ala...  "
            ],
            "text/html": [
              "\n",
              "  <div id=\"df-4faf5b13-b168-44cd-b9d3-e3b979802e85\">\n",
              "    <div class=\"colab-df-container\">\n",
              "      <div>\n",
              "<style scoped>\n",
              "    .dataframe tbody tr th:only-of-type {\n",
              "        vertical-align: middle;\n",
              "    }\n",
              "\n",
              "    .dataframe tbody tr th {\n",
              "        vertical-align: top;\n",
              "    }\n",
              "\n",
              "    .dataframe thead th {\n",
              "        text-align: right;\n",
              "    }\n",
              "</style>\n",
              "<table border=\"1\" class=\"dataframe\">\n",
              "  <thead>\n",
              "    <tr style=\"text-align: right;\">\n",
              "      <th></th>\n",
              "      <th>text</th>\n",
              "      <th>target</th>\n",
              "      <th>CleanText</th>\n",
              "      <th>TokenizedText</th>\n",
              "    </tr>\n",
              "  </thead>\n",
              "  <tbody>\n",
              "    <tr>\n",
              "      <th>0</th>\n",
              "      <td>Our Deeds are the Reason of this #earthquake M...</td>\n",
              "      <td>1</td>\n",
              "      <td>our deeds are the reason of this earthquake ma...</td>\n",
              "      <td>[our, deeds, are, the, reason, of, this, earth...</td>\n",
              "    </tr>\n",
              "    <tr>\n",
              "      <th>1</th>\n",
              "      <td>Forest fire near La Ronge Sask. Canada</td>\n",
              "      <td>1</td>\n",
              "      <td>forest fire near la ronge sask canada</td>\n",
              "      <td>[forest, fire, near, la, ronge, sask, canada]</td>\n",
              "    </tr>\n",
              "    <tr>\n",
              "      <th>2</th>\n",
              "      <td>All residents asked to 'shelter in place' are ...</td>\n",
              "      <td>1</td>\n",
              "      <td>all residents asked to shelter in place are be...</td>\n",
              "      <td>[all, residents, asked, to, shelter, in, place...</td>\n",
              "    </tr>\n",
              "    <tr>\n",
              "      <th>3</th>\n",
              "      <td>13,000 people receive #wildfires evacuation or...</td>\n",
              "      <td>1</td>\n",
              "      <td>13000 people receive wildfires evacuation orde...</td>\n",
              "      <td>[13000, people, receive, wildfires, evacuation...</td>\n",
              "    </tr>\n",
              "    <tr>\n",
              "      <th>4</th>\n",
              "      <td>Just got sent this photo from Ruby #Alaska as ...</td>\n",
              "      <td>1</td>\n",
              "      <td>just got sent this photo from ruby alaska as s...</td>\n",
              "      <td>[just, got, sent, this, photo, from, ruby, ala...</td>\n",
              "    </tr>\n",
              "  </tbody>\n",
              "</table>\n",
              "</div>\n",
              "      <button class=\"colab-df-convert\" onclick=\"convertToInteractive('df-4faf5b13-b168-44cd-b9d3-e3b979802e85')\"\n",
              "              title=\"Convert this dataframe to an interactive table.\"\n",
              "              style=\"display:none;\">\n",
              "        \n",
              "  <svg xmlns=\"http://www.w3.org/2000/svg\" height=\"24px\"viewBox=\"0 0 24 24\"\n",
              "       width=\"24px\">\n",
              "    <path d=\"M0 0h24v24H0V0z\" fill=\"none\"/>\n",
              "    <path d=\"M18.56 5.44l.94 2.06.94-2.06 2.06-.94-2.06-.94-.94-2.06-.94 2.06-2.06.94zm-11 1L8.5 8.5l.94-2.06 2.06-.94-2.06-.94L8.5 2.5l-.94 2.06-2.06.94zm10 10l.94 2.06.94-2.06 2.06-.94-2.06-.94-.94-2.06-.94 2.06-2.06.94z\"/><path d=\"M17.41 7.96l-1.37-1.37c-.4-.4-.92-.59-1.43-.59-.52 0-1.04.2-1.43.59L10.3 9.45l-7.72 7.72c-.78.78-.78 2.05 0 2.83L4 21.41c.39.39.9.59 1.41.59.51 0 1.02-.2 1.41-.59l7.78-7.78 2.81-2.81c.8-.78.8-2.07 0-2.86zM5.41 20L4 18.59l7.72-7.72 1.47 1.35L5.41 20z\"/>\n",
              "  </svg>\n",
              "      </button>\n",
              "      \n",
              "  <style>\n",
              "    .colab-df-container {\n",
              "      display:flex;\n",
              "      flex-wrap:wrap;\n",
              "      gap: 12px;\n",
              "    }\n",
              "\n",
              "    .colab-df-convert {\n",
              "      background-color: #E8F0FE;\n",
              "      border: none;\n",
              "      border-radius: 50%;\n",
              "      cursor: pointer;\n",
              "      display: none;\n",
              "      fill: #1967D2;\n",
              "      height: 32px;\n",
              "      padding: 0 0 0 0;\n",
              "      width: 32px;\n",
              "    }\n",
              "\n",
              "    .colab-df-convert:hover {\n",
              "      background-color: #E2EBFA;\n",
              "      box-shadow: 0px 1px 2px rgba(60, 64, 67, 0.3), 0px 1px 3px 1px rgba(60, 64, 67, 0.15);\n",
              "      fill: #174EA6;\n",
              "    }\n",
              "\n",
              "    [theme=dark] .colab-df-convert {\n",
              "      background-color: #3B4455;\n",
              "      fill: #D2E3FC;\n",
              "    }\n",
              "\n",
              "    [theme=dark] .colab-df-convert:hover {\n",
              "      background-color: #434B5C;\n",
              "      box-shadow: 0px 1px 3px 1px rgba(0, 0, 0, 0.15);\n",
              "      filter: drop-shadow(0px 1px 2px rgba(0, 0, 0, 0.3));\n",
              "      fill: #FFFFFF;\n",
              "    }\n",
              "  </style>\n",
              "\n",
              "      <script>\n",
              "        const buttonEl =\n",
              "          document.querySelector('#df-4faf5b13-b168-44cd-b9d3-e3b979802e85 button.colab-df-convert');\n",
              "        buttonEl.style.display =\n",
              "          google.colab.kernel.accessAllowed ? 'block' : 'none';\n",
              "\n",
              "        async function convertToInteractive(key) {\n",
              "          const element = document.querySelector('#df-4faf5b13-b168-44cd-b9d3-e3b979802e85');\n",
              "          const dataTable =\n",
              "            await google.colab.kernel.invokeFunction('convertToInteractive',\n",
              "                                                     [key], {});\n",
              "          if (!dataTable) return;\n",
              "\n",
              "          const docLinkHtml = 'Like what you see? Visit the ' +\n",
              "            '<a target=\"_blank\" href=https://colab.research.google.com/notebooks/data_table.ipynb>data table notebook</a>'\n",
              "            + ' to learn more about interactive tables.';\n",
              "          element.innerHTML = '';\n",
              "          dataTable['output_type'] = 'display_data';\n",
              "          await google.colab.output.renderOutput(dataTable, element);\n",
              "          const docLink = document.createElement('div');\n",
              "          docLink.innerHTML = docLinkHtml;\n",
              "          element.appendChild(docLink);\n",
              "        }\n",
              "      </script>\n",
              "    </div>\n",
              "  </div>\n",
              "  "
            ]
          },
          "metadata": {}
        }
      ]
    },
    {
      "cell_type": "markdown",
      "source": [
        "**Remove Stopwords**"
      ],
      "metadata": {
        "id": "a-KdADJG7tpi"
      }
    },
    {
      "cell_type": "code",
      "source": [
        "stop = set(stopwords.words('english'))\n",
        "df['RemoveStopWords'] = df['TokenizedText'].apply(lambda x: [word for word in x if word not in stop])\n",
        "df.head()\n"
      ],
      "metadata": {
        "id": "aq8jzigo7v8E",
        "colab": {
          "base_uri": "https://localhost:8080/",
          "height": 376
        },
        "outputId": "098cd712-6d1f-49ba-fb74-14abb4106ebb"
      },
      "execution_count": 24,
      "outputs": [
        {
          "output_type": "execute_result",
          "data": {
            "text/plain": [
              "                                                text  target  \\\n",
              "0  Our Deeds are the Reason of this #earthquake M...       1   \n",
              "1             Forest fire near La Ronge Sask. Canada       1   \n",
              "2  All residents asked to 'shelter in place' are ...       1   \n",
              "3  13,000 people receive #wildfires evacuation or...       1   \n",
              "4  Just got sent this photo from Ruby #Alaska as ...       1   \n",
              "\n",
              "                                           CleanText  \\\n",
              "0  our deeds are the reason of this earthquake ma...   \n",
              "1              forest fire near la ronge sask canada   \n",
              "2  all residents asked to shelter in place are be...   \n",
              "3  13000 people receive wildfires evacuation orde...   \n",
              "4  just got sent this photo from ruby alaska as s...   \n",
              "\n",
              "                                       TokenizedText  \\\n",
              "0  [our, deeds, are, the, reason, of, this, earth...   \n",
              "1      [forest, fire, near, la, ronge, sask, canada]   \n",
              "2  [all, residents, asked, to, shelter, in, place...   \n",
              "3  [13000, people, receive, wildfires, evacuation...   \n",
              "4  [just, got, sent, this, photo, from, ruby, ala...   \n",
              "\n",
              "                                     RemoveStopWords  \n",
              "0  [deeds, reason, earthquake, may, allah, forgiv...  \n",
              "1      [forest, fire, near, la, ronge, sask, canada]  \n",
              "2  [residents, asked, shelter, place, notified, o...  \n",
              "3  [13000, people, receive, wildfires, evacuation...  \n",
              "4  [got, sent, photo, ruby, alaska, smoke, wildfi...  "
            ],
            "text/html": [
              "\n",
              "  <div id=\"df-6dbc018e-dbd0-424b-b616-f698e53c7918\">\n",
              "    <div class=\"colab-df-container\">\n",
              "      <div>\n",
              "<style scoped>\n",
              "    .dataframe tbody tr th:only-of-type {\n",
              "        vertical-align: middle;\n",
              "    }\n",
              "\n",
              "    .dataframe tbody tr th {\n",
              "        vertical-align: top;\n",
              "    }\n",
              "\n",
              "    .dataframe thead th {\n",
              "        text-align: right;\n",
              "    }\n",
              "</style>\n",
              "<table border=\"1\" class=\"dataframe\">\n",
              "  <thead>\n",
              "    <tr style=\"text-align: right;\">\n",
              "      <th></th>\n",
              "      <th>text</th>\n",
              "      <th>target</th>\n",
              "      <th>CleanText</th>\n",
              "      <th>TokenizedText</th>\n",
              "      <th>RemoveStopWords</th>\n",
              "    </tr>\n",
              "  </thead>\n",
              "  <tbody>\n",
              "    <tr>\n",
              "      <th>0</th>\n",
              "      <td>Our Deeds are the Reason of this #earthquake M...</td>\n",
              "      <td>1</td>\n",
              "      <td>our deeds are the reason of this earthquake ma...</td>\n",
              "      <td>[our, deeds, are, the, reason, of, this, earth...</td>\n",
              "      <td>[deeds, reason, earthquake, may, allah, forgiv...</td>\n",
              "    </tr>\n",
              "    <tr>\n",
              "      <th>1</th>\n",
              "      <td>Forest fire near La Ronge Sask. Canada</td>\n",
              "      <td>1</td>\n",
              "      <td>forest fire near la ronge sask canada</td>\n",
              "      <td>[forest, fire, near, la, ronge, sask, canada]</td>\n",
              "      <td>[forest, fire, near, la, ronge, sask, canada]</td>\n",
              "    </tr>\n",
              "    <tr>\n",
              "      <th>2</th>\n",
              "      <td>All residents asked to 'shelter in place' are ...</td>\n",
              "      <td>1</td>\n",
              "      <td>all residents asked to shelter in place are be...</td>\n",
              "      <td>[all, residents, asked, to, shelter, in, place...</td>\n",
              "      <td>[residents, asked, shelter, place, notified, o...</td>\n",
              "    </tr>\n",
              "    <tr>\n",
              "      <th>3</th>\n",
              "      <td>13,000 people receive #wildfires evacuation or...</td>\n",
              "      <td>1</td>\n",
              "      <td>13000 people receive wildfires evacuation orde...</td>\n",
              "      <td>[13000, people, receive, wildfires, evacuation...</td>\n",
              "      <td>[13000, people, receive, wildfires, evacuation...</td>\n",
              "    </tr>\n",
              "    <tr>\n",
              "      <th>4</th>\n",
              "      <td>Just got sent this photo from Ruby #Alaska as ...</td>\n",
              "      <td>1</td>\n",
              "      <td>just got sent this photo from ruby alaska as s...</td>\n",
              "      <td>[just, got, sent, this, photo, from, ruby, ala...</td>\n",
              "      <td>[got, sent, photo, ruby, alaska, smoke, wildfi...</td>\n",
              "    </tr>\n",
              "  </tbody>\n",
              "</table>\n",
              "</div>\n",
              "      <button class=\"colab-df-convert\" onclick=\"convertToInteractive('df-6dbc018e-dbd0-424b-b616-f698e53c7918')\"\n",
              "              title=\"Convert this dataframe to an interactive table.\"\n",
              "              style=\"display:none;\">\n",
              "        \n",
              "  <svg xmlns=\"http://www.w3.org/2000/svg\" height=\"24px\"viewBox=\"0 0 24 24\"\n",
              "       width=\"24px\">\n",
              "    <path d=\"M0 0h24v24H0V0z\" fill=\"none\"/>\n",
              "    <path d=\"M18.56 5.44l.94 2.06.94-2.06 2.06-.94-2.06-.94-.94-2.06-.94 2.06-2.06.94zm-11 1L8.5 8.5l.94-2.06 2.06-.94-2.06-.94L8.5 2.5l-.94 2.06-2.06.94zm10 10l.94 2.06.94-2.06 2.06-.94-2.06-.94-.94-2.06-.94 2.06-2.06.94z\"/><path d=\"M17.41 7.96l-1.37-1.37c-.4-.4-.92-.59-1.43-.59-.52 0-1.04.2-1.43.59L10.3 9.45l-7.72 7.72c-.78.78-.78 2.05 0 2.83L4 21.41c.39.39.9.59 1.41.59.51 0 1.02-.2 1.41-.59l7.78-7.78 2.81-2.81c.8-.78.8-2.07 0-2.86zM5.41 20L4 18.59l7.72-7.72 1.47 1.35L5.41 20z\"/>\n",
              "  </svg>\n",
              "      </button>\n",
              "      \n",
              "  <style>\n",
              "    .colab-df-container {\n",
              "      display:flex;\n",
              "      flex-wrap:wrap;\n",
              "      gap: 12px;\n",
              "    }\n",
              "\n",
              "    .colab-df-convert {\n",
              "      background-color: #E8F0FE;\n",
              "      border: none;\n",
              "      border-radius: 50%;\n",
              "      cursor: pointer;\n",
              "      display: none;\n",
              "      fill: #1967D2;\n",
              "      height: 32px;\n",
              "      padding: 0 0 0 0;\n",
              "      width: 32px;\n",
              "    }\n",
              "\n",
              "    .colab-df-convert:hover {\n",
              "      background-color: #E2EBFA;\n",
              "      box-shadow: 0px 1px 2px rgba(60, 64, 67, 0.3), 0px 1px 3px 1px rgba(60, 64, 67, 0.15);\n",
              "      fill: #174EA6;\n",
              "    }\n",
              "\n",
              "    [theme=dark] .colab-df-convert {\n",
              "      background-color: #3B4455;\n",
              "      fill: #D2E3FC;\n",
              "    }\n",
              "\n",
              "    [theme=dark] .colab-df-convert:hover {\n",
              "      background-color: #434B5C;\n",
              "      box-shadow: 0px 1px 3px 1px rgba(0, 0, 0, 0.15);\n",
              "      filter: drop-shadow(0px 1px 2px rgba(0, 0, 0, 0.3));\n",
              "      fill: #FFFFFF;\n",
              "    }\n",
              "  </style>\n",
              "\n",
              "      <script>\n",
              "        const buttonEl =\n",
              "          document.querySelector('#df-6dbc018e-dbd0-424b-b616-f698e53c7918 button.colab-df-convert');\n",
              "        buttonEl.style.display =\n",
              "          google.colab.kernel.accessAllowed ? 'block' : 'none';\n",
              "\n",
              "        async function convertToInteractive(key) {\n",
              "          const element = document.querySelector('#df-6dbc018e-dbd0-424b-b616-f698e53c7918');\n",
              "          const dataTable =\n",
              "            await google.colab.kernel.invokeFunction('convertToInteractive',\n",
              "                                                     [key], {});\n",
              "          if (!dataTable) return;\n",
              "\n",
              "          const docLinkHtml = 'Like what you see? Visit the ' +\n",
              "            '<a target=\"_blank\" href=https://colab.research.google.com/notebooks/data_table.ipynb>data table notebook</a>'\n",
              "            + ' to learn more about interactive tables.';\n",
              "          element.innerHTML = '';\n",
              "          dataTable['output_type'] = 'display_data';\n",
              "          await google.colab.output.renderOutput(dataTable, element);\n",
              "          const docLink = document.createElement('div');\n",
              "          docLink.innerHTML = docLinkHtml;\n",
              "          element.appendChild(docLink);\n",
              "        }\n",
              "      </script>\n",
              "    </div>\n",
              "  </div>\n",
              "  "
            ]
          },
          "metadata": {},
          "execution_count": 24
        }
      ]
    },
    {
      "cell_type": "markdown",
      "source": [
        "**PorterStemmer**\n",
        "\n",
        "What is PorterStemmer in NLP?\n",
        "Stemming is the process of reducing a word to its word stem that affixes to suffixes and prefixes or to the roots of words known as a lemma. Stemming is important in natural language understanding (NLU) and natural language processing (NLP)."
      ],
      "metadata": {
        "id": "ZRl6Qflk7_T3"
      }
    },
    {
      "cell_type": "code",
      "source": [
        "def doPorterStemmer(text):\n",
        "    stemmer = nltk.PorterStemmer()\n",
        "    stems = [stemmer.stem(i) for i in text]\n",
        "    return stems\n",
        "\n",
        "df['PorterStemmer'] = df['RemoveStopWords'].apply(lambda x: doPorterStemmer(x))\n",
        "df.head()"
      ],
      "metadata": {
        "id": "Z2zd2DeU7956",
        "colab": {
          "base_uri": "https://localhost:8080/",
          "height": 409
        },
        "outputId": "b4215120-1073-473c-a7ea-346dd2f7f99c"
      },
      "execution_count": 25,
      "outputs": [
        {
          "output_type": "execute_result",
          "data": {
            "text/plain": [
              "                                                text  target  \\\n",
              "0  Our Deeds are the Reason of this #earthquake M...       1   \n",
              "1             Forest fire near La Ronge Sask. Canada       1   \n",
              "2  All residents asked to 'shelter in place' are ...       1   \n",
              "3  13,000 people receive #wildfires evacuation or...       1   \n",
              "4  Just got sent this photo from Ruby #Alaska as ...       1   \n",
              "\n",
              "                                           CleanText  \\\n",
              "0  our deeds are the reason of this earthquake ma...   \n",
              "1              forest fire near la ronge sask canada   \n",
              "2  all residents asked to shelter in place are be...   \n",
              "3  13000 people receive wildfires evacuation orde...   \n",
              "4  just got sent this photo from ruby alaska as s...   \n",
              "\n",
              "                                       TokenizedText  \\\n",
              "0  [our, deeds, are, the, reason, of, this, earth...   \n",
              "1      [forest, fire, near, la, ronge, sask, canada]   \n",
              "2  [all, residents, asked, to, shelter, in, place...   \n",
              "3  [13000, people, receive, wildfires, evacuation...   \n",
              "4  [just, got, sent, this, photo, from, ruby, ala...   \n",
              "\n",
              "                                     RemoveStopWords  \\\n",
              "0  [deeds, reason, earthquake, may, allah, forgiv...   \n",
              "1      [forest, fire, near, la, ronge, sask, canada]   \n",
              "2  [residents, asked, shelter, place, notified, o...   \n",
              "3  [13000, people, receive, wildfires, evacuation...   \n",
              "4  [got, sent, photo, ruby, alaska, smoke, wildfi...   \n",
              "\n",
              "                                       PorterStemmer  \n",
              "0  [deed, reason, earthquak, may, allah, forgiv, us]  \n",
              "1       [forest, fire, near, la, rong, sask, canada]  \n",
              "2  [resid, ask, shelter, place, notifi, offic, ev...  \n",
              "3  [13000, peopl, receiv, wildfir, evacu, order, ...  \n",
              "4  [got, sent, photo, rubi, alaska, smoke, wildfi...  "
            ],
            "text/html": [
              "\n",
              "  <div id=\"df-f5bfa8ac-f727-42ee-bcfa-851fee2a4b78\">\n",
              "    <div class=\"colab-df-container\">\n",
              "      <div>\n",
              "<style scoped>\n",
              "    .dataframe tbody tr th:only-of-type {\n",
              "        vertical-align: middle;\n",
              "    }\n",
              "\n",
              "    .dataframe tbody tr th {\n",
              "        vertical-align: top;\n",
              "    }\n",
              "\n",
              "    .dataframe thead th {\n",
              "        text-align: right;\n",
              "    }\n",
              "</style>\n",
              "<table border=\"1\" class=\"dataframe\">\n",
              "  <thead>\n",
              "    <tr style=\"text-align: right;\">\n",
              "      <th></th>\n",
              "      <th>text</th>\n",
              "      <th>target</th>\n",
              "      <th>CleanText</th>\n",
              "      <th>TokenizedText</th>\n",
              "      <th>RemoveStopWords</th>\n",
              "      <th>PorterStemmer</th>\n",
              "    </tr>\n",
              "  </thead>\n",
              "  <tbody>\n",
              "    <tr>\n",
              "      <th>0</th>\n",
              "      <td>Our Deeds are the Reason of this #earthquake M...</td>\n",
              "      <td>1</td>\n",
              "      <td>our deeds are the reason of this earthquake ma...</td>\n",
              "      <td>[our, deeds, are, the, reason, of, this, earth...</td>\n",
              "      <td>[deeds, reason, earthquake, may, allah, forgiv...</td>\n",
              "      <td>[deed, reason, earthquak, may, allah, forgiv, us]</td>\n",
              "    </tr>\n",
              "    <tr>\n",
              "      <th>1</th>\n",
              "      <td>Forest fire near La Ronge Sask. Canada</td>\n",
              "      <td>1</td>\n",
              "      <td>forest fire near la ronge sask canada</td>\n",
              "      <td>[forest, fire, near, la, ronge, sask, canada]</td>\n",
              "      <td>[forest, fire, near, la, ronge, sask, canada]</td>\n",
              "      <td>[forest, fire, near, la, rong, sask, canada]</td>\n",
              "    </tr>\n",
              "    <tr>\n",
              "      <th>2</th>\n",
              "      <td>All residents asked to 'shelter in place' are ...</td>\n",
              "      <td>1</td>\n",
              "      <td>all residents asked to shelter in place are be...</td>\n",
              "      <td>[all, residents, asked, to, shelter, in, place...</td>\n",
              "      <td>[residents, asked, shelter, place, notified, o...</td>\n",
              "      <td>[resid, ask, shelter, place, notifi, offic, ev...</td>\n",
              "    </tr>\n",
              "    <tr>\n",
              "      <th>3</th>\n",
              "      <td>13,000 people receive #wildfires evacuation or...</td>\n",
              "      <td>1</td>\n",
              "      <td>13000 people receive wildfires evacuation orde...</td>\n",
              "      <td>[13000, people, receive, wildfires, evacuation...</td>\n",
              "      <td>[13000, people, receive, wildfires, evacuation...</td>\n",
              "      <td>[13000, peopl, receiv, wildfir, evacu, order, ...</td>\n",
              "    </tr>\n",
              "    <tr>\n",
              "      <th>4</th>\n",
              "      <td>Just got sent this photo from Ruby #Alaska as ...</td>\n",
              "      <td>1</td>\n",
              "      <td>just got sent this photo from ruby alaska as s...</td>\n",
              "      <td>[just, got, sent, this, photo, from, ruby, ala...</td>\n",
              "      <td>[got, sent, photo, ruby, alaska, smoke, wildfi...</td>\n",
              "      <td>[got, sent, photo, rubi, alaska, smoke, wildfi...</td>\n",
              "    </tr>\n",
              "  </tbody>\n",
              "</table>\n",
              "</div>\n",
              "      <button class=\"colab-df-convert\" onclick=\"convertToInteractive('df-f5bfa8ac-f727-42ee-bcfa-851fee2a4b78')\"\n",
              "              title=\"Convert this dataframe to an interactive table.\"\n",
              "              style=\"display:none;\">\n",
              "        \n",
              "  <svg xmlns=\"http://www.w3.org/2000/svg\" height=\"24px\"viewBox=\"0 0 24 24\"\n",
              "       width=\"24px\">\n",
              "    <path d=\"M0 0h24v24H0V0z\" fill=\"none\"/>\n",
              "    <path d=\"M18.56 5.44l.94 2.06.94-2.06 2.06-.94-2.06-.94-.94-2.06-.94 2.06-2.06.94zm-11 1L8.5 8.5l.94-2.06 2.06-.94-2.06-.94L8.5 2.5l-.94 2.06-2.06.94zm10 10l.94 2.06.94-2.06 2.06-.94-2.06-.94-.94-2.06-.94 2.06-2.06.94z\"/><path d=\"M17.41 7.96l-1.37-1.37c-.4-.4-.92-.59-1.43-.59-.52 0-1.04.2-1.43.59L10.3 9.45l-7.72 7.72c-.78.78-.78 2.05 0 2.83L4 21.41c.39.39.9.59 1.41.59.51 0 1.02-.2 1.41-.59l7.78-7.78 2.81-2.81c.8-.78.8-2.07 0-2.86zM5.41 20L4 18.59l7.72-7.72 1.47 1.35L5.41 20z\"/>\n",
              "  </svg>\n",
              "      </button>\n",
              "      \n",
              "  <style>\n",
              "    .colab-df-container {\n",
              "      display:flex;\n",
              "      flex-wrap:wrap;\n",
              "      gap: 12px;\n",
              "    }\n",
              "\n",
              "    .colab-df-convert {\n",
              "      background-color: #E8F0FE;\n",
              "      border: none;\n",
              "      border-radius: 50%;\n",
              "      cursor: pointer;\n",
              "      display: none;\n",
              "      fill: #1967D2;\n",
              "      height: 32px;\n",
              "      padding: 0 0 0 0;\n",
              "      width: 32px;\n",
              "    }\n",
              "\n",
              "    .colab-df-convert:hover {\n",
              "      background-color: #E2EBFA;\n",
              "      box-shadow: 0px 1px 2px rgba(60, 64, 67, 0.3), 0px 1px 3px 1px rgba(60, 64, 67, 0.15);\n",
              "      fill: #174EA6;\n",
              "    }\n",
              "\n",
              "    [theme=dark] .colab-df-convert {\n",
              "      background-color: #3B4455;\n",
              "      fill: #D2E3FC;\n",
              "    }\n",
              "\n",
              "    [theme=dark] .colab-df-convert:hover {\n",
              "      background-color: #434B5C;\n",
              "      box-shadow: 0px 1px 3px 1px rgba(0, 0, 0, 0.15);\n",
              "      filter: drop-shadow(0px 1px 2px rgba(0, 0, 0, 0.3));\n",
              "      fill: #FFFFFF;\n",
              "    }\n",
              "  </style>\n",
              "\n",
              "      <script>\n",
              "        const buttonEl =\n",
              "          document.querySelector('#df-f5bfa8ac-f727-42ee-bcfa-851fee2a4b78 button.colab-df-convert');\n",
              "        buttonEl.style.display =\n",
              "          google.colab.kernel.accessAllowed ? 'block' : 'none';\n",
              "\n",
              "        async function convertToInteractive(key) {\n",
              "          const element = document.querySelector('#df-f5bfa8ac-f727-42ee-bcfa-851fee2a4b78');\n",
              "          const dataTable =\n",
              "            await google.colab.kernel.invokeFunction('convertToInteractive',\n",
              "                                                     [key], {});\n",
              "          if (!dataTable) return;\n",
              "\n",
              "          const docLinkHtml = 'Like what you see? Visit the ' +\n",
              "            '<a target=\"_blank\" href=https://colab.research.google.com/notebooks/data_table.ipynb>data table notebook</a>'\n",
              "            + ' to learn more about interactive tables.';\n",
              "          element.innerHTML = '';\n",
              "          dataTable['output_type'] = 'display_data';\n",
              "          await google.colab.output.renderOutput(dataTable, element);\n",
              "          const docLink = document.createElement('div');\n",
              "          docLink.innerHTML = docLinkHtml;\n",
              "          element.appendChild(docLink);\n",
              "        }\n",
              "      </script>\n",
              "    </div>\n",
              "  </div>\n",
              "  "
            ]
          },
          "metadata": {},
          "execution_count": 25
        }
      ]
    },
    {
      "cell_type": "markdown",
      "source": [
        "**WordNetLemmatizer**\n",
        "\n",
        "Lemmatization is the process of grouping together the different inflected forms of a word so they can be analyzed as a single item. Lemmatization is similar to stemming but it brings context to the words. So it links words with similar meanings to one word."
      ],
      "metadata": {
        "id": "RP1JDYhq8dSB"
      }
    },
    {
      "cell_type": "code",
      "source": [
        "def doLemmatizeWord(text):\n",
        "    lemmatizer = WordNetLemmatizer()\n",
        "    lemma = [lemmatizer.lemmatize(word) for word in text]\n",
        "    return lemma\n",
        "\n",
        "df['LemmatizedText'] = df['RemoveStopWords'].apply(lambda x: doLemmatizeWord(x))\n",
        "df.head()\n"
      ],
      "metadata": {
        "id": "GrIqpX6e8Ta_",
        "colab": {
          "base_uri": "https://localhost:8080/",
          "height": 643
        },
        "outputId": "aeab3bdd-643a-43aa-9f21-b2ea20bd5cd1"
      },
      "execution_count": 26,
      "outputs": [
        {
          "output_type": "execute_result",
          "data": {
            "text/plain": [
              "                                                text  target  \\\n",
              "0  Our Deeds are the Reason of this #earthquake M...       1   \n",
              "1             Forest fire near La Ronge Sask. Canada       1   \n",
              "2  All residents asked to 'shelter in place' are ...       1   \n",
              "3  13,000 people receive #wildfires evacuation or...       1   \n",
              "4  Just got sent this photo from Ruby #Alaska as ...       1   \n",
              "\n",
              "                                           CleanText  \\\n",
              "0  our deeds are the reason of this earthquake ma...   \n",
              "1              forest fire near la ronge sask canada   \n",
              "2  all residents asked to shelter in place are be...   \n",
              "3  13000 people receive wildfires evacuation orde...   \n",
              "4  just got sent this photo from ruby alaska as s...   \n",
              "\n",
              "                                       TokenizedText  \\\n",
              "0  [our, deeds, are, the, reason, of, this, earth...   \n",
              "1      [forest, fire, near, la, ronge, sask, canada]   \n",
              "2  [all, residents, asked, to, shelter, in, place...   \n",
              "3  [13000, people, receive, wildfires, evacuation...   \n",
              "4  [just, got, sent, this, photo, from, ruby, ala...   \n",
              "\n",
              "                                     RemoveStopWords  \\\n",
              "0  [deeds, reason, earthquake, may, allah, forgiv...   \n",
              "1      [forest, fire, near, la, ronge, sask, canada]   \n",
              "2  [residents, asked, shelter, place, notified, o...   \n",
              "3  [13000, people, receive, wildfires, evacuation...   \n",
              "4  [got, sent, photo, ruby, alaska, smoke, wildfi...   \n",
              "\n",
              "                                       PorterStemmer  \\\n",
              "0  [deed, reason, earthquak, may, allah, forgiv, us]   \n",
              "1       [forest, fire, near, la, rong, sask, canada]   \n",
              "2  [resid, ask, shelter, place, notifi, offic, ev...   \n",
              "3  [13000, peopl, receiv, wildfir, evacu, order, ...   \n",
              "4  [got, sent, photo, rubi, alaska, smoke, wildfi...   \n",
              "\n",
              "                                      LemmatizedText  \n",
              "0  [deed, reason, earthquake, may, allah, forgive...  \n",
              "1      [forest, fire, near, la, ronge, sask, canada]  \n",
              "2  [resident, asked, shelter, place, notified, of...  \n",
              "3  [13000, people, receive, wildfire, evacuation,...  \n",
              "4  [got, sent, photo, ruby, alaska, smoke, wildfi...  "
            ],
            "text/html": [
              "\n",
              "  <div id=\"df-51ac6fad-a2f0-4cc8-b4be-73784566f7bd\">\n",
              "    <div class=\"colab-df-container\">\n",
              "      <div>\n",
              "<style scoped>\n",
              "    .dataframe tbody tr th:only-of-type {\n",
              "        vertical-align: middle;\n",
              "    }\n",
              "\n",
              "    .dataframe tbody tr th {\n",
              "        vertical-align: top;\n",
              "    }\n",
              "\n",
              "    .dataframe thead th {\n",
              "        text-align: right;\n",
              "    }\n",
              "</style>\n",
              "<table border=\"1\" class=\"dataframe\">\n",
              "  <thead>\n",
              "    <tr style=\"text-align: right;\">\n",
              "      <th></th>\n",
              "      <th>text</th>\n",
              "      <th>target</th>\n",
              "      <th>CleanText</th>\n",
              "      <th>TokenizedText</th>\n",
              "      <th>RemoveStopWords</th>\n",
              "      <th>PorterStemmer</th>\n",
              "      <th>LemmatizedText</th>\n",
              "    </tr>\n",
              "  </thead>\n",
              "  <tbody>\n",
              "    <tr>\n",
              "      <th>0</th>\n",
              "      <td>Our Deeds are the Reason of this #earthquake M...</td>\n",
              "      <td>1</td>\n",
              "      <td>our deeds are the reason of this earthquake ma...</td>\n",
              "      <td>[our, deeds, are, the, reason, of, this, earth...</td>\n",
              "      <td>[deeds, reason, earthquake, may, allah, forgiv...</td>\n",
              "      <td>[deed, reason, earthquak, may, allah, forgiv, us]</td>\n",
              "      <td>[deed, reason, earthquake, may, allah, forgive...</td>\n",
              "    </tr>\n",
              "    <tr>\n",
              "      <th>1</th>\n",
              "      <td>Forest fire near La Ronge Sask. Canada</td>\n",
              "      <td>1</td>\n",
              "      <td>forest fire near la ronge sask canada</td>\n",
              "      <td>[forest, fire, near, la, ronge, sask, canada]</td>\n",
              "      <td>[forest, fire, near, la, ronge, sask, canada]</td>\n",
              "      <td>[forest, fire, near, la, rong, sask, canada]</td>\n",
              "      <td>[forest, fire, near, la, ronge, sask, canada]</td>\n",
              "    </tr>\n",
              "    <tr>\n",
              "      <th>2</th>\n",
              "      <td>All residents asked to 'shelter in place' are ...</td>\n",
              "      <td>1</td>\n",
              "      <td>all residents asked to shelter in place are be...</td>\n",
              "      <td>[all, residents, asked, to, shelter, in, place...</td>\n",
              "      <td>[residents, asked, shelter, place, notified, o...</td>\n",
              "      <td>[resid, ask, shelter, place, notifi, offic, ev...</td>\n",
              "      <td>[resident, asked, shelter, place, notified, of...</td>\n",
              "    </tr>\n",
              "    <tr>\n",
              "      <th>3</th>\n",
              "      <td>13,000 people receive #wildfires evacuation or...</td>\n",
              "      <td>1</td>\n",
              "      <td>13000 people receive wildfires evacuation orde...</td>\n",
              "      <td>[13000, people, receive, wildfires, evacuation...</td>\n",
              "      <td>[13000, people, receive, wildfires, evacuation...</td>\n",
              "      <td>[13000, peopl, receiv, wildfir, evacu, order, ...</td>\n",
              "      <td>[13000, people, receive, wildfire, evacuation,...</td>\n",
              "    </tr>\n",
              "    <tr>\n",
              "      <th>4</th>\n",
              "      <td>Just got sent this photo from Ruby #Alaska as ...</td>\n",
              "      <td>1</td>\n",
              "      <td>just got sent this photo from ruby alaska as s...</td>\n",
              "      <td>[just, got, sent, this, photo, from, ruby, ala...</td>\n",
              "      <td>[got, sent, photo, ruby, alaska, smoke, wildfi...</td>\n",
              "      <td>[got, sent, photo, rubi, alaska, smoke, wildfi...</td>\n",
              "      <td>[got, sent, photo, ruby, alaska, smoke, wildfi...</td>\n",
              "    </tr>\n",
              "  </tbody>\n",
              "</table>\n",
              "</div>\n",
              "      <button class=\"colab-df-convert\" onclick=\"convertToInteractive('df-51ac6fad-a2f0-4cc8-b4be-73784566f7bd')\"\n",
              "              title=\"Convert this dataframe to an interactive table.\"\n",
              "              style=\"display:none;\">\n",
              "        \n",
              "  <svg xmlns=\"http://www.w3.org/2000/svg\" height=\"24px\"viewBox=\"0 0 24 24\"\n",
              "       width=\"24px\">\n",
              "    <path d=\"M0 0h24v24H0V0z\" fill=\"none\"/>\n",
              "    <path d=\"M18.56 5.44l.94 2.06.94-2.06 2.06-.94-2.06-.94-.94-2.06-.94 2.06-2.06.94zm-11 1L8.5 8.5l.94-2.06 2.06-.94-2.06-.94L8.5 2.5l-.94 2.06-2.06.94zm10 10l.94 2.06.94-2.06 2.06-.94-2.06-.94-.94-2.06-.94 2.06-2.06.94z\"/><path d=\"M17.41 7.96l-1.37-1.37c-.4-.4-.92-.59-1.43-.59-.52 0-1.04.2-1.43.59L10.3 9.45l-7.72 7.72c-.78.78-.78 2.05 0 2.83L4 21.41c.39.39.9.59 1.41.59.51 0 1.02-.2 1.41-.59l7.78-7.78 2.81-2.81c.8-.78.8-2.07 0-2.86zM5.41 20L4 18.59l7.72-7.72 1.47 1.35L5.41 20z\"/>\n",
              "  </svg>\n",
              "      </button>\n",
              "      \n",
              "  <style>\n",
              "    .colab-df-container {\n",
              "      display:flex;\n",
              "      flex-wrap:wrap;\n",
              "      gap: 12px;\n",
              "    }\n",
              "\n",
              "    .colab-df-convert {\n",
              "      background-color: #E8F0FE;\n",
              "      border: none;\n",
              "      border-radius: 50%;\n",
              "      cursor: pointer;\n",
              "      display: none;\n",
              "      fill: #1967D2;\n",
              "      height: 32px;\n",
              "      padding: 0 0 0 0;\n",
              "      width: 32px;\n",
              "    }\n",
              "\n",
              "    .colab-df-convert:hover {\n",
              "      background-color: #E2EBFA;\n",
              "      box-shadow: 0px 1px 2px rgba(60, 64, 67, 0.3), 0px 1px 3px 1px rgba(60, 64, 67, 0.15);\n",
              "      fill: #174EA6;\n",
              "    }\n",
              "\n",
              "    [theme=dark] .colab-df-convert {\n",
              "      background-color: #3B4455;\n",
              "      fill: #D2E3FC;\n",
              "    }\n",
              "\n",
              "    [theme=dark] .colab-df-convert:hover {\n",
              "      background-color: #434B5C;\n",
              "      box-shadow: 0px 1px 3px 1px rgba(0, 0, 0, 0.15);\n",
              "      filter: drop-shadow(0px 1px 2px rgba(0, 0, 0, 0.3));\n",
              "      fill: #FFFFFF;\n",
              "    }\n",
              "  </style>\n",
              "\n",
              "      <script>\n",
              "        const buttonEl =\n",
              "          document.querySelector('#df-51ac6fad-a2f0-4cc8-b4be-73784566f7bd button.colab-df-convert');\n",
              "        buttonEl.style.display =\n",
              "          google.colab.kernel.accessAllowed ? 'block' : 'none';\n",
              "\n",
              "        async function convertToInteractive(key) {\n",
              "          const element = document.querySelector('#df-51ac6fad-a2f0-4cc8-b4be-73784566f7bd');\n",
              "          const dataTable =\n",
              "            await google.colab.kernel.invokeFunction('convertToInteractive',\n",
              "                                                     [key], {});\n",
              "          if (!dataTable) return;\n",
              "\n",
              "          const docLinkHtml = 'Like what you see? Visit the ' +\n",
              "            '<a target=\"_blank\" href=https://colab.research.google.com/notebooks/data_table.ipynb>data table notebook</a>'\n",
              "            + ' to learn more about interactive tables.';\n",
              "          element.innerHTML = '';\n",
              "          dataTable['output_type'] = 'display_data';\n",
              "          await google.colab.output.renderOutput(dataTable, element);\n",
              "          const docLink = document.createElement('div');\n",
              "          docLink.innerHTML = docLinkHtml;\n",
              "          element.appendChild(docLink);\n",
              "        }\n",
              "      </script>\n",
              "    </div>\n",
              "  </div>\n",
              "  "
            ]
          },
          "metadata": {},
          "execution_count": 26
        }
      ]
    },
    {
      "cell_type": "code",
      "source": [
        "#decide to use WordNetLemmatizer cuz apparently, it is better than stemming.\n",
        "df['FINAL']=df['LemmatizedText'].apply(lambda x: ''.join(i+' ' for i in x))\n",
        "df.head()"
      ],
      "metadata": {
        "id": "rVLNaeSN88VB",
        "colab": {
          "base_uri": "https://localhost:8080/",
          "height": 660
        },
        "outputId": "632bd156-472b-47c2-9711-7bcba4146633"
      },
      "execution_count": 27,
      "outputs": [
        {
          "output_type": "execute_result",
          "data": {
            "text/plain": [
              "                                                text  target  \\\n",
              "0  Our Deeds are the Reason of this #earthquake M...       1   \n",
              "1             Forest fire near La Ronge Sask. Canada       1   \n",
              "2  All residents asked to 'shelter in place' are ...       1   \n",
              "3  13,000 people receive #wildfires evacuation or...       1   \n",
              "4  Just got sent this photo from Ruby #Alaska as ...       1   \n",
              "\n",
              "                                           CleanText  \\\n",
              "0  our deeds are the reason of this earthquake ma...   \n",
              "1              forest fire near la ronge sask canada   \n",
              "2  all residents asked to shelter in place are be...   \n",
              "3  13000 people receive wildfires evacuation orde...   \n",
              "4  just got sent this photo from ruby alaska as s...   \n",
              "\n",
              "                                       TokenizedText  \\\n",
              "0  [our, deeds, are, the, reason, of, this, earth...   \n",
              "1      [forest, fire, near, la, ronge, sask, canada]   \n",
              "2  [all, residents, asked, to, shelter, in, place...   \n",
              "3  [13000, people, receive, wildfires, evacuation...   \n",
              "4  [just, got, sent, this, photo, from, ruby, ala...   \n",
              "\n",
              "                                     RemoveStopWords  \\\n",
              "0  [deeds, reason, earthquake, may, allah, forgiv...   \n",
              "1      [forest, fire, near, la, ronge, sask, canada]   \n",
              "2  [residents, asked, shelter, place, notified, o...   \n",
              "3  [13000, people, receive, wildfires, evacuation...   \n",
              "4  [got, sent, photo, ruby, alaska, smoke, wildfi...   \n",
              "\n",
              "                                       PorterStemmer  \\\n",
              "0  [deed, reason, earthquak, may, allah, forgiv, us]   \n",
              "1       [forest, fire, near, la, rong, sask, canada]   \n",
              "2  [resid, ask, shelter, place, notifi, offic, ev...   \n",
              "3  [13000, peopl, receiv, wildfir, evacu, order, ...   \n",
              "4  [got, sent, photo, rubi, alaska, smoke, wildfi...   \n",
              "\n",
              "                                      LemmatizedText  \\\n",
              "0  [deed, reason, earthquake, may, allah, forgive...   \n",
              "1      [forest, fire, near, la, ronge, sask, canada]   \n",
              "2  [resident, asked, shelter, place, notified, of...   \n",
              "3  [13000, people, receive, wildfire, evacuation,...   \n",
              "4  [got, sent, photo, ruby, alaska, smoke, wildfi...   \n",
              "\n",
              "                                               FINAL  \n",
              "0        deed reason earthquake may allah forgive u   \n",
              "1             forest fire near la ronge sask canada   \n",
              "2  resident asked shelter place notified officer ...  \n",
              "3  13000 people receive wildfire evacuation order...  \n",
              "4  got sent photo ruby alaska smoke wildfire pour...  "
            ],
            "text/html": [
              "\n",
              "  <div id=\"df-4c96f203-b4b0-47aa-bee3-42219addc7b3\">\n",
              "    <div class=\"colab-df-container\">\n",
              "      <div>\n",
              "<style scoped>\n",
              "    .dataframe tbody tr th:only-of-type {\n",
              "        vertical-align: middle;\n",
              "    }\n",
              "\n",
              "    .dataframe tbody tr th {\n",
              "        vertical-align: top;\n",
              "    }\n",
              "\n",
              "    .dataframe thead th {\n",
              "        text-align: right;\n",
              "    }\n",
              "</style>\n",
              "<table border=\"1\" class=\"dataframe\">\n",
              "  <thead>\n",
              "    <tr style=\"text-align: right;\">\n",
              "      <th></th>\n",
              "      <th>text</th>\n",
              "      <th>target</th>\n",
              "      <th>CleanText</th>\n",
              "      <th>TokenizedText</th>\n",
              "      <th>RemoveStopWords</th>\n",
              "      <th>PorterStemmer</th>\n",
              "      <th>LemmatizedText</th>\n",
              "      <th>FINAL</th>\n",
              "    </tr>\n",
              "  </thead>\n",
              "  <tbody>\n",
              "    <tr>\n",
              "      <th>0</th>\n",
              "      <td>Our Deeds are the Reason of this #earthquake M...</td>\n",
              "      <td>1</td>\n",
              "      <td>our deeds are the reason of this earthquake ma...</td>\n",
              "      <td>[our, deeds, are, the, reason, of, this, earth...</td>\n",
              "      <td>[deeds, reason, earthquake, may, allah, forgiv...</td>\n",
              "      <td>[deed, reason, earthquak, may, allah, forgiv, us]</td>\n",
              "      <td>[deed, reason, earthquake, may, allah, forgive...</td>\n",
              "      <td>deed reason earthquake may allah forgive u</td>\n",
              "    </tr>\n",
              "    <tr>\n",
              "      <th>1</th>\n",
              "      <td>Forest fire near La Ronge Sask. Canada</td>\n",
              "      <td>1</td>\n",
              "      <td>forest fire near la ronge sask canada</td>\n",
              "      <td>[forest, fire, near, la, ronge, sask, canada]</td>\n",
              "      <td>[forest, fire, near, la, ronge, sask, canada]</td>\n",
              "      <td>[forest, fire, near, la, rong, sask, canada]</td>\n",
              "      <td>[forest, fire, near, la, ronge, sask, canada]</td>\n",
              "      <td>forest fire near la ronge sask canada</td>\n",
              "    </tr>\n",
              "    <tr>\n",
              "      <th>2</th>\n",
              "      <td>All residents asked to 'shelter in place' are ...</td>\n",
              "      <td>1</td>\n",
              "      <td>all residents asked to shelter in place are be...</td>\n",
              "      <td>[all, residents, asked, to, shelter, in, place...</td>\n",
              "      <td>[residents, asked, shelter, place, notified, o...</td>\n",
              "      <td>[resid, ask, shelter, place, notifi, offic, ev...</td>\n",
              "      <td>[resident, asked, shelter, place, notified, of...</td>\n",
              "      <td>resident asked shelter place notified officer ...</td>\n",
              "    </tr>\n",
              "    <tr>\n",
              "      <th>3</th>\n",
              "      <td>13,000 people receive #wildfires evacuation or...</td>\n",
              "      <td>1</td>\n",
              "      <td>13000 people receive wildfires evacuation orde...</td>\n",
              "      <td>[13000, people, receive, wildfires, evacuation...</td>\n",
              "      <td>[13000, people, receive, wildfires, evacuation...</td>\n",
              "      <td>[13000, peopl, receiv, wildfir, evacu, order, ...</td>\n",
              "      <td>[13000, people, receive, wildfire, evacuation,...</td>\n",
              "      <td>13000 people receive wildfire evacuation order...</td>\n",
              "    </tr>\n",
              "    <tr>\n",
              "      <th>4</th>\n",
              "      <td>Just got sent this photo from Ruby #Alaska as ...</td>\n",
              "      <td>1</td>\n",
              "      <td>just got sent this photo from ruby alaska as s...</td>\n",
              "      <td>[just, got, sent, this, photo, from, ruby, ala...</td>\n",
              "      <td>[got, sent, photo, ruby, alaska, smoke, wildfi...</td>\n",
              "      <td>[got, sent, photo, rubi, alaska, smoke, wildfi...</td>\n",
              "      <td>[got, sent, photo, ruby, alaska, smoke, wildfi...</td>\n",
              "      <td>got sent photo ruby alaska smoke wildfire pour...</td>\n",
              "    </tr>\n",
              "  </tbody>\n",
              "</table>\n",
              "</div>\n",
              "      <button class=\"colab-df-convert\" onclick=\"convertToInteractive('df-4c96f203-b4b0-47aa-bee3-42219addc7b3')\"\n",
              "              title=\"Convert this dataframe to an interactive table.\"\n",
              "              style=\"display:none;\">\n",
              "        \n",
              "  <svg xmlns=\"http://www.w3.org/2000/svg\" height=\"24px\"viewBox=\"0 0 24 24\"\n",
              "       width=\"24px\">\n",
              "    <path d=\"M0 0h24v24H0V0z\" fill=\"none\"/>\n",
              "    <path d=\"M18.56 5.44l.94 2.06.94-2.06 2.06-.94-2.06-.94-.94-2.06-.94 2.06-2.06.94zm-11 1L8.5 8.5l.94-2.06 2.06-.94-2.06-.94L8.5 2.5l-.94 2.06-2.06.94zm10 10l.94 2.06.94-2.06 2.06-.94-2.06-.94-.94-2.06-.94 2.06-2.06.94z\"/><path d=\"M17.41 7.96l-1.37-1.37c-.4-.4-.92-.59-1.43-.59-.52 0-1.04.2-1.43.59L10.3 9.45l-7.72 7.72c-.78.78-.78 2.05 0 2.83L4 21.41c.39.39.9.59 1.41.59.51 0 1.02-.2 1.41-.59l7.78-7.78 2.81-2.81c.8-.78.8-2.07 0-2.86zM5.41 20L4 18.59l7.72-7.72 1.47 1.35L5.41 20z\"/>\n",
              "  </svg>\n",
              "      </button>\n",
              "      \n",
              "  <style>\n",
              "    .colab-df-container {\n",
              "      display:flex;\n",
              "      flex-wrap:wrap;\n",
              "      gap: 12px;\n",
              "    }\n",
              "\n",
              "    .colab-df-convert {\n",
              "      background-color: #E8F0FE;\n",
              "      border: none;\n",
              "      border-radius: 50%;\n",
              "      cursor: pointer;\n",
              "      display: none;\n",
              "      fill: #1967D2;\n",
              "      height: 32px;\n",
              "      padding: 0 0 0 0;\n",
              "      width: 32px;\n",
              "    }\n",
              "\n",
              "    .colab-df-convert:hover {\n",
              "      background-color: #E2EBFA;\n",
              "      box-shadow: 0px 1px 2px rgba(60, 64, 67, 0.3), 0px 1px 3px 1px rgba(60, 64, 67, 0.15);\n",
              "      fill: #174EA6;\n",
              "    }\n",
              "\n",
              "    [theme=dark] .colab-df-convert {\n",
              "      background-color: #3B4455;\n",
              "      fill: #D2E3FC;\n",
              "    }\n",
              "\n",
              "    [theme=dark] .colab-df-convert:hover {\n",
              "      background-color: #434B5C;\n",
              "      box-shadow: 0px 1px 3px 1px rgba(0, 0, 0, 0.15);\n",
              "      filter: drop-shadow(0px 1px 2px rgba(0, 0, 0, 0.3));\n",
              "      fill: #FFFFFF;\n",
              "    }\n",
              "  </style>\n",
              "\n",
              "      <script>\n",
              "        const buttonEl =\n",
              "          document.querySelector('#df-4c96f203-b4b0-47aa-bee3-42219addc7b3 button.colab-df-convert');\n",
              "        buttonEl.style.display =\n",
              "          google.colab.kernel.accessAllowed ? 'block' : 'none';\n",
              "\n",
              "        async function convertToInteractive(key) {\n",
              "          const element = document.querySelector('#df-4c96f203-b4b0-47aa-bee3-42219addc7b3');\n",
              "          const dataTable =\n",
              "            await google.colab.kernel.invokeFunction('convertToInteractive',\n",
              "                                                     [key], {});\n",
              "          if (!dataTable) return;\n",
              "\n",
              "          const docLinkHtml = 'Like what you see? Visit the ' +\n",
              "            '<a target=\"_blank\" href=https://colab.research.google.com/notebooks/data_table.ipynb>data table notebook</a>'\n",
              "            + ' to learn more about interactive tables.';\n",
              "          element.innerHTML = '';\n",
              "          dataTable['output_type'] = 'display_data';\n",
              "          await google.colab.output.renderOutput(dataTable, element);\n",
              "          const docLink = document.createElement('div');\n",
              "          docLink.innerHTML = docLinkHtml;\n",
              "          element.appendChild(docLink);\n",
              "        }\n",
              "      </script>\n",
              "    </div>\n",
              "  </div>\n",
              "  "
            ]
          },
          "metadata": {},
          "execution_count": 27
        }
      ]
    },
    {
      "cell_type": "code",
      "source": [
        "#Wanted to check examples for paper.\n",
        "df.to_csv(\"normalized_dataset.csv\")"
      ],
      "metadata": {
        "id": "Ia1WZFWmjCaX"
      },
      "execution_count": 28,
      "outputs": []
    },
    {
      "cell_type": "markdown",
      "source": [
        "# Visualization"
      ],
      "metadata": {
        "id": "1i4lWhyTPBX5"
      }
    },
    {
      "cell_type": "code",
      "source": [
        "df['LemmatizedText']\n",
        "\n",
        "df['numWords']= 0\n",
        "\n",
        "for ind in df.index:\n",
        "     #print(len(df['LemmatizedText'][ind]))\n",
        "     df['numWords'][ind] = len(df['LemmatizedText'][ind])\n",
        "\n",
        "sns.histplot(data=df, x=\"numWords\", hue='target', kde=True)"
      ],
      "metadata": {
        "colab": {
          "base_uri": "https://localhost:8080/",
          "height": 397
        },
        "id": "u3fOkdosApsH",
        "outputId": "06d9dae7-9030-4d18-e6c0-c989a3e88b77"
      },
      "execution_count": 29,
      "outputs": [
        {
          "output_type": "stream",
          "name": "stderr",
          "text": [
            "/usr/local/lib/python3.7/dist-packages/ipykernel_launcher.py:7: SettingWithCopyWarning: \n",
            "A value is trying to be set on a copy of a slice from a DataFrame\n",
            "\n",
            "See the caveats in the documentation: https://pandas.pydata.org/pandas-docs/stable/user_guide/indexing.html#returning-a-view-versus-a-copy\n",
            "  import sys\n"
          ]
        },
        {
          "output_type": "execute_result",
          "data": {
            "text/plain": [
              "<matplotlib.axes._subplots.AxesSubplot at 0x7f4883a65e90>"
            ]
          },
          "metadata": {},
          "execution_count": 29
        },
        {
          "output_type": "display_data",
          "data": {
            "text/plain": [
              "<Figure size 432x288 with 1 Axes>"
            ],
            "image/png": "[encoded data removed]"
          },
          "metadata": {
            "needs_background": "light"
          }
        }
      ]
    },
    {
      "cell_type": "code",
      "source": [
        "!pip install git+https://git@github.com/kavgan/word_cloud.git"
      ],
      "metadata": {
        "colab": {
          "base_uri": "https://localhost:8080/"
        },
        "id": "1yf0IKHvN6_m",
        "outputId": "950a53e0-dee1-414a-94f6-4ee37cfdf174"
      },
      "execution_count": 30,
      "outputs": [
        {
          "output_type": "stream",
          "name": "stdout",
          "text": [
            "Collecting git+https://****@github.com/kavgan/word_cloud.git\n",
            "  Cloning https://****@github.com/kavgan/word_cloud.git to /tmp/pip-req-build-7_pgndqb\n",
            "  Running command git clone -q 'https://****@github.com/kavgan/word_cloud.git' /tmp/pip-req-build-7_pgndqb\n",
            "Requirement already satisfied: scikit-learn>=0.19.1 in /usr/local/lib/python3.7/dist-packages (from word-cloud==0.0.0) (1.0.2)\n",
            "Requirement already satisfied: pandas>=0.20.3 in /usr/local/lib/python3.7/dist-packages (from word-cloud==0.0.0) (1.3.5)\n",
            "Requirement already satisfied: numpy>=1.17.3 in /usr/local/lib/python3.7/dist-packages (from pandas>=0.20.3->word-cloud==0.0.0) (1.21.6)\n",
            "Requirement already satisfied: pytz>=2017.3 in /usr/local/lib/python3.7/dist-packages (from pandas>=0.20.3->word-cloud==0.0.0) (2022.1)\n",
            "Requirement already satisfied: python-dateutil>=2.7.3 in /usr/local/lib/python3.7/dist-packages (from pandas>=0.20.3->word-cloud==0.0.0) (2.8.2)\n",
            "Requirement already satisfied: six>=1.5 in /usr/local/lib/python3.7/dist-packages (from python-dateutil>=2.7.3->pandas>=0.20.3->word-cloud==0.0.0) (1.15.0)\n",
            "Requirement already satisfied: threadpoolctl>=2.0.0 in /usr/local/lib/python3.7/dist-packages (from scikit-learn>=0.19.1->word-cloud==0.0.0) (3.1.0)\n",
            "Requirement already satisfied: scipy>=1.1.0 in /usr/local/lib/python3.7/dist-packages (from scikit-learn>=0.19.1->word-cloud==0.0.0) (1.4.1)\n",
            "Requirement already satisfied: joblib>=0.11 in /usr/local/lib/python3.7/dist-packages (from scikit-learn>=0.19.1->word-cloud==0.0.0) (1.1.0)\n"
          ]
        }
      ]
    },
    {
      "cell_type": "code",
      "source": [
        "df_disaster = df[df['target']==1]\n",
        "df_nodisater = df[df['target']==0]"
      ],
      "metadata": {
        "id": "lGC8APi6PC_y"
      },
      "execution_count": 31,
      "outputs": []
    },
    {
      "cell_type": "code",
      "source": [
        "ENGLISH_STOP_WORDS = frozenset([\n",
        "    \"a\", \"about\", \"above\", \"across\", \"after\", \"afterwards\", \"again\", \"against\",\n",
        "    \"all\", \"almost\", \"alone\", \"along\", \"already\", \"also\", \"although\", \"always\",\n",
        "    \"am\", \"among\", \"amongst\", \"amoungst\", \"amount\", \"an\", \"and\", \"another\",\n",
        "    \"any\", \"anyhow\", \"anyone\", \"anything\", \"anyway\", \"anywhere\", \"are\",\n",
        "    \"around\", \"as\", \"at\", \"back\", \"be\", \"became\", \"because\", \"become\",\n",
        "    \"becomes\", \"becoming\", \"been\", \"before\", \"beforehand\", \"behind\", \"being\",\n",
        "    \"below\", \"beside\", \"besides\", \"between\", \"beyond\", \"bill\", \"both\",\n",
        "    \"bottom\", \"but\", \"by\", \"call\", \"can\", \"cannot\", \"cant\", \"co\", \"con\",\n",
        "    \"could\", \"couldnt\", \"cry\", \"de\", \"describe\", \"detail\", \"do\", \"done\",\n",
        "    \"down\", \"due\", \"during\", \"each\", \"eg\", \"eight\", \"either\", \"eleven\", \"else\",\n",
        "    \"elsewhere\", \"empty\", \"enough\", \"etc\", \"even\", \"ever\", \"every\", \"everyone\",\n",
        "    \"everything\", \"everywhere\", \"except\", \"few\", \"fifteen\", \"fifty\", \"fill\",\n",
        "    \"find\", \"fire\", \"first\", \"five\", \"for\", \"former\", \"formerly\", \"forty\",\n",
        "    \"found\", \"four\", \"from\", \"front\", \"full\", \"further\", \"get\", \"give\", \"go\",\n",
        "    \"had\", \"has\", \"hasnt\", \"have\", \"he\", \"hence\", \"her\", \"here\", \"hereafter\",\n",
        "    \"hereby\", \"herein\", \"hereupon\", \"hers\", \"herself\", \"him\", \"himself\", \"his\",\n",
        "    \"how\", \"however\", \"hundred\", \"i\", \"ie\", \"if\", \"in\", \"inc\", \"indeed\",\n",
        "    \"interest\", \"into\", \"is\", \"it\", \"its\", \"itself\", \"keep\", \"last\", \"latter\",\n",
        "    \"latterly\", \"least\", \"less\", \"ltd\", \"made\", \"many\", \"may\", \"me\",\n",
        "    \"meanwhile\", \"might\", \"mill\", \"mine\", \"more\", \"moreover\", \"most\", \"mostly\",\n",
        "    \"move\", \"much\", \"must\", \"my\", \"myself\", \"name\", \"namely\", \"neither\",\n",
        "    \"never\", \"nevertheless\", \"next\", \"nine\", \"no\", \"nobody\", \"none\", \"noone\",\n",
        "    \"nor\", \"not\", \"nothing\", \"now\", \"nowhere\", \"of\", \"off\", \"often\", \"on\",\n",
        "    \"once\", \"one\", \"only\", \"onto\", \"or\", \"other\", \"others\", \"otherwise\", \"our\",\n",
        "    \"ours\", \"ourselves\", \"out\", \"over\", \"own\", \"part\", \"per\", \"perhaps\",\n",
        "    \"please\", \"put\", \"rather\", \"re\", \"same\", \"see\", \"seem\", \"seemed\",\n",
        "    \"seeming\", \"seems\", \"serious\", \"several\", \"she\", \"should\", \"show\", \"side\",\n",
        "    \"since\", \"sincere\", \"six\", \"sixty\", \"so\", \"some\", \"somehow\", \"someone\",\n",
        "    \"something\", \"sometime\", \"sometimes\", \"somewhere\", \"still\", \"such\",\n",
        "    \"system\", \"take\", \"ten\", \"than\", \"that\", \"the\", \"their\", \"them\",\n",
        "    \"themselves\", \"then\", \"thence\", \"there\", \"thereafter\", \"thereby\",\n",
        "    \"therefore\", \"therein\", \"thereupon\", \"these\", \"they\", \"thick\", \"thin\",\n",
        "    \"third\", \"this\", \"those\", \"though\", \"three\", \"through\", \"throughout\",\n",
        "    \"thru\", \"thus\", \"to\", \"together\", \"too\", \"top\", \"toward\", \"towards\",\n",
        "    \"twelve\", \"twenty\", \"two\", \"un\", \"under\", \"until\", \"up\", \"upon\", \"us\",\n",
        "    \"very\", \"via\", \"was\", \"we\", \"well\", \"were\", \"what\", \"whatever\", \"when\",\n",
        "    \"whence\", \"whenever\", \"where\", \"whereafter\", \"whereas\", \"whereby\",\n",
        "    \"wherein\", \"whereupon\", \"wherever\", \"whether\", \"which\", \"while\", \"whither\",\n",
        "    \"who\", \"whoever\", \"whole\", \"whom\", \"whose\", \"why\", \"will\", \"with\",\n",
        "    \"within\", \"without\", \"would\", \"yet\", \"said\",\"you\", \"your\", \"yours\", \"yourself\",\n",
        "    \"yourselves\"])"
      ],
      "metadata": {
        "id": "H6JzxvQAPgS7"
      },
      "execution_count": 32,
      "outputs": []
    },
    {
      "cell_type": "code",
      "source": [
        "from word_cloud.word_cloud_generator import WordCloud\n",
        "from IPython.core.display import HTML\n",
        "\n",
        "texts= df_disaster['FINAL']\n",
        "wc=WordCloud(use_tfidf=False,stopwords=ENGLISH_STOP_WORDS)\n",
        "\n",
        "embed_code=wc.get_embed_code(text=texts,random_color=False,topn=50)\n",
        "HTML(embed_code)"
      ],
      "metadata": {
        "colab": {
          "base_uri": "https://localhost:8080/",
          "height": 580
        },
        "id": "DSC-_cCbMVhi",
        "outputId": "4cede9ae-7657-4ed8-a0ce-0af302f944bc"
      },
      "execution_count": 33,
      "outputs": [
        {
          "output_type": "stream",
          "name": "stderr",
          "text": [
            "/usr/local/lib/python3.7/dist-packages/sklearn/utils/deprecation.py:87: FutureWarning: Function get_feature_names is deprecated; get_feature_names is deprecated in 1.0 and will be removed in 1.2. Please use get_feature_names_out instead.\n",
            "  warnings.warn(msg, category=FutureWarning)\n"
          ]
        },
        {
          "output_type": "execute_result",
          "data": {
            "text/plain": [
              "<IPython.core.display.HTML object>"
            ],
            "text/html": [
              "<div align='center' style='width:100%'><div align='center' style='text-align:justify; border-radius: 25px;background: #fff7f7;overflow: auto; width:500px !important; padding:20px; '; text-align: center; word-wrap: break-word;> <span style='color:#CE22E6;font-size:1.9999999999999996em;white-space: normal;font-family:verdana;display: inline-block;line-height:30px'>northern&nbsp;</span> <span style='color:#5F6A6A;font-size:1.6999999999999997em;white-space: normal;font-family:verdana;display: inline-block;line-height:30px'>kill&nbsp;</span> <span style='color:#6C22E6;font-size:1.8499999999999996em;white-space: normal;font-family:verdana;display: inline-block;line-height:30px'>collapse&nbsp;</span> <span style='color:#5F6A6A;font-size:1.6999999999999997em;white-space: normal;font-family:verdana;display: inline-block;line-height:30px'>fatal&nbsp;</span> <span style='color:#6C22E6;font-size:1.8499999999999996em;white-space: normal;font-family:verdana;display: inline-block;line-height:30px'>im&nbsp;</span> <span style='color:#5F6A6A;font-size:1.6999999999999997em;white-space: normal;font-family:verdana;display: inline-block;line-height:30px'>forest&nbsp;</span> <span style='color:#5882FA;font-size:2.749999999999999em;white-space: normal;font-family:verdana;display: inline-block;line-height:30px'>train&nbsp;</span> <span style='color:#04B404;font-size:2.599999999999999em;white-space: normal;font-family:verdana;display: inline-block;line-height:30px'>crash&nbsp;</span> <span style='color:#04B404;font-size:2.599999999999999em;white-space: normal;font-family:verdana;display: inline-block;line-height:30px'>like&nbsp;</span> <span style='color:#5F6A6A;font-size:1.6999999999999997em;white-space: normal;font-family:verdana;display: inline-block;line-height:30px'>watch&nbsp;</span> <span style='color:#04B404;font-size:2.599999999999999em;white-space: normal;font-family:verdana;display: inline-block;line-height:30px'>building&nbsp;</span> <span style='color:#848484;font-size:2.4499999999999993em;white-space: normal;font-family:verdana;display: inline-block;line-height:30px'>year&nbsp;</span> <span style='color:#6C22E6;font-size:1.8499999999999996em;white-space: normal;font-family:verdana;display: inline-block;line-height:30px'>life&nbsp;</span> <span style='color:#B18904;font-size:2.2999999999999994em;white-space: normal;font-family:verdana;display: inline-block;line-height:30px'>wildfire&nbsp;</span> <span style='color:#04B404;font-size:2.599999999999999em;white-space: normal;font-family:verdana;display: inline-block;line-height:30px'>killed&nbsp;</span> <span style='color:#FF0080;font-size:2.899999999999999em;white-space: normal;font-family:verdana;display: inline-block;line-height:30px'>people&nbsp;</span> <span style='color:#FA5858;font-size:3.199999999999999em;white-space: normal;font-family:verdana;display: inline-block;line-height:30px'>disaster&nbsp;</span> <span style='color:#ACB02E;font-size:2.1499999999999995em;white-space: normal;font-family:verdana;display: inline-block;line-height:30px'>car&nbsp;</span> <span style='color:#CE22E6;font-size:1.9999999999999996em;white-space: normal;font-family:verdana;display: inline-block;line-height:30px'>dead&nbsp;</span> <span style='color:#5F6A6A;font-size:1.6999999999999997em;white-space: normal;font-family:verdana;display: inline-block;line-height:30px'>obama&nbsp;</span> <span style='color:#b82c2c;font-size:3.4999999999999987em;white-space: normal;font-family:verdana;display: inline-block;line-height:30px'>news&nbsp;</span> <span style='color:#ACB02E;font-size:2.1499999999999995em;white-space: normal;font-family:verdana;display: inline-block;line-height:30px'>mh370&nbsp;</span> <span style='color:#FF0080;font-size:2.899999999999999em;white-space: normal;font-family:verdana;display: inline-block;line-height:30px'>police&nbsp;</span> <span style='color:#CE22E6;font-size:1.9999999999999996em;white-space: normal;font-family:verdana;display: inline-block;line-height:30px'>say&nbsp;</span> <span style='color:#B18904;font-size:2.2999999999999994em;white-space: normal;font-family:verdana;display: inline-block;line-height:30px'>flood&nbsp;</span> <span style='color:#6C22E6;font-size:1.8499999999999996em;white-space: normal;font-family:verdana;display: inline-block;line-height:30px'>bomber&nbsp;</span> <span style='color:#6C22E6;font-size:1.8499999999999996em;white-space: normal;font-family:verdana;display: inline-block;line-height:30px'>new&nbsp;</span> <span style='color:#ACB02E;font-size:2.1499999999999995em;white-space: normal;font-family:verdana;display: inline-block;line-height:30px'>video&nbsp;</span> <span style='color:#ACB02E;font-size:2.1499999999999995em;white-space: normal;font-family:verdana;display: inline-block;line-height:30px'>bombing&nbsp;</span> <span style='color:#848484;font-size:2.4499999999999993em;white-space: normal;font-family:verdana;display: inline-block;line-height:30px'>hiroshima&nbsp;</span> <span style='color:#0489B1;font-size:3.049999999999999em;white-space: normal;font-family:verdana;display: inline-block;line-height:30px'>suicide&nbsp;</span> <span style='color:#CE22E6;font-size:1.9999999999999996em;white-space: normal;font-family:verdana;display: inline-block;line-height:30px'>legionnaire&nbsp;</span> <span style='color:#CE22E6;font-size:1.9999999999999996em;white-space: normal;font-family:verdana;display: inline-block;line-height:30px'>pm&nbsp;</span> <span style='color:#04B404;font-size:2.599999999999999em;white-space: normal;font-family:verdana;display: inline-block;line-height:30px'>bomb&nbsp;</span> <span style='color:#B18904;font-size:2.2999999999999994em;white-space: normal;font-family:verdana;display: inline-block;line-height:30px'>emergency&nbsp;</span> <span style='color:#6C22E6;font-size:1.8499999999999996em;white-space: normal;font-family:verdana;display: inline-block;line-height:30px'>atomic&nbsp;</span> <span style='color:#5F6A6A;font-size:1.6999999999999997em;white-space: normal;font-family:verdana;display: inline-block;line-height:30px'>japan&nbsp;</span> <span style='color:#CE22E6;font-size:1.9999999999999996em;white-space: normal;font-family:verdana;display: inline-block;line-height:30px'>burning&nbsp;</span> <span style='color:#0489B1;font-size:3.049999999999999em;white-space: normal;font-family:verdana;display: inline-block;line-height:30px'>california&nbsp;</span> <span style='color:#FF0080;font-size:2.899999999999999em;white-space: normal;font-family:verdana;display: inline-block;line-height:30px'>family&nbsp;</span> <span style='color:#04B404;font-size:2.599999999999999em;white-space: normal;font-family:verdana;display: inline-block;line-height:30px'>storm&nbsp;</span> <span style='color:#6C22E6;font-size:1.8499999999999996em;white-space: normal;font-family:verdana;display: inline-block;line-height:30px'>time&nbsp;</span> <span style='color:#ACB02E;font-size:2.1499999999999995em;white-space: normal;font-family:verdana;display: inline-block;line-height:30px'>nuclear&nbsp;</span> <span style='color:#B18904;font-size:2.2999999999999994em;white-space: normal;font-family:verdana;display: inline-block;line-height:30px'>attack&nbsp;</span> <span style='color:#6C22E6;font-size:1.8499999999999996em;white-space: normal;font-family:verdana;display: inline-block;line-height:30px'>war&nbsp;</span> <span style='color:#ACB02E;font-size:2.1499999999999995em;white-space: normal;font-family:verdana;display: inline-block;line-height:30px'>accident&nbsp;</span> <span style='color:#5F6A6A;font-size:1.6999999999999997em;white-space: normal;font-family:verdana;display: inline-block;line-height:30px'>today&nbsp;</span> <span style='color:#5F6A6A;font-size:1.6999999999999997em;white-space: normal;font-family:verdana;display: inline-block;line-height:30px'>dont&nbsp;</span> <span style='color:#5882FA;font-size:2.749999999999999em;white-space: normal;font-family:verdana;display: inline-block;line-height:30px'>home&nbsp;</span> <span style='color:#CE22E6;font-size:1.9999999999999996em;white-space: normal;font-family:verdana;display: inline-block;line-height:30px'>death&nbsp;</span></div></div>"
            ]
          },
          "metadata": {},
          "execution_count": 33
        }
      ]
    },
    {
      "cell_type": "code",
      "source": [
        "texts= df_nodisater['FINAL']\n",
        "wc=WordCloud(use_tfidf=False,stopwords=ENGLISH_STOP_WORDS)\n",
        "\n",
        "embed_code=wc.get_embed_code(text=texts,random_color=False,topn=50)\n",
        "HTML(embed_code)"
      ],
      "metadata": {
        "colab": {
          "base_uri": "https://localhost:8080/",
          "height": 358
        },
        "id": "qjyEC0toOzCr",
        "outputId": "bf58d019-1df2-4423-e6eb-51f83676973d"
      },
      "execution_count": 34,
      "outputs": [
        {
          "output_type": "stream",
          "name": "stderr",
          "text": [
            "/usr/local/lib/python3.7/dist-packages/sklearn/utils/deprecation.py:87: FutureWarning: Function get_feature_names is deprecated; get_feature_names is deprecated in 1.0 and will be removed in 1.2. Please use get_feature_names_out instead.\n",
            "  warnings.warn(msg, category=FutureWarning)\n"
          ]
        },
        {
          "output_type": "execute_result",
          "data": {
            "text/plain": [
              "<IPython.core.display.HTML object>"
            ],
            "text/html": [
              "<div align='center' style='width:100%'><div align='center' style='text-align:justify; border-radius: 25px;background: #fff7f7;overflow: auto; width:500px !important; padding:20px; '; text-align: center; word-wrap: break-word;> <span style='color:#223AE6;font-size:1.4em;white-space: normal;font-family:verdana;display: inline-block;line-height:30px'>think&nbsp;</span> <span style='color:#6C22E6;font-size:1.8499999999999996em;white-space: normal;font-family:verdana;display: inline-block;line-height:30px'>time&nbsp;</span> <span style='color:#5F6A6A;font-size:1.6999999999999997em;white-space: normal;font-family:verdana;display: inline-block;line-height:30px'>day&nbsp;</span> <span style='color:#FF5733;font-size:1.25em;white-space: normal;font-family:verdana;display: inline-block;line-height:30px'>injury&nbsp;</span> <span style='color:#FF5733;font-size:1.25em;white-space: normal;font-family:verdana;display: inline-block;line-height:30px'>work&nbsp;</span> <span style='color:#3498DB;font-size:1.1em;white-space: normal;font-family:verdana;display: inline-block;line-height:30px'>help&nbsp;</span> <span style='color:#FF5733;font-size:1.25em;white-space: normal;font-family:verdana;display: inline-block;line-height:30px'>na&nbsp;</span> <span style='color:#FF5733;font-size:1.25em;white-space: normal;font-family:verdana;display: inline-block;line-height:30px'>come&nbsp;</span> <span style='color:#FF5733;font-size:1.25em;white-space: normal;font-family:verdana;display: inline-block;line-height:30px'>news&nbsp;</span> <span style='color:#223AE6;font-size:1.4em;white-space: normal;font-family:verdana;display: inline-block;line-height:30px'>year&nbsp;</span> <span style='color:#FF5733;font-size:1.25em;white-space: normal;font-family:verdana;display: inline-block;line-height:30px'>lol&nbsp;</span> <span style='color:#3498DB;font-size:1.1em;white-space: normal;font-family:verdana;display: inline-block;line-height:30px'>wreck&nbsp;</span> <span style='color:#FF5733;font-size:1.25em;white-space: normal;font-family:verdana;display: inline-block;line-height:30px'>rt&nbsp;</span> <span style='color:#FF5733;font-size:1.25em;white-space: normal;font-family:verdana;display: inline-block;line-height:30px'>best&nbsp;</span> <span style='color:#FF5733;font-size:1.25em;white-space: normal;font-family:verdana;display: inline-block;line-height:30px'>burning&nbsp;</span> <span style='color:#223AE6;font-size:1.4em;white-space: normal;font-family:verdana;display: inline-block;line-height:30px'>make&nbsp;</span> <span style='color:#3498DB;font-size:1.1em;white-space: normal;font-family:verdana;display: inline-block;line-height:30px'>god&nbsp;</span> <span style='color:#b82c2c;font-size:3.4999999999999987em;white-space: normal;font-family:verdana;display: inline-block;line-height:30px'>like&nbsp;</span> <span style='color:#223AE6;font-size:1.4em;white-space: normal;font-family:verdana;display: inline-block;line-height:30px'>life&nbsp;</span> <span style='color:#5F6A6A;font-size:1.6999999999999997em;white-space: normal;font-family:verdana;display: inline-block;line-height:30px'>love&nbsp;</span> <span style='color:#FF5733;font-size:1.25em;white-space: normal;font-family:verdana;display: inline-block;line-height:30px'>thing&nbsp;</span> <span style='color:#3498DB;font-size:1.1em;white-space: normal;font-family:verdana;display: inline-block;line-height:30px'>weapon&nbsp;</span> <span style='color:#FF5733;font-size:1.25em;white-space: normal;font-family:verdana;display: inline-block;line-height:30px'>woman&nbsp;</span> <span style='color:#223AE6;font-size:1.4em;white-space: normal;font-family:verdana;display: inline-block;line-height:30px'>world&nbsp;</span> <span style='color:#2ECC71;font-size:1.5499999999999998em;white-space: normal;font-family:verdana;display: inline-block;line-height:30px'>bag&nbsp;</span> <span style='color:#FF5733;font-size:1.25em;white-space: normal;font-family:verdana;display: inline-block;line-height:30px'>way&nbsp;</span> <span style='color:#FF5733;font-size:1.25em;white-space: normal;font-family:verdana;display: inline-block;line-height:30px'>youre&nbsp;</span> <span style='color:#5F6A6A;font-size:1.6999999999999997em;white-space: normal;font-family:verdana;display: inline-block;line-height:30px'>know&nbsp;</span> <span style='color:#848484;font-size:2.4499999999999993em;white-space: normal;font-family:verdana;display: inline-block;line-height:30px'>dont&nbsp;</span> <span style='color:#b82c2c;font-size:3.4999999999999987em;white-space: normal;font-family:verdana;display: inline-block;line-height:30px'>im&nbsp;</span> <span style='color:#6C22E6;font-size:1.8499999999999996em;white-space: normal;font-family:verdana;display: inline-block;line-height:30px'>video&nbsp;</span> <span style='color:#04B404;font-size:2.599999999999999em;white-space: normal;font-family:verdana;display: inline-block;line-height:30px'>new&nbsp;</span> <span style='color:#3498DB;font-size:1.1em;white-space: normal;font-family:verdana;display: inline-block;line-height:30px'>right&nbsp;</span> <span style='color:#3498DB;font-size:1.1em;white-space: normal;font-family:verdana;display: inline-block;line-height:30px'>read&nbsp;</span> <span style='color:#2ECC71;font-size:1.5499999999999998em;white-space: normal;font-family:verdana;display: inline-block;line-height:30px'>let&nbsp;</span> <span style='color:#3498DB;font-size:1.1em;white-space: normal;font-family:verdana;display: inline-block;line-height:30px'>great&nbsp;</span> <span style='color:#223AE6;font-size:1.4em;white-space: normal;font-family:verdana;display: inline-block;line-height:30px'>say&nbsp;</span> <span style='color:#223AE6;font-size:1.4em;white-space: normal;font-family:verdana;display: inline-block;line-height:30px'>man&nbsp;</span> <span style='color:#FF5733;font-size:1.25em;white-space: normal;font-family:verdana;display: inline-block;line-height:30px'>feel&nbsp;</span> <span style='color:#223AE6;font-size:1.4em;white-space: normal;font-family:verdana;display: inline-block;line-height:30px'>need&nbsp;</span> <span style='color:#5F6A6A;font-size:1.6999999999999997em;white-space: normal;font-family:verdana;display: inline-block;line-height:30px'>people&nbsp;</span> <span style='color:#2ECC71;font-size:1.5499999999999998em;white-space: normal;font-family:verdana;display: inline-block;line-height:30px'>emergency&nbsp;</span> <span style='color:#223AE6;font-size:1.4em;white-space: normal;font-family:verdana;display: inline-block;line-height:30px'>youtube&nbsp;</span> <span style='color:#2ECC71;font-size:1.5499999999999998em;white-space: normal;font-family:verdana;display: inline-block;line-height:30px'>want&nbsp;</span> <span style='color:#223AE6;font-size:1.4em;white-space: normal;font-family:verdana;display: inline-block;line-height:30px'>good&nbsp;</span> <span style='color:#FF5733;font-size:1.25em;white-space: normal;font-family:verdana;display: inline-block;line-height:30px'>really&nbsp;</span> <span style='color:#223AE6;font-size:1.4em;white-space: normal;font-family:verdana;display: inline-block;line-height:30px'>going&nbsp;</span> <span style='color:#223AE6;font-size:1.4em;white-space: normal;font-family:verdana;display: inline-block;line-height:30px'>look&nbsp;</span> <span style='color:#5F6A6A;font-size:1.6999999999999997em;white-space: normal;font-family:verdana;display: inline-block;line-height:30px'>got&nbsp;</span> <span style='color:#CE22E6;font-size:1.9999999999999996em;white-space: normal;font-family:verdana;display: inline-block;line-height:30px'>body&nbsp;</span></div></div>"
            ]
          },
          "metadata": {},
          "execution_count": 34
        }
      ]
    },
    {
      "cell_type": "markdown",
      "source": [
        "# Word Embedding to transform text to Numerical data\n",
        "\n",
        "\n",
        "**We will make three different numerical datasets**"
      ],
      "metadata": {
        "id": "FzIQGnq-8sfU"
      }
    },
    {
      "cell_type": "markdown",
      "source": [
        "**Bag Of Words using CounterVector**"
      ],
      "metadata": {
        "id": "2YOdDRL48v_Q"
      }
    },
    {
      "cell_type": "code",
      "source": [
        "from sklearn.feature_extraction.text import CountVectorizer\n",
        "\n",
        "vectorizer = CountVectorizer()\n",
        "cv_df = vectorizer.fit_transform(df['FINAL'])\n",
        "\n",
        "vectorizer.get_feature_names_out()\n",
        "print(cv_df.shape)"
      ],
      "metadata": {
        "colab": {
          "base_uri": "https://localhost:8080/"
        },
        "id": "289Z6q4q8it3",
        "outputId": "a72b179c-bb99-4828-a3df-8dca3f904e1b"
      },
      "execution_count": 35,
      "outputs": [
        {
          "output_type": "stream",
          "name": "stdout",
          "text": [
            "(7613, 16270)\n"
          ]
        }
      ]
    },
    {
      "cell_type": "markdown",
      "source": [
        "**Visualization**\n"
      ],
      "metadata": {
        "id": "yb8panVbHxLO"
      }
    },
    {
      "cell_type": "code",
      "source": [
        "#cv_arr = cv_df.toarray()\n",
        "#cv_arr_df = pd.DataFrame(data=cv_arr,columns = vectorizer.get_feature_names())\n",
        "#desc = cv_arr_df.describe()\n",
        " \n",
        "#dict(sorted(vectorizer.vocabulary_.items(), key=lambda item: item[1],reverse=True))\n",
        "'''\n",
        "dis_countvectorizer = CountVectorizer()\n",
        "cv_disaster = dis_countvectorizer.fit_transform(df_disaster['FINAL'])\n",
        "\n",
        "nodis_countvectorizer = CountVectorizer()\n",
        "cv_nodisaster = nodis_countvectorizer.fit_transform(df_nodisater['FINAL'])\n",
        "\n",
        "sorted_cv_dis = dict(sorted(dis_countvectorizer.vocabulary_.items(), key=lambda item: item[1],reverse=True))\n",
        "sorted_cv_nodis = dict(sorted(nodis_countvectorizer.vocabulary_.items(), key=lambda item: item[1],reverse=True))\n",
        "'''\n",
        "#print(sorted_cv_dis)\n",
        "#print(sorted_cv_nodis)\n",
        "\n",
        "#print(dis_countvectorizer.vocabulary_.keys())"
      ],
      "metadata": {
        "colab": {
          "base_uri": "https://localhost:8080/",
          "height": 116
        },
        "id": "muePaeaAH_ed",
        "outputId": "64c4da5a-bffb-4a64-a332-6b1434d37515"
      },
      "execution_count": 36,
      "outputs": [
        {
          "output_type": "execute_result",
          "data": {
            "text/plain": [
              "\"\\ndis_countvectorizer = CountVectorizer()\\ncv_disaster = dis_countvectorizer.fit_transform(df_disaster['FINAL'])\\n\\nnodis_countvectorizer = CountVectorizer()\\ncv_nodisaster = nodis_countvectorizer.fit_transform(df_nodisater['FINAL'])\\n\\nsorted_cv_dis = dict(sorted(dis_countvectorizer.vocabulary_.items(), key=lambda item: item[1],reverse=True))\\nsorted_cv_nodis = dict(sorted(nodis_countvectorizer.vocabulary_.items(), key=lambda item: item[1],reverse=True))\\n\""
            ],
            "application/vnd.google.colaboratory.intrinsic+json": {
              "type": "string"
            }
          },
          "metadata": {},
          "execution_count": 36
        }
      ]
    },
    {
      "cell_type": "code",
      "source": [
        "cv_key_list = list(vectorizer.vocabulary_.keys())\n",
        "cv_values_list = list(vectorizer.vocabulary_.values())\n",
        "#print(cv_key_list)\n",
        "#print(cv_values_list)\n",
        "\n",
        "import matplotlib.pyplot as plt\n",
        "fig = plt.figure()\n",
        "\n",
        "ax = fig.add_axes([0,0,1,1])\n",
        "ax.bar(cv_key_list[:10], cv_values_list[:10])\n",
        "plt.xticks(rotation=50)\n",
        "plt.show()"
      ],
      "metadata": {
        "colab": {
          "base_uri": "https://localhost:8080/",
          "height": 375
        },
        "id": "E1NHmQZwgtST",
        "outputId": "bd4829ef-50bd-41c5-c699-fd86a7873151"
      },
      "execution_count": 37,
      "outputs": [
        {
          "output_type": "display_data",
          "data": {
            "text/plain": [
              "<Figure size 432x288 with 1 Axes>"
            ],
            "image/png": "[encoded data removed]"
          },
          "metadata": {
            "needs_background": "light"
          }
        }
      ]
    },
    {
      "cell_type": "markdown",
      "source": [
        "**TF-IDF**\n"
      ],
      "metadata": {
        "id": "8oBudl-79ZKP"
      }
    },
    {
      "cell_type": "code",
      "source": [
        "from sklearn.feature_extraction.text import TfidfVectorizer\n",
        "\n",
        "tfvectorizer = TfidfVectorizer(ngram_range = (1,2))\n",
        "tfidf_df = tfvectorizer.fit_transform(df['FINAL'])\n",
        "print(tfidf_df.shape)"
      ],
      "metadata": {
        "colab": {
          "base_uri": "https://localhost:8080/"
        },
        "id": "-7YlewNX9b2f",
        "outputId": "5a778452-82a7-410a-8790-eba30eac3ddf"
      },
      "execution_count": 38,
      "outputs": [
        {
          "output_type": "stream",
          "name": "stdout",
          "text": [
            "(7613, 63245)\n"
          ]
        }
      ]
    },
    {
      "cell_type": "markdown",
      "source": [
        " **visualization**"
      ],
      "metadata": {
        "id": "Qd9PF-i3QIsl"
      }
    },
    {
      "cell_type": "code",
      "source": [
        "'''dis_tdidfvectorizer = CountVectorizer()\n",
        "tdidf_disaster = dis_tdidfvectorizer.fit_transform(df_disaster['FINAL'])\n",
        "\n",
        "nodis_tdidfvectorizer = CountVectorizer()\n",
        "tdidf_nodisaster = nodis_tdidfvectorizer.fit_transform(df_nodisater['FINAL'])\n",
        "\n",
        "#print(dis_tdidfvectorizer.vocabulary_)\n",
        "#print(nodis_tdidfvectorizer.vocabulary_)\n",
        "\n",
        "sorted_tdidf_dis = dict(sorted(dis_tdidfvectorizer.vocabulary_.items(), key=lambda item: item[1],reverse=True))\n",
        "sorted_tdidf_nodis = dict(sorted(nodis_tdidfvectorizer.vocabulary_.items(), key=lambda item: item[1],reverse=True))\n",
        "\n",
        "#print(sorted_tdidf_dis)\n",
        "#print(sorted_tdidf_nodis)'''"
      ],
      "metadata": {
        "id": "us-qDORlLXL1",
        "colab": {
          "base_uri": "https://localhost:8080/",
          "height": 132
        },
        "outputId": "247808a5-eebc-4d78-f3f0-621168fae13a"
      },
      "execution_count": 39,
      "outputs": [
        {
          "output_type": "execute_result",
          "data": {
            "text/plain": [
              "\"dis_tdidfvectorizer = CountVectorizer()\\ntdidf_disaster = dis_tdidfvectorizer.fit_transform(df_disaster['FINAL'])\\n\\nnodis_tdidfvectorizer = CountVectorizer()\\ntdidf_nodisaster = nodis_tdidfvectorizer.fit_transform(df_nodisater['FINAL'])\\n\\n#print(dis_tdidfvectorizer.vocabulary_)\\n#print(nodis_tdidfvectorizer.vocabulary_)\\n\\nsorted_tdidf_dis = dict(sorted(dis_tdidfvectorizer.vocabulary_.items(), key=lambda item: item[1],reverse=True))\\nsorted_tdidf_nodis = dict(sorted(nodis_tdidfvectorizer.vocabulary_.items(), key=lambda item: item[1],reverse=True))\\n\\n#print(sorted_tdidf_dis)\\n#print(sorted_tdidf_nodis)\""
            ],
            "application/vnd.google.colaboratory.intrinsic+json": {
              "type": "string"
            }
          },
          "metadata": {},
          "execution_count": 39
        }
      ]
    },
    {
      "cell_type": "code",
      "source": [
        "\n",
        "tfidf_key_list = list(tfvectorizer.vocabulary_.keys())\n",
        "tfidf_values_list = list(tfvectorizer.vocabulary_.values())\n",
        "#print(tfidf_key_list)\n",
        "#print(tfidf_values_list)\n",
        "\n",
        "import matplotlib.pyplot as plt\n",
        "fig = plt.figure()\n",
        "ax = fig.add_axes([0,0,1,1])\n",
        "ax.bar(tfidf_key_list[:10], tfidf_values_list[:10])\n",
        "plt.xticks(rotation=50)\n",
        "plt.show()"
      ],
      "metadata": {
        "id": "agAVGWLXhdRd",
        "colab": {
          "base_uri": "https://localhost:8080/",
          "height": 403
        },
        "outputId": "9b9326b0-d6b1-4bae-aba6-0ce11659718e"
      },
      "execution_count": 40,
      "outputs": [
        {
          "output_type": "display_data",
          "data": {
            "text/plain": [
              "<Figure size 432x288 with 1 Axes>"
            ],
            "image/png": "[encoded data removed]"
          },
          "metadata": {
            "needs_background": "light"
          }
        }
      ]
    },
    {
      "cell_type": "markdown",
      "source": [
        "**Word2Vec**"
      ],
      "metadata": {
        "id": "Krke0Kuw_6Lr"
      }
    },
    {
      "cell_type": "code",
      "source": [
        "from gensim.models import Word2Vec, KeyedVectors\n",
        "import nltk\n",
        "import multiprocessing"
      ],
      "metadata": {
        "id": "pyfYrtaFAEjT"
      },
      "execution_count": 41,
      "outputs": []
    },
    {
      "cell_type": "code",
      "source": [
        "sentences = df['FINAL'].values\n",
        "sentences = [nltk.word_tokenize(sent) for sent in sentences]\n"
      ],
      "metadata": {
        "id": "siWaOiq69p5H"
      },
      "execution_count": 42,
      "outputs": []
    },
    {
      "cell_type": "code",
      "source": [
        "#print(sentences)"
      ],
      "metadata": {
        "id": "zvnchwO0_VpE"
      },
      "execution_count": 43,
      "outputs": []
    },
    {
      "cell_type": "code",
      "source": [
        "#print(list(df['LemmatizedText']))"
      ],
      "metadata": {
        "id": "p6iJW-bl-_i2"
      },
      "execution_count": 44,
      "outputs": []
    },
    {
      "cell_type": "code",
      "source": [
        "w2v_size = 300"
      ],
      "metadata": {
        "id": "DsDb-u8OzEVt"
      },
      "execution_count": 45,
      "outputs": []
    },
    {
      "cell_type": "code",
      "source": [
        "cores = multiprocessing.cpu_count() # Count the number of cores in a computer\n",
        "\n",
        "\n",
        "w2v_model = Word2Vec(min_count=1,\n",
        "                     window=2,\n",
        "                     size=w2v_size,\n",
        "                     sample=6e-5, \n",
        "                     alpha=0.03, \n",
        "                     min_alpha=0.0007, \n",
        "                     negative=20,\n",
        "                     workers=cores-1)\n"
      ],
      "metadata": {
        "id": "nhqey600_46h"
      },
      "execution_count": 46,
      "outputs": []
    },
    {
      "cell_type": "code",
      "source": [
        "w2v_model.build_vocab(sentences, progress_per=10000)\n",
        "w2v_model.train(sentences, total_examples=w2v_model.corpus_count, epochs=30, report_delay=1)"
      ],
      "metadata": {
        "colab": {
          "base_uri": "https://localhost:8080/"
        },
        "id": "UGGzzN4yCvO5",
        "outputId": "28c462bb-a244-4930-afc1-d5b3e4c71dc3"
      },
      "execution_count": 47,
      "outputs": [
        {
          "output_type": "execute_result",
          "data": {
            "text/plain": [
              "(1441465, 2133030)"
            ]
          },
          "metadata": {},
          "execution_count": 47
        }
      ]
    },
    {
      "cell_type": "code",
      "source": [
        "w2v_model.wv.similarity(\"fire\", 'wildfire')"
      ],
      "metadata": {
        "colab": {
          "base_uri": "https://localhost:8080/"
        },
        "id": "kbSnTc2zDAI6",
        "outputId": "67ca28de-3b87-416c-b6a5-946b84cc5431"
      },
      "execution_count": 48,
      "outputs": [
        {
          "output_type": "execute_result",
          "data": {
            "text/plain": [
              "0.97628087"
            ]
          },
          "metadata": {},
          "execution_count": 48
        }
      ]
    },
    {
      "cell_type": "code",
      "source": [
        "w2v_model.wv.most_similar(positive=[\"disaster\"])\n"
      ],
      "metadata": {
        "colab": {
          "base_uri": "https://localhost:8080/"
        },
        "id": "bYp81WmwZBha",
        "outputId": "c3b68790-9158-448f-b511-868557d6c6e2"
      },
      "execution_count": 49,
      "outputs": [
        {
          "output_type": "execute_result",
          "data": {
            "text/plain": [
              "[('declares', 0.9981396198272705),\n",
              " ('sign', 0.9976129531860352),\n",
              " ('declaration', 0.9946792125701904),\n",
              " ('marians', 0.9946218729019165),\n",
              " ('obama', 0.9945011138916016),\n",
              " ('saipan', 0.9932451844215393),\n",
              " ('typhoondevastated', 0.9889606833457947),\n",
              " ('northern', 0.9873850345611572),\n",
              " ('abcnews', 0.8922840356826782),\n",
              " ('losdelsonido', 0.8917478322982788)]"
            ]
          },
          "metadata": {},
          "execution_count": 49
        }
      ]
    },
    {
      "cell_type": "code",
      "source": [
        "w2v_model.wv.most_similar(positive=[\"evacuation\"])\n"
      ],
      "metadata": {
        "colab": {
          "base_uri": "https://localhost:8080/"
        },
        "id": "R7qMP0RSDKiE",
        "outputId": "6b69bb65-4902-4a0c-eb77-b798698c009c"
      },
      "execution_count": 50,
      "outputs": [
        {
          "output_type": "execute_result",
          "data": {
            "text/plain": [
              "[('faan', 0.9996618628501892),\n",
              " ('order', 0.9995802044868469),\n",
              " ('ultimatum', 0.9994150400161743),\n",
              " ('floated', 0.9993795156478882),\n",
              " ('th', 0.9993643760681152),\n",
              " ('almost', 0.9993605017662048),\n",
              " ('noted', 0.9993528127670288),\n",
              " ('probability', 0.9993262887001038),\n",
              " ('innocent', 0.9993257522583008),\n",
              " ('jet', 0.9993158578872681)]"
            ]
          },
          "metadata": {},
          "execution_count": 50
        }
      ]
    },
    {
      "cell_type": "code",
      "source": [
        "w2v_model.wv.most_similar(positive=[\"injury\"])\n"
      ],
      "metadata": {
        "colab": {
          "base_uri": "https://localhost:8080/"
        },
        "id": "tylUTA25DQIN",
        "outputId": "d9b3f18b-ee36-4465-c97a-db49013ca2cf"
      },
      "execution_count": 51,
      "outputs": [
        {
          "output_type": "execute_result",
          "data": {
            "text/plain": [
              "[('thought', 0.9998412728309631),\n",
              " ('store', 0.99982750415802),\n",
              " ('ill', 0.999819278717041),\n",
              " ('2005', 0.9998190402984619),\n",
              " ('nobody', 0.9998188018798828),\n",
              " ('idk', 0.9998180270195007),\n",
              " ('basic', 0.9998174905776978),\n",
              " ('changed', 0.9998173117637634),\n",
              " ('bunch', 0.9998156428337097),\n",
              " ('previous', 0.9998143911361694)]"
            ]
          },
          "metadata": {},
          "execution_count": 51
        }
      ]
    },
    {
      "cell_type": "code",
      "source": [
        "words = list(w2v_model.wv.vocab)\n",
        "#words"
      ],
      "metadata": {
        "id": "kpi2iHyWEXSJ"
      },
      "execution_count": 52,
      "outputs": []
    },
    {
      "cell_type": "code",
      "source": [
        "w2v_df = []\n",
        "for sent in sentences:\n",
        "    vw = np.zeros(w2v_size) \n",
        "    #one sentence has many words\n",
        "    for word in sent:\n",
        "        vw += w2v_model[word]\n",
        "    #average\n",
        "    vw = vw/len(sent)\n",
        "    w2v_df.append(np.array(vw))"
      ],
      "metadata": {
        "colab": {
          "base_uri": "https://localhost:8080/"
        },
        "id": "GTixVYdgGW8n",
        "outputId": "4de4fc28-b89d-4936-8719-844c6e9ec411"
      },
      "execution_count": 53,
      "outputs": [
        {
          "output_type": "stream",
          "name": "stderr",
          "text": [
            "/usr/local/lib/python3.7/dist-packages/ipykernel_launcher.py:6: DeprecationWarning: Call to deprecated `__getitem__` (Method will be removed in 4.0.0, use self.wv.__getitem__() instead).\n",
            "  \n"
          ]
        }
      ]
    },
    {
      "cell_type": "code",
      "source": [
        "print(len(w2v_df))\n",
        "print(len(w2v_df[0]))\n",
        "\n",
        "#print(w2v_model['earthquake'])"
      ],
      "metadata": {
        "colab": {
          "base_uri": "https://localhost:8080/"
        },
        "id": "2-l6wg3Or4gA",
        "outputId": "c94bdfe5-1c76-4476-d3d9-44c4c25713f8"
      },
      "execution_count": 54,
      "outputs": [
        {
          "output_type": "stream",
          "name": "stdout",
          "text": [
            "7613\n",
            "300\n"
          ]
        }
      ]
    },
    {
      "cell_type": "markdown",
      "source": [
        "## Word2Vec with Visualization (reference - "
      ],
      "metadata": {
        "id": "YS0a6zBxXs1f"
      }
    },
    {
      "cell_type": "code",
      "source": [
        "from sklearn.decomposition import PCA\n",
        "from sklearn.manifold import TSNE\n",
        "\n",
        "def word2vec_scatterplot(model, word, list_names):\n",
        "\n",
        "    arrays = np.empty((0, w2v_size), dtype='f')\n",
        "    word_labels = [word]\n",
        "    color_list  = ['red']\n",
        "\n",
        "    # adds the vector of the query word\n",
        "    arrays = np.append(arrays, model.wv.__getitem__([word]), axis=0)\n",
        "    \n",
        "    # gets list of most similar words\n",
        "    close_words = model.wv.most_similar([word])\n",
        "    \n",
        "    # adds the vector for each of the closest words to the array\n",
        "    for wrd_score in close_words:\n",
        "        wrd_vector = model.wv.__getitem__([wrd_score[0]])\n",
        "        word_labels.append(wrd_score[0])\n",
        "        color_list.append('green')\n",
        "        arrays = np.append(arrays, wrd_vector, axis=0)\n",
        "    \n",
        "    # adds the vector for each of the words from list_names to the array\n",
        "    for wrd in list_names:\n",
        "        wrd_vector = model.wv.__getitem__([wrd])\n",
        "        word_labels.append(wrd)\n",
        "        color_list.append('blue')\n",
        "        arrays = np.append(arrays, wrd_vector, axis=0)\n",
        "        \n",
        "    # Reduces the dimensionality with PCA\n",
        "    reduc = PCA(n_components=21).fit_transform(arrays)\n",
        "    \n",
        "    # Finds t-SNE coordinates for 2 dimensions\n",
        "    np.set_printoptions(suppress=True)\n",
        "    \n",
        "    Y = TSNE(n_components=2, random_state=0, perplexity=15).fit_transform(reduc)\n",
        "    \n",
        "    # Sets everything up to plot\n",
        "    df = pd.DataFrame({'x': [x for x in Y[:, 0]],\n",
        "                       'y': [y for y in Y[:, 1]],\n",
        "                       'words': word_labels,\n",
        "                       'color': color_list})\n",
        "    \n",
        "    fig, _ = plt.subplots()\n",
        "    fig.set_size_inches(9, 9)\n",
        "    \n",
        "    # Basic plot\n",
        "    p1 = sns.regplot(data=df,\n",
        "                     x=\"x\",\n",
        "                     y=\"y\",\n",
        "                     fit_reg=False,\n",
        "                     marker=\"o\",\n",
        "                     scatter_kws={'s': 40,\n",
        "                                  'facecolors': df['color']\n",
        "                                 }\n",
        "                    )\n",
        "    \n",
        "    # Adds annotations one by one with a loop\n",
        "    for line in range(0, df.shape[0]):\n",
        "         p1.text(df[\"x\"][line],\n",
        "                 df['y'][line],\n",
        "                 '  ' + df[\"words\"][line].title(),\n",
        "                 horizontalalignment='left',\n",
        "                 verticalalignment='bottom', size='medium',\n",
        "                 color=df['color'][line],\n",
        "                 weight='normal'\n",
        "                ).set_size(15)\n",
        "\n",
        "    \n",
        "    plt.xlim(Y[:, 0].min()-50, Y[:, 0].max()+50)\n",
        "    plt.ylim(Y[:, 1].min()-50, Y[:, 1].max()+50)\n",
        "            \n",
        "    plt.title('t-SNE visualization for {}'.format(word.title()))\n"
      ],
      "metadata": {
        "id": "DqYtP57CXxqW"
      },
      "execution_count": 55,
      "outputs": []
    },
    {
      "cell_type": "code",
      "source": [
        "word2vec_scatterplot(w2v_model, 'wildfire', [i[0] for i in w2v_model.wv.most_similar(negative=[\"wildfire\"])])"
      ],
      "metadata": {
        "colab": {
          "base_uri": "https://localhost:8080/",
          "height": 651
        },
        "id": "MnXazpf4YT4y",
        "outputId": "abf403ad-3811-4718-d5c6-810209a6e63e"
      },
      "execution_count": 56,
      "outputs": [
        {
          "output_type": "stream",
          "name": "stderr",
          "text": [
            "/usr/local/lib/python3.7/dist-packages/sklearn/manifold/_t_sne.py:783: FutureWarning: The default initialization in TSNE will change from 'random' to 'pca' in 1.2.\n",
            "  FutureWarning,\n",
            "/usr/local/lib/python3.7/dist-packages/sklearn/manifold/_t_sne.py:793: FutureWarning: The default learning rate in TSNE will change from 200.0 to 'auto' in 1.2.\n",
            "  FutureWarning,\n"
          ]
        },
        {
          "output_type": "display_data",
          "data": {
            "text/plain": [
              "<Figure size 648x648 with 1 Axes>"
            ],
            "image/png": "[encoded data removed]"
          },
          "metadata": {
            "needs_background": "light"
          }
        }
      ]
    },
    {
      "cell_type": "markdown",
      "source": [
        "# Reduce Dimension PCA "
      ],
      "metadata": {
        "id": "1RQQmU5gsNu9"
      }
    },
    {
      "cell_type": "code",
      "source": [
        "from sklearn.decomposition import PCA\n",
        "from sklearn.preprocessing import StandardScaler\n",
        "\n",
        "trans_w2v_df = StandardScaler().fit_transform(w2v_df)\n",
        "\n",
        "#reduce dimention half\n",
        "pca = PCA(n_components=100)\n",
        "pca_trans_w2v_df = pca.fit_transform(trans_w2v_df)\n",
        "\n",
        "print(pca_trans_w2v_df.shape) \n",
        "\n",
        "df_pca_visual = pd.DataFrame({'com1': pca_trans_w2v_df[:,1], 'com2': pca_trans_w2v_df[:,2]})\n",
        "display(df_pca_visual.head())\n",
        "\n",
        "df_pca_visual['target'] = df['target']\n",
        "display(df_pca_visual.head())\n",
        "\n",
        "#sns.scatterplot(data=df_pca_visual, x=\"com1\", y=\"com2\", hue=\"target\")"
      ],
      "metadata": {
        "colab": {
          "base_uri": "https://localhost:8080/",
          "height": 401
        },
        "id": "sbgabLUWz1hn",
        "outputId": "0c422aa7-e882-4cf6-ee47-519ed0470337"
      },
      "execution_count": 57,
      "outputs": [
        {
          "output_type": "stream",
          "name": "stdout",
          "text": [
            "(7613, 100)\n"
          ]
        },
        {
          "output_type": "display_data",
          "data": {
            "text/plain": [
              "       com1      com2\n",
              "0 -0.205661 -0.100516\n",
              "1 -1.284535 -1.357988\n",
              "2 -0.359001 -0.019595\n",
              "3 -2.423278  4.181328\n",
              "4 -1.709226  1.066033"
            ],
            "text/html": [
              "\n",
              "  <div id=\"df-1d75cd0a-7a4e-4d2b-b7ba-afa62f4f21cb\">\n",
              "    <div class=\"colab-df-container\">\n",
              "      <div>\n",
              "<style scoped>\n",
              "    .dataframe tbody tr th:only-of-type {\n",
              "        vertical-align: middle;\n",
              "    }\n",
              "\n",
              "    .dataframe tbody tr th {\n",
              "        vertical-align: top;\n",
              "    }\n",
              "\n",
              "    .dataframe thead th {\n",
              "        text-align: right;\n",
              "    }\n",
              "</style>\n",
              "<table border=\"1\" class=\"dataframe\">\n",
              "  <thead>\n",
              "    <tr style=\"text-align: right;\">\n",
              "      <th></th>\n",
              "      <th>com1</th>\n",
              "      <th>com2</th>\n",
              "    </tr>\n",
              "  </thead>\n",
              "  <tbody>\n",
              "    <tr>\n",
              "      <th>0</th>\n",
              "      <td>-0.205661</td>\n",
              "      <td>-0.100516</td>\n",
              "    </tr>\n",
              "    <tr>\n",
              "      <th>1</th>\n",
              "      <td>-1.284535</td>\n",
              "      <td>-1.357988</td>\n",
              "    </tr>\n",
              "    <tr>\n",
              "      <th>2</th>\n",
              "      <td>-0.359001</td>\n",
              "      <td>-0.019595</td>\n",
              "    </tr>\n",
              "    <tr>\n",
              "      <th>3</th>\n",
              "      <td>-2.423278</td>\n",
              "      <td>4.181328</td>\n",
              "    </tr>\n",
              "    <tr>\n",
              "      <th>4</th>\n",
              "      <td>-1.709226</td>\n",
              "      <td>1.066033</td>\n",
              "    </tr>\n",
              "  </tbody>\n",
              "</table>\n",
              "</div>\n",
              "      <button class=\"colab-df-convert\" onclick=\"convertToInteractive('df-1d75cd0a-7a4e-4d2b-b7ba-afa62f4f21cb')\"\n",
              "              title=\"Convert this dataframe to an interactive table.\"\n",
              "              style=\"display:none;\">\n",
              "        \n",
              "  <svg xmlns=\"http://www.w3.org/2000/svg\" height=\"24px\"viewBox=\"0 0 24 24\"\n",
              "       width=\"24px\">\n",
              "    <path d=\"M0 0h24v24H0V0z\" fill=\"none\"/>\n",
              "    <path d=\"M18.56 5.44l.94 2.06.94-2.06 2.06-.94-2.06-.94-.94-2.06-.94 2.06-2.06.94zm-11 1L8.5 8.5l.94-2.06 2.06-.94-2.06-.94L8.5 2.5l-.94 2.06-2.06.94zm10 10l.94 2.06.94-2.06 2.06-.94-2.06-.94-.94-2.06-.94 2.06-2.06.94z\"/><path d=\"M17.41 7.96l-1.37-1.37c-.4-.4-.92-.59-1.43-.59-.52 0-1.04.2-1.43.59L10.3 9.45l-7.72 7.72c-.78.78-.78 2.05 0 2.83L4 21.41c.39.39.9.59 1.41.59.51 0 1.02-.2 1.41-.59l7.78-7.78 2.81-2.81c.8-.78.8-2.07 0-2.86zM5.41 20L4 18.59l7.72-7.72 1.47 1.35L5.41 20z\"/>\n",
              "  </svg>\n",
              "      </button>\n",
              "      \n",
              "  <style>\n",
              "    .colab-df-container {\n",
              "      display:flex;\n",
              "      flex-wrap:wrap;\n",
              "      gap: 12px;\n",
              "    }\n",
              "\n",
              "    .colab-df-convert {\n",
              "      background-color: #E8F0FE;\n",
              "      border: none;\n",
              "      border-radius: 50%;\n",
              "      cursor: pointer;\n",
              "      display: none;\n",
              "      fill: #1967D2;\n",
              "      height: 32px;\n",
              "      padding: 0 0 0 0;\n",
              "      width: 32px;\n",
              "    }\n",
              "\n",
              "    .colab-df-convert:hover {\n",
              "      background-color: #E2EBFA;\n",
              "      box-shadow: 0px 1px 2px rgba(60, 64, 67, 0.3), 0px 1px 3px 1px rgba(60, 64, 67, 0.15);\n",
              "      fill: #174EA6;\n",
              "    }\n",
              "\n",
              "    [theme=dark] .colab-df-convert {\n",
              "      background-color: #3B4455;\n",
              "      fill: #D2E3FC;\n",
              "    }\n",
              "\n",
              "    [theme=dark] .colab-df-convert:hover {\n",
              "      background-color: #434B5C;\n",
              "      box-shadow: 0px 1px 3px 1px rgba(0, 0, 0, 0.15);\n",
              "      filter: drop-shadow(0px 1px 2px rgba(0, 0, 0, 0.3));\n",
              "      fill: #FFFFFF;\n",
              "    }\n",
              "  </style>\n",
              "\n",
              "      <script>\n",
              "        const buttonEl =\n",
              "          document.querySelector('#df-1d75cd0a-7a4e-4d2b-b7ba-afa62f4f21cb button.colab-df-convert');\n",
              "        buttonEl.style.display =\n",
              "          google.colab.kernel.accessAllowed ? 'block' : 'none';\n",
              "\n",
              "        async function convertToInteractive(key) {\n",
              "          const element = document.querySelector('#df-1d75cd0a-7a4e-4d2b-b7ba-afa62f4f21cb');\n",
              "          const dataTable =\n",
              "            await google.colab.kernel.invokeFunction('convertToInteractive',\n",
              "                                                     [key], {});\n",
              "          if (!dataTable) return;\n",
              "\n",
              "          const docLinkHtml = 'Like what you see? Visit the ' +\n",
              "            '<a target=\"_blank\" href=https://colab.research.google.com/notebooks/data_table.ipynb>data table notebook</a>'\n",
              "            + ' to learn more about interactive tables.';\n",
              "          element.innerHTML = '';\n",
              "          dataTable['output_type'] = 'display_data';\n",
              "          await google.colab.output.renderOutput(dataTable, element);\n",
              "          const docLink = document.createElement('div');\n",
              "          docLink.innerHTML = docLinkHtml;\n",
              "          element.appendChild(docLink);\n",
              "        }\n",
              "      </script>\n",
              "    </div>\n",
              "  </div>\n",
              "  "
            ]
          },
          "metadata": {}
        },
        {
          "output_type": "display_data",
          "data": {
            "text/plain": [
              "       com1      com2  target\n",
              "0 -0.205661 -0.100516       1\n",
              "1 -1.284535 -1.357988       1\n",
              "2 -0.359001 -0.019595       1\n",
              "3 -2.423278  4.181328       1\n",
              "4 -1.709226  1.066033       1"
            ],
            "text/html": [
              "\n",
              "  <div id=\"df-b293546a-29f5-44fb-99e8-230f89214659\">\n",
              "    <div class=\"colab-df-container\">\n",
              "      <div>\n",
              "<style scoped>\n",
              "    .dataframe tbody tr th:only-of-type {\n",
              "        vertical-align: middle;\n",
              "    }\n",
              "\n",
              "    .dataframe tbody tr th {\n",
              "        vertical-align: top;\n",
              "    }\n",
              "\n",
              "    .dataframe thead th {\n",
              "        text-align: right;\n",
              "    }\n",
              "</style>\n",
              "<table border=\"1\" class=\"dataframe\">\n",
              "  <thead>\n",
              "    <tr style=\"text-align: right;\">\n",
              "      <th></th>\n",
              "      <th>com1</th>\n",
              "      <th>com2</th>\n",
              "      <th>target</th>\n",
              "    </tr>\n",
              "  </thead>\n",
              "  <tbody>\n",
              "    <tr>\n",
              "      <th>0</th>\n",
              "      <td>-0.205661</td>\n",
              "      <td>-0.100516</td>\n",
              "      <td>1</td>\n",
              "    </tr>\n",
              "    <tr>\n",
              "      <th>1</th>\n",
              "      <td>-1.284535</td>\n",
              "      <td>-1.357988</td>\n",
              "      <td>1</td>\n",
              "    </tr>\n",
              "    <tr>\n",
              "      <th>2</th>\n",
              "      <td>-0.359001</td>\n",
              "      <td>-0.019595</td>\n",
              "      <td>1</td>\n",
              "    </tr>\n",
              "    <tr>\n",
              "      <th>3</th>\n",
              "      <td>-2.423278</td>\n",
              "      <td>4.181328</td>\n",
              "      <td>1</td>\n",
              "    </tr>\n",
              "    <tr>\n",
              "      <th>4</th>\n",
              "      <td>-1.709226</td>\n",
              "      <td>1.066033</td>\n",
              "      <td>1</td>\n",
              "    </tr>\n",
              "  </tbody>\n",
              "</table>\n",
              "</div>\n",
              "      <button class=\"colab-df-convert\" onclick=\"convertToInteractive('df-b293546a-29f5-44fb-99e8-230f89214659')\"\n",
              "              title=\"Convert this dataframe to an interactive table.\"\n",
              "              style=\"display:none;\">\n",
              "        \n",
              "  <svg xmlns=\"http://www.w3.org/2000/svg\" height=\"24px\"viewBox=\"0 0 24 24\"\n",
              "       width=\"24px\">\n",
              "    <path d=\"M0 0h24v24H0V0z\" fill=\"none\"/>\n",
              "    <path d=\"M18.56 5.44l.94 2.06.94-2.06 2.06-.94-2.06-.94-.94-2.06-.94 2.06-2.06.94zm-11 1L8.5 8.5l.94-2.06 2.06-.94-2.06-.94L8.5 2.5l-.94 2.06-2.06.94zm10 10l.94 2.06.94-2.06 2.06-.94-2.06-.94-.94-2.06-.94 2.06-2.06.94z\"/><path d=\"M17.41 7.96l-1.37-1.37c-.4-.4-.92-.59-1.43-.59-.52 0-1.04.2-1.43.59L10.3 9.45l-7.72 7.72c-.78.78-.78 2.05 0 2.83L4 21.41c.39.39.9.59 1.41.59.51 0 1.02-.2 1.41-.59l7.78-7.78 2.81-2.81c.8-.78.8-2.07 0-2.86zM5.41 20L4 18.59l7.72-7.72 1.47 1.35L5.41 20z\"/>\n",
              "  </svg>\n",
              "      </button>\n",
              "      \n",
              "  <style>\n",
              "    .colab-df-container {\n",
              "      display:flex;\n",
              "      flex-wrap:wrap;\n",
              "      gap: 12px;\n",
              "    }\n",
              "\n",
              "    .colab-df-convert {\n",
              "      background-color: #E8F0FE;\n",
              "      border: none;\n",
              "      border-radius: 50%;\n",
              "      cursor: pointer;\n",
              "      display: none;\n",
              "      fill: #1967D2;\n",
              "      height: 32px;\n",
              "      padding: 0 0 0 0;\n",
              "      width: 32px;\n",
              "    }\n",
              "\n",
              "    .colab-df-convert:hover {\n",
              "      background-color: #E2EBFA;\n",
              "      box-shadow: 0px 1px 2px rgba(60, 64, 67, 0.3), 0px 1px 3px 1px rgba(60, 64, 67, 0.15);\n",
              "      fill: #174EA6;\n",
              "    }\n",
              "\n",
              "    [theme=dark] .colab-df-convert {\n",
              "      background-color: #3B4455;\n",
              "      fill: #D2E3FC;\n",
              "    }\n",
              "\n",
              "    [theme=dark] .colab-df-convert:hover {\n",
              "      background-color: #434B5C;\n",
              "      box-shadow: 0px 1px 3px 1px rgba(0, 0, 0, 0.15);\n",
              "      filter: drop-shadow(0px 1px 2px rgba(0, 0, 0, 0.3));\n",
              "      fill: #FFFFFF;\n",
              "    }\n",
              "  </style>\n",
              "\n",
              "      <script>\n",
              "        const buttonEl =\n",
              "          document.querySelector('#df-b293546a-29f5-44fb-99e8-230f89214659 button.colab-df-convert');\n",
              "        buttonEl.style.display =\n",
              "          google.colab.kernel.accessAllowed ? 'block' : 'none';\n",
              "\n",
              "        async function convertToInteractive(key) {\n",
              "          const element = document.querySelector('#df-b293546a-29f5-44fb-99e8-230f89214659');\n",
              "          const dataTable =\n",
              "            await google.colab.kernel.invokeFunction('convertToInteractive',\n",
              "                                                     [key], {});\n",
              "          if (!dataTable) return;\n",
              "\n",
              "          const docLinkHtml = 'Like what you see? Visit the ' +\n",
              "            '<a target=\"_blank\" href=https://colab.research.google.com/notebooks/data_table.ipynb>data table notebook</a>'\n",
              "            + ' to learn more about interactive tables.';\n",
              "          element.innerHTML = '';\n",
              "          dataTable['output_type'] = 'display_data';\n",
              "          await google.colab.output.renderOutput(dataTable, element);\n",
              "          const docLink = document.createElement('div');\n",
              "          docLink.innerHTML = docLinkHtml;\n",
              "          element.appendChild(docLink);\n",
              "        }\n",
              "      </script>\n",
              "    </div>\n",
              "  </div>\n",
              "  "
            ]
          },
          "metadata": {}
        }
      ]
    },
    {
      "cell_type": "code",
      "source": [
        "'''\n",
        "from sklearn.discriminant_analysis import LinearDiscriminantAnalysis\n",
        "\n",
        "trans_w2v_df = StandardScaler().fit_transform(w2v_df)\n",
        "\n",
        "# apply Linear Discriminant Analysis\n",
        "lda = LinearDiscriminantAnalysis(n_components=1)\n",
        "lda_w2v_df = lda.fit_transform(trans_w2v_df, df['target'])\n",
        "print(lda_w2v_df.shape) \n",
        "\n",
        "\n",
        "lda_w2v_df_visual = pd.DataFrame({'lda_com': lda_w2v_df[:,0]})\n",
        "display(lda_w2v_df_visual.head())\n",
        "\n",
        "lda_w2v_df_visual['target'] = df['target']\n",
        "display(lda_w2v_df_visual.head())\n",
        "\n",
        "\n",
        "import seaborn as sns\n",
        "sns.set_theme(style=\"whitegrid\")\n",
        "ax = sns.stripplot(x=\"lda_com\" ,y=\"target\" , data=lda_w2v_df_visual)'''\n",
        "  "
      ],
      "metadata": {
        "id": "MzNFyvE-nvBW",
        "colab": {
          "base_uri": "https://localhost:8080/",
          "height": 149
        },
        "outputId": "b101d497-8f3c-4d2e-d12e-b16ac278e6a6"
      },
      "execution_count": 58,
      "outputs": [
        {
          "output_type": "execute_result",
          "data": {
            "text/plain": [
              "'\\nfrom sklearn.discriminant_analysis import LinearDiscriminantAnalysis\\n\\ntrans_w2v_df = StandardScaler().fit_transform(w2v_df)\\n\\n# apply Linear Discriminant Analysis\\nlda = LinearDiscriminantAnalysis(n_components=1)\\nlda_w2v_df = lda.fit_transform(trans_w2v_df, df[\\'target\\'])\\nprint(lda_w2v_df.shape) \\n\\n\\nlda_w2v_df_visual = pd.DataFrame({\\'lda_com\\': lda_w2v_df[:,0]})\\ndisplay(lda_w2v_df_visual.head())\\n\\nlda_w2v_df_visual[\\'target\\'] = df[\\'target\\']\\ndisplay(lda_w2v_df_visual.head())\\n\\n\\nimport seaborn as sns\\nsns.set_theme(style=\"whitegrid\")\\nax = sns.stripplot(x=\"lda_com\" ,y=\"target\" , data=lda_w2v_df_visual)'"
            ],
            "application/vnd.google.colaboratory.intrinsic+json": {
              "type": "string"
            }
          },
          "metadata": {},
          "execution_count": 58
        }
      ]
    },
    {
      "cell_type": "code",
      "source": [
        "# This is for visualization code\n",
        "from sklearn.decomposition import PCA\n",
        "\n",
        "pca_visual = PCA(n_components=2)\n",
        "df_visual = pca_visual.fit_transform(trans_w2v_df)\n",
        "print(df_visual.shape) \n",
        "\n",
        "df_pca_visual = pd.DataFrame(df_visual, columns=['com1', 'com2'])\n",
        "#display(df_pca_visual.head())\n",
        "\n",
        "df_pca_visual['target'] = df['target']\n",
        "#display(df_pca_visual.head())\n",
        "sns.scatterplot(data=df_pca_visual, x=\"com1\", y=\"com2\", hue=\"target\")\n"
      ],
      "metadata": {
        "colab": {
          "base_uri": "https://localhost:8080/",
          "height": 311
        },
        "id": "riiysqjAZyf8",
        "outputId": "921e8002-ddad-452f-b90a-cdf920d1bc9f"
      },
      "execution_count": 59,
      "outputs": [
        {
          "output_type": "stream",
          "name": "stdout",
          "text": [
            "(7613, 2)\n"
          ]
        },
        {
          "output_type": "execute_result",
          "data": {
            "text/plain": [
              "<matplotlib.axes._subplots.AxesSubplot at 0x7f487e4eb550>"
            ]
          },
          "metadata": {},
          "execution_count": 59
        },
        {
          "output_type": "display_data",
          "data": {
            "text/plain": [
              "<Figure size 432x288 with 1 Axes>"
            ],
            "image/png": "[encoded data removed]"
          },
          "metadata": {
            "needs_background": "light"
          }
        }
      ]
    },
    {
      "cell_type": "markdown",
      "source": [
        "# Data Split"
      ],
      "metadata": {
        "id": "G7l21GNwqGzR"
      }
    },
    {
      "cell_type": "code",
      "source": [
        "cv_df.shape"
      ],
      "metadata": {
        "colab": {
          "base_uri": "https://localhost:8080/"
        },
        "id": "g5TRhxvQyDx4",
        "outputId": "6a9b45be-1216-4b0d-ae23-56214885c6dd"
      },
      "execution_count": 60,
      "outputs": [
        {
          "output_type": "execute_result",
          "data": {
            "text/plain": [
              "(7613, 16270)"
            ]
          },
          "metadata": {},
          "execution_count": 60
        }
      ]
    },
    {
      "cell_type": "code",
      "source": [
        "tfidf_df.shape"
      ],
      "metadata": {
        "colab": {
          "base_uri": "https://localhost:8080/"
        },
        "id": "GflPV8x3yHXi",
        "outputId": "7e7effdb-2100-4e42-83dd-9d761114e1c9"
      },
      "execution_count": 61,
      "outputs": [
        {
          "output_type": "execute_result",
          "data": {
            "text/plain": [
              "(7613, 63245)"
            ]
          },
          "metadata": {},
          "execution_count": 61
        }
      ]
    },
    {
      "cell_type": "code",
      "source": [
        "print(len(w2v_df))\n",
        "print(len(w2v_df[0]))"
      ],
      "metadata": {
        "colab": {
          "base_uri": "https://localhost:8080/"
        },
        "id": "alkM4O0iyHeu",
        "outputId": "9af120eb-ccd0-457e-c93d-d0cd08b3e9b7"
      },
      "execution_count": 62,
      "outputs": [
        {
          "output_type": "stream",
          "name": "stdout",
          "text": [
            "7613\n",
            "300\n"
          ]
        }
      ]
    },
    {
      "cell_type": "code",
      "source": [
        "pca_trans_w2v_df.shape"
      ],
      "metadata": {
        "colab": {
          "base_uri": "https://localhost:8080/"
        },
        "id": "u-lOajdDyHw0",
        "outputId": "81596fc6-43e5-4649-b463-28ebe9936359"
      },
      "execution_count": 63,
      "outputs": [
        {
          "output_type": "execute_result",
          "data": {
            "text/plain": [
              "(7613, 100)"
            ]
          },
          "metadata": {},
          "execution_count": 63
        }
      ]
    },
    {
      "cell_type": "code",
      "source": [
        "from sklearn.model_selection import train_test_split\n",
        "\n",
        "cv_train_X, cv_test_X, cv_train_Y, cv_test_y = train_test_split(cv_df, df['target'], test_size=0.30, random_state=17)\n",
        "tfidf_train_X, tfidf_test_X, tfidf_train_Y, tfidf_test_y = train_test_split(tfidf_df, df['target'], test_size=0.30, random_state=17)\n",
        "w2v_train_X, w2v_test_X, w2v_train_Y, w2v_test_y = train_test_split(w2v_df, df['target'], test_size=0.30, random_state=17)\n",
        "pca_w2v_train_X, pca_w2v_test_X, pca_w2v_train_Y, pca_w2v_test_y = train_test_split(pca_trans_w2v_df, df['target'], test_size=0.30, random_state=17)"
      ],
      "metadata": {
        "id": "VO-P8ypzIQqf"
      },
      "execution_count": 64,
      "outputs": []
    },
    {
      "cell_type": "code",
      "source": [
        "cv_train_X.shape"
      ],
      "metadata": {
        "colab": {
          "base_uri": "https://localhost:8080/"
        },
        "id": "XiBBuKlwu_bT",
        "outputId": "ab435d57-2794-435d-cf37-3b08d0a8b128"
      },
      "execution_count": 65,
      "outputs": [
        {
          "output_type": "execute_result",
          "data": {
            "text/plain": [
              "(5329, 16270)"
            ]
          },
          "metadata": {},
          "execution_count": 65
        }
      ]
    },
    {
      "cell_type": "code",
      "source": [
        "cv_test_y.shape"
      ],
      "metadata": {
        "colab": {
          "base_uri": "https://localhost:8080/"
        },
        "id": "5y2snXuzwah2",
        "outputId": "40e0253b-1fb7-436a-c1b3-5a2ff524cd82"
      },
      "execution_count": 66,
      "outputs": [
        {
          "output_type": "execute_result",
          "data": {
            "text/plain": [
              "(2284,)"
            ]
          },
          "metadata": {},
          "execution_count": 66
        }
      ]
    },
    {
      "cell_type": "code",
      "source": [
        "tfidf_train_X.shape"
      ],
      "metadata": {
        "colab": {
          "base_uri": "https://localhost:8080/"
        },
        "id": "hZw0Lm8OwUCQ",
        "outputId": "f9049721-5b10-4b18-822f-b4141b1efa74"
      },
      "execution_count": 67,
      "outputs": [
        {
          "output_type": "execute_result",
          "data": {
            "text/plain": [
              "(5329, 63245)"
            ]
          },
          "metadata": {},
          "execution_count": 67
        }
      ]
    },
    {
      "cell_type": "code",
      "source": [
        "pca_w2v_train_X.shape"
      ],
      "metadata": {
        "colab": {
          "base_uri": "https://localhost:8080/"
        },
        "id": "g3TbU_05wUKk",
        "outputId": "ffe36409-7c15-4e2e-ef4d-557090ac1c11"
      },
      "execution_count": 68,
      "outputs": [
        {
          "output_type": "execute_result",
          "data": {
            "text/plain": [
              "(5329, 100)"
            ]
          },
          "metadata": {},
          "execution_count": 68
        }
      ]
    },
    {
      "cell_type": "markdown",
      "source": [
        "# *LogisticRegression* best CV 0.801\n",
        "\n",
        "\n"
      ],
      "metadata": {
        "id": "XH3_NJne6fB7"
      }
    },
    {
      "cell_type": "code",
      "source": [
        "from sklearn.linear_model import LogisticRegression\n",
        "from sklearn.metrics import accuracy_score\n",
        "from sklearn.model_selection import cross_val_score\n",
        "from sklearn.metrics import confusion_matrix\n",
        "from sklearn.metrics import precision_score, recall_score, f1_score, accuracy_score\n",
        "\n",
        "\n",
        "def model_Logistic(train_X, test_X, train_y, test_y) :\n",
        "  logisticRegr = LogisticRegression()\n",
        "  logisticRegr.fit(train_X, train_y)\n",
        "  pred_y = logisticRegr.predict(test_X)\n",
        "\n",
        "  #Accuracy\n",
        "  print('accuracy_score: %.3f' % accuracy_score(test_y, pred_y))\n",
        "  print('Recall: %.3f' % recall_score(test_y, pred_y))\n",
        "  print('Precision: %.3f' % precision_score(test_y, pred_y))\n",
        "  print('F1 Score: %.3f' % f1_score(test_y, pred_y))\n"
      ],
      "metadata": {
        "id": "73oxB7Ym7AKS"
      },
      "execution_count": 69,
      "outputs": []
    },
    {
      "cell_type": "code",
      "source": [
        "#model_Logistic(cv_train_X, cv_test_X, cv_train_Y, cv_test_y)\n",
        "#model_Logistic(tfidf_train_X, tfidf_test_X, tfidf_train_Y, tfidf_test_y)\n",
        "#model_Logistic(w2v_train_X, w2v_test_X, w2v_train_Y, w2v_test_y)\n",
        "#model_Logistic(pca_w2v_train_X, pca_w2v_test_X, pca_w2v_train_Y, pca_w2v_test_y)"
      ],
      "metadata": {
        "id": "5uXcHIN778al"
      },
      "execution_count": 70,
      "outputs": []
    },
    {
      "cell_type": "markdown",
      "source": [
        "**LogitricRegression with CountVector has better accuracy**\n"
      ],
      "metadata": {
        "id": "s_FS9InpHfBU"
      }
    },
    {
      "cell_type": "code",
      "source": [
        "#cv_train_X, cv_test_X, cv_train_Y, cv_test_y\n",
        "\n",
        "'''\n",
        "#To find best tuning option\n",
        "\n",
        "\n",
        "group_c = [10, 5, 1, 0.1, 0.001]\n",
        "\n",
        "for c in group_c:\n",
        "    logistic_lasso = LogisticRegression(C=c, penalty='l1', tol=0.001, solver='liblinear', random_state=42,  max_iter=10000) #lasso\n",
        "    logistic_ridge = LogisticRegression(C=c, penalty='l2', tol=0.001, solver='liblinear', random_state=42, max_iter=10000)  #Ridge \n",
        "    l_ela = LogisticRegression(C=c, penalty='elasticnet', solver='saga', l1_ratio=0.5, tol=0.001, max_iter=10000)\n",
        "    \n",
        "    logistic_lasso.fit(cv_train_X, cv_train_Y.values.ravel())\n",
        "    logistic_ridge.fit(cv_train_X, cv_train_Y.values.ravel())\n",
        "    l_ela.fit(cv_train_X, cv_train_Y.values.ravel())\n",
        "    \n",
        "    coef_l1_LR = logistic_lasso.coef_.ravel()\n",
        "    coef_l2_LR = logistic_ridge.coef_.ravel()\n",
        "    coef_ela_LR = l_ela.coef_.ravel()\n",
        "    \n",
        "    # coef_l1_LR contains zeros due to the L1 sparsity inducing norm\n",
        "    sparsity_l1_LR = np.mean(coef_l1_LR == 0) * 100\n",
        "    sparsity_l2_LR = np.mean(coef_l2_LR == 0) * 100 \n",
        "    sparsity_l_ela = np.mean(coef_ela_LR == 0) * 100 \n",
        "\n",
        "    print(\"\\n C=%.5f\" % c)\n",
        "    print(\"{:<40} {:.2f}%\".format(\"Sparsity with L1 penalty:\", sparsity_l1_LR))\n",
        "    print(\"{:<40} {:.2f}%\".format(\"Sparsity with L2 penalty:\", sparsity_l2_LR))\n",
        "    print(\"{:<40} {:.2f}%\".format(\"Sparsity with Ela penalty:\", sparsity_l_ela))\n",
        "    print(\"{:<40} {:.3f}\".format(\"Score with L1 penalty:\", logistic_lasso.score(cv_test_X, cv_test_y.values.ravel())))  #lasso score\n",
        "    print(\"{:<40} {:.3f}\".format(\"Score with L2 penalty:\",logistic_ridge.score(cv_test_X, cv_test_y.values.ravel())))   #ridge score\n",
        "    print(\"{:<40} {:.3f}\".format(\"Score with Ela penalty:\",l_ela.score(cv_test_X, cv_test_y.values.ravel())))   #elastic score\n",
        "\n",
        "'''"
      ],
      "metadata": {
        "colab": {
          "base_uri": "https://localhost:8080/",
          "height": 215
        },
        "id": "qwITlyyJpPk2",
        "outputId": "803e8829-8322-4ec0-94ec-080012c9a2cf"
      },
      "execution_count": 71,
      "outputs": [
        {
          "output_type": "execute_result",
          "data": {
            "text/plain": [
              "'\\n#To find best tuning option\\n\\n\\ngroup_c = [10, 5, 1, 0.1, 0.001]\\n\\nfor c in group_c:\\n    logistic_lasso = LogisticRegression(C=c, penalty=\\'l1\\', tol=0.001, solver=\\'liblinear\\', random_state=42,  max_iter=10000) #lasso\\n    logistic_ridge = LogisticRegression(C=c, penalty=\\'l2\\', tol=0.001, solver=\\'liblinear\\', random_state=42, max_iter=10000)  #Ridge \\n    l_ela = LogisticRegression(C=c, penalty=\\'elasticnet\\', solver=\\'saga\\', l1_ratio=0.5, tol=0.001, max_iter=10000)\\n    \\n    logistic_lasso.fit(cv_train_X, cv_train_Y.values.ravel())\\n    logistic_ridge.fit(cv_train_X, cv_train_Y.values.ravel())\\n    l_ela.fit(cv_train_X, cv_train_Y.values.ravel())\\n    \\n    coef_l1_LR = logistic_lasso.coef_.ravel()\\n    coef_l2_LR = logistic_ridge.coef_.ravel()\\n    coef_ela_LR = l_ela.coef_.ravel()\\n    \\n    # coef_l1_LR contains zeros due to the L1 sparsity inducing norm\\n    sparsity_l1_LR = np.mean(coef_l1_LR == 0) * 100\\n    sparsity_l2_LR = np.mean(coef_l2_LR == 0) * 100 \\n    sparsity_l_ela = np.mean(coef_ela_LR == 0) * 100 \\n\\n    print(\"\\n C=%.5f\" % c)\\n    print(\"{:<40} {:.2f}%\".format(\"Sparsity with L1 penalty:\", sparsity_l1_LR))\\n    print(\"{:<40} {:.2f}%\".format(\"Sparsity with L2 penalty:\", sparsity_l2_LR))\\n    print(\"{:<40} {:.2f}%\".format(\"Sparsity with Ela penalty:\", sparsity_l_ela))\\n    print(\"{:<40} {:.3f}\".format(\"Score with L1 penalty:\", logistic_lasso.score(cv_test_X, cv_test_y.values.ravel())))  #lasso score\\n    print(\"{:<40} {:.3f}\".format(\"Score with L2 penalty:\",logistic_ridge.score(cv_test_X, cv_test_y.values.ravel())))   #ridge score\\n    print(\"{:<40} {:.3f}\".format(\"Score with Ela penalty:\",l_ela.score(cv_test_X, cv_test_y.values.ravel())))   #elastic score\\n\\n'"
            ],
            "application/vnd.google.colaboratory.intrinsic+json": {
              "type": "string"
            }
          },
          "metadata": {},
          "execution_count": 71
        }
      ]
    },
    {
      "cell_type": "markdown",
      "source": [
        "**Best parameters**"
      ],
      "metadata": {
        "id": "vn9nZztuYKTl"
      }
    },
    {
      "cell_type": "code",
      "source": [
        "''' BEST OPTION'''\n",
        "#cv_train_X, cv_test_X, cv_train_Y, cv_test_y\n",
        "\n",
        "logisticRegr = LogisticRegression(C=0.45, penalty='l2', tol=0.01, solver='liblinear', random_state=42, max_iter=100)\n",
        "logisticRegr.fit(cv_train_X, cv_train_Y)\n",
        "pred_y = logisticRegr.predict(cv_test_X)\n",
        "\n",
        "#Accuracy\n",
        "print('accuracy_score: %.3f' % accuracy_score(cv_test_y, pred_y))\n",
        "print('Recall: %.3f' % recall_score(cv_test_y, pred_y))\n",
        "print('Precision: %.3f' % precision_score(cv_test_y, pred_y))\n",
        "print('F1 Score: %.3f' % f1_score(cv_test_y, pred_y))\n",
        "\n",
        "\n",
        "conf_matrix = confusion_matrix(y_true=cv_test_y, y_pred=pred_y)\n",
        "#\n",
        "# Print the confusion matrix using Matplotlib\n",
        "#\n",
        "fig, ax = plt.subplots(figsize=(5, 5))\n",
        "ax.matshow(conf_matrix, cmap=plt.cm.Oranges, alpha=0.3)\n",
        "for i in range(conf_matrix.shape[0]):\n",
        "    for j in range(conf_matrix.shape[1]):\n",
        "        ax.text(x=j, y=i,s=conf_matrix[i, j], va='center', ha='center', size='xx-large')\n",
        "\n",
        "plt.xlabel('Predictions', fontsize=18)\n",
        "plt.ylabel('Actuals', fontsize=18)\n",
        "plt.title('Confusion Matrix', fontsize=18)\n",
        "plt.show()\n"
      ],
      "metadata": {
        "colab": {
          "base_uri": "https://localhost:8080/",
          "height": 423
        },
        "id": "3rTnusMlO8y-",
        "outputId": "a1749508-0960-4568-ee2c-33cdf65041b2"
      },
      "execution_count": 72,
      "outputs": [
        {
          "output_type": "stream",
          "name": "stdout",
          "text": [
            "accuracy_score: 0.801\n",
            "Recall: 0.687\n",
            "Precision: 0.826\n",
            "F1 Score: 0.750\n"
          ]
        },
        {
          "output_type": "display_data",
          "data": {
            "text/plain": [
              "<Figure size 360x360 with 1 Axes>"
            ],
            "image/png": "[encoded data removed]"
          },
          "metadata": {
            "needs_background": "light"
          }
        }
      ]
    },
    {
      "cell_type": "markdown",
      "source": [
        "# Model - SVM Best cv 0.800"
      ],
      "metadata": {
        "id": "vUuzb2ZAqNij"
      }
    },
    {
      "cell_type": "code",
      "source": [
        "import matplotlib.pyplot as plt\n",
        "from sklearn import svm\n",
        "from sklearn.metrics import accuracy_score\n",
        "from sklearn.model_selection import cross_val_score\n",
        "from sklearn.metrics import confusion_matrix\n",
        "from sklearn.metrics import precision_score, recall_score, f1_score, accuracy_score\n",
        "\n",
        "\n",
        " \n",
        "def model_SVM(train_X, test_X, train_y, test_y) :\n",
        "  svm_clf = svm.SVC()\n",
        "  svm_clf= svm_clf.fit(train_X, train_y)\n",
        "  pred_y = svm_clf.predict(test_X)\n",
        "\n",
        "  #Accuracy\n",
        "  print('accuracy_score: %.3f' % accuracy_score(test_y, pred_y))\n",
        "  print('Recall: %.3f' % recall_score(test_y, pred_y))\n",
        "  print('Precision: %.3f' % precision_score(test_y, pred_y))\n",
        "  print('F1 Score: %.3f' % f1_score(test_y, pred_y))"
      ],
      "metadata": {
        "id": "uCaehTpsJCPc"
      },
      "execution_count": 73,
      "outputs": []
    },
    {
      "cell_type": "markdown",
      "source": [
        "**Training three datasets on Basic SVM and Prediction/Accuracy**"
      ],
      "metadata": {
        "id": "L8tszhS_quLo"
      }
    },
    {
      "cell_type": "code",
      "source": [
        "'''\n",
        "model_SVM(cv_train_X, cv_test_X, cv_train_Y, cv_test_y)\n",
        "model_SVM(tfidf_train_X, tfidf_test_X, tfidf_train_Y, tfidf_test_y)\n",
        "model_SVM(w2v_train_X, w2v_test_X, w2v_train_Y, w2v_test_y)\n",
        "model_SVM(pca_w2v_train_X, pca_w2v_test_X, pca_w2v_train_Y, pca_w2v_test_y)\n",
        "'''"
      ],
      "metadata": {
        "colab": {
          "base_uri": "https://localhost:8080/",
          "height": 83
        },
        "id": "moyZr_SFJ3r2",
        "outputId": "390188aa-cf48-4030-9387-68404fca03c0"
      },
      "execution_count": 74,
      "outputs": [
        {
          "output_type": "execute_result",
          "data": {
            "text/plain": [
              "'\\nmodel_SVM(cv_train_X, cv_test_X, cv_train_Y, cv_test_y)\\nmodel_SVM(tfidf_train_X, tfidf_test_X, tfidf_train_Y, tfidf_test_y)\\nmodel_SVM(w2v_train_X, w2v_test_X, w2v_train_Y, w2v_test_y)\\nmodel_SVM(pca_w2v_train_X, pca_w2v_test_X, pca_w2v_train_Y, pca_w2v_test_y)\\n'"
            ],
            "application/vnd.google.colaboratory.intrinsic+json": {
              "type": "string"
            }
          },
          "metadata": {},
          "execution_count": 74
        }
      ]
    },
    {
      "cell_type": "markdown",
      "source": [
        "**SVM with CounterVector has higher accuracy**"
      ],
      "metadata": {
        "id": "Ve0IQYrBuo5T"
      }
    },
    {
      "cell_type": "code",
      "source": [
        "from sklearn.metrics import precision_score, recall_score, f1_score, accuracy_score\n",
        "\n",
        "def testModel(train_x, test_x, train_y, test_y, _c, _gam, _kn):\n",
        "  SVM = svm.SVC(kernel=_kn, C=_c)\n",
        "  SVM.fit(train_x, train_y)\n",
        "  pred_y = SVM.predict(test_x)\n",
        "  #Accuracy\n",
        "  print('accuracy_score: %.3f' % accuracy_score(test_y, pred_y))\n",
        "  #print('Recall: %.3f' % recall_score(test_y, pred_y))\n",
        "  #print('Precision: %.3f' % precision_score(test_y, pred_y))\n",
        "  #print('F1 Score: %.3f' % f1_score(test_y, pred_y))\n",
        "\n",
        "  '''\n",
        "  conf_matrix = confusion_matrix(y_true=test_y, y_pred=pred_y)\n",
        "  #\n",
        "  # Print the confusion matrix using Matplotlib\n",
        "  #\n",
        "  fig, ax = plt.subplots(figsize=(5, 5))\n",
        "  ax.matshow(conf_matrix, cmap=plt.cm.Oranges, alpha=0.3)\n",
        "  for i in range(conf_matrix.shape[0]):\n",
        "      for j in range(conf_matrix.shape[1]):\n",
        "          ax.text(x=j, y=i,s=conf_matrix[i, j], va='center', ha='center', size='xx-large')\n",
        "  \n",
        "  plt.xlabel('Predictions', fontsize=18)\n",
        "  plt.ylabel('Actuals', fontsize=18)\n",
        "  plt.title('Confusion Matrix', fontsize=18)\n",
        "  plt.show()\n",
        "  '''\n",
        "\n",
        "'''\n",
        "group_c = [5, 1, 0.1, 0.05, 0.01, 0.001]\n",
        "group_gam = [5, 1, 0.1, 0.05, 0.01, 0.001]\n",
        "\n",
        "for c in group_c:\n",
        "  print(\"C value:\", c)\n",
        "  for gam in group_gam:\n",
        "    print(\"gam value:\", gam)\n",
        "    testModel(cv_train_X, cv_test_X, cv_train_Y, cv_test_y, c, gam, 'linear')\n",
        "\n",
        "\n",
        "for c in group_c:\n",
        "  print(\"C value:\", c)\n",
        "  for gam in group_gam:\n",
        "    print(\"gam value:\", gam)\n",
        "    testModel(cv_train_X, cv_test_X, cv_train_Y, cv_test_y, c, gam, 'rbf')\n",
        "\n",
        "\n",
        "for c in group_c:\n",
        "  print(\"C value:\", c)\n",
        "  for gam in group_gam:\n",
        "    print(\"gam value:\", gam)\n",
        "    testModel(cv_train_X, cv_test_X, cv_train_Y, cv_test_y, c, gam, 'poly')\n",
        "\n",
        "\n",
        "for c in group_c:\n",
        "  print(\"C value:\", c)\n",
        "  for gam in group_gam:\n",
        "    print(\"gam value:\", gam)\n",
        "    testModel(cv_train_X, cv_test_X, cv_train_Y, cv_test_y, c, gam, 'sigmoid')\n",
        "\n",
        "#testModel(cv_train_X, cv_test_X, cv_train_Y, cv_test_y, c, gam, 'linear')\n",
        "#testModel(cv_train_X, cv_test_X, cv_train_Y, cv_test_y, c, gam, 'rbf')\n",
        "#testModel(cv_train_X, cv_test_X, cv_train_Y, cv_test_y, 1, 'auto', 'poly')\n",
        "\n",
        "#testModel(cv_train_X, cv_test_X, cv_train_Y, cv_test_y, 1, 'auto', 'sigmoid')\n",
        "\n",
        "'''"
      ],
      "metadata": {
        "colab": {
          "base_uri": "https://localhost:8080/",
          "height": 215
        },
        "id": "uXsXofYsuu3s",
        "outputId": "30e5b486-c380-4342-f0eb-cdf9b2500b79"
      },
      "execution_count": 75,
      "outputs": [
        {
          "output_type": "execute_result",
          "data": {
            "text/plain": [
              "'\\ngroup_c = [5, 1, 0.1, 0.05, 0.01, 0.001]\\ngroup_gam = [5, 1, 0.1, 0.05, 0.01, 0.001]\\n\\nfor c in group_c:\\n  print(\"C value:\", c)\\n  for gam in group_gam:\\n    print(\"gam value:\", gam)\\n    testModel(cv_train_X, cv_test_X, cv_train_Y, cv_test_y, c, gam, \\'linear\\')\\n\\n\\nfor c in group_c:\\n  print(\"C value:\", c)\\n  for gam in group_gam:\\n    print(\"gam value:\", gam)\\n    testModel(cv_train_X, cv_test_X, cv_train_Y, cv_test_y, c, gam, \\'rbf\\')\\n\\n\\nfor c in group_c:\\n  print(\"C value:\", c)\\n  for gam in group_gam:\\n    print(\"gam value:\", gam)\\n    testModel(cv_train_X, cv_test_X, cv_train_Y, cv_test_y, c, gam, \\'poly\\')\\n\\n\\nfor c in group_c:\\n  print(\"C value:\", c)\\n  for gam in group_gam:\\n    print(\"gam value:\", gam)\\n    testModel(cv_train_X, cv_test_X, cv_train_Y, cv_test_y, c, gam, \\'sigmoid\\')\\n\\n#testModel(cv_train_X, cv_test_X, cv_train_Y, cv_test_y, c, gam, \\'linear\\')\\n#testModel(cv_train_X, cv_test_X, cv_train_Y, cv_test_y, c, gam, \\'rbf\\')\\n#testModel(cv_train_X, cv_test_X, cv_train_Y, cv_test_y, 1, \\'auto\\', \\'poly\\')\\n\\n#testModel(cv_train_X, cv_test_X, cv_train_Y, cv_test_y, 1, \\'auto\\', \\'sigmoid\\')\\n\\n'"
            ],
            "application/vnd.google.colaboratory.intrinsic+json": {
              "type": "string"
            }
          },
          "metadata": {},
          "execution_count": 75
        }
      ]
    },
    {
      "cell_type": "code",
      "source": [
        "from sklearn.metrics import precision_score, recall_score, f1_score, accuracy_score\n",
        "\n",
        "'''Best option'''\n",
        "\n",
        "def svm_model(train_x, test_x, train_y, test_y, _c, _gam, _kn):\n",
        "  SVM = svm.SVC(kernel=_kn, C=_c)\n",
        "  SVM.fit(train_x, train_y)\n",
        "  pred_y = SVM.predict(test_x)\n",
        "  #Accuracy\n",
        "  print('accuracy_score: %.3f' % accuracy_score(test_y, pred_y))\n",
        "  print('Recall: %.3f' % recall_score(test_y, pred_y))\n",
        "  print('Precision: %.3f' % precision_score(test_y, pred_y))\n",
        "  print('F1 Score: %.3f' % f1_score(test_y, pred_y))\n",
        "\n",
        "  conf_matrix = confusion_matrix(y_true=test_y, y_pred=pred_y)\n",
        "  #\n",
        "  # Print the confusion matrix using Matplotlib\n",
        "  #\n",
        "  fig, ax = plt.subplots(figsize=(5, 5))\n",
        "  ax.matshow(conf_matrix, cmap=plt.cm.Oranges, alpha=0.3)\n",
        "  for i in range(conf_matrix.shape[0]):\n",
        "      for j in range(conf_matrix.shape[1]):\n",
        "          ax.text(x=j, y=i,s=conf_matrix[i, j], va='center', ha='center', size='xx-large')\n",
        "\n",
        "  plt.xlabel('Predictions', fontsize=18)\n",
        "  plt.ylabel('Actuals', fontsize=18)\n",
        "  plt.title('Confusion Matrix', fontsize=18)\n",
        "  plt.show()\n",
        "  \n",
        "svm_model(cv_train_X, cv_test_X, cv_train_Y, cv_test_y, 1, 'auto', 'sigmoid')"
      ],
      "metadata": {
        "id": "1qyFJ44iIYZH",
        "colab": {
          "base_uri": "https://localhost:8080/",
          "height": 423
        },
        "outputId": "1abc1f24-874e-4e4c-fae0-b83fee917b4f"
      },
      "execution_count": 76,
      "outputs": [
        {
          "output_type": "stream",
          "name": "stdout",
          "text": [
            "accuracy_score: 0.800\n",
            "Recall: 0.668\n",
            "Precision: 0.839\n",
            "F1 Score: 0.744\n"
          ]
        },
        {
          "output_type": "display_data",
          "data": {
            "text/plain": [
              "<Figure size 360x360 with 1 Axes>"
            ],
            "image/png": "[encoded data removed]"
          },
          "metadata": {
            "needs_background": "light"
          }
        }
      ]
    },
    {
      "cell_type": "markdown",
      "source": [
        "# DecisionTree best Tf-Idf 0.756"
      ],
      "metadata": {
        "id": "o5IcasT28y_X"
      }
    },
    {
      "cell_type": "code",
      "source": [
        "from sklearn.tree import DecisionTreeClassifier\n",
        "from sklearn import tree\n",
        "from sklearn.metrics import accuracy_score\n",
        "from sklearn.metrics import precision_score, recall_score, f1_score, accuracy_score\n",
        "\n",
        "def model_DT (train_X, test_X, train_y, test_y) :\n",
        "  clf = DecisionTreeClassifier()\n",
        "  clf.fit(train_X, train_y)\n",
        "  pred_y = clf.predict(test_X)\n",
        "  #Accuracy\n",
        "  print('accuracy_score: %.3f' % accuracy_score(test_y, pred_y))\n",
        "  print('Recall: %.3f' % recall_score(test_y, pred_y))\n",
        "  print('Precision: %.3f' % precision_score(test_y, pred_y))\n",
        "  print('F1 Score: %.3f' % f1_score(test_y, pred_y))\n"
      ],
      "metadata": {
        "id": "5SJ2skzR82Px"
      },
      "execution_count": 77,
      "outputs": []
    },
    {
      "cell_type": "code",
      "source": [
        "'''\n",
        "model_DT(cv_train_X, cv_test_X, cv_train_Y, cv_test_y)\n",
        "model_DT(tfidf_train_X, tfidf_test_X, tfidf_train_Y, tfidf_test_y)\n",
        "model_DT(w2v_train_X, w2v_test_X, w2v_train_Y, w2v_test_y)\n",
        "model_DT(pca_w2v_train_X, pca_w2v_test_X, pca_w2v_train_Y, pca_w2v_test_y)\n",
        "'''"
      ],
      "metadata": {
        "colab": {
          "base_uri": "https://localhost:8080/",
          "height": 67
        },
        "id": "PNx8RCIl9u_M",
        "outputId": "437b3f25-18d0-426e-fead-d73feaaa9e5c"
      },
      "execution_count": 78,
      "outputs": [
        {
          "output_type": "execute_result",
          "data": {
            "text/plain": [
              "'\\nmodel_DT(cv_train_X, cv_test_X, cv_train_Y, cv_test_y)\\nmodel_DT(tfidf_train_X, tfidf_test_X, tfidf_train_Y, tfidf_test_y)\\nmodel_DT(w2v_train_X, w2v_test_X, w2v_train_Y, w2v_test_y)\\nmodel_DT(pca_w2v_train_X, pca_w2v_test_X, pca_w2v_train_Y, pca_w2v_test_y)\\n'"
            ],
            "application/vnd.google.colaboratory.intrinsic+json": {
              "type": "string"
            }
          },
          "metadata": {},
          "execution_count": 78
        }
      ]
    },
    {
      "cell_type": "markdown",
      "source": [
        "**Decision Tree with Td-Idf is higher accuracy.**"
      ],
      "metadata": {
        "id": "7RP3FFgz9-Mv"
      }
    },
    {
      "cell_type": "code",
      "source": [
        "def test_dt(x_train, x_test, y_train, y_test) :\n",
        "    print()\n",
        "    for c_depth in [2, 4, 6, 8, 10, 12, 20, 30, None] : \n",
        "        print(\"model selection depth = {0}\".format(c_depth))\n",
        "        clf_gini = DecisionTreeClassifier(criterion='gini', max_depth=c_depth,  random_state=27)\n",
        "        clf_gini.fit(x_train, y_train)\n",
        "        y_pred = clf_gini.predict(x_test)\n",
        "        print('gini accuracy_score: %.3f' % accuracy_score(y_test, y_pred))\n",
        "\n",
        "        clf_entropy = DecisionTreeClassifier(criterion='entropy', max_depth=c_depth,  random_state=27)\n",
        "        clf_entropy.fit(x_train, y_train)\n",
        "        y_pred = clf_entropy.predict(x_test)\n",
        "        print('entropy accuracy_score: %.3f' % accuracy_score(y_test, y_pred))\n",
        "\n",
        "#test_dt(tfidf_train_X, tfidf_test_X, tfidf_train_Y, tfidf_test_y)"
      ],
      "metadata": {
        "id": "kseLMuXe93u7"
      },
      "execution_count": 79,
      "outputs": []
    },
    {
      "cell_type": "code",
      "source": [
        "\n",
        "def test_dt(x_train, x_test, y_train, y_test) :\n",
        "    print()\n",
        "    for min_sp in [2, 4, 6, 8, 10, 12, 20] : \n",
        "      clf_gini = DecisionTreeClassifier(min_samples_split=min_sp,  random_state=27)\n",
        "      clf_gini.fit(x_train, y_train)\n",
        "      y_pred = clf_gini.predict(x_test)\n",
        "      print('gini accuracy_score: %.3f' % accuracy_score(y_test, y_pred))\n",
        "\n",
        "#test_dt(tfidf_train_X, tfidf_test_X, tfidf_train_Y, tfidf_test_y)"
      ],
      "metadata": {
        "id": "RE1TWScI32qu"
      },
      "execution_count": 80,
      "outputs": []
    },
    {
      "cell_type": "code",
      "source": [
        "#test_dt(tfidf_train_X, tfidf_test_X, tfidf_train_Y, tfidf_test_y)\n",
        "\n",
        "'''\n",
        "  find best option\n",
        "\n",
        "def __init__(*, criterion='gini', splitter='best', max_depth=None, min_samples_split=2, \n",
        "min_samples_leaf=1, min_weight_fraction_leaf=0.0, max_features=None, random_state=None, \n",
        "max_leaf_nodes=None, min_impurity_decrease=0.0, class_weight=None, ccp_alpha=0.0)\n",
        "'''\n",
        "\n",
        "clf = DecisionTreeClassifier(min_samples_split=10, random_state=27)\n",
        "clf.fit(tfidf_train_X, tfidf_train_Y)\n",
        "pred_y = clf.predict(tfidf_test_X)\n",
        "\n",
        "#Accuracy\n",
        "print('accuracy_score: %.3f' % accuracy_score(tfidf_test_y, pred_y))\n",
        "print('Recall: %.3f' % recall_score(tfidf_test_y, pred_y))\n",
        "print('Precision: %.3f' % precision_score(tfidf_test_y, pred_y))\n",
        "print('F1 Score: %.3f' % f1_score(tfidf_test_y, pred_y))\n",
        "\n",
        "\n",
        "conf_matrix = confusion_matrix(y_true=tfidf_test_y, y_pred=pred_y)\n",
        "#\n",
        "# Print the confusion matrix using Matplotlib\n",
        "#\n",
        "fig, ax = plt.subplots(figsize=(5, 5))\n",
        "ax.matshow(conf_matrix, cmap=plt.cm.Oranges, alpha=0.3)\n",
        "for i in range(conf_matrix.shape[0]):\n",
        "    for j in range(conf_matrix.shape[1]):\n",
        "        ax.text(x=j, y=i,s=conf_matrix[i, j], va='center', ha='center', size='xx-large')\n",
        "\n",
        "plt.xlabel('Predictions', fontsize=18)\n",
        "plt.ylabel('Actuals', fontsize=18)\n",
        "plt.title('Confusion Matrix', fontsize=18)\n",
        "plt.show()\n"
      ],
      "metadata": {
        "colab": {
          "base_uri": "https://localhost:8080/",
          "height": 423
        },
        "id": "9pSYv8ot_E19",
        "outputId": "34663b74-88d6-42b7-a6b3-214bbff685d6"
      },
      "execution_count": 81,
      "outputs": [
        {
          "output_type": "stream",
          "name": "stdout",
          "text": [
            "accuracy_score: 0.756\n",
            "Recall: 0.681\n",
            "Precision: 0.737\n",
            "F1 Score: 0.708\n"
          ]
        },
        {
          "output_type": "display_data",
          "data": {
            "text/plain": [
              "<Figure size 360x360 with 1 Axes>"
            ],
            "image/png": "[encoded data removed]"
          },
          "metadata": {
            "needs_background": "light"
          }
        }
      ]
    },
    {
      "cell_type": "markdown",
      "source": [
        "# RandomForestClassifier CV 0.799"
      ],
      "metadata": {
        "id": "3xH7Lp6hwd2B"
      }
    },
    {
      "cell_type": "code",
      "source": [
        "from sklearn.ensemble import RandomForestClassifier\n",
        "import matplotlib.pyplot as plt\n",
        "from sklearn import svm\n",
        "from sklearn.metrics import accuracy_score\n",
        "from sklearn.model_selection import cross_val_score\n",
        "from sklearn.metrics import confusion_matrix\n",
        "from sklearn.metrics import precision_score, recall_score, f1_score, accuracy_score\n",
        " \n",
        "def model_randomForestClf(train_X, test_X, train_y, test_y) :\n",
        "  rf_clf = RandomForestClassifier(random_state=42)\n",
        "  rf_clf = rf_clf.fit(train_X, train_y)\n",
        "  pred_y = rf_clf.predict(test_X)\n",
        "\n",
        "  #Accuracy\n",
        "  print('accuracy_score: %.3f' % accuracy_score(test_y, pred_y))\n",
        "  print('Recall: %.3f' % recall_score(test_y, pred_y))\n",
        "  print('Precision: %.3f' % precision_score(test_y, pred_y))\n",
        "  print('F1 Score: %.3f' % f1_score(test_y, pred_y))\n",
        "'''\n",
        "cv_train_X, cv_test_X, cv_train_Y, cv_test_y = train_test_split(cv_df, df['target'], test_size=0.30, random_state=17)\n",
        "tfidf_train_X, tfidf_test_X, tfidf_train_Y, tfidf_test_y = train_test_split(tfidf_df, df['target'], test_size=0.30, random_state=17)\n",
        "w2v_train_X, w2v_test_X, w2v_train_Y, w2v_test_y = train_test_split(w2v_df, df['target'], test_size=0.30, random_state=17)\n",
        "pca_w2v_train_X, pca_w2v_test_X, pca_w2v_train_Y, pca_w2v_test_y = train_test_split(pca_trans_w2v_df, df['target'], test_size=0.30, random_state=17)\n",
        "'''\n",
        "\n",
        "#model_randomForestClf(cv_train_X, cv_test_X, cv_train_Y, cv_test_y)\n",
        "#model_randomForestClf(tfidf_train_X, tfidf_test_X, tfidf_train_Y, tfidf_test_y)\n",
        "#model_randomForestClf(w2v_train_X, w2v_test_X, w2v_train_Y, w2v_test_y)\n",
        "#model_randomForestClf(pca_w2v_train_X, pca_w2v_test_X, pca_w2v_train_Y, pca_w2v_test_y)\n"
      ],
      "metadata": {
        "colab": {
          "base_uri": "https://localhost:8080/",
          "height": 116
        },
        "id": "SAWT23xZwaGn",
        "outputId": "e544b8ae-2604-4b6a-a445-65421d1a115a"
      },
      "execution_count": 82,
      "outputs": [
        {
          "output_type": "execute_result",
          "data": {
            "text/plain": [
              "\"\\ncv_train_X, cv_test_X, cv_train_Y, cv_test_y = train_test_split(cv_df, df['target'], test_size=0.30, random_state=17)\\ntfidf_train_X, tfidf_test_X, tfidf_train_Y, tfidf_test_y = train_test_split(tfidf_df, df['target'], test_size=0.30, random_state=17)\\nw2v_train_X, w2v_test_X, w2v_train_Y, w2v_test_y = train_test_split(w2v_df, df['target'], test_size=0.30, random_state=17)\\npca_w2v_train_X, pca_w2v_test_X, pca_w2v_train_Y, pca_w2v_test_y = train_test_split(pca_trans_w2v_df, df['target'], test_size=0.30, random_state=17)\\n\""
            ],
            "application/vnd.google.colaboratory.intrinsic+json": {
              "type": "string"
            }
          },
          "metadata": {},
          "execution_count": 82
        }
      ]
    },
    {
      "cell_type": "code",
      "source": [
        "'''\n",
        "cv_train_X, cv_test_X, cv_train_Y, cv_test_y\n",
        "'''\n",
        "rf_clf = RandomForestClassifier(n_estimators=250, random_state=42,\n",
        "                                class_weight=\"balanced\", min_samples_split=12)\n",
        "rf_clf = rf_clf.fit(cv_train_X, cv_train_Y)\n",
        "pred_y = rf_clf.predict(cv_test_X)\n",
        "\n",
        "#Accuracy\n",
        "print('accuracy_score: %.3f' % accuracy_score(cv_test_y, pred_y))\n",
        "print('Recall: %.3f' % recall_score(cv_test_y, pred_y))\n",
        "print('Precision: %.3f' % precision_score(cv_test_y, pred_y))\n",
        "print('F1 Score: %.3f' % f1_score(cv_test_y, pred_y))"
      ],
      "metadata": {
        "colab": {
          "base_uri": "https://localhost:8080/"
        },
        "id": "Hp5Vk_7T5OUj",
        "outputId": "053f1cdf-f4c5-414f-d3da-87ba538f3c5b"
      },
      "execution_count": 83,
      "outputs": [
        {
          "output_type": "stream",
          "name": "stdout",
          "text": [
            "accuracy_score: 0.799\n",
            "Recall: 0.704\n",
            "Precision: 0.809\n",
            "F1 Score: 0.753\n"
          ]
        }
      ]
    },
    {
      "cell_type": "code",
      "source": [
        "from sklearn.metrics import confusion_matrix\n",
        "\n",
        "conf_matrix = confusion_matrix(y_true=cv_test_y, y_pred=pred_y)\n",
        "#\n",
        "# Print the confusion matrix using Matplotlib\n",
        "#\n",
        "fig, ax = plt.subplots(figsize=(5, 5))\n",
        "ax.matshow(conf_matrix, cmap=plt.cm.Oranges, alpha=0.3)\n",
        "for i in range(conf_matrix.shape[0]):\n",
        "    for j in range(conf_matrix.shape[1]):\n",
        "        ax.text(x=j, y=i,s=conf_matrix[i, j], va='center', ha='center', size='xx-large')\n",
        "\n",
        "plt.xlabel('Predictions', fontsize=18)\n",
        "plt.ylabel('Actuals', fontsize=18)\n",
        "plt.title('Confusion Matrix', fontsize=18)\n",
        "plt.show()"
      ],
      "metadata": {
        "colab": {
          "base_uri": "https://localhost:8080/",
          "height": 357
        },
        "id": "xK5o___Xi7m9",
        "outputId": "6c5a163e-1323-41e1-feb2-1e7f59dea280"
      },
      "execution_count": 84,
      "outputs": [
        {
          "output_type": "display_data",
          "data": {
            "text/plain": [
              "<Figure size 360x360 with 1 Axes>"
            ],
            "image/png": "[encoded data removed]"
          },
          "metadata": {
            "needs_background": "light"
          }
        }
      ]
    },
    {
      "cell_type": "markdown",
      "source": [
        "# Xgboost best with pca_w2v - 0.778\n",
        "\n",
        "---\n",
        "\n"
      ],
      "metadata": {
        "id": "0vMso-MLx1g_"
      }
    },
    {
      "cell_type": "code",
      "source": [
        "from xgboost import XGBClassifier\n",
        "from sklearn.metrics import accuracy_score\n",
        "from sklearn.model_selection import cross_val_score\n",
        "from sklearn.metrics import confusion_matrix\n",
        "from sklearn.metrics import precision_score, recall_score, f1_score, accuracy_score\n",
        " \n",
        "\n",
        "def model_Xgboost(train_X, test_X, train_y, test_y) :\n",
        "  xgb_clf = XGBClassifier(seed=27)\n",
        "  xgb_clf.fit(train_X, train_y)\n",
        "  pred_y = xgb_clf.predict(test_X)\n",
        "\n",
        "  #Accuracy\n",
        "  print('accuracy_score: %.3f' % accuracy_score(test_y, pred_y))\n",
        "  print('Recall: %.3f' % recall_score(test_y, pred_y))\n",
        "  print('Precision: %.3f' % precision_score(test_y, pred_y))\n",
        "  print('F1 Score: %.3f' % f1_score(test_y, pred_y))\n",
        "  print(xgb_clf)\n",
        "\n",
        "\n",
        "model_Xgboost(cv_train_X, cv_test_X, cv_train_Y, cv_test_y)\n",
        "model_Xgboost(tfidf_train_X, tfidf_test_X, tfidf_train_Y, tfidf_test_y)\n",
        "model_Xgboost(np.array(w2v_train_X), w2v_test_X, w2v_train_Y, w2v_test_y)\n",
        "model_Xgboost(pca_w2v_train_X, pca_w2v_test_X, pca_w2v_train_Y, pca_w2v_test_y)\n"
      ],
      "metadata": {
        "colab": {
          "base_uri": "https://localhost:8080/"
        },
        "id": "Mmb13dh3x01W",
        "outputId": "d8a601b6-6500-4264-e4de-fd874b1962c3"
      },
      "execution_count": 85,
      "outputs": [
        {
          "output_type": "stream",
          "name": "stdout",
          "text": [
            "accuracy_score: 0.713\n",
            "Recall: 0.402\n",
            "Precision: 0.868\n",
            "F1 Score: 0.550\n",
            "XGBClassifier(seed=27)\n",
            "accuracy_score: 0.729\n",
            "Recall: 0.446\n",
            "Precision: 0.865\n",
            "F1 Score: 0.588\n",
            "XGBClassifier(seed=27)\n",
            "accuracy_score: 0.736\n",
            "Recall: 0.579\n",
            "Precision: 0.756\n",
            "F1 Score: 0.656\n",
            "XGBClassifier(seed=27)\n",
            "accuracy_score: 0.754\n",
            "Recall: 0.608\n",
            "Precision: 0.779\n",
            "F1 Score: 0.683\n",
            "XGBClassifier(seed=27)\n"
          ]
        }
      ]
    },
    {
      "cell_type": "code",
      "source": [
        "xgb_clf = XGBClassifier(learning_rate =0.1,\n",
        "     n_estimators=135,\n",
        "     max_depth=10,\n",
        "     min_child_weight=1,\n",
        "     gamma=0.05,\n",
        "     subsample=0.8,\n",
        "     colsample_bytree=0.8,\n",
        "     objective= 'binary:logistic',\n",
        "     nthread=4,\n",
        "     scale_pos_weight=1,\n",
        "     seed=27)\n",
        "print(xgb_clf)\n",
        "\n",
        "xgb_clf = xgb_clf.fit(pca_w2v_train_X, pca_w2v_train_Y)\n",
        "pred_y = xgb_clf.predict(pca_w2v_test_X)\n",
        "\n",
        "#Accuracy\n",
        "print('accuracy_score: %.3f' % accuracy_score(pca_w2v_test_y, pred_y))\n",
        "print('Recall: %.3f' % recall_score(pca_w2v_test_y, pred_y))\n",
        "print('Precision: %.3f' % precision_score(pca_w2v_test_y, pred_y))\n",
        "print('F1 Score: %.3f' % f1_score(pca_w2v_test_y, pred_y))\n",
        "print()"
      ],
      "metadata": {
        "colab": {
          "base_uri": "https://localhost:8080/"
        },
        "id": "E2uuVNYx_Ti5",
        "outputId": "5b98bfc1-effe-4ba1-8a0a-eae6120f4e47"
      },
      "execution_count": 86,
      "outputs": [
        {
          "output_type": "stream",
          "name": "stdout",
          "text": [
            "XGBClassifier(colsample_bytree=0.8, gamma=0.05, max_depth=10, n_estimators=135,\n",
            "              nthread=4, seed=27, subsample=0.8)\n",
            "accuracy_score: 0.761\n",
            "Recall: 0.637\n",
            "Precision: 0.773\n",
            "F1 Score: 0.698\n",
            "\n"
          ]
        }
      ]
    },
    {
      "cell_type": "code",
      "source": [
        "from sklearn.metrics import confusion_matrix\n",
        "\n",
        "conf_matrix = confusion_matrix(y_true=pca_w2v_test_y, y_pred=pred_y)\n",
        "#\n",
        "# Print the confusion matrix using Matplotlib\n",
        "#\n",
        "fig, ax = plt.subplots(figsize=(5, 5))\n",
        "ax.matshow(conf_matrix, cmap=plt.cm.Oranges, alpha=0.3)\n",
        "for i in range(conf_matrix.shape[0]):\n",
        "    for j in range(conf_matrix.shape[1]):\n",
        "        ax.text(x=j, y=i,s=conf_matrix[i, j], va='center', ha='center', size='xx-large')\n",
        "\n",
        "plt.xlabel('Predictions', fontsize=18)\n",
        "plt.ylabel('Actuals', fontsize=18)\n",
        "plt.title('Confusion Matrix', fontsize=18)\n",
        "plt.show()"
      ],
      "metadata": {
        "colab": {
          "base_uri": "https://localhost:8080/",
          "height": 357
        },
        "id": "TwZEBN2kkAIy",
        "outputId": "fab4d5c1-78b5-4d38-a279-43a6d9787a8a"
      },
      "execution_count": 87,
      "outputs": [
        {
          "output_type": "display_data",
          "data": {
            "text/plain": [
              "<Figure size 360x360 with 1 Axes>"
            ],
            "image/png": "[encoded data removed]"
          },
          "metadata": {
            "needs_background": "light"
          }
        }
      ]
    },
    {
      "cell_type": "markdown",
      "source": [
        "# LSTM [GLOVE](https://www.kaggle.com/datasets/danielwillgeorge/glove6b100dtxt) -0.803 ~ 0.813 "
      ],
      "metadata": {
        "id": "XK0ry7WW_dOE"
      }
    },
    {
      "cell_type": "code",
      "source": [
        "from keras.preprocessing.text import Tokenizer\n",
        "#import tensorflow as tf\n",
        "from tensorflow.keras.utils import pad_sequences\n",
        "from keras.layers import Dense,Dropout,LSTM,SimpleRNN,Embedding,Bidirectional,LSTM,GlobalMaxPool1D\n",
        "from keras.models import Sequential\n",
        "from keras.initializers import Constant\n",
        "from keras.layers import (LSTM, \n",
        "                          Embedding, \n",
        "                          BatchNormalization,\n",
        "                          Dense, \n",
        "                          TimeDistributed, \n",
        "                          Dropout, \n",
        "                          Bidirectional,\n",
        "                          Flatten, \n",
        "                          GlobalMaxPool1D)\n",
        "from keras.callbacks import ModelCheckpoint, ReduceLROnPlateau\n",
        "from sklearn.metrics import (\n",
        "    precision_score, \n",
        "    recall_score, \n",
        "    f1_score, \n",
        "    classification_report,\n",
        "    accuracy_score\n",
        ")\n",
        "\n",
        "'''\n",
        "from numpy.random import seed\n",
        "seed(1)\n",
        "\n",
        "import tensorflow as tf\n",
        "tf.random.set_seed(1)\n",
        "'''"
      ],
      "metadata": {
        "id": "DkOEIjgvIXOC",
        "colab": {
          "base_uri": "https://localhost:8080/",
          "height": 50
        },
        "outputId": "fba9e0ea-e43e-43be-862c-00a95aa5023e"
      },
      "execution_count": 97,
      "outputs": [
        {
          "output_type": "execute_result",
          "data": {
            "text/plain": [
              "'\\nfrom numpy.random import seed\\nseed(1)\\n\\nimport tensorflow as tf\\ntf.random.set_seed(1)\\n'"
            ],
            "application/vnd.google.colaboratory.intrinsic+json": {
              "type": "string"
            }
          },
          "metadata": {},
          "execution_count": 97
        }
      ]
    },
    {
      "cell_type": "code",
      "source": [
        "! pip install keras"
      ],
      "metadata": {
        "colab": {
          "base_uri": "https://localhost:8080/"
        },
        "id": "h0RWkLIZHRvI",
        "outputId": "8bcf417c-ece7-4e34-bdae-f7e73a1139a3"
      },
      "execution_count": 98,
      "outputs": [
        {
          "output_type": "stream",
          "name": "stdout",
          "text": [
            "Requirement already satisfied: keras in /usr/local/lib/python3.7/dist-packages (2.9.0)\n"
          ]
        }
      ]
    },
    {
      "cell_type": "code",
      "source": [
        "tweets = df['FINAL'].values"
      ],
      "metadata": {
        "id": "C8QZbGQ__lap"
      },
      "execution_count": 99,
      "outputs": []
    },
    {
      "cell_type": "code",
      "source": [
        "#This Tokenizer is by Keras\n",
        "word_tokenizer = Tokenizer()\n",
        "word_tokenizer.fit_on_texts(tweets)\n",
        "vocab_length = len(word_tokenizer.word_index) + 1\n",
        "\n",
        "#None values is embedding by 0\n",
        "def embedding_by_using_keras(corpus): \n",
        "    return word_tokenizer.texts_to_sequences(corpus)"
      ],
      "metadata": {
        "id": "7Pa76KOCHsth"
      },
      "execution_count": 100,
      "outputs": []
    },
    {
      "cell_type": "code",
      "source": [
        "longest_tweet = max(tweets, key=lambda sentence: len(word_tokenize(sentence)))\n",
        "length_long_sentence = len(word_tokenize(longest_tweet))\n",
        "\n",
        "#create values to make it the same input size.\n",
        "padded_sentences = pad_sequences(embedding_by_using_keras(tweets), length_long_sentence, padding='post')"
      ],
      "metadata": {
        "id": "Zj-Se_4VBmyb"
      },
      "execution_count": 101,
      "outputs": []
    },
    {
      "cell_type": "code",
      "source": [
        "\n",
        "pad_X_train, pad_X_test, pad_y_train, pad_y_test = train_test_split(padded_sentences, df['target'], test_size=0.30, random_state=17)"
      ],
      "metadata": {
        "id": "WXf4X03iJmMA"
      },
      "execution_count": 102,
      "outputs": []
    },
    {
      "cell_type": "markdown",
      "source": [
        "## GLOVE"
      ],
      "metadata": {
        "id": "PJnrlW2Wby68"
      }
    },
    {
      "cell_type": "code",
      "source": [
        "#create embedding dictionary from glove txt file of Stanford.\n",
        "embeddings_dictionary = dict()\n",
        "embedding_dim = 100\n",
        "\n",
        "glove_file = open('/content/glove.6B.100d.txt',encoding=\"utf8\")\n",
        "\n",
        "for line in glove_file:\n",
        "    records = line.split()\n",
        "    word = records[0]\n",
        "    vector_dimensions = np.asarray(records[1:], dtype='float32')\n",
        "    embeddings_dictionary [word] = vector_dimensions\n",
        "glove_file.close()"
      ],
      "metadata": {
        "id": "4bxvlHOFIIJp"
      },
      "execution_count": 103,
      "outputs": []
    },
    {
      "cell_type": "code",
      "source": [
        "embeddings_dictionary['disaster'].shape"
      ],
      "metadata": {
        "colab": {
          "base_uri": "https://localhost:8080/"
        },
        "id": "dRjHvyXFJZHB",
        "outputId": "a9500512-5005-42cd-9d4c-9c55c9e59f0d"
      },
      "execution_count": 104,
      "outputs": [
        {
          "output_type": "execute_result",
          "data": {
            "text/plain": [
              "(100,)"
            ]
          },
          "metadata": {},
          "execution_count": 104
        }
      ]
    },
    {
      "cell_type": "code",
      "source": [
        "#Create embedding vector matrix with vocaburay made by this tweets data set\n",
        "embedding_matrix = np.zeros((vocab_length, embedding_dim))\n",
        "\n",
        "for word, index in word_tokenizer.word_index.items():\n",
        "    embedding_vector = embeddings_dictionary.get(word)\n",
        "    if embedding_vector is not None:\n",
        "        embedding_matrix[index] = embedding_vector"
      ],
      "metadata": {
        "id": "2NQ4sFZBJcCq"
      },
      "execution_count": 105,
      "outputs": []
    },
    {
      "cell_type": "code",
      "source": [
        "print(embedding_matrix.shape)"
      ],
      "metadata": {
        "colab": {
          "base_uri": "https://localhost:8080/"
        },
        "id": "wrmDSrTfJjDx",
        "outputId": "10104da6-0dd4-4fc2-a3f8-b7e00ff9f57a"
      },
      "execution_count": 106,
      "outputs": [
        {
          "output_type": "stream",
          "name": "stdout",
          "text": [
            "(16303, 100)\n"
          ]
        }
      ]
    },
    {
      "cell_type": "code",
      "source": [
        "def BLSTM():\n",
        "    model = Sequential()\n",
        "    model.add(Embedding(input_dim=embedding_matrix.shape[0], \n",
        "                        output_dim=embedding_matrix.shape[1], \n",
        "                        weights = [embedding_matrix], \n",
        "                        input_length=length_long_sentence))\n",
        "    model.add(Bidirectional(LSTM(length_long_sentence, return_sequences = True, recurrent_dropout=0.2)))\n",
        "    model.add(GlobalMaxPool1D())\n",
        "    model.add(BatchNormalization())\n",
        "    model.add(Dropout(0.5))\n",
        "    model.add(Dense(length_long_sentence, activation = \"relu\"))\n",
        "    model.add(Dropout(0.5))\n",
        "    model.add(Dense(length_long_sentence, activation = \"relu\"))\n",
        "    model.add(Dropout(0.5))\n",
        "    model.add(Dense(1, activation = 'sigmoid'))\n",
        "    model.compile(optimizer='rmsprop', loss='binary_crossentropy', metrics=['accuracy'])\n",
        "    return model"
      ],
      "metadata": {
        "id": "hExBCn0_NbLC"
      },
      "execution_count": 107,
      "outputs": []
    },
    {
      "cell_type": "code",
      "source": [
        "model_LSTM = BLSTM()\n",
        "checkpoint = ModelCheckpoint(\n",
        "    'model.h5', \n",
        "    monitor = 'val_loss', \n",
        "    verbose = 1, \n",
        "    save_best_only = True\n",
        ")\n",
        "reduce_lr = ReduceLROnPlateau(\n",
        "    monitor = 'val_loss', \n",
        "    factor = 0.2, \n",
        "    verbose = 1, \n",
        "    patience = 5,                        \n",
        "    min_lr = 0.001\n",
        ")\n",
        "history = model_LSTM.fit(\n",
        "    pad_X_train, \n",
        "    pad_y_train, \n",
        "    epochs = 7,\n",
        "    batch_size = 32,\n",
        "    #validation_data = [pad_X_test, pad_y_test],\n",
        "    verbose = 1,\n",
        "    callbacks = [reduce_lr, checkpoint]\n",
        ")"
      ],
      "metadata": {
        "colab": {
          "base_uri": "https://localhost:8080/"
        },
        "id": "ig4dMQHYNeEX",
        "outputId": "5bb03711-6f7b-4f9b-8d23-410cf3f62ee2"
      },
      "execution_count": 108,
      "outputs": [
        {
          "output_type": "stream",
          "name": "stdout",
          "text": [
            "WARNING:tensorflow:Layer lstm will not use cuDNN kernels since it doesn't meet the criteria. It will use a generic GPU kernel as fallback when running on GPU.\n",
            "WARNING:tensorflow:Layer lstm will not use cuDNN kernels since it doesn't meet the criteria. It will use a generic GPU kernel as fallback when running on GPU.\n",
            "WARNING:tensorflow:Layer lstm will not use cuDNN kernels since it doesn't meet the criteria. It will use a generic GPU kernel as fallback when running on GPU.\n",
            "Epoch 1/7\n",
            "167/167 [==============================] - ETA: 0s - loss: 0.7920 - accuracy: 0.5620WARNING:tensorflow:Learning rate reduction is conditioned on metric `val_loss` which is not available. Available metrics are: loss,accuracy,lr\n",
            "WARNING:tensorflow:Can save best model only with val_loss available, skipping.\n",
            "167/167 [==============================] - 114s 574ms/step - loss: 0.7920 - accuracy: 0.5620 - lr: 0.0010\n",
            "Epoch 2/7\n",
            "167/167 [==============================] - ETA: 0s - loss: 0.6256 - accuracy: 0.6692WARNING:tensorflow:Learning rate reduction is conditioned on metric `val_loss` which is not available. Available metrics are: loss,accuracy,lr\n",
            "WARNING:tensorflow:Can save best model only with val_loss available, skipping.\n",
            "167/167 [==============================] - 59s 351ms/step - loss: 0.6256 - accuracy: 0.6692 - lr: 0.0010\n",
            "Epoch 3/7\n",
            "167/167 [==============================] - ETA: 0s - loss: 0.5520 - accuracy: 0.7320WARNING:tensorflow:Learning rate reduction is conditioned on metric `val_loss` which is not available. Available metrics are: loss,accuracy,lr\n",
            "WARNING:tensorflow:Can save best model only with val_loss available, skipping.\n",
            "167/167 [==============================] - 58s 349ms/step - loss: 0.5520 - accuracy: 0.7320 - lr: 0.0010\n",
            "Epoch 4/7\n",
            "167/167 [==============================] - ETA: 0s - loss: 0.4946 - accuracy: 0.7896WARNING:tensorflow:Learning rate reduction is conditioned on metric `val_loss` which is not available. Available metrics are: loss,accuracy,lr\n",
            "WARNING:tensorflow:Can save best model only with val_loss available, skipping.\n",
            "167/167 [==============================] - 59s 353ms/step - loss: 0.4946 - accuracy: 0.7896 - lr: 0.0010\n",
            "Epoch 5/7\n",
            "167/167 [==============================] - ETA: 0s - loss: 0.4671 - accuracy: 0.8075WARNING:tensorflow:Learning rate reduction is conditioned on metric `val_loss` which is not available. Available metrics are: loss,accuracy,lr\n",
            "WARNING:tensorflow:Can save best model only with val_loss available, skipping.\n",
            "167/167 [==============================] - 57s 343ms/step - loss: 0.4671 - accuracy: 0.8075 - lr: 0.0010\n",
            "Epoch 6/7\n",
            "167/167 [==============================] - ETA: 0s - loss: 0.4344 - accuracy: 0.8292WARNING:tensorflow:Learning rate reduction is conditioned on metric `val_loss` which is not available. Available metrics are: loss,accuracy,lr\n",
            "WARNING:tensorflow:Can save best model only with val_loss available, skipping.\n",
            "167/167 [==============================] - 59s 351ms/step - loss: 0.4344 - accuracy: 0.8292 - lr: 0.0010\n",
            "Epoch 7/7\n",
            "167/167 [==============================] - ETA: 0s - loss: 0.4284 - accuracy: 0.8319WARNING:tensorflow:Learning rate reduction is conditioned on metric `val_loss` which is not available. Available metrics are: loss,accuracy,lr\n",
            "WARNING:tensorflow:Can save best model only with val_loss available, skipping.\n",
            "167/167 [==============================] - 57s 340ms/step - loss: 0.4284 - accuracy: 0.8319 - lr: 0.0010\n"
          ]
        }
      ]
    },
    {
      "cell_type": "code",
      "source": [
        "loss, accuracy = model_LSTM.evaluate(pad_X_test, pad_y_test)\n",
        "print('Loss:', loss)\n",
        "print('Accuracy:', accuracy)"
      ],
      "metadata": {
        "colab": {
          "base_uri": "https://localhost:8080/"
        },
        "id": "SfM-1WPNN2oO",
        "outputId": "3da45519-3c80-40d9-b9c5-0f002c78258f"
      },
      "execution_count": 109,
      "outputs": [
        {
          "output_type": "stream",
          "name": "stdout",
          "text": [
            "72/72 [==============================] - 3s 26ms/step - loss: 0.4225 - accuracy: 0.8227\n",
            "Loss: 0.4225492775440216\n",
            "Accuracy: 0.8226795196533203\n"
          ]
        }
      ]
    },
    {
      "cell_type": "code",
      "source": [
        "lstm_glv_pred_y = (model_LSTM.predict(pad_X_test) > 0.5).astype(\"int32\")\n",
        "lstm_glv_pred_y_prob = model_LSTM.predict(pad_X_test)"
      ],
      "metadata": {
        "id": "FZZZAh31P_FF",
        "colab": {
          "base_uri": "https://localhost:8080/"
        },
        "outputId": "3a1b1f0e-80c8-4a37-b76e-dbb7d41b4aba"
      },
      "execution_count": 110,
      "outputs": [
        {
          "output_type": "stream",
          "name": "stdout",
          "text": [
            "72/72 [==============================] - 6s 59ms/step\n",
            "72/72 [==============================] - 5s 63ms/step\n"
          ]
        }
      ]
    },
    {
      "cell_type": "code",
      "source": [
        "\n",
        "from sklearn.metrics import confusion_matrix\n",
        "\n",
        "conf_matrix = confusion_matrix(y_true=pad_y_test, y_pred=lstm_glv_pred_y)\n",
        "#\n",
        "# Print the confusion matrix using Matplotlib\n",
        "#\n",
        "fig, ax = plt.subplots(figsize=(5, 5))\n",
        "ax.matshow(conf_matrix, cmap=plt.cm.Oranges, alpha=0.3)\n",
        "for i in range(conf_matrix.shape[0]):\n",
        "    for j in range(conf_matrix.shape[1]):\n",
        "        ax.text(x=j, y=i,s=conf_matrix[i, j], va='center', ha='center', size='xx-large')\n",
        "\n",
        "plt.xlabel('Predictions', fontsize=18)\n",
        "plt.ylabel('Actuals', fontsize=18)\n",
        "plt.title('Confusion Matrix', fontsize=18)\n",
        "plt.show()"
      ],
      "metadata": {
        "colab": {
          "base_uri": "https://localhost:8080/",
          "height": 357
        },
        "id": "gcGrsALmhsft",
        "outputId": "0c5c8693-3558-47b6-9a6e-337799741155"
      },
      "execution_count": 111,
      "outputs": [
        {
          "output_type": "display_data",
          "data": {
            "text/plain": [
              "<Figure size 360x360 with 1 Axes>"
            ],
            "image/png": "[encoded data removed]"
          },
          "metadata": {
            "needs_background": "light"
          }
        }
      ]
    },
    {
      "cell_type": "markdown",
      "source": [
        "# LSTM with Word2Vec - 0.781"
      ],
      "metadata": {
        "id": "UjSlaTfcR4a0"
      }
    },
    {
      "cell_type": "code",
      "source": [
        "w2v_model = Word2Vec(min_count=1,\n",
        "                     window=2,\n",
        "                     size=100,\n",
        "                     sample=6e-5, \n",
        "                     alpha=0.03, \n",
        "                     min_alpha=0.0007, \n",
        "                     negative=20,\n",
        "                     workers=cores-1)\n",
        "w2v_model.build_vocab(sentences, progress_per=10000)\n",
        "w2v_model.train(sentences, total_examples=w2v_model.corpus_count, epochs=30, report_delay=1)"
      ],
      "metadata": {
        "colab": {
          "base_uri": "https://localhost:8080/"
        },
        "id": "idquR6i-SZoY",
        "outputId": "f40776e7-019d-470c-fd27-06c349d7b2a5"
      },
      "execution_count": 112,
      "outputs": [
        {
          "output_type": "execute_result",
          "data": {
            "text/plain": [
              "(1441465, 2133030)"
            ]
          },
          "metadata": {},
          "execution_count": 112
        }
      ]
    },
    {
      "cell_type": "code",
      "source": [
        "# total numberof extracted words.\n",
        "w2v_vocab=w2v_model.wv.vocab\n",
        "print(\"The total number of words are : \",len(w2v_vocab))\n",
        "\n",
        "w2v_vocab=list(w2v_vocab.keys())\n",
        "\n",
        "w2v_dictionary={}\n",
        "for word in w2v_vocab:\n",
        "  w2v_dictionary[word]=w2v_model.wv.get_vector(word)\n",
        "print(\"The no of key-value pairs : \",len(w2v_dictionary)) # should come equal to vocab size\n"
      ],
      "metadata": {
        "colab": {
          "base_uri": "https://localhost:8080/"
        },
        "id": "7w33rqFASZva",
        "outputId": "316516d6-dd12-495b-a337-692138f03147"
      },
      "execution_count": 113,
      "outputs": [
        {
          "output_type": "stream",
          "name": "stdout",
          "text": [
            "The total number of words are :  16302\n",
            "The no of key-value pairs :  16302\n"
          ]
        }
      ]
    },
    {
      "cell_type": "code",
      "source": [
        "# now creating the embedding matrix\n",
        "embedding_matrix_by_word2vec =np.zeros(shape=(vocab_length, 100))\n",
        "\n",
        "for word, index in word_tokenizer.word_index.items():\n",
        "  embedding_vector = w2v_dictionary.get(word)\n",
        "  if embedding_vector is not None:\n",
        "    embedding_matrix_by_word2vec[index]=embedding_vector\n",
        "  # if word is not found then embed_vector corressponding to that vector will stay zero."
      ],
      "metadata": {
        "id": "5C2HWWiMTsFH"
      },
      "execution_count": 114,
      "outputs": []
    },
    {
      "cell_type": "code",
      "source": [
        "def BLSTM_W2V():\n",
        "    model = Sequential()\n",
        "    model.add(Embedding(input_dim=embedding_matrix_by_word2vec.shape[0], \n",
        "                        output_dim=embedding_matrix_by_word2vec.shape[1], \n",
        "                        weights = [embedding_matrix_by_word2vec], \n",
        "                        input_length=length_long_sentence))\n",
        "    model.add(Bidirectional(LSTM(length_long_sentence, return_sequences = True, recurrent_dropout=0.2)))\n",
        "    model.add(GlobalMaxPool1D())\n",
        "    model.add(BatchNormalization())\n",
        "    model.add(Dropout(0.5))\n",
        "    model.add(Dense(length_long_sentence, activation = \"relu\"))\n",
        "    model.add(Dropout(0.5))\n",
        "    model.add(Dense(length_long_sentence, activation = \"relu\"))\n",
        "    model.add(Dropout(0.5))\n",
        "    model.add(Dense(1, activation = 'sigmoid'))\n",
        "    model.compile(optimizer='rmsprop', loss='binary_crossentropy', metrics=['accuracy'])\n",
        "    return model"
      ],
      "metadata": {
        "id": "1XMsFVoqYAUD"
      },
      "execution_count": 115,
      "outputs": []
    },
    {
      "cell_type": "code",
      "source": [
        "model_LSTM_W2V = BLSTM_W2V()\n",
        "checkpoint = ModelCheckpoint(\n",
        "    'model.h5', \n",
        "    monitor = 'val_loss', \n",
        "    verbose = 1, \n",
        "    save_best_only = True\n",
        ")\n",
        "reduce_lr = ReduceLROnPlateau(\n",
        "    monitor = 'val_loss', \n",
        "    factor = 0.2, \n",
        "    verbose = 1, \n",
        "    patience = 5,                        \n",
        "    min_lr = 0.001\n",
        ")\n",
        "history = model_LSTM_W2V.fit(\n",
        "    pad_X_train, \n",
        "    pad_y_train, \n",
        "    epochs = 7,\n",
        "    batch_size = 32,\n",
        "    #validation_data = [pad_X_test, pad_y_test],\n",
        "    verbose = 1,\n",
        "    callbacks = [reduce_lr, checkpoint]\n",
        ")"
      ],
      "metadata": {
        "colab": {
          "base_uri": "https://localhost:8080/"
        },
        "id": "ozQvp_1iYKch",
        "outputId": "61c01778-8635-4148-dfb8-8dc1cda54d11"
      },
      "execution_count": 116,
      "outputs": [
        {
          "output_type": "stream",
          "name": "stdout",
          "text": [
            "WARNING:tensorflow:Layer lstm_1 will not use cuDNN kernels since it doesn't meet the criteria. It will use a generic GPU kernel as fallback when running on GPU.\n",
            "WARNING:tensorflow:Layer lstm_1 will not use cuDNN kernels since it doesn't meet the criteria. It will use a generic GPU kernel as fallback when running on GPU.\n",
            "WARNING:tensorflow:Layer lstm_1 will not use cuDNN kernels since it doesn't meet the criteria. It will use a generic GPU kernel as fallback when running on GPU.\n",
            "Epoch 1/7\n",
            "167/167 [==============================] - ETA: 0s - loss: 0.7307 - accuracy: 0.5489WARNING:tensorflow:Learning rate reduction is conditioned on metric `val_loss` which is not available. Available metrics are: loss,accuracy,lr\n",
            "WARNING:tensorflow:Can save best model only with val_loss available, skipping.\n",
            "167/167 [==============================] - 66s 353ms/step - loss: 0.7307 - accuracy: 0.5489 - lr: 0.0010\n",
            "Epoch 2/7\n",
            "167/167 [==============================] - ETA: 0s - loss: 0.6561 - accuracy: 0.6204WARNING:tensorflow:Learning rate reduction is conditioned on metric `val_loss` which is not available. Available metrics are: loss,accuracy,lr\n",
            "WARNING:tensorflow:Can save best model only with val_loss available, skipping.\n",
            "167/167 [==============================] - 59s 351ms/step - loss: 0.6561 - accuracy: 0.6204 - lr: 0.0010\n",
            "Epoch 3/7\n",
            "167/167 [==============================] - ETA: 0s - loss: 0.5520 - accuracy: 0.7422WARNING:tensorflow:Learning rate reduction is conditioned on metric `val_loss` which is not available. Available metrics are: loss,accuracy,lr\n",
            "WARNING:tensorflow:Can save best model only with val_loss available, skipping.\n",
            "167/167 [==============================] - 59s 352ms/step - loss: 0.5520 - accuracy: 0.7422 - lr: 0.0010\n",
            "Epoch 4/7\n",
            "167/167 [==============================] - ETA: 0s - loss: 0.4613 - accuracy: 0.8150WARNING:tensorflow:Learning rate reduction is conditioned on metric `val_loss` which is not available. Available metrics are: loss,accuracy,lr\n",
            "WARNING:tensorflow:Can save best model only with val_loss available, skipping.\n",
            "167/167 [==============================] - 60s 362ms/step - loss: 0.4613 - accuracy: 0.8150 - lr: 0.0010\n",
            "Epoch 5/7\n",
            "167/167 [==============================] - ETA: 0s - loss: 0.3979 - accuracy: 0.8521WARNING:tensorflow:Learning rate reduction is conditioned on metric `val_loss` which is not available. Available metrics are: loss,accuracy,lr\n",
            "WARNING:tensorflow:Can save best model only with val_loss available, skipping.\n",
            "167/167 [==============================] - 59s 350ms/step - loss: 0.3979 - accuracy: 0.8521 - lr: 0.0010\n",
            "Epoch 6/7\n",
            "167/167 [==============================] - ETA: 0s - loss: 0.3389 - accuracy: 0.8795WARNING:tensorflow:Learning rate reduction is conditioned on metric `val_loss` which is not available. Available metrics are: loss,accuracy,lr\n",
            "WARNING:tensorflow:Can save best model only with val_loss available, skipping.\n",
            "167/167 [==============================] - 58s 347ms/step - loss: 0.3389 - accuracy: 0.8795 - lr: 0.0010\n",
            "Epoch 7/7\n",
            "167/167 [==============================] - ETA: 0s - loss: 0.2977 - accuracy: 0.9022WARNING:tensorflow:Learning rate reduction is conditioned on metric `val_loss` which is not available. Available metrics are: loss,accuracy,lr\n",
            "WARNING:tensorflow:Can save best model only with val_loss available, skipping.\n",
            "167/167 [==============================] - 59s 353ms/step - loss: 0.2977 - accuracy: 0.9022 - lr: 0.0010\n"
          ]
        }
      ]
    },
    {
      "cell_type": "code",
      "source": [
        "loss, accuracy = model_LSTM_W2V.evaluate(pad_X_test, pad_y_test)\n",
        "print('Loss:', loss)\n",
        "print('Accuracy:', accuracy)"
      ],
      "metadata": {
        "colab": {
          "base_uri": "https://localhost:8080/"
        },
        "id": "R0YpzlGIY2XD",
        "outputId": "08033603-437d-4538-d539-25c496a86ebe"
      },
      "execution_count": 117,
      "outputs": [
        {
          "output_type": "stream",
          "name": "stdout",
          "text": [
            "72/72 [==============================] - 3s 26ms/step - loss: 0.7235 - accuracy: 0.7369\n",
            "Loss: 0.7235027551651001\n",
            "Accuracy: 0.7368651628494263\n"
          ]
        }
      ]
    },
    {
      "cell_type": "code",
      "source": [
        "lstm_w2v_pred_y = (model_LSTM_W2V.predict(pad_X_test) > 0.5).astype(\"int32\")\n",
        "lstm_w2v_pred_y_prob = model_LSTM_W2V.predict(pad_X_test)"
      ],
      "metadata": {
        "id": "VXmc2SPFbCHz",
        "colab": {
          "base_uri": "https://localhost:8080/"
        },
        "outputId": "43dbae91-ef03-41f6-d1ae-1a49c3fb1188"
      },
      "execution_count": 118,
      "outputs": [
        {
          "output_type": "stream",
          "name": "stdout",
          "text": [
            "72/72 [==============================] - 3s 23ms/step\n",
            "72/72 [==============================] - 2s 22ms/step\n"
          ]
        }
      ]
    },
    {
      "cell_type": "code",
      "source": [
        "\n",
        "from sklearn.metrics import confusion_matrix\n",
        "\n",
        "conf_matrix = confusion_matrix(y_true=pad_y_test, y_pred=lstm_w2v_pred_y)\n",
        "#\n",
        "# Print the confusion matrix using Matplotlib\n",
        "#\n",
        "fig, ax = plt.subplots(figsize=(5, 5))\n",
        "ax.matshow(conf_matrix, cmap=plt.cm.Oranges, alpha=0.3)\n",
        "for i in range(conf_matrix.shape[0]):\n",
        "    for j in range(conf_matrix.shape[1]):\n",
        "        ax.text(x=j, y=i,s=conf_matrix[i, j], va='center', ha='center', size='xx-large')\n",
        "\n",
        "plt.xlabel('Predictions', fontsize=18)\n",
        "plt.ylabel('Actuals', fontsize=18)\n",
        "plt.title('Confusion Matrix', fontsize=18)\n",
        "plt.show()"
      ],
      "metadata": {
        "colab": {
          "base_uri": "https://localhost:8080/",
          "height": 357
        },
        "id": "Uz6MW9z7kbf6",
        "outputId": "1838155b-c752-4235-9279-4aecaa9106f2"
      },
      "execution_count": 119,
      "outputs": [
        {
          "output_type": "display_data",
          "data": {
            "text/plain": [
              "<Figure size 360x360 with 1 Axes>"
            ],
            "image/png": "[encoded data removed]"
          },
          "metadata": {
            "needs_background": "light"
          }
        }
      ]
    },
    {
      "cell_type": "markdown",
      "source": [
        "# Custom Ensemble\n",
        "# (SVM+CV, LogisticR+CV, DT+tfidf, RandomF+cv, Xgboost+pca_word2vec) \n",
        "# (SVM+CV, LogisticR+CV, DT+tfidf, RandomF+cv, Xgboost+pca_word2vec + LSTM+glove) "
      ],
      "metadata": {
        "id": "aYx5bVre2VqW"
      }
    },
    {
      "cell_type": "code",
      "source": [
        "'''\n",
        "cv_train_X, cv_test_X, cv_train_Y, cv_test_y = train_test_split(cv_df, df['target'], test_size=0.30, random_state=17)\n",
        "tfidf_train_X, tfidf_test_X, tfidf_train_Y, tfidf_test_y = train_test_split(tfidf_df, df['target'], test_size=0.30, random_state=17)\n",
        "w2v_train_X, w2v_test_X, w2v_train_Y, w2v_test_y = train_test_split(w2v_df, df['target'], test_size=0.30, random_state=17)\n",
        "pca_w2v_train_X, pca_w2v_test_X, pca_w2v_train_Y, pca_w2v_test_y = train_test_split(pca_trans_w2v_df, df['target'], test_size=0.30, random_state=17)\n",
        "'''\n",
        "from sklearn import svm\n",
        "from sklearn.linear_model import LogisticRegression\n",
        "from sklearn.tree import DecisionTreeClassifier\n",
        "from sklearn.ensemble import RandomForestClassifier\n",
        "from xgboost import XGBClassifier\n",
        "\n",
        "cus_en_lr = LogisticRegression(C=0.45, penalty='l2', tol=0.01, solver='liblinear', random_state=42, max_iter=100)\n",
        "cus_en_svm = svm.SVC(kernel='sigmoid', probability=True)\n",
        "cus_en_dt = DecisionTreeClassifier(min_samples_split=10, random_state=27)\n",
        "cus_en_rd = RandomForestClassifier(n_estimators=250, random_state=42,\n",
        "                                class_weight=\"balanced\", min_samples_split=12)\n",
        "cus_xgb_clf = XGBClassifier(learning_rate =0.1,\n",
        "     n_estimators=135,\n",
        "     max_depth=10,\n",
        "     min_child_weight=1,\n",
        "     gamma=0.05,\n",
        "     subsample=0.8,\n",
        "     colsample_bytree=0.8,\n",
        "     objective= 'binary:logistic',\n",
        "     nthread=4,\n",
        "     scale_pos_weight=1,\n",
        "     seed=27)\n",
        "\n",
        "cus_en_lr.fit(cv_train_X, cv_train_Y)\n",
        "cus_en_svm.fit(cv_train_X, cv_train_Y)\n",
        "cus_en_dt.fit(tfidf_train_X, tfidf_train_Y)\n",
        "cus_en_rd.fit(cv_train_X, cv_train_Y)\n",
        "cus_xgb_clf.fit(pca_w2v_train_X, pca_w2v_train_Y)\n",
        "\n",
        "lr_pred_y = cus_en_lr.predict(cv_test_X)\n",
        "svm_pred_y = cus_en_svm.predict(cv_test_X)\n",
        "dt_pred_y = cus_en_dt.predict(tfidf_test_X)\n",
        "rd_pred_y = cus_en_rd.predict(cv_test_X)\n",
        "xgb_pred_y = cus_xgb_clf.predict(pca_w2v_test_X)\n",
        "\n",
        "\n",
        "lr_pred_y_prob = cus_en_lr.predict_proba(cv_test_X)\n",
        "svm_pred_y_prob = cus_en_svm.predict_proba(cv_test_X)\n",
        "dt_pred_y_prob = cus_en_dt.predict_proba(tfidf_test_X)\n",
        "rd_pred_y_prob = cus_en_rd.predict_proba(cv_test_X)\n",
        "xgb_pred_y_prob = cus_xgb_clf.predict_proba(pca_w2v_test_X)\n"
      ],
      "metadata": {
        "id": "GPNlptWt2VWP"
      },
      "execution_count": 120,
      "outputs": []
    },
    {
      "cell_type": "code",
      "source": [
        "combined_pred_y = []\n",
        "\n",
        "for idx in range(cv_test_y.shape[0]):\n",
        "  if (lr_pred_y[idx]+svm_pred_y[idx]+rd_pred_y[idx]+dt_pred_y[idx]+xgb_pred_y[idx]>=3):\n",
        "    combined_pred_y.append(1);\n",
        "  else :\n",
        "    combined_pred_y.append(0);"
      ],
      "metadata": {
        "id": "wQgbUGMM3MCb"
      },
      "execution_count": 121,
      "outputs": []
    },
    {
      "cell_type": "code",
      "source": [
        "lr_pred_y.shape\n",
        "combined_pred_y = np.asarray(combined_pred_y)\n",
        "\n",
        "from sklearn.metrics import precision_score, recall_score, f1_score, accuracy_score\n",
        "\n",
        "#Accuracy\n",
        "print('accuracy_score: %.3f' % accuracy_score(cv_test_y, combined_pred_y))\n",
        "print('Recall: %.3f' % recall_score(cv_test_y, combined_pred_y))\n",
        "print('Precision: %.3f' % precision_score(cv_test_y, combined_pred_y))\n",
        "print('F1 Score: %.3f' % f1_score(cv_test_y, combined_pred_y))\n"
      ],
      "metadata": {
        "colab": {
          "base_uri": "https://localhost:8080/"
        },
        "id": "sMxTenZ-31bR",
        "outputId": "0aba1729-7fba-4c72-bc01-b17ab66b7db4"
      },
      "execution_count": 122,
      "outputs": [
        {
          "output_type": "stream",
          "name": "stdout",
          "text": [
            "accuracy_score: 0.809\n",
            "Recall: 0.694\n",
            "Precision: 0.838\n",
            "F1 Score: 0.759\n"
          ]
        }
      ]
    },
    {
      "cell_type": "code",
      "source": [
        "from sklearn.metrics import confusion_matrix\n",
        "\n",
        "conf_matrix = confusion_matrix(y_true=cv_test_y, y_pred=combined_pred_y)\n",
        "#\n",
        "# Print the confusion matrix using Matplotlib\n",
        "#\n",
        "fig, ax = plt.subplots(figsize=(5, 5))\n",
        "ax.matshow(conf_matrix, cmap=plt.cm.Oranges, alpha=0.3)\n",
        "for i in range(conf_matrix.shape[0]):\n",
        "    for j in range(conf_matrix.shape[1]):\n",
        "        ax.text(x=j, y=i,s=conf_matrix[i, j], va='center', ha='center', size='xx-large')\n",
        "\n",
        "plt.xlabel('Predictions', fontsize=18)\n",
        "plt.ylabel('Actuals', fontsize=18)\n",
        "plt.title('Confusion Matrix', fontsize=18)\n",
        "plt.show()"
      ],
      "metadata": {
        "colab": {
          "base_uri": "https://localhost:8080/",
          "height": 357
        },
        "id": "yygXbJJd5PcN",
        "outputId": "00cc10ff-6374-42cb-b5bc-9a6f0f56993a"
      },
      "execution_count": 123,
      "outputs": [
        {
          "output_type": "display_data",
          "data": {
            "text/plain": [
              "<Figure size 360x360 with 1 Axes>"
            ],
            "image/png": "[encoded data removed]"
          },
          "metadata": {
            "needs_background": "light"
          }
        }
      ]
    },
    {
      "cell_type": "code",
      "source": [
        "'''\n",
        "combined_pred_y_prob = []\n",
        "for idx in range(cv_test_y.shape[0]):\n",
        "  max_neg = max([lr_pred_y_prob[idx][0],svm_pred_y_prob[idx][0],\n",
        "                 rd_pred_y_prob[idx][0],xgb_pred_y_prob[idx][0], dt_pred_y_prob[idx][0]])\n",
        "  max_pos = max([lr_pred_y_prob[idx][1],svm_pred_y_prob[idx][1],\n",
        "                 rd_pred_y_prob[idx][1],xgb_pred_y_prob[idx][1], dt_pred_y_prob[idx][1]])\n",
        "  \n",
        "  if (max_neg<max_pos):\n",
        "    combined_pred_y_prob.append(1);\n",
        "  else :\n",
        "    combined_pred_y_prob.append(0);\n",
        "\n",
        "print(\"\\n probability: \\n\")\n",
        "\n",
        "#combined_pred_y_prob = np.asarray(combined_pred_y_prob)\n",
        "\n",
        "#Accuracy\n",
        "print('accuracy_score: %.3f' % accuracy_score(cv_test_y, combined_pred_y_prob))\n",
        "print('Recall: %.3f' % recall_score(cv_test_y, combined_pred_y_prob))\n",
        "print('Precision: %.3f' % precision_score(cv_test_y, combined_pred_y_prob))\n",
        "print('F1 Score: %.3f' % f1_score(cv_test_y, combined_pred_y_prob))\n",
        "'''\n"
      ],
      "metadata": {
        "id": "QrK5df4ARaDd",
        "colab": {
          "base_uri": "https://localhost:8080/",
          "height": 198
        },
        "outputId": "e167d0c6-f324-48fd-bd8b-0550c72b4c2d"
      },
      "execution_count": 124,
      "outputs": [
        {
          "output_type": "execute_result",
          "data": {
            "text/plain": [
              "'\\ncombined_pred_y_prob = []\\nfor idx in range(cv_test_y.shape[0]):\\n  max_neg = max([lr_pred_y_prob[idx][0],svm_pred_y_prob[idx][0],\\n                 rd_pred_y_prob[idx][0],xgb_pred_y_prob[idx][0], dt_pred_y_prob[idx][0]])\\n  max_pos = max([lr_pred_y_prob[idx][1],svm_pred_y_prob[idx][1],\\n                 rd_pred_y_prob[idx][1],xgb_pred_y_prob[idx][1], dt_pred_y_prob[idx][1]])\\n  \\n  if (max_neg<max_pos):\\n    combined_pred_y_prob.append(1);\\n  else :\\n    combined_pred_y_prob.append(0);\\n\\nprint(\"\\n probability: \\n\")\\n\\n#combined_pred_y_prob = np.asarray(combined_pred_y_prob)\\n\\n#Accuracy\\nprint(\\'accuracy_score: %.3f\\' % accuracy_score(cv_test_y, combined_pred_y_prob))\\nprint(\\'Recall: %.3f\\' % recall_score(cv_test_y, combined_pred_y_prob))\\nprint(\\'Precision: %.3f\\' % precision_score(cv_test_y, combined_pred_y_prob))\\nprint(\\'F1 Score: %.3f\\' % f1_score(cv_test_y, combined_pred_y_prob))\\n'"
            ],
            "application/vnd.google.colaboratory.intrinsic+json": {
              "type": "string"
            }
          },
          "metadata": {},
          "execution_count": 124
        }
      ]
    },
    {
      "cell_type": "markdown",
      "source": [
        "## (SVM+CV, LogisticR+CV, DT+tfidf, RandomF+cv, Xgboost+pca_word2vec + LSTM+glove) 0.81X"
      ],
      "metadata": {
        "id": "IJ_n4p1whQ7W"
      }
    },
    {
      "cell_type": "code",
      "source": [
        "all_combined_pred_y = []\n",
        "\n",
        "for idx in range(cv_test_y.shape[0]):\n",
        "  if (lr_pred_y[idx]+svm_pred_y[idx]+rd_pred_y[idx]+dt_pred_y[idx]+xgb_pred_y[idx]+lstm_glv_pred_y[idx]>3):\n",
        "    all_combined_pred_y.append(1);\n",
        "  else :\n",
        "    all_combined_pred_y.append(0);\n",
        "\n",
        "\n",
        "#Accuracy\n",
        "print('accuracy_score: %.3f' % accuracy_score(cv_test_y, all_combined_pred_y))\n",
        "print('Recall: %.3f' % recall_score(cv_test_y, all_combined_pred_y))\n",
        "print('Precision: %.3f' % precision_score(cv_test_y, all_combined_pred_y))\n",
        "print('F1 Score: %.3f' % f1_score(cv_test_y, all_combined_pred_y))\n"
      ],
      "metadata": {
        "colab": {
          "base_uri": "https://localhost:8080/"
        },
        "id": "EtrPni26gp0s",
        "outputId": "1cd9d42b-d05b-4617-93dd-9a38234ce133"
      },
      "execution_count": 125,
      "outputs": [
        {
          "output_type": "stream",
          "name": "stdout",
          "text": [
            "accuracy_score: 0.813\n",
            "Recall: 0.679\n",
            "Precision: 0.862\n",
            "F1 Score: 0.760\n"
          ]
        }
      ]
    },
    {
      "cell_type": "code",
      "source": [
        "from sklearn.metrics import confusion_matrix\n",
        "\n",
        "conf_matrix = confusion_matrix(y_true=cv_test_y, y_pred=all_combined_pred_y)\n",
        "#\n",
        "# Print the confusion matrix using Matplotlib\n",
        "#\n",
        "fig, ax = plt.subplots(figsize=(5, 5))\n",
        "ax.matshow(conf_matrix, cmap=plt.cm.Oranges, alpha=0.3)\n",
        "for i in range(conf_matrix.shape[0]):\n",
        "    for j in range(conf_matrix.shape[1]):\n",
        "        ax.text(x=j, y=i,s=conf_matrix[i, j], va='center', ha='center', size='xx-large')\n",
        "\n",
        "plt.xlabel('Predictions', fontsize=18)\n",
        "plt.ylabel('Actuals', fontsize=18)\n",
        "plt.title('Confusion Matrix', fontsize=18)\n",
        "plt.show()"
      ],
      "metadata": {
        "colab": {
          "base_uri": "https://localhost:8080/",
          "height": 357
        },
        "id": "lhELsc9xhZiJ",
        "outputId": "b3180ae4-016f-4b9b-d134-0f560e62a7df"
      },
      "execution_count": 126,
      "outputs": [
        {
          "output_type": "display_data",
          "data": {
            "text/plain": [
              "<Figure size 360x360 with 1 Axes>"
            ],
            "image/png": "[encoded data removed]"
          },
          "metadata": {
            "needs_background": "light"
          }
        }
      ]
    },
    {
      "cell_type": "markdown",
      "source": [
        ""
      ],
      "metadata": {
        "id": "kz9Esu2w8nq9"
      }
    },
    {
      "cell_type": "markdown",
      "source": [
        "#Bert Model"
      ],
      "metadata": {
        "id": "l-sW7ShJ8rC5"
      }
    },
    {
      "cell_type": "code",
      "source": [
        "# loading the dataset \n",
        "import pandas as pd\n",
        "df = pd.read_csv(\"/content/train.csv\",encoding='ISO-8859-1')\n",
        "df.head(5)\n",
        "#dropping 3 columns.\n",
        "df = df.drop(['id','keyword','location'],axis=1)\n",
        "df.head()\n",
        "#Balancing the dataset\n",
        "df_0_class = df[df['target']==0]\n",
        "df_1_class = df[df['target']==1]\n",
        "df_0_class_undersampled = df_0_class.sample(df_1_class.shape[0])\n",
        "df = pd.concat([df_0_class_undersampled, df_1_class], axis=0)\n",
        "#Splitting the dataset\n",
        "from sklearn.model_selection import train_test_split\n",
        "X_train, X_test, y_train, y_test = train_test_split(df['text'],df['target'], stratify=df['target'])\n",
        "#Installing tensorflow_text\n",
        "! pip install tensorflow-text"
      ],
      "metadata": {
        "colab": {
          "base_uri": "https://localhost:8080/"
        },
        "id": "MkLUqgIM-fJG",
        "outputId": "4c25c3ab-4469-4394-d006-f130356d1a9f"
      },
      "execution_count": 127,
      "outputs": [
        {
          "output_type": "stream",
          "name": "stdout",
          "text": [
            "Requirement already satisfied: tensorflow-text in /usr/local/lib/python3.7/dist-packages (2.9.0)\n",
            "Requirement already satisfied: tensorflow-hub>=0.8.0 in /usr/local/lib/python3.7/dist-packages (from tensorflow-text) (0.12.0)\n",
            "Requirement already satisfied: tensorflow<2.10,>=2.9.0 in /usr/local/lib/python3.7/dist-packages (from tensorflow-text) (2.9.0)\n",
            "Requirement already satisfied: setuptools in /usr/local/lib/python3.7/dist-packages (from tensorflow<2.10,>=2.9.0->tensorflow-text) (57.4.0)\n",
            "Requirement already satisfied: absl-py>=1.0.0 in /usr/local/lib/python3.7/dist-packages (from tensorflow<2.10,>=2.9.0->tensorflow-text) (1.0.0)\n",
            "Requirement already satisfied: keras-preprocessing>=1.1.1 in /usr/local/lib/python3.7/dist-packages (from tensorflow<2.10,>=2.9.0->tensorflow-text) (1.1.2)\n",
            "Requirement already satisfied: protobuf>=3.9.2 in /usr/local/lib/python3.7/dist-packages (from tensorflow<2.10,>=2.9.0->tensorflow-text) (3.17.3)\n",
            "Requirement already satisfied: grpcio<2.0,>=1.24.3 in /usr/local/lib/python3.7/dist-packages (from tensorflow<2.10,>=2.9.0->tensorflow-text) (1.46.1)\n",
            "Requirement already satisfied: tensorflow-estimator<2.10.0,>=2.9.0rc0 in /usr/local/lib/python3.7/dist-packages (from tensorflow<2.10,>=2.9.0->tensorflow-text) (2.9.0)\n",
            "Requirement already satisfied: gast<=0.4.0,>=0.2.1 in /usr/local/lib/python3.7/dist-packages (from tensorflow<2.10,>=2.9.0->tensorflow-text) (0.4.0)\n",
            "Requirement already satisfied: wrapt>=1.11.0 in /usr/local/lib/python3.7/dist-packages (from tensorflow<2.10,>=2.9.0->tensorflow-text) (1.14.1)\n",
            "Requirement already satisfied: six>=1.12.0 in /usr/local/lib/python3.7/dist-packages (from tensorflow<2.10,>=2.9.0->tensorflow-text) (1.15.0)\n",
            "Requirement already satisfied: packaging in /usr/local/lib/python3.7/dist-packages (from tensorflow<2.10,>=2.9.0->tensorflow-text) (21.3)\n",
            "Requirement already satisfied: tensorflow-io-gcs-filesystem>=0.23.1 in /usr/local/lib/python3.7/dist-packages (from tensorflow<2.10,>=2.9.0->tensorflow-text) (0.25.0)\n",
            "Requirement already satisfied: termcolor>=1.1.0 in /usr/local/lib/python3.7/dist-packages (from tensorflow<2.10,>=2.9.0->tensorflow-text) (1.1.0)\n",
            "Requirement already satisfied: libclang>=13.0.0 in /usr/local/lib/python3.7/dist-packages (from tensorflow<2.10,>=2.9.0->tensorflow-text) (14.0.1)\n",
            "Requirement already satisfied: astunparse>=1.6.0 in /usr/local/lib/python3.7/dist-packages (from tensorflow<2.10,>=2.9.0->tensorflow-text) (1.6.3)\n",
            "Requirement already satisfied: google-pasta>=0.1.1 in /usr/local/lib/python3.7/dist-packages (from tensorflow<2.10,>=2.9.0->tensorflow-text) (0.2.0)\n",
            "Requirement already satisfied: flatbuffers<2,>=1.12 in /usr/local/lib/python3.7/dist-packages (from tensorflow<2.10,>=2.9.0->tensorflow-text) (1.12)\n",
            "Requirement already satisfied: typing-extensions>=3.6.6 in /usr/local/lib/python3.7/dist-packages (from tensorflow<2.10,>=2.9.0->tensorflow-text) (4.2.0)\n",
            "Requirement already satisfied: h5py>=2.9.0 in /usr/local/lib/python3.7/dist-packages (from tensorflow<2.10,>=2.9.0->tensorflow-text) (3.1.0)\n",
            "Requirement already satisfied: opt-einsum>=2.3.2 in /usr/local/lib/python3.7/dist-packages (from tensorflow<2.10,>=2.9.0->tensorflow-text) (3.3.0)\n",
            "Requirement already satisfied: numpy>=1.20 in /usr/local/lib/python3.7/dist-packages (from tensorflow<2.10,>=2.9.0->tensorflow-text) (1.21.6)\n",
            "Requirement already satisfied: keras<2.10.0,>=2.9.0rc0 in /usr/local/lib/python3.7/dist-packages (from tensorflow<2.10,>=2.9.0->tensorflow-text) (2.9.0)\n",
            "Requirement already satisfied: tensorboard<2.10,>=2.9 in /usr/local/lib/python3.7/dist-packages (from tensorflow<2.10,>=2.9.0->tensorflow-text) (2.9.0)\n",
            "Requirement already satisfied: wheel<1.0,>=0.23.0 in /usr/local/lib/python3.7/dist-packages (from astunparse>=1.6.0->tensorflow<2.10,>=2.9.0->tensorflow-text) (0.37.1)\n",
            "Requirement already satisfied: cached-property in /usr/local/lib/python3.7/dist-packages (from h5py>=2.9.0->tensorflow<2.10,>=2.9.0->tensorflow-text) (1.5.2)\n",
            "Requirement already satisfied: google-auth<3,>=1.6.3 in /usr/local/lib/python3.7/dist-packages (from tensorboard<2.10,>=2.9->tensorflow<2.10,>=2.9.0->tensorflow-text) (1.35.0)\n",
            "Requirement already satisfied: tensorboard-data-server<0.7.0,>=0.6.0 in /usr/local/lib/python3.7/dist-packages (from tensorboard<2.10,>=2.9->tensorflow<2.10,>=2.9.0->tensorflow-text) (0.6.1)\n",
            "Requirement already satisfied: tensorboard-plugin-wit>=1.6.0 in /usr/local/lib/python3.7/dist-packages (from tensorboard<2.10,>=2.9->tensorflow<2.10,>=2.9.0->tensorflow-text) (1.8.1)\n",
            "Requirement already satisfied: werkzeug>=1.0.1 in /usr/local/lib/python3.7/dist-packages (from tensorboard<2.10,>=2.9->tensorflow<2.10,>=2.9.0->tensorflow-text) (1.0.1)\n",
            "Requirement already satisfied: requests<3,>=2.21.0 in /usr/local/lib/python3.7/dist-packages (from tensorboard<2.10,>=2.9->tensorflow<2.10,>=2.9.0->tensorflow-text) (2.23.0)\n",
            "Requirement already satisfied: markdown>=2.6.8 in /usr/local/lib/python3.7/dist-packages (from tensorboard<2.10,>=2.9->tensorflow<2.10,>=2.9.0->tensorflow-text) (3.3.7)\n",
            "Requirement already satisfied: google-auth-oauthlib<0.5,>=0.4.1 in /usr/local/lib/python3.7/dist-packages (from tensorboard<2.10,>=2.9->tensorflow<2.10,>=2.9.0->tensorflow-text) (0.4.6)\n",
            "Requirement already satisfied: pyasn1-modules>=0.2.1 in /usr/local/lib/python3.7/dist-packages (from google-auth<3,>=1.6.3->tensorboard<2.10,>=2.9->tensorflow<2.10,>=2.9.0->tensorflow-text) (0.2.8)\n",
            "Requirement already satisfied: cachetools<5.0,>=2.0.0 in /usr/local/lib/python3.7/dist-packages (from google-auth<3,>=1.6.3->tensorboard<2.10,>=2.9->tensorflow<2.10,>=2.9.0->tensorflow-text) (4.2.4)\n",
            "Requirement already satisfied: rsa<5,>=3.1.4 in /usr/local/lib/python3.7/dist-packages (from google-auth<3,>=1.6.3->tensorboard<2.10,>=2.9->tensorflow<2.10,>=2.9.0->tensorflow-text) (4.8)\n",
            "Requirement already satisfied: requests-oauthlib>=0.7.0 in /usr/local/lib/python3.7/dist-packages (from google-auth-oauthlib<0.5,>=0.4.1->tensorboard<2.10,>=2.9->tensorflow<2.10,>=2.9.0->tensorflow-text) (1.3.1)\n",
            "Requirement already satisfied: importlib-metadata>=4.4 in /usr/local/lib/python3.7/dist-packages (from markdown>=2.6.8->tensorboard<2.10,>=2.9->tensorflow<2.10,>=2.9.0->tensorflow-text) (4.11.3)\n",
            "Requirement already satisfied: zipp>=0.5 in /usr/local/lib/python3.7/dist-packages (from importlib-metadata>=4.4->markdown>=2.6.8->tensorboard<2.10,>=2.9->tensorflow<2.10,>=2.9.0->tensorflow-text) (3.8.0)\n",
            "Requirement already satisfied: pyasn1<0.5.0,>=0.4.6 in /usr/local/lib/python3.7/dist-packages (from pyasn1-modules>=0.2.1->google-auth<3,>=1.6.3->tensorboard<2.10,>=2.9->tensorflow<2.10,>=2.9.0->tensorflow-text) (0.4.8)\n",
            "Requirement already satisfied: certifi>=2017.4.17 in /usr/local/lib/python3.7/dist-packages (from requests<3,>=2.21.0->tensorboard<2.10,>=2.9->tensorflow<2.10,>=2.9.0->tensorflow-text) (2021.10.8)\n",
            "Requirement already satisfied: idna<3,>=2.5 in /usr/local/lib/python3.7/dist-packages (from requests<3,>=2.21.0->tensorboard<2.10,>=2.9->tensorflow<2.10,>=2.9.0->tensorflow-text) (2.10)\n",
            "Requirement already satisfied: chardet<4,>=3.0.2 in /usr/local/lib/python3.7/dist-packages (from requests<3,>=2.21.0->tensorboard<2.10,>=2.9->tensorflow<2.10,>=2.9.0->tensorflow-text) (3.0.4)\n",
            "Requirement already satisfied: urllib3!=1.25.0,!=1.25.1,<1.26,>=1.21.1 in /usr/local/lib/python3.7/dist-packages (from requests<3,>=2.21.0->tensorboard<2.10,>=2.9->tensorflow<2.10,>=2.9.0->tensorflow-text) (1.24.3)\n",
            "Requirement already satisfied: oauthlib>=3.0.0 in /usr/local/lib/python3.7/dist-packages (from requests-oauthlib>=0.7.0->google-auth-oauthlib<0.5,>=0.4.1->tensorboard<2.10,>=2.9->tensorflow<2.10,>=2.9.0->tensorflow-text) (3.2.0)\n",
            "Requirement already satisfied: pyparsing!=3.0.5,>=2.0.2 in /usr/local/lib/python3.7/dist-packages (from packaging->tensorflow<2.10,>=2.9.0->tensorflow-text) (3.0.9)\n"
          ]
        }
      ]
    },
    {
      "cell_type": "code",
      "source": [
        "\n",
        "#Bert preprocessor and Encoder.\n",
        "import tensorflow as tf\n",
        "import tensorflow_hub as hub\n",
        "import tensorflow_text as text\n",
        "preprocess = hub.KerasLayer(\"https://tfhub.dev/tensorflow/bert_en_uncased_preprocess/3\")\n",
        "encoder = hub.KerasLayer(\"https://tfhub.dev/tensorflow/bert_en_uncased_L-12_H-768_A-12/4\")\n",
        "text_input = tf.keras.layers.Input(shape=(), dtype=tf.string, name='text-layer')\n",
        "preprocessed_text = preprocess(text_input)\n",
        "outputs = encoder(preprocessed_text)\n",
        "d_layer = tf.keras.layers.Dropout(0.1, name=\"dropout-layer\")(outputs['pooled_output'])\n",
        "d_layer = tf.keras.layers.Dense(1, activation='sigmoid', name=\"output\")(d_layer)\n",
        "model = tf.keras.Model(inputs=[text_input], outputs = [d_layer])\n",
        "m= [\n",
        "      tf.keras.metrics.BinaryAccuracy(name='accuracy'),\n",
        "      tf.keras.metrics.Precision(name='precision'),\n",
        "      tf.keras.metrics.Recall(name='recall')\n",
        "]\n",
        "model.compile(optimizer='adam', loss='binary_crossentropy', metrics=m)\n",
        "#Evaluation of Model\n",
        "model.fit(X_train, y_train, epochs=10)\n",
        "\n"
      ],
      "metadata": {
        "colab": {
          "base_uri": "https://localhost:8080/"
        },
        "id": "vOF03gyc8wt_",
        "outputId": "cf15f9be-3a7c-47da-b6d4-1cce6bbb20b8"
      },
      "execution_count": 128,
      "outputs": [
        {
          "output_type": "stream",
          "name": "stdout",
          "text": [
            "Epoch 1/10\n",
            "154/154 [==============================] - 138s 796ms/step - loss: 0.6506 - accuracy: 0.6199 - precision: 0.6175 - recall: 0.6298\n",
            "Epoch 2/10\n",
            "154/154 [==============================] - 123s 799ms/step - loss: 0.6092 - accuracy: 0.6737 - precision: 0.6659 - recall: 0.6971\n",
            "Epoch 3/10\n",
            "154/154 [==============================] - 123s 798ms/step - loss: 0.5964 - accuracy: 0.6894 - precision: 0.6877 - recall: 0.6938\n",
            "Epoch 4/10\n",
            "154/154 [==============================] - 121s 784ms/step - loss: 0.5884 - accuracy: 0.6993 - precision: 0.6989 - recall: 0.7004\n",
            "Epoch 5/10\n",
            "154/154 [==============================] - 121s 784ms/step - loss: 0.5777 - accuracy: 0.7032 - precision: 0.7021 - recall: 0.7061\n",
            "Epoch 6/10\n",
            "154/154 [==============================] - 120s 781ms/step - loss: 0.5735 - accuracy: 0.7077 - precision: 0.7089 - recall: 0.7049\n",
            "Epoch 7/10\n",
            "154/154 [==============================] - 121s 784ms/step - loss: 0.5668 - accuracy: 0.7199 - precision: 0.7256 - recall: 0.7073\n",
            "Epoch 8/10\n",
            "154/154 [==============================] - 120s 781ms/step - loss: 0.5621 - accuracy: 0.7175 - precision: 0.7220 - recall: 0.7073\n",
            "Epoch 9/10\n",
            "154/154 [==============================] - 121s 786ms/step - loss: 0.5585 - accuracy: 0.7250 - precision: 0.7312 - recall: 0.7118\n",
            "Epoch 10/10\n",
            "154/154 [==============================] - 120s 782ms/step - loss: 0.5476 - accuracy: 0.7326 - precision: 0.7386 - recall: 0.7199\n"
          ]
        },
        {
          "output_type": "execute_result",
          "data": {
            "text/plain": [
              "<keras.callbacks.History at 0x7f47ee977e90>"
            ]
          },
          "metadata": {},
          "execution_count": 128
        }
      ]
    },
    {
      "cell_type": "code",
      "source": [
        "#Here is the classification report.\n",
        "import numpy as np\n",
        "y_predicted = model.predict(X_test)\n",
        "y_predicted = y_predicted.flatten()\n",
        "y_predicted = np.where(y_predicted > 0.5, 1, 0)\n",
        "from sklearn.metrics import confusion_matrix, classification_report\n",
        "matrix = confusion_matrix(y_test, y_predicted)\n",
        "from sklearn.metrics import precision_score, recall_score, f1_score, accuracy_score\n",
        "#Precision and Accuracy for the Bert \n",
        "print('accuracy_score: %.3f' % accuracy_score(y_test, y_predicted))\n",
        "print('Recall: %.3f' % recall_score(y_test, y_predicted))\n",
        "print('Precision: %.3f' % precision_score(y_test, y_predicted))\n",
        "print('F1 Score: %.3f' % f1_score(y_test, y_predicted))"
      ],
      "metadata": {
        "colab": {
          "base_uri": "https://localhost:8080/"
        },
        "id": "c5RDPJFz8wwC",
        "outputId": "37a39e92-7a96-4fe9-8d9b-70253a41cb06"
      },
      "execution_count": 129,
      "outputs": [
        {
          "output_type": "stream",
          "name": "stdout",
          "text": [
            "52/52 [==============================] - 38s 715ms/step\n",
            "accuracy_score: 0.743\n",
            "Recall: 0.763\n",
            "Precision: 0.733\n",
            "F1 Score: 0.748\n"
          ]
        }
      ]
    },
    {
      "cell_type": "code",
      "source": [
        "import sklearn.metrics as metrics\n",
        "\n",
        "def ROC_Curve(y_train, y_train_predict):\n",
        "    x,y = np.arange(0,1.1,0.1),np.arange(0,1.1,0.1)\n",
        "    plt.plot(x, y, '--')\n",
        "\n",
        "    #### Plot for train\n",
        "    fpr_train, tpr_train, thresholds = metrics.roc_curve(y_train, y_train_predict)\n",
        "    roc_auc_train = metrics.auc(fpr_train, tpr_train)\n",
        "    plt.plot(fpr_train, tpr_train, marker='o', label = 'Train AUC = %0.3f' % roc_auc_train)\n",
        "\n",
        "    \n",
        "    plt.legend(loc = 'lower right')\n",
        "    plt.ylabel('True Positive Rate')\n",
        "    plt.xlabel('False Positive Rate')\n",
        "    plt.show()\n",
        "    return fpr_train,tpr_train,roc_auc_train"
      ],
      "metadata": {
        "id": "yWrXyW5e8wyf"
      },
      "execution_count": 133,
      "outputs": []
    },
    {
      "cell_type": "code",
      "source": [
        "\n",
        "bert_fpr_train,bert_tpr_train,roc_val_bert = ROC_Curve(y_test,y_predicted)"
      ],
      "metadata": {
        "colab": {
          "base_uri": "https://localhost:8080/",
          "height": 278
        },
        "id": "3t2WWLtC8w1L",
        "outputId": "94d6079f-12d6-4d61-efe9-50ae361a0a03"
      },
      "execution_count": 134,
      "outputs": [
        {
          "output_type": "display_data",
          "data": {
            "text/plain": [
              "<Figure size 432x288 with 1 Axes>"
            ],
            "image/png": "[encoded data removed]"
          },
          "metadata": {
            "needs_background": "light"
          }
        }
      ]
    },
    {
      "cell_type": "markdown",
      "source": [
        "# ROC Curve"
      ],
      "metadata": {
        "id": "RCaayiDi4mR1"
      }
    },
    {
      "cell_type": "code",
      "source": [
        "from sklearn.metrics import roc_curve\n",
        "from sklearn.metrics import roc_auc_score\n",
        "from matplotlib import pyplot\n",
        "\n",
        "\n",
        "ns_probs = [0 for _ in range(len(cv_test_y))]\n",
        "'''\n",
        "lr_pred_y_prob = cus_en_lr.predict_proba(cv_test_X)\n",
        "svm_pred_y_prob = cus_en_svm.predict_proba(cv_test_X)\n",
        "dt_pred_y_prob = cus_en_dt.predict_proba(tfidf_test_X)\n",
        "rd_pred_y_prob = cus_en_rd.predict_proba(cv_test_X)\n",
        "xgb_pred_y_prob = cus_xgb_clf.predict_proba(pca_w2v_test_X)\n",
        "lstm_glv_pred_y_prob\n",
        "'''\n",
        "lr_probs = lr_pred_y_prob[:, 1]\n",
        "svm_probs = svm_pred_y_prob[:, 1]\n",
        "dt_probs = dt_pred_y_prob[:, 1]\n",
        "rd_probs = rd_pred_y_prob[:, 1]\n",
        "xgb_probs = xgb_pred_y_prob[:, 1]\n",
        "\n",
        "# calculate scores\n",
        "ns_auc = roc_auc_score(cv_test_y, ns_probs)\n",
        "\n",
        "lr_auc = roc_auc_score(cv_test_y, lr_probs)\n",
        "svm_auc = roc_auc_score(cv_test_y, svm_probs)\n",
        "dt_auc = roc_auc_score(cv_test_y, dt_probs)\n",
        "rd_auc = roc_auc_score(cv_test_y, rd_probs)\n",
        "xgb_auc = roc_auc_score(cv_test_y, xgb_probs)\n",
        "lstm_glv_auc = roc_auc_score(cv_test_y, lstm_glv_pred_y_prob)\n",
        "\n",
        "# summarize scores\n",
        "print('No Skill: ROC AUC=%.3f' % (ns_auc))\n",
        "print('Logistic: ROC AUC=%.3f' % (lr_auc))\n",
        "print('SVM: ROC AUC=%.3f' % (svm_auc))\n",
        "print('DecisionTree: ROC AUC=%.3f' % (dt_auc))\n",
        "print('RandomTree: ROC AUC=%.3f' % (rd_auc))\n",
        "print('XGBoost: ROC AUC=%.3f' % (xgb_auc))\n",
        "print('LSTM GLOVE: ROC AUC=%.3f' % (lstm_glv_auc))\n",
        "print('LSTM GLOVE: ROC AUC=%.3f' % (roc_val_bert))\n",
        "\n",
        "# calculate roc curves\n",
        "ns_fpr, ns_tpr, _ = roc_curve(cv_test_y, ns_probs)\n",
        "\n",
        "lr_fpr, lr_tpr, _ = roc_curve(cv_test_y, lr_probs)\n",
        "svm_fpr, svm_tpr, _ = roc_curve(cv_test_y, svm_probs)\n",
        "dt_fpr, dt_tpr, _ = roc_curve(tfidf_test_y, dt_probs)\n",
        "rd_fpr, rd_tpr, _ = roc_curve(cv_test_y, rd_probs)\n",
        "xgb_fpr, xgb_tpr, _ = roc_curve(pca_w2v_test_y, xgb_probs)\n",
        "lstm_glv_fpr, lstm_glv_tpr, _ = roc_curve(pad_y_test, lstm_glv_pred_y_prob)\n",
        "bert_fpr_train,bert_tpr_train,roc_val_bert = ROC_Curve(y_test,y_predicted)\n",
        "# plot the roc curve for the model\n",
        "pyplot.plot(ns_fpr, ns_tpr, linestyle='--', label='No Skill')\n",
        "pyplot.plot(lr_fpr, lr_tpr, label='Logistic')\n",
        "\n",
        "pyplot.plot(svm_fpr, svm_tpr, label='SVM')\n",
        "pyplot.plot(dt_fpr, dt_tpr, label='DecisionTree')\n",
        "pyplot.plot(rd_fpr, rd_tpr, label='RandomTree')\n",
        "pyplot.plot(xgb_fpr, xgb_tpr, label='XGBoost')\n",
        "pyplot.plot(lstm_glv_fpr, lstm_glv_tpr, label='LSTM Glove')\n",
        "pyplot.plot(bert_fpr_train,bert_tpr_train,label=\"Bert Model\")\n",
        "# axis labels\n",
        "pyplot.xlabel('False Positive Rate')\n",
        "pyplot.ylabel('True Positive Rate')\n",
        "# show the legend\n",
        "pyplot.legend()\n",
        "# show the plot\n",
        "pyplot.show()"
      ],
      "metadata": {
        "colab": {
          "base_uri": "https://localhost:8080/",
          "height": 672
        },
        "id": "HIoatUwP4ptQ",
        "outputId": "a3092964-c02b-4184-dc6e-74439f4a0f90"
      },
      "execution_count": 136,
      "outputs": [
        {
          "output_type": "stream",
          "name": "stdout",
          "text": [
            "No Skill: ROC AUC=0.500\n",
            "Logistic: ROC AUC=0.859\n",
            "SVM: ROC AUC=0.854\n",
            "DecisionTree: ROC AUC=0.767\n",
            "RandomTree: ROC AUC=0.852\n",
            "XGBoost: ROC AUC=0.827\n",
            "LSTM GLOVE: ROC AUC=0.882\n",
            "LSTM GLOVE: ROC AUC=0.743\n"
          ]
        },
        {
          "output_type": "display_data",
          "data": {
            "text/plain": [
              "<Figure size 432x288 with 1 Axes>"
            ],
            "image/png": "[encoded data removed]"
          },
          "metadata": {
            "needs_background": "light"
          }
        },
        {
          "output_type": "display_data",
          "data": {
            "text/plain": [
              "<Figure size 432x288 with 1 Axes>"
            ],
            "image/png": "[encoded data removed]"
          },
          "metadata": {
            "needs_background": "light"
          }
        }
      ]
    },
    {
      "cell_type": "code",
      "source": [
        "# plot the roc curve for the model\n",
        "pyplot.plot(ns_fpr, ns_tpr, linestyle='--', label='No Skill')\n",
        "\n",
        "pyplot.plot(lr_fpr, lr_tpr, label='Logistic')\n",
        "pyplot.plot(svm_fpr, svm_tpr, label='SVM')\n",
        "pyplot.plot(dt_fpr, dt_tpr, label='DecisionTree')\n",
        "pyplot.plot(rd_fpr, rd_tpr, label='RandomTree')\n",
        "pyplot.plot(xgb_fpr, xgb_tpr, label='XGBoost')\n",
        "pyplot.plot(bert_fpr_train,bert_tpr_train,label=\"Bert Model\")\n",
        "\n",
        "\n",
        "#pyplot.plot(lstm_glv_fpr, lstm_glv_tpr, marker='.', label='LSTM Glove')\n",
        "\n",
        "# axis labels\n",
        "pyplot.xlabel('False Positive Rate')\n",
        "pyplot.ylabel('True Positive Rate')\n",
        "# show the legend\n",
        "pyplot.legend()\n",
        "# show the plot\n",
        "pyplot.show()"
      ],
      "metadata": {
        "colab": {
          "base_uri": "https://localhost:8080/",
          "height": 278
        },
        "id": "cPZRMPCShAh0",
        "outputId": "5fdcfe72-d3e1-4c8b-820c-36a26ab7b7c4"
      },
      "execution_count": 138,
      "outputs": [
        {
          "output_type": "display_data",
          "data": {
            "text/plain": [
              "<Figure size 432x288 with 1 Axes>"
            ],
            "image/png": "[encoded data removed]"
          },
          "metadata": {
            "needs_background": "light"
          }
        }
      ]
    },
    {
      "cell_type": "code",
      "source": [
        "# plot the roc curve for the model\n",
        "pyplot.plot(ns_fpr, ns_tpr, linestyle='--', label='No Skill')\n",
        "'''\n",
        "pyplot.plot(lr_fpr, lr_tpr, marker='.', label='Logistic')\n",
        "pyplot.plot(svm_fpr, svm_tpr, marker='.', label='SVM')\n",
        "pyplot.plot(dt_fpr, dt_tpr, marker='.', label='DecisionTree')\n",
        "pyplot.plot(rd_fpr, rd_tpr, marker='.', label='RandomTree')\n",
        "pyplot.plot(xgb_fpr, xgb_tpr, marker='.', label='XGBoost')\n",
        "'''\n",
        "pyplot.plot(lstm_glv_fpr, lstm_glv_tpr, label='LSTM Glove')\n",
        "\n",
        "# axis labels\n",
        "pyplot.xlabel('False Positive Rate')\n",
        "pyplot.ylabel('True Positive Rate')\n",
        "# show the legend\n",
        "pyplot.legend()\n",
        "# show the plot\n",
        "pyplot.show()"
      ],
      "metadata": {
        "colab": {
          "base_uri": "https://localhost:8080/",
          "height": 278
        },
        "id": "DjotCwWGhHNl",
        "outputId": "0d492eeb-c0fc-4748-ac8c-f3942a15331f"
      },
      "execution_count": 139,
      "outputs": [
        {
          "output_type": "display_data",
          "data": {
            "text/plain": [
              "<Figure size 432x288 with 1 Axes>"
            ],
            "image/png": "[encoded data removed]"
          },
          "metadata": {
            "needs_background": "light"
          }
        }
      ]
    },
    {
      "cell_type": "code",
      "source": [
        ""
      ],
      "metadata": {
        "id": "G4Q6bVhVTPht"
      },
      "execution_count": null,
      "outputs": []
    }
  ]
}