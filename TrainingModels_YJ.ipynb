{
  "nbformat": 4,
  "nbformat_minor": 0,
  "metadata": {
    "colab": {
      "name": "NLP.ipynb",
      "provenance": [],
      "collapsed_sections": [
        "HcFXtJbcwb0y",
        "3re5F1Xh7ROT",
        "Q2AwUyC_3zOx",
        "x9r55LFx7J4_",
        "FzIQGnq-8sfU",
        "1RQQmU5gsNu9",
        "G7l21GNwqGzR",
        "vUuzb2ZAqNij",
        "XH3_NJne6fB7",
        "o5IcasT28y_X",
        "6diDRbfBCzUw"
      ]
    },
    "kernelspec": {
      "name": "python3",
      "display_name": "Python 3"
    },
    "language_info": {
      "name": "python"
    }
  },
  "cells": [
    {
      "cell_type": "markdown",
      "source": [
        "# Pre Loading Libraries"
      ],
      "metadata": {
        "id": "HcFXtJbcwb0y"
      }
    },
    {
      "cell_type": "code",
      "execution_count": 1,
      "metadata": {
        "colab": {
          "base_uri": "https://localhost:8080/"
        },
        "id": "cZcWXX3T2nkx",
        "outputId": "7ec16867-641c-483a-d18c-70f90a1f72d4"
      },
      "outputs": [
        {
          "output_type": "stream",
          "name": "stdout",
          "text": [
            "\u001b[K     |████████████████████████████████| 4.9 MB 5.0 MB/s \n",
            "\u001b[K     |████████████████████████████████| 462 kB 25.5 MB/s \n",
            "\u001b[K     |████████████████████████████████| 2.2 MB 5.3 MB/s \n",
            "\u001b[K     |████████████████████████████████| 1.1 MB 43.5 MB/s \n",
            "\u001b[K     |████████████████████████████████| 99 kB 7.8 MB/s \n",
            "\u001b[K     |████████████████████████████████| 90 kB 5.4 MB/s \n",
            "\u001b[K     |████████████████████████████████| 47.8 MB 59 kB/s \n",
            "\u001b[K     |████████████████████████████████| 352 kB 41.7 MB/s \n",
            "\u001b[K     |████████████████████████████████| 1.2 MB 23.0 MB/s \n",
            "\u001b[K     |████████████████████████████████| 237 kB 5.1 MB/s \n",
            "\u001b[K     |████████████████████████████████| 43 kB 1.4 MB/s \n",
            "\u001b[K     |████████████████████████████████| 636 kB 33.5 MB/s \n",
            "\u001b[?25h  Building wheel for py-cpuinfo (setup.py) ... \u001b[?25l\u001b[?25hdone\n",
            "  Building wheel for seqeval (setup.py) ... \u001b[?25l\u001b[?25hdone\n",
            "Requirement already satisfied: tensorflow_hub in /usr/local/lib/python3.7/dist-packages (0.12.0)\n",
            "Requirement already satisfied: protobuf>=3.8.0 in /usr/local/lib/python3.7/dist-packages (from tensorflow_hub) (3.17.3)\n",
            "Requirement already satisfied: numpy>=1.12.0 in /usr/local/lib/python3.7/dist-packages (from tensorflow_hub) (1.21.6)\n",
            "Requirement already satisfied: six>=1.9 in /usr/local/lib/python3.7/dist-packages (from protobuf>=3.8.0->tensorflow_hub) (1.15.0)\n",
            "Collecting transformers\n",
            "  Downloading transformers-4.18.0-py3-none-any.whl (4.0 MB)\n",
            "\u001b[K     |████████████████████████████████| 4.0 MB 5.2 MB/s \n",
            "\u001b[?25hRequirement already satisfied: packaging>=20.0 in /usr/local/lib/python3.7/dist-packages (from transformers) (21.3)\n",
            "Requirement already satisfied: requests in /usr/local/lib/python3.7/dist-packages (from transformers) (2.23.0)\n",
            "Collecting tokenizers!=0.11.3,<0.13,>=0.11.1\n",
            "  Downloading tokenizers-0.12.1-cp37-cp37m-manylinux_2_12_x86_64.manylinux2010_x86_64.whl (6.6 MB)\n",
            "\u001b[K     |████████████████████████████████| 6.6 MB 33.1 MB/s \n",
            "\u001b[?25hRequirement already satisfied: pyyaml>=5.1 in /usr/local/lib/python3.7/dist-packages (from transformers) (5.4.1)\n",
            "Requirement already satisfied: numpy>=1.17 in /usr/local/lib/python3.7/dist-packages (from transformers) (1.21.6)\n",
            "Requirement already satisfied: regex!=2019.12.17 in /usr/local/lib/python3.7/dist-packages (from transformers) (2019.12.20)\n",
            "Requirement already satisfied: filelock in /usr/local/lib/python3.7/dist-packages (from transformers) (3.6.0)\n",
            "Requirement already satisfied: importlib-metadata in /usr/local/lib/python3.7/dist-packages (from transformers) (4.11.3)\n",
            "Collecting huggingface-hub<1.0,>=0.1.0\n",
            "  Downloading huggingface_hub-0.5.1-py3-none-any.whl (77 kB)\n",
            "\u001b[K     |████████████████████████████████| 77 kB 6.3 MB/s \n",
            "\u001b[?25hCollecting sacremoses\n",
            "  Downloading sacremoses-0.0.49-py3-none-any.whl (895 kB)\n",
            "\u001b[K     |████████████████████████████████| 895 kB 31.5 MB/s \n",
            "\u001b[?25hRequirement already satisfied: tqdm>=4.27 in /usr/local/lib/python3.7/dist-packages (from transformers) (4.64.0)\n",
            "Requirement already satisfied: typing-extensions>=3.7.4.3 in /usr/local/lib/python3.7/dist-packages (from huggingface-hub<1.0,>=0.1.0->transformers) (4.1.1)\n",
            "Requirement already satisfied: pyparsing!=3.0.5,>=2.0.2 in /usr/local/lib/python3.7/dist-packages (from packaging>=20.0->transformers) (3.0.8)\n",
            "Requirement already satisfied: zipp>=0.5 in /usr/local/lib/python3.7/dist-packages (from importlib-metadata->transformers) (3.8.0)\n",
            "Requirement already satisfied: chardet<4,>=3.0.2 in /usr/local/lib/python3.7/dist-packages (from requests->transformers) (3.0.4)\n",
            "Requirement already satisfied: certifi>=2017.4.17 in /usr/local/lib/python3.7/dist-packages (from requests->transformers) (2021.10.8)\n",
            "Requirement already satisfied: urllib3!=1.25.0,!=1.25.1,<1.26,>=1.21.1 in /usr/local/lib/python3.7/dist-packages (from requests->transformers) (1.24.3)\n",
            "Requirement already satisfied: idna<3,>=2.5 in /usr/local/lib/python3.7/dist-packages (from requests->transformers) (2.10)\n",
            "Requirement already satisfied: six in /usr/local/lib/python3.7/dist-packages (from sacremoses->transformers) (1.15.0)\n",
            "Requirement already satisfied: joblib in /usr/local/lib/python3.7/dist-packages (from sacremoses->transformers) (1.1.0)\n",
            "Requirement already satisfied: click in /usr/local/lib/python3.7/dist-packages (from sacremoses->transformers) (7.1.2)\n",
            "Installing collected packages: tokenizers, sacremoses, huggingface-hub, transformers\n",
            "Successfully installed huggingface-hub-0.5.1 sacremoses-0.0.49 tokenizers-0.12.1 transformers-4.18.0\n",
            "Collecting scikit-plot\n",
            "  Downloading scikit_plot-0.3.7-py3-none-any.whl (33 kB)\n",
            "Requirement already satisfied: scikit-learn>=0.18 in /usr/local/lib/python3.7/dist-packages (from scikit-plot) (1.0.2)\n",
            "Requirement already satisfied: matplotlib>=1.4.0 in /usr/local/lib/python3.7/dist-packages (from scikit-plot) (3.2.2)\n",
            "Requirement already satisfied: joblib>=0.10 in /usr/local/lib/python3.7/dist-packages (from scikit-plot) (1.1.0)\n",
            "Requirement already satisfied: scipy>=0.9 in /usr/local/lib/python3.7/dist-packages (from scikit-plot) (1.4.1)\n",
            "Requirement already satisfied: python-dateutil>=2.1 in /usr/local/lib/python3.7/dist-packages (from matplotlib>=1.4.0->scikit-plot) (2.8.2)\n",
            "Requirement already satisfied: kiwisolver>=1.0.1 in /usr/local/lib/python3.7/dist-packages (from matplotlib>=1.4.0->scikit-plot) (1.4.2)\n",
            "Requirement already satisfied: cycler>=0.10 in /usr/local/lib/python3.7/dist-packages (from matplotlib>=1.4.0->scikit-plot) (0.11.0)\n",
            "Requirement already satisfied: numpy>=1.11 in /usr/local/lib/python3.7/dist-packages (from matplotlib>=1.4.0->scikit-plot) (1.21.6)\n",
            "Requirement already satisfied: pyparsing!=2.0.4,!=2.1.2,!=2.1.6,>=2.0.1 in /usr/local/lib/python3.7/dist-packages (from matplotlib>=1.4.0->scikit-plot) (3.0.8)\n",
            "Requirement already satisfied: typing-extensions in /usr/local/lib/python3.7/dist-packages (from kiwisolver>=1.0.1->matplotlib>=1.4.0->scikit-plot) (4.1.1)\n",
            "Requirement already satisfied: six>=1.5 in /usr/local/lib/python3.7/dist-packages (from python-dateutil>=2.1->matplotlib>=1.4.0->scikit-plot) (1.15.0)\n",
            "Requirement already satisfied: threadpoolctl>=2.0.0 in /usr/local/lib/python3.7/dist-packages (from scikit-learn>=0.18->scikit-plot) (3.1.0)\n",
            "Installing collected packages: scikit-plot\n",
            "Successfully installed scikit-plot-0.3.7\n"
          ]
        }
      ],
      "source": [
        "!pip install -q -U tensorflow-text\n",
        "!pip install -q tf-models-official\n",
        "!pip install tensorflow_hub\n",
        "!pip install transformers\n",
        "!pip install scikit-plot"
      ]
    },
    {
      "cell_type": "code",
      "source": [
        "from keras.datasets import imdb\n",
        "from keras.preprocessing.text import Tokenizer  \n",
        "from keras.preprocessing.sequence import pad_sequences\n",
        "from keras import models\n",
        "from keras import layers\n",
        "from keras import losses\n",
        "from keras import metrics\n",
        "from keras import optimizers\n",
        "\n",
        "import pandas as pd\n",
        "import matplotlib.pyplot as plt\n",
        "from sklearn.feature_extraction.text import CountVectorizer\n",
        "from sklearn.feature_extraction.text import TfidfVectorizer\n",
        "from sklearn.model_selection import train_test_split\n",
        "\n",
        "from collections import Counter\n",
        "from pathlib import Path\n",
        "import os\n",
        "import numpy as np\n",
        "import re\n",
        "import string\n",
        "import nltk\n",
        "nltk.download('punkt')\n",
        "from nltk.tokenize import word_tokenize\n",
        "from nltk.corpus import stopwords\n",
        "nltk.download('stopwords')\n",
        "from nltk.stem.porter import PorterStemmer\n",
        "from nltk.stem import WordNetLemmatizer\n",
        "nltk.download('wordnet')\n",
        "from nltk.corpus import wordnet\n",
        "import unicodedata\n",
        "import html\n",
        "stop_words = stopwords.words('english')\n",
        "nltk.download('averaged_perceptron_tagger')"
      ],
      "metadata": {
        "colab": {
          "base_uri": "https://localhost:8080/"
        },
        "id": "EUEX1WmL2u2j",
        "outputId": "b99c4ae1-4eb1-4f72-b41f-e3660c66edb2"
      },
      "execution_count": 2,
      "outputs": [
        {
          "output_type": "stream",
          "name": "stdout",
          "text": [
            "[nltk_data] Downloading package punkt to /root/nltk_data...\n",
            "[nltk_data]   Unzipping tokenizers/punkt.zip.\n",
            "[nltk_data] Downloading package stopwords to /root/nltk_data...\n",
            "[nltk_data]   Unzipping corpora/stopwords.zip.\n",
            "[nltk_data] Downloading package wordnet to /root/nltk_data...\n",
            "[nltk_data]   Unzipping corpora/wordnet.zip.\n",
            "[nltk_data] Downloading package averaged_perceptron_tagger to\n",
            "[nltk_data]     /root/nltk_data...\n",
            "[nltk_data]   Unzipping taggers/averaged_perceptron_tagger.zip.\n"
          ]
        },
        {
          "output_type": "execute_result",
          "data": {
            "text/plain": [
              "True"
            ]
          },
          "metadata": {},
          "execution_count": 2
        }
      ]
    },
    {
      "cell_type": "markdown",
      "source": [
        "# Data Loading & Exploration"
      ],
      "metadata": {
        "id": "3re5F1Xh7ROT"
      }
    },
    {
      "cell_type": "code",
      "source": [
        "df = pd.read_csv('train.csv')\n",
        "display(df.head())\n",
        "display(df.info())"
      ],
      "metadata": {
        "colab": {
          "base_uri": "https://localhost:8080/",
          "height": 0
        },
        "id": "-tlb7wKv2w7J",
        "outputId": "59837ad1-4edc-46c2-b0de-1256696aaafd"
      },
      "execution_count": 11,
      "outputs": [
        {
          "output_type": "display_data",
          "data": {
            "text/plain": [
              "   id keyword location                                               text  \\\n",
              "0   1     NaN      NaN  Our Deeds are the Reason of this #earthquake M...   \n",
              "1   4     NaN      NaN             Forest fire near La Ronge Sask. Canada   \n",
              "2   5     NaN      NaN  All residents asked to 'shelter in place' are ...   \n",
              "3   6     NaN      NaN  13,000 people receive #wildfires evacuation or...   \n",
              "4   7     NaN      NaN  Just got sent this photo from Ruby #Alaska as ...   \n",
              "\n",
              "   target  \n",
              "0       1  \n",
              "1       1  \n",
              "2       1  \n",
              "3       1  \n",
              "4       1  "
            ],
            "text/html": [
              "\n",
              "  <div id=\"df-90a51011-fd07-4074-b02d-2a6d89bd512a\">\n",
              "    <div class=\"colab-df-container\">\n",
              "      <div>\n",
              "<style scoped>\n",
              "    .dataframe tbody tr th:only-of-type {\n",
              "        vertical-align: middle;\n",
              "    }\n",
              "\n",
              "    .dataframe tbody tr th {\n",
              "        vertical-align: top;\n",
              "    }\n",
              "\n",
              "    .dataframe thead th {\n",
              "        text-align: right;\n",
              "    }\n",
              "</style>\n",
              "<table border=\"1\" class=\"dataframe\">\n",
              "  <thead>\n",
              "    <tr style=\"text-align: right;\">\n",
              "      <th></th>\n",
              "      <th>id</th>\n",
              "      <th>keyword</th>\n",
              "      <th>location</th>\n",
              "      <th>text</th>\n",
              "      <th>target</th>\n",
              "    </tr>\n",
              "  </thead>\n",
              "  <tbody>\n",
              "    <tr>\n",
              "      <th>0</th>\n",
              "      <td>1</td>\n",
              "      <td>NaN</td>\n",
              "      <td>NaN</td>\n",
              "      <td>Our Deeds are the Reason of this #earthquake M...</td>\n",
              "      <td>1</td>\n",
              "    </tr>\n",
              "    <tr>\n",
              "      <th>1</th>\n",
              "      <td>4</td>\n",
              "      <td>NaN</td>\n",
              "      <td>NaN</td>\n",
              "      <td>Forest fire near La Ronge Sask. Canada</td>\n",
              "      <td>1</td>\n",
              "    </tr>\n",
              "    <tr>\n",
              "      <th>2</th>\n",
              "      <td>5</td>\n",
              "      <td>NaN</td>\n",
              "      <td>NaN</td>\n",
              "      <td>All residents asked to 'shelter in place' are ...</td>\n",
              "      <td>1</td>\n",
              "    </tr>\n",
              "    <tr>\n",
              "      <th>3</th>\n",
              "      <td>6</td>\n",
              "      <td>NaN</td>\n",
              "      <td>NaN</td>\n",
              "      <td>13,000 people receive #wildfires evacuation or...</td>\n",
              "      <td>1</td>\n",
              "    </tr>\n",
              "    <tr>\n",
              "      <th>4</th>\n",
              "      <td>7</td>\n",
              "      <td>NaN</td>\n",
              "      <td>NaN</td>\n",
              "      <td>Just got sent this photo from Ruby #Alaska as ...</td>\n",
              "      <td>1</td>\n",
              "    </tr>\n",
              "  </tbody>\n",
              "</table>\n",
              "</div>\n",
              "      <button class=\"colab-df-convert\" onclick=\"convertToInteractive('df-90a51011-fd07-4074-b02d-2a6d89bd512a')\"\n",
              "              title=\"Convert this dataframe to an interactive table.\"\n",
              "              style=\"display:none;\">\n",
              "        \n",
              "  <svg xmlns=\"http://www.w3.org/2000/svg\" height=\"24px\"viewBox=\"0 0 24 24\"\n",
              "       width=\"24px\">\n",
              "    <path d=\"M0 0h24v24H0V0z\" fill=\"none\"/>\n",
              "    <path d=\"M18.56 5.44l.94 2.06.94-2.06 2.06-.94-2.06-.94-.94-2.06-.94 2.06-2.06.94zm-11 1L8.5 8.5l.94-2.06 2.06-.94-2.06-.94L8.5 2.5l-.94 2.06-2.06.94zm10 10l.94 2.06.94-2.06 2.06-.94-2.06-.94-.94-2.06-.94 2.06-2.06.94z\"/><path d=\"M17.41 7.96l-1.37-1.37c-.4-.4-.92-.59-1.43-.59-.52 0-1.04.2-1.43.59L10.3 9.45l-7.72 7.72c-.78.78-.78 2.05 0 2.83L4 21.41c.39.39.9.59 1.41.59.51 0 1.02-.2 1.41-.59l7.78-7.78 2.81-2.81c.8-.78.8-2.07 0-2.86zM5.41 20L4 18.59l7.72-7.72 1.47 1.35L5.41 20z\"/>\n",
              "  </svg>\n",
              "      </button>\n",
              "      \n",
              "  <style>\n",
              "    .colab-df-container {\n",
              "      display:flex;\n",
              "      flex-wrap:wrap;\n",
              "      gap: 12px;\n",
              "    }\n",
              "\n",
              "    .colab-df-convert {\n",
              "      background-color: #E8F0FE;\n",
              "      border: none;\n",
              "      border-radius: 50%;\n",
              "      cursor: pointer;\n",
              "      display: none;\n",
              "      fill: #1967D2;\n",
              "      height: 32px;\n",
              "      padding: 0 0 0 0;\n",
              "      width: 32px;\n",
              "    }\n",
              "\n",
              "    .colab-df-convert:hover {\n",
              "      background-color: #E2EBFA;\n",
              "      box-shadow: 0px 1px 2px rgba(60, 64, 67, 0.3), 0px 1px 3px 1px rgba(60, 64, 67, 0.15);\n",
              "      fill: #174EA6;\n",
              "    }\n",
              "\n",
              "    [theme=dark] .colab-df-convert {\n",
              "      background-color: #3B4455;\n",
              "      fill: #D2E3FC;\n",
              "    }\n",
              "\n",
              "    [theme=dark] .colab-df-convert:hover {\n",
              "      background-color: #434B5C;\n",
              "      box-shadow: 0px 1px 3px 1px rgba(0, 0, 0, 0.15);\n",
              "      filter: drop-shadow(0px 1px 2px rgba(0, 0, 0, 0.3));\n",
              "      fill: #FFFFFF;\n",
              "    }\n",
              "  </style>\n",
              "\n",
              "      <script>\n",
              "        const buttonEl =\n",
              "          document.querySelector('#df-90a51011-fd07-4074-b02d-2a6d89bd512a button.colab-df-convert');\n",
              "        buttonEl.style.display =\n",
              "          google.colab.kernel.accessAllowed ? 'block' : 'none';\n",
              "\n",
              "        async function convertToInteractive(key) {\n",
              "          const element = document.querySelector('#df-90a51011-fd07-4074-b02d-2a6d89bd512a');\n",
              "          const dataTable =\n",
              "            await google.colab.kernel.invokeFunction('convertToInteractive',\n",
              "                                                     [key], {});\n",
              "          if (!dataTable) return;\n",
              "\n",
              "          const docLinkHtml = 'Like what you see? Visit the ' +\n",
              "            '<a target=\"_blank\" href=https://colab.research.google.com/notebooks/data_table.ipynb>data table notebook</a>'\n",
              "            + ' to learn more about interactive tables.';\n",
              "          element.innerHTML = '';\n",
              "          dataTable['output_type'] = 'display_data';\n",
              "          await google.colab.output.renderOutput(dataTable, element);\n",
              "          const docLink = document.createElement('div');\n",
              "          docLink.innerHTML = docLinkHtml;\n",
              "          element.appendChild(docLink);\n",
              "        }\n",
              "      </script>\n",
              "    </div>\n",
              "  </div>\n",
              "  "
            ]
          },
          "metadata": {}
        },
        {
          "output_type": "stream",
          "name": "stdout",
          "text": [
            "<class 'pandas.core.frame.DataFrame'>\n",
            "RangeIndex: 7613 entries, 0 to 7612\n",
            "Data columns (total 5 columns):\n",
            " #   Column    Non-Null Count  Dtype \n",
            "---  ------    --------------  ----- \n",
            " 0   id        7613 non-null   int64 \n",
            " 1   keyword   7552 non-null   object\n",
            " 2   location  5080 non-null   object\n",
            " 3   text      7613 non-null   object\n",
            " 4   target    7613 non-null   int64 \n",
            "dtypes: int64(2), object(3)\n",
            "memory usage: 297.5+ KB\n"
          ]
        },
        {
          "output_type": "display_data",
          "data": {
            "text/plain": [
              "None"
            ]
          },
          "metadata": {}
        }
      ]
    },
    {
      "cell_type": "code",
      "source": [
        "df['target'].value_counts()"
      ],
      "metadata": {
        "colab": {
          "base_uri": "https://localhost:8080/"
        },
        "id": "ya9e_tjM3KsA",
        "outputId": "a9251755-0fa5-4630-b46c-3dab7c019c6a"
      },
      "execution_count": 12,
      "outputs": [
        {
          "output_type": "execute_result",
          "data": {
            "text/plain": [
              "0    4342\n",
              "1    3271\n",
              "Name: target, dtype: int64"
            ]
          },
          "metadata": {},
          "execution_count": 12
        }
      ]
    },
    {
      "cell_type": "code",
      "source": [
        "import seaborn as sns\n",
        "\n",
        "#define data\n",
        "data = [4342, 3271]\n",
        "labels = ['0', '1']\n",
        "\n",
        "#define Seaborn color palette to use\n",
        "colors = sns.color_palette('pastel')[0:5]\n",
        "\n",
        "#create pie chart\n",
        "plt.pie(data, labels = labels, colors = colors, autopct='%.0f%%')\n",
        "plt.show()\n"
      ],
      "metadata": {
        "colab": {
          "base_uri": "https://localhost:8080/",
          "height": 0
        },
        "id": "TbyJ4sHMivxB",
        "outputId": "149da562-5c04-4a7f-e04b-788b88190303"
      },
      "execution_count": 13,
      "outputs": [
        {
          "output_type": "display_data",
          "data": {
            "text/plain": [
              "<Figure size 432x288 with 1 Axes>"
            ],
            "image/png": "[encoded data removed]"
          },
          "metadata": {}
        }
      ]
    },
    {
      "cell_type": "code",
      "source": [
        "print(df['keyword'].unique())\n",
        "print(df['location'].unique())\n"
      ],
      "metadata": {
        "colab": {
          "base_uri": "https://localhost:8080/"
        },
        "id": "_-Pg136qkBAn",
        "outputId": "ce9319c0-b572-490b-ecbb-e7e341a3edaa"
      },
      "execution_count": 14,
      "outputs": [
        {
          "output_type": "stream",
          "name": "stdout",
          "text": [
            "[nan 'ablaze' 'accident' 'aftershock' 'airplane%20accident' 'ambulance'\n",
            " 'annihilated' 'annihilation' 'apocalypse' 'armageddon' 'army' 'arson'\n",
            " 'arsonist' 'attack' 'attacked' 'avalanche' 'battle' 'bioterror'\n",
            " 'bioterrorism' 'blaze' 'blazing' 'bleeding' 'blew%20up' 'blight'\n",
            " 'blizzard' 'blood' 'bloody' 'blown%20up' 'body%20bag' 'body%20bagging'\n",
            " 'body%20bags' 'bomb' 'bombed' 'bombing' 'bridge%20collapse'\n",
            " 'buildings%20burning' 'buildings%20on%20fire' 'burned' 'burning'\n",
            " 'burning%20buildings' 'bush%20fires' 'casualties' 'casualty'\n",
            " 'catastrophe' 'catastrophic' 'chemical%20emergency' 'cliff%20fall'\n",
            " 'collapse' 'collapsed' 'collide' 'collided' 'collision' 'crash' 'crashed'\n",
            " 'crush' 'crushed' 'curfew' 'cyclone' 'damage' 'danger' 'dead' 'death'\n",
            " 'deaths' 'debris' 'deluge' 'deluged' 'demolish' 'demolished' 'demolition'\n",
            " 'derail' 'derailed' 'derailment' 'desolate' 'desolation' 'destroy'\n",
            " 'destroyed' 'destruction' 'detonate' 'detonation' 'devastated'\n",
            " 'devastation' 'disaster' 'displaced' 'drought' 'drown' 'drowned'\n",
            " 'drowning' 'dust%20storm' 'earthquake' 'electrocute' 'electrocuted'\n",
            " 'emergency' 'emergency%20plan' 'emergency%20services' 'engulfed'\n",
            " 'epicentre' 'evacuate' 'evacuated' 'evacuation' 'explode' 'exploded'\n",
            " 'explosion' 'eyewitness' 'famine' 'fatal' 'fatalities' 'fatality' 'fear'\n",
            " 'fire' 'fire%20truck' 'first%20responders' 'flames' 'flattened' 'flood'\n",
            " 'flooding' 'floods' 'forest%20fire' 'forest%20fires' 'hail' 'hailstorm'\n",
            " 'harm' 'hazard' 'hazardous' 'heat%20wave' 'hellfire' 'hijack' 'hijacker'\n",
            " 'hijacking' 'hostage' 'hostages' 'hurricane' 'injured' 'injuries'\n",
            " 'injury' 'inundated' 'inundation' 'landslide' 'lava' 'lightning'\n",
            " 'loud%20bang' 'mass%20murder' 'mass%20murderer' 'massacre' 'mayhem'\n",
            " 'meltdown' 'military' 'mudslide' 'natural%20disaster'\n",
            " 'nuclear%20disaster' 'nuclear%20reactor' 'obliterate' 'obliterated'\n",
            " 'obliteration' 'oil%20spill' 'outbreak' 'pandemonium' 'panic' 'panicking'\n",
            " 'police' 'quarantine' 'quarantined' 'radiation%20emergency' 'rainstorm'\n",
            " 'razed' 'refugees' 'rescue' 'rescued' 'rescuers' 'riot' 'rioting'\n",
            " 'rubble' 'ruin' 'sandstorm' 'screamed' 'screaming' 'screams' 'seismic'\n",
            " 'sinkhole' 'sinking' 'siren' 'sirens' 'smoke' 'snowstorm' 'storm'\n",
            " 'stretcher' 'structural%20failure' 'suicide%20bomb' 'suicide%20bomber'\n",
            " 'suicide%20bombing' 'sunk' 'survive' 'survived' 'survivors' 'terrorism'\n",
            " 'terrorist' 'threat' 'thunder' 'thunderstorm' 'tornado' 'tragedy'\n",
            " 'trapped' 'trauma' 'traumatised' 'trouble' 'tsunami' 'twister' 'typhoon'\n",
            " 'upheaval' 'violent%20storm' 'volcano' 'war%20zone' 'weapon' 'weapons'\n",
            " 'whirlwind' 'wild%20fires' 'wildfire' 'windstorm' 'wounded' 'wounds'\n",
            " 'wreck' 'wreckage' 'wrecked']\n",
            "[nan 'Birmingham' 'Est. September 2012 - Bristol' ... 'Vancouver, Canada'\n",
            " 'London ' 'Lincoln']\n"
          ]
        }
      ]
    },
    {
      "cell_type": "code",
      "source": [
        "df = df.drop(['id', 'keyword','location'], axis = 1)\n",
        "df.head()\n"
      ],
      "metadata": {
        "colab": {
          "base_uri": "https://localhost:8080/",
          "height": 0
        },
        "id": "eHGHHFMN3mxk",
        "outputId": "c448a86d-8335-4ad7-c070-fcdb047b540a"
      },
      "execution_count": 15,
      "outputs": [
        {
          "output_type": "execute_result",
          "data": {
            "text/plain": [
              "                                                text  target\n",
              "0  Our Deeds are the Reason of this #earthquake M...       1\n",
              "1             Forest fire near La Ronge Sask. Canada       1\n",
              "2  All residents asked to 'shelter in place' are ...       1\n",
              "3  13,000 people receive #wildfires evacuation or...       1\n",
              "4  Just got sent this photo from Ruby #Alaska as ...       1"
            ],
            "text/html": [
              "\n",
              "  <div id=\"df-5de9953d-6672-4a6e-8996-0be14928aced\">\n",
              "    <div class=\"colab-df-container\">\n",
              "      <div>\n",
              "<style scoped>\n",
              "    .dataframe tbody tr th:only-of-type {\n",
              "        vertical-align: middle;\n",
              "    }\n",
              "\n",
              "    .dataframe tbody tr th {\n",
              "        vertical-align: top;\n",
              "    }\n",
              "\n",
              "    .dataframe thead th {\n",
              "        text-align: right;\n",
              "    }\n",
              "</style>\n",
              "<table border=\"1\" class=\"dataframe\">\n",
              "  <thead>\n",
              "    <tr style=\"text-align: right;\">\n",
              "      <th></th>\n",
              "      <th>text</th>\n",
              "      <th>target</th>\n",
              "    </tr>\n",
              "  </thead>\n",
              "  <tbody>\n",
              "    <tr>\n",
              "      <th>0</th>\n",
              "      <td>Our Deeds are the Reason of this #earthquake M...</td>\n",
              "      <td>1</td>\n",
              "    </tr>\n",
              "    <tr>\n",
              "      <th>1</th>\n",
              "      <td>Forest fire near La Ronge Sask. Canada</td>\n",
              "      <td>1</td>\n",
              "    </tr>\n",
              "    <tr>\n",
              "      <th>2</th>\n",
              "      <td>All residents asked to 'shelter in place' are ...</td>\n",
              "      <td>1</td>\n",
              "    </tr>\n",
              "    <tr>\n",
              "      <th>3</th>\n",
              "      <td>13,000 people receive #wildfires evacuation or...</td>\n",
              "      <td>1</td>\n",
              "    </tr>\n",
              "    <tr>\n",
              "      <th>4</th>\n",
              "      <td>Just got sent this photo from Ruby #Alaska as ...</td>\n",
              "      <td>1</td>\n",
              "    </tr>\n",
              "  </tbody>\n",
              "</table>\n",
              "</div>\n",
              "      <button class=\"colab-df-convert\" onclick=\"convertToInteractive('df-5de9953d-6672-4a6e-8996-0be14928aced')\"\n",
              "              title=\"Convert this dataframe to an interactive table.\"\n",
              "              style=\"display:none;\">\n",
              "        \n",
              "  <svg xmlns=\"http://www.w3.org/2000/svg\" height=\"24px\"viewBox=\"0 0 24 24\"\n",
              "       width=\"24px\">\n",
              "    <path d=\"M0 0h24v24H0V0z\" fill=\"none\"/>\n",
              "    <path d=\"M18.56 5.44l.94 2.06.94-2.06 2.06-.94-2.06-.94-.94-2.06-.94 2.06-2.06.94zm-11 1L8.5 8.5l.94-2.06 2.06-.94-2.06-.94L8.5 2.5l-.94 2.06-2.06.94zm10 10l.94 2.06.94-2.06 2.06-.94-2.06-.94-.94-2.06-.94 2.06-2.06.94z\"/><path d=\"M17.41 7.96l-1.37-1.37c-.4-.4-.92-.59-1.43-.59-.52 0-1.04.2-1.43.59L10.3 9.45l-7.72 7.72c-.78.78-.78 2.05 0 2.83L4 21.41c.39.39.9.59 1.41.59.51 0 1.02-.2 1.41-.59l7.78-7.78 2.81-2.81c.8-.78.8-2.07 0-2.86zM5.41 20L4 18.59l7.72-7.72 1.47 1.35L5.41 20z\"/>\n",
              "  </svg>\n",
              "      </button>\n",
              "      \n",
              "  <style>\n",
              "    .colab-df-container {\n",
              "      display:flex;\n",
              "      flex-wrap:wrap;\n",
              "      gap: 12px;\n",
              "    }\n",
              "\n",
              "    .colab-df-convert {\n",
              "      background-color: #E8F0FE;\n",
              "      border: none;\n",
              "      border-radius: 50%;\n",
              "      cursor: pointer;\n",
              "      display: none;\n",
              "      fill: #1967D2;\n",
              "      height: 32px;\n",
              "      padding: 0 0 0 0;\n",
              "      width: 32px;\n",
              "    }\n",
              "\n",
              "    .colab-df-convert:hover {\n",
              "      background-color: #E2EBFA;\n",
              "      box-shadow: 0px 1px 2px rgba(60, 64, 67, 0.3), 0px 1px 3px 1px rgba(60, 64, 67, 0.15);\n",
              "      fill: #174EA6;\n",
              "    }\n",
              "\n",
              "    [theme=dark] .colab-df-convert {\n",
              "      background-color: #3B4455;\n",
              "      fill: #D2E3FC;\n",
              "    }\n",
              "\n",
              "    [theme=dark] .colab-df-convert:hover {\n",
              "      background-color: #434B5C;\n",
              "      box-shadow: 0px 1px 3px 1px rgba(0, 0, 0, 0.15);\n",
              "      filter: drop-shadow(0px 1px 2px rgba(0, 0, 0, 0.3));\n",
              "      fill: #FFFFFF;\n",
              "    }\n",
              "  </style>\n",
              "\n",
              "      <script>\n",
              "        const buttonEl =\n",
              "          document.querySelector('#df-5de9953d-6672-4a6e-8996-0be14928aced button.colab-df-convert');\n",
              "        buttonEl.style.display =\n",
              "          google.colab.kernel.accessAllowed ? 'block' : 'none';\n",
              "\n",
              "        async function convertToInteractive(key) {\n",
              "          const element = document.querySelector('#df-5de9953d-6672-4a6e-8996-0be14928aced');\n",
              "          const dataTable =\n",
              "            await google.colab.kernel.invokeFunction('convertToInteractive',\n",
              "                                                     [key], {});\n",
              "          if (!dataTable) return;\n",
              "\n",
              "          const docLinkHtml = 'Like what you see? Visit the ' +\n",
              "            '<a target=\"_blank\" href=https://colab.research.google.com/notebooks/data_table.ipynb>data table notebook</a>'\n",
              "            + ' to learn more about interactive tables.';\n",
              "          element.innerHTML = '';\n",
              "          dataTable['output_type'] = 'display_data';\n",
              "          await google.colab.output.renderOutput(dataTable, element);\n",
              "          const docLink = document.createElement('div');\n",
              "          docLink.innerHTML = docLinkHtml;\n",
              "          element.appendChild(docLink);\n",
              "        }\n",
              "      </script>\n",
              "    </div>\n",
              "  </div>\n",
              "  "
            ]
          },
          "metadata": {},
          "execution_count": 15
        }
      ]
    },
    {
      "cell_type": "markdown",
      "source": [
        "# Data Cleaning"
      ],
      "metadata": {
        "id": "Q2AwUyC_3zOx"
      }
    },
    {
      "cell_type": "markdown",
      "source": [
        "**Make Characters to Lower Case**"
      ],
      "metadata": {
        "id": "ipSgpvDO4Is_"
      }
    },
    {
      "cell_type": "code",
      "source": [
        "df[\"CleanText\"] = df[\"text\"].apply(lambda x: x.lower())\n",
        "df.head()"
      ],
      "metadata": {
        "colab": {
          "base_uri": "https://localhost:8080/",
          "height": 0
        },
        "id": "P3V9XoGJ4GNW",
        "outputId": "a2fad590-d200-400e-a378-6c3682bb7b20"
      },
      "execution_count": 16,
      "outputs": [
        {
          "output_type": "execute_result",
          "data": {
            "text/plain": [
              "                                                text  target  \\\n",
              "0  Our Deeds are the Reason of this #earthquake M...       1   \n",
              "1             Forest fire near La Ronge Sask. Canada       1   \n",
              "2  All residents asked to 'shelter in place' are ...       1   \n",
              "3  13,000 people receive #wildfires evacuation or...       1   \n",
              "4  Just got sent this photo from Ruby #Alaska as ...       1   \n",
              "\n",
              "                                           CleanText  \n",
              "0  our deeds are the reason of this #earthquake m...  \n",
              "1             forest fire near la ronge sask. canada  \n",
              "2  all residents asked to 'shelter in place' are ...  \n",
              "3  13,000 people receive #wildfires evacuation or...  \n",
              "4  just got sent this photo from ruby #alaska as ...  "
            ],
            "text/html": [
              "\n",
              "  <div id=\"df-70776c3c-9a00-4bf8-a34b-8506db4dea1e\">\n",
              "    <div class=\"colab-df-container\">\n",
              "      <div>\n",
              "<style scoped>\n",
              "    .dataframe tbody tr th:only-of-type {\n",
              "        vertical-align: middle;\n",
              "    }\n",
              "\n",
              "    .dataframe tbody tr th {\n",
              "        vertical-align: top;\n",
              "    }\n",
              "\n",
              "    .dataframe thead th {\n",
              "        text-align: right;\n",
              "    }\n",
              "</style>\n",
              "<table border=\"1\" class=\"dataframe\">\n",
              "  <thead>\n",
              "    <tr style=\"text-align: right;\">\n",
              "      <th></th>\n",
              "      <th>text</th>\n",
              "      <th>target</th>\n",
              "      <th>CleanText</th>\n",
              "    </tr>\n",
              "  </thead>\n",
              "  <tbody>\n",
              "    <tr>\n",
              "      <th>0</th>\n",
              "      <td>Our Deeds are the Reason of this #earthquake M...</td>\n",
              "      <td>1</td>\n",
              "      <td>our deeds are the reason of this #earthquake m...</td>\n",
              "    </tr>\n",
              "    <tr>\n",
              "      <th>1</th>\n",
              "      <td>Forest fire near La Ronge Sask. Canada</td>\n",
              "      <td>1</td>\n",
              "      <td>forest fire near la ronge sask. canada</td>\n",
              "    </tr>\n",
              "    <tr>\n",
              "      <th>2</th>\n",
              "      <td>All residents asked to 'shelter in place' are ...</td>\n",
              "      <td>1</td>\n",
              "      <td>all residents asked to 'shelter in place' are ...</td>\n",
              "    </tr>\n",
              "    <tr>\n",
              "      <th>3</th>\n",
              "      <td>13,000 people receive #wildfires evacuation or...</td>\n",
              "      <td>1</td>\n",
              "      <td>13,000 people receive #wildfires evacuation or...</td>\n",
              "    </tr>\n",
              "    <tr>\n",
              "      <th>4</th>\n",
              "      <td>Just got sent this photo from Ruby #Alaska as ...</td>\n",
              "      <td>1</td>\n",
              "      <td>just got sent this photo from ruby #alaska as ...</td>\n",
              "    </tr>\n",
              "  </tbody>\n",
              "</table>\n",
              "</div>\n",
              "      <button class=\"colab-df-convert\" onclick=\"convertToInteractive('df-70776c3c-9a00-4bf8-a34b-8506db4dea1e')\"\n",
              "              title=\"Convert this dataframe to an interactive table.\"\n",
              "              style=\"display:none;\">\n",
              "        \n",
              "  <svg xmlns=\"http://www.w3.org/2000/svg\" height=\"24px\"viewBox=\"0 0 24 24\"\n",
              "       width=\"24px\">\n",
              "    <path d=\"M0 0h24v24H0V0z\" fill=\"none\"/>\n",
              "    <path d=\"M18.56 5.44l.94 2.06.94-2.06 2.06-.94-2.06-.94-.94-2.06-.94 2.06-2.06.94zm-11 1L8.5 8.5l.94-2.06 2.06-.94-2.06-.94L8.5 2.5l-.94 2.06-2.06.94zm10 10l.94 2.06.94-2.06 2.06-.94-2.06-.94-.94-2.06-.94 2.06-2.06.94z\"/><path d=\"M17.41 7.96l-1.37-1.37c-.4-.4-.92-.59-1.43-.59-.52 0-1.04.2-1.43.59L10.3 9.45l-7.72 7.72c-.78.78-.78 2.05 0 2.83L4 21.41c.39.39.9.59 1.41.59.51 0 1.02-.2 1.41-.59l7.78-7.78 2.81-2.81c.8-.78.8-2.07 0-2.86zM5.41 20L4 18.59l7.72-7.72 1.47 1.35L5.41 20z\"/>\n",
              "  </svg>\n",
              "      </button>\n",
              "      \n",
              "  <style>\n",
              "    .colab-df-container {\n",
              "      display:flex;\n",
              "      flex-wrap:wrap;\n",
              "      gap: 12px;\n",
              "    }\n",
              "\n",
              "    .colab-df-convert {\n",
              "      background-color: #E8F0FE;\n",
              "      border: none;\n",
              "      border-radius: 50%;\n",
              "      cursor: pointer;\n",
              "      display: none;\n",
              "      fill: #1967D2;\n",
              "      height: 32px;\n",
              "      padding: 0 0 0 0;\n",
              "      width: 32px;\n",
              "    }\n",
              "\n",
              "    .colab-df-convert:hover {\n",
              "      background-color: #E2EBFA;\n",
              "      box-shadow: 0px 1px 2px rgba(60, 64, 67, 0.3), 0px 1px 3px 1px rgba(60, 64, 67, 0.15);\n",
              "      fill: #174EA6;\n",
              "    }\n",
              "\n",
              "    [theme=dark] .colab-df-convert {\n",
              "      background-color: #3B4455;\n",
              "      fill: #D2E3FC;\n",
              "    }\n",
              "\n",
              "    [theme=dark] .colab-df-convert:hover {\n",
              "      background-color: #434B5C;\n",
              "      box-shadow: 0px 1px 3px 1px rgba(0, 0, 0, 0.15);\n",
              "      filter: drop-shadow(0px 1px 2px rgba(0, 0, 0, 0.3));\n",
              "      fill: #FFFFFF;\n",
              "    }\n",
              "  </style>\n",
              "\n",
              "      <script>\n",
              "        const buttonEl =\n",
              "          document.querySelector('#df-70776c3c-9a00-4bf8-a34b-8506db4dea1e button.colab-df-convert');\n",
              "        buttonEl.style.display =\n",
              "          google.colab.kernel.accessAllowed ? 'block' : 'none';\n",
              "\n",
              "        async function convertToInteractive(key) {\n",
              "          const element = document.querySelector('#df-70776c3c-9a00-4bf8-a34b-8506db4dea1e');\n",
              "          const dataTable =\n",
              "            await google.colab.kernel.invokeFunction('convertToInteractive',\n",
              "                                                     [key], {});\n",
              "          if (!dataTable) return;\n",
              "\n",
              "          const docLinkHtml = 'Like what you see? Visit the ' +\n",
              "            '<a target=\"_blank\" href=https://colab.research.google.com/notebooks/data_table.ipynb>data table notebook</a>'\n",
              "            + ' to learn more about interactive tables.';\n",
              "          element.innerHTML = '';\n",
              "          dataTable['output_type'] = 'display_data';\n",
              "          await google.colab.output.renderOutput(dataTable, element);\n",
              "          const docLink = document.createElement('div');\n",
              "          docLink.innerHTML = docLinkHtml;\n",
              "          element.appendChild(docLink);\n",
              "        }\n",
              "      </script>\n",
              "    </div>\n",
              "  </div>\n",
              "  "
            ]
          },
          "metadata": {},
          "execution_count": 16
        }
      ]
    },
    {
      "cell_type": "markdown",
      "source": [
        "**Remove non-characters : URL,HTML,Emojis, punctuation, **"
      ],
      "metadata": {
        "id": "oFbmNJeU4Rzc"
      }
    },
    {
      "cell_type": "code",
      "source": [
        "#remove URL\n",
        "\n",
        "df[\"CleanText\"] = df[\"CleanText\"].apply(lambda x: re.sub(r\"https?://\\S+|www\\.\\S+\", \"\",x))\n"
      ],
      "metadata": {
        "id": "rmHbzccq4bAt"
      },
      "execution_count": 17,
      "outputs": []
    },
    {
      "cell_type": "code",
      "source": [
        "def removeHTML(text):\n",
        "    html = re.compile(r\"<.*?>|&([a-z0-9]+|#[0-9]{1,6}|#x[0-9a-f]{1,6});\")\n",
        "    return re.sub(html, \"\", text)\n",
        "\n",
        "df[\"CleanText\"] = df[\"CleanText\"].apply(lambda x: removeHTML(x))\n"
      ],
      "metadata": {
        "id": "-tXa4NXR4e1q"
      },
      "execution_count": 18,
      "outputs": []
    },
    {
      "cell_type": "code",
      "source": [
        "def removeEmojis(text):\n",
        "    emoji_pattern = re.compile(\"[\"\n",
        "                       u\"\\U0001F600-\\U0001F64F\"  # emoticons\n",
        "                       u\"\\U0001F300-\\U0001F5FF\"  # symbols & pictographs\n",
        "                       u\"\\U0001F680-\\U0001F6FF\"  # transport & map symbols\n",
        "                       u\"\\U0001F1E0-\\U0001F1FF\"  # flags (iOS)\n",
        "                       u\"\\U00002702-\\U000027B0\"\n",
        "                       u\"\\U000024C2-\\U0001F251\"\n",
        "                       u\"\\U0001f926-\\U0001f937\"\n",
        "                       u\"\\u200d\"\n",
        "                       u\"\\u2640-\\u2642\" \n",
        "                       \"]+\", flags=re.UNICODE)\n",
        "    return emoji_pattern.sub(r'', text)\n",
        "\n",
        "df[\"CleanText\"] = df[\"CleanText\"].apply(lambda x: removeEmojis(x))\n"
      ],
      "metadata": {
        "id": "rb7sr-sd4hws"
      },
      "execution_count": 19,
      "outputs": []
    },
    {
      "cell_type": "code",
      "source": [
        "def RemovePunctuation(text):\n",
        "    return text.translate(str.maketrans('', '', string.punctuation))"
      ],
      "metadata": {
        "id": "QTOoR6S75XT1"
      },
      "execution_count": 20,
      "outputs": []
    },
    {
      "cell_type": "code",
      "source": [
        "df[\"CleanText\"] = df[\"CleanText\"].apply(lambda x: RemovePunctuation(x))\n"
      ],
      "metadata": {
        "id": "PFYXFHnR4rNO"
      },
      "execution_count": 21,
      "outputs": []
    },
    {
      "cell_type": "code",
      "source": [
        "def RemoveASCII(text):\n",
        "  return re.sub(r'[^\\x00-\\x7f]', \"\", text)\n",
        "\n",
        "df[\"CleanText\"] = df[\"CleanText\"].apply(lambda x: RemoveASCII(x))"
      ],
      "metadata": {
        "id": "r3s0kbbF627n"
      },
      "execution_count": 22,
      "outputs": []
    },
    {
      "cell_type": "code",
      "source": [
        "df.head()\n"
      ],
      "metadata": {
        "colab": {
          "base_uri": "https://localhost:8080/",
          "height": 0
        },
        "id": "12I4TFv27H2V",
        "outputId": "d53fca93-44e8-4b18-8701-7bf539ef0eca"
      },
      "execution_count": 24,
      "outputs": [
        {
          "output_type": "execute_result",
          "data": {
            "text/plain": [
              "                                                text  target  \\\n",
              "0  Our Deeds are the Reason of this #earthquake M...       1   \n",
              "1             Forest fire near La Ronge Sask. Canada       1   \n",
              "2  All residents asked to 'shelter in place' are ...       1   \n",
              "3  13,000 people receive #wildfires evacuation or...       1   \n",
              "4  Just got sent this photo from Ruby #Alaska as ...       1   \n",
              "\n",
              "                                           CleanText  \n",
              "0  our deeds are the reason of this earthquake ma...  \n",
              "1              forest fire near la ronge sask canada  \n",
              "2  all residents asked to shelter in place are be...  \n",
              "3  13000 people receive wildfires evacuation orde...  \n",
              "4  just got sent this photo from ruby alaska as s...  "
            ],
            "text/html": [
              "\n",
              "  <div id=\"df-a84d98ba-a384-4cc5-9e0f-73b21f76fc64\">\n",
              "    <div class=\"colab-df-container\">\n",
              "      <div>\n",
              "<style scoped>\n",
              "    .dataframe tbody tr th:only-of-type {\n",
              "        vertical-align: middle;\n",
              "    }\n",
              "\n",
              "    .dataframe tbody tr th {\n",
              "        vertical-align: top;\n",
              "    }\n",
              "\n",
              "    .dataframe thead th {\n",
              "        text-align: right;\n",
              "    }\n",
              "</style>\n",
              "<table border=\"1\" class=\"dataframe\">\n",
              "  <thead>\n",
              "    <tr style=\"text-align: right;\">\n",
              "      <th></th>\n",
              "      <th>text</th>\n",
              "      <th>target</th>\n",
              "      <th>CleanText</th>\n",
              "    </tr>\n",
              "  </thead>\n",
              "  <tbody>\n",
              "    <tr>\n",
              "      <th>0</th>\n",
              "      <td>Our Deeds are the Reason of this #earthquake M...</td>\n",
              "      <td>1</td>\n",
              "      <td>our deeds are the reason of this earthquake ma...</td>\n",
              "    </tr>\n",
              "    <tr>\n",
              "      <th>1</th>\n",
              "      <td>Forest fire near La Ronge Sask. Canada</td>\n",
              "      <td>1</td>\n",
              "      <td>forest fire near la ronge sask canada</td>\n",
              "    </tr>\n",
              "    <tr>\n",
              "      <th>2</th>\n",
              "      <td>All residents asked to 'shelter in place' are ...</td>\n",
              "      <td>1</td>\n",
              "      <td>all residents asked to shelter in place are be...</td>\n",
              "    </tr>\n",
              "    <tr>\n",
              "      <th>3</th>\n",
              "      <td>13,000 people receive #wildfires evacuation or...</td>\n",
              "      <td>1</td>\n",
              "      <td>13000 people receive wildfires evacuation orde...</td>\n",
              "    </tr>\n",
              "    <tr>\n",
              "      <th>4</th>\n",
              "      <td>Just got sent this photo from Ruby #Alaska as ...</td>\n",
              "      <td>1</td>\n",
              "      <td>just got sent this photo from ruby alaska as s...</td>\n",
              "    </tr>\n",
              "  </tbody>\n",
              "</table>\n",
              "</div>\n",
              "      <button class=\"colab-df-convert\" onclick=\"convertToInteractive('df-a84d98ba-a384-4cc5-9e0f-73b21f76fc64')\"\n",
              "              title=\"Convert this dataframe to an interactive table.\"\n",
              "              style=\"display:none;\">\n",
              "        \n",
              "  <svg xmlns=\"http://www.w3.org/2000/svg\" height=\"24px\"viewBox=\"0 0 24 24\"\n",
              "       width=\"24px\">\n",
              "    <path d=\"M0 0h24v24H0V0z\" fill=\"none\"/>\n",
              "    <path d=\"M18.56 5.44l.94 2.06.94-2.06 2.06-.94-2.06-.94-.94-2.06-.94 2.06-2.06.94zm-11 1L8.5 8.5l.94-2.06 2.06-.94-2.06-.94L8.5 2.5l-.94 2.06-2.06.94zm10 10l.94 2.06.94-2.06 2.06-.94-2.06-.94-.94-2.06-.94 2.06-2.06.94z\"/><path d=\"M17.41 7.96l-1.37-1.37c-.4-.4-.92-.59-1.43-.59-.52 0-1.04.2-1.43.59L10.3 9.45l-7.72 7.72c-.78.78-.78 2.05 0 2.83L4 21.41c.39.39.9.59 1.41.59.51 0 1.02-.2 1.41-.59l7.78-7.78 2.81-2.81c.8-.78.8-2.07 0-2.86zM5.41 20L4 18.59l7.72-7.72 1.47 1.35L5.41 20z\"/>\n",
              "  </svg>\n",
              "      </button>\n",
              "      \n",
              "  <style>\n",
              "    .colab-df-container {\n",
              "      display:flex;\n",
              "      flex-wrap:wrap;\n",
              "      gap: 12px;\n",
              "    }\n",
              "\n",
              "    .colab-df-convert {\n",
              "      background-color: #E8F0FE;\n",
              "      border: none;\n",
              "      border-radius: 50%;\n",
              "      cursor: pointer;\n",
              "      display: none;\n",
              "      fill: #1967D2;\n",
              "      height: 32px;\n",
              "      padding: 0 0 0 0;\n",
              "      width: 32px;\n",
              "    }\n",
              "\n",
              "    .colab-df-convert:hover {\n",
              "      background-color: #E2EBFA;\n",
              "      box-shadow: 0px 1px 2px rgba(60, 64, 67, 0.3), 0px 1px 3px 1px rgba(60, 64, 67, 0.15);\n",
              "      fill: #174EA6;\n",
              "    }\n",
              "\n",
              "    [theme=dark] .colab-df-convert {\n",
              "      background-color: #3B4455;\n",
              "      fill: #D2E3FC;\n",
              "    }\n",
              "\n",
              "    [theme=dark] .colab-df-convert:hover {\n",
              "      background-color: #434B5C;\n",
              "      box-shadow: 0px 1px 3px 1px rgba(0, 0, 0, 0.15);\n",
              "      filter: drop-shadow(0px 1px 2px rgba(0, 0, 0, 0.3));\n",
              "      fill: #FFFFFF;\n",
              "    }\n",
              "  </style>\n",
              "\n",
              "      <script>\n",
              "        const buttonEl =\n",
              "          document.querySelector('#df-a84d98ba-a384-4cc5-9e0f-73b21f76fc64 button.colab-df-convert');\n",
              "        buttonEl.style.display =\n",
              "          google.colab.kernel.accessAllowed ? 'block' : 'none';\n",
              "\n",
              "        async function convertToInteractive(key) {\n",
              "          const element = document.querySelector('#df-a84d98ba-a384-4cc5-9e0f-73b21f76fc64');\n",
              "          const dataTable =\n",
              "            await google.colab.kernel.invokeFunction('convertToInteractive',\n",
              "                                                     [key], {});\n",
              "          if (!dataTable) return;\n",
              "\n",
              "          const docLinkHtml = 'Like what you see? Visit the ' +\n",
              "            '<a target=\"_blank\" href=https://colab.research.google.com/notebooks/data_table.ipynb>data table notebook</a>'\n",
              "            + ' to learn more about interactive tables.';\n",
              "          element.innerHTML = '';\n",
              "          dataTable['output_type'] = 'display_data';\n",
              "          await google.colab.output.renderOutput(dataTable, element);\n",
              "          const docLink = document.createElement('div');\n",
              "          docLink.innerHTML = docLinkHtml;\n",
              "          element.appendChild(docLink);\n",
              "        }\n",
              "      </script>\n",
              "    </div>\n",
              "  </div>\n",
              "  "
            ]
          },
          "metadata": {},
          "execution_count": 24
        }
      ]
    },
    {
      "cell_type": "markdown",
      "source": [
        "#Data Preprocessing Part1 ([NLTK](https://www.nltk.org/index.html)) "
      ],
      "metadata": {
        "id": "x9r55LFx7J4_"
      }
    },
    {
      "cell_type": "markdown",
      "source": [
        "**Tokenizer**"
      ],
      "metadata": {
        "id": "g0kK0r8D7f1z"
      }
    },
    {
      "cell_type": "code",
      "source": [
        "df['TokenizedText'] = df['CleanText'].apply(nltk.word_tokenize)\n",
        "df.head()\n"
      ],
      "metadata": {
        "colab": {
          "base_uri": "https://localhost:8080/",
          "height": 206
        },
        "id": "k6adNuzq7L9z",
        "outputId": "d5ac65aa-352c-406a-c700-15e54c03eac5"
      },
      "execution_count": 25,
      "outputs": [
        {
          "output_type": "execute_result",
          "data": {
            "text/plain": [
              "                                                text  target  \\\n",
              "0  Our Deeds are the Reason of this #earthquake M...       1   \n",
              "1             Forest fire near La Ronge Sask. Canada       1   \n",
              "2  All residents asked to 'shelter in place' are ...       1   \n",
              "3  13,000 people receive #wildfires evacuation or...       1   \n",
              "4  Just got sent this photo from Ruby #Alaska as ...       1   \n",
              "\n",
              "                                           CleanText  \\\n",
              "0  our deeds are the reason of this earthquake ma...   \n",
              "1              forest fire near la ronge sask canada   \n",
              "2  all residents asked to shelter in place are be...   \n",
              "3  13000 people receive wildfires evacuation orde...   \n",
              "4  just got sent this photo from ruby alaska as s...   \n",
              "\n",
              "                                       TokenizedText  \n",
              "0  [our, deeds, are, the, reason, of, this, earth...  \n",
              "1      [forest, fire, near, la, ronge, sask, canada]  \n",
              "2  [all, residents, asked, to, shelter, in, place...  \n",
              "3  [13000, people, receive, wildfires, evacuation...  \n",
              "4  [just, got, sent, this, photo, from, ruby, ala...  "
            ],
            "text/html": [
              "\n",
              "  <div id=\"df-ca77d9f1-7a00-4692-9628-2f3e3d905157\">\n",
              "    <div class=\"colab-df-container\">\n",
              "      <div>\n",
              "<style scoped>\n",
              "    .dataframe tbody tr th:only-of-type {\n",
              "        vertical-align: middle;\n",
              "    }\n",
              "\n",
              "    .dataframe tbody tr th {\n",
              "        vertical-align: top;\n",
              "    }\n",
              "\n",
              "    .dataframe thead th {\n",
              "        text-align: right;\n",
              "    }\n",
              "</style>\n",
              "<table border=\"1\" class=\"dataframe\">\n",
              "  <thead>\n",
              "    <tr style=\"text-align: right;\">\n",
              "      <th></th>\n",
              "      <th>text</th>\n",
              "      <th>target</th>\n",
              "      <th>CleanText</th>\n",
              "      <th>TokenizedText</th>\n",
              "    </tr>\n",
              "  </thead>\n",
              "  <tbody>\n",
              "    <tr>\n",
              "      <th>0</th>\n",
              "      <td>Our Deeds are the Reason of this #earthquake M...</td>\n",
              "      <td>1</td>\n",
              "      <td>our deeds are the reason of this earthquake ma...</td>\n",
              "      <td>[our, deeds, are, the, reason, of, this, earth...</td>\n",
              "    </tr>\n",
              "    <tr>\n",
              "      <th>1</th>\n",
              "      <td>Forest fire near La Ronge Sask. Canada</td>\n",
              "      <td>1</td>\n",
              "      <td>forest fire near la ronge sask canada</td>\n",
              "      <td>[forest, fire, near, la, ronge, sask, canada]</td>\n",
              "    </tr>\n",
              "    <tr>\n",
              "      <th>2</th>\n",
              "      <td>All residents asked to 'shelter in place' are ...</td>\n",
              "      <td>1</td>\n",
              "      <td>all residents asked to shelter in place are be...</td>\n",
              "      <td>[all, residents, asked, to, shelter, in, place...</td>\n",
              "    </tr>\n",
              "    <tr>\n",
              "      <th>3</th>\n",
              "      <td>13,000 people receive #wildfires evacuation or...</td>\n",
              "      <td>1</td>\n",
              "      <td>13000 people receive wildfires evacuation orde...</td>\n",
              "      <td>[13000, people, receive, wildfires, evacuation...</td>\n",
              "    </tr>\n",
              "    <tr>\n",
              "      <th>4</th>\n",
              "      <td>Just got sent this photo from Ruby #Alaska as ...</td>\n",
              "      <td>1</td>\n",
              "      <td>just got sent this photo from ruby alaska as s...</td>\n",
              "      <td>[just, got, sent, this, photo, from, ruby, ala...</td>\n",
              "    </tr>\n",
              "  </tbody>\n",
              "</table>\n",
              "</div>\n",
              "      <button class=\"colab-df-convert\" onclick=\"convertToInteractive('df-ca77d9f1-7a00-4692-9628-2f3e3d905157')\"\n",
              "              title=\"Convert this dataframe to an interactive table.\"\n",
              "              style=\"display:none;\">\n",
              "        \n",
              "  <svg xmlns=\"http://www.w3.org/2000/svg\" height=\"24px\"viewBox=\"0 0 24 24\"\n",
              "       width=\"24px\">\n",
              "    <path d=\"M0 0h24v24H0V0z\" fill=\"none\"/>\n",
              "    <path d=\"M18.56 5.44l.94 2.06.94-2.06 2.06-.94-2.06-.94-.94-2.06-.94 2.06-2.06.94zm-11 1L8.5 8.5l.94-2.06 2.06-.94-2.06-.94L8.5 2.5l-.94 2.06-2.06.94zm10 10l.94 2.06.94-2.06 2.06-.94-2.06-.94-.94-2.06-.94 2.06-2.06.94z\"/><path d=\"M17.41 7.96l-1.37-1.37c-.4-.4-.92-.59-1.43-.59-.52 0-1.04.2-1.43.59L10.3 9.45l-7.72 7.72c-.78.78-.78 2.05 0 2.83L4 21.41c.39.39.9.59 1.41.59.51 0 1.02-.2 1.41-.59l7.78-7.78 2.81-2.81c.8-.78.8-2.07 0-2.86zM5.41 20L4 18.59l7.72-7.72 1.47 1.35L5.41 20z\"/>\n",
              "  </svg>\n",
              "      </button>\n",
              "      \n",
              "  <style>\n",
              "    .colab-df-container {\n",
              "      display:flex;\n",
              "      flex-wrap:wrap;\n",
              "      gap: 12px;\n",
              "    }\n",
              "\n",
              "    .colab-df-convert {\n",
              "      background-color: #E8F0FE;\n",
              "      border: none;\n",
              "      border-radius: 50%;\n",
              "      cursor: pointer;\n",
              "      display: none;\n",
              "      fill: #1967D2;\n",
              "      height: 32px;\n",
              "      padding: 0 0 0 0;\n",
              "      width: 32px;\n",
              "    }\n",
              "\n",
              "    .colab-df-convert:hover {\n",
              "      background-color: #E2EBFA;\n",
              "      box-shadow: 0px 1px 2px rgba(60, 64, 67, 0.3), 0px 1px 3px 1px rgba(60, 64, 67, 0.15);\n",
              "      fill: #174EA6;\n",
              "    }\n",
              "\n",
              "    [theme=dark] .colab-df-convert {\n",
              "      background-color: #3B4455;\n",
              "      fill: #D2E3FC;\n",
              "    }\n",
              "\n",
              "    [theme=dark] .colab-df-convert:hover {\n",
              "      background-color: #434B5C;\n",
              "      box-shadow: 0px 1px 3px 1px rgba(0, 0, 0, 0.15);\n",
              "      filter: drop-shadow(0px 1px 2px rgba(0, 0, 0, 0.3));\n",
              "      fill: #FFFFFF;\n",
              "    }\n",
              "  </style>\n",
              "\n",
              "      <script>\n",
              "        const buttonEl =\n",
              "          document.querySelector('#df-ca77d9f1-7a00-4692-9628-2f3e3d905157 button.colab-df-convert');\n",
              "        buttonEl.style.display =\n",
              "          google.colab.kernel.accessAllowed ? 'block' : 'none';\n",
              "\n",
              "        async function convertToInteractive(key) {\n",
              "          const element = document.querySelector('#df-ca77d9f1-7a00-4692-9628-2f3e3d905157');\n",
              "          const dataTable =\n",
              "            await google.colab.kernel.invokeFunction('convertToInteractive',\n",
              "                                                     [key], {});\n",
              "          if (!dataTable) return;\n",
              "\n",
              "          const docLinkHtml = 'Like what you see? Visit the ' +\n",
              "            '<a target=\"_blank\" href=https://colab.research.google.com/notebooks/data_table.ipynb>data table notebook</a>'\n",
              "            + ' to learn more about interactive tables.';\n",
              "          element.innerHTML = '';\n",
              "          dataTable['output_type'] = 'display_data';\n",
              "          await google.colab.output.renderOutput(dataTable, element);\n",
              "          const docLink = document.createElement('div');\n",
              "          docLink.innerHTML = docLinkHtml;\n",
              "          element.appendChild(docLink);\n",
              "        }\n",
              "      </script>\n",
              "    </div>\n",
              "  </div>\n",
              "  "
            ]
          },
          "metadata": {},
          "execution_count": 25
        }
      ]
    },
    {
      "cell_type": "markdown",
      "source": [
        "**Remove Stopwords**"
      ],
      "metadata": {
        "id": "a-KdADJG7tpi"
      }
    },
    {
      "cell_type": "code",
      "source": [
        "stop = set(stopwords.words('english'))\n",
        "df['RemoveStopWords'] = df['TokenizedText'].apply(lambda x: [word for word in x if word not in stop])\n",
        "df.head()\n"
      ],
      "metadata": {
        "colab": {
          "base_uri": "https://localhost:8080/",
          "height": 206
        },
        "id": "aq8jzigo7v8E",
        "outputId": "ced4b29f-a05c-48a5-bcd0-925fae699e91"
      },
      "execution_count": 26,
      "outputs": [
        {
          "output_type": "execute_result",
          "data": {
            "text/plain": [
              "                                                text  target  \\\n",
              "0  Our Deeds are the Reason of this #earthquake M...       1   \n",
              "1             Forest fire near La Ronge Sask. Canada       1   \n",
              "2  All residents asked to 'shelter in place' are ...       1   \n",
              "3  13,000 people receive #wildfires evacuation or...       1   \n",
              "4  Just got sent this photo from Ruby #Alaska as ...       1   \n",
              "\n",
              "                                           CleanText  \\\n",
              "0  our deeds are the reason of this earthquake ma...   \n",
              "1              forest fire near la ronge sask canada   \n",
              "2  all residents asked to shelter in place are be...   \n",
              "3  13000 people receive wildfires evacuation orde...   \n",
              "4  just got sent this photo from ruby alaska as s...   \n",
              "\n",
              "                                       TokenizedText  \\\n",
              "0  [our, deeds, are, the, reason, of, this, earth...   \n",
              "1      [forest, fire, near, la, ronge, sask, canada]   \n",
              "2  [all, residents, asked, to, shelter, in, place...   \n",
              "3  [13000, people, receive, wildfires, evacuation...   \n",
              "4  [just, got, sent, this, photo, from, ruby, ala...   \n",
              "\n",
              "                                     RemoveStopWords  \n",
              "0  [deeds, reason, earthquake, may, allah, forgiv...  \n",
              "1      [forest, fire, near, la, ronge, sask, canada]  \n",
              "2  [residents, asked, shelter, place, notified, o...  \n",
              "3  [13000, people, receive, wildfires, evacuation...  \n",
              "4  [got, sent, photo, ruby, alaska, smoke, wildfi...  "
            ],
            "text/html": [
              "\n",
              "  <div id=\"df-1dce5f08-d084-41c0-92b7-a35407b6b10d\">\n",
              "    <div class=\"colab-df-container\">\n",
              "      <div>\n",
              "<style scoped>\n",
              "    .dataframe tbody tr th:only-of-type {\n",
              "        vertical-align: middle;\n",
              "    }\n",
              "\n",
              "    .dataframe tbody tr th {\n",
              "        vertical-align: top;\n",
              "    }\n",
              "\n",
              "    .dataframe thead th {\n",
              "        text-align: right;\n",
              "    }\n",
              "</style>\n",
              "<table border=\"1\" class=\"dataframe\">\n",
              "  <thead>\n",
              "    <tr style=\"text-align: right;\">\n",
              "      <th></th>\n",
              "      <th>text</th>\n",
              "      <th>target</th>\n",
              "      <th>CleanText</th>\n",
              "      <th>TokenizedText</th>\n",
              "      <th>RemoveStopWords</th>\n",
              "    </tr>\n",
              "  </thead>\n",
              "  <tbody>\n",
              "    <tr>\n",
              "      <th>0</th>\n",
              "      <td>Our Deeds are the Reason of this #earthquake M...</td>\n",
              "      <td>1</td>\n",
              "      <td>our deeds are the reason of this earthquake ma...</td>\n",
              "      <td>[our, deeds, are, the, reason, of, this, earth...</td>\n",
              "      <td>[deeds, reason, earthquake, may, allah, forgiv...</td>\n",
              "    </tr>\n",
              "    <tr>\n",
              "      <th>1</th>\n",
              "      <td>Forest fire near La Ronge Sask. Canada</td>\n",
              "      <td>1</td>\n",
              "      <td>forest fire near la ronge sask canada</td>\n",
              "      <td>[forest, fire, near, la, ronge, sask, canada]</td>\n",
              "      <td>[forest, fire, near, la, ronge, sask, canada]</td>\n",
              "    </tr>\n",
              "    <tr>\n",
              "      <th>2</th>\n",
              "      <td>All residents asked to 'shelter in place' are ...</td>\n",
              "      <td>1</td>\n",
              "      <td>all residents asked to shelter in place are be...</td>\n",
              "      <td>[all, residents, asked, to, shelter, in, place...</td>\n",
              "      <td>[residents, asked, shelter, place, notified, o...</td>\n",
              "    </tr>\n",
              "    <tr>\n",
              "      <th>3</th>\n",
              "      <td>13,000 people receive #wildfires evacuation or...</td>\n",
              "      <td>1</td>\n",
              "      <td>13000 people receive wildfires evacuation orde...</td>\n",
              "      <td>[13000, people, receive, wildfires, evacuation...</td>\n",
              "      <td>[13000, people, receive, wildfires, evacuation...</td>\n",
              "    </tr>\n",
              "    <tr>\n",
              "      <th>4</th>\n",
              "      <td>Just got sent this photo from Ruby #Alaska as ...</td>\n",
              "      <td>1</td>\n",
              "      <td>just got sent this photo from ruby alaska as s...</td>\n",
              "      <td>[just, got, sent, this, photo, from, ruby, ala...</td>\n",
              "      <td>[got, sent, photo, ruby, alaska, smoke, wildfi...</td>\n",
              "    </tr>\n",
              "  </tbody>\n",
              "</table>\n",
              "</div>\n",
              "      <button class=\"colab-df-convert\" onclick=\"convertToInteractive('df-1dce5f08-d084-41c0-92b7-a35407b6b10d')\"\n",
              "              title=\"Convert this dataframe to an interactive table.\"\n",
              "              style=\"display:none;\">\n",
              "        \n",
              "  <svg xmlns=\"http://www.w3.org/2000/svg\" height=\"24px\"viewBox=\"0 0 24 24\"\n",
              "       width=\"24px\">\n",
              "    <path d=\"M0 0h24v24H0V0z\" fill=\"none\"/>\n",
              "    <path d=\"M18.56 5.44l.94 2.06.94-2.06 2.06-.94-2.06-.94-.94-2.06-.94 2.06-2.06.94zm-11 1L8.5 8.5l.94-2.06 2.06-.94-2.06-.94L8.5 2.5l-.94 2.06-2.06.94zm10 10l.94 2.06.94-2.06 2.06-.94-2.06-.94-.94-2.06-.94 2.06-2.06.94z\"/><path d=\"M17.41 7.96l-1.37-1.37c-.4-.4-.92-.59-1.43-.59-.52 0-1.04.2-1.43.59L10.3 9.45l-7.72 7.72c-.78.78-.78 2.05 0 2.83L4 21.41c.39.39.9.59 1.41.59.51 0 1.02-.2 1.41-.59l7.78-7.78 2.81-2.81c.8-.78.8-2.07 0-2.86zM5.41 20L4 18.59l7.72-7.72 1.47 1.35L5.41 20z\"/>\n",
              "  </svg>\n",
              "      </button>\n",
              "      \n",
              "  <style>\n",
              "    .colab-df-container {\n",
              "      display:flex;\n",
              "      flex-wrap:wrap;\n",
              "      gap: 12px;\n",
              "    }\n",
              "\n",
              "    .colab-df-convert {\n",
              "      background-color: #E8F0FE;\n",
              "      border: none;\n",
              "      border-radius: 50%;\n",
              "      cursor: pointer;\n",
              "      display: none;\n",
              "      fill: #1967D2;\n",
              "      height: 32px;\n",
              "      padding: 0 0 0 0;\n",
              "      width: 32px;\n",
              "    }\n",
              "\n",
              "    .colab-df-convert:hover {\n",
              "      background-color: #E2EBFA;\n",
              "      box-shadow: 0px 1px 2px rgba(60, 64, 67, 0.3), 0px 1px 3px 1px rgba(60, 64, 67, 0.15);\n",
              "      fill: #174EA6;\n",
              "    }\n",
              "\n",
              "    [theme=dark] .colab-df-convert {\n",
              "      background-color: #3B4455;\n",
              "      fill: #D2E3FC;\n",
              "    }\n",
              "\n",
              "    [theme=dark] .colab-df-convert:hover {\n",
              "      background-color: #434B5C;\n",
              "      box-shadow: 0px 1px 3px 1px rgba(0, 0, 0, 0.15);\n",
              "      filter: drop-shadow(0px 1px 2px rgba(0, 0, 0, 0.3));\n",
              "      fill: #FFFFFF;\n",
              "    }\n",
              "  </style>\n",
              "\n",
              "      <script>\n",
              "        const buttonEl =\n",
              "          document.querySelector('#df-1dce5f08-d084-41c0-92b7-a35407b6b10d button.colab-df-convert');\n",
              "        buttonEl.style.display =\n",
              "          google.colab.kernel.accessAllowed ? 'block' : 'none';\n",
              "\n",
              "        async function convertToInteractive(key) {\n",
              "          const element = document.querySelector('#df-1dce5f08-d084-41c0-92b7-a35407b6b10d');\n",
              "          const dataTable =\n",
              "            await google.colab.kernel.invokeFunction('convertToInteractive',\n",
              "                                                     [key], {});\n",
              "          if (!dataTable) return;\n",
              "\n",
              "          const docLinkHtml = 'Like what you see? Visit the ' +\n",
              "            '<a target=\"_blank\" href=https://colab.research.google.com/notebooks/data_table.ipynb>data table notebook</a>'\n",
              "            + ' to learn more about interactive tables.';\n",
              "          element.innerHTML = '';\n",
              "          dataTable['output_type'] = 'display_data';\n",
              "          await google.colab.output.renderOutput(dataTable, element);\n",
              "          const docLink = document.createElement('div');\n",
              "          docLink.innerHTML = docLinkHtml;\n",
              "          element.appendChild(docLink);\n",
              "        }\n",
              "      </script>\n",
              "    </div>\n",
              "  </div>\n",
              "  "
            ]
          },
          "metadata": {},
          "execution_count": 26
        }
      ]
    },
    {
      "cell_type": "markdown",
      "source": [
        "**PorterStemmer**\n",
        "\n",
        "What is PorterStemmer in NLP?\n",
        "Stemming is the process of reducing a word to its word stem that affixes to suffixes and prefixes or to the roots of words known as a lemma. Stemming is important in natural language understanding (NLU) and natural language processing (NLP)."
      ],
      "metadata": {
        "id": "ZRl6Qflk7_T3"
      }
    },
    {
      "cell_type": "code",
      "source": [
        "def doPorterStemmer(text):\n",
        "    stemmer = nltk.PorterStemmer()\n",
        "    stems = [stemmer.stem(i) for i in text]\n",
        "    return stems\n",
        "\n",
        "df['PorterStemmer'] = df['RemoveStopWords'].apply(lambda x: doPorterStemmer(x))\n",
        "df.head()"
      ],
      "metadata": {
        "colab": {
          "base_uri": "https://localhost:8080/",
          "height": 302
        },
        "id": "Z2zd2DeU7956",
        "outputId": "234bbcd9-d00a-4151-e746-33b4fcfa026e"
      },
      "execution_count": 27,
      "outputs": [
        {
          "output_type": "execute_result",
          "data": {
            "text/plain": [
              "                                                text  target  \\\n",
              "0  Our Deeds are the Reason of this #earthquake M...       1   \n",
              "1             Forest fire near La Ronge Sask. Canada       1   \n",
              "2  All residents asked to 'shelter in place' are ...       1   \n",
              "3  13,000 people receive #wildfires evacuation or...       1   \n",
              "4  Just got sent this photo from Ruby #Alaska as ...       1   \n",
              "\n",
              "                                           CleanText  \\\n",
              "0  our deeds are the reason of this earthquake ma...   \n",
              "1              forest fire near la ronge sask canada   \n",
              "2  all residents asked to shelter in place are be...   \n",
              "3  13000 people receive wildfires evacuation orde...   \n",
              "4  just got sent this photo from ruby alaska as s...   \n",
              "\n",
              "                                       TokenizedText  \\\n",
              "0  [our, deeds, are, the, reason, of, this, earth...   \n",
              "1      [forest, fire, near, la, ronge, sask, canada]   \n",
              "2  [all, residents, asked, to, shelter, in, place...   \n",
              "3  [13000, people, receive, wildfires, evacuation...   \n",
              "4  [just, got, sent, this, photo, from, ruby, ala...   \n",
              "\n",
              "                                     RemoveStopWords  \\\n",
              "0  [deeds, reason, earthquake, may, allah, forgiv...   \n",
              "1      [forest, fire, near, la, ronge, sask, canada]   \n",
              "2  [residents, asked, shelter, place, notified, o...   \n",
              "3  [13000, people, receive, wildfires, evacuation...   \n",
              "4  [got, sent, photo, ruby, alaska, smoke, wildfi...   \n",
              "\n",
              "                                       PorterStemmer  \n",
              "0  [deed, reason, earthquak, may, allah, forgiv, us]  \n",
              "1       [forest, fire, near, la, rong, sask, canada]  \n",
              "2  [resid, ask, shelter, place, notifi, offic, ev...  \n",
              "3  [13000, peopl, receiv, wildfir, evacu, order, ...  \n",
              "4  [got, sent, photo, rubi, alaska, smoke, wildfi...  "
            ],
            "text/html": [
              "\n",
              "  <div id=\"df-21f860a3-8fe2-4e93-9009-930139639704\">\n",
              "    <div class=\"colab-df-container\">\n",
              "      <div>\n",
              "<style scoped>\n",
              "    .dataframe tbody tr th:only-of-type {\n",
              "        vertical-align: middle;\n",
              "    }\n",
              "\n",
              "    .dataframe tbody tr th {\n",
              "        vertical-align: top;\n",
              "    }\n",
              "\n",
              "    .dataframe thead th {\n",
              "        text-align: right;\n",
              "    }\n",
              "</style>\n",
              "<table border=\"1\" class=\"dataframe\">\n",
              "  <thead>\n",
              "    <tr style=\"text-align: right;\">\n",
              "      <th></th>\n",
              "      <th>text</th>\n",
              "      <th>target</th>\n",
              "      <th>CleanText</th>\n",
              "      <th>TokenizedText</th>\n",
              "      <th>RemoveStopWords</th>\n",
              "      <th>PorterStemmer</th>\n",
              "    </tr>\n",
              "  </thead>\n",
              "  <tbody>\n",
              "    <tr>\n",
              "      <th>0</th>\n",
              "      <td>Our Deeds are the Reason of this #earthquake M...</td>\n",
              "      <td>1</td>\n",
              "      <td>our deeds are the reason of this earthquake ma...</td>\n",
              "      <td>[our, deeds, are, the, reason, of, this, earth...</td>\n",
              "      <td>[deeds, reason, earthquake, may, allah, forgiv...</td>\n",
              "      <td>[deed, reason, earthquak, may, allah, forgiv, us]</td>\n",
              "    </tr>\n",
              "    <tr>\n",
              "      <th>1</th>\n",
              "      <td>Forest fire near La Ronge Sask. Canada</td>\n",
              "      <td>1</td>\n",
              "      <td>forest fire near la ronge sask canada</td>\n",
              "      <td>[forest, fire, near, la, ronge, sask, canada]</td>\n",
              "      <td>[forest, fire, near, la, ronge, sask, canada]</td>\n",
              "      <td>[forest, fire, near, la, rong, sask, canada]</td>\n",
              "    </tr>\n",
              "    <tr>\n",
              "      <th>2</th>\n",
              "      <td>All residents asked to 'shelter in place' are ...</td>\n",
              "      <td>1</td>\n",
              "      <td>all residents asked to shelter in place are be...</td>\n",
              "      <td>[all, residents, asked, to, shelter, in, place...</td>\n",
              "      <td>[residents, asked, shelter, place, notified, o...</td>\n",
              "      <td>[resid, ask, shelter, place, notifi, offic, ev...</td>\n",
              "    </tr>\n",
              "    <tr>\n",
              "      <th>3</th>\n",
              "      <td>13,000 people receive #wildfires evacuation or...</td>\n",
              "      <td>1</td>\n",
              "      <td>13000 people receive wildfires evacuation orde...</td>\n",
              "      <td>[13000, people, receive, wildfires, evacuation...</td>\n",
              "      <td>[13000, people, receive, wildfires, evacuation...</td>\n",
              "      <td>[13000, peopl, receiv, wildfir, evacu, order, ...</td>\n",
              "    </tr>\n",
              "    <tr>\n",
              "      <th>4</th>\n",
              "      <td>Just got sent this photo from Ruby #Alaska as ...</td>\n",
              "      <td>1</td>\n",
              "      <td>just got sent this photo from ruby alaska as s...</td>\n",
              "      <td>[just, got, sent, this, photo, from, ruby, ala...</td>\n",
              "      <td>[got, sent, photo, ruby, alaska, smoke, wildfi...</td>\n",
              "      <td>[got, sent, photo, rubi, alaska, smoke, wildfi...</td>\n",
              "    </tr>\n",
              "  </tbody>\n",
              "</table>\n",
              "</div>\n",
              "      <button class=\"colab-df-convert\" onclick=\"convertToInteractive('df-21f860a3-8fe2-4e93-9009-930139639704')\"\n",
              "              title=\"Convert this dataframe to an interactive table.\"\n",
              "              style=\"display:none;\">\n",
              "        \n",
              "  <svg xmlns=\"http://www.w3.org/2000/svg\" height=\"24px\"viewBox=\"0 0 24 24\"\n",
              "       width=\"24px\">\n",
              "    <path d=\"M0 0h24v24H0V0z\" fill=\"none\"/>\n",
              "    <path d=\"M18.56 5.44l.94 2.06.94-2.06 2.06-.94-2.06-.94-.94-2.06-.94 2.06-2.06.94zm-11 1L8.5 8.5l.94-2.06 2.06-.94-2.06-.94L8.5 2.5l-.94 2.06-2.06.94zm10 10l.94 2.06.94-2.06 2.06-.94-2.06-.94-.94-2.06-.94 2.06-2.06.94z\"/><path d=\"M17.41 7.96l-1.37-1.37c-.4-.4-.92-.59-1.43-.59-.52 0-1.04.2-1.43.59L10.3 9.45l-7.72 7.72c-.78.78-.78 2.05 0 2.83L4 21.41c.39.39.9.59 1.41.59.51 0 1.02-.2 1.41-.59l7.78-7.78 2.81-2.81c.8-.78.8-2.07 0-2.86zM5.41 20L4 18.59l7.72-7.72 1.47 1.35L5.41 20z\"/>\n",
              "  </svg>\n",
              "      </button>\n",
              "      \n",
              "  <style>\n",
              "    .colab-df-container {\n",
              "      display:flex;\n",
              "      flex-wrap:wrap;\n",
              "      gap: 12px;\n",
              "    }\n",
              "\n",
              "    .colab-df-convert {\n",
              "      background-color: #E8F0FE;\n",
              "      border: none;\n",
              "      border-radius: 50%;\n",
              "      cursor: pointer;\n",
              "      display: none;\n",
              "      fill: #1967D2;\n",
              "      height: 32px;\n",
              "      padding: 0 0 0 0;\n",
              "      width: 32px;\n",
              "    }\n",
              "\n",
              "    .colab-df-convert:hover {\n",
              "      background-color: #E2EBFA;\n",
              "      box-shadow: 0px 1px 2px rgba(60, 64, 67, 0.3), 0px 1px 3px 1px rgba(60, 64, 67, 0.15);\n",
              "      fill: #174EA6;\n",
              "    }\n",
              "\n",
              "    [theme=dark] .colab-df-convert {\n",
              "      background-color: #3B4455;\n",
              "      fill: #D2E3FC;\n",
              "    }\n",
              "\n",
              "    [theme=dark] .colab-df-convert:hover {\n",
              "      background-color: #434B5C;\n",
              "      box-shadow: 0px 1px 3px 1px rgba(0, 0, 0, 0.15);\n",
              "      filter: drop-shadow(0px 1px 2px rgba(0, 0, 0, 0.3));\n",
              "      fill: #FFFFFF;\n",
              "    }\n",
              "  </style>\n",
              "\n",
              "      <script>\n",
              "        const buttonEl =\n",
              "          document.querySelector('#df-21f860a3-8fe2-4e93-9009-930139639704 button.colab-df-convert');\n",
              "        buttonEl.style.display =\n",
              "          google.colab.kernel.accessAllowed ? 'block' : 'none';\n",
              "\n",
              "        async function convertToInteractive(key) {\n",
              "          const element = document.querySelector('#df-21f860a3-8fe2-4e93-9009-930139639704');\n",
              "          const dataTable =\n",
              "            await google.colab.kernel.invokeFunction('convertToInteractive',\n",
              "                                                     [key], {});\n",
              "          if (!dataTable) return;\n",
              "\n",
              "          const docLinkHtml = 'Like what you see? Visit the ' +\n",
              "            '<a target=\"_blank\" href=https://colab.research.google.com/notebooks/data_table.ipynb>data table notebook</a>'\n",
              "            + ' to learn more about interactive tables.';\n",
              "          element.innerHTML = '';\n",
              "          dataTable['output_type'] = 'display_data';\n",
              "          await google.colab.output.renderOutput(dataTable, element);\n",
              "          const docLink = document.createElement('div');\n",
              "          docLink.innerHTML = docLinkHtml;\n",
              "          element.appendChild(docLink);\n",
              "        }\n",
              "      </script>\n",
              "    </div>\n",
              "  </div>\n",
              "  "
            ]
          },
          "metadata": {},
          "execution_count": 27
        }
      ]
    },
    {
      "cell_type": "markdown",
      "source": [
        "**WordNetLemmatizer**"
      ],
      "metadata": {
        "id": "RP1JDYhq8dSB"
      }
    },
    {
      "cell_type": "code",
      "source": [
        "def doLemmatizeWord(text):\n",
        "    lemmatizer = WordNetLemmatizer()\n",
        "    lemma = [lemmatizer.lemmatize(word) for word in text]\n",
        "    return lemma\n",
        "\n",
        "df['LemmatizedText'] = df['RemoveStopWords'].apply(lambda x: doLemmatizeWord(x))\n",
        "df.head()\n"
      ],
      "metadata": {
        "colab": {
          "base_uri": "https://localhost:8080/",
          "height": 337
        },
        "id": "GrIqpX6e8Ta_",
        "outputId": "f05dd4e0-0b3f-4445-9f41-6a81647da975"
      },
      "execution_count": 28,
      "outputs": [
        {
          "output_type": "execute_result",
          "data": {
            "text/plain": [
              "                                                text  target  \\\n",
              "0  Our Deeds are the Reason of this #earthquake M...       1   \n",
              "1             Forest fire near La Ronge Sask. Canada       1   \n",
              "2  All residents asked to 'shelter in place' are ...       1   \n",
              "3  13,000 people receive #wildfires evacuation or...       1   \n",
              "4  Just got sent this photo from Ruby #Alaska as ...       1   \n",
              "\n",
              "                                           CleanText  \\\n",
              "0  our deeds are the reason of this earthquake ma...   \n",
              "1              forest fire near la ronge sask canada   \n",
              "2  all residents asked to shelter in place are be...   \n",
              "3  13000 people receive wildfires evacuation orde...   \n",
              "4  just got sent this photo from ruby alaska as s...   \n",
              "\n",
              "                                       TokenizedText  \\\n",
              "0  [our, deeds, are, the, reason, of, this, earth...   \n",
              "1      [forest, fire, near, la, ronge, sask, canada]   \n",
              "2  [all, residents, asked, to, shelter, in, place...   \n",
              "3  [13000, people, receive, wildfires, evacuation...   \n",
              "4  [just, got, sent, this, photo, from, ruby, ala...   \n",
              "\n",
              "                                     RemoveStopWords  \\\n",
              "0  [deeds, reason, earthquake, may, allah, forgiv...   \n",
              "1      [forest, fire, near, la, ronge, sask, canada]   \n",
              "2  [residents, asked, shelter, place, notified, o...   \n",
              "3  [13000, people, receive, wildfires, evacuation...   \n",
              "4  [got, sent, photo, ruby, alaska, smoke, wildfi...   \n",
              "\n",
              "                                       PorterStemmer  \\\n",
              "0  [deed, reason, earthquak, may, allah, forgiv, us]   \n",
              "1       [forest, fire, near, la, rong, sask, canada]   \n",
              "2  [resid, ask, shelter, place, notifi, offic, ev...   \n",
              "3  [13000, peopl, receiv, wildfir, evacu, order, ...   \n",
              "4  [got, sent, photo, rubi, alaska, smoke, wildfi...   \n",
              "\n",
              "                                      LemmatizedText  \n",
              "0  [deed, reason, earthquake, may, allah, forgive...  \n",
              "1      [forest, fire, near, la, ronge, sask, canada]  \n",
              "2  [resident, asked, shelter, place, notified, of...  \n",
              "3  [13000, people, receive, wildfire, evacuation,...  \n",
              "4  [got, sent, photo, ruby, alaska, smoke, wildfi...  "
            ],
            "text/html": [
              "\n",
              "  <div id=\"df-66bf4427-4090-4ec5-a56b-b25526b8b279\">\n",
              "    <div class=\"colab-df-container\">\n",
              "      <div>\n",
              "<style scoped>\n",
              "    .dataframe tbody tr th:only-of-type {\n",
              "        vertical-align: middle;\n",
              "    }\n",
              "\n",
              "    .dataframe tbody tr th {\n",
              "        vertical-align: top;\n",
              "    }\n",
              "\n",
              "    .dataframe thead th {\n",
              "        text-align: right;\n",
              "    }\n",
              "</style>\n",
              "<table border=\"1\" class=\"dataframe\">\n",
              "  <thead>\n",
              "    <tr style=\"text-align: right;\">\n",
              "      <th></th>\n",
              "      <th>text</th>\n",
              "      <th>target</th>\n",
              "      <th>CleanText</th>\n",
              "      <th>TokenizedText</th>\n",
              "      <th>RemoveStopWords</th>\n",
              "      <th>PorterStemmer</th>\n",
              "      <th>LemmatizedText</th>\n",
              "    </tr>\n",
              "  </thead>\n",
              "  <tbody>\n",
              "    <tr>\n",
              "      <th>0</th>\n",
              "      <td>Our Deeds are the Reason of this #earthquake M...</td>\n",
              "      <td>1</td>\n",
              "      <td>our deeds are the reason of this earthquake ma...</td>\n",
              "      <td>[our, deeds, are, the, reason, of, this, earth...</td>\n",
              "      <td>[deeds, reason, earthquake, may, allah, forgiv...</td>\n",
              "      <td>[deed, reason, earthquak, may, allah, forgiv, us]</td>\n",
              "      <td>[deed, reason, earthquake, may, allah, forgive...</td>\n",
              "    </tr>\n",
              "    <tr>\n",
              "      <th>1</th>\n",
              "      <td>Forest fire near La Ronge Sask. Canada</td>\n",
              "      <td>1</td>\n",
              "      <td>forest fire near la ronge sask canada</td>\n",
              "      <td>[forest, fire, near, la, ronge, sask, canada]</td>\n",
              "      <td>[forest, fire, near, la, ronge, sask, canada]</td>\n",
              "      <td>[forest, fire, near, la, rong, sask, canada]</td>\n",
              "      <td>[forest, fire, near, la, ronge, sask, canada]</td>\n",
              "    </tr>\n",
              "    <tr>\n",
              "      <th>2</th>\n",
              "      <td>All residents asked to 'shelter in place' are ...</td>\n",
              "      <td>1</td>\n",
              "      <td>all residents asked to shelter in place are be...</td>\n",
              "      <td>[all, residents, asked, to, shelter, in, place...</td>\n",
              "      <td>[residents, asked, shelter, place, notified, o...</td>\n",
              "      <td>[resid, ask, shelter, place, notifi, offic, ev...</td>\n",
              "      <td>[resident, asked, shelter, place, notified, of...</td>\n",
              "    </tr>\n",
              "    <tr>\n",
              "      <th>3</th>\n",
              "      <td>13,000 people receive #wildfires evacuation or...</td>\n",
              "      <td>1</td>\n",
              "      <td>13000 people receive wildfires evacuation orde...</td>\n",
              "      <td>[13000, people, receive, wildfires, evacuation...</td>\n",
              "      <td>[13000, people, receive, wildfires, evacuation...</td>\n",
              "      <td>[13000, peopl, receiv, wildfir, evacu, order, ...</td>\n",
              "      <td>[13000, people, receive, wildfire, evacuation,...</td>\n",
              "    </tr>\n",
              "    <tr>\n",
              "      <th>4</th>\n",
              "      <td>Just got sent this photo from Ruby #Alaska as ...</td>\n",
              "      <td>1</td>\n",
              "      <td>just got sent this photo from ruby alaska as s...</td>\n",
              "      <td>[just, got, sent, this, photo, from, ruby, ala...</td>\n",
              "      <td>[got, sent, photo, ruby, alaska, smoke, wildfi...</td>\n",
              "      <td>[got, sent, photo, rubi, alaska, smoke, wildfi...</td>\n",
              "      <td>[got, sent, photo, ruby, alaska, smoke, wildfi...</td>\n",
              "    </tr>\n",
              "  </tbody>\n",
              "</table>\n",
              "</div>\n",
              "      <button class=\"colab-df-convert\" onclick=\"convertToInteractive('df-66bf4427-4090-4ec5-a56b-b25526b8b279')\"\n",
              "              title=\"Convert this dataframe to an interactive table.\"\n",
              "              style=\"display:none;\">\n",
              "        \n",
              "  <svg xmlns=\"http://www.w3.org/2000/svg\" height=\"24px\"viewBox=\"0 0 24 24\"\n",
              "       width=\"24px\">\n",
              "    <path d=\"M0 0h24v24H0V0z\" fill=\"none\"/>\n",
              "    <path d=\"M18.56 5.44l.94 2.06.94-2.06 2.06-.94-2.06-.94-.94-2.06-.94 2.06-2.06.94zm-11 1L8.5 8.5l.94-2.06 2.06-.94-2.06-.94L8.5 2.5l-.94 2.06-2.06.94zm10 10l.94 2.06.94-2.06 2.06-.94-2.06-.94-.94-2.06-.94 2.06-2.06.94z\"/><path d=\"M17.41 7.96l-1.37-1.37c-.4-.4-.92-.59-1.43-.59-.52 0-1.04.2-1.43.59L10.3 9.45l-7.72 7.72c-.78.78-.78 2.05 0 2.83L4 21.41c.39.39.9.59 1.41.59.51 0 1.02-.2 1.41-.59l7.78-7.78 2.81-2.81c.8-.78.8-2.07 0-2.86zM5.41 20L4 18.59l7.72-7.72 1.47 1.35L5.41 20z\"/>\n",
              "  </svg>\n",
              "      </button>\n",
              "      \n",
              "  <style>\n",
              "    .colab-df-container {\n",
              "      display:flex;\n",
              "      flex-wrap:wrap;\n",
              "      gap: 12px;\n",
              "    }\n",
              "\n",
              "    .colab-df-convert {\n",
              "      background-color: #E8F0FE;\n",
              "      border: none;\n",
              "      border-radius: 50%;\n",
              "      cursor: pointer;\n",
              "      display: none;\n",
              "      fill: #1967D2;\n",
              "      height: 32px;\n",
              "      padding: 0 0 0 0;\n",
              "      width: 32px;\n",
              "    }\n",
              "\n",
              "    .colab-df-convert:hover {\n",
              "      background-color: #E2EBFA;\n",
              "      box-shadow: 0px 1px 2px rgba(60, 64, 67, 0.3), 0px 1px 3px 1px rgba(60, 64, 67, 0.15);\n",
              "      fill: #174EA6;\n",
              "    }\n",
              "\n",
              "    [theme=dark] .colab-df-convert {\n",
              "      background-color: #3B4455;\n",
              "      fill: #D2E3FC;\n",
              "    }\n",
              "\n",
              "    [theme=dark] .colab-df-convert:hover {\n",
              "      background-color: #434B5C;\n",
              "      box-shadow: 0px 1px 3px 1px rgba(0, 0, 0, 0.15);\n",
              "      filter: drop-shadow(0px 1px 2px rgba(0, 0, 0, 0.3));\n",
              "      fill: #FFFFFF;\n",
              "    }\n",
              "  </style>\n",
              "\n",
              "      <script>\n",
              "        const buttonEl =\n",
              "          document.querySelector('#df-66bf4427-4090-4ec5-a56b-b25526b8b279 button.colab-df-convert');\n",
              "        buttonEl.style.display =\n",
              "          google.colab.kernel.accessAllowed ? 'block' : 'none';\n",
              "\n",
              "        async function convertToInteractive(key) {\n",
              "          const element = document.querySelector('#df-66bf4427-4090-4ec5-a56b-b25526b8b279');\n",
              "          const dataTable =\n",
              "            await google.colab.kernel.invokeFunction('convertToInteractive',\n",
              "                                                     [key], {});\n",
              "          if (!dataTable) return;\n",
              "\n",
              "          const docLinkHtml = 'Like what you see? Visit the ' +\n",
              "            '<a target=\"_blank\" href=https://colab.research.google.com/notebooks/data_table.ipynb>data table notebook</a>'\n",
              "            + ' to learn more about interactive tables.';\n",
              "          element.innerHTML = '';\n",
              "          dataTable['output_type'] = 'display_data';\n",
              "          await google.colab.output.renderOutput(dataTable, element);\n",
              "          const docLink = document.createElement('div');\n",
              "          docLink.innerHTML = docLinkHtml;\n",
              "          element.appendChild(docLink);\n",
              "        }\n",
              "      </script>\n",
              "    </div>\n",
              "  </div>\n",
              "  "
            ]
          },
          "metadata": {},
          "execution_count": 28
        }
      ]
    },
    {
      "cell_type": "code",
      "source": [
        "df['FINAL']=df['LemmatizedText'].apply(lambda x: ''.join(i+' ' for i in x))\n",
        "df.head()"
      ],
      "metadata": {
        "colab": {
          "base_uri": "https://localhost:8080/",
          "height": 337
        },
        "id": "rVLNaeSN88VB",
        "outputId": "59c03d36-4215-4969-efb4-6d11158e2ec4"
      },
      "execution_count": 29,
      "outputs": [
        {
          "output_type": "execute_result",
          "data": {
            "text/plain": [
              "                                                text  target  \\\n",
              "0  Our Deeds are the Reason of this #earthquake M...       1   \n",
              "1             Forest fire near La Ronge Sask. Canada       1   \n",
              "2  All residents asked to 'shelter in place' are ...       1   \n",
              "3  13,000 people receive #wildfires evacuation or...       1   \n",
              "4  Just got sent this photo from Ruby #Alaska as ...       1   \n",
              "\n",
              "                                           CleanText  \\\n",
              "0  our deeds are the reason of this earthquake ma...   \n",
              "1              forest fire near la ronge sask canada   \n",
              "2  all residents asked to shelter in place are be...   \n",
              "3  13000 people receive wildfires evacuation orde...   \n",
              "4  just got sent this photo from ruby alaska as s...   \n",
              "\n",
              "                                       TokenizedText  \\\n",
              "0  [our, deeds, are, the, reason, of, this, earth...   \n",
              "1      [forest, fire, near, la, ronge, sask, canada]   \n",
              "2  [all, residents, asked, to, shelter, in, place...   \n",
              "3  [13000, people, receive, wildfires, evacuation...   \n",
              "4  [just, got, sent, this, photo, from, ruby, ala...   \n",
              "\n",
              "                                     RemoveStopWords  \\\n",
              "0  [deeds, reason, earthquake, may, allah, forgiv...   \n",
              "1      [forest, fire, near, la, ronge, sask, canada]   \n",
              "2  [residents, asked, shelter, place, notified, o...   \n",
              "3  [13000, people, receive, wildfires, evacuation...   \n",
              "4  [got, sent, photo, ruby, alaska, smoke, wildfi...   \n",
              "\n",
              "                                       PorterStemmer  \\\n",
              "0  [deed, reason, earthquak, may, allah, forgiv, us]   \n",
              "1       [forest, fire, near, la, rong, sask, canada]   \n",
              "2  [resid, ask, shelter, place, notifi, offic, ev...   \n",
              "3  [13000, peopl, receiv, wildfir, evacu, order, ...   \n",
              "4  [got, sent, photo, rubi, alaska, smoke, wildfi...   \n",
              "\n",
              "                                      LemmatizedText  \\\n",
              "0  [deed, reason, earthquake, may, allah, forgive...   \n",
              "1      [forest, fire, near, la, ronge, sask, canada]   \n",
              "2  [resident, asked, shelter, place, notified, of...   \n",
              "3  [13000, people, receive, wildfire, evacuation,...   \n",
              "4  [got, sent, photo, ruby, alaska, smoke, wildfi...   \n",
              "\n",
              "                                               FINAL  \n",
              "0        deed reason earthquake may allah forgive u   \n",
              "1             forest fire near la ronge sask canada   \n",
              "2  resident asked shelter place notified officer ...  \n",
              "3  13000 people receive wildfire evacuation order...  \n",
              "4  got sent photo ruby alaska smoke wildfire pour...  "
            ],
            "text/html": [
              "\n",
              "  <div id=\"df-88dcc214-397d-4463-8a44-7dd31a2fae2e\">\n",
              "    <div class=\"colab-df-container\">\n",
              "      <div>\n",
              "<style scoped>\n",
              "    .dataframe tbody tr th:only-of-type {\n",
              "        vertical-align: middle;\n",
              "    }\n",
              "\n",
              "    .dataframe tbody tr th {\n",
              "        vertical-align: top;\n",
              "    }\n",
              "\n",
              "    .dataframe thead th {\n",
              "        text-align: right;\n",
              "    }\n",
              "</style>\n",
              "<table border=\"1\" class=\"dataframe\">\n",
              "  <thead>\n",
              "    <tr style=\"text-align: right;\">\n",
              "      <th></th>\n",
              "      <th>text</th>\n",
              "      <th>target</th>\n",
              "      <th>CleanText</th>\n",
              "      <th>TokenizedText</th>\n",
              "      <th>RemoveStopWords</th>\n",
              "      <th>PorterStemmer</th>\n",
              "      <th>LemmatizedText</th>\n",
              "      <th>FINAL</th>\n",
              "    </tr>\n",
              "  </thead>\n",
              "  <tbody>\n",
              "    <tr>\n",
              "      <th>0</th>\n",
              "      <td>Our Deeds are the Reason of this #earthquake M...</td>\n",
              "      <td>1</td>\n",
              "      <td>our deeds are the reason of this earthquake ma...</td>\n",
              "      <td>[our, deeds, are, the, reason, of, this, earth...</td>\n",
              "      <td>[deeds, reason, earthquake, may, allah, forgiv...</td>\n",
              "      <td>[deed, reason, earthquak, may, allah, forgiv, us]</td>\n",
              "      <td>[deed, reason, earthquake, may, allah, forgive...</td>\n",
              "      <td>deed reason earthquake may allah forgive u</td>\n",
              "    </tr>\n",
              "    <tr>\n",
              "      <th>1</th>\n",
              "      <td>Forest fire near La Ronge Sask. Canada</td>\n",
              "      <td>1</td>\n",
              "      <td>forest fire near la ronge sask canada</td>\n",
              "      <td>[forest, fire, near, la, ronge, sask, canada]</td>\n",
              "      <td>[forest, fire, near, la, ronge, sask, canada]</td>\n",
              "      <td>[forest, fire, near, la, rong, sask, canada]</td>\n",
              "      <td>[forest, fire, near, la, ronge, sask, canada]</td>\n",
              "      <td>forest fire near la ronge sask canada</td>\n",
              "    </tr>\n",
              "    <tr>\n",
              "      <th>2</th>\n",
              "      <td>All residents asked to 'shelter in place' are ...</td>\n",
              "      <td>1</td>\n",
              "      <td>all residents asked to shelter in place are be...</td>\n",
              "      <td>[all, residents, asked, to, shelter, in, place...</td>\n",
              "      <td>[residents, asked, shelter, place, notified, o...</td>\n",
              "      <td>[resid, ask, shelter, place, notifi, offic, ev...</td>\n",
              "      <td>[resident, asked, shelter, place, notified, of...</td>\n",
              "      <td>resident asked shelter place notified officer ...</td>\n",
              "    </tr>\n",
              "    <tr>\n",
              "      <th>3</th>\n",
              "      <td>13,000 people receive #wildfires evacuation or...</td>\n",
              "      <td>1</td>\n",
              "      <td>13000 people receive wildfires evacuation orde...</td>\n",
              "      <td>[13000, people, receive, wildfires, evacuation...</td>\n",
              "      <td>[13000, people, receive, wildfires, evacuation...</td>\n",
              "      <td>[13000, peopl, receiv, wildfir, evacu, order, ...</td>\n",
              "      <td>[13000, people, receive, wildfire, evacuation,...</td>\n",
              "      <td>13000 people receive wildfire evacuation order...</td>\n",
              "    </tr>\n",
              "    <tr>\n",
              "      <th>4</th>\n",
              "      <td>Just got sent this photo from Ruby #Alaska as ...</td>\n",
              "      <td>1</td>\n",
              "      <td>just got sent this photo from ruby alaska as s...</td>\n",
              "      <td>[just, got, sent, this, photo, from, ruby, ala...</td>\n",
              "      <td>[got, sent, photo, ruby, alaska, smoke, wildfi...</td>\n",
              "      <td>[got, sent, photo, rubi, alaska, smoke, wildfi...</td>\n",
              "      <td>[got, sent, photo, ruby, alaska, smoke, wildfi...</td>\n",
              "      <td>got sent photo ruby alaska smoke wildfire pour...</td>\n",
              "    </tr>\n",
              "  </tbody>\n",
              "</table>\n",
              "</div>\n",
              "      <button class=\"colab-df-convert\" onclick=\"convertToInteractive('df-88dcc214-397d-4463-8a44-7dd31a2fae2e')\"\n",
              "              title=\"Convert this dataframe to an interactive table.\"\n",
              "              style=\"display:none;\">\n",
              "        \n",
              "  <svg xmlns=\"http://www.w3.org/2000/svg\" height=\"24px\"viewBox=\"0 0 24 24\"\n",
              "       width=\"24px\">\n",
              "    <path d=\"M0 0h24v24H0V0z\" fill=\"none\"/>\n",
              "    <path d=\"M18.56 5.44l.94 2.06.94-2.06 2.06-.94-2.06-.94-.94-2.06-.94 2.06-2.06.94zm-11 1L8.5 8.5l.94-2.06 2.06-.94-2.06-.94L8.5 2.5l-.94 2.06-2.06.94zm10 10l.94 2.06.94-2.06 2.06-.94-2.06-.94-.94-2.06-.94 2.06-2.06.94z\"/><path d=\"M17.41 7.96l-1.37-1.37c-.4-.4-.92-.59-1.43-.59-.52 0-1.04.2-1.43.59L10.3 9.45l-7.72 7.72c-.78.78-.78 2.05 0 2.83L4 21.41c.39.39.9.59 1.41.59.51 0 1.02-.2 1.41-.59l7.78-7.78 2.81-2.81c.8-.78.8-2.07 0-2.86zM5.41 20L4 18.59l7.72-7.72 1.47 1.35L5.41 20z\"/>\n",
              "  </svg>\n",
              "      </button>\n",
              "      \n",
              "  <style>\n",
              "    .colab-df-container {\n",
              "      display:flex;\n",
              "      flex-wrap:wrap;\n",
              "      gap: 12px;\n",
              "    }\n",
              "\n",
              "    .colab-df-convert {\n",
              "      background-color: #E8F0FE;\n",
              "      border: none;\n",
              "      border-radius: 50%;\n",
              "      cursor: pointer;\n",
              "      display: none;\n",
              "      fill: #1967D2;\n",
              "      height: 32px;\n",
              "      padding: 0 0 0 0;\n",
              "      width: 32px;\n",
              "    }\n",
              "\n",
              "    .colab-df-convert:hover {\n",
              "      background-color: #E2EBFA;\n",
              "      box-shadow: 0px 1px 2px rgba(60, 64, 67, 0.3), 0px 1px 3px 1px rgba(60, 64, 67, 0.15);\n",
              "      fill: #174EA6;\n",
              "    }\n",
              "\n",
              "    [theme=dark] .colab-df-convert {\n",
              "      background-color: #3B4455;\n",
              "      fill: #D2E3FC;\n",
              "    }\n",
              "\n",
              "    [theme=dark] .colab-df-convert:hover {\n",
              "      background-color: #434B5C;\n",
              "      box-shadow: 0px 1px 3px 1px rgba(0, 0, 0, 0.15);\n",
              "      filter: drop-shadow(0px 1px 2px rgba(0, 0, 0, 0.3));\n",
              "      fill: #FFFFFF;\n",
              "    }\n",
              "  </style>\n",
              "\n",
              "      <script>\n",
              "        const buttonEl =\n",
              "          document.querySelector('#df-88dcc214-397d-4463-8a44-7dd31a2fae2e button.colab-df-convert');\n",
              "        buttonEl.style.display =\n",
              "          google.colab.kernel.accessAllowed ? 'block' : 'none';\n",
              "\n",
              "        async function convertToInteractive(key) {\n",
              "          const element = document.querySelector('#df-88dcc214-397d-4463-8a44-7dd31a2fae2e');\n",
              "          const dataTable =\n",
              "            await google.colab.kernel.invokeFunction('convertToInteractive',\n",
              "                                                     [key], {});\n",
              "          if (!dataTable) return;\n",
              "\n",
              "          const docLinkHtml = 'Like what you see? Visit the ' +\n",
              "            '<a target=\"_blank\" href=https://colab.research.google.com/notebooks/data_table.ipynb>data table notebook</a>'\n",
              "            + ' to learn more about interactive tables.';\n",
              "          element.innerHTML = '';\n",
              "          dataTable['output_type'] = 'display_data';\n",
              "          await google.colab.output.renderOutput(dataTable, element);\n",
              "          const docLink = document.createElement('div');\n",
              "          docLink.innerHTML = docLinkHtml;\n",
              "          element.appendChild(docLink);\n",
              "        }\n",
              "      </script>\n",
              "    </div>\n",
              "  </div>\n",
              "  "
            ]
          },
          "metadata": {},
          "execution_count": 29
        }
      ]
    },
    {
      "cell_type": "markdown",
      "source": [
        "#Data PreProcessing Part2 to transform text to Numerical data\n",
        "\n",
        "\n",
        "**We will make three different numerical datasets**"
      ],
      "metadata": {
        "id": "FzIQGnq-8sfU"
      }
    },
    {
      "cell_type": "markdown",
      "source": [
        "**Bag Of Words using CounterVector**"
      ],
      "metadata": {
        "id": "2YOdDRL48v_Q"
      }
    },
    {
      "cell_type": "code",
      "source": [
        "from sklearn.feature_extraction.text import CountVectorizer\n",
        "\n",
        "vectorizer = CountVectorizer(ngram_range = (1,1))\n",
        "cv_df = vectorizer.fit_transform(df['FINAL'])\n",
        "\n",
        "vectorizer.get_feature_names_out()\n",
        "print(cv_df.shape)"
      ],
      "metadata": {
        "colab": {
          "base_uri": "https://localhost:8080/"
        },
        "id": "289Z6q4q8it3",
        "outputId": "e93478fc-b45b-4c57-c33a-12905ce35470"
      },
      "execution_count": 30,
      "outputs": [
        {
          "output_type": "stream",
          "name": "stdout",
          "text": [
            "(7613, 16270)\n"
          ]
        }
      ]
    },
    {
      "cell_type": "code",
      "source": [
        "##print(vectorizer.vocabulary_.keys())\n",
        "#print(vectorizer.vocabulary_.values())\n",
        "\n",
        "\n",
        "names = ['deed', 'reason', 'earthquake', 'may', 'allah', 'forgive', 'forest', 'fire', 'near', 'la'] \n",
        "#, 'ronge', 'sask', 'canada', 'resident', 'asked', 'shelter', 'place', 'notified', 'officer', 'evacuation']\n",
        "values = [4146, 11836, 4858, 9204, 1104, 5881, 5872, 5697, 9974, 8363 ] \n",
        "#, 12348, 12618, 2756, 12088, 1516, 12978, 11086, 10232, 10383, 5270]\n",
        "\n",
        "#print(len(names))\n",
        "#print(len(values))\n",
        "\n",
        "import matplotlib.pyplot as plt\n",
        "fig = plt.figure()\n",
        "ax = fig.add_axes([0,0,1,1])\n",
        "ax.bar(names, values)\n",
        "plt.show()\n"
      ],
      "metadata": {
        "colab": {
          "base_uri": "https://localhost:8080/",
          "height": 336
        },
        "id": "E1NHmQZwgtST",
        "outputId": "43bd8724-346c-4f0f-a77c-31e487cd6ba1"
      },
      "execution_count": 70,
      "outputs": [
        {
          "output_type": "display_data",
          "data": {
            "text/plain": [
              "<Figure size 432x288 with 1 Axes>"
            ],
            "image/png": "[encoded data removed]"
          },
          "metadata": {
            "needs_background": "light"
          }
        }
      ]
    },
    {
      "cell_type": "markdown",
      "source": [
        "**TF-IDF**\n"
      ],
      "metadata": {
        "id": "8oBudl-79ZKP"
      }
    },
    {
      "cell_type": "code",
      "source": [
        "from sklearn.feature_extraction.text import TfidfVectorizer\n",
        "\n",
        "tfvectorizer = TfidfVectorizer(ngram_range = (1,2))\n",
        "tfidf_df = tfvectorizer.fit_transform(df['FINAL'])\n",
        "print(tfidf_df.shape)\n"
      ],
      "metadata": {
        "colab": {
          "base_uri": "https://localhost:8080/"
        },
        "id": "-7YlewNX9b2f",
        "outputId": "52479287-f2ad-4ca0-d179-db525cb25285"
      },
      "execution_count": 32,
      "outputs": [
        {
          "output_type": "stream",
          "name": "stdout",
          "text": [
            "(7613, 63245)\n"
          ]
        }
      ]
    },
    {
      "cell_type": "code",
      "source": [
        "tfvectorizer.vocabulary_\n",
        "\n",
        "#print(tfvectorizer.vocabulary_.keys())\n",
        "#print(tfvectorizer.vocabulary_.values())\n",
        "\n",
        "names = ['deed', 'reason', 'earthquake', 'may', 'allah', 'forgive', 'forest', 'fire', 'near', 'la'] \n",
        "values = [15175, 45316, 17901, 35452, 3167, 22368, 15176, 45323, 17916, 35454]\n",
        "\n",
        "#print(len(names))\n",
        "#print(len(values))\n",
        "\n",
        "import matplotlib.pyplot as plt\n",
        "fig = plt.figure()\n",
        "ax = fig.add_axes([0,0,1,1])\n",
        "ax.bar(names, values)\n",
        "plt.show()"
      ],
      "metadata": {
        "id": "agAVGWLXhdRd",
        "colab": {
          "base_uri": "https://localhost:8080/",
          "height": 336
        },
        "outputId": "77b15c8b-cb62-4494-dfda-11e125e8d9c1"
      },
      "execution_count": 71,
      "outputs": [
        {
          "output_type": "display_data",
          "data": {
            "text/plain": [
              "<Figure size 432x288 with 1 Axes>"
            ],
            "image/png": "[encoded data removed]"
          },
          "metadata": {
            "needs_background": "light"
          }
        }
      ]
    },
    {
      "cell_type": "markdown",
      "source": [
        "**Word2Vec**"
      ],
      "metadata": {
        "id": "Krke0Kuw_6Lr"
      }
    },
    {
      "cell_type": "code",
      "source": [
        "from gensim.models import Word2Vec, KeyedVectors\n",
        "import nltk\n",
        "import multiprocessing"
      ],
      "metadata": {
        "id": "pyfYrtaFAEjT"
      },
      "execution_count": 34,
      "outputs": []
    },
    {
      "cell_type": "code",
      "source": [
        "sentences = df['FINAL'].values\n",
        "sentences = [nltk.word_tokenize(title) for title in sentences]\n",
        "#print(sentences)"
      ],
      "metadata": {
        "id": "siWaOiq69p5H"
      },
      "execution_count": 35,
      "outputs": []
    },
    {
      "cell_type": "code",
      "source": [
        "cores = multiprocessing.cpu_count() # Count the number of cores in a computer\n",
        "\n",
        "\n",
        "w2v_model = Word2Vec(min_count=1,\n",
        "                     window=2,\n",
        "                     size=300,\n",
        "                     sample=6e-5, \n",
        "                     alpha=0.03, \n",
        "                     min_alpha=0.0007, \n",
        "                     negative=20,\n",
        "                     workers=cores-1)\n"
      ],
      "metadata": {
        "id": "nhqey600_46h"
      },
      "execution_count": 36,
      "outputs": []
    },
    {
      "cell_type": "code",
      "source": [
        "w2v_model.build_vocab(sentences, progress_per=10000)\n",
        "w2v_model.train(sentences, total_examples=w2v_model.corpus_count, epochs=30, report_delay=1)"
      ],
      "metadata": {
        "colab": {
          "base_uri": "https://localhost:8080/"
        },
        "id": "UGGzzN4yCvO5",
        "outputId": "7b6ae02b-9678-4445-940c-63ce2a17318a"
      },
      "execution_count": 37,
      "outputs": [
        {
          "output_type": "execute_result",
          "data": {
            "text/plain": [
              "(1441465, 2133030)"
            ]
          },
          "metadata": {},
          "execution_count": 37
        }
      ]
    },
    {
      "cell_type": "code",
      "source": [
        "w2v_model.wv.similarity(\"fire\", 'wildfire')\n"
      ],
      "metadata": {
        "colab": {
          "base_uri": "https://localhost:8080/"
        },
        "id": "kbSnTc2zDAI6",
        "outputId": "315e0968-73fa-43da-cd44-2a28b57ee65d"
      },
      "execution_count": 38,
      "outputs": [
        {
          "output_type": "execute_result",
          "data": {
            "text/plain": [
              "0.9800998"
            ]
          },
          "metadata": {},
          "execution_count": 38
        }
      ]
    },
    {
      "cell_type": "code",
      "source": [
        "w2v_model.wv.most_similar(positive=[\"evacuation\"])\n"
      ],
      "metadata": {
        "colab": {
          "base_uri": "https://localhost:8080/"
        },
        "id": "R7qMP0RSDKiE",
        "outputId": "ef34a42a-cccf-4aea-86ec-8abe3d83683e"
      },
      "execution_count": 39,
      "outputs": [
        {
          "output_type": "execute_result",
          "data": {
            "text/plain": [
              "[('faan', 0.9996047019958496),\n",
              " ('order', 0.9995604753494263),\n",
              " ('ultimatum', 0.9993506073951721),\n",
              " ('noted', 0.9992872476577759),\n",
              " ('floated', 0.9992781281471252),\n",
              " ('interesting', 0.9992763996124268),\n",
              " ('almost', 0.9992693662643433),\n",
              " ('cabin', 0.9992666840553284),\n",
              " ('town', 0.9992537498474121),\n",
              " ('probability', 0.9992378950119019)]"
            ]
          },
          "metadata": {},
          "execution_count": 39
        }
      ]
    },
    {
      "cell_type": "code",
      "source": [
        "w2v_model.wv.most_similar(positive=[\"injury\"])\n"
      ],
      "metadata": {
        "colab": {
          "base_uri": "https://localhost:8080/"
        },
        "id": "tylUTA25DQIN",
        "outputId": "2d909d8a-cacb-4b77-e433-e7e35a3a59e0"
      },
      "execution_count": 40,
      "outputs": [
        {
          "output_type": "execute_result",
          "data": {
            "text/plain": [
              "[('shower', 0.9998155832290649),\n",
              " ('fly', 0.9998141527175903),\n",
              " ('thanks', 0.9998127222061157),\n",
              " ('w', 0.9998115301132202),\n",
              " ('bottom', 0.9998068809509277),\n",
              " ('football', 0.9998059868812561),\n",
              " ('previous', 0.9998059272766113),\n",
              " ('client', 0.9998053312301636),\n",
              " ('youd', 0.999805212020874),\n",
              " ('throwing', 0.9998044967651367)]"
            ]
          },
          "metadata": {},
          "execution_count": 40
        }
      ]
    },
    {
      "cell_type": "code",
      "source": [
        "words = list(w2v_model.wv.vocab)\n"
      ],
      "metadata": {
        "id": "kpi2iHyWEXSJ",
        "colab": {
          "base_uri": "https://localhost:8080/"
        },
        "outputId": "c58970a7-525a-475c-ea9e-ad514dd42266"
      },
      "execution_count": 72,
      "outputs": [
        {
          "output_type": "stream",
          "name": "stdout",
          "text": [
            "['deed', 'reason', 'earthquake', 'may', 'allah', 'forgive', 'u', 'forest', 'fire', 'near', 'la', 'ronge', 'sask', 'canada', 'resident', 'asked', 'shelter', 'place', 'notified', 'officer', 'evacuation', 'order', 'expected', '13000', 'people', 'receive', 'wildfire', 'california', 'got', 'sent', 'photo', 'ruby', 'alaska', 'smoke', 'pours', 'school', 'rockyfire', 'update', 'hwy', '20', 'closed', 'direction', 'due', 'lake', 'county', 'cafire', 'flood', 'disaster', 'heavy', 'rain', 'cause', 'flash', 'flooding', 'street', 'manitou', 'colorado', 'spring', 'area', 'im', 'top', 'hill', 'see', 'wood', 'there', 'emergency', 'happening', 'building', 'across', 'afraid', 'tornado', 'coming', 'three', 'died', 'heat', 'wave', 'far', 'haha', 'south', 'tampa', 'getting', 'flooded', 'hah', 'wait', 'second', 'live', 'gon', 'na', 'fvck', 'raining', 'florida', 'tampabay', '18', '19', 'day', 'ive', 'lost', 'count', 'bago', 'myanmar', 'arrived', 'damage', 'bus', '80', 'multi', 'car', 'crash', 'breaking', 'whats', 'man', 'love', 'fruit', 'summer', 'lovely', 'fast', 'goooooooaaaaaal', 'ridiculous', 'london', 'cool', 'skiing', 'wonderful', 'looooool', 'wayi', 'cant', 'eat', 'shit', 'nyc', 'last', 'week', 'girlfriend', 'cooool', 'like', 'pasta', 'end', 'bbcmtd', 'wholesale', 'market', 'ablaze', 'always', 'try', 'bring', 'metal', 'rt', 'africanbaze', 'newsnigeria', 'flag', 'set', 'aba', 'cry', 'plus', 'side', 'look', 'sky', 'night', 'phdsquares', 'mufc', 'theyve', 'built', 'much', 'hype', 'around', 'new', 'acquisition', 'doubt', 'epl', 'season', 'inec', 'office', 'abia', 'barbados', 'bridgetown', 'jamaica', 'two', 'santa', 'cruz', 'head', 'st', 'elizabeth', 'police', 'superintende', 'lord', 'check', 'nsfw', 'outside', 'youre', 'alive', 'dead', 'inside', 'awesome', 'time', 'visiting', 'cfc', 'ancop', 'site', 'thanks', 'tita', 'vida', 'taking', 'care', 'soooo', 'pumped', 'southridgelife', 'wanted', 'chicago', 'preaching', 'hotel', 'gained', '3', 'follower', 'know', 'stats', 'grow', 'west', 'burned', 'thousand', 'alone', 'perfect', 'tracklist', 'life', 'leave', 'first', 'retainer', 'quite', 'weird', 'better', 'get', 'used', 'wear', 'every', 'single', 'next', 'year', 'least', 'deputy', 'shot', 'brighton', 'home', 'wife', 'six', 'jail', 'setting', 'niece', 'superintendent', 'lanford', 'salmon', 'r', 'arsonist', 'deliberately', 'black', 'church', 'north', 'carolinaablaze', 'noches', 'elbestia', 'alexissanchez', 'happy', 'teammate', 'training', 'hard', 'goodnight', 'gunner', 'kurd', 'trampling', 'turkmen', 'later', 'others', 'vandalized', 'front', 'diyala', 'truck', 'r21', 'voortrekker', 'ave', 'tambo', 'intl', 'cargo', 'section', 'heart', 'city', 'gift', 'skyline', 'kiss', 'upon', 'lip', 'tonight', 'los', 'angeles', 'expecting', 'ig', 'fb', 'filled', 'sunset', 'peep', 'climate', 'energy', 'revel', 'wmv', 'video', 'mean', 'mac', 'farewell', 'en', 'route', 'dvd', 'gtxrwm', 'progressive', 'greeting', 'month', 'student', 'would', 'pen', 'torch', 'publication', 'rene', 'jacinta', 'secret', '2k13', 'fallen', 'edit', 'mar', '30', '2013', 'navista7', 'steve', 'something', 'else', 'tinderbox', 'clown', 'hood', 'news24680', 'nowplaying', 'ian', 'buff', 'magnitude', 'edm', 'nxwestmidlands', 'huge', 'talk', 'go', 'dont', 'make', 'work', 'kid', 'cuz', 'bicycle', 'accident', 'split', 'testicle', 'impossible', 'michael', 'father', 'i24', 'w', 'nashvilletraffic', 'traffic', 'moving', '8m', 'slower', 'usual', 'center', 'lane', 'blocked', 'santaclara', 'us101', 'nb', 'great', 'america', 'pkwy', 'bayarea', 'personalinjury', 'read', 'advice', 'solicitor', 'help', 'otleyhour', 'stlouis', 'caraccidentlawyer', 'speeding', 'among', 'teen', 'tee', 'reported', 'motor', 'vehicle', 'curry', 'herman', 'rd', 'stephenson', 'involving', 'overturned', 'please', 'use', 'bigrigradio', 'awareness', 'i77', 'mile', 'marker', '31', 'mooresville', 'iredell', 'ramp', '86', '118', 'pm', 'sleepjunkies', 'sleeping', 'pill', 'double', 'risk', 'knew', 'happen', 'n', 'cabrillo', 'hwymagellan', 'av', 'mir', '080615', '110358', '40', 'congestion', 'pastor', 'scene', 'accidentwho', 'owner', 'range', 'rover', 'mom', 'didnt', 'wished', 'spilt', 'mayonnaise', 'horrible', 'past', 'sunday', 'finally', 'able', 'thank', 'god', 'pissed', 'donnie', 'tell', 'another', 'truckcrash', 'overturn', 'fortworth', 'interstate', 'click', 'youve', 'ashville', '23', 'sb', 'sr', '752', 'carolina', 'motorcyclist', 'dy', 'i540', 'crossed', 'median', 'motorcycle', 'rider', 'traveling', 'fyi', 'cadfyi', 'property', 'damagenhs999', 'piner', 'rdhorndale', 'dr', 'naayf', 'turning', 'onto', 'chandanee', 'magu', 'mma', 'taxi', 'rammed', 'halfway', 'turned', 'everyone', 'conf', 'left', 'manchester', '293', 'eddy', 'stop', 'back', 'nh3a', 'delay', '4', 'min', 'damagewpd1600', '17th', '862015209', 'injury', '2781', 'willis', 'foreman', 'aashiqui', 'actress', 'anu', 'aggarwal', 'nearfatal', 'suffield', 'alberta', '9', 'backup', 'southaccident', 'blocking', 'right', '2', 'exit', 'langtree', 'rdconsider', 'nc', '115', '150', '16', 'alternate', 'changed', 'determine', 'option', 'financially', 'support', 'plan', 'ongoing', 'treatment', 'deadly', 'happened', 'hagerstown', 'today', 'ill', 'detail', '5', 'your4state', 'whag', 'flowri', 'marinading', 'even', 'fucking', 'mf', 'drive', 'norwaymfa', 'bahrain', 'previously', 'road', 'killed', 'explosion', 'still', 'heard', 'leader', 'kenya', 'forward', 'comment', 'issue', 'disciplinary', 'measuresarrestpastornganga', 'aftershockdelo', 'scuf', 'p', 'game', 'cya', 'effort', 'painful', 'win', 'roger', 'bannister', '320', 'ir', 'icemoon', 'aftershock', 'djicemoon', 'dubstep', 'trapmusic', 'dnb', 'dance', 'ice', 'victory', 'bargain', 'basement', 'price', 'dwight', 'david', 'eisenhower', 'nobody', 'remembers', 'came', 'charles', 'schulz', 'speaking', 'someone', 'using', 'xb1', 'also', 'harder', 'conflict', 'glorious', 'triumph', 'thomas', 'paine', 'growingupspoiled', 'going', 'clay', 'pigeon', 'shooting', 'guess', 'one', 'actually', 'want', 'free', 'tc', 'terrifying', 'best', 'roller', 'coaster', 'ever', 'disclaimer', 'kjfordays', 'seeing', 'wisdomwed', 'bonus', 'minute', 'daily', 'habit', 'could', 'really', 'improve', 'many', 'already', 'lifehacks', 'protect', 'profit', 'global', 'financial', 'meltdown', 'wiedemer', 'http', 'moment', 'scary', 'guy', 'behind', 'screaming', 'bloody', 'murder', 'silverwood', '2010', 'full', 'streaming', 'youtube', '15', 'book', 'esquireattire', 'sometimes', 'face', 'difficulty', 'wrong', 'joel', 'osteen', 'thing', 'stand', 'dream', 'belief', 'possible', 'brown', 'praise', 'ministry', 'wdyouth', 'biblestudy', 'remembering', 'die', 'way', 'avoid', 'trap', 'thinking', 'lose', 'job', 'tried', 'orange', 'never', 'onfireanders', 'bb', 'kick', 'making', 'say', 'done', 'interrupt', 'george', 'bernard', 'shaw', 'oyster', 'shell', 'andrew', 'carnegie', 'anyone', 'need', 'pu', 'play', 'hybrid', 'slayer', 'ps4', 'eu', 'hmu', 'cod8sandscrims', 'empirikgaming', 'codawscrims', '4tpkotc', '4tpfa', 'aftershockorg', 'expert', 'france', 'begin', 'examining', 'airplane', 'debris', 'found', 'reunion', 'island', 'french', 'air', 'news', 'strict', 'liability', 'context', 'pilot', 'error', 'common', 'component', 'aviation', 'cr', 'crobscarla', 'lifetime', 'odds', 'dying', '1', '8015', 'wedn', 'alexalltimelow', 'awwww', 'theyre', 'cuties', 'good', 'family', 'member', 'osama', 'bin', 'laden', 'ironic', 'mhmmm', 'gov', 'suspect', 'engine', 'via', 'wing', '29072015', 'cessna', 'ocampo', 'coahuila', 'mexico', 'july', '29', '2015', 'four', 'men', 'including', 'state', 'government', 'official', 'watchthevideo', 'wednesday', 'began', 'kca', 'votejkt48id', 'mbataweel', 'rip', 'binladen', 'almost', 'coworker', 'nude', 'mode', 'mickinyman', 'theatlantic', 'might', 'wreck', 'politics', 'mlb', 'unbelievably', 'insane', 'airport', 'aircraft', 'aeroplane', 'runway', 'freaky', 'airplane29072015', 'usama', 'ladin', 'naturally', 'plane', 'festival', 'death', 'carfest', 'dtn', 'brazil', 'exp', 'wtf', 'believe', 'eye', 'nicole', 'fletcher', 'victim', 'crashed', 'ago', 'little', 'bit', 'trauma', 'although', 'shes', 'omg', 'bro', 'jetengine', 'turbojet', 'boing', 'g90', 'phone', 'ship', 'terrible', 'statistically', 'cop', 'house', 'colombia', '12', 'drone', 'worried', 'esp', 'close', 'vicinity', 'early', 'wake', 'call', 'sister', 'begging', 'come', 'ride', 'wher', 'ambulance', 'hospital', 'rodkiai', 'twelve', 'feared', 'pakistani', 'helicopter', 'serious', 'lorry', 'emsne', 'reuters', 'yugvani', 'leading', 'service', 'bos', 'welcome', 'charity', 'travelling', 'aberystwythshrewsbury', 'incident', 'halt', 'shrew', 'sprinter', 'automatic', 'frontline', 'choice', '14', 'lez', 'compliant', 'ebay', 'nanotech', 'device', 'target', 'destroy', 'blood', 'clot', '20skyhawkmm20', 'traplord29', 'fredosantana300', 'lilreese300', 'hella', 'crazy', 'fight', 'couple', 'mosh', 'pit', 'run', 'lucky', 'justsaying', 'randomthought', 'tilnow', 'dna', 'tanslash', 'waiting', 'fouseytube', 'ok', 'hahahah', 'pakistan', 'kill', 'nine', 'thenissonian', 'rejectdcartoons', 'nissan', 'medical', 'assistance', 'ems1', 'ny', 'emts', 'petition', '17', 'per', 'hour', 'minimum', 'wage', 'em', 'paramedic', 'kiwikaryn', 'parking', 'lot', 'said', 'john', 'leoblakecarter', 'dog', 'think', 'he', 'hatzolah', 'responding', 'dual', 'siren', 'worldnews', 'number', 'lesotho', 'body', 'medic914', 'aaceorg', 'surprised', 'standardised', 'clinical', 'practice', '11', 'nh', 'trust', 'jwalk', 'passing', 'hate', 'episode', 'trunk', 'annihilated', 'freiza', 'cleanest', 'showed', 'nigga', 'mercy', 'shall', 'petebests', 'dessicated', 'laid', 'bare', 'kneel', 'uribe', 'baseball', 'mets', 'marksmaponyane', 'heysundowns', 'previous', 'meeting', 'celticindeed', 'improvement', 'volfan326', 'tneazzy', 'mizzou', 'ended', 'muschamps', 'career', 'compete', 'bama', 'ab', 'status', 'education', 'mba', 'behalf', 'easy', 'careen', 'eovm', 'luka', 'everything', 'alois', 'trancy', 'acarewornheart', 'un', 'fella', 'sorry', 'wont', 'pull', 'drunk', 'driver', 'safety', 'hit', 'train', 'viralspell', 'must', 'boom', 'country', 'entirely', 'h', 'britain', 'amirkingkhan', 'well', 'floydmayweather', 'suregod', 'promised', 'israel', 'butthe', 'horror', 'iran', 'wnukes', 'violentfeminazi', 'thats', 'armenian', 'since', 'weve', 'spent', 'history', '70', '100000', 'instantly', 'became', 'aware', 'ability', 'annihilate', 'whole', 'humanity', 'tryout', 'went', 'minus', 'fact', 'stopped', 'quickly', 'short', 'ball', 'toenail', '1960s', 'oryx', 'symbol', 'arabian', 'peninsula', 'hunter', 'ready', 'bucs', 'philipduncan', 'breakfastone', 'weather', 'philip', 'thought', 'forecast', 'domain', 'sophistication', 'closely', 'uptotheminute', 'feat', 'zrnf', 'stormbeard', 'steellord', 'seen', 'juda', 'priest', '2005', 'rob', 'scorpion', 'astonishing', 'gig', 'officially', 'skipping', 'fantasticfourfant4sticwhatever', 'hashtag', 'review', 'bummer', 'tomcatarts', 'thus', 'explaining', 'case', 'survivor', 'evolved', 'godlike', 'completely', 'cech', 'paul', 'keegan', 'legion', 'imperfect', 'project', 'formed', 'cell', 'sirbrandonknt', 'exactly', 'lesnarcena', 'match', 'summerslam', 'brock', 'who', 'damascus', 'syrian', 'army', 'grind', 'alloosh', 'gang', 'manure', 'pile', 'thatdes', 'wasnt', 'forthright', 'food', 'coma', 'bc', 'kebabtahinipickles', 'wfries', 'fun', 'happyhour', 'simmons', 'bar', 'camden', 'handsome', 'apart', 'juanny', 'beisbol', 'lgm', 'rvfriedmann', 'hell', 'fraction', 'total', 'annihilation', 'destruction', 'usa', 'lodisilverado', 'ritzyjewels', 'potus', 'maybe', 'pres', 'sold', 'river', 'evildead', 'civilization', 'national', 'park', 'tonto', 'salt', 'wild', 'horse', 'change', 'annihilating', 'quarterstaff', 'world', 'v', 'self', 'transformation', 'alien', 'attack', 'exterminate', 'human', 'starmade', 'stardate', 'planetary', 'kimkardashian', 'sign', 'share', 'save', 'arizona', 'theellenshow', 'without', '54000', 'signatureschange', 'org', 'thx', 'soul', 'punished', 'withannihilation', 'calfreedommom', 'steph93065', 'mention', 'major', 'contributor', 'willienelson', 'dieplease', 'petitiontake', 'voice', 'gilbert23', 'reject', 'law', 'misguided', 'false', 'prophet', 'imprison', 'nation', 'fueling', 'jeb', 'christie', 'kasich', 'le', '24', 'away', 'allow', 'barbitwins', 'helphorses', 'take', 'whippenz', 'hey', 'az', 'wildhorses', 'tantonationalforest', 'rollingstones', 'singalong', 'sonofbaldwin', 'current', 'nova', 'bookslast', 'checkedhe', 'tied', '2011', 'saltriverwildhorses', 'dante', 'join', 'following', 'zone', 'johnny', 'taylor', 'soon', 'ohh', 'fukurodani', 'survive', 'apocalypse', 'bokuto', 'feel', 'poor', 'boy', 'ppor', 'child', 'jocelyn', 'birthday', 'janenelson097', 'stephenscifi', 'adaptation', 'watch', 'charlie', 'optioned', 'film', 'sciencefiction', 'august', '05', '0802pm', 'here', 'red', 'zombie', '2014', 'internetradio', 'collegeradi', 'honeybunzgem', 'primalkitchen', 'pullup', 'stage', 'kinda', 'hot', 'played', 'radio', 'disease', 'started', 'careful', 'lol', 'gf', 'm8', 'question', 'interpretation', 'called', 'julie', 'version', 'romeo', 'juliet', 'warmbodies', 'fittscott', 'minecraft', 'block', 'mod', 'bob', 'wither', 'showcase', 'popularmmos', 'vi', 'snow', 'ourmothermary', 'reading', '211023', 'spirit', 'angel', 'took', 'enormous', 'high', 'mountain', 'candylit', 'imagine', 'sarumi', 'fighting', 'conversation', 'zonewolf123', 'liked', 'mo', 'planet', 'lone', 'audience', 'dad', 'bought', 'science', 'doc', 'impending', 'biblical', 'alexandrapullin', 'indeed', 'grizzly', 'peak', 'beginning', 'dystopian', 'movie', 'scared', 'storm', 'cairo', 'latest', 'xmen', 'yahootv', 'xv', 'totally', 'give', 'bad', 'name', 'pierc', 'geekapocalypse', '4pm', 'gmt', 'hesse', 'dark', 'etcpb', 'bryansinger', 'reveals', 'queen', 'rupaul', 'alexshipppp', 'shadow', 'boxing', 'enjoyed', 'liveaction', 'titan', 'poster', 'reminded', 'freshly', 'clean', 'coiffed', 'pbban', 'temporary300', 'avysss', 'armageddon', 'xp', 'russaky89', 'vid', 'doublecups', 'trubgme', 'prod', 'thisizbwright', 'ouvindo', 'peace', 'bed', 'unless', 'revolution', 'start', 'faction', 'microsoft', 'xbox', '360', 'katiekatcubs', 'series', 'ophiuchus2613', 'truelove', 'romance', 'lith', 'voodoo', 'seduction', 'astrology', 'rtrrt', 'lotz', '911', '1008pla', 'beat', 'hsu', 'hao', 'flawless', 'enews', 'ben', 'afflecki', 'wifekids', 'girl', 'loved', 'eonlinechat', 'id', 'long', 'coat', 'hand', 'worn', 'certainty', 'bear', 'sense', 'occasion', 'spying', 'hidden', 'door', 'nsa', 'data', 'mining', 'software', 'blog', 'hyiderghost2', 'rtrrtcoach', '1008planet', 'fighterdena', 'sketch', 'based', 'taste', 'startrek', 'tos', 'aberdeenfc', 'aberdeenfanpage', 'luck', 'tomorrow', 'coefficient', 'point', 'plz', 'paddytomlinson1', 'rohnertparkdps', 'justice', 'department', 'havent', 'paid', 'income', 'tax', '20yrs', 'vladimir', 'putin', 'warning', 'late', 'escape', 'kingdom', 'heavenly', 'govt', 'rule', 'earth', 'l', 'b', 'entertainment', '8', 'brucewillis', 'monkey', 'sixth', 'auction', 'let', 'goof', 'guild', 'saunders', 'karnythia', 'gaining', 'prepared', 'toddler', 'preppers', 'doomsday', 'library', 'collection', 'cd', 'shtf', 'preppertalk', 'survival', '2a', 'prepper', 'erker', 'eep', 'yesterday', 'saw', 'hail', 'ahamedis', 'messiah', '125', 'dajaal', 'gog', 'magog', 'sadly', 'window', '10', 'microsofts', 'ethic', 'averted', 'el', 'patron', 'ultimalucha', 'samihonkonen', 'ww1', 'blueprint', 'extremely', 'impressive', 'european', 'fitba', 'till', 'christmas', 'christian', 'united', 'cufi', 'jew', 'convert', 'preseasonworkouts', 'lee', 'comedy', 'leejasper', 'working', 'class', 'tory', 'prepare', 'interestraterise', 'chart', 'prove', 'crisis', 'part', 'begun', 'economic', 'collapse', 'track', 'tren', 'craig', 'robert', 'brics', 'russia', 'light', 'isnt', 'funny', 'goofball', 'staff', 'pd', 'thereal', 'comin', 'celtic', 'finger', 'aberdeen', 'eh', 'beyonce', 'pick', 'fan', 'beyhive', '77', 'directioners', 'x1402', '5sosfam', '22beyonce', '17beyonce', 'x1411', 'whitewalkers', 'slightly', 'intrigued', 'build', 'lead', 'g', 'friend', 'code', 'lzktjnox', 'salvation', 'host', 'rally', 'reconnect', 'hosting', 'vote', '5th', 'round', 'billboard', 'fanarmyfaceoff', '100', 'lion', 'show', 'hero', 'tv', 'x1392', 'infantry', 'lume', 'dial', 'analog', 'quartz', 'wrist', 'sport', 'blue', 'nylon', 'fabric', 'rea', 'x1441', 'victorinox', 'swiss', 'date', 'woman', 'rubber', 'mop', '241487', 'drayesha4', 'indiakomuntorjawabdo', 'indian', 'ki', '78', 'x1386', 'da', 'mtvsummerstar', 'videoveranomtv', 'mtvhottest', 'britney', 'spear', 'lana', 'del', 'rey', 'stony', 'jackson', 'hope', 'felon', 'satan', 'wwi', 'wwii', 'japanese', 'navy', 'military', 'japan', 'leather', 'war', 'mido', '72', '7beyonce', '66', '6beyonce', 'appoints', 'brig', 'gen', 'richard', 'kaiser', 'mississippi', 'commission', 'learn', 'mrc', 'ap', 'violent', 'involved', 'control', 'killing', 'x1434', 'jewish', 'terrorist', 'charged', 'historicchurch', 'arson', 'ugly', 'truth', 'spokane', 'authority', 'struggling', 'solve', 'hamilton', 'attend', 'organized', 'protesting', 'add', 'familia', 'squad', 'fake', 'crime', 'lesbian', 'burn', 'linked', 'caught', 'northern', 'newsintweets', 'mourning', 'notice', 'stabbing', 'stir', 'grief', 'sound', 'chicagoarea', 'gay', 'admits', 'scheme', 'lgbt', 'trial', 'burglary', 'palestinian', 'crack', 'amid', 'protest', 'kisii', 'hunt', 'failed', 'plot', 'countynews', 'mariah', 'thick', 'shoulder', 'shira', 'banki', 'relaxinpr', 'miprv', 'latimes', 'prayed', 'treated', 'huffpostrelig', 'theadvocatemag', 'saynae', 'tennessee', 'faked', 'destroyed', '301dc', 'cloudygoldrush', 'white', 'mc', 'impressed', 'arsonistmusic', 'alleged', 'east', 'bay', 'serial', 'arrested', 'safyuan', 'minor', 'citation', 'possesion', 'decriminalized', 'substance', 'facing', 'suspected', 'calif', 'localarsonist', 'diamorfiend', 'legal', 'system', 'forgets', 'casperrmg', 'dick', 'bloorossington', 'mattress', 'northumberland', 'cbcto', 'wheres', 'anything', 'nice', 'sit', 'vegetarian', 'vegan', 'torching', 'popular', 'bk', 'restaurant', 'strictly', 'govegan', 'uniteblue', 'headline', 'nightbeat', 'veronicadlcruz', '2minutemix', 'capture', 'removing', 'american', 'beach', 'ca', 'burning', 'sought', '58hif', 'trick', 'nasty', 'spotlight', 'paradise', 'wniagospel', 'town', 'salem', 'melted', 'cube', 'blamed', 'blaze', 'plastic', 'recycling', 'business', 'adelaide', 'pcaldicott7', 'report', '7newsadl', 'hotboy', 'zodiac', 'trey', 'dupree', 'produced', 'sparkz', 'beatz', 'chuck', 'lmfao', 'sanfrancisco', 'doofus', 'jokin', 'move', 'newyork', 'slimebeast', 'bestcomedyvine', 'cracking', 'fuck', 'drink', 'green', 'mink', 'court', 'earl', 'lmao', 'real', 'frank', 'elliott', 'pleaded', 'guilty', 'hiring', 'trusting', 'terrorism', 'inviting', 'brigade', 'telegraph', 'big', 'true', 'story', 'missing', 'stay', 'vigilent', 'civil', 'liberty', 'constant', 'nativehuman', 'myreligion', 'credit', 'pfannebeckers', 'inspiring', 'rediscover', 'fantabulous', 'tbt', 'nashville', 'theater', 'gun', 'grabber', 'demand', 'hatchet', 'terror', 'post', 'udhampur', 'demi', 'stans', '56', 'million', 'copy', 'scare', 'nuclear', 'knowing', 'isil', 'claim', 'suicide', 'bombing', 'saudi', 'mosque', 'dattomm', 'funniest', 'twitter', 'feminist', '4head', 'horrific', 'muslim', 'italy', 'liveleak', '93', 'blast', 'accused', 'yeda', 'yakub', 'karachi', 'mumbai', 'etribune', '4suspected', 'militant', 'waziristan', 'acebreakingnews', 'psychological', 'spos', 'injured', 'livemint', 'allthenews', 'obama', 'gave', 'weapon', 'texas', 'delhi', 'provide', 'acid', 'private', 'darkreading', 'smb', 'relay', 'steal', 'user', 'credential', 'internet', 'israeli', 'force', 'raid', 'palestine', 'goat', 'worry', 'rocket', 'okay', 'lie', 'senior', 'diamond', 'graveyard', 'shift', 'defend', 'handside', 'idiot', 'volleyball', 'ii', 'machine', 'simulation', 'notleys', 'tactful', 'yet', 'direct', 'response', 'harper', 'yeah', 'premier', 'ableg', 'cdnpoli', 'assailant', 'theatre', 'homeless', 'caixxum5sos', 'damn', 'india', 'shud', 'evidence', 'pakthey', 'attackshare', 'oth', 'contries', 'illegal', 'released', 'obamadhs', 'rape', 'maria', 'prior', 'offense', 'strongly', 'condemn', 'ary', 'team', 'cowardly', 'act', 'simply', 'trying', 'atomic', 'bomb', 'fat', 'mentality', 'blazerfan', 'ignoranceshe', 'latinoand', 'benothing', 'morebut', 'group', 'gop', 'prevention', 'secondhand', 'daytonarea', 'cyber', 'vita', 'yay', '2016', 'infowars', 'nwo', 'anxiety', 'attacked', 'pugprobs', 'gunfight', 'envw98', 'nickcocofree', 'juliedicaro', 'jdabe80', 'frail', 'messeymetoo', 'feeling', 'ci', 'female', 'somehow', 'offended', 'transgendered', 'medium', 'civilian', 'gaza', 'completed', 'exercise', 'greece', 'temple', 'mount', 'waving', 'pamela', 'geller', 'pt', 'unit', 'responsible', 'targeting', 'scholar', 'imprisoning', 'youth', 'telnet', '1241317240', 'streamyxhomesouthern', 'remember', 'patrick', 'kane', 'cab', 'ik', 'troll', 'pol', 'rival', 'literally', 'abused', 'abuse', 'loosers', 'worst', 'person', 'questioning', 'empathy', 'kelly', 'osbourne', 'racist', 'donald', 'trump', 'remark', 'latino', 'view', 'eunicenjoki', 'aiii', 'chill', 'answer', 'calmly', 'robotlvl', 'earned', '6615434', 'satoshis', 'robotcoingame', 'bitcoin', 'freebitcoin', 'christinalavv', 'lindsaywynn3', 'tweet', 'program', 'flew', 'uranium', 'mine', 'fukushima', 'digging', 'mageavexis', 'welovela', 'nhlducks', 'avalanche', 'defense', 'louis', 'sportsroadhouse', 'kalle', 'mattson', 'reebok', 'tshirt', 'xl', 'cotton', 'nhl', 'hockey', 'tix', '103', 'frozen', 'fury', 'xvii', 'king', 'rowaa', 'mgm', 'grand', 'bet', 'box', 'piece', 'wrote', 'design', 'appreciate', 'greatly', 'checked', 'roy', '199899', 'upper', 'deck', 'spx', '171', 'finite', '1620', 'made', 'mint', 'musician', 'recreates', '34', 'classic', 'album', 'cover', 'clever', 'music', 'beautiful', 'sweet', 'faith', 'akito', 'rose', 'frothy', 'gyp', 'weddinghour', 'calgary', 'flame', 'col', 'preseason', '929', 'scotiabank', 'saddledome', 'catechize', 'inner', 'confidential', 'communication', 'respect', 'creating', 'worth', 'len', 'fall', 'leaf', 'poplar', 'fully', 'ordained', 'tumbling', 'spurgeon', 'punk', 'band', 'original', 'ghostoftheav', 'montroseband', 'performance', 'chip', 'fuelgas', 'saver', 'chevy', 'tahoeblazeravalanches10', 'driving', 'tank', 'sniping', 'chevrolet', 'ltz', 'lifted', '4x4', 'favorite', 'chiasson', 'sen', 'deal', 'coloradoavalanche', 'rudd', 'emile', 'hirsch', 'gordon', 'prince', 'qa', 'filmmaker', 'google', 'entretenimento', 'purchase', 'neal', 'rigga', 'shirt', 'bigperm28', 'drafted', '124', 'overall', 'utahgrizz', 'rapper', 'song', 'funkflex', 'yo', 'flex', 'believing', 'wide', 'awake', 'jersey', 'bts', 'kallemattsons', 'incredible', 'nowplay', 'listen', 'lt', '53', 'wd', 'pickup', 'premium', 'snowflake', 'star', 'power', 'jedi', 'battle', 'droid', 'hasbro', 'general', 'bull', 'colonel', '2nd', 'hampshire', 'letter', 'signed', 'dragon', 'z', 'rotten', 'tomato', 'rottentomatoes', 'added', 'playlist', 'assistant', 'bat', 'chat', 'arti', 'kaboom', 'ya', 'clip', '4kus', '15moferadio', 'heavybag201', 'battledom', 'qotring', 'battlerapchris', 'hughes1128', 'baaaack', 'petersens', 'bowhunting', 'bow', 'sure', 'cast', 'tb', 'throwback', 'kelby', 'tomlinson', 'mildmannered', 'baseman', 'metropolitan', 'neverending', 'rbi', 'sfgiants', 'space', 'occurred', 'm27329', 'fleet', 'totaling', '1236', '7', 'taken', 'trailer', 'ripped', 'hole', 'saturn', 'eytay', 'neur0sis', 'animation', 'happens', 'cbsbigbrother', 'du19', 'rap', 'internal', 'external', 'motivation', 'item', 'phantasmal', 'cummerbund', 'warcraft', 'young', 'german', 'stormtrooper', 'engaged', 'somme', '1916', '800', '582', 'marvel', 'dc', 'avenger', 'utahcanary', 'sigh', 'sexydragonmagic', 'realization', 'attention', 'span', 'mass', 'painting', 'playing', 'detroitpls', 'interested', 'o784', '4103', '50', 'lonepine', 'remembered', 'australia', 'descendant', '666canberra', 'gallipoli', 'miss', 'gary', 'buseys', 'son', 'dixie', 'electronic', 'fiddle', 'postbattle', 'celebration', 'sequence', 'fedex', 'longer', 'transport', 'bioterror', 'germ', 'anthrax', 'lab', 'mishap', 'usatoday', 'pathogen', 'jacksonville', 'busines', 'shipping', 'potential', 'aphl', 'responds', 'tcot', 'transporting', 'certain', 'research', 'atlbizchron', 'frontpage', 'faced', 'sanction', 'rickperry', 'doesnt', 'cut', 'foxnews', 'gopdebate', 'amp', 'commerce', 'subcommittee', 'hold', '728', 'hearing', 'cdc', 'oversight', 'htt', 'willing', 'specimen', 'apple', 'mobile', 'alisonannyoung', 'exclusive', 'hmmthis', 'problem', 'researcher', 'select', 'agent', 'corp', 'nyse', 'fdx', 'deliver', 'package', 'atlanta', 'chronicle', 'microbe', 'orchardalley', 'manufactured', 'fear', 'repression', 'abcnorio', 'garden', 'jax', 'biz', 'journal', 'foxnew', 'breakingnews', 'bioter', 'trucking', 'wxiatv', 'scoopit', 'biolab', 'concern', 'facility', 'dumbfounded', 'action', 'bioterrorism', 'sir', 'fema', 'region', 'iii', 'targeted', 'nasa', 'launch', 'lithium', 'carry', 'extensive', 'handling', 'procedure', 'firepower', 'resource', 'automation', 'infectious', 'cagov', '90blks8whts', 'colluded', 'wht', 'f', 'usagov', 'auth', 'hostage2', 'blk', 'wbioterrorismuse', 'lglorg', 'idis', 'hersvp', 'darrellissa', 'keep', 'tale', 'pox', 'virus', 'infectiousdiseases', 'public', 'health', 'superbug', 'biolabs', 'epidemic', 'biosurveillance', 'outbreak', 'homeland', 'security', 'wire', 'creation', 'ai', 'workforce', 'contact', 'wealth', 'inequality', 'yea', 'cia', 'hollywood', 'horowitz', 'vaccine', 'omagazine', 'daughter', 'warrior', '50ft', 'aka', 'transgender', 'fold', 'extra', 'drrichardbesser', 'yes', 'college', '8892', 'difficult', 'dispersed', 'volunteer', 'needed', 'participate', 'preparedness', 'drill', 'simulating', 'hvnewsnetwork', 'meyerbjoern', 'thelonevirologi', 'mackayim', 'newspaper', 'running', '2n', 'pretty', 'list', 'concerned', 'gm', 'organism', 'scientist', 'hhs', 'selects', 'regional', 'special', 'ebola', 'stationcdrkelly', 'sys', 'hostage', 'clergyforced', 'exist', 'youngergrossly', 'disfigured', 'bioterrorismap', 'possibility', 'mystery', 'suck', 'describing', 'future', 'therapy', 'technology', 'sexuality', 'diagnosis', 'digitalhealth', 'hcsm', 'aphiabeta1907', 'wugliness', 'uglyamesocialaction', 'frat', 'bioterrorismim', 'fbi', 'tolewantg', 'homeabc', 'howardu', 'cspanwj', 'onufrance', '7475', 'rockefellerchirockefellerunivheiress', 'evade', 'lgl', 'prosecute', 'blks', 'harvardu', 'kidnapgafp', 'irandeal', 'activity', 'broken', '27', 'agreement', 'threat', 'cdcgov', 'allay', 'glanders', 'ahead', 'rio', 'olympic', 'equestrian', 'test', 'event', 'horsetalknz', 'kaotixblaze', 'craving', 'pool', 'raisinfingers', 'looking', 'hammond', 'listing', 'amazin', 'dey', 'wan', 'dedication', 'shayoly', 'virtual', 'tour', '547', 'fir', 'cannon', 'listed', 'dorrie', 'caruana', 'pendleton', 'base', 'horno', 'djryanwolf', 'djcoreygrand', 'djknyce', 'djoneplustwo', 'officialcoredjs', 'cleveland', 'standup', 'iamtonyneal', 'living', 'apt', 'balcony', 'bellalinn', 'alrighty', 'jay', 'dutch', 'slave', 'trade', 'hair', 'poverty', 'fade', 'weekend', 'loss', 'nearly', 'weekold', 'rage', 'firefighter', 'battling', 'cary', 'condo', 'hating', 'audacityjamesta', 'babe', 'youll', 'lan', 'iamrrsb', 'skywars', 'que', 'hack', 'e', 'flechadas', 'sinistras', 'dems', 'covered', 'agochicago', 'detained', 'interrogation', 'ugh', 'put', 'calorie', 'pizza', 'thisispublichealth', 'pic', 'fort', 'jackass', 'stuffin', 'writing', 'computer', 'beautifuljuic1', 'letting', 'babysweet420', 'mad', '420', 'guiltygearxxacp', 'drew', 'socialmedia', 'facebook', 'page', 'feature', 'seek', 'personalize', 'customer', 'experience', 'djjohnblaze', 'shout', 'hottest', 'dj', 'sothwest', 'farm', 'christycroley', 'vela', 'uabstephenlong', 'courtlizcamp', 'fail', 'mixtape', 'promise', 'goin', 'itzsteven', 'xdojjjj', 'whopperjr760', 'huh', 'leo', 'bedroom', 'bath', 'sale', 'palm', 'acee', 'daem', 'smooth', 'asf', 'c', 'artisteoftheweekfact', 'coast2coastdjs', 'agree', 'crystalblaz', 'jiwonle', 'hiphop', 'clubbanger', 'bright', 'blazing', 'fireman', 'party', 'wedding', 'vibez', 'listenlive', 'montgomery', 'weatherstay', 'std', 'rejected', 'slogan', 'transcendblazing', 'trail', 'diversified', 'marketing', 'morgan', 'silver', 'dollar', '1880', 'gem', 'bu', 'dmpl', 'cameo', 'rev', 'm', 'grade', 'bowl', 'danryckert', 'drewscanlon', 'stealth', 'skill', 'nothing', 'silenced', 'm4', 'pacquiao', 'marquez', 'unfilled', 'swarm', 'online', 'durvod', 'turn', 'stoponesounds', 'airwave', '1079', 'fm', 'stickynyc', '95roots', 'baseballquotes1', '32', 'inch', 'dynasty', 'master', 'hinatobot', 'blazingben', 'pattyds50', 'gwfrazee', 'joshuaassaraf', 'expect', 'shouout', 'kasad1lla', 'vocal', 's3xleak', 'ph0tos', '19yrs', 'old', 'ashwo', 'lady', 'festac', 'delta', 'exp0sed', 'bbm', 'leaked', 'picture', 'oh', 'racing', 'temperature', 'roof', 'fifth', 'harmony', 'omgbethersss', 'bethanymota', 'dmac1043', 'spanish', 'word', 'latin', 'origin', 'meaning', 'reddish', 'colored', 'dummy', 'pronouncing', 'freezing', 'cold', 'enough', '95', 'degree', 'midday', 'sun', 'rn', 'bekahw', 'sweat', 'bullet', 'beating', 'acousticmaloley', 'officialtjonez', 'fam', 'beyond', 'blessed', 'dude', 'fantasy', 'escort', 'gfe', 'dubai', 'srajapakse', 'missy', 'suited', 'summertime', 'yeehaw', 'asukager', 'magical', 'bag', 'elwoods', 'blazingelwoods', 'bother', 'dougs', 'tune', '1921', 'ch', 'pl', 'satin', 'rare', 'proof', 'etisalat', 'mb', 'complete', 'giving', '100mb', 'tecno', 'q1', 'ime', 'funkylilshack', 'mariaf30', 'bitch', 'slapping', 'cake', 'throwing', 'showdown', 'follow', 'edwelchmusic', 'unpacked', 'physical', 'archetype', 'bleeding', 'wellgrounded', 'readiness', 'fpoj', 'threw', 'chicken', 'nugget', 'slit', 'throat', 'apologize', 'joe', 'landolina', 'gel', 'realestate', 'nose', 'typewriter', 'written', 'bunch', 'gunk', 'jaydennotjared', 'text', 'sending', 'hug', 'allowed', 'stab', 'apparently', 'fine', 'walking', 'eating', 'takis', 'rubbing', 'tear', 'darrylb1979', 'thatnot', '2017', '2019', 'vampiro', 'coreyashe', 'foot', 'toe', 'kingnaruto', 'madara', 'stepped', 'glass', 'pun', 'tak', 'sedar', 'pain', 'ear', 'waited', '25', 'cute', 'dinner', 'til', 'cam', 'uptownjorge', 'silence', 'safer', 'violence', 'jannet2208', 'fell', 'concrete', 'katramsland', 'liberal', 'deadpool', 'favourite', 'character', 'suit', 'beckyfeigin', 'defs', 'sodamntrue', 'wannabe', 'artist', 'chaosmagician97', 'burberryant', 'brain', 'soccer', 'tammyw1997', 'elijahmallari', 'apartment', 'coloiccarnality', 'instinct', 'kicked', 'scratch', 'stefano', 'benjm1', 'tourofutah', 'b1grego', 'pileup', 'rave', 'wise', 'te', 'damnaarielle', 'timeline', 'blew', 'mfalcon21', 'oomf', 'instagrams', 'active', 'b24fowler', 'line', 'instagram', 'featured', 'jazz', 'usagi', 'entire', 'solar', 'airhead', 'misstep', 'benkin97', 'mili5499', 'probs', 'cup', 'receipt', 'gtfo', 'desperate', 'hopeinhearts', 'notification', 'encouraging', 'hw18', '90100', 'keeping', 'pulled', 'told', 'lolol', '2fast2furious', 'universe', 'max', 'tf', 'fired', 'catfishmtv', 'rick', 'morty', 'codythompson25', 'ty', 'realized', 'onlyftf', 'tusky', 'robsimss', 'cantmisskid', 'rq', 'snapchat', 'gambit', 'anakin', 'wbc2015', 'iphooey', 'ironically', 'michele', 'bachmann', 'brought', 'wron', 'hoax', 'catfish', 'retweeted', 'whistled', 'wind', 'skirt', '1st', 'imawesome7986', 'freya', 'everywhere', 'yahooschwab', 'ray', 'rice', 'fiascothat', 'skin', 'talking', 'watched', 'honey', 'economy', 'recommend', 'conservative', 'shoppe', 'harperanetflixshow', 'elxn42', 'stopharper', 'fireball', 'falling', 'ye', 'sean', 'zayn', 'weloverobdyrdek', 'adrianpeel', 'clue', 'daorcey', 'nsit', 'pair', 'graywardens', 'blight', 'damidnighter', 'theory', 'magisters', 'arent', 'dwarf', 'cycling', 'athletics', 'doping', 'exacerbated', 'monetary', 'reward', 'searching', 'required', 'kynespeace', 'jack', 'realhotcullen', 'wed', 'deep', 'lyrium', 'aint', 'load', 'welfare', 'loving', 'spongea', 'society', 'prysmian', 'secures', 'contract', 'bank', 'height', 'shaker', 'toddcalfee', 'mattburgener', 'info', 'carl', 'everest', 'cobes', 'whitt', 'frost', 'snuff', 'godly', 'beer', 'someday', 'thda', 'antiblight', 'loan', 'memphis', 'greenspace', 'housing', 'development', 'demetae12', 'release', 'planing', 'level', 'constellation', 'gaia', 'iclowns', 'drumstep', 'remix', '2iclown', 'infinity', 'achieve', 'excellence', 'develop', 'matter', 'author', 'hendy21', 'purdies', 'tracy', 'apperception', 'bridgework', 'xxhjesc', 'dotish', 'sexual', 'revolutionblight', 'acebabes', 'healthweekly1', 'amateurnester', 'swear', 'uncover', 'slumber', 'willhillbet', 'result', 'app', 'parksboardfacts', 'zippoline', 'community', 'moveit', 'policy', 'ohio', 'cle', 'cuyahoga', 'greening', 'vacant', 'land', 'anellatulip', 'taint', 'open', 'gate', 'actual', 'refugee', 'tragedy', 'shame', 'article', 'jackman', 'metro', 'detroit', 'downgraded', 'estimate', '37', 'square', 'locksmithingart', 'respecting', 'elaboration', 'lock', 'lpdkl', 'jakeblight', 'wealilknowa', 'cunt', '5000', 'ranked', 'card', 'amazon', 'buy', 'print', 'available', 'blizzard', 'blizzarddraco', 'art', 'kamon', 'stevenontwatter', 'pussyxdestroyer', 'pay', 'nut', 'flavored', 'cream', 'auz', 'cst', 'radioriffrocks', 'hr', 'rock', 'hump', 'rolo', 'dq', 'ashayo', 'msmiggi', 'hi', 'vods', 'presentation', 'tweet4taiji', 'dolphin', 'worship', 'superstition', 'blizzardfans', 'lucio', 'overwatch', 'rolling', 'caution', 'though', 'break', 'blizzardgamin', 'ight', 'peanut', 'butter', 'cookie', 'dough', 'mic', 'controller', 'announcement', 'updated', 'expansion', 'idea', 'bard', 'holy', 'trinity', 'daborsch', 'shocking', 'lured', 'fanbase', 'wod', 'disappointed', 'hardcore', 'everyones', 'leaving', 'candy', 'lizard', 'wizard', 'lwb', 'lonewolffur', 'fairx818x', 'playoverwatch', 'blizzardcs', 'clutch', 'link', 'bubblycuteone', 'okayyyyyy', 'ima', 'bout', 'tho', 'tora', 'hearthstone', 'pc', 'tcgreno', 'reset', 'brownie', 'batter', 'activision', 'cognizant', 'sg', 'knockout', 'biggest', 'regret', 'walk', 'butterfinger', 'dryer', 'snowy', 'paper', 'jean', 'pocket', 'bruh', 'chiefcg', 'nah', 'cook', 'gone', 'wall', 'invincible', 'floor', 'broke', 'nailreal', 'morning', 'ah', 'hurt', 'treat', '45', '290', 'reviewer', 'boxset', 'lindsay', 'buroker', 'kindle', 'associated', 'gastric', 'carcinoma', 'bookanother', 'fragile', 'gene', 'beside', 'wounded', 'tattoo', 'donate', 'dialysis', 'grandpa', 'headed', 'setzorah', 'smh', 'omron', 'hem712c', 'pressure', 'monitor', 'standard', 'large', 'bp', 'cuff', 'chamberedblood', 'speakingfromexperience', 'mid', 'stressful', 'decisionsondecisions', 'imouto', 'related', 'ugliest', 'shoe', 'super', 'tight', 'excellent', 'dangerousbeans', 'porridge', 'seriously', 'phenomenal', 'scotto519', 'shii', 'intended', 'hoe', 'hastle', 'drug', 'tested', 'drown', 'document', 'filling', 'somebody', 'ta', 'sbee', 'fuckin', 'gypsy', 'loboparanoico', 'thirsty', 'nightsad', 'rockn', 'roll', 'rolandonabeats', 'ellie', 'goulding', 'acesse', 'nosso', 'para', 'ouvir', 'olrules', 'chapter', 'encounter', 'jesus', 'anthxvy', 'sethalphaeus', 'personal', 'include', 'paramore', 'muse', 'royal', '5sos', 'shed', 'innocent', 'polluted', 'psalm', '10638', 'sin', 'abortion', 'se', 'pone', 'cantar', 'lightning', 'everwhe', 'everyday', 'looooooooooool', 'infected', 'piercings', 'aggressif', 'aggressive', 'entered', 'butterlondon', 'crayon', 'beram0s', 'enter', 'bbloggers', 'slsandpet', 'sally', 'emailed', 'awol', 'argh', 'resigninshame', 'listening', 'lauradeholanda', 'forrest', '83', 'awful', 'xxx', 'nightmare', 'elm', 'remade', 'sony', 'stephen', 'tower', 'stephenking', 'thedarktower', 'bdisgusting', 'tradcatknight', 'okanowa', 'mainline', 'invasion', 'looked', 'insomnia', 'grrrr', 'zhenghxn', 'akame', 'ga', 'tokyo', 'ghoul', 'dare', 'fantosex', 'amends', 'mary', 'tired', 'vaca', 'mrtophypup', 'sexy', 'drool', 'effect', 'low', 'product', 'acne', 'diarrhea', 'ronda', 'rousey', 'floyd', 'mayweathers', 'money', 'elbow', 'a3', 'landscape', 'oil', 'paint', 'itsmegss', 'barking', 'hello', 'thigh', 'cleav', 'expose', 'cleavage', 'mariasherwood2', 'johnjcampbell', 'mega', 'marvellous', 'sink', 'beet', 'juice', 'melrises', 'gayler1969', 'wwwbigbaldhead', 'jessienojoke', 'melissaross9847', 'monty', 'python', 'meet', 'rs5', 'friday', 'supposed', 'zzzz', 'chxrmingprince', 'jonesluna', 'folding', 'arm', 'sitting', 'chair', 'reafs', 'drama', 'indiansfor', 'smirking', 'remorseless', 'killer', 'boasting', 's01e09', 'monday', 'bloodymonday', 'tvshowtime', 'marlon', 'williams', 'elvis', 'presley', 'steel', 'panther', 'shuffle', 'legend', 'rather', 'shopping', 'ezralevant', 'blown', 'papcrdoll', 's2g', 'deactivate', 'manutd', 'emilymcfcheslop', 'wow', 'club', 'fucked', 'player', 'theyd', 'pilloried', 'greinke', 'inning', 'woke', 'aunt', 'marge', 'eheks', 'troylercraft', 'spammer', 'probably', 'supposedly', 'representing', 'value', 'cgi', 'strike', 'lmfaoooo', 'hasnt', 'machinegunkelly', 'underground', 'thisdayinhistory', '1862', 'confederate', 'crew', 'ur', 'mini', 'uhc', 'creeper', 'flying', 'salty', 'libraryeliza', 'taylorswift13', 'bump', 'approval', 'musicadvisory', 'truckload', 'soldier', 'panic', 'loses', 'mind', 'kashs', 'foundation', 'magazine', 'website', 'todd', 'blake', 'kaylak369', 'ee', 'shop', 'glad', 'half', 'extension', 'theboyofmasks', 'manor', 'anyways', 'buddy', 'loner', 'diary', 'pattern', 'sand', 'choked', 'bsg', 'sufficiently', 'hyped', 'delayed', 'watching', 'utterly', 'vanessa', 'gentlementhe', 'bb17', 'guaranteed', 'bitten', 'mutant', 'mosquito', 'ankle', 'tozlet', 'seat', 'butt', 'leprosy', 'fullblown', 'jerkface', 'syndrome', 'lateral', 'lisp', 'toilet', 'rickets', 'kalinandmyles', 'kalinwhite', 'hacker', 'givebackkalinwhiteaccount', 'lukewinkie', 'whoever', 'directing', 'grab', 'nicki', 'minaj', 'recognition', 'princessduck', '6th', 'james', 'orbette', 'amirite', 'kennel', 'yorkshire', 'espn2', 'hopefulbatgirl', 'beaten', 'ra', 'al', 'ghul', 'escaped', 'thebriankrause', 'as', 'metaphorically', 'piperwearsthepants', 'charmed', 'anarchicteapot', 'boironusa', 'zeno001', 'glononium', '6c', 'bashing', 'bottle', 'nitroglycerin', 'tote', 'handbag', 'cross', 'faux', 'fashion', 'purse', 'republican', 'questergirl', 'ditto', 'drank', 'vodka', 'genuine', 'mulberry', 'antony', 'messenger', 'oak', 'soft', 'buffalo', '27900end', 'vuitton', 'monogram', 'sophie', 'limited', 'edition', 'cultsierre', 'ameribag', 'healthy', 'backpack', 'khaki', 'tan', 'beige', 'cosmetic', 'periwinkle', 'copper', 'piping', 'along', 'corner', 'thin', 'hip', 'hobo', 'trjdavis', 'cage', 'find', 'dealing', 'saumur', '35', '723', '4193', 'vintage', 'longaberger', 'floral', 'strap', 'satchel', 'zipped', 'style', 'authentic', 'pochette', 'bosphore', 'coach', 'camera', '9973', '1699', '0', 'bid', 'fit', 'ipad', 'tablet', 'jp', 'nuu', 'fwt', 'rhee1975', 'deliciousvomit', 'saying', 'mattbez', 'bagging', 'bangin', 'ohmyloz', 'rondarousey', 'smoking', 'drake', 'meek', 'fuckyeahcarey', 'bornverified', 'tea', 'meekmill', 'league', 'trollingtilmeekdiss', 'idgaf', 'tough', 'philly', 'acting', 'yankee', 'broseidonrex', 'dapurplesharpie', 'skimmed', 'missed', 'lyrically', 'bomairinge', 'elutranscendent', 'straight', '22', 'friendship', 'mics', 'together', 'mopheme', 'bigstar', 'johnson', 'vuzuhustle', 'today4got', 'score', 'editaxohaze', 'cuffed', 'shouldnt', 'ovofest', 'ovo', 'ziphimup', 'enjoy', 'bodybagging', 'amaramin3', 'definitely', 'capable', 'br', 'wwe', '2k15', 'mycareer', 'ep18', 'tyrone', 'sensitive', 'spot', 'ghostwriter', 'dis', 'flow', 'mark', 'mill', 'patient', 'meanwhile', 'hush', 'hushhes', 'mzgraciebaby', 'record', 'jumpin', 'officialrealrap', 'file', 'bagged', 'dlac', 'kept', 'hop', 'beef', 'spit', 'lay', 'im2ad', 'macdaddyleo', 'caption', 'freshman', 'stacey', 'aubrey', 'grocery', 'aching', 'slikrickdarula', 'jengriffinfnc', 'dangerous', 'arrival', 'micom', 'contrast', 'color', 'bowknot', 'womengirls', 'zip', 'po', 'convertible', '23800', 'bestseller', 'pvc', 'cartoon', 'buckle', 'casual', 'stylish', 'fossil', 'dawson', '9800', 'boomerangtime', 'rskarim1', 'sopameer', 'wattashit3', 'appears', 'arriving', 'ridah', '08072015', '0730', 'tremont', 'hall', 'charlotte', 'concert', 'variety', 'pack', 'snack', 'redbull', 'fairfax', 'placed', 'admin', 'probe', 'putting', 'dept', 'rchs', 'football', 'coffin', 'locker', 'room', 'tommorow', 'flower', 'printed', 'chain', 'small', 'zipper', 'deeeznvtzzz', 'institute', 'chairman', 'russian', 'va', 'administrative', 'scottwalker', 'send', 'middle', 'typical', 'baskgod', 'giant', 'sized', 'garbage', 'laterim', 'moving2k15', 'expertwhiner', 'cutekitten', 'catsofinstagram', 'summerinsweden', 'katt', 'katterpinstagram', 'dumle', 'dagens', 'handle', 'lattice', 'studded', 'colour', 'takin', 'bigger', 'congress', 'drinking', 'limpar33', 'sweeping', 'leg', 'shoot', 'heal', 'smile', 'geometric', 'gasparc', 'designer', 'qualit', 'buying', 'asymbina', 'tithenai', 'hampered', 'liking', 'crossbody', 'ella', 'vickers', 'washable', 'zicac', 'briefcase', 'investigating', 'washington', 'canvas', 'waist', 'solid', 'coffee', 'positive', 'norge2040', 'beforeitsnews', 'derivative', 'quadrillion', 'theaf', 'atom', 'firework', 'hiroshima', 'prepares', 'dropped', 'guardian', 'legacy', 'editorial', 'longs', 'namjoons', 'fantastic', 'bye', 'halsey', 'troye', 'collab', 'aaronthefm', 'anyway', 'cranboonitz', 'hereticofethics', 'dylanmcclure55', 'zumiez', 'location', 'pointing', 'jen', 'daniglasgow45', 'smallforestelf', 'umm', 'gunman', 'carrying', 'danielsahyounie', 'itd', 'enolagay', 'board', 'disarmed', 'dopeitsval', 'ahh', 'baby', 'mail', 'praiz8', 'known', 'dat', '2008', 'pray', 'fragrance', 'concept', 'enemy', 'bathe', 'carajdeievingnc', 'impact', 'ratio', 'kyle', 'j', 'swellyjetevo', 'disneyland', 'taco', 'flat', 'flavafraz21', 'whatcanthedo', 'thursday', '70year', 'anniversary', 'appropriate', 'jamaican', 'hatchetwielding', 'pepper', 'spray', 'oops', 'okinawan', 'coast', '1965', 'lyrical', 'amazing', 'vocalist', 'themalemadonna', 'melanie', 'fiona', 'slept', 'ehutch', 'rocking', 'joeybats19', 'bombed', 'rogers', 'centre', 'playoff', 'bluejays', 'bell', 'moseby', 'barfield', 'stankyboy88', 'shouldve', 'sweetiebirks', 'mirrorlady2', 'slatukip', 'invadedbombed', 'aside', 'libya', 'africa', 'bombedout', 'myfriendmina', 'screenshot', 'islamic', 'syria', 'turkey', 'armed', 'targe', 'cyhitheprynce', 'kanye', 'elephantintheroom', 'majority', 'ground', 'jet', 'main', 'dramatically', 'plummeted', 'abombed', 'therein', '200000', 'forget', 'repeat', 'turkish', 'village', 'zergele', 'qendil', 'nicklee8', 'london3', 'bathroom', 'loo', 'yr', 'qpr1980', 'rorington95', 'nowt', 'fergie', 'drinker', 'within', 'wenger', 'third', 'generation', 'exhibition', '1100', '1800', 'oooureli', 'abubaraa1', 'tolerance', 'sharing', 'democracy', 'iraqi', 'mutilated', 'brodyfrieling', 'hannabrooksie', 'shadowflame', 'wraith', 'whitehouse', 'co', 'germany', 'invaded', 'poland', 'pearl', 'harbor', 'preemptive', 'cheetosarabia', 'crude', 'cheetos', 'christopherszen', 'hunterlove1995', 'tblack', 'raniakhalek', 'uncle', 'hopefully', 'afghanistan', 'kurtschlichter', 'falphil', 'compassion', 'specific', 'traditional', 'sexist', 'nagasaki', 'forever', 'bannukes', 'recover', 'according', 'rlauren83199', 'xojademarie124', 'batista', 'lauren', 'vagersedolla', 'visit', 'recently', 'fed', 'pkk', 'antpips67', 'johnejefferson', 'obviously', 'fleeing', 'redskin', 'wr', 'bellybombed', 'teamstream', 'pas', 'lax', 'benedict', 'cumberbatch', '120000', 'gif', 'africansinsf', 'beyondgps', 'background', 'floatin', 'ri', 'worse', 'hurricane', 'city3others', 'hardest', 'yard', '20000k', 'wasp', 'dive', 'misfitrarity', 'misfit', 'daesh', 'voltaire', 'network', 'cryptic', 'guided', 'mission', '70th', 'schedule', 'visited', 'humbled', 'november', 'moscowghost', 'sayedridha', 'aminakh', 'congratulation', 'capturing', 'besieged', 'indiscriminate', 'claiming', 'moral', 'banthebomb', 'setting4success', 'toll', 'smallbusiness', 'entrepreneur', 'nbcnews', 'pearlharbor', 'marked', 'rinkydnk2', 'zaibatsunews', 'neoprogressive1', 'push2left', 'talkecologyhuman', 'rtsdemocracy', 'afghetcleft', 'humanitarian', 'justified', 'hindustan', 'snapharmony', 'sanitised', 'narrative', 'kinder', 'bill', 'clinton', 'nato', 'tolled', 'generalnews', 'marshall', 'dambisa', 'moyo', 'prosyn', 'oped', 'ameenshaikh3', 'logic', 'bridge', 'sanjaynirupam', 'sureshprabhu', 'ash', 'unfolded', 'trent', 'cricket', 'sioux', 'cement', 'siouxland', 'siouxlan', 'england', 'bundled', '60', 'central', 'relationship', 'btwn', 'kansa', 'hyatt', 'aias', 'cote', 'huffpostarts', 'reminds', 'caribbean', '90', 'kosher', 'injures', 'five', 'jewishpress', 'natural', 'calamity', 'manmade', 'mpp', 'lambasts', 'kanglaonline', 'crane', 'holding', 'nearby', 'icymi', 'reacted', 'warne', 'shocked', 'epic', 'johannesburg', 'aug', '06', 'ani', 'legendary', 'australian', 'bloopandablast', 'throw', 'parade', 'fox', 'traintragedy', 'mp', 'distance', 'blower', 'tuffers', 'aussie', 'batting', 'bbctms', 'stuff', 'engvaus', 'gadget', 'slingnews', 'followlasg', 'urgentthere', 'currently', 'storey', 'bstop', 'oworoshoki', 'mainland', 'likely', 'construction', 'killsone', 'restoring', 'alphen', 'aan', 'den', 'rijn', 'rescuer', 'leicestermerc', 'upgrade', 'infrastructure', 'situation', 'sustainability', 'sureshpprabhu', 'lying', 'sonofliberty357', 'illuminated', 'brightly', 'gemini', 'mmmmmm', 'oooooohhhh', 'oooh', 'ooh', 'dougmartin17', 'ed', 'doug', 'deserves', 'themagickidraps', 'upset', 'executing', 'etc', 'kou', 'cash', 'register', 'minimehh', 'cjoyner', 'overlooking', 'blacklivesmatter', 'fewmoretweets', 'stealing', 'neighbor', 'greatest', 'boxer', 'outta', 'whatevs', 'mentally', 'preparing', 'rocky', 'threatening', '7000', 'largest', '9newsmornings', 'messi', 'ronaldo', 'skip', 'basic', 'maintenance', '1acd4900c1424d1', 'rioting', 'looting', 'joshcorman', 'infosec', 'often', 'western', 'uganda', 'strikesstrikes', 'lit', 'pledge', 'allegiance', 'pope', 'doctorfluxx', 'stefanejones', 'spinnellii', 'themermacorn', 'riot', 'embarrassing', 'ruining', 'losing', 'disgusting', 'bradford', 'weep', 'leeds', 'epcotexplorer', 'jealous', 'ransacked', 'awesomeeeeeeee', 'zourryart', 'forgot', 'sinking', 'object', 'chase', 'weak', 'winston', 'outrage', 'rockbottomradfm', 'challenge', 'rescuing', 'saving', 'soaking', 'tonne', 'alcohol', 'mat', 'gbbo', 'ppfa', 'store', 'witness', 'explode', 'afternoon', 'mikecroninwmur', 'xela', 'struggle', 'equipment', 'grateful', 'dcfd', 'chr3lyc', 'iaff36', 'croydon', 'crowd', 'reef', 'croydonization', 'hazard', 'installation', 'noncompliant', 'cladding', 'greenbuildermag', 'nfpa', 'webinar', 'mitigation', '819', '2pm', 'et', 'firewise', 'michelenfpa', 'blow', 'destroys', 'multiple', 'downtown', 'hinton', 'thestrain', 'ton', '160', 'ross', 'auburn', 'several', 'booty', 'write', 'detector', 'shevlinhixon', 'gansey', 'busting', 'brick', 'seven', 'different', 'architecture', 'tweetlikeitsseptember11th2001', 'dam', 'estate', 'langata', '222pm', 'evacuating', 'confirmation', 'grenade', 'thrown', 'baffle', 'mei', 'sweden', 'prohibits', 'grill', 'highrise', 'insurance', 'aust', 'displaces', 'troy', 'fourth', 'albany', 'ppsellsbabyparts', 'bbcintroducing', 'purpleturtlerdg', 'giantgiantsound', 'rdg', '3alarm', 'nh1news', 'bigsim50', 'pundit', 'mafireems', 'wmur9', 'kcarosawmur', 'wsls', 'tip', 'childcare', 'expensive', 'jennasjems', 'patrickwsls', 'lighting', 'charred', 'remains', 'damaging', 'neighboring', 'threealarm', 'residential', '1943', 'prisoner', 'nazi', 'camp', 'treblinka', 'rebelled', 'seizing', 'displaced', 'tore', 'mht', 'confirm', 'okcfox', 'straighten', 'brother', 'swooping', '300', 'acre', 'drifting', 'temecula', 'glue', 'progress', 'age', 'content', 'sigmund', 'freud', 'hgf52611', 'uh', 'robbie', 'derby', 'redsox', 'popcorn', 'wildlionx3', 'shower', 'flush', 'lining', 'barn', 'moon', 'mizuta', 'cheese', 'klondike', 'alton', 'livestream', 'touched', 'plate', 'joke', 'couch', 'fr', 'runkeeper', 'loseit', 'stevie', 'crusty', 'photoop', '129', 'mph', 'brisk', 'pace', 'myfitnesspal', 'twice', 'tounge', 'pepperoni', 'lifting', 'weight', '43', 'qvc', 'mcdonalds', 'coolest', '202', 'rl', 'boyfriend', 'clothes', 'recorded', 'kennethbauer', 'noodle', 'crap', 'grilled', 'sandwich', 'wish', 'figured', 'joked', 'cubstalk', 'complex', '14028', 'contained', 'thomasvissman22', 'keithyyl', 'keithyy', 'gettin', 'social', 'oven', '500', 'fool', 'coverage', 'allpro', 'material', 'microwave', 'intead', 'dirt', 'bike', 'cutting', 'spark', 'brush', 'sparked', 'landowner', 'yall', 'bug', 'candle', 'cocoa', 'sip', 'nap', 'awesomesauce', 'hermancranston', 'atk', 'letsfootball', 'skanndtyagi', 'wired', '501', 'mandem', 'totteham', 'maddddd', 'dem', 'ting', 'dere', 'aubilenon', 'markkriegsman', 'youd', '8minute', 'fatburning', 'routine', 'weightless', 'burnfat', 'skinny', 'workout', 'bulletproof', 'funeral', 'stacdemon', 'chris', 'mullin', '201516', 'sjubb', 'johnsontionne', 'except', 'idk', 'zionism', 'kanger', 'coil', 'rvaping101', 'huffpostcomedy', 'attendee', 'visible', 'tucson', 'lightningcaused', 'steep', 'terrain', 'neon', 'modest', 'certainly', 'sniff', 'sniiiiiiff', 'er', 'donny', 'returned', 'method', 'integrates', 'format', 'interval', 'muscle', 'shaping', 'techniqu', 'bored', 'desire', 'goal', 'lou', 'holtz', 'uhhhhh', 'demon', 'crusade', 'boat', 'memory', 'web', 'nagelashley', 'vicken52', 'basedlarock', 'goonc1ty', 'rubi', 'stack', 'apply', 'parent', 'michael5sos', 'x', 'counter', 'alexandrian', 'jerry', 'reporter', 'press', 'conference', 'experiencing', 'paying', 'influencers', 'socialtimes', 'minsuwoongs', 'understand', 'ika', 'tuning', 'soup', 'diet', 'recipe', 'recip', 'ticket', 'accidentally', 'lighter', 'planned', 'parenthood', 'demonstration', 'pp', 'mv', 'strutting', 'bg', 'louistomlinson', 'dancing', 'stone', 'atleast', 'individual', 'hear', 'foxnewsvideo', 'aiiamericangiri', 'anhqdc', 'rioter', 'looter', 'forestservice', 'dhsscitech', 'buildingswe', 'tech', 'duckvillelol', 'flip', 'table', 'screw', 'ppl', 'sex', 'be4', 'magic', 'proud', 'attempting', 'delanys', 'dhalgren', 'beastly', 'downing', 'amongst', 'description', 'ruin', 'mofanon', 'retweet', 'saved', 'monster', 'pulling', 'causing', 'ali', 'ran', 'booradleyvancullen', 'pouring', 'port', 'coquitlam', 'storen', 'curing', 'cancer', 'puppy', 'contemplating', 'deserve', 'disrespect', 'destroying', 'meteor', 'crashing', 'striker', 'phalaborwa', 'striking', 'chinese', 'attacking', 'acted', 'flamethrower', 'rendered', 'kitten', 'kshllcenterpri1', 'progress4ohio', 'burnt', 'understood', 'murderer', 'thoroughly', 'express', 'stupid', 'brutality', 'nvr', 'mistreated', 'streetlight', 'bush', 'safe', 'explain', 'volcano', 'spouting', 'co2', 'marcoarment', 'winter', 'sydney', 'ted', 'mitt', 'omfg', 'tiny', 'freaking', 'slashandburn', 'drought', 'fuel', 'jamaicaobserver', 'cnewslive', 'doricreates', 'alhanda', 'seems', 'moonbeam', 'toke', 'blame', 'traumatised', 'appreciativeinquiry', 'hillary', 'standwithpp', 'holiday', 'relax', 'sunbathe', 'spain', 'californian', '28', 'oct', '1895', 'dacherryontop13', 'swimming', 'water', 'scaryeven', 'scarier', 'scotland', 'wet', 'johnfromcranber', 'plea', 'warming', 'catastrophic', 'photographer', 'wolter', 'peeters', 'nsw', 'rural', 'oblivious', 'evacuate', 'affected', 'asap', 'govts', 'advised', 'triumphant', 'egg', 'yolk', 'casualty', 'warfighting', 'robot', 'reduce', 'calling', 'ban', 'premature', 'ieee', 'spectrum', 'attackclose', 'thankful', 'evil', 'rise', 'afghan', 'intensifies', 'sharp', 'libertarianluke', 'honest', 'rampage', 'recordhigh', 'bottling', 'eventually', 'explodes', 'higher', 'countless', 'globe', 'orchestrated', 'disinfo', 'criticalmedia', 'poignant', 'reminder', 'lasvegaslocally', 'vitalvegas', 'reined', 'account', 'fallingoffstool', 'yemen', 'laughing', 'sorrow', 'throwin', 'catwoman1775', 'crazier', 'shooter', 'sutherland', 'pine', 'theleadernews', 'flyopinemonkey', 'followup', 'honshu', 'operation', 'coronet', '1m', 'allied', '30m', 'alcoholandmetal', 'fix', 'trusted', 'reach', 'countermoonbat', 'voodooben', 'purple', 'passed', 'thankfully', 'command', 'confirmed', 'wrap', 'warns', 'pb', 'iraq', 'paved', 'hypocrisy', 'francisunderwood', 'hoc', 'revise', 'scenario', 'iranian', 'tuned', 'idc', 'highest', '2009', 'washingtonpost', 'ftsn', 'ftsnnewsdesk', 'irishspy', 'ally', 'sucked', 'whimsy', 'pertains', 'derailment', 'patna', 'toronto', 'branch', 'surety', 'underwritersenior', 'underwriter', 'course', 'propertycasualty', 'rate', 'movement', 'commercial', 'propertycasu', 'aid', 'grown', 'sanity', 'brings', 'cord', 'sad', 'ocean', 'casualtygray', 'whale', 'population', 'pacific', 'critically', 'endangered', 'thomashcrown', 'grandfather', 'marine', 'prediction', 'quality', 'licensed', 'produc', 'denver', 'become', 'benzema', 'increasingly', 'benitezs', 'arsenal', 'bound', '5050', 'chance', 'gritty', 'amicos', 'tag', 'amicospizzato', 'seeyouatamicos', 'recall', 'sends', 'industry', 'unpredictable', 'disconnected', 'northbayhealth', 'shine', 'multicasualty', 'scriptettesar', 'katiecool447', 'btw', '30th', 'september', '1986', 'avbronstein', 'popehat', 'instapundit', 'telling', 'homealone2', 'film4', 'metric', 'correlate', 'marketwatch', 'independence', 'rowyso', 'setlist', 'calum5sos', 'scasualty', 'greenharvard', 'documenting', '5sosfamupdater', 'canceling', 'warship', 'agrees', 'repay', 'nytimes', 'conning', 'strong', 'portfolio', 'diversification', 'insurer', 'reriellechan', 'lich', 'roleplay', 'willinghearted', 'rpn', 'nuke', 'albeit', 'unsuccessful', 'ten', 'mackinnon08', 'hardstyle', 'messy', 'mix', 'recording', 'mixify', 'stavernise', 'agreed', 'delivered', 'robdelaney', 'catastrophe', 'unable', 'ejaculating', 'appleofficlal', 'migrating', 'iphoto', 'wasted', 'hrsto', 'cultivating', 'joy', 'suffering', 'pjnet', 'tcotccot', 'borrower', 'interest', 'uriminzok', 'puppet', 'republic', 'naemolgo', 'continue', 'firmly', 'yiraneuni', 'failure', 'misfortunebut', 'deb117', '730', 'wanother', 'athlete', 'teacher', 'principle', 'fulfilling', 'clerical', 'duty', 'iphone', 'twist', 'ultimate', 'ov', 'gemmahentsch', 'megynkelly', 'dloesch', 'envision', 'prevent', 'placing', 'adoption', 'peterjukes', 'political', 'committed', 'stylist', 'whod', 'silent', 'prime', 'bless', 'maatmhi', 'diff', 'barry', 'solo', 'generally', 'pro', 'company', 'requiring', 'repair', 'pisces', 'emotional', 'cara', 'mother', 'chucker', 'vmas', 'pixelsmovie', 'burford', 'council', 'field', 'adjuster', 'safeco', 'mutual', 'payday', 'promote', 'finance', 'liqd', 'rated', '810', 'imdb', 'hilarious', 'aiginsurance', 'ceo', 'divestiture', 'temper', 'q2', 'evolve', 'vanilla', 'anymore', 'nar', 'phuket', 'perfectly', 'controlled', 'masochisticmage', 'caused', 'reckless', 'bottom', 'regular', 'rockstar', 'wolf', 'denali', '48', 'savedenaliwolves', 'tweetstorm', 'markargent', 'finished', 'bbc', 'r5live', 'studio', 'discussion', 'sheer', 'herring', 'scraptrident', 'becomes', 'race', 'success', 'frustration', 'vega', 'pieceofme', 'learning', 'eruption', 'benefit', 'weathernetwork', 'acute', 'precedent', 'ptsd', 'follows', 'undetected', 'catastrophicfallenangel', 'reveillertm', 'macabrelolita', 'amino', 'felt', 'invading', 'mistake', 'diplomacy', 'replace', 'newyorker', 'marginoferror', 'custom', 'rom', 'werent', 'manager', 'wearing', 'uniform', 'implication', 'theyll', 'glove', 'destructive', 'volcanic', 'thirtyfive', 'myvintagesoul', 'british', 'manservant', 'pampered', 'wealthy', 'brit', 'reversal', 'apano55', 'jamesmelville', '99', 'deluded', 'senschumer', 'netanyahu', 'religious', 'yorker', 'kessler', 'exponential', 'proliferation', 'satellite', 'gravitymovie', 'excited', '6', 'ensuing', 'debt', 'audio', 'stream', 'assume', 'defendant', 'syringetoanger', 'disagreement', 'occurrence', 'clear', 'hazardous', 'chemical', 'management', 'armory', 'sf', 'chem', 'illinois', 'simulate', 'nu', 'sharethis', 'hazmat', 'weeklong', 'biological', 'radioactive', 'nuclearbiologicalchemical', 'nbc', 'southern', 'md', 'davidcameron', 'upsetting', 'bee', 'savebees', 'krefeld', 'underway', 'reportly', 'collapsed', 'cnnbrk', 'ntvde', 'instead', 'toxic', 'harm', 'spillevacuationsred', 'opening', 'seattle', 'dependency', 'counselor', 'intern', 'respond', 'spill', 'beaumont', 'benews', 'ijetalerts', 'loot', 'pipe', 'gas', 'ricin', 'leak', 'cartel', 'cocaine', 'marijuana', 'heroine', 'kidnap', 'bust', 'alert', 'watersafety', 'pjcoyle', 'included', 'planning', 'plant', 'suppose', 'northwestern', 'term', 'obsessed', 'nueva', 'favorita', 'deezercolombia', 'cleanup', 'liquidation', 'usar2015', 'usar15', 'ruor', 'evanston', 'profithungry', 'laevantine', 'fortunately', 'reworked', 'plumbing', 'draw', 'glitter', 'chemicalbabe', 'v452', 'responder', 'lindenow', '315pm', 'ibiza', 'pop', 'cliff', 'dannyjohnjules', 'spencerfearon', 'christielinford', 'd33munni', 'jeannamibian', 'noooooooo', 'proceeds', 'neil', 'somethingyr', 'crossfit', 'decent', 'billers', 'promoted', 'billing', 'humble', '2leezy', 'grabbing', 'sweaty', 'regress', 'slip', 'dignity', 'mate', 'faved', 'funnynews', 'chunk', 'china', 'brian', 'ruebs', 'endures', '4500feet', 'climb', 'bride', 'groom', 'alex', '107', 'minion', 'favor', 'alexjacobsonpfs', 'andre', 'gore', 'elite', 'thinkpink', 'magichairbump', 'adding', 'sleep', 'balance', '87', 'snap', 'streak', 'punkblunts', 'sincerelyevelnn', 'szmnextdoor', 'lil', 'trip', 'landslide', 'ferry', 'knocking', 'gulfport', 'allin', 'jump', '627', 'lower', 'striked', 'otm', 'yoenis', 'production', 'edge', 'ha', 'kidding', 'esn', 'cilla', 'stroke', 'revealed', 'easily', 'nieuws', 'runaway', 'dublin', 'technique', 'collapseblow', 'halloikbenwill', 'geoffrickly', 'vinyl', 'bundle', 'ponting', 'yahoo', 'row', 'basildudin', 'barbaric', 'saudies', 'relive', 'austrian', 'interview', 'materialism', 'talkradio', 'investing', 'strategy', 'securing', 'lasting', 'blowout', 'trapped', 'circus', 'tent', 'implode', 'dccomics', 'imagecomics', 'darkhorsecomics', 'idwpublishing', 'enabling', 'eurocrisis', 'revenue', 'continues', 'proposed', 'commodity', 'absolutely', 'eminem', 'nate', 'dogg', 'timestack', 'mesmerizing', 'image', 'spike', '30min', 'ckec', 'correction', 'behindashield', 'warsgoddess', 'knee', '4th', 'reaction', 'absolutsumya15', 'sa', 'ferrochrome', 'verge', 'president', 'oral', 'fixingmatch', 'fixing', 'pak', 'sl', 'wi', 'rsa', 'bd', 'sham', 'exhaustion', 'bailout', 'reacts', 'theashes', 'growth', 'dry', 'bhp', 'billiton', 'bite', 'roh3', 'jfb', 'tfb', 'alrasyid448iturasya', 'smantibatam', 'roh3smantibatam', 'mgnafrica', 'pin263789f4', 'wizkidayo', 'thehighfessions', 'blastedi', 'pancake', 'iowa', 'sholt87', 'mtgrotto', 'eco11c', 'carlsbadbugkil1', 'usbush', 'lowered', 'wmiddle', '401ks', 'entrance', 'gut', 'deutsch', 'musik', 'monarchy', 'bbakeb', 'offs', 'dorrets', 'bchocolateb', 'gateau', 'jan', 'organicallyrude', '1rockstar62', 'mattingly', 'bundy', 'mcgwire', 'standing', 'catching', 'bowling', 'alley', 'kezi9', 'phil', 'gravel', 'sobbing', 'endlessly', 'confused', 'angry', 'oneheartonemindonecss', 'burst', 'lung', 'district', 'cpr', 'panama', 'gorpuazikinak', 'tongue', 'cum', 'puddle', 'indiepopmom', 'breathe', 'zimbabwe', 'ruled', 'dictator', 'durrellb', 'punishing', 'exhausted', 'entity', 'forced', 'montego', 'sewer', 'tvjnews', 'heartless', 'whipped', 'animal', 'influential', 'betrayed', 'severing', 'portable', 'closet', '3x', 'rid', 'rokiieee', 'bake', 'chocolate', 'moir', 'mortified', 'heel', 'planted', 'fav', 'greek', 'tsipras', 'cost', 'wallybaiter', 'quora', 'moderately', 'flickershowell', 'munch', 'specie', 'xdescry', 'trusty', 'considering', 'spontaneously', 'sqwizzix', 'piano', 'entertainer', 'ep', 'collide', 'ripple', 'tide', 'lesleychappelle', 'cigarette', 'immediately', 'locked', 'jogger', 'awkward', 'efs300', 'trek', 'pluto', 'charon', 'gucci', 'chosen', 'shanghai', 'avenue', 'thunderstorm', 'singing', 'untill', 'fill', 'frisat', 'nlccollide', 'touchdown', 'madisonpa', 'pierce', 'veil', 'bracelet', 'wristband', 'soultech', 'gassymexican', 'reality', 'strange', 'glitch', 'mattcohen4fake', 'gamma', 'january', 'witch', 'castle', 'supernatural', 'sibling', 'rivalry', 'wogc', 'align', 'bowery', 'electric', 'tackettdc', 'tidalhifi', 'vancouver', 'mutekmontreal', 'isea2015', 'isle', 'tlc', 'suddenly', 'houston', 'pageparkescorp', 'chloeunguyen', 'laurensicle', 'charstevens97', 'tiaramarei', 'gemma', 'bowe', 'collideworship', 'powerful', 'thedoolinggroup', 'slam', 'bordento', 'coincide', 'finer', 'subatomic', 'spell', 'devia', 'ler', 'wattys2015', 'wattpad', 'teenfiction', 'either', 'simple', 'cyclist', 'collided', 'runner', 'roanoke', 'greenway', '300000', 'verdict', 'roanoketimes', 'lennonparham', 'jessicastclair', 'gilmoreguysshow', 'podcast', 'ihave44episodesofgg', 'nojoke', 'redcoatjackpot', 'none', 'managed', 'curse', 'selfie', 'ask', 'ebike', 'portugal', 'suffered', 'nonlife', 'newswatch', 'lansdowne', 'sts', 'ptbo', 'emerg', 'lanjut', 'dirumah', 'yagitudeh', 'jake', 'rumah', 'cipinang', 'femalegilgameshs', 'assault', 'useless', 'however', 'penetrate', 'scored', '111020', 'punch', 'quest', 'squeaky', 'skull', 'pleasure', 'huzzah', 'mollythetanzs', 'vermilion', 'glassanimals', 'slithering', 'viscous', 'gold', 'yeahs', 'erykah', 'badu', 'monsoon', 'eau', 'claire', 'suv', 'sentenced', 'chippewa', 'shotgun', 'denton', 'lifethreatening', 'highway', '18wheeler', '688', 'anna', 'harwich', '530', 'hadnt', 'wouldve', 'butgod', 'mlg', 'ijustine', 'alaskaseafood', 'askforalaska', '26', 'junction', 'towards', 'beep', 'horn', 'ssp', 'aeg', '061', 'driven', 'akrams', 'carhot', 'exchanged', 'firing', 'air1bullet', 'tyre', 'posted', 'happily', 'ninja', 'commence', 'pple', 'rescued', '200', 'fishing', 'boatnews', 'drob', 'dan', 'hughes', 'intersection', 'san', 'antonio', 'carted', 'guard', 'bicyclesuv', 'mesick', 'bicyclist', 'm115', 'constitutional', 'politic', 'justinbieber', 'harrystyles', 'cern', 'oo', 'harrybecareful', 'journey', 'cow', 'restore', 'southwest', 'omaha', 'utility', 'pole', 'stepkans', 'lvictoria', 'pvris', 'collision', 'broadway', 'local', 'zojadelin', 'knob', 'sac', 'elkhorn', 'blvd', 'walerga', 'trfc', 'collision1141', 'enrt', 'beatg3', 'rainier', '852015', '608', '15000270653', 'beatb2', 'fremont', '652', '15000270364', 'florin', 'franklin', 'hwy401', 'eb', 'cambridge', 'opp', 'enroute', 'ag', 'fe', 'studebaker', 'collisionno', 'inj', 'anti', 'rear', 'headon', 'kenai', 'spur', 'baltimore', 'i95', '548', 'mchenry', 'tunnel', 'bore', 'nort', 'dilawri', 'shopcollision', 'thisisfaz', 'techesback', 'bernardino', 'i10', 'eo', 'redlands', 'i405', 'southbound', 'coal', 'creek', 'i580', 'flynn', 'onr', 'westminister', 'sr22', 'knott', 'innovation', 'starting', '4000', 'valley', 'con', 'collisionunkn', 'missjadebrown', 'tragic', 'midmorning', 'claimed', 'riding', 'twovehicle', 'fowler', 'occupant', 'joining', 'excite', 'sacramento', '713pm', 'mapleridge', 'lougheed', '203rd', 'dewdney', 'eto', '900', 'division', 'solano', 'sr37', 'skaggs', 'i5', '43rd', 'offramp', 'cleared', 'qew', 'erie', 'approaching', '405', 'niagaravehicles', 'removed', 'kierannicholson', 'ofr', 'celestial', 'separate', 'trajectory', 'intertwine', 'warned', 'grtvnews', 'rhett', 'motogp', 'indianapolis', 'espargaro', 'layout', 'meinlcymbals', 'endorsement', 'html5', 'beginner', 'slamming', 'lesson', 'learned', 'lover', 'sterlingknight', 'crashsterlingwho', 'carmel', 'joeysterling', 'knight', 'daewony0406', 'alright', 'bestival', 'molloy', '21st', 'i75', 'mm', '459', 'source', 'pikin', 'pascoe', 'vale', 'outbound', 'tullamarine', 'fwy', 'citylink', 'moreland', 'rant', 'apparent', '8000', 'xoxo', 'cpanel', 'destinythegame', 'bungie', 'playstation', 'chelsdelong12', 'kendraleigh13', 'josh', 'salyersblairhall', 'jennas', 'prayer', 'invited', 'feelin', 'fatal', 'photoshop', 'tool', 'guide', 'cs6', 'kinetic', 'typography', 'heroin', 'liable', 'akilah', 'barrington', 'hoffman', 'singlecar', 'afte', 'helmet', 'silvery', 'karnal', 'sampling', '33', 'pbcanpcx', 'scheer', 'huebels', 'spicybreads', 'coxytown', 'downloading', 'tutorial', 'maj', 'muzzamil', 'offr', 'mi17', 'mansehra', 'avoiding', 'microlight', 'landi', 'peritoengrafoscopia', '4am', 'neileastwood77', 'knobhead', 'landing', 'brianroemmele', 'ux', 'emv', 'insert', 'remove', 'pump', 'stripe', 'reader', 'hamayun', 'shaheed', 'mi7', 'heli', 'uk', 'rosewell', 'rochdale', 'heywood', 'ipod', 'weloveyoulouis', 'johndcgow', 'olliebailey11', 'havnt', 'windows10', 'intactmh370partliftsoddsplaneglidednotcrashedintosea', 'yahoofinancehope', 'euro', 'restive', 'northwest', 'tuesday', 'knocked', 'yday', '2day', 'asking', 'log', 'almighty', 'strength', 'thief', 'hicksville', 'stole', 'fled', 'doctor', 'smusx16475', 'skype', '84', 'faster', 'overtook', 'tru', 'luv', 'typing', 'ant', 'note', 'honestly', 'nightmarish', 'parked', 'modestmouseremix', 'truestory', 'f496d', 'mhtw4fnet', 'ttw', 'skh', 'ashton5sos', 'luke5sos', 'mh370', 'intact', 'lift', 'glided', 'sea', 'kuualohax', 'husband', 'posting', 'crush', 'womem', 'mommyisbomb', 'jorrynja', 'bfgfcrush', 'terell', 'wce', 'explicitpretty', 'wedneday', 'taykreidler', 'loveyouuuu', 'aintsheperty', 'bestfriends', 'yourboyshawn', 'ina', 'buted', 'samelsamel', 'crushit', 'overrated', 'experiencesmh', 'pydisney', 'crushmtvhottest', 'justin', 'bieber', 'master0fsloths', 'ron', 'fez', 'daves', 'gorgeous', 'moe', 'bouta', 'mrrobinson', 'thesteveharveyshow', 'vibe', 'lively', 'vine', 'khadidon', 'yhngsjlg', 'tweeted', 'starflamegirl', 'wen', 'marketingmediocrity', 'realize', 'sevenfigz', 'tiffanyfrizzell', 'nykaed', 'jaureguiswisdom', 'sooo', 'fitz', 'tantrum', 'cristianinspire', 'playa', 'kenny', 'holland', 'crushed', 'popeyes', 'bhavanas', 'wrapup', '2us', 'cable', 'disney', 'disappoints', 'jimmyfallon', 'squirrel', 'bone', 'mortar', 'pestle', 'bio', 'worstsummerjob', 'edwin', 'mango', 'charcoal', 'handled', 'stress', 'exceptionally', 'pressed', 'crushed2', 'cor48', 'edwing', 'gym', 'flurry', 'clearly', 'priority', 'jmastrodonato', 'ortiz', 'bunting', 'forefather', 'ouch', 'clelliyou', 'christ', 'km', '541', 'nike', 'sportwatch', 'gps', 'nikeplus', 'papi', 'reap', '112', '746', 'nick', 'moly', 'ayekoradio', 'brasswork', 'agency', 'shaken', 'netlabel', 'electronicmusic', 'ccmusic', 'commenters', 'dothraki', 'westerosnah', 'underestimate', 'disillusioned', 'crowe', 'trope', 'nora', 'jones', 'empire', 'markwschaefer', '13', 'chapoutier', 'crozes', 'hermitage', 'violet', 'slate', 'yum', 'wine', 'thecomedyquote', '50shadezofgrey', 'thirst', 'curfew', 'p45perez', 'ara', 'reporting', 'fighter', 'infiltrated', 'ashrafiyah', 'afrin', 'aim', 'ypg', 'imposed', 'keampurley', 'michelleellle', 'shut', 'spend', 'campus', 'teenager', 'violation', 'stolen', 'cu', 'overtime', 'stuck', 'kodak', 'bobbyxfisher', 'exofficio', 'brief', 'wnd', '0306', 'cld', 'sct014', 'bkn032', 'inst', 'apch', 'rwy', 'oper', '2030', 'taxiway', 'foxtrot', 'navbl', 'tmp', 'emaaalay', 'nope', 'tutor', 'preferably', 'aptlyengineerd', 'grove', 'emmychappy', 'oclock', 'reddakushgodd', 'smfh', 'scotrail', 'blind', 'bloke', 'cosits', 'hassle', 'freefrom', 'obligation', 'daviskawalya', 'mauryn143', 'final', 'goodbye', 'graduated', 'stupidniggr', 'cancel', 'cat', 'appointment', 'decided', '0605', 'damp', 'qnh', '1028', 'oldest', 'freedom', 'donthate', 'sct012', 'bkn025', 'rite', 'tlk', 'widout', 'nuh', 'fi', 'di', 'itz', 'rubbery', 'knw', 'bc19', 'bark', 'unlocking', 'judge', '5pm', 'wonder', 'lim', '9pm', 'leh', 'walter', 'rewatchingthepilot', 'teamscorpion', 'cyclone', 'annual', 'hoop', 'recruiting', 'photography', '0215', 'boltcyclone', 'pp400dr', 'outlet', 'packfor', 'mccauleysdesign', 'abysmaljoiner', 'dyamiplotke', 'purpose', '4k', 'tropical', 'forming', 'guam', 'molave', 'de', 'jhaustin', 'ames', 'tribune', 'xhnews', 'retract', 'pam', 'wordpressdotcom', 'condition', 'easton', 'softball', 'fastpitch', '2920', 'sk398', 'severe', 'bulletin', 'typhoon', 'hannaph', 'soudelor', 'issued', 'derives', 'calm', 'norman', 'vincent', 'peale', 'roughdeal1', 'ante', 'hudhud', 'chandrababu', 'valle', 'ne', 'komen', 'devastates', 'hanna', 'vanuatu', 'encouraged', 'asks', 'tom', 'given', 'talent', 'misdirection', 'ignite', 'vanishing', 'phantom', 'kurokobot', 'comdev', 'asia', 'station', 'bangladesh', 'broadcasting', 'address', 'upcoming', 'imperialism', 'spin', 'militarism', '1970', 'mercury', 'gt', 'moulding', 'core', 'cobra', '429cj', 'passion', 'overblown', 'majesty', 'emperor', 'salman', 'khan', 'unstoppable', 'bajrangi', 'bhaijaan', 'crosed', 'quarter', 'panel', 'd', 'trim', '945hpa', 'maximum', 'speed', '45ms', 'gust', '60ms', 'cyclonereizei', 'cyclonesama', 'jailed', 'fate', 'rindou', 'vroman', 'blending', 'wfp', 'delivers', '165000', 'dhaka', 'rohingya', 'kyee', 'nockthie', 'hamlet', 'taungbazar', 'buthidaung', 'severely', 'damaged', 'kasitaroch', 'vivianunhcr', 'cherry', 'outfit', 'ootd', 'doubleghats', 'thelegendblue', 'cozmo23', 'ascend', 'drop', 'union', 'supportive', 'economically', '300m', 'gta', 'collateral', 'damage3460', 'limestone', 'lncolyellowstone', 'wayfieldstone', 'dr08052015', '193635', 'fitness', 'solution', 'complaining', 'phoenix', 'emblem', 'gigant', 'capicapricapri', 'brentobento', 'wha', 'ny35', 'writebothfists', 'windy', 'reusing', 'advanced', 'transit', 'drumming', 'champaign', 'fdbdp', 'indigo6e', 'carful', 'spotting', 'baggage', 'wy', 'out', 'drothvader', 'cmnevalistis', 'arachys', '2500', 'mages', 'fairy', 'tail', 'specialize', 'natsu', 'dragneel', 'bradleybrad47', 'af', 'upgraded', 'shitton', 'exclusively', 'playthrough', 'tree', 'fence', 'homeowner', 'joedawg42', 'tor', 'enhanced', 'wording', 'key', 'imo', 'hfxstanfield', 'beelievedc', 'discoverycntr', 'contractor', 'swb1192', 'nda', 'offer', 'prolly', 'trillion', '3rd', 'fieldwide', 'instant', 'np', 'metallica', 'inc', 'inmate', 'remand', 'crosssectarian', 'shia', 'cleric', 'militia', 'withdrawur', 'fightin', 'isi', 'uve', 'wonderousallure', 'hhello', 'thesensualeye', 'model', 'apr', 'pussy', 'boob', 'asian', 'runin', 'roadwayproperty', '15901', 'statesville', 'devil', 'vergil', 'agnus', 'dmd', 'leedstraif', 'glaucoma', 'occurs', 'fluid', 'optic', 'nerve', 'eyefacts', 'jsunnews', 'madison', 'ar', 's61231a', 'puncture', 'wound', 'foreign', 'index', 'nail', 'initial', 'icd10', 'richarkkirkarch', 'ausinstarchitect', 'queenswharf', 'brisbane', 'financialreview', 'fuckboy', 'pseudojuuzo', 'michaelwestbiz', 'gettinglost', 'jennellensbb', 'munclejim', 'superficial', 'blizzheroes', 'dustinbrowder', 'constantly', 'frequently', 'danger', 'distraction', 'wildlife', 'signup', 'dyannbridges', 'yeshayad', 'rockin', 'preview', 'claytonbryant', 'artistsunited', 'cawx', 'nwsbayarea', 'carsonrex', 'spaceangelseven', 'fish', 'eaten', 'poisoned', 'preservation', 'imposition', 'african', 'imagined', 'grain', 'wheat', 'anger', 'trespass', 'lest', 'therealrittz', 'fettilootch', 'slanglucci', 'oppression', 'morehouse64', 'ethical', 'relevance', 'slide', 'especially', 'permit', 'hunting', 'outnumbering', 'license', 'petersburg', 'riverroaming', 'bluebirddenver', 'uber', 'recent', 'nonprofit', 'partnership', 'victoria', 'turnedonfetaboo', 'hsjb215', 'thetxi', 'gunnersfan89', 'ham', 'relegation', 'afc', 'remainontop', 'excitement', 'underwater', 'cave', 'diving', 'protection', 'dehydration', 'spider', 'smth', 'critical', 'grave', 'rail', 'skyler', 'rest', 'investigate', 'mueller', 'complaint', 'nov', 'meson', 'modibo', 'maiga', 'fucktard', 'coyi', 'courage', 'engage', '228', '217', 'remote', 'silent0siris', 'norse', 'atmosphere', 'boringdead', 'snotgreen', 'wasteland', 'hairbut', 'cjbanning', '4sake', 'argsuppose', 'preborn', 'attained', 'individl', 'rightsgenerally', 'courtof', 'forbids', 'goku', 'birb', 'naaa', 'legit', 'sore', 'luis', 'hhahaha', 'emmerdale', 'nd', 'attractive', 'named', 'soapscoop', 'yh', 'gailsimone', 'iwasdisappointedby', 'telltale', 'gameplay', 'hundred', 'libyan', 'migrant', 'capsizes', 'rescue', 'waved', 'misled', 'jones94kyle', 'sake', 'askcharley', 'flaming', 'stark', 'debate', 'perspective', 'contribution', 'study', 'hlportal', 'download', 'kg4vaal', 'lmaovv', 'trend', 'babalmaowelcome', 'nyozi', 'kwaaaaadead', 'noooooooooooo', 'mikeparractor', 'bailed', 'nite', 'b4', 'showwent', 'taiwan', 'moore', 'val', 'suing', 'atchisonsean', 'wyrmwood', 'ending', 'summerfate', 'bff', 'otp', 'grandma', 'ssshhheeesshh', 'rep', 'vibrator', 'shaped', 'vape', 'busted', 'adult', 'plague', 'console', 'ring', 'gainesville', 'ferguson', 'papiichampoo', 'era', 'civility', 'prez', 'jeromekem', 'cousin', 'hang', 'recognize', 'spouse', 'samesex', 'certificate', 'loyalty', 'involves', 'kicking', 'shitty', 'nobleman', 'elven', 'weirdo', 'seemeth', 'unto', 'thereof', 'kellkane', 'narrowly', 'arianagrande', 'screamqueens', 'katherines', 'allahsfinest12', 'starve', 'bash', 'comparison', 'shouting', 'punishable', 'uploading', 'smoochy', 'awakening', 'bicentennial', 'cyprus', 'analysis', 'mullah', 'omars', 'taliban', 'rank', 'demise', 'deathholy', 'molys', 'slain', 'mexican', 'journalist', 'unknowingly', 'predicted', 'breitbartnews', 'sedan', 'pusssssssssy', 'shoook', 'cecilthelion', 'postponed', 'marilyn', 'monroe', 'ripriprip', 'aris', 'hint', 'snippet', 'legionnaire', 'vaxshill', 'measles', 'complication', 'loos', 'bigamist', 'pregnant', 'nephew', 'airlift', 'lolgop', 'voter', 'fraud', 'vra50', 'palermo', 'shipwreck', 'bsf', 'jawan', 'fidayeen', 'ak', 'insas', 'rifle', 'breast', 'milk', 'superfood', 'worldwide', 'stalled', 'contributing', '800000', 'redlight', 'pedestrian', 'truediagnosis', '250k', 'physician', 'cdcwhistleblower', 'foodborne', 'illness', 'frackfreelancs', 'dear', 'deccgovuk', 'frackfreeeu', 'tarletonsophie', 'drfriedencdc', 'resistant', 'infectionsdeaths', 'adiossuperbacterias', 'irony', 'strickskin', 'nickscomics', 'usually', 'objective', 'older', 'nghlth', 'eazzyp', 'seemed', 'warranted', 'jap', 'focus', 'constitute', 'publichealth', 'lunch', 'stewart', 'julian', 'earlier', 'weyburn', 'warn', 'fentanyl', 'province', 'annoying', 'gregorysanders', 'usdot', 'stat', 'auto', 'applies', 'lightrail', 'equate', 'blackpool', 'kowing', 'beclearoncancer', 'highqualitybird', 'reverse', 'specifically', 'utilized', 'chrissie', 'adam', 'finn', 'mathewisangry', 'z3kesk1', 'saladinahmed', 'fco', 'minister', 'tobiasellwood', 'condemns', 'arabia', 'resulted', 'critter', '1940', 'angela', 'sander', 'born', 'roundhouse', 'increased', 'percent', 'walmart', 'step', 'innovative', 'beluga', 'seaworld', 'average', 'opseaworld', 'mothe', 'mayoroflondon', 'pls', 'compulsory', 'us', 'notrocketscience', 'aerospace', 'exec', 'th', 'malaysia', 'airline', 'flight', '370', 'disappeared', '17months', 'discovered', 'confirms', 'washed', 'floated', 'runion', 'york', 'surely', 'disappearance', 'novel', 'relative', 'discovery', 'nbcnightlynews', 'malaysian', 'billneelynbc', 'najib', 'razak', 'isla', 'seem', 'abc', 'kamindoz', 'belongs', 'breakth', 'onlinemh370', 'onlinea', 'scmpnews', 'onlin', 'interesting', 'dustpiggies', 'awash', 'abstract', 'dustpig', 'explains', 'deluge', 'xeni', 'nature', 'joshsternberg', 'feed', 'romeocrow', 'organizing', 'important', 'niagara', 'yyeso', 'apologise', 'sincerely', 'inevitable', 'grudge', 'decide', 'unfollow', 'baking', 'nlmdimrc', 'provider', 'worker', 'towboat', 'sympathy', 'vtc', 'eulogy', 'whatsapp', 'tormented', 'matias', 'xavier', 'wa', 'yahoo7', 'delaying', 'fundamental', 'valuation', 'stock', 'despite', 'fantasticfour', 'ocuana', 'bloodyminded', 'forrestmankins', 'camping', 'troisrivieres', 'legionstrackandfield', 'halfnaked', 'normally', 'embrace', 'odd', 'torso', 'scale', 'unprecedented', 'theburnageblue', 'favs', 'torrent', 'client', 'recommended', 'java', 'swing', 'predynastic', 'period', 'dumuzid', 'shepherd', 'theghostparty', 'amsosorry', 'encaustic', 'cerography', 'portion', 'byityf', 'surf', 'motion', 'programme', 'stephaniemarija', 'dressing', 'incessant', 'perhaps', 'historic', 'applied', 'exposed', 'childsexabuse', 'truly', 'coverup', 'bible', 'unloads', 'descriptive', 'indecency', 'chuckswindoll', 'iflcanada', 'differently', 'pt1', 'slew', 'fixed', 'unfml', 'boyhaus', 'heaven', 'warm', 'montana', 'evening', 'fing', 'gishwhes', 'soaked', 'pad', 'tampon', 'mishacollins', 'fiendnikki', 'wrinkled', 'decayed', 'schelbertgeorg', 'teaching', 'ren', 'shadowman', 'monstrosity', 'houghjeff', 'dougkessler', 'b2b', 'b2bagency', 'slideshare', 'contentmarketing', 'healing', 'heredeluge', 'sing', 'translated', 'vince', 'mcmahon', 'billionaire', '350', 'nfl', 'deflategate', 'incremental', 'caring', 'wanting', 'search', 'frustrated', 'quantit', 'asae15', 'exhibitor', 'email', 'assnchat', 'meditationbymsg', '45600', 'meditation', 'divine', 'blessing', 'peaceful', 'canadian', 'themed', 'aroundthe', 'timing', 'downright', 'novalismi', 'joseph', 'mallord', 'william', 'turner', 'shade', 'darkness', '1843', 'clicca', 'sul', 'titolo', 'telemarketing', 'deluged', 'thewesterngaz', 'susinesses', 'invoice', 'stlnd', 'shape', 'glimpse', 'hyderabad', 'rainfall', 'colo', 'lzkely', 'poorly', 'indie', 'fiction', 'escaping', 'togthe', 'abe', 'paypile', 'selfimage', 'quiz', 'invokces', 'shapeand', 'lisatoddsutton', 'bcz', 'senate', 'murphy', 'junk', 'thesewphist', 'fuckfacewineisdumbcom', 'spam', 'meant', 'tarp', 'protecting', 'outfield', 'moved', 'infield', 'inroicesmake', 'squabble', 'immigration', 'ukfrance', 'eurotunnel', 'oup', 'invzices', 'itsllikely', 'pileq', 'accionempresa', 'com', 'gerenciatodos', 'ogt', 'colomr', 'aredeluged', 'valdes1978', 'testy', 'hatred', 'patience', 'afterwards', 'savour', 'prolong', 'intensity', 'sigue', 'capital', 'winged', 'insect', 'rand', 'demolish', 'enugu', 'structure', 'international', 'doone', 'architect', 'permission', 'birmingham', 'natwest', 'tallest', 'createdunique23', 'kerenserpa', 'arianareed11', 'ce', 'badotweet', 'kirkmin', 'barthubbuch', 'weei', 'bait', 'patriot', 'hater', 'coworkers', 'brady', 'hungry', 'demolishdeep', 'etoffe', 'charmeuse', 'clothesless', 'precisionistic', 'vestment', 'psfda', 'xgninfinity', 'ronincarbon', 'hahah', 'preset', 'bal', 'nades', 'radar', 'boundary', 'unconsciously', 'negative', 'midget', 'inspiration', 'abbswinston', 'zionist', 'jordan', 'mariomaraczi', 'freaked', 'akwa', 'ibom', 'uruan', 'exassembly', 'udom', 'emmanuel', 'laundry', 'kp', 'root', 'absurdly', 'manhood', 'avigdorliberman', 'susiya', 'beheading', 'postal', 'sell', 'murlo', 'android', 'tribez', 'androidgames', 'gameinsight', 'jollyjinu', 'babri', 'todayhave', 'revenge', 'businessman', 'foiled', 'troupe', 'multiracial', 'breakdancers', 'orianna', 'xd', 'ghostwriting', 'rihanna', 'arin', 'gummy', 'grumpout', 'srsly', 'partner', 'dribbling', 'nostril', 'urself', 'whether', 'embarrassment', 'charminar', 'engineer', 'opinion', 'telangana', 'beastin', 'tapa', 'folk', 'funtimes', 'demolished', '64oz', 'jar', 'colt', '5007', 'whine', 'integrity', 'cantmakeitup', 'patriotsnation', 'flunkie', 'angusmacneilsnp', 'embarrassed', 'indy', 'stiiilo', 'gamer', 'backtoback', 'chargedup', 'media420', 'papicongress', 'journo', 'pragnik', 'sat', 'saddlebrooke', 'sounder', 'finish', 'meerkat', 'periscope', 'snowball', 'splottdave', 'teampalestina', '28700', '1967', 'home2', 'suite', 'salvis', 'bistro', 'former', 'bbsnews', 'kidnapped', 'hebron', 'david5fernandez', 'theblaze', 'election', 'stallion150', 'kbeastx', 'genisys', 'jackmulholland1', 'marquis', 'carlos', 'charlies', 'unrecognized', 'arab', 'epa', 'demolition', 'davidvonderhaar', 'bo3', 'selection', 'consistently', 'freestyle', 'maxsys', 'halifax', 'metrotown', 'resulting', 'maintained', 'burnaby', 'changefortheworse', 'factor', 'consider', 'noxdv', 'remaining', 'greystone', 'psychiatric', '85885473', 'witnessed', 'psa', '159', 'burton', 'messnermatthew', 'newcity', 'frog', '2002', 'flint', 'michigan', 'metropolis', 'highsmith', 'der', 'abbruchsimulator', 'waterway', 'achimota', '233liveonline', 'delmonts', 'onion', 'purchased', 'czallstarwes', 'demolitiond', 'fkn', 'pleb', 'ffa', 'foodstand', 'fairground', 'finishing', '9am', 'appreciated', 'demo', 'kenosha', 'mentalhealthgov', 'ahhhhh', 'alec', 'med', 'tort', 'comp', 'injustice', 'mh', 'samajp32', 'tone', 'soonersportstv', 'cont', 'giveaway', 'kit', 'dren', 'kaduna', 'treyarch', 'detains', 'orca', 'widespread', 'zhejiang', 'removal', '1200', 'jose', 'willow', 'glen', 'trestle', 'canberra', 'mr', 'fluffy', 'tookem', 'intriguing', 'dominant', 'jobbing', 'clist', 'shantaeskyy', 'derail', 'destiny', 'wheavenly', 'wmata', 'morn', 'sm', 'modelbubbles', 'emiiliexirwin', 'agreeshe', 'birth', 'blaming', 'bv', 'bloomberg', 'publish', 'remain', 'unite', 'freesikhpoliticalprisnors', 'bapusuratsingh', 'madhya', 'pradesh', 'gridlock', 'temecafreeman', 'simultaneous', 'alllivesmatter', 'incredibly', 'necessary', 'thejenmorillo', 'dallas', 'gloriavelez', 'tubestrike', 'mood', 'pisco', 'coya', 'smithsonian', 'wsjthinktank', 'colleenmnelson', 'campaign', 'kamayani', 'janata', 'ex', 'gratia', 'announced', 'various', 'buyout', '6bn', 'worldpay', 'ipo', 'skynews', 'dozen', '21', 'renamed', 'italian', 'goonda', 'motley', 'hooligan', 'selfavowed', 'crook', 'determined', 'mzmandilynn', 'establishment', 'donzilla', 'realdonaldtrump', 'trump2016', 'rushlimbaugh', 'democrat', 'meddling', 'judgement', 'mpc', 'recovery', 'ohmygoshi', 'unsuckdcmetro', 'metrobus', 'derailed', 'fox5newsdc', 'adani', 'modi', 'indiabacked', 'yahoonews', 'subject', 'jozerphine', 'everythign', 'federal', 'sw', 'mcpherson', 'assembly', 'worthless', 'trustymclusty', 'passenger', 'commute', 'fcked', 'crocodile', 'wash', 'gravy', 'kidscompany', 'epicinsanity', 'grimrail', 'depot', 'nopassenger', 'derails', 'stury', 'illustration', 'subway', 'freeing', 'newidea', 'wout', 'title', 'wtwitter', 'whoa', 'chief', 'requa', 'sixcar', '1000', '2000', 'identitytheft', 'taxreturn', 'cleaning', 'cri', 'reopen', 'empty', '7000series', 'cqnow', 'breakfast', 'suspending', 'ser', 'eve', 'jon', 'honored', 'crippling', 'starbs', 'barely', 'adamtuss', 'wheel', 'climbing', '12007', 'mt', 'vern', 'sq', 'nigh', 'bobbyofhomewood', 'joxroundtable', 'dropping', 'nosports', 'si', 'top25', 'relief', 'janta', 'firstpostin', 'orangeblue', 'mess', 'closest', 'joelsherman1', 'dw', 'chipper', 'durban', 'robertwelch', 'cutlery', 'halfderailed', 'halfrailed', 'deepthoughts', 'biker', 'beatdown', 'prodemocracy', 'nypdnews', 'undercover', 'itsqueenbaby', 'cnn', 'derailedbenchmark', 'path', 'resque', 'gerryconnolly', 'repdonbeyer', 'timkaine', 'debacle', 'wderailed', 'nonpassenger', 'mgr', 'ohyayyyyay', 'resumed', 'garfield', 'residual', 'railway', 'ndtv', 'freakiest', 'freak', 'teamfollowback', 'followback', 'modiministry', 'alarm', '61st', 'calumet', 'struck', '2121', 'chicagoscanner', 'consent', 'csx', 'knoxville', 'sentinel', 'villager', 'indiatv', 'greateranglia', 'fault', 'fd', 'alarmems', 'cinstg', 'raishimi33', 'applaud', 'prabhu', 'indi', 'indiannews', 'alvinnelson07', 'withstand', 'immediate', 'suresh', 'harda', 'ignored', 'regr', 'twin', 'mumbai24x7', 'helping', 'ttes', 'charge', 'helpline', 'anxious', 'ind', 'topstories', 'cottage', 'cta', 'ctafails', 'mpmy', 'deepest', 'condolence', 'officeofrg', '63rdprairie', 'mumbaitimes', 'roadworks', 'tube', 'disruptive', 'desolate', 'tottenham', 'perceive', 'faintly', 'sputtering', 'vast', 'glacier', 'eternity', 'gyrsi', 'danielkemp6', 'likened', '39', 'producer', 'ib', 'sauldale305', 'naturalexample', 'transformed', 'thriving', 'hub', 'hitech', 'onthisday', 'mayflower', 'sail', 'laphamsquart', 'jusreign', 'hav', 'attitude', 'sht', 'atl', 'fran', 'r3do', 'soundcloud', 'swell', 'daniel', '1211', 'sacrifice', 'abomination', 'maketh', 'corleonedaboss', 'significance', 'unexercised', 'honda', 'rundown', 'neighborhood', 'psqd', 'mallelis', 'gotten', 'wereonadesolateplanet', 'belowthemasondixonline', 'electro', 'violin', 'binellithresa', 'brutally', 'abuseddesolatelost', 'mum', 'diesis', 'psalm3422', 'redeemeth', 'servant', 'joshacagan', 'fotofill', '3422', 'booksbyroger', 'billroose', 'justdepressing', 'hundredodd', 'pilgrim', 'unimpressed', 'mirad', 'antichrist', 'desecrates', 'jerusalem', '927', 'matt', '241', 'risky', 'costly', 'spyro', 'texture', 'ingame', 'stockholm', 'copperfields', 'ep03', 'desolation', 'finalise', 'alt', 'comingsoon', 'photoset', 'littlebitofbass', 'silinski', 'sheeran', 'onthe', 'hobbit', 'smaug', 'premiere', 'thranduil', 'figure', 'loose', 'mirkwood', 'theconspiracytheory', 'newep', 'tangled', '710', 'isai', '601', 'psm', '1388', 'conspiracy', 'scattered', 'freediscountbks', 'thriller', 'suspense', 'amreading', 'kurtkamka', 'coyote', 'ariz', 'uv', 'digital', 'gin', 'listia', 'josephus', 'antiochus', 'epiphanes', 'despair', 'jamessnyder22', 'redo', 'ayyy', '157', 'lamb', 'introdesolation', 'hd', 'trouble', 'persistent', 'fasting', 'forth', 'nikostar', 'abject', 'sudden', 'neither', 'wicked', 'cometh', 'thy', 'fotoset', 'elanorofrohan', '10th', 'december', 'carpet', 'zurich', 'alcoholismaddiction', 'forgiving', 'ghe', 'orshow', 'loop', 'kaiseiw', 'desperation', 'dislocation', 'separation', 'condemnation', 'revelation', 'temptation', 'isolation', 'bilingual', 'tumblr', 'necros', 'agalloch', 'imagini', 'noi', 'clipuri', 'cliptv', 'desolationofsmaug', 'poze', 'thehobbit', 'sow', 'masse', 'backlash', 'fandom', 'futurea', 'totalitarian', 'employ', 'literature', 'rebahes', 'zenandemcfen', 'ndzedze', 'ashes2ashes', 'ginga', 'defeat', 'ldrago', 'ops', 'hunted', 'snd', 'competitive', 'multiplayer', 'dilutional', 'institutionalize', 'sued', 'slander', 'shantae', 'smash', 'wii', 'shantaeforsmash', 'shantaehalfgeniehero', 'nintendo', 'ng2x5', 'memebaiting', 'camper', 'foxsportscom', 'anthony', 'everytime', 'asleep', 'raidersreporter', '957thegame', 'galaxy', 'flatliners', 'creativitybalancelongevity', 'lucifer', 'magnet', 'nicolekidman', 'oprah', 'grubbing', 'kike', 'cluei', 'telekinesis', 'yiayplan', 'amiibos', 'boylesports', 'casino', 'petchary', 'displeased', 'congrats', 'reggaeboyz', 'cameronciletti', 'tigersjostun', 'crackdown', 'server', 'copped', 'eur', 'bwin', 'sarniamakchris', 'hromadske', 'kasiadear33', 'silly', 'reg', 'competitiveness', 'oversaturated', 'brockton', '12m', 'regc', 'commonwealth', 'ppc', 'beconfident', 'weakness', 'zaynmalik', 'brbrs', 'fousey', '2hours', 'tryna', 'sj', 'gist', '148', 'produce', 'streetjamzdotnet', 'childhood', 'msmigot', 'convincing', 'compelling', 'denier', 'tend', 'givingevidence', 'preschool', 'hunger', 'rich', 'decrease', 'moth', 'sapphirescallop', 'oppa', 'haaaaaa', 'dazzle', 'catch', 'monwabisi', 'hlongwane', 'ryt', 'ashestoashes', 'engineermatarai', 'ate', 'mataas', 'kc', 'ratingbut', 'rating', 'elgeotaofeeq', 'ambition', 'voted', 'justicemalala', 'nkeajresq', 'nkea', 'gambia', 'mercenary', 'foxa', 'cmcsa', 'sni', 'amcx', 'viab', 'twx', '3941', 'swim', 'lonely', 'lifeguard', 'hated', 'alanhahn', 'hdumpty39', 'daughtery', 'emotionally', 'factual', 'basis', 'reddevil4life', 'illusion', 'fn', 'everydaynaija', 'reportedly', 'ut', '3967', '3942', '319', 'phew', 'meat', 'incinerator', 'pulkovo', 'freemurphy', 'hitchhiking', 'garbagebot', 'sorely', 'semasirtalks', 'namekians', 'ryanoss123', 'hitter', 'pitcher', 'ethereal', 'abomb', 'destroyd', 'hiroshimabbc', 'survived', 'cnv', 'vigil', 'davidvitter', '2003', '3945', 'zaire2005', 'specialguest', 'crapgamer', 'recap', 'gamescom', 'hotteennsfwpornmilf', 'oiled', 'size', 'cock', 'closeup', '3934', 'silas', 'sliced', 'headlinelike', 'chopped', 'cabbage', 'gh', 'harbhajansingh', 'stuartbroad8', 'believeis', 'stuart', 'broad', 'yuvi', 'ford', '3939', 'frontlines', 'ontario', 'developer', 'restricted', 'demonstratio', 'danhrothschild', 'greed', 'selfdestruction', 'takecare', 'cinla1964', 'windowgatribble', 'foreboding', 'expansive', 'saturation', 'hue', 'sanctioned', 'homebuyer', 'miscalculation', 'mwjcdk', 'fly', 'workspace', 'forsee', 'badkitty', 'thisiswhywecanthavenicethings', 'lt3dave', 'spec', 'lore', 'salvage', 'banned', 'border', 'styled', 'undergroundbestsellers', 'decree', 'imported', 'russiaukraine', 'independent', 'divided', 'matthew', '1232', 'megadethsymphony', 'planner', 'singled', 'thingsihate', 'hassanrouhani', 'doomed', 'invest', 'blossominglilac', 'ruined', 'arrogant', 'megadeth', 'symphony', '1998', 'appetite', '57', 'alexeivolkov1', 'mcfaul', 'equal', 'roskomnadzor', 'ridiculously', 'politicized', 'bonn1egreer', 'propelled', 'wb', 'marquei', 'como', 'visto', '1x1', 'bancodeseries', 'illegally', 'unimaginable', 'tinyjecht', 'standuser', 'detonate', 'antioch', 'tenn', 'tennessean', 'apollo', 'ft', 'furiosoxv', 'stuns', 'aw', 'spinningbot', 'mythgriy', 'touch', 'boulder', 'stearns', 'jtw', 'bldrcosheriff', 'younger', 'cbsdenver', 'heavyweight', 'rapping', 'lemon', 'noperiferico', 'orapinforma', '52214904', '5139055', 'hilversum', 'meter', 'surface', 'opticscumper', 'channelstvthats', 'intel', 'hhbu', 'mello', 'woundedpigeon', 'apollobrown', 'mwnhappy', 'message', 'grandeur', 'nottingham', 'autumn', 'autoames', 'hoped', 'ventilated', 'bandolier', 'dix', 'fiya', 'sourmashnumber7', 'tomfromireland', 'rfcgeom66', 'bbctalkback', 'succeed', 'detonateshots', 'apollobrowns', 'ftmop', 'href', 'featuring', 'ignition', 'knock', 'detonation', 'sensorsenso', '0308', 'mazda', '30lv6', 'sensor', 'connectorconnecto', 'motorcraft', 'wpt994', 'ks161', 'ks57', 'ks94', 'dorman', '917033', 'connector', 'quote', 'esteemed', 'belt', 'regarding', 'esevu', 'googlemaps', 'mashup', 'calculates', 'touching', 'obtaing', 'electrical', 'transcription', 'butiqob', '0106', 'bmw', '325ci', '25ll6', 'sensorknock', 'delphi', 'as10004', 'wpt410', 'beckarnley', '1580853', 'realistic', 'asset', 'entering', 'koz', 'smp', 'ks315', 'ks100', 'waterproof', 'weiqin', 'famous', 'brand', 'michel', 'lujo', '1581017', 'acdelco', '213924', 'trivium', 'rrusa', 'appys', 'myth', 'obscuring', 'salon', 'fashionable', 'mountaineering', 'waterresistant', 'leisure', 'tab', '2134678', '0206', 'acura', 'rsx', '20ll4', '917141', 'consequence', 'icrc', '9798', 'f250', '46lv8', 'ks111', 'meganbee92', 'kadiegrr', 'devastated', 'tyler', 'blackburn', 'pll', 'currensy', 'talkin', 'anybody', 'richmond', 'jam', 'malik', 'perrie', 'edward', 'engagement', 'gujaratriot', 'mumbairiot9293', '10001000', 'indianperpetrated', 'chawalchorbjp', 'unwomen', 'unnewsteam', 'losdelsonido', 'declares', 'typhoondevastated', 'saipan', 'declaration', 'ivanberroa', 'barack', 'declared', 'marians', 'foto', 'realised', 'actor', 'rossbarton', 'gobsmackeddevastated', 'bairstow', 'buffet', 'lad', 'abcnews', 'indoors', 'arfur', 'georgecole', 'argentings', 'aaaaaaallll', 'allegation', 'keegan172', 'cainsuch', 'wesleylowery', 'devastation', 'utter', 'shock', 'alternative', 'kalmikya', 'astrakhan', 'volgagrad', 'dagestan', 'locust', 'timeworld', 'wrought', 'obsolete', 'ashes2015', 'latestnews', 'cnbc', 'cllrraymogford', 'comprehensive', 'wartime', 'wroug', 'ssssnell', 'rope', 'www', 'hiroshimanagasaki', 'decade', 'hungerarticles', 'nepal', 'rebuilding', 'livelihood', 'quake', 'breach', 'pampalmater', 'perrybellegarde', 'pmharper', 'firstnations', 'idlenomore', 'cndpoli', 'yyj', 'argentina', 'thorium', 'scandal', 'environmental', 'elation', 'hintdevastation', 'beyondthebomb', 'fascinating', 'korea', 'propaganda', '10m', 'settlement', 'juror', 'newyear', '2006', 'starbucks', 'momneedscoffee', 'iwontmakeit', 'pandemic', 'blasting', 'benediction', 'sanelesstheory', 'urgent', 'jakartapost', 'lovelylikelaura', 'msfsea', 'mediterranean', 'massgrave', 'mclaughlin', 'timaroberts', 'wo', 'nana', 'restlessness', 'strengthening', 'afterhaiyan', 'haiyan', 'yolandaph', 'philippine', 'disasterrecovery', 'staining', 'attempt', 'cw500', 'return', 'listeria', 'theneeds', 'jeff', 'locke', 'fin', 'pirate', 'acquired', 'starter', 'ja', 'blowltan', 'metepec', 'disastereoficial', 'nitclub', 'msica', 'cinema', 'vitaly', 'churkin', 'briliantly', 'ukraine', 'klimkin', 'mh17', 'slipped', 'lack', 'hollyorange8', 'emotion', 'peoplecommunication', 'iron', 'fist', 'gurmeetramrahim', 'msgdoing111welfareworks', 'ke', 'appx', '65000', 'har', 'liye', 'tyar', 'hai', 'cncpts', 'solelinks', 'amznfavorites', 'devereaux', 'exciting', 'scifi', 'askin', 'rbcinsurance', 'browser', 'nonexistant', 'photogenic', 'gosh', 'atcinema', 'pitch', 'positively', 'van', 'nuys', '530pm', 'vannuyscouncil', 'youssefyamani', 'equation', 'sittwe', 'prison', 'genocide', 'ihhen', 'msf', 'boarding', 'galleria', 'apts', '55', 'strategicpatience', 'idp', 'internally', '1200000', '11000000', 'prisonlike', 'conditionsprivation', 'lizhphoto', 'outburst', 'aggression', 'sux', '12news', 'housed', '90th', 'osborn', 'extinguished', 'openly', 'accuses', 'nema', 'wom', 'iamtalia', 'sgc72', 'displacedinjuredkilled', 'opportunity', '2065', 'meme', 'opened', 'museum', '180', 'reliefweb', '9000', 'photograph', '1800s', 'mandate', 'trace', 'circular', 'gn', '11st', 'nm', 'diplomat', 'township', 'pennlive', 'mechanicsburg', 'killeddisplaced', 'systematic', 'torture', 'carried', 'grahamwp', 'arrest', 'phelimkine', 'socialmediadriven', 'refugeesmatter', 'cityofhummus', 'ilnewsflash', 'diaspora', 'elem', 'pomo', 'gofundme', 'label', 'nevada', 'exceptional', 'steady', 'nv', 'droughtgov', 'affect', 'extreme', 'dampen', 'llf', 'nigerian', 'makewaterwork', 'okanagan', 'maxed', 'westerncanadadrought', 'relentless', '91f', 'humidity', 'dominicana', 'treasure', 'drain', 'columbia', 'trib', 'suspended', 'sep', 'droughtcheck', 'cloud', 'iot', 'conserve', 'gfrost1985', 'jeffpalmer16', 'finding', 'ego', 'dqsvyusy', 'worsen', 'surrounding', 'weed', 'droughtmonitor', 'moderate', 'contig', '80m', 'neat', 'couldnt', 'karinagarciaxo', 'bud', 'sahel', 'desert', 'chore', 'anderson', 'scwx', 'droughtfueled', 'spreading', 'rapidly', 'macon', 'warnerrobins', 'milledgeville', 'gawx', 'ashj', 'gaabyx', 'activist', 'mydrought', 'bringing', 'eerie', 'revealing', 'cadrought', 'lakeisabella', 'jpanzar', 'mane', 'raider', '106', 'karijobe', 'loud', 'tambourine', 'codycarnes', 'agusa', 'gecko', 'chillin', 'anchor', 'porcupine', 'lowkey', 'chromsucks', 'choke', 'k', 'cameronhigdon34', 'graysondolan', 'lwilliams13', 'ev', 'cortneymo', 'mfsloose', 'jasminehuerta24', 'mustard', 'native', 'created', 'urine', 'insult', 'devote', 'pride', 'reprocussions', 'retroactive', 'noise', 'whiskey', 'nathans', 'potentially', 'jonesboro', 'horizon', 'information', 'utp', 'brb', 'kessily', 'allthekidneybeansandsorbet4misha', 'dmerida', 'drowned', 'nataly', 'steak', 'cheer', 'clev', 'cleverbot', 'ursula', 'protoshoggoth', 'sort', 'kiddie', 'ploppy', 'memorial', 'gamergate', 'stephengeorg', 'yellow', 'abcnews24', 'peterduttonmp', 'younoone', 'labor', 'fnaf', 'fanfiction', 'trixiedrowned', 'pageshi', 'proxy', 'promo', 'dwenglish', 'ufo4ublogeurope', 'ashley', 'existence', 'couldve', 'visting', 'georgina', 'rat', 'cafeawful', 'itsdanie', 'noooo', 'fetch', 'pyjama', 'swam', 'bounced', 'suffice', 'uplifting', 'austinpearcy22', 'asylum', 'seeker', 'alameda', 'coke', 'tracking', 'scraped', 'summer2k15', 'calais', 'eeasterling2', 'dinosaurdracula', 'remorse', 'jason', 'coalition', 'fondness', 'backing', '1984style', 'totalitarianism', 'surprise', 'copied', 'janiethekillr', 'sketchbook', 'biting', 'mask', 'howre', 'drowning', 'caitlin', 'kiernan', 'centipede', 'numbered', 'grace', 'swollen', 'iiii', 'riveeeeeer', 'mourns', 'superhero', 'epilepsy', 'bradley', 'diebold', 'epileptic', '2his', 'explanation', 'request', 'provided', 'acrylic', '080515', 'annoucement', 'jeesss', 'ethereal7', 'medic', 'jlabuz', 'heyimbeeyt', 'nashsnewvideo', 'sometimesi', 'anxietyproblems', 'sweatfyi', 'nigeltanner1', 'newly', 'maple', 'autistic', 'nineyearold', 'maine', 'dove', 'jacket', 'dravet', 'drowns', 'brochure', 'downside', 'jarmusch', 'vampire', 'itblank', 'expressioncheeks', 'clapping', 'facemarvins', 'subtlety', 'breakingfalling', 'actavis', 'homukami', 'hw', 'ohlordy', 'nwspocatello', 'bg16', 'brunt', 'grayed', 'dust', 'interspersed', 'sod', 'amman', 'diverted', 'gurion', 'disappear', 'atmospheric', 'newzsacramento', 'modis', 'morocco', 'strait', 'gibraltar', 'duststorm', 'totoooooo', 'totoooooooooo', 'historicalmages', 'stratford', '18th', 'april', '1935', 'weakening', 'lubbock', 'outflow', 'create', 'blowing', 'windits', 'yelling', 'alice', 'uluru', 'sneezing', 'smack', 'trailed', 'colin', 'goodness', 'fee', 'rotary', 'uvopwz', 'retiredfilth', 'stormlike', 'unreal', 'brewing', 'thunder', 'i90', 'vantage', 'eastbound', 'visibility', 'geyser', 'riyadh', 'screenshots', 'combat', 'magnum', 'opus', 'cogxbox', 'xboxone', 'windmy', '500th', 'duststormfilm', 'idaho', 'i15', 'idwx', 'economics', 'dakota', 'hubert', 'humphrey', 'challenging', 'raw', 'legacyofthesith', 'sagacioussaber', 'lordofbetrayal', 'crescent', 'formation', '82ndabndiv', 'paratrooper', 'loading', '60mph', 'deadlydemi', 'staying', 'barrier', 'tp', 'fest', 'goggles', 'circle', 'sismo', '4km', 'interlaken', 'time20150806', '005225', 'utc20150805', '175225', '07', '143', 'helen', '0936', 'utc', 'contruction', 'upgrading', 'vashon', 'mukilteo', 'q13', 'earthquakenews', '3novices', 'renison', 'seismic', 'tasmania', 'tin', 'tem', 'shelli', 'entitlement', 'sicily', 'usgs', 'eq', '23km', 'twentynine', 'time20150805', '235409', 'ml', 'magnitudeml', '24regionnear', '8km', 'ssw', 'anza', '012624', '182624', '070', '15km', 'anchorage', '0011', 'raffirc', 'sustainourearth', 'oklahoma', 'limit', 'thi', '09', '015025', 'utc20150806', 'epicenter', 'earthtwerk', 'scseestapreparando', 'mag', '44', '73km', 'khuzdar', 'wednes', 'volcanodiscover', '165409', 'ageekyfangirl14', 'significant', 'humor', 'fart', 'creates', 'loupascale', 'euroquake', 'm194', '5km', 'hawaii', '8615', '10401', 'gns', 'unnecessary', 'legislation', 'emily', 'rossum', 'difficultpeople', '001116', '161116', '080', '0800', 'vulnera', 'gpv', '06jst', '6aug', 'wnw', '12jst', '18jst', 'm157', '0111', 'utc3km', 'nnw', 'henshaw', 'atm', '0700', '1km', 'nne', '234021', '164021', 'darchambau', 'encouragement', 'apocalyptic', 'tsunami', 'emsc', 'emmy', 'megaquake', '96km', 'brenas', 'puerto', 'rico', '103424', '063424', '0400', 'adanne', 'kindly', 'devonbreneman', 'electrocute', 'heated', 'blanket', 'aa', 'battery', 'elecman', 'extends', 'tub', 'niall', 'jinx', 'edison', 'lightbulb', 'tesla', 'unsafe', 'wank', 'achievement', 'unlocked', 'replaced', 'socket', 'ielectrocute', 'zxathetis', 'badly', 'danisnotonfire', 'mmchale13', 'charging', 'erally', 'unplug', 'ac', 'myelf', 'delete', 'lightseraphs', 'pikachu', 'omarmolina036', 'milioooo', 'emilio', 'kayla', 'bangtan', 'weallheartonedirection', 'wouldnt', 'asshole', 'fair', 'connection', 'buckley', 'jr', 'beard', 'any1', 'hideous', 'uglypeople', 'wouldelectrocute', 'eltorroloco', 'senator', 'cooking', 'electrocuted', 'crucial', 'psychic', 'pakistannews', 'pakpattan', 'correspondent', 'stick', 'lightening', 'backyard', 'cactusborderlands', 'borderlands2', 'oocvg', 'ftw', 'redblood', 'videoclip', 'thatfatguy', 'elephant', 'khulna', 'factory', '17000', 'penalty', 'columbus', 'rowysolouisville', 'steveycheese99', 'mapmyrun', 'map', 'stung', 'bbcnews', 'mwlippert', 'southkorea', 'preparedelectrocutedboiling', 'waterfur', 'plug', 'hairdryer', 'earthsvoice', 'tiger', 'appalling', 'businessmen', 'saveti', 'drying', 'sweated', 'earbuds', 'wondering', 'charger', 'queer', 'sultry', 'rosenbergs', 'zotar50', 'skeleton', 'alchemist', 'atamathon', 'golem', 'nankana', 'sahib', 'electr', 'mumbailocals', 'lessonforlife', 'marinelines', 'worked', 'pressing', 'tshirts', 'dt', 'faulty', 'docked', 'elsa', 'vacation', 'penneys', 'whistleblower', 'lawsuit', 'supervisor', 'whistle', 'cree', 'knife', 'mp3', 'rar', 'dispatcher', 'boone', 'surgery', '37592', 'temporary', 'tooth', 'teeth', 'replacement', 'dental', 'cosme', 'forbid', 'wale', 'archipelagowolves', 'nearing', 'extinction', 'standforwolves', 'importance', 'heartbeat', 'sounding', 'familiar', 'newyorkcity', 'medicine', 'lennox', 'drjustinmazur', 'kuwait', 'diverts', 'declaring', 'radychildrens', 'specialist', 'stl', 'ace', 'grille', 'speedtech', 'amber', '544', 'type', 'present', 'x2', 'designed', '11000', 'seed', 'vegetable', 'gear', 'mre', 'indiana', 'reopening', 'i65', 'lafayette', '415', '7510880', 'sheltersupport', 'nonenglish', 'canal', 'tookitlikeaman', 'lovemydentist', 'runnerjoy', 'wart', 'childfund', 'careemergencies', 'appeal', 'nurse', 'practitioner', 'healthcare', 'recruitment', 'wasilla', 'fund', 'expense', 'broader', 'conservation', 'akgovbillwalker', 'reinstate', 'buffer', 'protectdenaliwolves', 'aul', 'excuse', 'advance', 'treasurehouse', 'outbreed', 'takehome', 'akx', 'peacetime', 'leandotorg', 'lean', 'quicker', 'addict', 'responded', 'busty', 'blonde', 'natalia', 'starr', 'mineenjoyfire', 'firetruck', 'batfanuk', 'non', 'declined', '2007', 'adndotcom', 'chowtaxis', 'newport', 'jackie', 'bristol', 'supply', 'install', 'frp', 'tuna', 'kijangbank', 'negara', 'closing', '20150814', 'odai', 'bucharest', 'romania', '600', 'dyingthey', 'printable', 'template', 'dec', 'h20', 'deploy', 'troop', 'poconorecord', 'emergencymgtmag', 'household', 'builder', 'blackmail', 'activated', 'municipal', 'reddit', 'devise', 'megan', 'swanger', 'ruthann', 'mccormick', 'daisy', 'henley', 'cityofcalgary', 'activates', 'yyc', 'abstorm', 'rs40000cr', 'lifeline', 'fci', 'waste', '3612', 'capacity', 'nw', 'workplace', 'retail', 'announces', 'primarily', '311', '660', 'counterstrike', 'sick', 'roomsgrrrr', 'basedgeorgie', 'forreal', 'incase', 'whipe', 'rebeccaforreal', 'accepts', 'wisconsin', 'govwalker', 'nbc15', 'cruise', 'mi', 'biztip', 'electricity', 'sami', 'autism', 'specialneeds', 'feinstein', 'vet', 'cochrane', 'enacted', 'cbccalgary', 'underpass', 'enacts', 'english', 'arabic', 'vietnamese', 'undone', 'adverse', 'gotriangle', 'approach', 'concludes', 'deactivated', 'overload', 'prompt', 'chrisroth98', 'chaselabsports', 'chillimik', 'hushlegs', 'comparing', 'brilliant', 'arse', 'tflbusalerts', 'ilford', 'glenstannard', 'essexweather', 'abouts', 'providence', 'nursing', 'torrance', 'task', 'levy', 'wdtv', 'fte', 'olympia', 'served', 'committee', 'personnel', 'iiemergency', 'servicesft7p7a', 'tx', 'veteran', 'ensure', 'access', 'proper', 'treatmen', 'followme', 'unsure', 'cope', 'paging', 'brooklyn', 'locksmith', 'domesticate', 'mechanic', 'circa', 'clock', 'gba', 'sunyorange', 'budget', 'thurs', '315', 'ctr', 'goshen', '7a730p', 'siena', 'henderson', 'missionhills', 'karen', 'robinson', 'enviromental', 'tfl', 'downtime', 'trained', '3p', '330a', 'lima', 'shutdown', 'edmonton', 'kodiak', '247', 'swedish', 'goulburn', 'henry', 'bilsen', 'tarzana', 'stressed', 'hysteria', 'grey', 'misty', 'indifference', 'returning', 'normal', 'southline', 'yennora', 'cabramatta', 'swayoung01', 'recognised', 'performing', 'simon', 'pediatric', 'specialized', 'registered', 'engulfed', 'parley', 'canyon', 'tribal', 'ie', 'madinah', 'prophetmuhammad', 'islam', 'trafficalert', '210', 'freeway', 'citrus', 'azusa', 'travel', 'chaos', 'crosslondon', 'accepte', 'carinduced', 'tidal', 'fnaftalkmc', 'smiling', 'inchaos', 'jumper', 'godsfirstson1', 'wrapped', 'practically', 'literarycakes', 'raheelsharif', 'manifesting', 'helm', 'darkstormytidalsea', 'fiery', 'disdain', 'equally', 'incapable', 'nothingness', 'emerges', 'blaise', 'pascal', 'garage', 'propane', 'sunnymeade', 'suelinflower', 'describe', 'painthey', 'screamed', 'lifeits', 'zachzaidman', '670thescore', 'wld', 'golf', 'cart', 'boycottbears', 'summit', 'baffling', 'lucas', 'duda', 'ghost', 'nic', 'badass', 'carneross', 'remarkably', 'puny', 'epicentre', 'postcapitalism', 'epoch', 'aliveafter5', 'elisagxrcia', 'vault', 'tanzania', 'census', 'calestous', 'defeater', 'yeaahh', 'nowhere', 'becoming', 'cydia', 'tweak', 'phillipten', 'rjailbreak', 'mkayla', 'cee', 'petty', 'childish', 'organizer', 'lollapalooza', 'prompted', 'studying', 'warnings900037', 'zehrs', '039monster039', 'firefigthers', 'northampton', 'poem', 'tram', 'powerlines', 'carriage', 'tennews', 'cascada', 'dancefloor', 'disregard', 'speak', 'fwd', 'jumped', 'alllll', 'nittys', 'stockwell', 'metlife', 'replacing', 'aimlessly', 'detersion', 'hlg', 'efak', 'alexis', 'joonma', 'dealbreaker', 'so', 'abandon', 'dungeon', 'mygc', 'suspend', 'dispatch', 'rutherford', 'refuse', 'abandoned', 'ahhtheenikki', 'pantalonesfuego', 'grew', 'quick', 'mthe', 'premise', 'meetkakarotto', 'offline', 'hinata', 'emilee', 'milkshake', 'fifa16', 'pre', 'tournament', 'whocares', 'criminal', 'murderous', 'murfreesboro', 'evacuated', 'dnjcom', 'disrupted', 'gc', '9newsbrisbane', '9newsgoldcoast', 'reopens', 'bickleton', 'roosevelt', 'liveonk2', 'ordered', 'koin6news', 'mall', 'trafford', 'odeon', '60000', '12000', 'portland', 'miami', 'casper', 'bukidnon', 'missleylaha', 'hahahaha', 'glink', 'tr', 'sandy', 'hook', 'elementary', 'twi', 'manchesterlite', 'safely', 'shore', 'norfolk', '115film', 'unstablethe', 'ahrar', 'negotiation', 'zabadani', 'sunni', 'katunews', 'sr14', '1700', 'seclusion', 'compliance', 'morevoices', 'traveller', 'surfer', 'faan', 'noted', 'mandatory', 'todayng', 'humboldt', 'cty', 'sheriff', 'advisory', 'residence', 'lassics', 'vietnam', 'patch', '71st', 'highland', 'veldfest', 'refund', 'markoturner', 'annaciclismo', 'bend', 'roofing', 'halfhr', 'swayback', 'ridge', 'areavoluntaryinciwebmad', 'calfires', 'indexing', 'remedial', 'angioplasty', 'dissertation', 'dismayed', 'ifak', 'roofer', 'neces', 'todayngr', 'ericbulak', 'jaclynsonne', 'oliviaann', 'guessing', 'ultimatum', 'dailytimesngr', 'evac', 'gnwt', 'voluntary', 'cabin', 'pickerel', 'reid', 'accidently', 'exam', 'lolla', 'ink', 'veld', 'trc', 'torontorc', 'reidlake', 'maca', 'nwt', 'yzf', 'ibrahimmisau', 'campground', 'ariabrisard', 'leiaorganasolo', 'feelingmanly', 'komo', 'saint', 'ryan', 'earner', 'noahcrothman', 'minutia', 'serve', 'champagne', 'mouth', 'upwards', 'newheights', 'annealiz1', 'redhead', 'attjcdemos', 'folieacat', 'timebomb', 'destined', 'reaching', 'spinning', 'hitting', 'loadexplode', 'shizune', 'schwarber', 'swea', 'kendall', 'jenner', 'jonas', 'dating', 'can', 'kaldi', 'stout', 'rin', 'misha', 'emi', 'kenji', 'yuuko', 'nomiya', 'hisao', 'philadelphia', 'eagle', 'hotnewscake', 'deniseromano', 'cervelli', 'puff', 'allenenbot', 'tagged', 'attackonstiles', 'apunk', 'alpha', 'doll', 'duck', 'greasy', 'anonchimp', 'tie', 'deldryden', 'twitch', 'chick', 'masturbates', 'exploded', 'crimsonfuckingv', 'bitchl0vecannon', 'admit', 'seras', 'sasha', 'peice', 'sidewalk', 'kakeru', 'teduka', 'bfore', '70years', 'bomd', 'tesco', 'chelseadogs', 'pet', 'kopiteluke1892', 'brandonskeie', 'samsmithworld', 'dress', 'medinah', '105', '49', 'imkeepingmydayjob', 'chaning', 'screen', 'otrametlife', 'junko', '1945', 'whose', 'drako', 'zarharzar', 'noticed', 'mentioned', 'versethe', 'anime', 'bluewestlo', '38745', 'luke', 'microphone', 'ovary', 'kingmyth1999', 'squeeze', 'itsnasb', 'sarcasm', 'kai', 'forbath', 'merycormier', 'cosima', 'shay', 'yumiko', 'woah', 'lenkaiswaifu', 'sparking', 'akxbskdn', 'lunasagalle', 'synapsenkotze', 'bean', 'bastard', '1665', 'sailor', 'artillery', 'cartridge', 'okgooner', 'hahaha', 'loaded', 'liver', 'joint', 'poured', 'fallontonight', 'explosionproof', 'tempered', 'protector', 'blackberry', 'z10', 'mechanical', 'pharaoh', 'corey', 'brewer', '51point', 'dancer', 'attendance', 'gmmbc', 'saturday', '2500fps', 'slow', 'aluminum', 'southeast', 'missouri', 'renaomino', 'logo', 'mental', 'gaelite', 'greg', 'orchard', 'dye', 'exploring', 'miville', 'moreosha', 'siteinvestigating', 'noranda', 'kfvs12', 'cape', 'girardeau', 'carbondale', 'bluff', 'timelapse', 'isao', 'hashimoto', 'atomicbomb', 'kircut1', 'dope', 'dopest', 'strategyhua', 'aspiring', 'writer', 'colinhoffman29', 'pyrotechnic', 'artwork', 'cai', 'guoqiang', 'blossom', 'aminespn', 'mencius', 'correct', 'lordrsbiscuits', 'begforcum', 'alldaycumshots', 'cumcovered', 'sexycumshots', 'cumtown', 'bjnutt', 'cumslut2', 'girlslovecum', 'saddle', 'accountable', 'preferable', 'brass', 'tawfmcaw', 'hangout', '830pm', 'est', 'kindermorgan', 'amalie', 'arena', 'sunflower', 'elevator', 'button', 'checkout', 'nurgle', 'snuck', 'khrones', 'expo', '14th', 'keith', 'gusto', 'persist', 'emptypated', 'hpssjd', 'customized', 'dcubecrafts', 'greetingcards', 'powder', 'discussed', 'introduction', 'theological', 'aesthetic', 'pittsburgh', 'eyewitness', 'barcousky', 'penn', 'squibby', 'identification', 'wpri', 'rhode', 'modernize', 'voting', 'gleaned', 'demolishes', 'dramatic', 'hoisting', 'actively', 'embraced', 'emhub', 'ugc', 'climatechange', 'anarchy', 'kaputt21', 'hamburg', 'gregory', 'wickett', 'deny', 'investigation', 'pony', 'cbs3', 'redwing', 'seal', 'wexler', 'sanford', 'hardcover', 'testimonial', 'schoolboy', 'wftv', 'tn', 'psychologist', 'porn', 'kern', 'airing', 'kbak', 'cbs29', 'liveonkbak', 'illustrated', 'particularly', 'horrifying', 'organ', 'harvesting', 'dk', 'denmark', 'patrickjbutler', 'damiengayle', 'closure', 'notorious', 'laboratory', 'dealer', 'peta', 'wbre', 'wyou', 'dorling', 'kindersley', 'publishing', 'stagetwo', 'shedding', '10pm', 'married', 'honduran', 'freed', 'bokoharam', 'captive', 'macia', 'testified', 'macias', 'crematorium', 'provoke', 'famine', 'moscow', 'oct336', 'wsoaring', 'soviet', 'function', 'zonesthank', 'gallup', 'poll', 'suffer', 'ari', 'unu', 'feast', 'redeem', 'serene', 'robertmeyer9', 'example', 'farmer', 'capitalism', 'perished', 'holodomor', 'erected', 'exporting', 'solving', 'feeding', 'bluebell', 'tasted', 'starving', 'writes4coffee', 'iartg', 'rwa', 'tw4rw', 'rrbc', 'financialtimes', 'ethiopian', 'regime', 'receiving', 'eastern', 'ethiopia', 'faminemega', '0840728', 'dynamix', 'faminememories', 'bolshevik', 'monopolized', 'seize', 'hunhry', 'artificial', 'experienced', 'smell', 'rotting', 'potato', 'smelled', 'savagenation', 'peasant', 'stalin', 'redistribute', 'faminedeath', '1russian', 'recal', 'adventure', 'mineness', 'conquest', 'kiev', 'guidofawkes', 'mediaguido', 'provokes', 'presence', 'growing', 'stronger', 'maratha', 'scorched', 'punjab', 'refused', 'bengali', 'hopeinchrist', 'lifelettercafe', 'surfphoto', 'squeezed', 'lego', 'blubber', '11yearold', 'manslaughter', 'sh', 'goodells', 'elijah', 'walker', 'appeared', 'attraction', 'apd', 'investigator', 'waimate', 'asianshawtyy', 'vermont', 'hitandrun', 'khqa', 'winnipeg', 'arlington', 'chrisdanielshow', 'nearlyfatal', 'pee', 'francisco', 'remaster', 'frame', 'windwakerstyle', 'dubbo', 'bail', 'dailyliberal', 'wrongway', 'flaw', 'stockton', 'driveby', 'dispute', 'gunfail', 'nra', 'immigrant', 'spookyfob', 'feelslikefob', 'kindness', 'stump', 'permanent', 'adopt', 'overlooked', 'whyor', 'ballews', 'statement', '3yearold', '179', 'fatality', 'onduty', 'nypd', 'eight', 'vital', 'econom', 'news3lv', 'unprepared', 'emp', 'posse', 'pushing', 'implores', 'motorist', 'reserve', 'kyrikoni', 'expressandstar', 'veg', '6month', '662', '114', 'hse', 'deadliest', 'mortal', 'kombat', 'stretched', '11382', 'interlocking', 'osage', 'coolweird', 'itll', 'mkx', 'skinless', 'predator', 'abha', 'wisely', 'carnage', 'continuinglet', 'ggindependencmessage', 'gross', 'xrays', 'dwilliams313', 'ieansquad', 'kitana', 'slay', 'kody', 'kombatfans33', 'osp', 'mounting', 'estimated', 'hiroshimasized', 'hometown', 'hiroshima70', 'rcmp', 'tch', 'whitbourne', 'allocating', 'bn', 'veneto', 'zero', 'biterelated', '1979', 'tremor', 'dlc', 'fatalitiesxray', 'motordom', 'lobbied', 'language', 'visionzero', 'failing', 'yield', 'segas', 'reduces', 'kevinedwardsjr', 'fatalitiesxrays', '400000800000', '8th', 'increase', 'healthandsafety', 'immensely', 'policylab', 'cecanfs', 'neglect', 'yep', 'projected', 'downfall', 'freemarketeer', 'dibang', 'logistics', 'enca', 'onboard', 'capsized', 'display', '616', 'irish', 'ebrointheam', 'jaybig', 'lpunbiggiewrap', 'overzero', 'questionfatalityflawless', 'jakeadavis', 'fatalityus', 'cuddling', 'trulystings', 'dm', 'savage', 'gangstermail', 'samsung', 'vgbootcamp', 'sx', '109', 'sn', 'vabengal', 'captain', 'falcon', 'hibernating', 'pbx', 'irrespective', 'careerism', 'pan', 'crbzfz', 'lyme', 'hripsk', 'corpse', 'jittering', '101', 'rig', 'tellyfckngo', 'jaycootchi', 'homie', 'wit', 'sond', 'babality', 'kosciusko', 'bardissimo', 'basket', 'charming', 'tonyakappes11', 'paranormal', 'highestranking', 'babybackreeve', '08315', 'utica', 'pleasant', 'aveblack', 'paw', 'grass', 'pxnatosil', 'renunciedilma', 'jaxmk2', 'fatalityuudlk', 'mileena', 'chrisman528', '40w', 'us70', 'lebanon', 'lindasocvat', 'deathmule', 'mk', 'stalag', 'ermac', 'ssb4', 'loser', 'loretta', 'fuddy', 'authenticating', 'sole', 'combined', 'picked', 'overcome', 'behold', 'tcc', 'endless', 'phnotf', 'cheekiness', 'bleeds', 'recoil', 'strongminded', 'keeper', 'runnin', 'disappointing', 'drove', 'midnight', 'passive', 'aggressively', 'coerced', 'commitment', 'organizationsfluctuations', 'disturbance', 'imbalancesare', 'primary', 'creativity', 'margaret', 'wheatley', 'musicvideo', 'luzukokoti', 'understanding', 'umntu', 'wakho', 'referencereference', 'xekstrin', 'cried', 'partake', 'baileysmsteach', 'doingahhhthat', 'perrychat', 'opposite', 'blackinamerica', 'growingupblack', 'cowgirllawyer', 'unawares', 'intoxicated', 'creative', 'interviewed', 'depth', 'anatomy', 'loathing', 'vegassolitude', 'xmas', 'shakjn', 'c7', 'shaking', 'choosegod', 'restoringpaths', 'unknown', 'curiosity', 'scottdpierce', 'billharristv', 'harrisgle', 'beezersun', 'forfeiting', 'xfiles', 'thexfiles201days', 'balanced', 'ought', 'untangle', 'besttalkradio', '23rd', 'mcnabbychic', 'knowledge', 'foolish', 'wisdom', 'amsal', 'denying', 'polar', 'sensanders', 'gd', 'wrked', 'reed', '8437150124', 'achieving', 'deltachildren', 'instaquote', 'quoteoftheday', 'waltdisney', 'motivator', 'reflection', 'form', 'selfdelusion', 'selfseeking', 'selfpity', 'morganite', 'gemstone', 'opal', '925', 'sterling', 'r1354', 'throne', '3x5', 'kissed', 'salisbury', '325', 'cypress', '10am', 'misshomasttopa', 'nowwwwww', 'avi', 'header', 'combo', 'retro', 'politifiact', 'harry', 'pant', 'canonusaimaging', 'canonbringit', 'canontattoo', 'mn', 'theresmorewherethatcamefrom', 'seanhannity', 'gasoline', 'wcw', 'catsandsyrup', 'tha', 'icy', 'rum', 'daughterofnai', 'tenshi', 'yukis', 'shakingcatching', 'fireand', 'overcharging', 'rent', 'catalinas', 'overwork', 'justinling', 'rainbow', 'cyhi', 'zomatoaus', 'lovefood', 'obstacle', 'dontexpectnothing', 'smelling', 'bon', 'smores', 'brant', 'drummond', 'rfp', 'f450', 'transporta', 'reno', 'pugwash', 'population6', 'sigalert', '3n133', 'ufn', 'trash', 'brooktekle', 'langley', 'pat', 'spen', 'kapokekito', 'northgate', 'wompppp', 'k3', 'phase', 'prayforsaipan', '133', 'irvine', 'chp', 'detouring', 'eeenice221', 'justinejayyy', 'ohgod', 'mineenjoybabes', 'reopened', 'knx1070', '1952', 'dodge', 'wayne', 'bodied', 'libby', 'ori', 'trident', '90225', 'pumper', 'ims', 'ho', '187', 'bedding', 'sticker', 'decal', 'racer', 'clog', 'rgj', 'cebu', 'philippi', 'nno', 'choose', 'push', 'jaymcleanauthor', 'filipino', '58', 'jade', 'fl', 'njturnpike', 'lukebox', 'besides', 'mnpdnashville', 'nashvillefd', 'swiftly', 'praying', '10k', 'doningtondash', '11am', 'sept', 'donington', 'detkenlang', 'smartteks', 'gpsbased', 'mpers', 'curb', 'carmike', 'roadid', 'vip', 'vimeo', 'juneau', 'lightly', 'reserved', 'hightech', 'kirsten', 'gillibrand', 'extend', 'convene', 'award', 'gi', 'gisuserpr', 'geotech', 'badge', 'resilience', 'factsheet', 'iafflocal4416', 'int', 'bridgeportspeed', '999day', 'brave', 'dart', 'participating', 'intensive', 'technical', 'gain', 'heading', 'antiochhickoryhollowtn', 'lender', 'linkedin', 'pantofel', 'infoorder', 'sms087809233445', 'pin23928835', 'pictwittercompnpizody', 'hatcap', 'silvergray', 'embroidered', 'luchaunderground', 'elreynetwork', 'fever', 'summon', 'directly', 'fineme', 'momdies', 'guest', 'chachi', 'kelworldpeace', 'taxstone', 'yoga', 'sbnation', 'pity', 'gilderoy', '100nd', 'tadhgtgmtel', 'maryland', 'mansion', 'manly', 'pin2327564d', 'benstracy', 'rp', 'silo', '260th', 'hartford', 'chose', 'bod', 'portgassdk', 'bravery', 'erinmariefishy', 'flamesnation', 'optimistic', 'pivot', 'pardon', 'mindless', 'awickedassassin', 'hugged', 'tightly', 'selmoooooo', 'edvinnn', 'imtariik', 'dzaficharis', 'selmo', 'witnessing', 'slaughter', 'ell', 'rubybot', 'thh', 'furst', 'rising', 'graph', 'aisumage', 'akumareisu', 'gray', 'ophelia', 'soloquiero', 'firefighte', 'cwhoops', 'advantage', 'apropos', 'favorable', 'regard', 'mississauga', 'pwhvgwax', 'flattened', 'cartoonylike', 'papa', 'penny', 'sumo', 'wrestler', 'muaytai', 'wantmyabsback', 'zouma', 'hiroshima70000', 'outright', 'yosemite', 'sam', 'drumpf', 'rabbit', 'ahuh', 'grabakahitman', 'izigarcia', 'machidadid', 'fightnope', 'floored4', 'bird', 'lag', 'dock', 'conklin', 'shuffled', 'chest', 'thee', 'picking', 'hay', 'masonite', 'wahpeton', 'fylde', 'prestons', 'iconic', 'disappearing', 'iamhorsefly', 'hide', 'mbiwa', 'jimmozel', 'puckflattened', 'implicit', 'kainyusanagi', 'grummz', 'pixelcanuck', 'raynor', 'balding', 'emo', 'generic', 'seanpeconi', 'jasonfloyd', 'lynchonsports', 'criscyborg', 'bluetooth', 'muppet', 'tweetinglew', 'tersestuff', 'notley', 'heartland', 'tfw', 'albertans', 'twilightfairy', 'kurt', 'fallacy', 'steam', 'robertcalifornia', 'thereisonlysex', 'earring', 'jewelry', 'sided', 'linerless', 'cap', 'bigburgerboi55', 'spartan', 'crushing', 'satanaofhell', 'dreamy', 'slowly', 'toward', 'fizzy', 'jkl', 'harlan', 'knox', 'ky', 'wx', '53inch', '300w', 'curved', 'led', 'offroad', 'fog', 'lamp', 'bigconsequences', 'homecoming', 'prom', 'socialnews', '2pcs', '18w', '4wd', 'beam', 'creationmin', 'rwrabbit', 'gooneratheist', 'atheistic1', 'lolatjesus', 'robertbenglunds', 'atlarnxx', '72w', 'alloy', 'hellotybeeren', 'cue', '452', '10x', '27w', '12v', '24v', 'tractor', 'utv', '85v265v', '10w', 'outdoor', 'pir', 'auc', 'iembothfo', 'hana', 'maui', 'coastal', 'atv', 'defective', 'intertissue', 'trench', 'guabxfv', 'bmx', 'areal', 'shelby', 'cdt', 'alwx', 'grantfactory', 'grant', 'weymouth', 'seawall', '428pm', 'edt', 'wxky', 'peeked', 'mud', 'immune', 'deafening', 'prone', 'westchester', 'eligible', 'arrives', 'sittway', '710pm', '800pm', 'urban', 'elk', 'cuban', 'sponge', 'warlordqueen', 'thrust', 'womb', 'midsouth', 'midwest', 'environment', '1130a', 'showersstorms', 'areasminor', 'hunwx', 'eliminate', 'random', 'homeimprovement', 'adorableappple', 'ten4', 'mmda', '166', 'displace', 'lao', 'vision', 'ukfloods', 'trekker', 'himalaya', 'slopeofhope', 'dilute', 'mold', 'proudgreenhome', 'insubcontinent', 'ndetention', 'wunscreened', 'dcclothesline', 'netkicorp', 'valleywx', 'themaine', 'drum', 'janice', 'bbcengland', 'no2', 'crabbycale', 'nycha', 'ny1', 'ny1burst', 'lrt', 'assisting', 'ocnj', 'kwislo', 'prompting', 'unveiled', 'travis', 'joined', 'lakh', 'thankkk', 'soo', 'notificationsu', 'parsholics', 'superb', 'jus', 'awesomelove', 'frvrgrateful', 'sliding', 'wtony', 'nester', 'sonoranrattler', 'writingtips', 'plaguing', 'farrakhan', 'landsli', '119000', '966', 'ictyosaur', 'granted', 'whatever', 'madonnamking', 'rspca', 'density', 'cyberdemon531', 'dew', 'erodes', 'stunned', 'reckon', 'dmt', 'heared', 'priceless', 'sunshine', 'fab', 'albertsons', 'bengal', 'cm', 'mamata', 'banerjee', 'dvc', 'bjp', '69', 'naypyidaw', 'prensa', 'latina', 'abc7chicago', 'casewrites', 'nj', 'otherwise', 'itunes', 'glory', 'luiz', 'santos', 'contactenergy', '1999', 'clyde', 'releasing', 'speccy', 'bamenda', 'throughout', 'portaloos', 'sentient', 'apc', 'chieftain', 'dickson', 'n15b', 'donation', 'bayelsa', 'pagasa', '712am', 'panay', 'guimaras', 'negro', 'lowlying', 'mountainous', '40hourfamine', 'worldvision', 'paraguay', 'etp', 'dua', 'sumn', '250000', '05082015', 'anew', 'e112', 'particulatebreak', 'combust', 'voltaic', 'vocpetroleum', 'ch4', 'bacteria', 'decomposition', 'beaverton', 'bind', 'careless', 'campfire', 'warden', 'pisgah', 'grows', '375', 'ashenforest', 'floorburnt', 'manzanita', 'timber', 'routecomplex', 'sweet2young', 'neck', 'hornybigbadwolf', 'cole', 'column', 'inbetween', '515p', 'nuff', 'fme', 'tmake', 'tthe', 'bhome', '7p', 'socal', 'ybtheprophet', 'realhiphop', 'ruhl', '38', 'modoc', 'temporarily', 'reassigned', 'usfs', 'acronym', 'naturaldisasters', 'q', 'stamp', 'gilmanrocks7', 'sharply', 'nycdivorcelaw', 'algae', 'bloom', 'alska', 'seeweed', 'caribean', 'inhofe', 'spends', 'qave', 'knowlddge', 'boise', 'rstormcoming', 'spread', 'palmoil', 'indonesia', 'forestfires', 'smokey', 'bcpoli', 'canpoli', 'vanpoli', 'tahoe', '430', 'deployed', 'contain', 'dumping', 'heartdisease', 'spending', 'pharrell', 'inciweb', 'rogue', 'riversiskiyou', '8515', 'nf', 'abbyairshow', 'simpson', 'campsite', 'recommendation', 'pub', 'midge', 'snake', 'tape', 'straightfire', 'firefighting', 'consumes', 'clash', 'cite', 'increasing', 'b1g', 'bmurph1019', 'hailyoutsey', 'termn8r13', 'goblue', 'wrestleon', 'avenged', 'sevenfold', 'mike', 'szuter', 'tremblayeh', 'sirmixalot', 'lzk', '075', '815', 'dawgs', 'dak', 'jak', 'japton', 'arwx', 'rnk', 'rockingham', 'stokes', 'chojo', 'pumpkin', 'massive', 'outage', 'wxii', 'davidson', 'heyseto', 'cheryl', 'kmactwn', 'meaganerd', 'cereal', 'kellogg', 'sugar', 'crunchy', 'thou', 'fahlowcw', 'modnao23', 'migraine', 'fazerain', 'affecting', 'sturgis', 'kotaweather', 'hailzel', 'kno', 'overhead', 'oakridge', 'melt', 'hailyycstorm', 'heyitsepark', 'flow397', 'atcha', 'boston', 'golfball', 'sunny', 'parkchat', 'unr', '75', 'weston', 'custer', 'pennington', 'sd', '715', 'kevin', 'chef', 'pasture', 'sustainable', 'organic', 'caesar', 'pounded', 'darkndtatted', 'holmes', 'hire', 'doppler', 'showing', 'edmond', 'okwx', 'lawrence', 'meade', 'postering', 'calgaryfringe', 'mothernature', 'hailstorm', 'yycfringe', 'killhard', 'haleywhaley', '375000', 'ofclans', 'profile', 'autobody', 'peterhowenecn', '630830', 'necn', 'nixon', 'tricky', 'dicky', 'hiding', 'hailthe', 'summons', 'pokemon', 'adriasimon', 'round2', 'yycstorm', 'crazyweather', 'pummel', 'maxi', 'sworn', 'proven', 'bobcat', 'errrr', 'notgoingoutinthat', 'hellonwheelsamc', 'howfans', 'talkinghell', 'hailing', 'haildamage', 'yycweather', 'captureyyc', 'sto', 'intense', 'xpost', 'rcityporn', '46082474', '20k', 'carlilescanoelivery', 'lovemyjob', 'northeast', 'logan', 'cowx', 'councilscc', 'jamaicaplain', 'pot', 'iamdowntown', 'avoids', 'reviewing', 'commuter', 'stranded', 'pcp', 'tareksocal', 'celebrity', 'cupcake', 'vanderbilt', 'leedsrouge', 'harmkid', 'treating', 'annoyed', 'hung', 'audaciousspunk', 'dumbass', 'concur', 'mmk', 'tagging', 'dinallyhot', 'isisi', 'liferebooting', 'mindblowing', '198', 'wayward', 'survey', 'qzloremft', 'mebeat', 'otratmetlife', 'standardized', 'parentsacrossam', 'cc', 'billgates', 'prosper', 'laurenmiller7', 'angelstar39', 'illegals', 'protected', 'vilelunar', 'trickshot', 'infinite', 'fading', 'ad', 'gards', 'reblogged', 'scar', 'wowsavannah', 'collectible', 'randy', 'irwin', '5hvzlaradio', 'bros', 'wwexdreamer', 'malistkiss', 'righteous', 'continually', 'ideal', 'news4buffalo', 'guardrail', 'spacewolverine', 'foul', 'tastemycupcakee', 'lmfaooo', 'nawh', 'triggered', 'rjg0789', 'idki', 'sterotypical', 'annddd', 'colorism', 'prevalent', 'politician', 'plannedparenthood', 'fooled', 'classycolkett', 'thorgan', 'gladbach', 'lifestyle', 'deemed', 'longbreastyat', 'choking', 'kraft', 'chaboyyhd', 'battlefield', 'duke', 'phiddleface', 'cascade', 'childress', 'uphill', 'hazarddi', 'argument', 'davis', 'judith', 'hopfer', 'deglin', 'vallerand', 'eden', 'sanchez', 'bolasie', 'thatpersianguy', 'youngsafe', 'harden', 'flopping', 'identical', 'highly', 'fanboys', 'dannyraynard', 'personally', 'aguero', 'berahino', 'hector', 'bellerin', 'dismissed', 'raped', 'occupational', '9503', '528', '540', '740', 'switch', 'oem', '20177707d', 'chelsea', 'talisman', 'keen', 'cristiano', 'lionel', 'mipasho', 'deaddreamer15', 'thatd', 'precious', 'onesie', 'recalled', 'tomdean86', 'hazardwillian', 'shifted', '862015132', 'dean', 'mav', 'londonfire', 'sthing', 'hazarddangerous', 'tipster', 'swansea', '481', 'lickin', 'donut', 'hazardu', 'winger', 'prem', 'willian', 'basically', '862015108', '1500', 'wrightsboro', 'wholeteam3', 'wholesaleent', 'offloading', 'unstable', 'andor', 'saturated', 'hillymountain', 'dlh', 'outlook', 'hwo', 'assessment', 'optimization', 'routing', 'igmpj', 'dangling', 'piercing', 'crystal', 'foodscare', 'offers2go', 'nestleindia', 'magginoodle', 'humanconsumption', 'olap', 'multidimensi', 'nonhazardous', 'strives', 'maintain', 'ecofriendly', 'multidimensional', 'quarrel', '0913', 'hearitfrompa', 'keratin', 'brazilian', 'copycat', 'meg', 'hearitfrompatty', 'breathing', 'sneak', 'needle', 'inject', 'vein', 'theblackshag', 'dannyoneil', 'toxiccancerdiseasehazardous', 'wastenoxious', 'joshlado', 'tweeting', 'joshua', 'typo', 'eversafe', 'rushhour', 'jumperca', 'mtr', 'terwilliger', 'pp15000266858', '1726', 'pdx911', 'psd', 'startelegram', 'vulnerable', 'rawfoodbliss', 'humid', 'forehead', 'flared', 'olive', 'oli', 'extract', 'lawx', 'lightman', 'apocalpytic', 'surge', 'heebsterrr', 'waseembadami', 'condemning', 'gv', 'heir', 'frightening', 'creationsbykole', 'cork', 'irelandwe', 'todaythat', 'hollywarnexx', 'apaz', 'arnhem', 'unrelenting', 'expand', 'uae', 'mideast', 'heatwave', 'ncms', 'thundering', 'klarajoelsson', '43c', 'prefer', 'revitup', 'pizzarev', 'longest', 'tripledigit', 'wfaaweather', 'pete', 'frisco', 'scout', 'canoe', 'okla', 'enjoying', 'cooler', 'temp', '7amdollela', '3la', 'kulli', '7aal', 'thoughwill', 'nbc10', 'rachelcaine', 'weatherit', 'chilli', 'doritos', 'compensation', 'palinfoen', 'misery', 'internallydisplaced', 'gazans', 'presstv', 'matching', 'lipstick', 'rediscovered', 'nars', 'emilyschuman', 'startide', 'hotter', 'greatbritishbakeoff', 'kristenkoin6', 'pdxabq', 'bcuz', 'youheat', 'vol', 'deejayempiresound', 'warfare', 'founding', 'orchid', 'shite', 'hellfire', 'plez', 'surrounded', 'afterlife', 'deedeecasey', 'beware', 'silentmind', 'bookofdaniel', 'describes', 'piling', 'surah', 'humaza', 'reflect', 'ianhellfire', 'rude', 'kind', 'sub', 'jyheffect', 'hellfireev', 'jackperu1', 'sewing', 'oversee', 'hunchback', 'notre', 'dame', 'reply', 'cocktail', 'diablo', 'ma', 'verde', 'mezcal', 'chartreuse', 'cucumber', 'bitter', 'ggkeeponrockin', 'strawberrysoryu', 'suspicious', 'fel', 'zakuun', 'gargoyle', 'hoof', 'mechamacgyver', 'fadc', 'usarmy', 'jagm', 'tow', 'missile', 'tension', 'jonathan', 'hijack', 'pdp', 'scam', 'sight', 'sarcastic', 'dreamoforgonon', 'teeess', 'bona', 'fide', 'cislady', 'incidental', 'homosexuality', 'gaybi', '0day', 'patched', 'o', 'exploit', 'bypass', 'password', 'technica', 'everton', '14yearold', 'wonderkid', 'donjazzy', 'policeng', 'humanrights', 'expresident', 'goodluck', 'mockingpanems', 'cuddlesforjen', 'slammed', 'music212', 'bayelsastate', 'transfer', 'southampton', 'virgil', 'dijk', 'jeep', 'cherokee', 'fiat', 'chrysler', 'harman', 'consumerist', 'mcgsecure', 'entension', 'apcpdp', 'welshninja87', 'vuln', 'cautious', 'rickybonessxm', 'u2', 'specially', 'sirius', 'chan', 'sayin', 'jasoncundy05', 'utd', 'pedro20', 'oregon', 'cmon', 'governor', 'allows', 'parole', 'hijacker', 'liveleakfun', '1976', 'chowchilla', 'schoenfeld', 'linkury', 'hijackerturnedsattutor', 'evaded', 'browserhijacker', 'medieval', 'testa', 'earnings', 'distinction', 'diver', 'htarvrgly', 'fresno', 'weighs', 'notexplained', 'infamous', 'db', 'cooper', 'mauds99', 'jagexsupport', 'jagexhelpdibi', 'jag', 'enabled', 'demco', '8550013', 'hitch', '21k', 'ultra', 'casting', 'deviating', 'dyxtmrydu', 'softenza', 'anthelmintic', 'drawing', 'hijacking', 'ladyfleur', 'caf', 'whashtag', 'funtenna', 'hat', 'prebreak', 'earnest', 'pletchs', 'coldblooded', 'skateboard', 'samaritan', 'mdash', 'bronville', 'waiver', 'sue', 'korean', 'vosloorus', 'gauteng', '20150805', '2300', 'toyota', 'bkb066gp', 'drsarwatzaib070', 'mcourt', 'parliment', 'whomever', 'wifi', 'hotspot', 'perform', 'oneman', '263chat', 'twimbos', 'zimpapersviews', 'earn', 'mcr', 'snort', 'flavorchargedtea', 'egyptian', 'threaten', 'croatian', '1717', 'ransomware', 'wilson', 'held', 'chilling', 'windowsill', 'threatens', 'quoted', 'herecnn', 'purported', 'tomislav', 'salopek', 'susanj357', 'msnbc', 'allinwithchris', 'egypt', 'croat', 'radical', 'mugged', 'holdin', 'europe', 'evahanderek', 'marleyknysh', '1974', 'lockdown', 'rumor', 'trinna', 'adoptive', 'mylittlepwnies3', 'earlymay', 'anathemazhiv', 'tonysandos', 'positivity', 'bartender', 'pmarca', 'affiliation', 'behead', 'tlvfaces', 'tlvfacesauspol', 'recovered', 'airasia', 'wreckage', 'wut', 'ditched', 'hungrier', 'captivity', 'introduced', 'compensate', 'gideonstrumpet', 'dysfunctional', 'mcconnell', 'judicial', 'nomination', 'govern', 'unharmed', 'denied', 'c130', 'modified', 'stadium', '1980', 'hannahkauthor', 'freeamirnow', 'freeallfour', 'stood', 'superiority', 'unconditional', 'surrender', 'broadcast', 'journalism', 'fortune', 'quottelevision', 'quotoperations', 'since3g', 'superv', 'sinjar', 'massacre', 'yazidis', 'overhostages', 'holmgren', '96', 'lous', 'natalie', 'stavola', 'costar', 'role', 'lhmovie', 'indiefilm', 'render', 'ssu', 'deosl86', 'xaviermarquis', 'meaningless', 'cod', 'damsel', 'distress', 'peer', 't', 'nri', 'trs', 'tdp', 'texansdc', 'kylekrenek', 'zepp1978', 'frobeusns', 'teddy', 'submitt', 'aviationaddicts', 'referred', 'barak', 'depends', 'minhazmerchant', 'banditregina', 'bang', 'caroline', 'bigsby', 'supermarket', 'languishing', 'noirandeal', 'tedcruz2016', '178', 'boko', 'haram', 'florid', 'contd', 'referring', '40pg', 'movt', 'yazidi', 'nervana1', 'behaviour', 'janaq', 'pleasantly', 'div', 'fought', 'messed', 'zaynmaiikist', 'grape', 'guillermo', 'noaa', 'looping', 'wedaug5th', 'eggalie', 'hurricanedolce', 'guyreginald', 'hurricanedame', 'bluedio', 'turbine', '41', 'wireless', 'stereo', 'headphone', 'headset', 'lavapixcom', 'meteoearth', 'chubbysquirrel', 'hurricanesurge', '33333', 'terrified', 'shanaynay', 'shootas', 'burner', '30stm', 'quem', 'lembra', 'margarita', 'engle', 'holt', 'byr', 'coral', 'mock', 'sunburned', 'freegeezy17', 'mixxtail', 'watermelon', 'loko', 'brittsand9', 'vinustrip', 'hurricanetyphoon', 'ratingscategories', 'defined', 'angelriveralib', 'snowden', 'katrina', 'hwrf', 'lash', 'taipei', 'pattonoswalt', 'fecal', 'turdnado', 'forgeting', 'lately', 'entertain', 'prob', 'updateme', '91', 'edna', 'jeffersondoris', 'sherfield72', 'unlicensed', 'urogyn', 'mesh', 'offender', 'meshnewsdesk', 'yelp', 'bolster', 'investigative', 'yug', 'suryaray', 'arian', 'foster', 'yeat', 'wakeupflorida', 'floridian', 'killedinjured', 'trophyhunt', 'rvacchianonydn', 'chikislizeth08', 'leveled', 'settle', 'blevins', 'barcelona', 'fullback', 'alba', 'michaelgbaron', 'scott', 'lefty', '184', 'paulista', 'wilshere', '8392', 'deluxe', 'supporthealthhomebathroomsupportelderlyinjureds', 'ogun', 'smuggler', 'shootout', 'allegedly', 'christiec733', 'cosponsor', '928', 'renew911health', 'thehammers', 'tonycottee1986', 'alsowhat', 'injuredthen', 'bilic', 'slated', 'themhe', 'mcilroy', 'pga', 'speculation', 'rory', 'fueled', 'speculatio', 'wearethenews', 'welles7', 'forgiven', 'forgotten', 'aesop', 'kinesiology', 'ironman', 'longlasting', 'durability', 'effectiveness', 'tayiorrmade', 'megatronafc', 'possibly', 'regardless', 'creeping', 'inflicted', 'derma', 'bracket', 'calum36chambers', 'slating', 'gpaulista5', 'jackwilsheres', 'disgrace', 'upah', 'cramp', 'wreak', 'seatbelt', 'jamienye', 'coaching', 'defence', 'cursed', 'attended', 'romford', 'peel', 'male', 'southdown', 'windsor', 'likeavillasboas', 'richchandler', 'nalathekoala', 'professional', 'sequalae', 'homicide', 'nyack', 'pineview', 'railroad', 'crossing', 'nj36', '516leonardville', 'fkhanage', 'shad', 'forsythe', 'inevitably', 'adhd', 'longterm', 'imsushickoflove', 'alekalicante', 'gauze', 'buffoonmike', 'influenced', 'forsure', 'disabledveterans', 'groin', 'thepartyofmeanness', 'carterville', 'gameday', 'dallascowboys', 'strain', 'sprain', 'fosterfloyd', 'terminated', 'director', 'judson1360', 'xtra1360', 'oline', 'rush', 'roster', 'barring', 'diego', 'costa', 'urg', 'nflexpertpicks', 'floyds', 'devalue', 'digit', 'chinadotcom', 'clearedincident', 'injuryi495', '97georgia', 'joboozoso', 'usat', 'usatodaynfl', 'recordand', 'behavior', 'helparsenal', 'nepdloyko', 'texan', 'sergiopiaggio', 'define', 'volga', 'lawnegligence', 'garza', 'atlas', 'leone', 'copa', 'mx', 'usmnt', 'ergo', 'rotator', 'converting', 'domestic', 'lamha', 'ba', 'iccrealckt', 'viking', 'sundaydont', 'infact', 'zimmer', 'isinjury', 'dal', 'rb', 'lance', 'dunbar', 'daytoday', 'exums', 'stem', 'hopedfor', 'adamrubinespn', 'stern', 'ala', 'tennis', 'defending', 'champ', 'svetlana', 'kuznetsova', 'withdraws', 'citi', 'espn', 'pft', 'barkevious', 'mingo', 'patriciatraina', 'mcclain', 'practicenyg', 'follownflnews', 'mcfadden', 'hamstring', 'titadom', 'sporten', 'cowboy', 'jjdirty', 'mlstransfers', 'greggmair', 'gio', 'skc', 'bwp', 'nycfc', 'quirk', 'dantmatrafajlo', 'woe', 'claiborne', 'climbed', 'wheelsio', 'hawkhis', 'beltmr', 'srk', 'punishment', 'ngata', 'laois', 'advertised', 'lovedup', 'inundated', 'lennlen', 'ddnt', 'reigncoco', 'ostentatious', 'wk', 'seward', 'seattledot', 'seattletimes', 'dented', 'deductible', 'wcvb', 'fionagilbert', 'application', 'presume', 'soggy', 'lashing', 'moist', 'vzwsupport', 'assassinkpg', 'friendshipyou', 'frankly', 'bentossell', 'producthunt', 'yahoocare', 'waimea', 'bushman', 'safari', 'palmer', 'cecil', 'commentes', 'deconstruct', 'kerri', 'sackville', 'tms7', 'mistresspip', 'amazed', 'mistress', 'allyinwondrland', 'bread', 'trader', 'joes', 'wknd', 'grandad', 'sophieingle01', 'angharadjames16', 'banana', 'malt', 'loaf', 'worm', 'bangladeshaffected', 'watersland', 'bangladeshflood', 'tonymcguinness', 'creamfields', 'mainstage', 'bcfcticketlady', 'mraamirjavaid', 'kro', 'westeros', 'sword', 's5', 'starks', 'greyjoys', 'urged', 'coun', 'teahivetweets', 'pornhub', 'employee', 'paperwork', 'hronlinetweets', 'simplify', 'staffing', 'brace', 'depressed', 'ledofficial1', 'sample', 'micountryhick', 'pfft', 'bot', '140', 'unhinged', 'machismo', 'bullshit', 'withering', 'undermined', 'mustering', 'bilsko', 'humofthecity', 'trad', 'plummeting', 'legna989', 'megalpolis', 'petting', 'shiver', 'inundation', 'overflow', 'commencement', 'zachlowenba', 'boot', 'platform', 'realtime', 'unfortunately', 'apology', 'kathrynschulz', 'mousse', 'sprinkler', 'faq', 'lawn', 'answered', 'ebb', 'kemalatlay', 'sinkhole', 'martinmj22', 'yougov', '36', 'hoodedu', 'berlatsky', 'fleetwood', 'q99', 'dundee', '255', 'pollster', 'inbounds', 'nats', 'nl', 'toddstarnes', 'hehe', '1130bst', 'a10paris', 'a40', 'geneva', 'a7', 'mon', 'a1', 'a2hanover', 'a5', 'karlsruhe', 'gotthard', 'lifelong', 'alltime', 'memorable', '60second', 'knowitall', 'ronald', 'reagan', 'romp', 'awadgolf', 'capitalist', 'elect', 'venice', 'freebesieged', 'waferthin', 'smashing', '89x', 'winning', 'garbanzobean23', 'cutest', 'indot', 'bias', 'crowtherjohn', 'effiedeans', 'lbr', '97', 'situ', 'contemplation', 'bridal', 'wiwnpfxa', 'sleeper', 'derailing', 'since1970the', 'depreciation', 'cadusd', 'b4federal', 'wlandslide', 'opposition', 'flashflood', 'gilgit', 'farmland', '365disasters', 'alp', 'skardu', 'ronwyden', 'lyndon', '67', 'hubris', 'reqd', 'rigour', 'nominates', 'ohhsehuns', 'heavyrain', 'morningjoe', 'reince', 'presssec', 'smart', 'ud', 'soak', 'lava', 'fond', 'erupting', 'pixar', 'youngheroesid', 'pantherattack', 'jamilazzaini', 'alifaditha', 'uke', 'kidsthesedays', 'eleskaylee', 'jannellix0', 'exited', 'breeder', 'bred', 'dragonvale', 'chili', 'molten', 'dieanpink95', 'yunita99', 'skippy6gaming', 'ps3', 'savior', 'dserialpcilp', 'pci', '16550', 'bleacher', 'shark', 'cunayyh', 'taufikcj', '8415', 'oliver', 'waterboarding', 'dipping', 'sivan', 'basalt', 'massage', 'amumumux', 'quit', 'actin', 'mirmanda11', 'evaaasr', 'shakeology', 'protein', 'shake', 'pinpoint', 'foothill', 'reshapes', 'reshape', 'mineral', 'guthrie', 'op', 'assumes', 'hmm', '034', '8pin', '21a', '5c', 'ip', 'randomtourist', 'rained', 'jackholes', 'gusty', 'downpour', 'icaseit', 'mfi', 'certified', 'blink', 'wolforth', 'twoout', 'altamonte', 'benjidevos', 'vivid', 'triad', 'vancouverisland', 'autobiography', 'lawton', 'collins', 'dantwitty52', 'shuts', 'eighth', 'patrol', 'lightningooc', 'subjected', 'unwarranted', 'lightningwolf', 'directory', 'resting', '629', 'rpics', 'dip', 'footage', 'filmed', 'scichat', 'kabwandi', 'unconfirmed', 'neighbour', 'tkyonly1fmk', 'actionmoviestaughtus', 'laylovetournay', 'ryrotheunaware', 'groaning', 'ercjmnea', 'chibi877', 'shouted', 'kotolily', 'tarmineta3', 'shawie17shawie', 'bruv', 'tianta', 'meturns', 'auspol', 'resemblance', 'abbott', 'campbell', 'chew', 'chewing', 'gum', 'nikoniko12022', 'swtrains', 'epsom', 'arrive', 'wimbledon', 'jrowah', 'kmatakobot', 'peacefully', 'kijimamatako', 'matako3', '230', 'morningi', 'downstairs', 'tellyi', 'bangmy', 'dadwho', 'legwalked', 'ykelquiban', 'toxicsavior', 'froze', 'daviesmutia', 'bangmeupguk', 'artbrut', 'brut', 'cafetiere', 'crockery', 'matakomilk', 'colnharun', 'laugh', 'samanthaturne19', 'nagaski', 'tanstaafl23', 'impulse', 'correlation', 'imply', 'causation', 'coldmpress', 'commiting', 'publicizing', 'iit', 'logically', 'explicitly', 'endorses', 'doctordryadma', 'owenrbroadhurst', 'juanmthompson', 'hist', 'blowjob', 'cannibalism', 'masturbation', 'noahanyname', 'concentration', 'd1ff3r3nt1sg00d', 'riceechrispies', 'tuicruises', 'aidade', 'faroe', 'atombomb', 'domination', 'hows', 'royalcarribean', 'faroeislands', 'utopian', 'gulag', 'cbc', 'attempted', 'administration', 'labelled', 'minority', 'fredolsencruise', 'itinerary', 'flgovscott', '10000', 'commit', 'yelllowheather', 'undeserving', 'reshrimplevy', 'jakegint', 'bothered', 'traditionalist', 'montalbanony', 'billyhodge', 'aurora', 'notoriety', 'debatequestionswewanttohear', 'wahhabism', 'horrendous', 'blah', 'carlachamorros', 'kach', 'belonged', 'baruch', 'goldstein', '1994', 'trillac', 'che', 'guevara', 'creelyou', 'moron', 'brainless', 'dobut', 'gunsense', 'gfzs', 'minuscule', 'theatershooting', 'defendantmass', 'testify', 'therefore', 'crossexam', 'jury', 'dickhead', 'atljw', 'polit', 'aspect', 'tirelessly', 'defendbutera', 'libertygeek83', 'kissing', 'conveniently', 'revere', 'honour', 'movietheatre', '615', 'scvsupremecourt', 'dismisses', 'challenged', 'quantum', 'bettyfreedoms', 'abninfvet', 'supremacist', 'anders', 'breivik', 'unsurprisingly', 'antifeminist', 'theeconomist', 'portrait', 'yuan', 'decision', 'massmurderer', 'victoriagittins', 'neanderrebel', 'dissuaded', 'telegraphworld', 'mmmm', 'frautrapani', 'benignovito', 'libertybell1000', 'hillarymass', 'blairmcdougall', 'commenting', 'arkan', 'afk10', 'drjohanfranzen', 'orchs', 'tyrant', 'cameronwate', 'tunisian', 'bardo', 'surviving', 'abc3340', 'alamodc', 'grindhouse', 'screening', 'texaschainsawmassacre', 'morbidmovies', 'animallogic', 'lotg', 'smoothed', 'chalked', 'mouse', 'subtle', 'sikh', 'hateviolence', 'dviyer', 'colorlines', 'yazidishingalgenocide', 'ezidigenocide', 'mitigating', 'uninvestigated', 'incite', 'kabarmesir', 'badr58', 'rabaa', 'observed', 'rememberrabaa', 'eileenmfl', 'bestie', 'chainsaw', 'petitionno', 'medal', '1890', 'bloodbathtv', 'channel', 'introducing', 'nanking', 'massacre4', 'cbs', 'wsj', 'wpo', 'daddy', 'becarefulharry', 'tunisia', 'march', 'permanently', 'freddiedeboer', 'thucydiplease', 'coates', 'charleston', 'broadly', 'bromleythe', 'gigagil', 'iof', 'murdered', '513', 'moralityzionism', 'sousse', 'tunis', 'soap', 'twain', 'barackobama', 'rescind', 'honor', 'nataliealund', 'wkrn', 'martynwaites', 'wellknown', 'valentine', 'avoided', 'oompahperiod', 'martyr', 'sps', 'creepiest', 'stuckinbooks', 'mayhem', 'cvinchwaow', 'stacy', 'reflects', 'hannemans', 'itsjustinstuart', 'raynbowaffair', 'editor', 'diamondkesawn', 'ramag', 'alexbelloli', '4playthursdays', 'everybody', '1716', 'mayhem114', 'andy', 'difference', 'masterchef', 'nosurrender', 'bully', 'panicked', 'disco', 'kissimmee', 'ganseyman', 'rt4amention', 'ferrell', 'zach', 'galifianakis', 'comic', 'farce', 'asbury', 'asburyparkpress', 'jmcwrites', 'pitchwars', 'realism', 'observation', 'akcsl', 'venture', 'suitable', 'proportion', 'commences', 'manage', 'bass', 'dubloadz', 'droppd', 'meelllttting', 'deepak', 'chopras', 'ol', 'drdrewhln', 'areva', 'tinybaby', 'adultblackmale', 'mattytalks', 'mwednesday', 'kinkyconnors', 'candidate', 'grime', 'demis', 'nashhmu', 'whenever', 'beccacaitlyn99', 'dfr', 'ep016', 'monthly', 'dnbheaven', '20150806', 'seagull07', 'aleisstokes', 'intelligencebar', 'justintrudeau', 'respected', 'g7', 'g20', 'crowdtappers', 'joinvroom', 'ohhhh', 'tangletalk', 'dmoneydemi', 'dtb', 'watchout', 'nprfreshair', 'meltdowni', 'commoditiesare', 'emini', 'sp', 'letdown', 'def', 'conclusion', 'padre', 'fiasco', 'uncontrollable', 'pams', 'lemairelee', 'danharmon', 'representative', 'byproduct', 'examinercom', 'warthen', 'midst', 'bullpen', 'bubble', 'warriorcord', '550', 'paracord', 'milc5040h', 'strand', '516', 'furtrix', 'cougar', 'ushanka', 'fur', 'xl6162', 'alarmed', 'harassed', 'ymcglaun', 'connects', 'univsfoundation', 'experiment', '731', 'magner', 'discus', 'kgb', 'cossack', 'kiranahmedd', 'deployment', 'm151a1', 'mutt', 'm416', 'leadership', 'sucker', 'stfxuniversity', 'lulgzimbestpicts', 'infantryman', 'experimental', 'assertative', 'intelligence', '2for1lapdances', 'contribute', 'hillaryclinton', '2012', 'callin', 'courageous', 'beth', 'underwood', 'gravity', 'teamhendrick', 'ririnsider', 'hendricks', 'hospitality', 'neanea2724', 'universityoflaw', 'clancy', 'paperback', 'tomclancy', 'cochisecollege', 'supreme', 'ruling', 'empower', 'milita', 'bolstering', 'cooperation', 'sputnik', 'sputnikint', 'wider', 'militarydotcom', 'mofo', 'unarmed', 'gunned', 'worseits', 'ass', 'stu', 'mudslide', 'belter', 'sterlingscott', 'fundraiser', 'oso', 'beetroot', 'peterknox', 'gemmasterful', 'hipster', 'doretts', 'smug', 'dorret', 'marcholl', 'nennicook', 'aitchkaycee', 'vixstuart', 'benjbeckwith', 'britishbakeoff', 'paulhollywood', 'fjord', 'iceland', 'icelandreview', 'opener', 'gasping', 'giggling', 'stew', 'sophiewisey', 'dorette', 'maker', 'rabidmonkeys1', 'unique', 'brobread', 'lollyknickers', 'vaginaorcake', 'impression', 'lieu', 'hazelannmac', 'wishing', 'hatman', 'delicious', 'urufusanragu', 'newhart2010', 'bakeofffriends', 'mariankeyes', 'bae', 'backroom', 'gbbo2015', 'physically', 'gasped', 'invested', 'nikistitz', 'doylech', 'persecution', 'spoiled', 'ral', 'cali74142290', 'disasterhospital', 'rationing', 'tattooed', 'arkansas', 'nola', 'twoptwips', 'sifting', 'grid', 'colder', 'mateo', 'mirage', 'pointless', 'addition', 'newser', 'slipping', 'roblox', 'unavoidable', 'socialism', 'suncorp', 'net', '113', 'billion', 'professionally', 'unsensibly', 'outrun', 'burma', 'enduring', 'unrest', 'cheap', 'ay', 'connorfranta', 'askconnor', 'overrun', 'hazardsdisaster', 'hashtags', 'booktubeathon', 'guatemala', 'seamstress', 'elvia', 'executive', 'prosecuted', 'alarming', 'nonucleariran', 'badirandeal', 'jebbush', 'chernobyl', 'fukushimatepco', 'thyroid', 'integrative', 'japanjapan', 'inferior', 'standardanonymous', 'preserve', 'triple', 'ajw', 'jishine', 'minamisoma', 'allowing', 'dalailama', 'upi', 'irannucleardeal', 'ignore', 'worldlets', 'radiation', 'afp', 'wps', 'drvox', 'agw', 'denial', 'unaware', 'sanitizing', 'impairs', 'sweep', 'mailonline', 'whackamole', 'spoke', 'kennedy', 'avert', '573', 'disasterrelated', 'pretend', 'responsibility', 'annonymous', 'respondent', 'consciousness', 'wikipedia', 'encyclopedia', 'err509', 'ge', 'reactor', 'finnish', 'financing', 'secured', 'ancient', 'circuit', 'sideline', 'newest', 'defensenewscomus', 'subsd', 'gigawatts', 'installed', 'gwatt', 'manual', 'railguns', 't1000s', 'robertharding', 'repjohnkatko', 'construct', 'nucleardeal', 'indojapan', 'pact', 'reactorbased', 'restart', 'mistaken', 'cataclysmic', 'reator', 'willieami', 'justthebottle', 'cooling', 'winechat', 'magnetic', 'electrostatic', 'fusion', 'stunckle', 'gordonr74', 'crazydoctorlady', 'rod', 'creature', 'fennovoima', 'rworldnews', 'sandunes', 'gentle', 'lapping', 'gull', 'sizewell', '40mln', 'filming', 'sonyprousa', 'lumixusa', 'djiglobal', 'profbriancox', 'rtamerica', 'calhoun', 'nrc', 'snowywolf5', 'thegreenparty', 'hamptonroadsforme', 'dicehateme', 'puppyshogun', 'obliterate', 'proc', 'changepilipinas', 'notion', 'seemly', 'narcissism', 'richhomeydon', 'swag', 'instagramers', 'souda', 'sonia', 'kneelbot', 'klavierstuk', 'lvg', 'smaller', 'lcb', 'cl', 'whereas', 'jez', 'printing', 'genius', 'plymouth', 'litter', 'prophecy', 'combining', 'josebasedgod', 'realm', 'jonvoyage', 'mccainenl', 'spectacular', 'stonewall', 'sarah', 'palin', 'bb4sp', 'scum', '149', 'themthen', 'gymflow', 'gymtime', 'assassin', 'gargron', 'holymileyray', 'mooniighthunty', 'obedience', 'gap', 'swami', 'agnivesh', 'satisfying', 'battleship', 'freshness', 'macbreck', 'meansit', 'presbad', 'math', 'productive', 'enterprise', 'horiikawa', 'obliterated', 'rizzo', 'damnnnn', 'gmcr', 'accordingly', 'sunray', 'hairy', 'dried', 'spiderweb', 'breakingnewslh', 'breemars', 'cnns', 'seventy', 'texting', '7k', 'wackoes', 'michelebachman', 'predict', 'firey', 'inferno', 'accept', 'globalwarming', 'meal', 'zimmerman', 'rzimmermanjr', 'renewsit', 'reduced', 'sock', 'acc', 'stripped', 'byebyesoundcloud', 'cocky', 'strutted', 'wacko', 'silverhusky', 'shtap', 'salted', 'tt', 'poway', 'hcg', 'ensures', 'mole', 'whensoever', 'nevermore', 'sizygwwf', 'theevilolives', 'hypo', 'deserved', 'kevinbacon', 'soz', 'accustomed', 'kontrolled', 'ww3', 'dice', 'obliteration', 'demonization', 'interestingwhy', 'canaanite', 'worldnetdaily', 'laurenjauregui', 'teamhennessy', 'tprimo24', 'djeddygnj', 'colombian', 'arcade', 'cte', 'overpriced', 'thatsabinegirl', 'dose', 'slab', 'labour', 'ripping', 'labourleadership', 'contest', 'auntiedote', 'rioslade', 'lockewiggins', 'akarb74', 'tiggr', '02', '03', 'eganator2000', 'kerry', '716', 'ashberxo', 'mindmischief', 'worldnetdailyhomosexuality', 'truthsof', 'alhaji', 'sha', 'ibeto', 'competitor', 'imminent', 'extent', 'privilege', 'unfair', 'favoritism', 'renovation', 'smallbiz', 'startup', 'activate', 'oldtimey', 'justifying', 'littledeath', 'bene', 'gesserit', 'litany', 'dune', 'atgrannyshouse', 'kylewappler', 'thisishavehope', 'sb57', 'deepwater', 'distribution', 'larger', 'refugio', 'costlier', 'plain', 'pipeline', 'nyt', 'bankstown', 'wattle', 'sydtraffic', 'trafficnetwork', 'spilled', 'ksbynews', 'lilitan', 'syd', 'wendell', 'berry', 'gulf', 'briefing', 'disclos', 'oi', 'hannah', 'disclosed', 'osi2016', 'losangelestimes', 'cantwont', 'cityofkamloops', 'sec', '42', 'kamloops', 'troyslaby22', 'slicker', 'disea', 'edinburgh', 'bronx', 'wowthe', 'legionnairesdisease', 'pneumonia', 'americanlegion', 'convention', '197629', 'legio', 'muhamadjabal', 'legionna', 'senatemajldr', 'dratomic420', 'trophy', 'sebee', 'worstever', 'losangeles', 'fo', 'bivideo', 'absolute', 'pandemonium', 'element', 'hashtagteaclub', 'par', 'defender', 'tod', 'ensued', 'j3lyon', 'ffvii', 'exclamation', 'midweek', 'westmarch', 'arreat', 'upa', 'sfa', 'soonpandemonium', 'joegoodmanjr', 'copalibertadores', 'argentinean', 'pandemoniumiso', 'psp', 'tgirl', 'requiem', 'khalidkkazi', 'gidiexclusixe', 'faceless', 'bennycapricon', 'drbaseball41', 'granttamane8', 'drewwtaylor', 'dtop77', 'hillside', 'shestooyoung', 'exquisite', 'cumshot', 'porno', 'carefully', 'pbohanna', 'boring', 'justaguess', 'deadgirltalking', 'unfortunemelody', 'jaylenejoybeligan', 'tarynel', 'dredougie', 'santanicopandemonium', 'facephotos', 'frenzy', 'disorder', 'mania', 'astounding', 'catovitch', 'ps1', 'platinum', 'raredealsuk', 'obligatory', 'brokenscnecal', 'raptorsbeg', 'differ', 'rang', 'goodlookrunning', 'autismawareness', 'jesse', 'suffers', 'timmicallef', 'troubleonmymind', 'jetixrestored', 'teamo', 'supremo', 'pogo', 'douchebag', 'girlsgirlsboys', 'elielcruz', 'newbie', 'overwhelming', 'fairly', 'welladjusted', 'alabama', 'lolo', 'gospel', 'acoustic', 'headdesk', 'savs', 'convinced', 'guage', 'eyeball', 'jamesjustus', 'corn', 'flake', 'montetjwitter11', 'nolesfan05', 'nutsandboltssp', 'audreyp77', 'teena797', 'darrylbrooks', 'elitesportsny', 'lopezandthelion', 'natsnation', 'biggangvh1', 'linden', 'lite', 'cure', 'lind', 'pictured', 'dressed', 'afycso', 'romantic', 'sensei', 'rhyme', 'attic', 'collar', 'sucking', 'amo', 'laughtraders', 'panicking', 'capitulation', 'quotesttg', 'helios', 'dirknomissski', 'faint', 'mumbling', 'cackling', 'shook', 'istg', 'idm', 'gotham', 'bcs', 'ianbartlett', 'hs2', 'astroturfers', 'crumbling', '1130', 'adumbbb', 'beauscoven', 'debbie', 'tindering', '20mins', 'ushiocomics', 'submitting', 'redeemer', 'romanticsuspense', 'hurry', 'fundwhen', 'alarmingly', 'cpinto001', 'orpik', 'jeannathomas', 'vichardy', 'freeman', 'practicing', 'ogtomd', 'worrying', 'ar15', 'carmi', 'breaking411', 'abusing', 'policerun', 'obispo', 'qld', 'billy', 'queensland', 'suicidebycop', 'amiddleaged', 'manarmed', 'retard', 'dccc', 'vj44', 'jbouie', 'mmfa', 'maid', 'dh30000', 'sponsor', 'ana', 'holistic', 'dispensary', 'atlantic', 'smartnews', 'abc7', 'vinnie', 'northumbria', 'trending', 'nigeria', 'ruler', 'informant', 'provocation', 'dailykos', 'beloeil', 'richelieusaintlaurent', 'expanding', 'bayonet', 'distributed', 'randpaul', 'evilempire', 'jadehelm15', 'unwanted', '12th', 'pp15000266818', '1710', 'episcopal', 'interracial', 'harrowing', 'harassment', 'bounty', 'fife', '816', 'georgegalloway', 'galloway4mayor', 'pickpocket', 'liverpool', 'stree', 'brandonmulcahy', 'fpine', 'robbiewilliams', 'asswipe', 'karma', 'milwaukee', 'arizonadot', 'university', 'salado', 'crackin', 'bridgeport', 'burglar', 'blowin', 'grandmother', 'wasn8217t', 'lastma', 'lagos', 'helpme', 'ticketed', 'cycle', 'slosheriff', 'huntington', 'quarantine', 'onlinecommunities', 'amageddon', 'freespeech', 'offensive', 'technews', 'puledotechupdate', '630', 'bangalore', 'aannnnd', 'offensivecontent', 'cofounder', 'huffman', 'specif', 'missambear', 'censor', 'pink', 'reddits', 'subreddits', 'quarantined', 'aaarrrgghhh', 'rantipozi', 'cucks', 'scrambledeggs', 'kia', 'gmtty', 'bluehand', 'hm', 'ebolatrends', 'rconspiracy', 'bathroomits', 'meowing', 'louderthings', 'exposure', '0npzp', 'wander', 'oc73x', 'dl', 'symantec', 'exchange', 'monitoring', 'wipp', 'elevated', 'sejorg', '47km', 'northwestproof', 'filter', 'offsite', 'ashdod', 'emittin', 'ccot', 'rainstorm', 'decorating', 'rec', 'iwk', 'gloucester', 'capeann', 'seagull', 'triciaoneill', 'triciaoneillphoto', 'myrtlegroggins', 'gasp', 'beauty', 'pipeliners', 'yobe', 'damatu', 'jim', 'alves', 'newrelease', 'jimmy', 'lapaka', 'rome', 'ireporter', 'crowned', 'tends', 'drift', 'storming', 'bebacksoon', 'roar', 'robotrainstorm', 'vacancy', 'damaturu', 'soaker', 'nathanfillion', 'hardly', 'receives', 'impacting', 'imsort', 'font', 'lizzie363', 'cstsmith', 'thru', 'floodrainstorm', '14000', 'thnk', 'float', 'doe', 'waking', 'kook', 'gearing', 'deadgrassandflowers', 'italianalps', 'surfspa', 'razed', 'ikpeazu', 'apga', 'react', 'lynchburg', 'tafs', 'fb100', 'petereallen', 'huffpostuk', 'bbc5live', 'substantial', 'sincere', 'sandiego', 'njenga', 'razing', 'dualcom', 'imrazed', 'easter', 'northerncalifornia', 'zippednews', 'vassalboro', 'gazebo', 'petelmcguire', 'justmarried', 'jihadis', 'freedomoutpost', 'newlywed', 'gesture', 'repulsive', 'refugeesvictimiserdutton', 'evangelicalliarabbott', 'lnp', 'dupe', 'overdrive', 'choppergatebronwynbishopauspol', 'cameroon', 'repatriating', 'wowo', 'repatriated', 'whao', 'aisle', 'dedicated', 'serbian', 'clothing', 'reaad', 'plsss', 'indiegogo', 'overboard', 'tonyabbottmhr', 'christianvalues', 'marrie', 'fadelurker', 'dalinthanelan', 'camped', 'redcliffe', 'aidan', 'banquet', 'flee', 'burundi', 'vice', 'kristindavis', 'pacic', 'rsf', 'gag', 'generous', 'thedailybeast', '46', 'dutton', 'presser', 'chpsre', 'paris', 'rezaphotography', 'policyholder', 'clico', 'panik', 'kelbytomlinson', 'oc', 'shared', 'animalrescue', 'structural', 'ypres', 'blackwhite', 'newbeginningsanimalrescue', 'ppact', 'ecstatic', 'racco', 'suggs', 'vivian', 'psychrewatch', 'length', 'sammy', 'kfc', 'peaceloverescue', 'plantation', 'rainforestresq', 'floodzone', 'raheel', 'sharif', 'chitral', 'lauded', 'fwo', 'opera', 'lisavanderpump', '367', 'zakbagans', 'sabrina', 'briton', 'tennoatax', 'tenno', 'lived', 'dojo', 'dopey', 'summervibes', 'pitmix', 'brixton', 'banksy', 'mybabies', 'buried', '10monthold', 'coastguard', 'skyrim', 'awaits', 'rescuedagain', 'pioneer', 'paleface', 'raft', 'container', 'enkelbiljett', 'menolippu', 'bovine', 'smugglersnabbed', 'cocker', 'spaniel', 'romanatwoodvlogs', 'inspi', 'stray', 'stranger', 'reshareworthy', 'brittanypetko', 'giorgio', 'hiatt', 'c4news', 'irishtimesworld', 'springer', 'beached', 'ribbon', 'offtrackhorse', 'swept', 'isaiah', '4422', 'contemporary', 'cardboard', 'heartwarming', 'mistrustful', 'onegreenplanet', 'await', 'disembarkment', 'naval', 'vessel', 'tconnellyr', 'mediterran', 'durbanknight', 'carr', 'nosybe', 'unexplainable', 'childhooddefined', 'roddypiperautos', 'andygilder', 'rescuersthe', 'infomercial', 'crept', 'carryi', 'marin', 'shaolin', 'shen', 'nan', 'chiang', 'venom', 'kung', 'fu', 'favori', 'ahmazing', 'thenewshype', 'allergic', 'sfgate', '37yearold', 'vulcan', 'meatloving', 'fem', 'piprhys', 'teamvodg', 'nickcannon', 'listenbuy', 'realmandyrain', 'itunesmusic', 'blowmandyup', 'rascal', 'flatts', 'concertaugust', '20152', 'hasarrived', 'tactical', 'headquarters', 'daniriot', 'daysweeks', 'liveworkshop', 'booth', 'kappa', 'acaciapenn', 'shidddd', 'bah', 'autumnwinter', 'menswear', 'urbanfashion', 'abrancaballero', 'thorins', 'sandbox', 'careerbest', 'silverman', 'sarahksilverman', 'soundtrack', 'tracey', 'ullman', 'teemo', 'shield', 'bytorrecilla', 'torrecilla', '600000', 'transwomen', 'drag', 'butch', 'credited', 'inciting', 'eac4au', 'preorder', '915', 'hired', 'incompetent', 'fried', 'ravioliwith', 'porcini', 'ricotta', 'oliviamiles01', 'davidjordan88', 'stephanenny', 'particular', 'trollkrattos', 'juan', 'salvador', 'crown', 'champion', 'championsblackfoot', 'sweetpea', 'allotment', 'brightening', 'rainy', 'intervene', 'vitesse', 'supporter', 'buildup', 'jwalkerlyle', 'cracker', 'protestors', 'skyscraper', 'plantcovered', 'doco', 'setanta', 'ireland', 'freeview', 'eric', 'clapton', 'happiness', 'hyperbole', 'saintsfc', 'rio2016', 'runjewels', 'met', 'relation', 'loveislove', 'cindy', 'noonancindynoonanheartbreak', 'yahistorical', 'undergroundrailraod', 'embra', 'tier', 'dee', 'dum', 'cloydrivers', 'plenty', 'tosu', 'championship', 'evacide', '163163millions', 'contr', 'bhramabull', 'jewel', 'socially', 'minded', 'duo', 'invented', 'insomniac', 'wee', 'blutz10', 'justiceno', 'justicepeace', 'gmail', 'jasalhad', 'brianboru67', 'jimskiv92', 'hijinks1967', 'ryleedowns02', 'nevaehburton33', 'venezuela', 'directed', 'gr', 'davidolszak', 'aelinrhee', 'mascara', 'smeared', 'signing', 'nffc', 'wesley', 'verhoek', 'dontpanic', 'georgous', 'halljh1720', 'indictment', 'usamisan', 'uknews', 'insurers163millions', 'fa07af174a71408', 'tolerated', 'rubble', 'shovel', 'expirehc', 'su', 'forbes', 'bounce', 'churchill', 'impulsive', 'redesigned', 'crazyideascollege', '360wisenews', 'betting', 'rebound', 'jasonpope2', 'johnfugelsang', 'jun', 'yemeni', 'sana', 'forbesasia', 'buscemi', 'firefightr', 'fame', 'workd', '12hr', 'diggin', 'wtc', 'lookg', 'p2', 'tnn', 'roimentor', 'yycwalks', 'postapocalypticflimflam', 'prodding', 'okgabby', 'suh', 'carpooling', 'uncomfortable', 'smoker', 'chrisdyson16', 'mta', 'sorrybutitstrue', 'yuppie', 'tourist', 'unhappy', 'purposely', 'fresh', 'savannahross4', 'terrific', 'wordk', 'zmne', 'intention', 'bleed', 'masterpiece', 'foo', '9tarbox', 'sour', 'freezerdummy', 'connormidd', 'greedy', 'fullscreen', 'censorship', 'juliechen', 'clnv', 'reboot', 'belair', 'cervix', 'odell', 'ctaztrophe31', 'sandstorm', 'swallowed', 'hienshi', 'gbay99', 'dumb', 'darude', 'coated', 'layer', 'grit', 'woo', 'hoo', 'booze', 'socialwots', 'globiinclusion', 'nrcmiddleeast', 'engulfs', 'caravan', 'zaatari', 'sundercr', 'remixes', 'merged', 'betweensong', '15th', 'woodland', '3430pm', '4306pm', 'villicanaalicia', 'airhorns', 'ahahahga', 'infinitegrace7', 'unconscious', 'lyric', 'sidjsjdjekdjskdjd', 'godofmischief', 'loki', 'dagger', 'jammed', 'mina', 'grabbed', 'sif', 'pandora', 'microchip', 'tbh', 'steven', 'theme', 'upstairs', 'mogacola', 'zamtriossu', 'chonce', 'cryibg', 'loudest', 'higuains', 'offside', 'politely', 'jared', 'cortezera', 'mommy', 'brooke', 'timed', 'dislike', 'femnism', 'twentysix', 'cedarglade2015', 'asb', 'fierce', 'cheat', 'vent', 'txt', '1d', 'wwa', 'oamsgajagahahah', 'laighign', 'realliampayne', 'addtexastonext1dtour', 'thatwitchem', 'emmachosenone', 'jessienovoarp', 'jessienovoa', 'liananovoa', 'walked', 'hond', 'toddyrockstar', 'slsp', 'encore', 'quiet', 'phandom', 'fangirling', 'mannequin', 'camilacabello97', 'externally', 'jariana', 'bizzlemahomie', 'estellasrevenge', 'swiming', 'smelltaste', 'mariahcarey', 'lhh', 'mastered', 'noahshack', 'harshness', 'pacing', 'tyleroakley', 'scalpium', 'camilas', 'spree', 'stvmlly', 'safferoonicle', 'yell', 'chord', 'funnydadcoach', '54', 'missdaoh', 'idol', '22days', 'wdym', 'kamkasteiiano', 'bluntedjayt', 'nochilllukehammings', 'advertise', 'blanksocietyx', 'ahhhh', 'omgggg', 'trombonetristan', 'ooooohshit', 'ooohshit', 'scream', 'danemillar1', '666', 'worstoverdose', 'jaileens', 'caked', 'himeruisu', 'ram', 'shove', 'pillow', 'muffle', 'rhiannon', 'hungover', 'uhmmmm', 'tailor', 'kay', 'robbed', 'attached', 'drag0nking0201', 'screamsdont', 'animatronics', 'echo', 'jimin', 'casually', 'jasmine', 'realjaxclone', 'rly', 'itscreams', 'vibrates', 'sakuuchiha', 'yaboiluke', 'saku', 'genitals', 'heyot6', 'lawsonofficial', 'followed', 'thankyou', '4tiles', 'zacb', 'dell', 'win10', 'ollymursaus', 'cultural', 'appropriation', 'buddha', 'looney', 'tunesblake', 'griffin', 'mash', 'queenwendy', 'anytime', 'wisdc', 'death2usa', 'harveymaine', 'aaaa', 'lem', 'roomr', 'hears', 'exploration', 'oppose', 'powerwow', 'calabria', 'malta', 'hebrooon', 'formula', 'gabon', 'somalia', 'organization', 'insight', 'ey', 'worldoil', 'subscription', '08062015', 'alabamaquake', 'summary', 'marek1330', 'zar', 'cringes', 'marek', 'toss', 'sa15t', 'padded', 'speaker', 'qty', 'detectado', 'japn', '010156', 'okinawa', 'm40', '10km', 'jst', 'perforated', 'shear', 'sfor', 'seismicresistant', '182245', 'ibaraki', 'prefecture', 'offing', 'm55', '60km', 'benson', 'clegg', '0025', 'kml', '2d', '3d', 'offshore', 'kakajambori', 'yor', '010217', 'm38', 'ipa', 'radler', 'oilandgas', 'seismicsoftware', 'enablement', 'panoramic', 'dogger', 'westward', 'regent', 'towing', '8400', 'metre', 'subcontractor', 'cgg', 'oddball', 'observer', '063243', 'miyagi', 'selfies', 'belie', 'mrw', 'beneath', 'ifunny', 'goz', 'manually', 'ru', 'coop', 'swallow', 'pond', 'lowndes', 'georgia', 'occasion2b', '10news', 'disrupts', 'trolley', 'falmer', 'bethlehem', 'sixmeter', 'crater', 'azimel', 'deceased', 'gaping', 'fdny', 'onscene', 'nycbuildings', '150foot', 'wctv35', 'yonews', 'accidentalprophecy', 'moorlandschmbr', 'algeria', 'lomasvisto', 'devours', 'intersectio', 'cadenadeseguidores', 'twitsandiego', 'depression', 'asphalt', 'sel', 'hinterestin', 'evansville', 'usage', 'davidcovucci', 'wews', 'presinkhole', 'leaking', 'sewage', 'independent3', 'mtsalert', 'developed', 'afloat', 'pension', 'unhappiness', 'hogan', 'thanking', 'publicityalthough', 'supernovalester', 'jfc', 'unsigned', 'realise', '3g', 'snapping', 'abandonedpics', 'abbandoned', 'darsena', 'castello', 'scaligero', 'sirmione', 'dig', 'hoke', 'excepting', 'versus', 'dfljev', 'currency', 'transgress', 'paydayprison', 'ward', 'sinkingfund', 'payment', 'unsecured', 'jbumzqpk', 'onnnn', 'plank', 'sinkingshipindy', 'scarlet', 'lenore', 'saison', 'stonebrewingco', 'titanic', 'stayed', 'wooden', 'gander', 'tna', 'appease', 'morbid', 'destinationimpact', 'exercised', 'att', 'investment', 'keurig', 'thirdquarter', 'afterhours', 'wccorosen', 'lloyd', 'insure', 'corycove', 'slipper', 'darkest', 'jota', 'esse', 'carb', 'consultative', 'subconscious', 'xkdrx', 'lara', 'flesh', 'clawing', 'wonderfully', 'mafia', 'installment', 'wasting', 'edsheeran', 'tribe', 'pitched', 'ofnsixjks', 'corii', 'spoil', 'wishlist', 'ma3route', 'imeshika', 'hapa', 'bumper', 'aar', 'ambulancewe', 'bonnieg434', 'piga', 'kijan', 'stacedemon', 'ibeyiofficial', 'amateur', 'reprises', 'horrormoviesca', 'j2bone', 'foxysiren', 'coursing', 'weyreygidi', 'healingreviving', 'demoness', 'beckoning', 'void', 'whelen', '295ss100', 'amplifier', 'sirenvoice', 'liveonstreamate', 'frusciante', 'marriedfoxysiren', 'jennifer', 'aniston', 'ww2', 'announce', 'dull', 'monotonous', 'herei', 'hunterston', 'process', 'smithereens', 'tomarse99', 'intending', 'signal', 'arenanone', 'firm', 'cybersecurity', 'angelina', 'jolie', 'sef', 'gameplaywalkthrough', 'optich3cz', 'askh3cz', 'elgato', 'bday', 'themayhoka', 'longfoxysiren', 'envyseven', 'aquarius', 'queenmy', 'pretense', 'overturesplease', 'songfor', 'pharma', 'overloaded', 'sirensong21', 'hacked', 'buck', 'nsf', 'argue', 'dyersburg', 'heavydirtysoul', 'concluded', 'serephina', 'lasiren', 'vvorm', 'fgcu', 'soonermagic', 'indyfest', 'breachgamingorg', 'fevwarrior', 'screeching', 'accompanying', 'warped', 'tony', 'attila', 'thu', '012032', 'gmt0000', 'millcityio', '20150613', 'theramin', 'raychielovesu', 'lemonade', 'semi', 'segment', 'vhs', 'anthology', 'dangdaddy', 'thinner', 'awn', 'sirensicebreaker', 'diverse', 'kiro7seattle', 'dill', 'pickle', 'marketforce', 'perth', 'winner', 'iinet', 'nbn', 'buffering', 'travelelixir', 'helo', 'goooooooo', 'midfield', 'soni', 'soner', 'sonisoner', 'hakogaku', 'raised', 'gunfire', 'ik4len', 'cancelled', 'abc7eyewitness', 'hometownglory', 'connor', 'franta', 'howell', 'gostei', 'um', 'vdeo', 'christinartnd', 'postcard', 'polaroid', 'marketforces', 'cher', 'vai', 'vir', 'pra', 'halfhourhotel', 'edgarsgift', 'promotion', 'lifeaintfairkid', 'brooo', 'blunts', 'snoop', 'collie', 'buddz', 'alot', 'hmmm', 'naked', 'radneck', 'kidney', 'sidelinesavage', 'crqck', 'becyme', 'mayor', 'includes', 'foursquare', 'burp', 'selling', 'youngins', 'pianohands', '55436', '1950', 'locomotive', 'magnetraction', 'instruction', 'sammysosita', 'blunt', 'ciggs', 'toooooo', 'bck', 'thetshirtkid', 'trynna', 'tj', 'billmccabe', 'austin', 'cigs', 'breath', 'tray', 'bremorrow', 'josie', 'splifs', 'mentaltwitter', 'changing', 'teamatowinner', 'mino', 'comma', 'snowstorm', '36x36', 'manuel', 'hoping', 'accuracy', 'improves', 'chann', '3am', 'footed', 'pajama', 'sorryi', 'desk', 'rtirishirr', 'mchapmanwsaz', 'wsazbrittany', 'kellyannwx', 'sassy', 'hunk', 'smoky', 'aoms', 'ibooklove', 'bookboost', 'grouponuk', 'southdowns', 'treeporn', 'purified', 'pale', 'moonlight', 'lalaloopsy', 'sunburst', 'june', 'seashore', 'sweater', 'spice', 'habbo', 'tic', 'tac', 'matchwood', 'dirktrossen', 'snowstormhailstorm', 'lordbrathwaite', 'growingupincolorado', 'cacheadvance', 'freddie', 'sippin', 'transportation', '18wheelers', 'amssummer', 'pyrbliss', 'longll', 'benjamin', 'francis', 'leftwich', 'treescape', 'boeing', '737', 'takeoff', 'cockpit', 'atc', 'mothernaturenetwork', 'thundersnow', 'uncommon', 'lakeeffect', 'twill', 'denim', 'refer', 'boi', 'lame', 'effective', 'prablematicla', 'adweek', 'snowstormdespite', '358', 'gamefeed', '3inspired', 'videogame', 'captured', 'trooper', 'bobble', 'funko', 'kesabaran', 'membuahkan', 'hasil', 'indah', 'pada', 'saat', 'tepat', 'jenniferarri', 'comeeeee', 'tonyhsieh', 'anonymous', 'vortex', 'catcher', 'stormfree', 'eventspalmbeach', 'hobby', 'lobby', 'ama', 'sportinggoods', 'hawaiianpaddlesports', 'lulu', 'mypillowstudio', 'johngreen', 'robthieren', 'expanded', 'slight', 'twcnews', 'ncwx', 'calgarians', 'busy', 'finna', 'boutta', 'hurting', 'tstorm', '345pm', 'sara', 'nasahurricane', 'hilda', 'lesleymariiee', 'packed', 'pt4', 'greet', 'bask', 'warmth', 'bliss', 'stretcher', 'coachkeith44', 'hannomottola', 'trpreston01', 'mlrydalch', 'lumbar', 'extender', 'invalid', 'grazed', 'rexyy', 'towel', 'danielle', 'ouwbball', 'ferno', 'engineering', 'inspect', 'siding', 'expander', 'ofentsetsie', 'fujiwara', 'shunichiro', 'pllolz', 'witter', 'freeze', 'veggie', 'homemade', 'yogurt', '1pack', '2pack', '3pack', 'fleek', 'capoeira', 'stretcherbearer', 'favorited', 'stressing', 'mxaaaa', 'adjust', 'shaper', 'width', 'adjustable', 'niqqa', 'stretcherbearers', 'daretotaha', 'foreskin', 'virgin', 'galactic', 'spaceship', 'copilot', 'braking', 'spacex', 'founder', 'musk', 'lizbon', 'kidicalmassdc', 'breakdown', 'brake', 'rightways', 'inspection', 'rightwaystan', 'sirtitan45', 'correcting', 'excessive', 'emerging', 'defect', 'examiner', 'topdown', 'coercion', 'ensuring', 'preventative', 'cabling', 'bracing', '9058778591', 'ct', 'testing', 'ntsb', 'galactics', 'spaceshiptwo', 'kpcc', 'sirtophamhat', 'scynic1', 'nafeezahmed', 'jeremyduns', 'represents', 'shortfall', 'sabcnewsroom', 'sabotagei', 'catoinstitute', 'deeply', 'solved', 'slum', 'manifestation', 'citizen', 'illegality', 'discourse', 'confounds', 'stopevictions', 'whvholst', 'leashless', 'competence', 'soc', 'democratic', 'illogical', 'virg', 'foxnewsinsider', 'vest', 'rembr', 'bestnaijamade', '16yr', 'bomber', 'detonated', 'alfapedia', 'committing', 'msoreo', 'homs', 'zaman', 'alwsl', 'hashd', 'shaabi', 'theft', 'llll', 'grupdates', '19th', '17jul2015', '64', 'timesap', 'mercados', 'tripoli', 'explosivesrigged', 'compound', 'josephjett', 'saudiarabia', 'canadasuicide', 'sarabia', 'aseer', 'southwestern', 'detonates', 'deai', 'saudimosque', 'bbclaurak', 'stowing', 'aboard', 'noahj456', 'sticky', 'thursd', 'taught', '1970s', 'piracy', 'slavery', 'suicidebombing', 'purely', 'historical', 'reoccur', 'suru', 'airstrikes', 'kurdistan', 'daisycuttertz', 'grogparty', 'tonyburke', 'imam', 'sonofbobbob', 'shimmyfab', 'trickxie', 'chopping', 'rooftop', 'rightly', 'despicable', 'ocalan', 'marxism', 'offshoot', 'premonition', 'jewhaditm', 'kurdish', 'rebecca', 'roga', 'hamas', 'egged', '361', 'infographic', 'suruc', 'saadthe', 'kpdied', '2007he', 'kppolice', 'kabul', 'rayquazaerk', 'employed', 'confesses', 'hajihunter762', 'middleeasteye', 'muzzies', 'payback', 'reached', 'erdogans', 'socialist', 'shareaholic', 'nbcpolitics', '911bombing', 'barrack', 'harakiri', 'mordechai', 'yehuda', 'friedman', 'ramat', 'beit', 'shemesh', 'marlene', 'menahem', 'moshav', 'safsufa', 'absence', 'interaction', 'sunk', 'backty', 'peeped', 'frontin', 'jeepsunk', 'tinted', 'bumpin', 'steamship', 'shattered', 'visage', 'aquarium', 'ornament', 'sailing', 'destroyer', 'decor', 'aphyr', 'somethin', 'descended', 'shadowed', 'crest', 'harshly', 'capsize', 'b5', 'fuso', 'yamashiro', 'cachet', 'blaaaaaaa', 'stomach', 'vibrate', 'resolutevanity', 'marr', 'primal', 'codemew', 'sunk1', 'mil', 'pulloneyou', 'yup', 'saintrobinho86', 'demonstrated', 'untameddirewolf', 'sansa', 'blinked', 'benaffleck', 'stil', 'mraffleck', 'arrestpastornganga', 'collaborating', 'time4mesews', 'lonelyness', 'depressing', 'reputation', 'prestige', 'prosser', 'resoluteshield', 'shekhargupta', 'mihirssharma', 'trp', 'adsit', 'mockery', 'bonhomme37', 'unrealtouch', 'silverstar58200', 'romero', 'cared', 'hutch', 'dreaming', 'mlk', 'giannis', 'submerged', 'hank', 'parental', 'offspring', 'preconditioning', 'lucypalladino', 'ish', 'ayhhhhhdjjfjrjjrdjjeks', 'martial', 'trading', 'forex', 'thruuu', 'tootrue', 'dorrian', 'affiliate', 'marketer', 'elitist', 'thomassmonson', 'lds', 'mormon', 'chim', 'gloria', 'gaynor', 'oktaviana', 'devi', 'captor', 'wildlooking', 'recluse', 'stylishly', 'separated', 'teamsurvivors', 'zombiefunrun2014', 'mochichiiiii', 'hikagezero', 'ww', 'wew', 'definition', 'ddnewslive', 'nitishkumar', 'arvindkejriwal', 'narendramodi', 'adriennetomah', 'autoinsurance', 'clueless', 'driverless', 'healthinsurance', 'driverlesscars', 'superpower', '2025', 'buchana', 'navigating', 'fastest', 'thedailyshow', 'mahalo', 'nui', 'loa', 'holomua', 'thoutaylorbrown', 'drawn', 'cheated', 'taaylordarr', 'scofield', 'hotbox', 'sona', 'miracle', 'mankind', 'thesmallclark', 'trigger', 'berlin', 'daubt', 'chubychux', 'rjkrraj', 'karnakarank', 'vimvith', 'wud', 'thalapathi', 'destination', 'cain', 'session', 'klitschko', 'mute', 'makinmemories', '2am', '390', 'bonsai', 'natgeo', 'tsutomi', 'yamaguchi', 'otd', '12step', 'addiction', 'chronicillness', 'mylifestory', 'livin', 'zoom', 'pow', 'talked', 'pixeljanosz', 'angelheartnight', 'thr', 'thrarchives', '1928', 'duchovbutt', 'starbuckscully', 'madmakny', 'davidduchovny', 'plotted', 'ritual', 'bbcwomanshour', 'setsuko', 'thurlow', 'cafe', 'tricycle', 'patientreported', 'outcome', 'metastatic', 'colorectal', 'humanityi', 'apologized', 'survivorsr', 'sojapan', 'nuclearweapons', 'coppednews', 'haunting', 'kotowsa', 'sudan', 'mithitennis', 'crackedgem', 'molecularly', 'lungcancer', 'violator', 'improved', 'hurled', 'nuked', 'nears', 'arovolturi3000', 'fedporn', 'absurd', 'satire', 'indistinguishable', 'ghetto', 'reunite', 'netflix', 'documentary', 'narrated', 'parter', 'lawfulsurvivor', 'tdog', 'holed', 'glenn', 'morale', 'andrea', 'jacqui', 'merle', 'stemming', 'cub', 'arizzo44', 'jlester34cubs', 'haley', 'lu', 'richardson', 'remembrance', 'quran', 'news786uk', 'islamist', 'anjem', 'choudary', 'robpulsenews', 'huyovoetripolye', 'phillips', 'ldnrterrorists', 'preacher', 'dawabsha', 'erode', 'homegrown', 'omega', 'explores', 'religion', 'rayner', 'newsarama', 'crossborder', 'redhanded', 'ctd', 'orangi', 'counterterrorism', 'sindh', 'diretube', 'fightterrorism', 'muslimsterrorism', 'catholicismhomophobia', 'jihadi', 'protostates', 'dhs', 'chattanooga', 'ifs', 'ands', 'buts', 'incitement', 'beinart', 'adamnibloe', 'unity', 'negotiating', 'initiative', 'alliance', 'assad', 'appraisal', 'antiterrorism', 'naved', 'lubrication', 'metrofmtalk', 'officialmqm', 'convivted', '1n', 'mohammed', 'pulwama', 'jampk', 'nia', 'quizzed', 'denies', 'achedin', 'bjpsamvad', 'warra', 'rahulkanwal', 'jammu', 'disowned', 'kasab', 'disowns', 'kasabwe', 'biryani', 'shipsxanchors', 'idek', 'swiftycommissh', 'taoistinsight', 'immortaltech', 'tht', 'killin', 'mccains', 'whoop', 'photographed', 'acmilan', 'tire', 'haaretz', 'overnight', 'udhampuragain', 'lovemywife1983', 'shedid', '4the', 'washard', 'stopping', 'acquire', 'traitor', 'alipaper', 'keepingtheviginaclean', 'threatconnect', 'dfir', 'threatintel', 'burger', 'newscomauhq', 'kinggerudo', 'moblins', 'hed', 'duh', 'generational', 'schism', 'privacy', 'bhusa', 'jihad', 'islamaphobe', 'dmassa5', 'definite', 'wedgie', 'illusoria', 'icarus', 'playingnow', 'bloodbound', 'kristyleemusic', 'devinjoslyn', 'atlevents', 'convection', 'nlwx', 'lightumupbeast', 'originalfunko', 'spencer', 'waldo', '12u', 'cooperstown', 'joestrong', 'gokitgo', 'heheh', 'frequent', 'uptown', 'midtown', 'cn', 'snipe', 'miner', '8960', 'driller', 'boxed', 'torrential', 'relaxing', 'soothmyslumber', 'watermeloann', 'populardemand', 'thewebbeffect19', 'wc', 'weebly', 'l9udest', 'asimtanvir', 'nemesiskpes', 'kevr7', 'sheeting', 'aaaaaand', 'mama', 'leonalewis', 'essenceofme', 'gloomy', 'wthat', 'durant', 'nba', 'adidas', 'swingman', 'rumbling', 'haydnexists', '1030pm', 'lorr', 'noah', 'usnwsgov', '1040pm', '931pm', '1015pm', 'oun', 'lincoln', '1038pm', 'museawayfic', 'beenghosting', 'xylodemon', 'rachelrofe', '536', 'continued', 'oklahomaok', '1030', 'buren', 'inws', 'spsgsp', '1040', '1115', 'pickens', '400', 'cest', '68', 'fforecast', '61', 'fri', '933pm', 'skywarn', 'russellville', 'clarksville', 'dardanelle', '1015', 'livingsafely', 'vivaargentina', 'pea', 'choctaw', 'lethbridge', '05th', '2029', 'mdt', '1145', 'helsinki', 'lightningstrike', '935', 'mainly', 'cloudy', 'ocd', 'soonergrunt', 'brrookkllyynnr', 'tornadogiveaway', 'thebookclub', 'ticklemeshawn', 'evebrigid', 'lily', 'xo', 'cowgirl', 'courtney', 'laudner', 'tease', 'panty', '73rd', 'goode', 'ski', '912pm', '945pm', 'skye', 'horny', 'juicy', '829pm', '915pm', 'lexi', 'belle', 'sakhalintribune', 'eastward', 'superman', 'slowpoke', 'poc', 'thunderstormtornado', 'woken', 'kunalkapoor', 'chaser', 'pod', 'heather', 'ava', 'sparxxx', 'threesome', 'brunette', 'stretch', 'victorian', 'sofa', 'rebelmage2', 'reference', 'heller', 'marley', 'brinx', 'striptease', 'pounding', 'distinct', 'rotation', 'condenses', 'villa', 'mcv', 'subtornado', 'ayshuntornado', 'giselle', 'cbcca', 'toocodtodd', 'wyattb23', '20homers', 'tulowitzki', 'hayden', 'pose', 'strip', 'recount', 'timesofindia', 'soulja', 'maaaaan', 'greater', 'comfortable', 'collective', 'plunging', 'sorrowful', 'redemption', 'platt', 'homeworldgym', 'thisisperidot', 'monicas', 'wm', 'lewis', 'toiindianews', 'ofcourse', 'caued', 'washing', 'tanehisicoates', 'laced', 'monologue', 'charlize', 'coulda', 'tbr', 'browsing', 'homepage', 'sriramk', 'dlin71', 'ownership', 'itssselenaluna', 'gagnon', 'imposing', 'marriage', 'gunning', 'heartache', 'hirochii0', 'ariana', 'grande', 'csaresu', 'leitchfield', 'bella', 'rosalie', 'rescueadoptionlocal', 'homessponsorships', 'almusafirah', 'innit', 'prettyboyshyflizzy', 'beautifully', 'chile', 'starring', 'onihimedesu', 'manga', 'triangle', 'explosive', 'tween', 'salute', 'battleroyalemod', 'teleported', 'somewhere', 'decides', 'blakeschmidt', 'eudrylantiqua', 'holly', 'victorious', 'rv', 'santiago', 'hollyw', 'remodeled', 'dramaallama', 'lilourry', 'stan', 'zarry', 'narry', 'newsdict', 'boyinahorsemask', 'panda', 'nz', 'hugomatz', 'lilithsaintcrow', 'lavenderpoetrycafe', 'encoded', 'sensory', 'cognitive', 'defensive', 'vulnerability', 'qz', 'taraswart', 'viviangiang', 'nissannews', 'hospitalized', '2car', 'a1a', 'bings', 'raabchar28', 'drphil', 'morganlawgrp', 'selfinflict', 'consistent', 'dimension', 'agdq', 'kororinpa', 'marble', 'tloz', 'oracle', 'metroid', 'crazyindapeg', 'vets78734', 'understandable', 'ptsdchat', 'eshop', 'eightynine', 'affliction', 'extraordinaire', 'rosenthalauthor', 'communicate', 'gravitychat', 'ashghebranious', 'transgenerational', 'thetimepast', 'saalon', 'resolved', 'fricken', 'hempoil', 'cannabis', 'intragenerational', 'sandra', 'bland', 'haircut', 'minimal', 'arobotlegion', 'oppressed', 'ignorant', 'unaddressed', 'keithboykin', 'randallpinkston', 'pozarmy', 'anywhere', 'usg', 'paeds', 'imaging', 'foamed', 'foamcc', 'partially', 'mustachemurse', 'dateswhitecoats', 'mocked', 'simmering', 'concussion', 'pioneerpress', 'uchicago', 'faculty', 'protester', 'defines', 'perpetrator', 'oneborn', 'sadtraumatised', 'parisian', 'ruddyyyyyy', 'jamiegriff97', 'jamie', 'properly', 'annmarieronan', 'niamhosullivanx', 'tat', 'flashback', 'pyramidhead76', 'ianokavo96', 'orphanage', 'mprnews', 'yessum', 'perkpearl', 'viennabutcher', 'wrongdejavu', 'malabamiandsons', 'disneyirh', 'snapchatselfie', 'wrongperson', 'emily4everever', 'alrightbut', 'judemugabi', 'keits', 'livagotta', 'ciaramckendry', 'renewed', 'vickybrush', 'topic', 'kushwush', 'hogging', 'cwheate', 'megancoopy', 'laurathorne97', 'argentaelite', 'brookesddl', 'hopped', 'varagesale', 'candacedx', 'leftleaning', 'learni', 'lucysforsale', 'afrikaan', 'thebargain', 'canagal', 'badastronomer', 'farther', 'noel', 'smoakqueen', 'jusstdoitgirl', 'wbu', 'comcastcares', 'happing', 'annajhm', 'jcomanse', 'paulstaubs', 'rslm72254', 'blanktgt', 'mustve', 'fartanxiety', 'ryans', 'boyd', 'detroitnews', 'strawberry', 'juliekragt', 'wildwestsixgun', 'wayyeah', 'stable', 'buffetts', 'sector', 'caaaaaall', 'troubleniallhariss', 'simplyvain', 'cspan', 'nikki', 'charleyisqueen', 'barber', 'trashed', 'kerrykatona7', 'bak', 'tjrobertson2', 'charlieputh', 'nkulw', 'astros', 'stunningly', 'mia', 'princeoffencing', 'frickin', 'motivated', 'donnelly', 'puth', 'nopower', 'heleneyancey', 'godslove', 'thanku', 'helene', 'freefromwolves', 'danny', 'baan', 'thai', 'sushi', 'bbshelli', 'crptotech', 'banking', 'bitcoing', 'blockchain', 'optical', 'switzerland', 'speech', 'dvbbs', 'borgeous', 'arceen', 'tsunamiesh', 'esh', 'tsunaminopeach', 'slone', 'authormike', 'amen', 'eyes', 'uncertain', 'kamunt', 'nostalgia', 'youuu', 'campanha', 'brinco', 'beacon', 'greenlacey', 'erictsunami', 'alil', 'twister', 'gail', 'russell', 'dalroy', 'shania', 'nother', 'tonguetwister', '950', 'tumble', 'todayim', 'bitchruns', '1061', '1061thetwister', 'maddie', 'tae', 'oktxduo', 'homefolk', 'opinionated', 'proposal', 'modernized', 'omw', 'friend59', 'sharper', 'viper', 'hardside', 'telly', 'structuring', 'edcxo', 'dunking', 'sarahmcpants', 'justjon', 'titty', 'outbid', 'catlow', 'c720', 'swivel', '3dc', 'shar', 'oneself', 'discount', 'redesigning', 'itrawcwb', 'riser', 'dierks', 'bentley', 'iheartradio', 'bulgarian', 'tittie', 'noemotion', 'edk', 'pathfinder', 'ellenfromnowon', '7speed', 'nexus', 'shifter', 'toosoon', 'friend50', 'briannafrost', 'paxton', 'carolinagutierr', 'sticking', 'hew', 'woodchuck', 'nino', 'boost', 'elianaraquel', 'gg', 'wilden', 'llegaste', 'tu', 'm6x100', 'thread', 'rodarmer21', 'dolla', 'potter', 'remind', 'mrsbinker', 'emiliorivera48', 'davidlabrava', 'diesel', 'breed', 'pug', 'thebuffshow', 'thetwisterokc', 'shaniatwain', 'twisterlovesshania', 'curl', 'repped', 'laura', 'milne', 'thejonesesvoice', 'liguistic', 'jrlallo', 'narrator', 'chemically', 'lavatory', 'db5', 'breaking144', 'declarat', 'acenewsdesk', 'soudelors', 'landfall', 'devpeace', 'precipitation', 'measurement', 'mrobama', 'cnmi', '2slow2report', 'rtcom', 'nbanews', 'territory', 'andchina', 'spy', 'gpm', 'bullseye', '4yygb', 'strongest', 'urbanisation', 'upheaval', 'brahman', 'dominance', 'fergusons', 'usw', 'abandoning', 'uncertaintyeconomic', 'rlyeh', 'finale', 'thegame', 'newberg', 'jacque', 'betz', 'elderly', 'companionship', 'chester', 'chestertweetsuk', 'hardy', 'dixon', 'aladdin', 'au', 'indepth', 'coping', 'mayan', 'hieroglyphic', 'lowly', 'soil', 'entershikari', 'kettlebell', 'lopez', 'hindsight', 'jhmnye', 'roman', 'foreclosed', 'ontejc', 'jungle', 'postexistence', 'elevation', 'perquisite', 'brzjc', 'diageos', 'revolt', 'impacted', 'livescience', '1600yearold', 'horoscope', 'lyf', 'winik', 'navigate', 'audit', 'orcot', 'orpol', 'parliamentary', 'subsequent', 'sacking', 'pov', 'amsterdam', 'watertown', 'pound', 'bruise', 'stormchase', 'ef5', 'schiphol', 'auckland', 'northland', 'battered', 'uprooting', 'agony', 'tunein', 'nasasolarsystem', 'jupiter', 'badchoices', 'bantrophyhunting', 'scourgue', 'uspacific', 'disappears', 'skarletan', 'vickie627', 'unqualified', 'treaty', 'teafrystlik', 'darken', 'ungodly', 'bolt', 'slightest', 'stirring', 'blitz', 'traverse', 'seminar', 'blitzed', 'tra', 'belligerent', 'unfold', 'iateyourfood', 'yikes', 'pup', 'uprootin', 'clap', 'wth', 'rotating', 'jetstar', 'bali', 'raung', 'nside', 'belly', 'kamchatka', 'korzhonov', 'aogashima', '010401', '150401', 'maailiss', 'diaporama', 'sixpenceee', 'karymsky', 'located', 'volcanoinrussia', '194', '0104', 'indonesian', 'asics', 'gtii', 'ronnie', 'fieg', 'kith', '3m', 'mrmikeeaton', 'muazimusprime', 'hil', 'utc5km', 'songhey89', 'kiddos', 'sang', 'alextucker', 'jj', 'hickson', 'kenneth', 'faried', 'lamarcus', 'aldridge', 'zeal', 'indecisiveness', 'lexipurduee', 'volcanotornado', 'csismica', 'latechwatch', 'cityofmemphis', 'enders', 'mgs2', 'dpagexxi', 'ps2', 'scegnews', 'thuggin', 'roving', 'raccoon', 'toughens', '1preview', 'littlewomenla', 'seasonfrom', 'onshit', 'thugging', 'warzone', 'homies', 'worldwatchesferguson', 'govjaynixon', 'clairecmc', 'packing', 'kasiakosek', 'kitchen', 'flour', 'robertoneill31', 'frying', 'jsdf', 'reiterate', 'mindset', 'sprite', 'roguewatson', 'lethal', 'junsuisengen', 'dwarfonjetpack', 'xii', 'nightmarishly', 'brutal', 'ritualistic', 'firearm', 'vector', 'cutter', 'rosemarytravale', 'screwed', 'weaponxmusic', 'muttatek', 'kwwwkwwwk', 'jiahahahha', 'yeyeulala', 'esoteric', 'astrologian', 'pulse', 'insanelimits', 'plugin', 'tps', 'tdm', '400t', 'abes', 'camilla33', 'craykain', 'shatter', 'delusion', 'choppas', 'slosher', 'splatdown', 'switching', 'splatling', 'thatrussianman', 'splatoon', 'default', 'splattershot', 'nelson', 'mandela', 'salmanmydarling', 'dub', 'snazzychipz', 'catalogue', 'powerhiroshima', '030811', '41yearold', 'citing', 'casing', 'infested', 'wimp', 'servicin', 'lurkin', 'danagould', 'waynesteratl', 'equalizer', 'hendrixonfire', 'blackcats', 'noob', 'mixed', 'violated', 'kdr', 'legitimate', 'needing', 'argus99', 'heidia1438', 'easier', 'resort', 'incredulous', 'outcry', 'taxpayer', 'similar', 'objection', '100bn', 'chemicalweapons', 'lcc', '96355', 'friendly', 'blogger', 'ineedexposure', 'dannyonpc', 'hardline', 'throwingknifes', 'uswarcrimes', 'wooooooo', 'gamerant', 'esports', 'dismantling', 'ojoubot', 'nro', 'unauthorized', 'argues', 'pelosis', 'dorismatsui', 'supporting', 'mere', 'testimony', 'tactic', 'corruption', 'infiltration', 'router', 'ddos', 'gaming', 'eyecuts', 'erasuterism', 'gal', 'deco', 'trickier', 'splash', '1942', 'rapidcity', 'cheyenne', 'retirement', 'bookmobile', 'bigbrother', 'x37bs', '66m', 'pledged', 'davidhurn', 'tokteacher', 'skynet', 'adamantly', 'opposed', 'kirstiealley', 'animaladvocate', 'otherwisethey', 'finsup', 'glosblue66', 'arranged', 'guatemalan', 'submission', 'whirlwind', 'piss', 'moan', 'demeanor', 'staid', 'cramming', '14hours', 'thailand', 'jaiden', 'affair', 'luhan', 'exo', 'millennium', 'plaza', 'pawsox', 'durham', 'drmartyfox', 'libs', 'tacoma', 'vixmeldrew', 'medusa', 'input', 'baekhyun', 'suho', 'attending', 'syjexo', 'byuwnbeki', 'tacit', 'raging', 'mantra', 'lasted', 'standstill', 'lucymayofficial', '30pcs', '12mm', 'resin', 'flatback', 'rhinestone', 'decoration', 'fa', 'scissor', 'alexhammerstone', 'kttape', 'ktfounder', 'remymarcel', 'frofrofro', 'drained', 'theemobrago', 'jitsu', 'hexagon', 'yelled', 'ckosova', 'edfringe', 'm00nf00l', 'titania', 'summerhallery', 'reimagining', 'shakespeare', 'midsummer', 'scourge', 'whedonesque', 'fanged', 'cantwaittoplayinminneapolis', 'picthis', 'amazingness', 'finall', 'athens', 'lisowski', 'whitewash', 'quals', 'snooker', 'blacken', 'parched', 'harris', 'tinder', 'articals', 'brothernlaw', 'riooooos', 'beast', 'cal', 'sanonofre', 'foxdebatequestions', 'obamas', 'sharia', 'darwinism', 'jennife29916207', 'cnni', 'prisonplanet', 'warningwild', 'noting', 'senfeinstein', 'uncontrolled', 'connecticut', 'thedayct', 'ariaahrary', 'thetawniest', 'troubling', 'wn', '080215', 'morel', 'ambleside', 'farmr', 'martsunmushroom', 'foragesecret', 'randerson62', 'enzasbargains', 'donated', 'handi', 'wipe', 'profittothepeople', 'wbcshirl2', 'doessnt', 'rejoice', 'ect', 'effected', 'cali', 'foliage', 'ignited', 'hiker', 'fingerrockfire', 'azwx', 'kc5kh', 'wsoc', 'parker', 'sheet', '2082676773', 'pa', 'idfire', 'mattkroschel', 'vail', 'hearth', '75000', 'ember', 'kcrw', 'scariest', 'bengston', 'upward', 'smem', 'khq', 'firenews', 'solitude', 'utfire', 'lancasteronline', 'lancaster', 'easternoregon', 'mulan', 'calwildfires', 'aftermath', 'slows', 'signin', 'trailhead', 'wqow', 'windstorm', 'galvnews', 'lastingness', 'acquiesce', 'retreat', 'ziuw', 'fifty', '299', 'nook', 'thebachelorette', 'ij', 'niiiice', 'windstorminsurer', 'wsvr1686b', 'vhull', 'runabout', 'eurostyle', 'ekiti', 'rainwindstorm', 'odeekiti', 'gbonyin', 'lga', 'wzbt', 'hike', 'txlege', 'twia', 'hardball', 'chriscesq', 'bigtent', 'hailstormwindstorm', 'charlesadler', 'browner', 'battleanother', 'shirley', 'patio', 'umbrella', 'flipped', 'mystical', 'calmstillness', 'eyecenter', 'weigh', 'leelanau', '2b', 'extended', 'besafe', 'upwindstorm', 'damnwas', 'blakeshelton', 'windstormfollow', 'jeez', 'approves', 'association', 'ijournal', 'bong', 'datingtips', 'goodreads', 'rangerkaitimay', 'jacksoncalm', 'salvadoran', 'exchanging', 'bury', 'retooled', 'retiree', 'handicapped', 'nomorehandouts', 'exc', 'fatally', 'twilight', 'jacquie', 'biggar', 'kindlecountdown', 'mfrwauthor', 'mgtab', 'phillip', 'amritsar', 'exaggerated', 'claimin', 'zenit', 'asterpuppet', 'academia', 'an247', 'wocowae', 'ushed', 'assured', 'officerrelated', 'investigated', 'wwp', 'serving', '75k', '52k', 'oifoef', 'invisible', '2pmclose', 'senzu', 'gohans', 'pouch', 'gunshot', 'bicep', 'chesttorso', 'kerricktrial', 'jonathanferrell', 'charlesdagnall', 'rub', 'nout', 'rubbin', 'unhealed', 'unending', 'kashmir', 'endoccupation', 'endconflict', 'freekashmir', 'mirror', 'reflected', 'conducted', 'skim', 'morethan', 'kashmirconflict', 'dianneg', 'selfesteem', 'wiped', 'owen', 'ferrells', 'twcnewsclt', 'mattmosley', 'pour', 'celebrety', 'nogo', 'heals', 'surgical', 'healed', 'woodlawn', '79yearold', 'enemity', 'bishopfred', 'scrolling', 'didbut', 'exact', 'baked', 'alaskan', 'neverforget', 'egoresolution', 'discussing', 'icymagistrate', 'friggin', 'icicle', 'projectile', 'miniature', 'nicolaclements4', 'covering', 'scab', 'dauntedpsyche', 'gently', 'dabbed', 'rag', 'crawling', 'hea', 'soldi', 'sorrower', 'squeaver', 'hangin', 'watchin', 'septic', 'captainnmorgan', 'destiel', 'gazette', 'scratching', 'pedal', 'aqua', 'memenaar', 'kindof', 'restrospect', 'pokemoncards', 'icequeenfroslas', 'ranking', 'artectura', 'pop2015', 'n36', 'florence', 'gimp', 'newave', 'livestreaming', 'girlthatsrio', 'georgefoster72', 'edmund', 'fitzgerald', 'blockage', 'woodward', 'northbound', 'davison', 'shoalstraffic', 'blinker', 'misscharleywebb', 'greer', 'amazondeals', 'skylanders', '453', '045', '949', '994', 'staged', 'sequel', 'ralph', 'titortau', 'lynch', 'factchecking', 'ombudsmanship', 'raineishida', 'lolim', 'nervous', 'takeaway', 'magnificent', 'conclusively', 'furious', 'janeenorman', 'probability', 'kuala', 'lumpur', 'ajabrown', 'ministersays', 'buzzfeed', 'firstever', '777', 'vanished', '239', 'najibrazak', 'malaysiaairlines', 'yahoonewsdigest', 'wrecked', 'julianlage', 'grantgordy', 'rossmartin7', 'pastie', 'industrial', 'stare', 'costing', 'apiece', 'cramer', 'igers', 'liv', 'oliviaapalmerr', 'thatswhatfriendsarefor', 'audi', 'kunstler', 'residualincome', 'mlm', 'coleslaw', '300k', 'exotic', 'tuneswgg', 'ohhmyjoshh', 'stevenrulles', 'riddler', 'earlyexit', 'presidential', 'marynmck', 'adorable', 'topnews', 'caitsroberts', 'barra', 'kirafrog', 'mountwario', 'widda16', 'goner', 'jtruff23', 'cameronhacker', 'shoutout', 'fx', 'engineshed', 'exploding', 'gameofkittens', 'explodingkittens', '154107', 'iwate', 'ayyo', 'dei', 'explosivespacked', 'tnwx', 'fatherofthree', 'overtaking', 'bathandnortheastsomerset', '9km', 'forney', 'developing', 'symptom']\n"
          ]
        }
      ]
    },
    {
      "cell_type": "code",
      "source": [
        "w2v_df = []\n",
        "for sent in sentences:\n",
        "    vw = np.zeros(300) \n",
        "    #one sentence has many words\n",
        "    for word in sent:\n",
        "        vw += w2v_model[word]\n",
        "    #average\n",
        "    vw = vw/len(sent)\n",
        "    w2v_df.append(np.array(vw))"
      ],
      "metadata": {
        "colab": {
          "base_uri": "https://localhost:8080/"
        },
        "id": "GTixVYdgGW8n",
        "outputId": "87a20083-0c4d-4f2b-8e69-c3592bd6a496"
      },
      "execution_count": 42,
      "outputs": [
        {
          "output_type": "stream",
          "name": "stderr",
          "text": [
            "/usr/local/lib/python3.7/dist-packages/ipykernel_launcher.py:6: DeprecationWarning: Call to deprecated `__getitem__` (Method will be removed in 4.0.0, use self.wv.__getitem__() instead).\n",
            "  \n"
          ]
        }
      ]
    },
    {
      "cell_type": "code",
      "source": [
        "print(len(w2v_df))\n",
        "#print(w2v_model['earthquake'])"
      ],
      "metadata": {
        "colab": {
          "base_uri": "https://localhost:8080/"
        },
        "id": "2-l6wg3Or4gA",
        "outputId": "1d66d6ea-b7f7-4c63-c4c4-6c7ccaadc392"
      },
      "execution_count": 43,
      "outputs": [
        {
          "output_type": "stream",
          "name": "stdout",
          "text": [
            "7613\n"
          ]
        }
      ]
    },
    {
      "cell_type": "markdown",
      "source": [
        "# Reduce Dimension PCA "
      ],
      "metadata": {
        "id": "1RQQmU5gsNu9"
      }
    },
    {
      "cell_type": "code",
      "source": [
        "from sklearn.preprocessing import StandardScaler\n",
        "'''ValueError: Cannot center sparse matrices: pass `with_mean=False` instead. See docstring for motivation and alternatives.'''\n",
        "from sklearn.decomposition import PCA\n",
        "'''TypeError: PCA does not support sparse input. See TruncatedSVD for a possible alternative.'''\n",
        "from sklearn.decomposition import TruncatedSVD\n",
        "'''\n",
        "trans_cv_df = StandardScaler(with_mean=False).fit_transform(cv_df)\n",
        "\n",
        "#reduce dimention half\n",
        "svd = TruncatedSVD(n_components=100)\n",
        "svd_trans_cv_df = svd.fit_transform(trans_cv_df)\n",
        "\n",
        "print(svd_trans_cv_df.shape)\n",
        "'''"
      ],
      "metadata": {
        "colab": {
          "base_uri": "https://localhost:8080/"
        },
        "id": "5c4IR4NwsOWW",
        "outputId": "17a25e2f-04ca-4057-d938-7309a837799e"
      },
      "execution_count": null,
      "outputs": [
        {
          "output_type": "stream",
          "name": "stdout",
          "text": [
            "(7613, 100)\n"
          ]
        }
      ]
    },
    {
      "cell_type": "code",
      "source": [
        "\n",
        "'''trans_tfidf_df = StandardScaler(with_mean=False).fit_transform(tfidf_df)\n",
        "#reduce dimention half\n",
        "svd = TruncatedSVD(n_components=100)\n",
        "svd_trans_tfidf_df = svd.fit_transform(trans_tfidf_df)\n",
        "\n",
        "print(svd_trans_tfidf_df.shape)'''\n"
      ],
      "metadata": {
        "colab": {
          "base_uri": "https://localhost:8080/"
        },
        "id": "PjmxC5DAzNkF",
        "outputId": "5f205879-aee4-4490-a299-286c2bd8ee7c"
      },
      "execution_count": null,
      "outputs": [
        {
          "output_type": "stream",
          "name": "stdout",
          "text": [
            "(7613, 100)\n"
          ]
        }
      ]
    },
    {
      "cell_type": "code",
      "source": [
        "trans_w2v_df = StandardScaler().fit_transform(w2v_df)\n",
        "\n",
        "#reduce dimention half\n",
        "pca = PCA(n_components=100)\n",
        "pca_trans_w2v_df = pca.fit_transform(trans_w2v_df)\n",
        "\n",
        "print(pca_trans_w2v_df.shape)"
      ],
      "metadata": {
        "colab": {
          "base_uri": "https://localhost:8080/"
        },
        "id": "sbgabLUWz1hn",
        "outputId": "866c6857-c7c5-4854-898d-93601e437b2a"
      },
      "execution_count": null,
      "outputs": [
        {
          "output_type": "stream",
          "name": "stdout",
          "text": [
            "(7613, 100)\n"
          ]
        }
      ]
    },
    {
      "cell_type": "markdown",
      "source": [
        "# Data Split"
      ],
      "metadata": {
        "id": "G7l21GNwqGzR"
      }
    },
    {
      "cell_type": "code",
      "source": [
        "from sklearn.model_selection import train_test_split\n",
        "\n",
        "cv_train_X, cv_test_X, cv_train_Y, cv_test_y = train_test_split(cv_df, df['target'], test_size=0.30, random_state=17)\n",
        "#svd_cv_train_X, svd_cv_test_X, svd_cv_train_Y, svd_cv_test_y = train_test_split(svd_trans_cv_df, df['target'], test_size=0.30, random_state=17)\n",
        "\n",
        "tfidf_train_X, tfidf_test_X, tfidf_train_Y, tfidf_test_y = train_test_split(tfidf_df, df['target'], test_size=0.30, random_state=17)\n",
        "#svd_tfidf_train_X, svd_tfidf_test_X, svd_tfidf_train_Y, svd_tfidf_test_y = train_test_split(svd_trans_tfidf_df, df['target'], test_size=0.30, random_state=17)\n",
        "\n",
        "w2v_train_X, w2v_test_X, w2v_train_Y, w2v_test_y = train_test_split(w2v_df, df['target'], test_size=0.30, random_state=17)\n",
        "pca_w2v_train_X, pca_w2v_test_X, pca_w2v_train_Y, pca_w2v_test_y = train_test_split(pca_trans_w2v_df, df['target'], test_size=0.30, random_state=17)"
      ],
      "metadata": {
        "id": "VO-P8ypzIQqf"
      },
      "execution_count": null,
      "outputs": []
    },
    {
      "cell_type": "markdown",
      "source": [
        "# Model - SVM"
      ],
      "metadata": {
        "id": "vUuzb2ZAqNij"
      }
    },
    {
      "cell_type": "code",
      "source": [
        "import matplotlib.pyplot as plt\n",
        "from sklearn import svm\n",
        "from sklearn.metrics import accuracy_score\n",
        "from sklearn.model_selection import cross_val_score\n",
        "from sklearn.metrics import confusion_matrix\n",
        "import scikitplot as skplt\n",
        "\n",
        " \n",
        "def model_SVM(train_X, test_X, train_y, test_y) :\n",
        "  SVM = svm.SVC()\n",
        "  SVM.fit(train_X, train_y)\n",
        "  pred_y = SVM.predict(test_X)\n",
        "\n",
        "  #Accuracy\n",
        "  print('accuracy_score: %.3f' % accuracy_score(test_y, pred_y))"
      ],
      "metadata": {
        "id": "uCaehTpsJCPc"
      },
      "execution_count": null,
      "outputs": []
    },
    {
      "cell_type": "markdown",
      "source": [
        "**Training three datasets on Basic SVM and Prediction/Accuracy**"
      ],
      "metadata": {
        "id": "L8tszhS_quLo"
      }
    },
    {
      "cell_type": "code",
      "source": [
        "model_SVM(cv_train_X, cv_test_X, cv_train_Y, cv_test_y)\n",
        "#model_SVM(svd_cv_train_X, svd_cv_test_X, svd_cv_train_Y, svd_cv_test_y)\n",
        "\n",
        "model_SVM(tfidf_train_X, tfidf_test_X, tfidf_train_Y, tfidf_test_y)\n",
        "#model_SVM(svd_tfidf_train_X, svd_tfidf_test_X, svd_tfidf_train_Y, svd_tfidf_test_y)\n",
        "\n",
        "model_SVM(w2v_train_X, w2v_test_X, w2v_train_Y, w2v_test_y)\n",
        "model_SVM(pca_w2v_train_X, pca_w2v_test_X, pca_w2v_train_Y, pca_w2v_test_y)"
      ],
      "metadata": {
        "colab": {
          "base_uri": "https://localhost:8080/"
        },
        "id": "moyZr_SFJ3r2",
        "outputId": "9b051082-5b1d-44b2-ced1-42919075e68e"
      },
      "execution_count": null,
      "outputs": [
        {
          "output_type": "stream",
          "name": "stdout",
          "text": [
            "accuracy_score: 0.799\n",
            "accuracy_score: 0.761\n",
            "accuracy_score: 0.629\n",
            "accuracy_score: 0.711\n"
          ]
        }
      ]
    },
    {
      "cell_type": "code",
      "source": [
        "data = {'CV':0.799, 'TD-IDF':0.761, 'W2V':0.629,'PCA_W2V':0.711}\n",
        "datatype = list(data.keys())\n",
        "acc = list(data.values())\n",
        "  \n",
        "fig = plt.figure(figsize = (10, 5))\n",
        " \n",
        "# creating the bar plot\n",
        "plt.bar(datatype, acc, width = 0.5)\n",
        " \n",
        "plt.xlabel(\"Feature Type\")\n",
        "plt.ylabel(\"Accuracy on SVM\")\n",
        "plt.show()"
      ],
      "metadata": {
        "colab": {
          "base_uri": "https://localhost:8080/",
          "height": 335
        },
        "id": "PSTXYx7hHktG",
        "outputId": "9c9c11d5-f257-4b28-db92-f9b822cf7eba"
      },
      "execution_count": null,
      "outputs": [
        {
          "output_type": "display_data",
          "data": {
            "text/plain": [
              "<Figure size 720x360 with 1 Axes>"
            ],
            "image/png": "[encoded data removed]"
          },
          "metadata": {
            "needs_background": "light"
          }
        }
      ]
    },
    {
      "cell_type": "markdown",
      "source": [
        "**SVM with CounterVector has higher accuracy**"
      ],
      "metadata": {
        "id": "Ve0IQYrBuo5T"
      }
    },
    {
      "cell_type": "code",
      "source": [
        "from sklearn.metrics import precision_score, recall_score, f1_score, accuracy_score\n",
        "\n",
        "def testModel(train_x, test_x, train_y, test_y, _c, _gam, _kn):\n",
        "  SVM = svm.SVC(kernel=_kn, C=_c)\n",
        "  SVM.fit(train_x, train_y)\n",
        "  pred_y = SVM.predict(test_x)\n",
        "  #Accuracy\n",
        "  print('accuracy_score: %.3f' % accuracy_score(test_y, pred_y))\n",
        "  print('Recall: %.3f' % recall_score(test_y, pred_y))\n",
        "  print('Precision: %.3f' % precision_score(test_y, pred_y))\n",
        "  print('F1 Score: %.3f' % f1_score(test_y, pred_y))\n",
        "\n",
        "\n",
        "  conf_matrix = confusion_matrix(y_true=test_y, y_pred=pred_y)\n",
        "  #\n",
        "  # Print the confusion matrix using Matplotlib\n",
        "  #\n",
        "  fig, ax = plt.subplots(figsize=(5, 5))\n",
        "  ax.matshow(conf_matrix, cmap=plt.cm.Oranges, alpha=0.3)\n",
        "  for i in range(conf_matrix.shape[0]):\n",
        "      for j in range(conf_matrix.shape[1]):\n",
        "          ax.text(x=j, y=i,s=conf_matrix[i, j], va='center', ha='center', size='xx-large')\n",
        "  \n",
        "  plt.xlabel('Predictions', fontsize=18)\n",
        "  plt.ylabel('Actuals', fontsize=18)\n",
        "  plt.title('Confusion Matrix', fontsize=18)\n",
        "  plt.show()\n",
        "\n",
        "\n",
        "'''\n",
        "To find best tuning option\n",
        "\n",
        "group_c = [5, 1, 0.1, 0.05, 0.01, 0.001]\n",
        "group_gam = [5, 1, 0.1, 0.05, 0.01, 0.001]\n",
        "\n",
        "for c in group_c:\n",
        "  print(\"C value:\", c)\n",
        "  for gam in group_gam:\n",
        "    print(\"gam value:\", gam)\n",
        "    testModel(cv_train_X, cv_test_X, cv_train_Y, cv_test_y, c, gam, 'rbf')\n",
        "'''\n",
        "#testModel(cv_train_X, cv_test_X, cv_train_Y, cv_test_y, c, gam, 'linear')\n",
        "#testModel(cv_train_X, cv_test_X, cv_train_Y, cv_test_y, c, gam, 'rbf')\n",
        "#testModel(cv_train_X, cv_test_X, cv_train_Y, cv_test_y, 1, 'auto', 'poly')\n",
        "\n",
        "testModel(cv_train_X, cv_test_X, cv_train_Y, cv_test_y, 1, 'auto', 'sigmoid')"
      ],
      "metadata": {
        "colab": {
          "base_uri": "https://localhost:8080/",
          "height": 427
        },
        "id": "uXsXofYsuu3s",
        "outputId": "f405dcb4-72dd-4a13-af5e-00dd41f6df02"
      },
      "execution_count": null,
      "outputs": [
        {
          "output_type": "stream",
          "name": "stdout",
          "text": [
            "accuracy_score: 0.800\n",
            "Recall: 0.668\n",
            "Precision: 0.839\n",
            "F1 Score: 0.744\n"
          ]
        },
        {
          "output_type": "display_data",
          "data": {
            "text/plain": [
              "<Figure size 360x360 with 1 Axes>"
            ],
            "image/png": "[encoded data removed]"
          },
          "metadata": {
            "needs_background": "light"
          }
        }
      ]
    },
    {
      "cell_type": "markdown",
      "source": [
        "# *LogisticRegression*"
      ],
      "metadata": {
        "id": "XH3_NJne6fB7"
      }
    },
    {
      "cell_type": "code",
      "source": [
        "from sklearn.linear_model import LogisticRegression\n",
        "\n",
        "def model_Logistic(train_X, test_X, train_y, test_y) :\n",
        "  logisticRegr = LogisticRegression()\n",
        "  logisticRegr.fit(train_X, train_y)\n",
        "  pred_y = logisticRegr.predict(test_X)\n",
        "\n",
        "  #Accuracy\n",
        "  print('accuracy_score: %.3f' % accuracy_score(test_y, pred_y))"
      ],
      "metadata": {
        "id": "73oxB7Ym7AKS"
      },
      "execution_count": null,
      "outputs": []
    },
    {
      "cell_type": "code",
      "source": [
        "model_Logistic(cv_train_X, cv_test_X, cv_train_Y, cv_test_y)\n",
        "model_Logistic(tfidf_train_X, tfidf_test_X, tfidf_train_Y, tfidf_test_y)\n",
        "model_Logistic(w2v_train_X, w2v_test_X, w2v_train_Y, w2v_test_y)\n",
        "model_Logistic(pca_w2v_train_X, pca_w2v_test_X, pca_w2v_train_Y, pca_w2v_test_y)"
      ],
      "metadata": {
        "colab": {
          "base_uri": "https://localhost:8080/"
        },
        "id": "5uXcHIN778al",
        "outputId": "ca9e2a38-82f2-45f5-baa4-111410c28364"
      },
      "execution_count": null,
      "outputs": [
        {
          "output_type": "stream",
          "name": "stdout",
          "text": [
            "accuracy_score: 0.797\n",
            "accuracy_score: 0.776\n",
            "accuracy_score: 0.667\n",
            "accuracy_score: 0.764\n"
          ]
        },
        {
          "output_type": "stream",
          "name": "stderr",
          "text": [
            "/usr/local/lib/python3.7/dist-packages/sklearn/linear_model/_logistic.py:818: ConvergenceWarning: lbfgs failed to converge (status=1):\n",
            "STOP: TOTAL NO. of ITERATIONS REACHED LIMIT.\n",
            "\n",
            "Increase the number of iterations (max_iter) or scale the data as shown in:\n",
            "    https://scikit-learn.org/stable/modules/preprocessing.html\n",
            "Please also refer to the documentation for alternative solver options:\n",
            "    https://scikit-learn.org/stable/modules/linear_model.html#logistic-regression\n",
            "  extra_warning_msg=_LOGISTIC_SOLVER_CONVERGENCE_MSG,\n"
          ]
        }
      ]
    },
    {
      "cell_type": "code",
      "source": [
        "data = {'CV':0.797, 'TD-IDF':0.776, 'W2V':0.667,'PCA_W2V':0.764}\n",
        "datatype = list(data.keys())\n",
        "acc = list(data.values())\n",
        "  \n",
        "fig = plt.figure(figsize = (10, 5))\n",
        " \n",
        "# creating the bar plot\n",
        "plt.bar(datatype, acc, width = 0.5)\n",
        " \n",
        "plt.xlabel(\"Feature Type\")\n",
        "plt.ylabel(\"Accuracy on Logistic Regression\")\n",
        "plt.show()"
      ],
      "metadata": {
        "colab": {
          "base_uri": "https://localhost:8080/",
          "height": 335
        },
        "id": "oCXXshOGYGVu",
        "outputId": "d21ced66-c044-47bf-ed7e-1db4916bc4bb"
      },
      "execution_count": null,
      "outputs": [
        {
          "output_type": "display_data",
          "data": {
            "text/plain": [
              "<Figure size 720x360 with 1 Axes>"
            ],
            "image/png": "[encoded data removed]"
          },
          "metadata": {
            "needs_background": "light"
          }
        }
      ]
    },
    {
      "cell_type": "markdown",
      "source": [
        "**LogitricRegression with CountVector has better accuracy**"
      ],
      "metadata": {
        "id": "s_FS9InpHfBU"
      }
    },
    {
      "cell_type": "code",
      "source": [
        "#cv_train_X, cv_test_X, cv_train_Y, cv_test_y\n",
        "\n",
        "'''\n",
        "To find best tuning option\n",
        "\n",
        "'''\n",
        "group_c = [10, 5, 1, 0.1, 0.001]\n",
        "\n",
        "for c in group_c:\n",
        "    logistic_lasso = LogisticRegression(C=c, penalty='l1', tol=0.001, solver='saga', random_state=42,  max_iter=10000) #lasso\n",
        "    logistic_ridge = LogisticRegression(C=c, penalty='l2', tol=0.001, solver='saga', random_state=42, max_iter=10000)  #Ridge \n",
        "    l_ela = LogisticRegression(C=c, penalty='elasticnet', solver='saga', l1_ratio=0.5, tol=0.001, max_iter=10000)\n",
        "    \n",
        "    logistic_lasso.fit(cv_train_X, cv_train_Y.values.ravel())\n",
        "    logistic_ridge.fit(cv_train_X, cv_train_Y.values.ravel())\n",
        "    l_ela.fit(cv_train_X, cv_train_Y.values.ravel())\n",
        "    \n",
        "    coef_l1_LR = logistic_lasso.coef_.ravel()\n",
        "    coef_l2_LR = logistic_ridge.coef_.ravel()\n",
        "    coef_ela_LR = l_ela.coef_.ravel()\n",
        "    \n",
        "    # coef_l1_LR contains zeros due to the L1 sparsity inducing norm\n",
        "    sparsity_l1_LR = np.mean(coef_l1_LR == 0) * 100\n",
        "    sparsity_l2_LR = np.mean(coef_l2_LR == 0) * 100 \n",
        "    sparsity_l_ela = np.mean(coef_ela_LR == 0) * 100 \n",
        "\n",
        "    print(\"\\n C=%.5f\" % c)\n",
        "    print(\"{:<40} {:.2f}%\".format(\"Sparsity with L1 penalty:\", sparsity_l1_LR))\n",
        "    print(\"{:<40} {:.2f}%\".format(\"Sparsity with L2 penalty:\", sparsity_l2_LR))\n",
        "    print(\"{:<40} {:.2f}%\".format(\"Sparsity with Ela penalty:\", sparsity_l_ela))\n",
        "    print(\"{:<40} {:.3f}\".format(\"Score with L1 penalty:\", logistic_lasso.score(cv_test_X, cv_test_y.values.ravel())))  #lasso score\n",
        "    print(\"{:<40} {:.3f}\".format(\"Score with L2 penalty:\",logistic_ridge.score(cv_test_X, cv_test_y.values.ravel())))   #ridge score\n",
        "    print(\"{:<40} {:.3f}\".format(\"Score with Ela penalty:\",l_ela.score(cv_test_X, cv_test_y.values.ravel())))   #elastic score"
      ],
      "metadata": {
        "colab": {
          "base_uri": "https://localhost:8080/"
        },
        "id": "2xZQFYiwOt_I",
        "outputId": "8b33f8ab-a30b-4a78-effa-d1a94d06933d"
      },
      "execution_count": null,
      "outputs": [
        {
          "output_type": "stream",
          "name": "stdout",
          "text": [
            "\n",
            " C=10.00000\n",
            "Sparsity with L1 penalty:                53.47%\n",
            "Sparsity with L2 penalty:                20.19%\n",
            "Sparsity with Ela penalty:               38.22%\n",
            "Score with L1 penalty:                   0.78\n",
            "Score with L2 penalty:                   0.78\n",
            "Score with Ela penalty:                  0.78\n",
            "\n",
            " C=5.00000\n",
            "Sparsity with L1 penalty:                68.21%\n",
            "Sparsity with L2 penalty:                20.19%\n",
            "Sparsity with Ela penalty:               49.48%\n",
            "Score with L1 penalty:                   0.78\n",
            "Score with L2 penalty:                   0.79\n",
            "Score with Ela penalty:                  0.79\n",
            "\n",
            " C=1.00000\n",
            "Sparsity with L1 penalty:                93.60%\n",
            "Sparsity with L2 penalty:                20.19%\n",
            "Sparsity with Ela penalty:               81.09%\n",
            "Score with L1 penalty:                   0.78\n",
            "Score with L2 penalty:                   0.79\n",
            "Score with Ela penalty:                  0.79\n",
            "\n",
            " C=0.10000\n",
            "Sparsity with L1 penalty:                99.52%\n",
            "Sparsity with L2 penalty:                20.19%\n",
            "Sparsity with Ela penalty:               98.40%\n",
            "Score with L1 penalty:                   0.72\n",
            "Score with L2 penalty:                   0.80\n",
            "Score with Ela penalty:                  0.76\n",
            "\n",
            " C=0.00100\n",
            "Sparsity with L1 penalty:                100.00%\n",
            "Sparsity with L2 penalty:                20.19%\n",
            "Sparsity with Ela penalty:               100.00%\n",
            "Score with L1 penalty:                   0.56\n",
            "Score with L2 penalty:                   0.57\n",
            "Score with Ela penalty:                  0.56\n"
          ]
        }
      ]
    },
    {
      "cell_type": "code",
      "source": [
        "''' BEST OPTION'''\n",
        "#cv_train_X, cv_test_X, cv_train_Y, cv_test_y\n",
        "\n",
        "logisticRegr = LogisticRegression()\n",
        "logisticRegr.fit(cv_train_X, cv_train_Y)\n",
        "pred_y = logisticRegr.predict(cv_test_X)\n",
        "#Accuracy\n",
        "print('accuracy_score: %.3f' % accuracy_score(cv_test_y, pred_y))\n",
        "print('Recall: %.3f' % recall_score(cv_test_y, pred_y))\n",
        "print('Precision: %.3f' % precision_score(cv_test_y, pred_y))\n",
        "print('F1 Score: %.3f' % f1_score(cv_test_y, pred_y))\n",
        "\n",
        "\n",
        "conf_matrix = confusion_matrix(y_true=cv_test_y, y_pred=pred_y)\n",
        "#\n",
        "# Print the confusion matrix using Matplotlib\n",
        "#\n",
        "fig, ax = plt.subplots(figsize=(5, 5))\n",
        "ax.matshow(conf_matrix, cmap=plt.cm.Oranges, alpha=0.3)\n",
        "for i in range(conf_matrix.shape[0]):\n",
        "    for j in range(conf_matrix.shape[1]):\n",
        "        ax.text(x=j, y=i,s=conf_matrix[i, j], va='center', ha='center', size='xx-large')\n",
        "\n",
        "plt.xlabel('Predictions', fontsize=18)\n",
        "plt.ylabel('Actuals', fontsize=18)\n",
        "plt.title('Confusion Matrix', fontsize=18)\n",
        "plt.show()\n"
      ],
      "metadata": {
        "colab": {
          "base_uri": "https://localhost:8080/",
          "height": 427
        },
        "id": "3rTnusMlO8y-",
        "outputId": "1c7da7ae-2ec6-4906-cd05-089af03c00b7"
      },
      "execution_count": null,
      "outputs": [
        {
          "output_type": "stream",
          "name": "stdout",
          "text": [
            "accuracy_score: 0.797\n",
            "Recall: 0.693\n",
            "Precision: 0.813\n",
            "F1 Score: 0.749\n"
          ]
        },
        {
          "output_type": "display_data",
          "data": {
            "text/plain": [
              "<Figure size 360x360 with 1 Axes>"
            ],
            "image/png": "[encoded data removed]"
          },
          "metadata": {
            "needs_background": "light"
          }
        }
      ]
    },
    {
      "cell_type": "markdown",
      "source": [
        "# DecisionTree"
      ],
      "metadata": {
        "id": "o5IcasT28y_X"
      }
    },
    {
      "cell_type": "code",
      "source": [
        "from sklearn.tree import DecisionTreeClassifier\n",
        "from sklearn import tree\n",
        "\n",
        "def model_DT (train_X, test_X, train_y, test_y) :\n",
        "  clf = DecisionTreeClassifier()\n",
        "  clf.fit(train_X, train_y)\n",
        "  pred_y = clf.predict(test_X)\n",
        "  #Accuracy\n",
        "  print('accuracy_score: %.3f' % accuracy_score(test_y, pred_y))\n"
      ],
      "metadata": {
        "id": "5SJ2skzR82Px"
      },
      "execution_count": null,
      "outputs": []
    },
    {
      "cell_type": "code",
      "source": [
        "model_DT(cv_train_X, cv_test_X, cv_train_Y, cv_test_y)\n",
        "model_DT(tfidf_train_X, tfidf_test_X, tfidf_train_Y, tfidf_test_y)\n",
        "model_DT(w2v_train_X, w2v_test_X, w2v_train_Y, w2v_test_y)\n",
        "model_DT(pca_w2v_train_X, pca_w2v_test_X, pca_w2v_train_Y, pca_w2v_test_y)"
      ],
      "metadata": {
        "colab": {
          "base_uri": "https://localhost:8080/"
        },
        "id": "PNx8RCIl9u_M",
        "outputId": "816c005d-9461-4ba3-94c8-014e4a467ee3"
      },
      "execution_count": null,
      "outputs": [
        {
          "output_type": "stream",
          "name": "stdout",
          "text": [
            "accuracy_score: 0.749\n",
            "accuracy_score: 0.753\n",
            "accuracy_score: 0.656\n",
            "accuracy_score: 0.679\n"
          ]
        }
      ]
    },
    {
      "cell_type": "code",
      "source": [
        "data = {'CV':0.749, 'TD-IDF':0.753, 'W2V':0.656,'PCA_W2V':0.679}\n",
        "datatype = list(data.keys())\n",
        "acc = list(data.values())\n",
        "  \n",
        "fig = plt.figure(figsize = (10, 5))\n",
        " \n",
        "# creating the bar plot\n",
        "plt.bar(datatype, acc, width = 0.5)\n",
        " \n",
        "plt.xlabel(\"Feature Type\")\n",
        "plt.ylabel(\"Accuracy on Logistic Regression\")\n",
        "plt.show()"
      ],
      "metadata": {
        "colab": {
          "base_uri": "https://localhost:8080/",
          "height": 335
        },
        "id": "uFjcukyAYQ6i",
        "outputId": "c5c3a2e8-b11e-4be3-e5bf-c430343d3232"
      },
      "execution_count": null,
      "outputs": [
        {
          "output_type": "display_data",
          "data": {
            "text/plain": [
              "<Figure size 720x360 with 1 Axes>"
            ],
            "image/png": "[encoded data removed]"
          },
          "metadata": {
            "needs_background": "light"
          }
        }
      ]
    },
    {
      "cell_type": "markdown",
      "source": [
        "**Decision Tree with Td-Idf is higher accuracy.**"
      ],
      "metadata": {
        "id": "7RP3FFgz9-Mv"
      }
    },
    {
      "cell_type": "code",
      "source": [
        "def test_dt(x_train, x_test, y_train, y_test) :\n",
        "    print()\n",
        "    for c_depth in [2, 4, 6, 8, 10, 12, 20, 30, None] : \n",
        "        print(\"model selection depth = {0}\".format(c_depth))\n",
        "        clf_gini = DecisionTreeClassifier(criterion='gini', max_depth=c_depth)\n",
        "        clf_gini.fit(x_train, y_train)\n",
        "        y_pred = clf_gini.predict(x_test)\n",
        "        print(accuracy_score(y_test, y_pred))\n",
        "\n",
        "test_dt(tfidf_train_X, tfidf_test_X, tfidf_train_Y, tfidf_test_y)"
      ],
      "metadata": {
        "colab": {
          "base_uri": "https://localhost:8080/"
        },
        "id": "kseLMuXe93u7",
        "outputId": "248da583-01a6-4f05-a33a-4ce53be9a541"
      },
      "execution_count": null,
      "outputs": [
        {
          "output_type": "stream",
          "name": "stdout",
          "text": [
            "\n",
            "model selection depth = 2\n",
            "0.5923817863397548\n",
            "model selection depth = 4\n",
            "0.6072679509632224\n",
            "model selection depth = 6\n",
            "0.6287215411558669\n",
            "model selection depth = 8\n",
            "0.6453590192644484\n",
            "model selection depth = 10\n",
            "0.6545534150612959\n",
            "model selection depth = 12\n",
            "0.6650612959719789\n",
            "model selection depth = 20\n",
            "0.7044658493870403\n",
            "model selection depth = 30\n",
            "0.7342381786339754\n",
            "model selection depth = None\n",
            "0.7513134851138353\n"
          ]
        }
      ]
    },
    {
      "cell_type": "code",
      "source": [
        "#test_dt(tfidf_train_X, tfidf_test_X, tfidf_train_Y, tfidf_test_y)\n",
        "'''\n",
        "def __init__(*, criterion='gini', splitter='best', max_depth=None, min_samples_split=2, \n",
        "min_samples_leaf=1, min_weight_fraction_leaf=0.0, max_features=None, random_state=None, \n",
        "max_leaf_nodes=None, min_impurity_decrease=0.0, class_weight=None, ccp_alpha=0.0)\n",
        "'''\n",
        "\n",
        "\n",
        "clf = DecisionTreeClassifier()\n",
        "clf.fit(tfidf_train_X, tfidf_train_Y)\n",
        "pred_y = clf.predict(tfidf_test_X)\n",
        "\n",
        "#Accuracy\n",
        "print('accuracy_score: %.3f' % accuracy_score(tfidf_test_y, pred_y))\n",
        "print('Recall: %.3f' % recall_score(tfidf_test_y, pred_y))\n",
        "print('Precision: %.3f' % precision_score(tfidf_test_y, pred_y))\n",
        "print('F1 Score: %.3f' % f1_score(tfidf_test_y, pred_y))\n",
        "\n",
        "\n",
        "conf_matrix = confusion_matrix(y_true=tfidf_test_y, y_pred=pred_y)\n",
        "#\n",
        "# Print the confusion matrix using Matplotlib\n",
        "#\n",
        "fig, ax = plt.subplots(figsize=(5, 5))\n",
        "ax.matshow(conf_matrix, cmap=plt.cm.Oranges, alpha=0.3)\n",
        "for i in range(conf_matrix.shape[0]):\n",
        "    for j in range(conf_matrix.shape[1]):\n",
        "        ax.text(x=j, y=i,s=conf_matrix[i, j], va='center', ha='center', size='xx-large')\n",
        "\n",
        "plt.xlabel('Predictions', fontsize=18)\n",
        "plt.ylabel('Actuals', fontsize=18)\n",
        "plt.title('Confusion Matrix', fontsize=18)\n",
        "plt.show()\n"
      ],
      "metadata": {
        "colab": {
          "base_uri": "https://localhost:8080/",
          "height": 427
        },
        "id": "9pSYv8ot_E19",
        "outputId": "984f9d5e-5609-4237-99fe-c6b5ad1dcca9"
      },
      "execution_count": null,
      "outputs": [
        {
          "output_type": "stream",
          "name": "stdout",
          "text": [
            "accuracy_score: 0.751\n",
            "Recall: 0.678\n",
            "Precision: 0.730\n",
            "F1 Score: 0.703\n"
          ]
        },
        {
          "output_type": "display_data",
          "data": {
            "text/plain": [
              "<Figure size 360x360 with 1 Axes>"
            ],
            "image/png": "[encoded data removed]"
          },
          "metadata": {
            "needs_background": "light"
          }
        }
      ]
    },
    {
      "cell_type": "markdown",
      "source": [
        "# RandomTree (NOT YET)"
      ],
      "metadata": {
        "id": "tuAE_Agrb6pQ"
      }
    },
    {
      "cell_type": "markdown",
      "source": [
        "# AdaBoostClassifier (NOT YET)"
      ],
      "metadata": {
        "id": "gUBtUnphcPjY"
      }
    },
    {
      "cell_type": "markdown",
      "source": [
        "# Ensemble Method (SVM, LogisticRegr, DecistionTree)"
      ],
      "metadata": {
        "id": "6diDRbfBCzUw"
      }
    },
    {
      "cell_type": "markdown",
      "source": [
        "**CountVector**"
      ],
      "metadata": {
        "id": "UBKqtF6VJyWt"
      }
    },
    {
      "cell_type": "code",
      "source": [
        "\n",
        "'''\n",
        "cv_train_X, cv_test_X, cv_train_Y, cv_test_y = train_test_split(cv_df, df['target'], test_size=0.30, random_state=17)\n",
        "'''\n",
        "\n",
        "ensembleModels = []\n",
        "ensembleModels.append(('LR',  LogisticRegression()))\n",
        "ensembleModels.append(('SVM', svm.SVC(kernel='sigmoid',probability = True)))\n",
        "ensembleModels.append(('DT', DecisionTreeClassifier()))\n",
        "  \n",
        "# Voting Classifier with hard voting\n",
        "vot_hard = VotingClassifier(estimators = ensembleModels, voting ='hard')\n",
        "vot_hard.fit(cv_train_X, cv_train_Y)\n",
        "y_pred = vot_hard.predict(cv_test_X)\n",
        "  \n",
        "# using accuracy_score metric to predict accuracy\n",
        "score = accuracy_score(cv_test_y, y_pred)\n",
        "print(\"Hard Voting Score %.3f\" % score)\n",
        "print('Recall: %.3f' % recall_score(cv_test_y, pred_y))\n",
        "print('Precision: %.3f' % precision_score(cv_test_y, pred_y))\n",
        "print('F1 Score: %.3f' % f1_score(cv_test_y, pred_y))\n",
        "\n",
        "conf_matrix = confusion_matrix(y_true=cv_test_y, y_pred=pred_y)\n",
        "#\n",
        "# Print the confusion matrix using Matplotlib\n",
        "#\n",
        "fig, ax = plt.subplots(figsize=(5, 5))\n",
        "ax.matshow(conf_matrix, cmap=plt.cm.Oranges, alpha=0.3)\n",
        "for i in range(conf_matrix.shape[0]):\n",
        "    for j in range(conf_matrix.shape[1]):\n",
        "        ax.text(x=j, y=i,s=conf_matrix[i, j], va='center', ha='center', size='xx-large')\n",
        "\n",
        "plt.xlabel('Predictions', fontsize=18)\n",
        "plt.ylabel('Actuals', fontsize=18)\n",
        "plt.title('Confusion Matrix', fontsize=18)\n",
        "plt.show()\n",
        "  \n",
        "# Voting Classifier with soft voting\n",
        "vot_soft = VotingClassifier(estimators = ensembleModels, voting ='soft')\n",
        "vot_soft.fit(cv_train_X, cv_train_Y)\n",
        "y_pred = vot_soft.predict(cv_test_X)\n",
        "  \n",
        "# using accuracy_score\n",
        "score = accuracy_score(cv_test_y, y_pred)\n",
        "print(\"Soft Voting Score % d\" % score)"
      ],
      "metadata": {
        "colab": {
          "base_uri": "https://localhost:8080/",
          "height": 445
        },
        "id": "PUT2dqsyMVPd",
        "outputId": "cddd1978-5381-40ee-fa97-b525dea26ef2"
      },
      "execution_count": null,
      "outputs": [
        {
          "output_type": "stream",
          "name": "stdout",
          "text": [
            "Hard Voting Score 0.803\n",
            "Recall: 0.678\n",
            "Precision: 0.730\n",
            "F1 Score: 0.703\n"
          ]
        },
        {
          "output_type": "display_data",
          "data": {
            "text/plain": [
              "<Figure size 360x360 with 1 Axes>"
            ],
            "image/png": "[encoded data removed]"
          },
          "metadata": {
            "needs_background": "light"
          }
        },
        {
          "output_type": "stream",
          "name": "stdout",
          "text": [
            "Soft Voting Score  0\n"
          ]
        }
      ]
    },
    {
      "cell_type": "markdown",
      "source": [
        "**TF-IDF**"
      ],
      "metadata": {
        "id": "r8AxWIHAYcI-"
      }
    },
    {
      "cell_type": "code",
      "source": [
        "\n",
        "'''\n",
        "tfidf_train_X, tfidf_test_X, tfidf_train_Y, tfidf_test_y = train_test_split(tfidf_df, df['target'], test_size=0.30, random_state=17)\n",
        "'''\n",
        "\n",
        "ensembleModels = []\n",
        "ensembleModels.append(('LR',  LogisticRegression()))\n",
        "ensembleModels.append(('SVM', svm.SVC(kernel='sigmoid',probability = True)))\n",
        "ensembleModels.append(('DT', DecisionTreeClassifier()))\n",
        "  \n",
        "# Voting Classifier with hard voting\n",
        "vot_hard = VotingClassifier(estimators = ensembleModels, voting ='hard')\n",
        "vot_hard.fit(tfidf_train_X, tfidf_train_Y)\n",
        "y_pred = vot_hard.predict(tfidf_test_X)\n",
        "  \n",
        "# using accuracy_score metric to predict accuracy\n",
        "score = accuracy_score(tfidf_test_y, y_pred)\n",
        "print(\"Hard Voting Score %.3f\" % score)\n",
        "print('Recall: %.3f' % recall_score(tfidf_test_y, pred_y))\n",
        "print('Precision: %.3f' % precision_score(tfidf_test_y, pred_y))\n",
        "print('F1 Score: %.3f' % f1_score(tfidf_test_y, pred_y))\n",
        "\n",
        "conf_matrix = confusion_matrix(y_true=tfidf_test_y, y_pred=pred_y)\n",
        "#\n",
        "# Print the confusion matrix using Matplotlib\n",
        "#\n",
        "fig, ax = plt.subplots(figsize=(5, 5))\n",
        "ax.matshow(conf_matrix, cmap=plt.cm.Oranges, alpha=0.3)\n",
        "for i in range(conf_matrix.shape[0]):\n",
        "    for j in range(conf_matrix.shape[1]):\n",
        "        ax.text(x=j, y=i,s=conf_matrix[i, j], va='center', ha='center', size='xx-large')\n",
        "\n",
        "plt.xlabel('Predictions', fontsize=18)\n",
        "plt.ylabel('Actuals', fontsize=18)\n",
        "plt.title('Confusion Matrix', fontsize=18)\n",
        "plt.show()\n",
        "  \n",
        "# Voting Classifier with soft voting\n",
        "vot_soft = VotingClassifier(estimators = ensembleModels, voting ='soft')\n",
        "vot_soft.fit(tfidf_train_X, tfidf_train_Y)\n",
        "y_pred = vot_soft.predict(tfidf_test_X)\n",
        "  \n",
        "# using accuracy_score\n",
        "score = accuracy_score(tfidf_test_y, y_pred)\n",
        "print(\"Soft Voting Score % d\" % score)"
      ],
      "metadata": {
        "colab": {
          "base_uri": "https://localhost:8080/",
          "height": 445
        },
        "id": "M9oLJMuhVLvh",
        "outputId": "4a5b249d-95ac-4e08-ff10-c2d00a27777b"
      },
      "execution_count": null,
      "outputs": [
        {
          "output_type": "stream",
          "name": "stdout",
          "text": [
            "Hard Voting Score 0.793\n",
            "Recall: 0.678\n",
            "Precision: 0.730\n",
            "F1 Score: 0.703\n"
          ]
        },
        {
          "output_type": "display_data",
          "data": {
            "text/plain": [
              "<Figure size 360x360 with 1 Axes>"
            ],
            "image/png": "[encoded data removed]"
          },
          "metadata": {
            "needs_background": "light"
          }
        },
        {
          "output_type": "stream",
          "name": "stdout",
          "text": [
            "Soft Voting Score  0\n"
          ]
        }
      ]
    },
    {
      "cell_type": "code",
      "source": [
        "\n",
        "'''\n",
        "w2v_train_X, w2v_test_X, w2v_train_Y, w2v_test_y = train_test_split(w2v_df, df['target'], test_size=0.30, random_state=17)\n",
        "'''\n",
        "\n",
        "ensembleModels = []\n",
        "ensembleModels.append(('LR',  LogisticRegression()))\n",
        "ensembleModels.append(('SVM', svm.SVC(kernel='sigmoid',probability = True)))\n",
        "ensembleModels.append(('DT', DecisionTreeClassifier()))\n",
        "  \n",
        "# Voting Classifier with hard voting\n",
        "vot_hard = VotingClassifier(estimators = ensembleModels, voting ='hard')\n",
        "vot_hard.fit(w2v_train_X, w2v_train_Y)\n",
        "y_pred = vot_hard.predict(w2v_test_X)\n",
        "  \n",
        "# using accuracy_score metric to predict accuracy\n",
        "score = accuracy_score(w2v_test_y, y_pred)\n",
        "print(\"Hard Voting Score %.3f\" % score)\n",
        "print('Recall: %.3f' % recall_score(w2v_test_y, pred_y))\n",
        "print('Precision: %.3f' % precision_score(w2v_test_y, pred_y))\n",
        "print('F1 Score: %.3f' % f1_score(w2v_test_y, pred_y))\n",
        "\n",
        "conf_matrix = confusion_matrix(y_true=w2v_test_y, y_pred=pred_y)\n",
        "#\n",
        "# Print the confusion matrix using Matplotlib\n",
        "#\n",
        "fig, ax = plt.subplots(figsize=(5, 5))\n",
        "ax.matshow(conf_matrix, cmap=plt.cm.Oranges, alpha=0.3)\n",
        "for i in range(conf_matrix.shape[0]):\n",
        "    for j in range(conf_matrix.shape[1]):\n",
        "        ax.text(x=j, y=i,s=conf_matrix[i, j], va='center', ha='center', size='xx-large')\n",
        "\n",
        "plt.xlabel('Predictions', fontsize=18)\n",
        "plt.ylabel('Actuals', fontsize=18)\n",
        "plt.title('Confusion Matrix', fontsize=18)\n",
        "plt.show()\n",
        "  \n",
        "# Voting Classifier with soft voting\n",
        "vot_soft = VotingClassifier(estimators = ensembleModels, voting ='soft')\n",
        "vot_soft.fit(w2v_train_X, w2v_train_Y)\n",
        "y_pred = vot_soft.predict(w2v_test_X)\n",
        "  \n",
        "# using accuracy_score\n",
        "score = accuracy_score(w2v_test_y, y_pred)\n",
        "print(\"Soft Voting Score % d\" % score)"
      ],
      "metadata": {
        "colab": {
          "base_uri": "https://localhost:8080/",
          "height": 445
        },
        "id": "waCuyCMZYgLk",
        "outputId": "129f672c-6e1b-49be-f64f-d08abf0aceda"
      },
      "execution_count": null,
      "outputs": [
        {
          "output_type": "stream",
          "name": "stdout",
          "text": [
            "Hard Voting Score 0.666\n",
            "Recall: 0.678\n",
            "Precision: 0.730\n",
            "F1 Score: 0.703\n"
          ]
        },
        {
          "output_type": "display_data",
          "data": {
            "text/plain": [
              "<Figure size 360x360 with 1 Axes>"
            ],
            "image/png": "[encoded data removed]"
          },
          "metadata": {
            "needs_background": "light"
          }
        },
        {
          "output_type": "stream",
          "name": "stdout",
          "text": [
            "Soft Voting Score  0\n"
          ]
        }
      ]
    }
  ]
}